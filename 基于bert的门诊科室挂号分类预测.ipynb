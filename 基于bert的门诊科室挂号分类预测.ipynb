{
  "cells": [
    {
      "cell_type": "markdown",
      "metadata": {
        "id": "view-in-github",
        "colab_type": "text"
      },
      "source": [
        "<a href=\"https://colab.research.google.com/github/bluetinue/Bert_Medical/blob/main/%E5%9F%BA%E4%BA%8Ebert%E7%9A%84%E9%97%A8%E8%AF%8A%E7%A7%91%E5%AE%A4%E6%8C%82%E5%8F%B7%E5%88%86%E7%B1%BB%E9%A2%84%E6%B5%8B.ipynb\" target=\"_parent\"><img src=\"https://colab.research.google.com/assets/colab-badge.svg\" alt=\"Open In Colab\"/></a>"
      ]
    },
    {
      "cell_type": "code",
      "execution_count": null,
      "metadata": {
        "colab": {
          "background_save": true
        },
        "id": "9Qnlr7sOX4cn",
        "outputId": "3e5a7fbe-8d87-4a7b-dc10-8cf087070552"
      },
      "outputs": [
        {
          "ename": "ValueError",
          "evalue": "mount failed",
          "output_type": "error",
          "traceback": [
            "\u001b[0;31m---------------------------------------------------------------------------\u001b[0m",
            "\u001b[0;31mValueError\u001b[0m                                Traceback (most recent call last)",
            "\u001b[0;32m/tmp/ipython-input-3-1225362025.py\u001b[0m in \u001b[0;36m<cell line: 0>\u001b[0;34m()\u001b[0m\n\u001b[1;32m     10\u001b[0m \u001b[0;34m\u001b[0m\u001b[0m\n\u001b[1;32m     11\u001b[0m \u001b[0;32mfrom\u001b[0m \u001b[0mgoogle\u001b[0m\u001b[0;34m.\u001b[0m\u001b[0mcolab\u001b[0m \u001b[0;32mimport\u001b[0m \u001b[0mdrive\u001b[0m\u001b[0;34m\u001b[0m\u001b[0;34m\u001b[0m\u001b[0m\n\u001b[0;32m---> 12\u001b[0;31m \u001b[0mdrive\u001b[0m\u001b[0;34m.\u001b[0m\u001b[0mmount\u001b[0m\u001b[0;34m(\u001b[0m\u001b[0;34m'/content/drive'\u001b[0m\u001b[0;34m)\u001b[0m\u001b[0;34m\u001b[0m\u001b[0;34m\u001b[0m\u001b[0m\n\u001b[0m\u001b[1;32m     13\u001b[0m \u001b[0mget_ipython\u001b[0m\u001b[0;34m(\u001b[0m\u001b[0;34m)\u001b[0m\u001b[0;34m.\u001b[0m\u001b[0mrun_line_magic\u001b[0m\u001b[0;34m(\u001b[0m\u001b[0;34m'cd'\u001b[0m\u001b[0;34m,\u001b[0m \u001b[0;34m'/content/drive/MyDrive/7.25'\u001b[0m\u001b[0;34m)\u001b[0m\u001b[0;34m\u001b[0m\u001b[0;34m\u001b[0m\u001b[0m\n",
            "\u001b[0;32m/usr/local/lib/python3.11/dist-packages/google/colab/drive.py\u001b[0m in \u001b[0;36mmount\u001b[0;34m(mountpoint, force_remount, timeout_ms, readonly)\u001b[0m\n\u001b[1;32m     98\u001b[0m \u001b[0;32mdef\u001b[0m \u001b[0mmount\u001b[0m\u001b[0;34m(\u001b[0m\u001b[0mmountpoint\u001b[0m\u001b[0;34m,\u001b[0m \u001b[0mforce_remount\u001b[0m\u001b[0;34m=\u001b[0m\u001b[0;32mFalse\u001b[0m\u001b[0;34m,\u001b[0m \u001b[0mtimeout_ms\u001b[0m\u001b[0;34m=\u001b[0m\u001b[0;36m120000\u001b[0m\u001b[0;34m,\u001b[0m \u001b[0mreadonly\u001b[0m\u001b[0;34m=\u001b[0m\u001b[0;32mFalse\u001b[0m\u001b[0;34m)\u001b[0m\u001b[0;34m:\u001b[0m\u001b[0;34m\u001b[0m\u001b[0;34m\u001b[0m\u001b[0m\n\u001b[1;32m     99\u001b[0m   \u001b[0;34m\"\"\"Mount your Google Drive at the specified mountpoint path.\"\"\"\u001b[0m\u001b[0;34m\u001b[0m\u001b[0;34m\u001b[0m\u001b[0m\n\u001b[0;32m--> 100\u001b[0;31m   return _mount(\n\u001b[0m\u001b[1;32m    101\u001b[0m       \u001b[0mmountpoint\u001b[0m\u001b[0;34m,\u001b[0m\u001b[0;34m\u001b[0m\u001b[0;34m\u001b[0m\u001b[0m\n\u001b[1;32m    102\u001b[0m       \u001b[0mforce_remount\u001b[0m\u001b[0;34m=\u001b[0m\u001b[0mforce_remount\u001b[0m\u001b[0;34m,\u001b[0m\u001b[0;34m\u001b[0m\u001b[0;34m\u001b[0m\u001b[0m\n",
            "\u001b[0;32m/usr/local/lib/python3.11/dist-packages/google/colab/drive.py\u001b[0m in \u001b[0;36m_mount\u001b[0;34m(mountpoint, force_remount, timeout_ms, ephemeral, readonly)\u001b[0m\n\u001b[1;32m    275\u001b[0m             \u001b[0;34m'https://research.google.com/colaboratory/faq.html#drive-timeout'\u001b[0m\u001b[0;34m\u001b[0m\u001b[0;34m\u001b[0m\u001b[0m\n\u001b[1;32m    276\u001b[0m         )\n\u001b[0;32m--> 277\u001b[0;31m       \u001b[0;32mraise\u001b[0m \u001b[0mValueError\u001b[0m\u001b[0;34m(\u001b[0m\u001b[0;34m'mount failed'\u001b[0m \u001b[0;34m+\u001b[0m \u001b[0mextra_reason\u001b[0m\u001b[0;34m)\u001b[0m\u001b[0;34m\u001b[0m\u001b[0;34m\u001b[0m\u001b[0m\n\u001b[0m\u001b[1;32m    278\u001b[0m     \u001b[0;32melif\u001b[0m \u001b[0mcase\u001b[0m \u001b[0;34m==\u001b[0m \u001b[0;36m4\u001b[0m\u001b[0;34m:\u001b[0m\u001b[0;34m\u001b[0m\u001b[0;34m\u001b[0m\u001b[0m\n\u001b[1;32m    279\u001b[0m       \u001b[0;31m# Terminate the DriveFS binary before killing bash.\u001b[0m\u001b[0;34m\u001b[0m\u001b[0;34m\u001b[0m\u001b[0m\n",
            "\u001b[0;31mValueError\u001b[0m: mount failed"
          ]
        }
      ],
      "source": [
        "#@title 导包\n",
        "import torch\n",
        "import torch.nn as nn\n",
        "from tqdm import tqdm\n",
        "from torch.optim import AdamW\n",
        "from torch.utils.data import DataLoader,Dataset\n",
        "from transformers import BertTokenizer,BertModel, BertConfig\n",
        "from sklearn.metrics import classification_report,f1_score,accuracy_score,recall_score,precision_score\n",
        "import torch\n",
        "\n",
        "from google.colab import drive\n",
        "drive.mount('/content/drive')\n",
        "%cd /content/drive/MyDrive/7.25"
      ]
    },
    {
      "cell_type": "code",
      "execution_count": null,
      "metadata": {
        "id": "zfBPgfojmhyN"
      },
      "outputs": [],
      "source": [
        "import torch\n",
        "import datetime\n",
        "from transformers import BertModel, BertTokenizer, BertConfig\n",
        "\n",
        "# 获取当前日期字符串\n",
        "current_date = datetime.datetime.now().date().strftime(\"%Y%m%d\")\n",
        "\n",
        "class Config(object):\n",
        "    def  __init__(self):\n",
        "        self.model_name = 'bert'\n",
        "        self.train_path = 'train_bert.txt'\n",
        "        self.dev_path = 'val_bert.txt'\n",
        "        self.test_path = 'test_bert.txt'\n",
        "\n",
        "        #类别文档\n",
        "        self.type_path = 'class.txt'\n",
        "        #类别名称\n",
        "        self.type_name = [line.strip() for line in open(self.type_path,encoding='utf-8')]\n",
        "\n",
        "        # 模型训练+预测的时候  训练设备，如果GPU可用，则为cuda，否则为cpu\n",
        "        self.device = torch.device(\"cuda\" if torch.cuda.is_available() else \"cpu\")\n",
        "\n",
        "        self.bert_path = \"/content/drive/MyDrive/bert/bert-base-chinese\"  # 预训练BERT模型的路径\n",
        "        self.bert_model = BertModel.from_pretrained(self.bert_path)  # 加载预训练BERT模型\n",
        "        self.tokenizer = BertTokenizer.from_pretrained(self.bert_path)  # BERT模型的分词器\n",
        "        self.bert_config = BertConfig.from_pretrained(self.bert_path)  # BERT模型的配置\n",
        "\n",
        "        #模型训练参数\n",
        "        self.num_classes = len(self.type_name)\n",
        "        self.max_len = 32\n",
        "        self.batch_size = 128\n",
        "        self.num_epochs = 2\n",
        "        self.learning_rate = 1e-5\n",
        "\n",
        "\n"
      ]
    },
    {
      "cell_type": "code",
      "execution_count": null,
      "metadata": {
        "id": "dKqdds3dmYEb"
      },
      "outputs": [],
      "source": [
        "from tqdm import tqdm\n",
        "import torch\n",
        "from torch.utils.data import Dataset,DataLoader\n",
        "from transformers import BertTokenizer, TextDataset\n",
        "\n",
        "\n",
        "def load_data(path):\n",
        "    \"\"\"\n",
        "    加载数据 数据已经处理好了\n",
        "    :return:\n",
        "    \"\"\"\n",
        "    result = []\n",
        "    with open(path,encoding='utf-8') as f:\n",
        "        for line in tqdm(f,desc='loading data'):\n",
        "            line = line.strip()\n",
        "            if not line:\n",
        "                continue\n",
        "            label,text = line.split('\\t',1)\n",
        "\n",
        "            label = int(label)\n",
        "            result.append((text,label))\n",
        "        return result\n",
        "\n",
        "class textDataset(Dataset):\n",
        "    def __init__(self,data_list):\n",
        "        self.data_list = data_list\n",
        "\n",
        "    def __len__(self):\n",
        "        return len(self.data_list)\n",
        "\n",
        "    def __getitem__(self, index):\n",
        "        text,label = self.data_list[index]\n",
        "        return text,label\n",
        "\n",
        "def data_loader():\n",
        "    #读取原始数据\n",
        "    train_data = load_data(config.train_path)\n",
        "    valid_data = load_data(config.dev_path)\n",
        "    test_data = load_data(config.test_path)\n",
        "\n",
        "    #构建数据集\n",
        "    train_dataset = textDataset(train_data)\n",
        "    valid_dataset = textDataset(valid_data)\n",
        "    test_dataset = textDataset(test_data)\n",
        "\n",
        "    #构建数据加载器\n",
        "    train_data = DataLoader(dataset=train_dataset,batch_size=config.batch_size,shuffle=True,collate_fn=collate_fun)\n",
        "    valid_data = DataLoader(dataset=valid_dataset,batch_size=config.batch_size,shuffle=True,collate_fn=collate_fun)\n",
        "    test_data = DataLoader(dataset=test_dataset,batch_size=config.batch_size,shuffle=True,collate_fn=collate_fun)\n",
        "\n",
        "    return train_data,valid_data,test_data\n",
        "\n",
        "def collate_fun(batch):\n",
        "    texts,labels = zip(*batch)\n",
        "    text_tokens = config.tokenizer.batch_encode_plus(\n",
        "        texts,\n",
        "        truncation=True,\n",
        "        max_length=config.max_len,\n",
        "        padding=\"max_length\",\n",
        "        return_tensors=\"pt\",\n",
        "        return_attention_mask=True\n",
        "    )\n",
        "    input_ids = text_tokens[\"input_ids\"]\n",
        "    attention_mask = text_tokens[\"attention_mask\"]\n",
        "    labels = torch.tensor(labels)\n",
        "    return input_ids,attention_mask,labels\n"
      ]
    },
    {
      "cell_type": "code",
      "execution_count": null,
      "metadata": {
        "id": "FXnC3_pYnyFF"
      },
      "outputs": [],
      "source": [
        "import torch\n",
        "from tqdm import tqdm\n",
        "from sklearn.metrics import classification_report,f1_score,accuracy_score,precision_score,recall_score\n",
        "\n",
        "def vailModel(model,vail_loader,device):\n",
        "    model.eval()\n",
        "    all_preds,all_labels = [],[]\n",
        "    with torch.no_grad():\n",
        "        for i,batch in enumerate(tqdm(vail_loader,desc=\"Vailing\")):\n",
        "            input_ids,attention_mask,labels = batch\n",
        "            input_ids = input_ids.to(device)\n",
        "            attention_mask = attention_mask.to(device)\n",
        "            labels = labels.to(device)\n",
        "\n",
        "            #前向传播\n",
        "            output = model(input_ids,attention_mask)\n",
        "            y_preds = torch.argmax(output,dim=1)\n",
        "\n",
        "            all_preds.extend(y_preds.tolist())\n",
        "            all_labels.extend(labels.tolist())\n",
        "        report = classification_report(all_labels,all_preds)\n",
        "        f1 = f1_score(all_labels,all_preds,average='macro')\n",
        "        acc = accuracy_score(all_labels,all_preds)\n",
        "        pre = precision_score(all_labels,all_preds,average='macro')\n",
        "        recall = recall_score(all_labels,all_preds,average='macro')\n",
        "        return report,f1,acc,pre,recall\n"
      ]
    },
    {
      "cell_type": "code",
      "execution_count": null,
      "metadata": {
        "cellView": "form",
        "id": "m-dn2pnXoEUb"
      },
      "outputs": [],
      "source": [
        "import torch\n",
        "import torch.nn as nn\n",
        "from transformers import BertModel\n",
        "\n",
        "config = Config()\n",
        "#定义bert模型\n",
        "class MyBertClassifier(nn.Module):\n",
        "    def __init__(self):\n",
        "        super().__init__()\n",
        "        self.bert = BertModel.from_pretrained(\"/content/drive/MyDrive/bert/bert-base-chinese\")\n",
        "        #定义全连接层fc,用于分类任务\n",
        "        self.fc = nn.Linear(config.bert_config.hidden_size,config.num_classes)\n",
        "\n",
        "    def forward(self,input_ids,attention_mask):\n",
        "        output = self.bert(input_ids,attention_mask)\n",
        "        logits = self.fc(output.pooler_output)\n",
        "        return logits"
      ]
    },
    {
      "cell_type": "code",
      "execution_count": null,
      "metadata": {
        "id": "wNfen6qIn2py"
      },
      "outputs": [],
      "source": [
        "import torch\n",
        "import torch.nn as nn\n",
        "from torch.optim import AdamW\n",
        "from tqdm import tqdm\n",
        "from sklearn.metrics import f1_score,accuracy_score\n",
        "import pandas as pd\n",
        "\n",
        "import warnings\n",
        "warnings.filterwarnings(\"ignore\")\n",
        "\n",
        "def trainModel():\n",
        "    #准备数据\n",
        "    train_data,valid_data,test_data = data_loader()\n",
        "    #准备模型\n",
        "    model = MyBertClassifier()\n",
        "    model.to(config.device)\n",
        "    #优化器和损失函数\n",
        "    optimizer = AdamW(model.parameters(),lr=config.learning_rate)\n",
        "    loss_fn = nn.CrossEntropyLoss()\n",
        "\n",
        "    #开始训练模型\n",
        "    best_f1 = 0.0\n",
        "    for epoch in range(config.num_epochs):\n",
        "        model.train()\n",
        "        total_loss= 0.0\n",
        "        train_preds,train_labels = [],[]\n",
        "        #定义datafrem存储训练结果\n",
        "        loss_df = pd.DataFrame()\n",
        "        for i,batch in enumerate(tqdm(train_data,desc='training....')):\n",
        "            #将数据移动到设备上\n",
        "            input_ids,attention_mask,labels = batch\n",
        "            input_ids = input_ids.to(config.device)\n",
        "            attention_mask = attention_mask.to(config.device)\n",
        "            labels = labels.to(config.device)\n",
        "\n",
        "            #前向传播\n",
        "            output = model(input_ids,attention_mask)\n",
        "            #计算损失\n",
        "            loss = loss_fn(output,labels)\n",
        "            total_loss += loss.item()\n",
        "            y_pred_list = torch.argmax(output,dim=1)\n",
        "            #存储日志\n",
        "            train_preds.extend(y_pred_list.tolist())\n",
        "            train_labels.extend(labels.tolist())\n",
        "\n",
        "            #梯度清零\n",
        "            optimizer.zero_grad()\n",
        "            #反向传播\n",
        "            loss.backward()\n",
        "            #参数更新\n",
        "            optimizer.step()\n",
        "\n",
        "            #每10批计算训练指标\n",
        "            if (i+1) % 10 == 0:\n",
        "                train_f1 = f1_score(train_labels,train_preds,average='macro')\n",
        "                acc = accuracy_score(train_labels,train_preds)\n",
        "                batch_count = i %10 +1\n",
        "                avg_loss = total_loss / batch_count\n",
        "                #将avg_loss添加到dataframe中\n",
        "                loss_df['batch_loss'] = [avg_loss]\n",
        "                #打印训练日志\n",
        "                print(f\"epoch:{epoch+1},batch:{i+1},loss:{avg_loss:.4f},train_f1:{train_f1:.4f},acc:{acc:.4f}\")\n",
        "                #清空累计损失和真实标签\n",
        "                total_loss = 0.0\n",
        "                train_preds,train_labels = [],[]\n",
        "\n",
        "            #每100个批次，验证模型\n",
        "            if (i+1) % 100 == 0:\n",
        "                report, f1score, accuracy, precision, recall = vailModel(model, valid_data, config.device)\n",
        "                print(\"验证集评估报告：\\n\", report)\n",
        "                print(\n",
        "                    f\"验证集的f1: {f1score:.4f}, accuracy:{accuracy:.4f}, precision:{precision:.4f}, recall:{recall:.4f}\")\n",
        "                # todo 将模型再设置为训练模式\n",
        "                model.train()\n",
        "                # todo 如果验证F1分数优于历史最佳，保存模型\n",
        "                if f1score > best_f1:\n",
        "                    # 更新历史最佳F1分数\n",
        "                    best_f1 = f1score\n",
        "                    # 保存模型\n",
        "                    torch.save(model.state_dict(),\"./model/mymodel.pt\")\n",
        "                    print(\"保存模型成功, 当前f1分数:\", best_f1)\n",
        "\n",
        "        loss_df.to_csv(\"./model/los_log.csv\", index=False)\n",
        "\n"
      ]
    },
    {
      "cell_type": "code",
      "execution_count": null,
      "metadata": {
        "colab": {
          "base_uri": "https://localhost:8080/"
        },
        "id": "mwIZTrUNpH2b",
        "outputId": "76767731-1001-4c5a-b332-031ee29fb8b8"
      },
      "outputs": [
        {
          "name": "stderr",
          "output_type": "stream",
          "text": [
            "loading data: 280682it [00:02, 110471.94it/s]\n",
            "loading data: 15325it [00:00, 23606.93it/s]\n",
            "loading data: 15325it [00:00, 29378.87it/s]\n",
            "training....:   0%|          | 10/2193 [00:06<21:16,  1.71it/s]"
          ]
        },
        {
          "name": "stdout",
          "output_type": "stream",
          "text": [
            "epoch:1,batch:10,loss:2.2524,train_f1:0.0817,acc:0.1133\n"
          ]
        },
        {
          "name": "stderr",
          "output_type": "stream",
          "text": [
            "training....:   1%|          | 20/2193 [00:12<20:52,  1.74it/s]"
          ]
        },
        {
          "name": "stdout",
          "output_type": "stream",
          "text": [
            "epoch:1,batch:20,loss:2.1194,train_f1:0.2056,acc:0.2422\n"
          ]
        },
        {
          "name": "stderr",
          "output_type": "stream",
          "text": [
            "training....:   1%|▏         | 30/2193 [00:17<21:04,  1.71it/s]"
          ]
        },
        {
          "name": "stdout",
          "output_type": "stream",
          "text": [
            "epoch:1,batch:30,loss:1.9939,train_f1:0.3208,acc:0.3508\n"
          ]
        },
        {
          "name": "stderr",
          "output_type": "stream",
          "text": [
            "training....:   2%|▏         | 40/2193 [00:23<20:50,  1.72it/s]"
          ]
        },
        {
          "name": "stdout",
          "output_type": "stream",
          "text": [
            "epoch:1,batch:40,loss:1.8484,train_f1:0.4541,acc:0.4719\n"
          ]
        },
        {
          "name": "stderr",
          "output_type": "stream",
          "text": [
            "training....:   2%|▏         | 50/2193 [00:29<20:58,  1.70it/s]"
          ]
        },
        {
          "name": "stdout",
          "output_type": "stream",
          "text": [
            "epoch:1,batch:50,loss:1.6290,train_f1:0.5745,acc:0.5953\n"
          ]
        },
        {
          "name": "stderr",
          "output_type": "stream",
          "text": [
            "training....:   3%|▎         | 60/2193 [00:35<20:56,  1.70it/s]"
          ]
        },
        {
          "name": "stdout",
          "output_type": "stream",
          "text": [
            "epoch:1,batch:60,loss:1.4242,train_f1:0.6499,acc:0.6539\n"
          ]
        },
        {
          "name": "stderr",
          "output_type": "stream",
          "text": [
            "training....:   3%|▎         | 70/2193 [00:41<20:55,  1.69it/s]"
          ]
        },
        {
          "name": "stdout",
          "output_type": "stream",
          "text": [
            "epoch:1,batch:70,loss:1.2817,train_f1:0.6682,acc:0.6742\n"
          ]
        },
        {
          "name": "stderr",
          "output_type": "stream",
          "text": [
            "training....:   4%|▎         | 80/2193 [00:47<20:57,  1.68it/s]"
          ]
        },
        {
          "name": "stdout",
          "output_type": "stream",
          "text": [
            "epoch:1,batch:80,loss:1.1876,train_f1:0.6744,acc:0.6820\n"
          ]
        },
        {
          "name": "stderr",
          "output_type": "stream",
          "text": [
            "training....:   4%|▍         | 90/2193 [00:53<21:04,  1.66it/s]"
          ]
        },
        {
          "name": "stdout",
          "output_type": "stream",
          "text": [
            "epoch:1,batch:90,loss:1.0568,train_f1:0.7025,acc:0.7078\n"
          ]
        },
        {
          "name": "stderr",
          "output_type": "stream",
          "text": [
            "training....:   5%|▍         | 99/2193 [00:58<21:06,  1.65it/s]"
          ]
        },
        {
          "name": "stdout",
          "output_type": "stream",
          "text": [
            "epoch:1,batch:100,loss:1.0592,train_f1:0.6923,acc:0.6961\n"
          ]
        },
        {
          "name": "stderr",
          "output_type": "stream",
          "text": [
            "\n",
            "Vailing:   0%|          | 0/120 [00:00<?, ?it/s]\u001b[A\n",
            "Vailing:   1%|          | 1/120 [00:00<01:06,  1.79it/s]\u001b[A\n",
            "Vailing:   2%|▏         | 2/120 [00:00<00:43,  2.68it/s]\u001b[A\n",
            "Vailing:   2%|▎         | 3/120 [00:01<00:36,  3.23it/s]\u001b[A\n",
            "Vailing:   3%|▎         | 4/120 [00:01<00:32,  3.54it/s]\u001b[A\n",
            "Vailing:   4%|▍         | 5/120 [00:01<00:30,  3.75it/s]\u001b[A\n",
            "Vailing:   5%|▌         | 6/120 [00:01<00:29,  3.88it/s]\u001b[A\n",
            "Vailing:   6%|▌         | 7/120 [00:01<00:28,  3.96it/s]\u001b[A\n",
            "Vailing:   7%|▋         | 8/120 [00:02<00:27,  4.04it/s]\u001b[A\n",
            "Vailing:   8%|▊         | 9/120 [00:02<00:27,  4.06it/s]\u001b[A\n",
            "Vailing:   8%|▊         | 10/120 [00:02<00:26,  4.11it/s]\u001b[A\n",
            "Vailing:   9%|▉         | 11/120 [00:02<00:26,  4.12it/s]\u001b[A\n",
            "Vailing:  10%|█         | 12/120 [00:03<00:26,  4.10it/s]\u001b[A\n",
            "Vailing:  11%|█         | 13/120 [00:03<00:26,  4.07it/s]\u001b[A\n",
            "Vailing:  12%|█▏        | 14/120 [00:03<00:25,  4.11it/s]\u001b[A\n",
            "Vailing:  12%|█▎        | 15/120 [00:03<00:25,  4.12it/s]\u001b[A\n",
            "Vailing:  13%|█▎        | 16/120 [00:04<00:25,  4.13it/s]\u001b[A\n",
            "Vailing:  14%|█▍        | 17/120 [00:04<00:24,  4.16it/s]\u001b[A\n",
            "Vailing:  15%|█▌        | 18/120 [00:04<00:24,  4.15it/s]\u001b[A\n",
            "Vailing:  16%|█▌        | 19/120 [00:04<00:24,  4.15it/s]\u001b[A\n",
            "Vailing:  17%|█▋        | 20/120 [00:05<00:23,  4.18it/s]\u001b[A\n",
            "Vailing:  18%|█▊        | 21/120 [00:05<00:23,  4.19it/s]\u001b[A\n",
            "Vailing:  18%|█▊        | 22/120 [00:05<00:23,  4.21it/s]\u001b[A\n",
            "Vailing:  19%|█▉        | 23/120 [00:05<00:23,  4.19it/s]\u001b[A\n",
            "Vailing:  20%|██        | 24/120 [00:06<00:22,  4.20it/s]\u001b[A\n",
            "Vailing:  21%|██        | 25/120 [00:06<00:22,  4.20it/s]\u001b[A\n",
            "Vailing:  22%|██▏       | 26/120 [00:06<00:22,  4.10it/s]\u001b[A\n",
            "Vailing:  22%|██▎       | 27/120 [00:06<00:22,  4.11it/s]\u001b[A\n",
            "Vailing:  23%|██▎       | 28/120 [00:07<00:22,  4.13it/s]\u001b[A\n",
            "Vailing:  24%|██▍       | 29/120 [00:07<00:22,  4.13it/s]\u001b[A\n",
            "Vailing:  25%|██▌       | 30/120 [00:07<00:21,  4.12it/s]\u001b[A\n",
            "Vailing:  26%|██▌       | 31/120 [00:07<00:21,  4.13it/s]\u001b[A\n",
            "Vailing:  27%|██▋       | 32/120 [00:08<00:21,  4.14it/s]\u001b[A\n",
            "Vailing:  28%|██▊       | 33/120 [00:08<00:21,  4.12it/s]\u001b[A\n",
            "Vailing:  28%|██▊       | 34/120 [00:08<00:20,  4.14it/s]\u001b[A\n",
            "Vailing:  29%|██▉       | 35/120 [00:08<00:19,  4.25it/s]\u001b[A\n",
            "Vailing:  30%|███       | 36/120 [00:08<00:20,  4.17it/s]\u001b[A\n",
            "Vailing:  31%|███       | 37/120 [00:09<00:19,  4.17it/s]\u001b[A\n",
            "Vailing:  32%|███▏      | 38/120 [00:09<00:19,  4.16it/s]\u001b[A\n",
            "Vailing:  32%|███▎      | 39/120 [00:09<00:19,  4.08it/s]\u001b[A\n",
            "Vailing:  33%|███▎      | 40/120 [00:09<00:19,  4.09it/s]\u001b[A\n",
            "Vailing:  34%|███▍      | 41/120 [00:10<00:19,  4.12it/s]\u001b[A\n",
            "Vailing:  35%|███▌      | 42/120 [00:10<00:20,  3.83it/s]\u001b[A\n",
            "Vailing:  36%|███▌      | 43/120 [00:10<00:21,  3.63it/s]\u001b[A\n",
            "Vailing:  37%|███▋      | 44/120 [00:11<00:21,  3.59it/s]\u001b[A\n",
            "Vailing:  38%|███▊      | 45/120 [00:11<00:21,  3.51it/s]\u001b[A\n",
            "Vailing:  38%|███▊      | 46/120 [00:11<00:21,  3.49it/s]\u001b[A\n",
            "Vailing:  39%|███▉      | 47/120 [00:11<00:20,  3.48it/s]\u001b[A\n",
            "Vailing:  40%|████      | 48/120 [00:12<00:20,  3.47it/s]\u001b[A\n",
            "Vailing:  41%|████      | 49/120 [00:12<00:20,  3.50it/s]\u001b[A\n",
            "Vailing:  42%|████▏     | 50/120 [00:12<00:20,  3.41it/s]\u001b[A\n",
            "Vailing:  42%|████▎     | 51/120 [00:13<00:20,  3.44it/s]\u001b[A\n",
            "Vailing:  43%|████▎     | 52/120 [00:13<00:18,  3.62it/s]\u001b[A\n",
            "Vailing:  44%|████▍     | 53/120 [00:13<00:17,  3.74it/s]\u001b[A\n",
            "Vailing:  45%|████▌     | 54/120 [00:13<00:17,  3.84it/s]\u001b[A\n",
            "Vailing:  46%|████▌     | 55/120 [00:14<00:16,  3.94it/s]\u001b[A\n",
            "Vailing:  47%|████▋     | 56/120 [00:14<00:16,  3.99it/s]\u001b[A\n",
            "Vailing:  48%|████▊     | 57/120 [00:14<00:15,  4.01it/s]\u001b[A\n",
            "Vailing:  48%|████▊     | 58/120 [00:14<00:15,  4.04it/s]\u001b[A\n",
            "Vailing:  49%|████▉     | 59/120 [00:15<00:14,  4.07it/s]\u001b[A\n",
            "Vailing:  50%|█████     | 60/120 [00:15<00:14,  4.08it/s]\u001b[A\n",
            "Vailing:  51%|█████     | 61/120 [00:15<00:14,  4.09it/s]\u001b[A\n",
            "Vailing:  52%|█████▏    | 62/120 [00:15<00:14,  4.12it/s]\u001b[A\n",
            "Vailing:  52%|█████▎    | 63/120 [00:16<00:13,  4.09it/s]\u001b[A\n",
            "Vailing:  53%|█████▎    | 64/120 [00:16<00:13,  4.10it/s]\u001b[A\n",
            "Vailing:  54%|█████▍    | 65/120 [00:16<00:13,  4.08it/s]\u001b[A\n",
            "Vailing:  55%|█████▌    | 66/120 [00:16<00:13,  4.11it/s]\u001b[A\n",
            "Vailing:  56%|█████▌    | 67/120 [00:17<00:13,  4.07it/s]\u001b[A\n",
            "Vailing:  57%|█████▋    | 68/120 [00:17<00:12,  4.07it/s]\u001b[A\n",
            "Vailing:  57%|█████▊    | 69/120 [00:17<00:12,  4.12it/s]\u001b[A\n",
            "Vailing:  58%|█████▊    | 70/120 [00:17<00:12,  4.12it/s]\u001b[A\n",
            "Vailing:  59%|█████▉    | 71/120 [00:18<00:12,  4.05it/s]\u001b[A\n",
            "Vailing:  60%|██████    | 72/120 [00:18<00:11,  4.07it/s]\u001b[A\n",
            "Vailing:  61%|██████    | 73/120 [00:18<00:11,  4.08it/s]\u001b[A\n",
            "Vailing:  62%|██████▏   | 74/120 [00:18<00:11,  4.05it/s]\u001b[A\n",
            "Vailing:  62%|██████▎   | 75/120 [00:19<00:11,  4.05it/s]\u001b[A\n",
            "Vailing:  63%|██████▎   | 76/120 [00:19<00:10,  4.05it/s]\u001b[A\n",
            "Vailing:  64%|██████▍   | 77/120 [00:19<00:10,  4.07it/s]\u001b[A\n",
            "Vailing:  65%|██████▌   | 78/120 [00:19<00:10,  4.10it/s]\u001b[A\n",
            "Vailing:  66%|██████▌   | 79/120 [00:19<00:10,  4.06it/s]\u001b[A\n",
            "Vailing:  67%|██████▋   | 80/120 [00:20<00:09,  4.05it/s]\u001b[A\n",
            "Vailing:  68%|██████▊   | 81/120 [00:20<00:09,  4.07it/s]\u001b[A\n",
            "Vailing:  68%|██████▊   | 82/120 [00:20<00:09,  4.08it/s]\u001b[A\n",
            "Vailing:  69%|██████▉   | 83/120 [00:20<00:09,  4.10it/s]\u001b[A\n",
            "Vailing:  70%|███████   | 84/120 [00:21<00:08,  4.08it/s]\u001b[A\n",
            "Vailing:  71%|███████   | 85/120 [00:21<00:08,  4.09it/s]\u001b[A\n",
            "Vailing:  72%|███████▏  | 86/120 [00:21<00:08,  4.07it/s]\u001b[A\n",
            "Vailing:  72%|███████▎  | 87/120 [00:21<00:08,  4.08it/s]\u001b[A\n",
            "Vailing:  73%|███████▎  | 88/120 [00:22<00:07,  4.02it/s]\u001b[A\n",
            "Vailing:  74%|███████▍  | 89/120 [00:22<00:07,  4.03it/s]\u001b[A\n",
            "Vailing:  75%|███████▌  | 90/120 [00:22<00:07,  4.04it/s]\u001b[A\n",
            "Vailing:  76%|███████▌  | 91/120 [00:22<00:07,  4.00it/s]\u001b[A\n",
            "Vailing:  77%|███████▋  | 92/120 [00:23<00:07,  3.84it/s]\u001b[A\n",
            "Vailing:  78%|███████▊  | 93/120 [00:23<00:07,  3.68it/s]\u001b[A\n",
            "Vailing:  78%|███████▊  | 94/120 [00:23<00:07,  3.59it/s]\u001b[A\n",
            "Vailing:  79%|███████▉  | 95/120 [00:24<00:07,  3.57it/s]\u001b[A\n",
            "Vailing:  80%|████████  | 96/120 [00:24<00:06,  3.54it/s]\u001b[A\n",
            "Vailing:  81%|████████  | 97/120 [00:24<00:06,  3.52it/s]\u001b[A\n",
            "Vailing:  82%|████████▏ | 98/120 [00:24<00:06,  3.52it/s]\u001b[A\n",
            "Vailing:  82%|████████▎ | 99/120 [00:25<00:06,  3.50it/s]\u001b[A\n",
            "Vailing:  83%|████████▎ | 100/120 [00:25<00:05,  3.45it/s]\u001b[A\n",
            "Vailing:  84%|████████▍ | 101/120 [00:25<00:05,  3.46it/s]\u001b[A\n",
            "Vailing:  85%|████████▌ | 102/120 [00:26<00:05,  3.46it/s]\u001b[A\n",
            "Vailing:  86%|████████▌ | 103/120 [00:26<00:04,  3.59it/s]\u001b[A\n",
            "Vailing:  87%|████████▋ | 104/120 [00:26<00:04,  3.72it/s]\u001b[A\n",
            "Vailing:  88%|████████▊ | 105/120 [00:26<00:03,  3.83it/s]\u001b[A\n",
            "Vailing:  88%|████████▊ | 106/120 [00:27<00:03,  3.91it/s]\u001b[A\n",
            "Vailing:  89%|████████▉ | 107/120 [00:27<00:03,  3.89it/s]\u001b[A\n",
            "Vailing:  90%|█████████ | 108/120 [00:27<00:03,  3.94it/s]\u001b[A\n",
            "Vailing:  91%|█████████ | 109/120 [00:27<00:02,  3.97it/s]\u001b[A\n",
            "Vailing:  92%|█████████▏| 110/120 [00:28<00:02,  4.02it/s]\u001b[A\n",
            "Vailing:  92%|█████████▎| 111/120 [00:28<00:02,  4.03it/s]\u001b[A\n",
            "Vailing:  93%|█████████▎| 112/120 [00:28<00:01,  4.04it/s]\u001b[A\n",
            "Vailing:  94%|█████████▍| 113/120 [00:28<00:01,  4.01it/s]\u001b[A\n",
            "Vailing:  95%|█████████▌| 114/120 [00:29<00:01,  4.03it/s]\u001b[A\n",
            "Vailing:  96%|█████████▌| 115/120 [00:29<00:01,  4.03it/s]\u001b[A\n",
            "Vailing:  97%|█████████▋| 116/120 [00:29<00:00,  4.05it/s]\u001b[A\n",
            "Vailing:  98%|█████████▊| 117/120 [00:29<00:00,  4.06it/s]\u001b[A\n",
            "Vailing:  98%|█████████▊| 118/120 [00:30<00:00,  4.05it/s]\u001b[A\n",
            "Vailing:  99%|█████████▉| 119/120 [00:30<00:00,  4.04it/s]\u001b[A\n",
            "Vailing: 100%|██████████| 120/120 [00:30<00:00,  3.93it/s]\n"
          ]
        },
        {
          "name": "stdout",
          "output_type": "stream",
          "text": [
            "验证集评估报告：\n",
            "               precision    recall  f1-score   support\n",
            "\n",
            "           0       0.41      0.45      0.43       700\n",
            "           1       0.48      0.66      0.55       701\n",
            "           2       0.85      0.80      0.83      3793\n",
            "           3       0.71      0.69      0.70      1574\n",
            "           4       0.82      0.80      0.81      1593\n",
            "           5       0.81      0.84      0.83      1940\n",
            "           6       0.78      0.69      0.73      1695\n",
            "           7       0.72      0.77      0.75      1002\n",
            "           8       0.82      0.83      0.82      2327\n",
            "\n",
            "    accuracy                           0.76     15325\n",
            "   macro avg       0.71      0.73      0.72     15325\n",
            "weighted avg       0.77      0.76      0.77     15325\n",
            "\n",
            "验证集的f1: 0.7167, accuracy:0.7627, precision:0.7116, recall:0.7263\n"
          ]
        },
        {
          "name": "stderr",
          "output_type": "stream",
          "text": [
            "\rtraining....:   5%|▍         | 100/2193 [01:38<7:15:30, 12.48s/it]"
          ]
        },
        {
          "name": "stdout",
          "output_type": "stream",
          "text": [
            "保存模型成功, 当前f1分数: 0.7166865260878341\n"
          ]
        },
        {
          "name": "stderr",
          "output_type": "stream",
          "text": [
            "training....:   5%|▌         | 110/2193 [01:44<32:55,  1.05it/s]"
          ]
        },
        {
          "name": "stdout",
          "output_type": "stream",
          "text": [
            "epoch:1,batch:110,loss:1.0344,train_f1:0.7102,acc:0.7094\n"
          ]
        },
        {
          "name": "stderr",
          "output_type": "stream",
          "text": [
            "training....:   5%|▌         | 120/2193 [01:51<21:37,  1.60it/s]"
          ]
        },
        {
          "name": "stdout",
          "output_type": "stream",
          "text": [
            "epoch:1,batch:120,loss:0.9279,train_f1:0.7282,acc:0.7320\n"
          ]
        },
        {
          "name": "stderr",
          "output_type": "stream",
          "text": [
            "training....:   6%|▌         | 130/2193 [01:57<21:27,  1.60it/s]"
          ]
        },
        {
          "name": "stdout",
          "output_type": "stream",
          "text": [
            "epoch:1,batch:130,loss:0.9571,train_f1:0.7059,acc:0.7125\n"
          ]
        },
        {
          "name": "stderr",
          "output_type": "stream",
          "text": [
            "training....:   6%|▋         | 140/2193 [02:03<21:29,  1.59it/s]"
          ]
        },
        {
          "name": "stdout",
          "output_type": "stream",
          "text": [
            "epoch:1,batch:140,loss:0.9137,train_f1:0.7238,acc:0.7289\n"
          ]
        },
        {
          "name": "stderr",
          "output_type": "stream",
          "text": [
            "training....:   7%|▋         | 150/2193 [02:09<21:10,  1.61it/s]"
          ]
        },
        {
          "name": "stdout",
          "output_type": "stream",
          "text": [
            "epoch:1,batch:150,loss:0.9130,train_f1:0.7357,acc:0.7383\n"
          ]
        },
        {
          "name": "stderr",
          "output_type": "stream",
          "text": [
            "training....:   7%|▋         | 160/2193 [02:15<20:58,  1.62it/s]"
          ]
        },
        {
          "name": "stdout",
          "output_type": "stream",
          "text": [
            "epoch:1,batch:160,loss:0.9114,train_f1:0.7102,acc:0.7188\n"
          ]
        },
        {
          "name": "stderr",
          "output_type": "stream",
          "text": [
            "training....:   8%|▊         | 170/2193 [02:22<20:45,  1.62it/s]"
          ]
        },
        {
          "name": "stdout",
          "output_type": "stream",
          "text": [
            "epoch:1,batch:170,loss:0.9411,train_f1:0.7072,acc:0.7070\n"
          ]
        },
        {
          "name": "stderr",
          "output_type": "stream",
          "text": [
            "training....:   8%|▊         | 180/2193 [02:28<20:41,  1.62it/s]"
          ]
        },
        {
          "name": "stdout",
          "output_type": "stream",
          "text": [
            "epoch:1,batch:180,loss:0.8976,train_f1:0.7214,acc:0.7258\n"
          ]
        },
        {
          "name": "stderr",
          "output_type": "stream",
          "text": [
            "training....:   9%|▊         | 190/2193 [02:34<20:29,  1.63it/s]"
          ]
        },
        {
          "name": "stdout",
          "output_type": "stream",
          "text": [
            "epoch:1,batch:190,loss:0.8436,train_f1:0.7416,acc:0.7500\n"
          ]
        },
        {
          "name": "stderr",
          "output_type": "stream",
          "text": [
            "training....:   9%|▉         | 199/2193 [02:39<20:19,  1.63it/s]"
          ]
        },
        {
          "name": "stdout",
          "output_type": "stream",
          "text": [
            "epoch:1,batch:200,loss:0.8811,train_f1:0.7360,acc:0.7398\n"
          ]
        },
        {
          "name": "stderr",
          "output_type": "stream",
          "text": [
            "\n",
            "Vailing:   0%|          | 0/120 [00:00<?, ?it/s]\u001b[A\n",
            "Vailing:   1%|          | 1/120 [00:00<01:05,  1.81it/s]\u001b[A\n",
            "Vailing:   2%|▏         | 2/120 [00:00<00:47,  2.47it/s]\u001b[A\n",
            "Vailing:   2%|▎         | 3/120 [00:01<00:41,  2.84it/s]\u001b[A\n",
            "Vailing:   3%|▎         | 4/120 [00:01<00:38,  3.01it/s]\u001b[A\n",
            "Vailing:   4%|▍         | 5/120 [00:01<00:36,  3.17it/s]\u001b[A\n",
            "Vailing:   5%|▌         | 6/120 [00:02<00:34,  3.26it/s]\u001b[A\n",
            "Vailing:   6%|▌         | 7/120 [00:02<00:34,  3.30it/s]\u001b[A\n",
            "Vailing:   7%|▋         | 8/120 [00:02<00:33,  3.31it/s]\u001b[A\n",
            "Vailing:   8%|▊         | 9/120 [00:02<00:31,  3.53it/s]\u001b[A\n",
            "Vailing:   8%|▊         | 10/120 [00:03<00:29,  3.70it/s]\u001b[A\n",
            "Vailing:   9%|▉         | 11/120 [00:03<00:29,  3.75it/s]\u001b[A\n",
            "Vailing:  10%|█         | 12/120 [00:03<00:27,  3.87it/s]\u001b[A\n",
            "Vailing:  11%|█         | 13/120 [00:03<00:26,  3.97it/s]\u001b[A\n",
            "Vailing:  12%|█▏        | 14/120 [00:04<00:26,  4.01it/s]\u001b[A\n",
            "Vailing:  12%|█▎        | 15/120 [00:04<00:26,  4.03it/s]\u001b[A\n",
            "Vailing:  13%|█▎        | 16/120 [00:04<00:25,  4.06it/s]\u001b[A\n",
            "Vailing:  14%|█▍        | 17/120 [00:04<00:25,  4.09it/s]\u001b[A\n",
            "Vailing:  15%|█▌        | 18/120 [00:05<00:24,  4.09it/s]\u001b[A\n",
            "Vailing:  16%|█▌        | 19/120 [00:05<00:24,  4.10it/s]\u001b[A\n",
            "Vailing:  17%|█▋        | 20/120 [00:05<00:24,  4.09it/s]\u001b[A\n",
            "Vailing:  18%|█▊        | 21/120 [00:05<00:24,  4.12it/s]\u001b[A\n",
            "Vailing:  18%|█▊        | 22/120 [00:06<00:23,  4.10it/s]\u001b[A\n",
            "Vailing:  19%|█▉        | 23/120 [00:06<00:23,  4.11it/s]\u001b[A\n",
            "Vailing:  20%|██        | 24/120 [00:06<00:23,  4.13it/s]\u001b[A\n",
            "Vailing:  21%|██        | 25/120 [00:06<00:23,  4.12it/s]\u001b[A\n",
            "Vailing:  22%|██▏       | 26/120 [00:06<00:22,  4.10it/s]\u001b[A\n",
            "Vailing:  22%|██▎       | 27/120 [00:07<00:22,  4.08it/s]\u001b[A\n",
            "Vailing:  23%|██▎       | 28/120 [00:07<00:22,  4.02it/s]\u001b[A\n",
            "Vailing:  24%|██▍       | 29/120 [00:07<00:22,  4.07it/s]\u001b[A\n",
            "Vailing:  25%|██▌       | 30/120 [00:07<00:22,  4.07it/s]\u001b[A\n",
            "Vailing:  26%|██▌       | 31/120 [00:08<00:21,  4.09it/s]\u001b[A\n",
            "Vailing:  27%|██▋       | 32/120 [00:08<00:21,  4.02it/s]\u001b[A\n",
            "Vailing:  28%|██▊       | 33/120 [00:08<00:21,  4.04it/s]\u001b[A\n",
            "Vailing:  28%|██▊       | 34/120 [00:08<00:21,  4.08it/s]\u001b[A\n",
            "Vailing:  29%|██▉       | 35/120 [00:09<00:20,  4.09it/s]\u001b[A\n",
            "Vailing:  30%|███       | 36/120 [00:09<00:20,  4.12it/s]\u001b[A\n",
            "Vailing:  31%|███       | 37/120 [00:09<00:20,  4.14it/s]\u001b[A\n",
            "Vailing:  32%|███▏      | 38/120 [00:09<00:19,  4.15it/s]\u001b[A\n",
            "Vailing:  32%|███▎      | 39/120 [00:10<00:19,  4.13it/s]\u001b[A\n",
            "Vailing:  33%|███▎      | 40/120 [00:10<00:19,  4.14it/s]\u001b[A\n",
            "Vailing:  34%|███▍      | 41/120 [00:10<00:18,  4.16it/s]\u001b[A\n",
            "Vailing:  35%|███▌      | 42/120 [00:10<00:18,  4.17it/s]\u001b[A\n",
            "Vailing:  36%|███▌      | 43/120 [00:11<00:18,  4.17it/s]\u001b[A\n",
            "Vailing:  37%|███▋      | 44/120 [00:11<00:18,  4.20it/s]\u001b[A\n",
            "Vailing:  38%|███▊      | 45/120 [00:11<00:18,  4.12it/s]\u001b[A\n",
            "Vailing:  38%|███▊      | 46/120 [00:11<00:17,  4.14it/s]\u001b[A\n",
            "Vailing:  39%|███▉      | 47/120 [00:12<00:17,  4.15it/s]\u001b[A\n",
            "Vailing:  40%|████      | 48/120 [00:12<00:17,  4.13it/s]\u001b[A\n",
            "Vailing:  41%|████      | 49/120 [00:12<00:17,  4.12it/s]\u001b[A\n",
            "Vailing:  42%|████▏     | 50/120 [00:12<00:17,  3.93it/s]\u001b[A\n",
            "Vailing:  42%|████▎     | 51/120 [00:13<00:18,  3.72it/s]\u001b[A\n",
            "Vailing:  43%|████▎     | 52/120 [00:13<00:18,  3.66it/s]\u001b[A\n",
            "Vailing:  44%|████▍     | 53/120 [00:13<00:18,  3.61it/s]\u001b[A\n",
            "Vailing:  45%|████▌     | 54/120 [00:14<00:18,  3.55it/s]\u001b[A\n",
            "Vailing:  46%|████▌     | 55/120 [00:14<00:18,  3.51it/s]\u001b[A\n",
            "Vailing:  47%|████▋     | 56/120 [00:14<00:18,  3.50it/s]\u001b[A\n",
            "Vailing:  48%|████▊     | 57/120 [00:14<00:17,  3.51it/s]\u001b[A\n",
            "Vailing:  48%|████▊     | 58/120 [00:15<00:17,  3.48it/s]\u001b[A\n",
            "Vailing:  49%|████▉     | 59/120 [00:15<00:17,  3.47it/s]\u001b[A\n",
            "Vailing:  50%|█████     | 60/120 [00:15<00:16,  3.65it/s]\u001b[A\n",
            "Vailing:  51%|█████     | 61/120 [00:15<00:15,  3.79it/s]\u001b[A\n",
            "Vailing:  52%|█████▏    | 62/120 [00:16<00:15,  3.86it/s]\u001b[A\n",
            "Vailing:  52%|█████▎    | 63/120 [00:16<00:14,  3.93it/s]\u001b[A\n",
            "Vailing:  53%|█████▎    | 64/120 [00:16<00:14,  3.98it/s]\u001b[A\n",
            "Vailing:  54%|█████▍    | 65/120 [00:16<00:13,  4.04it/s]\u001b[A\n",
            "Vailing:  55%|█████▌    | 66/120 [00:17<00:13,  4.06it/s]\u001b[A\n",
            "Vailing:  56%|█████▌    | 67/120 [00:17<00:13,  4.06it/s]\u001b[A\n",
            "Vailing:  57%|█████▋    | 68/120 [00:17<00:12,  4.10it/s]\u001b[A\n",
            "Vailing:  57%|█████▊    | 69/120 [00:17<00:12,  4.13it/s]\u001b[A\n",
            "Vailing:  58%|█████▊    | 70/120 [00:18<00:12,  4.14it/s]\u001b[A\n",
            "Vailing:  59%|█████▉    | 71/120 [00:18<00:12,  4.06it/s]\u001b[A\n",
            "Vailing:  60%|██████    | 72/120 [00:18<00:11,  4.09it/s]\u001b[A\n",
            "Vailing:  61%|██████    | 73/120 [00:18<00:11,  4.03it/s]\u001b[A\n",
            "Vailing:  62%|██████▏   | 74/120 [00:19<00:11,  4.03it/s]\u001b[A\n",
            "Vailing:  62%|██████▎   | 75/120 [00:19<00:11,  4.05it/s]\u001b[A\n",
            "Vailing:  63%|██████▎   | 76/120 [00:19<00:10,  4.05it/s]\u001b[A\n",
            "Vailing:  64%|██████▍   | 77/120 [00:19<00:10,  4.07it/s]\u001b[A\n",
            "Vailing:  65%|██████▌   | 78/120 [00:20<00:10,  4.07it/s]\u001b[A\n",
            "Vailing:  66%|██████▌   | 79/120 [00:20<00:10,  4.08it/s]\u001b[A\n",
            "Vailing:  67%|██████▋   | 80/120 [00:20<00:09,  4.06it/s]\u001b[A\n",
            "Vailing:  68%|██████▊   | 81/120 [00:20<00:09,  4.07it/s]\u001b[A\n",
            "Vailing:  68%|██████▊   | 82/120 [00:21<00:09,  4.08it/s]\u001b[A\n",
            "Vailing:  69%|██████▉   | 83/120 [00:21<00:09,  4.10it/s]\u001b[A\n",
            "Vailing:  70%|███████   | 84/120 [00:21<00:08,  4.11it/s]\u001b[A\n",
            "Vailing:  71%|███████   | 85/120 [00:21<00:08,  4.13it/s]\u001b[A\n",
            "Vailing:  72%|███████▏  | 86/120 [00:22<00:08,  4.14it/s]\u001b[A\n",
            "Vailing:  72%|███████▎  | 87/120 [00:22<00:08,  4.11it/s]\u001b[A\n",
            "Vailing:  73%|███████▎  | 88/120 [00:22<00:07,  4.11it/s]\u001b[A\n",
            "Vailing:  74%|███████▍  | 89/120 [00:22<00:07,  4.09it/s]\u001b[A\n",
            "Vailing:  75%|███████▌  | 90/120 [00:23<00:07,  4.06it/s]\u001b[A\n",
            "Vailing:  76%|███████▌  | 91/120 [00:23<00:07,  4.07it/s]\u001b[A\n",
            "Vailing:  77%|███████▋  | 92/120 [00:23<00:06,  4.11it/s]\u001b[A\n",
            "Vailing:  78%|███████▊  | 93/120 [00:23<00:06,  4.11it/s]\u001b[A\n",
            "Vailing:  78%|███████▊  | 94/120 [00:24<00:06,  4.09it/s]\u001b[A\n",
            "Vailing:  79%|███████▉  | 95/120 [00:24<00:06,  4.07it/s]\u001b[A\n",
            "Vailing:  80%|████████  | 96/120 [00:24<00:05,  4.08it/s]\u001b[A\n",
            "Vailing:  81%|████████  | 97/120 [00:24<00:05,  4.11it/s]\u001b[A\n",
            "Vailing:  82%|████████▏ | 98/120 [00:25<00:05,  4.11it/s]\u001b[A\n",
            "Vailing:  82%|████████▎ | 99/120 [00:25<00:05,  4.06it/s]\u001b[A\n",
            "Vailing:  83%|████████▎ | 100/120 [00:25<00:04,  4.12it/s]\u001b[A\n",
            "Vailing:  84%|████████▍ | 101/120 [00:25<00:04,  3.91it/s]\u001b[A\n",
            "Vailing:  85%|████████▌ | 102/120 [00:26<00:04,  3.73it/s]\u001b[A\n",
            "Vailing:  86%|████████▌ | 103/120 [00:26<00:04,  3.67it/s]\u001b[A\n",
            "Vailing:  87%|████████▋ | 104/120 [00:26<00:04,  3.60it/s]\u001b[A\n",
            "Vailing:  88%|████████▊ | 105/120 [00:26<00:04,  3.52it/s]\u001b[A\n",
            "Vailing:  88%|████████▊ | 106/120 [00:27<00:04,  3.44it/s]\u001b[A\n",
            "Vailing:  89%|████████▉ | 107/120 [00:27<00:03,  3.40it/s]\u001b[A\n",
            "Vailing:  90%|█████████ | 108/120 [00:27<00:03,  3.41it/s]\u001b[A\n",
            "Vailing:  91%|█████████ | 109/120 [00:28<00:03,  3.39it/s]\u001b[A\n",
            "Vailing:  92%|█████████▏| 110/120 [00:28<00:02,  3.38it/s]\u001b[A\n",
            "Vailing:  92%|█████████▎| 111/120 [00:28<00:02,  3.57it/s]\u001b[A\n",
            "Vailing:  93%|█████████▎| 112/120 [00:28<00:02,  3.72it/s]\u001b[A\n",
            "Vailing:  94%|█████████▍| 113/120 [00:29<00:01,  3.83it/s]\u001b[A\n",
            "Vailing:  95%|█████████▌| 114/120 [00:29<00:01,  3.90it/s]\u001b[A\n",
            "Vailing:  96%|█████████▌| 115/120 [00:29<00:01,  3.97it/s]\u001b[A\n",
            "Vailing:  97%|█████████▋| 116/120 [00:29<00:00,  4.02it/s]\u001b[A\n",
            "Vailing:  98%|█████████▊| 117/120 [00:30<00:00,  4.05it/s]\u001b[A\n",
            "Vailing:  98%|█████████▊| 118/120 [00:30<00:00,  4.00it/s]\u001b[A\n",
            "Vailing:  99%|█████████▉| 119/120 [00:30<00:00,  4.02it/s]\u001b[A\n",
            "Vailing: 100%|██████████| 120/120 [00:30<00:00,  3.89it/s]\n"
          ]
        },
        {
          "name": "stdout",
          "output_type": "stream",
          "text": [
            "验证集评估报告：\n",
            "               precision    recall  f1-score   support\n",
            "\n",
            "           0       0.36      0.56      0.44       700\n",
            "           1       0.61      0.67      0.64       701\n",
            "           2       0.89      0.81      0.85      3793\n",
            "           3       0.83      0.68      0.75      1574\n",
            "           4       0.76      0.85      0.80      1593\n",
            "           5       0.82      0.85      0.83      1940\n",
            "           6       0.82      0.69      0.75      1695\n",
            "           7       0.68      0.80      0.73      1002\n",
            "           8       0.83      0.83      0.83      2327\n",
            "\n",
            "    accuracy                           0.78     15325\n",
            "   macro avg       0.73      0.75      0.74     15325\n",
            "weighted avg       0.79      0.78      0.78     15325\n",
            "\n",
            "验证集的f1: 0.7359, accuracy:0.7773, precision:0.7334, recall:0.7481\n"
          ]
        },
        {
          "name": "stderr",
          "output_type": "stream",
          "text": [
            "\rtraining....:   9%|▉         | 200/2193 [03:12<5:39:39, 10.23s/it]"
          ]
        },
        {
          "name": "stdout",
          "output_type": "stream",
          "text": [
            "保存模型成功, 当前f1分数: 0.735879722530965\n"
          ]
        },
        {
          "name": "stderr",
          "output_type": "stream",
          "text": [
            "training....:  10%|▉         | 210/2193 [03:18<29:11,  1.13it/s]"
          ]
        },
        {
          "name": "stdout",
          "output_type": "stream",
          "text": [
            "epoch:1,batch:210,loss:0.8441,train_f1:0.7456,acc:0.7484\n"
          ]
        },
        {
          "name": "stderr",
          "output_type": "stream",
          "text": [
            "training....:  10%|█         | 220/2193 [03:24<20:38,  1.59it/s]"
          ]
        },
        {
          "name": "stdout",
          "output_type": "stream",
          "text": [
            "epoch:1,batch:220,loss:0.8017,train_f1:0.7545,acc:0.7578\n"
          ]
        },
        {
          "name": "stderr",
          "output_type": "stream",
          "text": [
            "training....:  10%|█         | 230/2193 [03:30<20:14,  1.62it/s]"
          ]
        },
        {
          "name": "stdout",
          "output_type": "stream",
          "text": [
            "epoch:1,batch:230,loss:0.8577,train_f1:0.7359,acc:0.7383\n"
          ]
        },
        {
          "name": "stderr",
          "output_type": "stream",
          "text": [
            "training....:  11%|█         | 240/2193 [03:36<20:02,  1.62it/s]"
          ]
        },
        {
          "name": "stdout",
          "output_type": "stream",
          "text": [
            "epoch:1,batch:240,loss:0.8478,train_f1:0.7310,acc:0.7344\n"
          ]
        },
        {
          "name": "stderr",
          "output_type": "stream",
          "text": [
            "training....:  11%|█▏        | 250/2193 [03:43<20:06,  1.61it/s]"
          ]
        },
        {
          "name": "stdout",
          "output_type": "stream",
          "text": [
            "epoch:1,batch:250,loss:0.8188,train_f1:0.7429,acc:0.7484\n"
          ]
        },
        {
          "name": "stderr",
          "output_type": "stream",
          "text": [
            "training....:  12%|█▏        | 260/2193 [03:49<20:13,  1.59it/s]"
          ]
        },
        {
          "name": "stdout",
          "output_type": "stream",
          "text": [
            "epoch:1,batch:260,loss:0.8100,train_f1:0.7482,acc:0.7484\n"
          ]
        },
        {
          "name": "stderr",
          "output_type": "stream",
          "text": [
            "training....:  12%|█▏        | 270/2193 [03:55<19:45,  1.62it/s]"
          ]
        },
        {
          "name": "stdout",
          "output_type": "stream",
          "text": [
            "epoch:1,batch:270,loss:0.7912,train_f1:0.7578,acc:0.7609\n"
          ]
        },
        {
          "name": "stderr",
          "output_type": "stream",
          "text": [
            "training....:  13%|█▎        | 280/2193 [04:01<19:33,  1.63it/s]"
          ]
        },
        {
          "name": "stdout",
          "output_type": "stream",
          "text": [
            "epoch:1,batch:280,loss:0.8699,train_f1:0.7350,acc:0.7375\n"
          ]
        },
        {
          "name": "stderr",
          "output_type": "stream",
          "text": [
            "training....:  13%|█▎        | 290/2193 [04:07<19:31,  1.62it/s]"
          ]
        },
        {
          "name": "stdout",
          "output_type": "stream",
          "text": [
            "epoch:1,batch:290,loss:0.7932,train_f1:0.7509,acc:0.7539\n"
          ]
        },
        {
          "name": "stderr",
          "output_type": "stream",
          "text": [
            "training....:  14%|█▎        | 299/2193 [04:13<19:27,  1.62it/s]"
          ]
        },
        {
          "name": "stdout",
          "output_type": "stream",
          "text": [
            "epoch:1,batch:300,loss:0.8024,train_f1:0.7464,acc:0.7500\n"
          ]
        },
        {
          "name": "stderr",
          "output_type": "stream",
          "text": [
            "\n",
            "Vailing:   0%|          | 0/120 [00:00<?, ?it/s]\u001b[A\n",
            "Vailing:   1%|          | 1/120 [00:00<01:09,  1.72it/s]\u001b[A\n",
            "Vailing:   2%|▏         | 2/120 [00:00<00:45,  2.62it/s]\u001b[A\n",
            "Vailing:   2%|▎         | 3/120 [00:01<00:37,  3.15it/s]\u001b[A\n",
            "Vailing:   3%|▎         | 4/120 [00:01<00:33,  3.49it/s]\u001b[A\n",
            "Vailing:   4%|▍         | 5/120 [00:01<00:31,  3.69it/s]\u001b[A\n",
            "Vailing:   5%|▌         | 6/120 [00:01<00:30,  3.69it/s]\u001b[A\n",
            "Vailing:   6%|▌         | 7/120 [00:02<00:29,  3.84it/s]\u001b[A\n",
            "Vailing:   7%|▋         | 8/120 [00:02<00:28,  3.93it/s]\u001b[A\n",
            "Vailing:   8%|▊         | 9/120 [00:02<00:27,  3.98it/s]\u001b[A\n",
            "Vailing:   8%|▊         | 10/120 [00:02<00:27,  4.03it/s]\u001b[A\n",
            "Vailing:   9%|▉         | 11/120 [00:03<00:26,  4.06it/s]\u001b[A\n",
            "Vailing:  10%|█         | 12/120 [00:03<00:26,  4.08it/s]\u001b[A\n",
            "Vailing:  11%|█         | 13/120 [00:03<00:26,  4.09it/s]\u001b[A\n",
            "Vailing:  12%|█▏        | 14/120 [00:03<00:25,  4.12it/s]\u001b[A\n",
            "Vailing:  12%|█▎        | 15/120 [00:03<00:25,  4.11it/s]\u001b[A\n",
            "Vailing:  13%|█▎        | 16/120 [00:04<00:25,  4.11it/s]\u001b[A\n",
            "Vailing:  14%|█▍        | 17/120 [00:04<00:24,  4.12it/s]\u001b[A\n",
            "Vailing:  15%|█▌        | 18/120 [00:04<00:24,  4.09it/s]\u001b[A\n",
            "Vailing:  16%|█▌        | 19/120 [00:04<00:24,  4.11it/s]\u001b[A\n",
            "Vailing:  17%|█▋        | 20/120 [00:05<00:24,  4.12it/s]\u001b[A\n",
            "Vailing:  18%|█▊        | 21/120 [00:05<00:23,  4.13it/s]\u001b[A\n",
            "Vailing:  18%|█▊        | 22/120 [00:05<00:23,  4.13it/s]\u001b[A\n",
            "Vailing:  19%|█▉        | 23/120 [00:05<00:23,  4.12it/s]\u001b[A\n",
            "Vailing:  20%|██        | 24/120 [00:06<00:23,  4.14it/s]\u001b[A\n",
            "Vailing:  21%|██        | 25/120 [00:06<00:23,  4.09it/s]\u001b[A\n",
            "Vailing:  22%|██▏       | 26/120 [00:06<00:22,  4.10it/s]\u001b[A\n",
            "Vailing:  22%|██▎       | 27/120 [00:06<00:22,  4.11it/s]\u001b[A\n",
            "Vailing:  23%|██▎       | 28/120 [00:07<00:22,  4.11it/s]\u001b[A\n",
            "Vailing:  24%|██▍       | 29/120 [00:07<00:22,  4.13it/s]\u001b[A\n",
            "Vailing:  25%|██▌       | 30/120 [00:07<00:21,  4.12it/s]\u001b[A\n",
            "Vailing:  26%|██▌       | 31/120 [00:07<00:21,  4.09it/s]\u001b[A\n",
            "Vailing:  27%|██▋       | 32/120 [00:08<00:21,  4.13it/s]\u001b[A\n",
            "Vailing:  28%|██▊       | 33/120 [00:08<00:21,  4.13it/s]\u001b[A\n",
            "Vailing:  28%|██▊       | 34/120 [00:08<00:20,  4.12it/s]\u001b[A\n",
            "Vailing:  29%|██▉       | 35/120 [00:08<00:21,  4.03it/s]\u001b[A\n",
            "Vailing:  30%|███       | 36/120 [00:09<00:20,  4.08it/s]\u001b[A\n",
            "Vailing:  31%|███       | 37/120 [00:09<00:20,  4.08it/s]\u001b[A\n",
            "Vailing:  32%|███▏      | 38/120 [00:09<00:20,  4.07it/s]\u001b[A\n",
            "Vailing:  32%|███▎      | 39/120 [00:09<00:20,  3.99it/s]\u001b[A\n",
            "Vailing:  33%|███▎      | 40/120 [00:10<00:19,  4.03it/s]\u001b[A\n",
            "Vailing:  34%|███▍      | 41/120 [00:10<00:20,  3.83it/s]\u001b[A\n",
            "Vailing:  35%|███▌      | 42/120 [00:10<00:20,  3.73it/s]\u001b[A\n",
            "Vailing:  36%|███▌      | 43/120 [00:10<00:21,  3.64it/s]\u001b[A\n",
            "Vailing:  37%|███▋      | 44/120 [00:11<00:21,  3.57it/s]\u001b[A\n",
            "Vailing:  38%|███▊      | 45/120 [00:11<00:21,  3.51it/s]\u001b[A\n",
            "Vailing:  38%|███▊      | 46/120 [00:11<00:21,  3.46it/s]\u001b[A\n",
            "Vailing:  39%|███▉      | 47/120 [00:12<00:20,  3.50it/s]\u001b[A\n",
            "Vailing:  40%|████      | 48/120 [00:12<00:20,  3.51it/s]\u001b[A\n",
            "Vailing:  41%|████      | 49/120 [00:12<00:20,  3.44it/s]\u001b[A\n",
            "Vailing:  42%|████▏     | 50/120 [00:13<00:20,  3.44it/s]\u001b[A\n",
            "Vailing:  42%|████▎     | 51/120 [00:13<00:18,  3.63it/s]\u001b[A\n",
            "Vailing:  43%|████▎     | 52/120 [00:13<00:17,  3.78it/s]\u001b[A\n",
            "Vailing:  44%|████▍     | 53/120 [00:13<00:17,  3.88it/s]\u001b[A\n",
            "Vailing:  45%|████▌     | 54/120 [00:13<00:16,  3.99it/s]\u001b[A\n",
            "Vailing:  46%|████▌     | 55/120 [00:14<00:16,  4.02it/s]\u001b[A\n",
            "Vailing:  47%|████▋     | 56/120 [00:14<00:15,  4.05it/s]\u001b[A\n",
            "Vailing:  48%|████▊     | 57/120 [00:14<00:15,  4.06it/s]\u001b[A\n",
            "Vailing:  48%|████▊     | 58/120 [00:14<00:15,  4.08it/s]\u001b[A\n",
            "Vailing:  49%|████▉     | 59/120 [00:15<00:14,  4.10it/s]\u001b[A\n",
            "Vailing:  50%|█████     | 60/120 [00:15<00:14,  4.08it/s]\u001b[A\n",
            "Vailing:  51%|█████     | 61/120 [00:15<00:14,  4.09it/s]\u001b[A\n",
            "Vailing:  52%|█████▏    | 62/120 [00:15<00:14,  4.09it/s]\u001b[A\n",
            "Vailing:  52%|█████▎    | 63/120 [00:16<00:14,  4.04it/s]\u001b[A\n",
            "Vailing:  53%|█████▎    | 64/120 [00:16<00:13,  4.05it/s]\u001b[A\n",
            "Vailing:  54%|█████▍    | 65/120 [00:16<00:13,  4.08it/s]\u001b[A\n",
            "Vailing:  55%|█████▌    | 66/120 [00:16<00:13,  4.06it/s]\u001b[A\n",
            "Vailing:  56%|█████▌    | 67/120 [00:17<00:13,  3.96it/s]\u001b[A\n",
            "Vailing:  57%|█████▋    | 68/120 [00:17<00:12,  4.02it/s]\u001b[A\n",
            "Vailing:  57%|█████▊    | 69/120 [00:17<00:12,  4.06it/s]\u001b[A\n",
            "Vailing:  58%|█████▊    | 70/120 [00:17<00:12,  4.07it/s]\u001b[A\n",
            "Vailing:  59%|█████▉    | 71/120 [00:18<00:11,  4.09it/s]\u001b[A\n",
            "Vailing:  60%|██████    | 72/120 [00:18<00:11,  4.09it/s]\u001b[A\n",
            "Vailing:  61%|██████    | 73/120 [00:18<00:11,  4.10it/s]\u001b[A\n",
            "Vailing:  62%|██████▏   | 74/120 [00:18<00:11,  4.07it/s]\u001b[A\n",
            "Vailing:  62%|██████▎   | 75/120 [00:19<00:11,  4.08it/s]\u001b[A\n",
            "Vailing:  63%|██████▎   | 76/120 [00:19<00:10,  4.12it/s]\u001b[A\n",
            "Vailing:  64%|██████▍   | 77/120 [00:19<00:10,  4.11it/s]\u001b[A\n",
            "Vailing:  65%|██████▌   | 78/120 [00:19<00:10,  4.10it/s]\u001b[A\n",
            "Vailing:  66%|██████▌   | 79/120 [00:20<00:09,  4.12it/s]\u001b[A\n",
            "Vailing:  67%|██████▋   | 80/120 [00:20<00:09,  4.11it/s]\u001b[A\n",
            "Vailing:  68%|██████▊   | 81/120 [00:20<00:09,  4.14it/s]\u001b[A\n",
            "Vailing:  68%|██████▊   | 82/120 [00:20<00:09,  4.13it/s]\u001b[A\n",
            "Vailing:  69%|██████▉   | 83/120 [00:21<00:09,  4.08it/s]\u001b[A\n",
            "Vailing:  70%|███████   | 84/120 [00:21<00:09,  3.98it/s]\u001b[A\n",
            "Vailing:  71%|███████   | 85/120 [00:21<00:08,  4.03it/s]\u001b[A\n",
            "Vailing:  72%|███████▏  | 86/120 [00:21<00:08,  4.05it/s]\u001b[A\n",
            "Vailing:  72%|███████▎  | 87/120 [00:22<00:08,  4.05it/s]\u001b[A\n",
            "Vailing:  73%|███████▎  | 88/120 [00:22<00:07,  4.09it/s]\u001b[A\n",
            "Vailing:  74%|███████▍  | 89/120 [00:22<00:07,  4.11it/s]\u001b[A\n",
            "Vailing:  75%|███████▌  | 90/120 [00:22<00:07,  4.12it/s]\u001b[A\n",
            "Vailing:  76%|███████▌  | 91/120 [00:23<00:07,  4.10it/s]\u001b[A\n",
            "Vailing:  77%|███████▋  | 92/120 [00:23<00:07,  3.89it/s]\u001b[A\n",
            "Vailing:  78%|███████▊  | 93/120 [00:23<00:07,  3.75it/s]\u001b[A\n",
            "Vailing:  78%|███████▊  | 94/120 [00:23<00:07,  3.69it/s]\u001b[A\n",
            "Vailing:  79%|███████▉  | 95/120 [00:24<00:06,  3.60it/s]\u001b[A\n",
            "Vailing:  80%|████████  | 96/120 [00:24<00:06,  3.53it/s]\u001b[A\n",
            "Vailing:  81%|████████  | 97/120 [00:24<00:06,  3.47it/s]\u001b[A\n",
            "Vailing:  82%|████████▏ | 98/120 [00:25<00:06,  3.45it/s]\u001b[A\n",
            "Vailing:  82%|████████▎ | 99/120 [00:25<00:06,  3.45it/s]\u001b[A\n",
            "Vailing:  83%|████████▎ | 100/120 [00:25<00:05,  3.45it/s]\u001b[A\n",
            "Vailing:  84%|████████▍ | 101/120 [00:25<00:05,  3.43it/s]\u001b[A\n",
            "Vailing:  85%|████████▌ | 102/120 [00:26<00:04,  3.64it/s]\u001b[A\n",
            "Vailing:  86%|████████▌ | 103/120 [00:26<00:04,  3.75it/s]\u001b[A\n",
            "Vailing:  87%|████████▋ | 104/120 [00:26<00:04,  3.85it/s]\u001b[A\n",
            "Vailing:  88%|████████▊ | 105/120 [00:26<00:03,  3.95it/s]\u001b[A\n",
            "Vailing:  88%|████████▊ | 106/120 [00:27<00:03,  4.00it/s]\u001b[A\n",
            "Vailing:  89%|████████▉ | 107/120 [00:27<00:03,  4.03it/s]\u001b[A\n",
            "Vailing:  90%|█████████ | 108/120 [00:27<00:02,  4.05it/s]\u001b[A\n",
            "Vailing:  91%|█████████ | 109/120 [00:27<00:02,  4.05it/s]\u001b[A\n",
            "Vailing:  92%|█████████▏| 110/120 [00:28<00:02,  4.07it/s]\u001b[A\n",
            "Vailing:  92%|█████████▎| 111/120 [00:28<00:02,  4.07it/s]\u001b[A\n",
            "Vailing:  93%|█████████▎| 112/120 [00:28<00:01,  4.07it/s]\u001b[A\n",
            "Vailing:  94%|█████████▍| 113/120 [00:28<00:01,  4.07it/s]\u001b[A\n",
            "Vailing:  95%|█████████▌| 114/120 [00:29<00:01,  4.08it/s]\u001b[A\n",
            "Vailing:  96%|█████████▌| 115/120 [00:29<00:01,  4.10it/s]\u001b[A\n",
            "Vailing:  97%|█████████▋| 116/120 [00:29<00:00,  4.04it/s]\u001b[A\n",
            "Vailing:  98%|█████████▊| 117/120 [00:29<00:00,  4.03it/s]\u001b[A\n",
            "Vailing:  98%|█████████▊| 118/120 [00:30<00:00,  4.00it/s]\u001b[A\n",
            "Vailing:  99%|█████████▉| 119/120 [00:30<00:00,  4.01it/s]\u001b[A\n",
            "Vailing: 100%|██████████| 120/120 [00:30<00:00,  3.93it/s]\n"
          ]
        },
        {
          "name": "stdout",
          "output_type": "stream",
          "text": [
            "验证集评估报告：\n",
            "               precision    recall  f1-score   support\n",
            "\n",
            "           0       0.42      0.57      0.49       700\n",
            "           1       0.57      0.72      0.64       701\n",
            "           2       0.84      0.88      0.86      3793\n",
            "           3       0.81      0.71      0.75      1574\n",
            "           4       0.86      0.82      0.84      1593\n",
            "           5       0.86      0.84      0.85      1940\n",
            "           6       0.83      0.70      0.76      1695\n",
            "           7       0.79      0.78      0.79      1002\n",
            "           8       0.84      0.83      0.83      2327\n",
            "\n",
            "    accuracy                           0.79     15325\n",
            "   macro avg       0.76      0.76      0.76     15325\n",
            "weighted avg       0.80      0.79      0.80     15325\n",
            "\n",
            "验证集的f1: 0.7552, accuracy:0.7943, precision:0.7568, recall:0.7604\n"
          ]
        },
        {
          "name": "stderr",
          "output_type": "stream",
          "text": [
            "\rtraining....:  14%|█▎        | 300/2193 [04:45<5:19:55, 10.14s/it]"
          ]
        },
        {
          "name": "stdout",
          "output_type": "stream",
          "text": [
            "保存模型成功, 当前f1分数: 0.7552157579081088\n"
          ]
        },
        {
          "name": "stderr",
          "output_type": "stream",
          "text": [
            "training....:  14%|█▍        | 310/2193 [04:51<27:40,  1.13it/s]"
          ]
        },
        {
          "name": "stdout",
          "output_type": "stream",
          "text": [
            "epoch:1,batch:310,loss:0.8211,train_f1:0.7513,acc:0.7539\n"
          ]
        },
        {
          "name": "stderr",
          "output_type": "stream",
          "text": [
            "training....:  15%|█▍        | 320/2193 [04:57<19:31,  1.60it/s]"
          ]
        },
        {
          "name": "stdout",
          "output_type": "stream",
          "text": [
            "epoch:1,batch:320,loss:0.7950,train_f1:0.7571,acc:0.7586\n"
          ]
        },
        {
          "name": "stderr",
          "output_type": "stream",
          "text": [
            "training....:  15%|█▌        | 330/2193 [05:03<19:18,  1.61it/s]"
          ]
        },
        {
          "name": "stdout",
          "output_type": "stream",
          "text": [
            "epoch:1,batch:330,loss:0.8181,train_f1:0.7522,acc:0.7547\n"
          ]
        },
        {
          "name": "stderr",
          "output_type": "stream",
          "text": [
            "training....:  16%|█▌        | 340/2193 [05:09<18:59,  1.63it/s]"
          ]
        },
        {
          "name": "stdout",
          "output_type": "stream",
          "text": [
            "epoch:1,batch:340,loss:0.7812,train_f1:0.7705,acc:0.7727\n"
          ]
        },
        {
          "name": "stderr",
          "output_type": "stream",
          "text": [
            "training....:  16%|█▌        | 350/2193 [05:16<19:04,  1.61it/s]"
          ]
        },
        {
          "name": "stdout",
          "output_type": "stream",
          "text": [
            "epoch:1,batch:350,loss:0.9007,train_f1:0.7171,acc:0.7164\n"
          ]
        },
        {
          "name": "stderr",
          "output_type": "stream",
          "text": [
            "training....:  16%|█▋        | 360/2193 [05:22<18:49,  1.62it/s]"
          ]
        },
        {
          "name": "stdout",
          "output_type": "stream",
          "text": [
            "epoch:1,batch:360,loss:0.7496,train_f1:0.7675,acc:0.7680\n"
          ]
        },
        {
          "name": "stderr",
          "output_type": "stream",
          "text": [
            "training....:  17%|█▋        | 370/2193 [05:28<18:42,  1.62it/s]"
          ]
        },
        {
          "name": "stdout",
          "output_type": "stream",
          "text": [
            "epoch:1,batch:370,loss:0.7563,train_f1:0.7637,acc:0.7641\n"
          ]
        },
        {
          "name": "stderr",
          "output_type": "stream",
          "text": [
            "training....:  17%|█▋        | 380/2193 [05:34<18:37,  1.62it/s]"
          ]
        },
        {
          "name": "stdout",
          "output_type": "stream",
          "text": [
            "epoch:1,batch:380,loss:0.8086,train_f1:0.7413,acc:0.7414\n"
          ]
        },
        {
          "name": "stderr",
          "output_type": "stream",
          "text": [
            "training....:  18%|█▊        | 390/2193 [05:40<18:30,  1.62it/s]"
          ]
        },
        {
          "name": "stdout",
          "output_type": "stream",
          "text": [
            "epoch:1,batch:390,loss:0.7676,train_f1:0.7601,acc:0.7672\n"
          ]
        },
        {
          "name": "stderr",
          "output_type": "stream",
          "text": [
            "training....:  18%|█▊        | 399/2193 [05:46<18:20,  1.63it/s]"
          ]
        },
        {
          "name": "stdout",
          "output_type": "stream",
          "text": [
            "epoch:1,batch:400,loss:0.7732,train_f1:0.7490,acc:0.7555\n"
          ]
        },
        {
          "name": "stderr",
          "output_type": "stream",
          "text": [
            "\n",
            "Vailing:   0%|          | 0/120 [00:00<?, ?it/s]\u001b[A\n",
            "Vailing:   1%|          | 1/120 [00:00<01:08,  1.75it/s]\u001b[A\n",
            "Vailing:   2%|▏         | 2/120 [00:00<00:44,  2.62it/s]\u001b[A\n",
            "Vailing:   2%|▎         | 3/120 [00:01<00:36,  3.16it/s]\u001b[A\n",
            "Vailing:   3%|▎         | 4/120 [00:01<00:33,  3.47it/s]\u001b[A\n",
            "Vailing:   4%|▍         | 5/120 [00:01<00:31,  3.67it/s]\u001b[A\n",
            "Vailing:   5%|▌         | 6/120 [00:01<00:30,  3.79it/s]\u001b[A\n",
            "Vailing:   6%|▌         | 7/120 [00:02<00:29,  3.89it/s]\u001b[A\n",
            "Vailing:   7%|▋         | 8/120 [00:02<00:28,  3.89it/s]\u001b[A\n",
            "Vailing:   8%|▊         | 9/120 [00:02<00:27,  3.99it/s]\u001b[A\n",
            "Vailing:   8%|▊         | 10/120 [00:02<00:27,  4.01it/s]\u001b[A\n",
            "Vailing:   9%|▉         | 11/120 [00:03<00:26,  4.06it/s]\u001b[A\n",
            "Vailing:  10%|█         | 12/120 [00:03<00:26,  4.05it/s]\u001b[A\n",
            "Vailing:  11%|█         | 13/120 [00:03<00:26,  4.07it/s]\u001b[A\n",
            "Vailing:  12%|█▏        | 14/120 [00:03<00:25,  4.08it/s]\u001b[A\n",
            "Vailing:  12%|█▎        | 15/120 [00:03<00:25,  4.09it/s]\u001b[A\n",
            "Vailing:  13%|█▎        | 16/120 [00:04<00:25,  4.08it/s]\u001b[A\n",
            "Vailing:  14%|█▍        | 17/120 [00:04<00:25,  4.11it/s]\u001b[A\n",
            "Vailing:  15%|█▌        | 18/120 [00:04<00:24,  4.12it/s]\u001b[A\n",
            "Vailing:  16%|█▌        | 19/120 [00:04<00:24,  4.12it/s]\u001b[A\n",
            "Vailing:  17%|█▋        | 20/120 [00:05<00:24,  4.13it/s]\u001b[A\n",
            "Vailing:  18%|█▊        | 21/120 [00:05<00:23,  4.14it/s]\u001b[A\n",
            "Vailing:  18%|█▊        | 22/120 [00:05<00:23,  4.16it/s]\u001b[A\n",
            "Vailing:  19%|█▉        | 23/120 [00:05<00:23,  4.14it/s]\u001b[A\n",
            "Vailing:  20%|██        | 24/120 [00:06<00:23,  4.13it/s]\u001b[A\n",
            "Vailing:  21%|██        | 25/120 [00:06<00:23,  4.01it/s]\u001b[A\n",
            "Vailing:  22%|██▏       | 26/120 [00:06<00:23,  4.04it/s]\u001b[A\n",
            "Vailing:  22%|██▎       | 27/120 [00:06<00:23,  4.04it/s]\u001b[A\n",
            "Vailing:  23%|██▎       | 28/120 [00:07<00:22,  4.09it/s]\u001b[A\n",
            "Vailing:  24%|██▍       | 29/120 [00:07<00:22,  4.03it/s]\u001b[A\n",
            "Vailing:  25%|██▌       | 30/120 [00:07<00:22,  4.07it/s]\u001b[A\n",
            "Vailing:  26%|██▌       | 31/120 [00:07<00:21,  4.11it/s]\u001b[A\n",
            "Vailing:  27%|██▋       | 32/120 [00:08<00:22,  3.90it/s]\u001b[A\n",
            "Vailing:  28%|██▊       | 33/120 [00:08<00:23,  3.68it/s]\u001b[A\n",
            "Vailing:  28%|██▊       | 34/120 [00:08<00:23,  3.59it/s]\u001b[A\n",
            "Vailing:  29%|██▉       | 35/120 [00:09<00:24,  3.50it/s]\u001b[A\n",
            "Vailing:  30%|███       | 36/120 [00:09<00:24,  3.46it/s]\u001b[A\n",
            "Vailing:  31%|███       | 37/120 [00:09<00:24,  3.43it/s]\u001b[A\n",
            "Vailing:  32%|███▏      | 38/120 [00:09<00:23,  3.45it/s]\u001b[A\n",
            "Vailing:  32%|███▎      | 39/120 [00:10<00:23,  3.44it/s]\u001b[A\n",
            "Vailing:  33%|███▎      | 40/120 [00:10<00:23,  3.46it/s]\u001b[A\n",
            "Vailing:  34%|███▍      | 41/120 [00:10<00:23,  3.43it/s]\u001b[A\n",
            "Vailing:  35%|███▌      | 42/120 [00:11<00:21,  3.61it/s]\u001b[A\n",
            "Vailing:  36%|███▌      | 43/120 [00:11<00:20,  3.76it/s]\u001b[A\n",
            "Vailing:  37%|███▋      | 44/120 [00:11<00:19,  3.85it/s]\u001b[A\n",
            "Vailing:  38%|███▊      | 45/120 [00:11<00:19,  3.90it/s]\u001b[A\n",
            "Vailing:  38%|███▊      | 46/120 [00:12<00:18,  3.96it/s]\u001b[A\n",
            "Vailing:  39%|███▉      | 47/120 [00:12<00:18,  4.00it/s]\u001b[A\n",
            "Vailing:  40%|████      | 48/120 [00:12<00:17,  4.05it/s]\u001b[A\n",
            "Vailing:  41%|████      | 49/120 [00:12<00:17,  4.06it/s]\u001b[A\n",
            "Vailing:  42%|████▏     | 50/120 [00:13<00:17,  4.05it/s]\u001b[A\n",
            "Vailing:  42%|████▎     | 51/120 [00:13<00:16,  4.11it/s]\u001b[A\n",
            "Vailing:  43%|████▎     | 52/120 [00:13<00:16,  4.13it/s]\u001b[A\n",
            "Vailing:  44%|████▍     | 53/120 [00:13<00:16,  4.03it/s]\u001b[A\n",
            "Vailing:  45%|████▌     | 54/120 [00:14<00:16,  4.06it/s]\u001b[A\n",
            "Vailing:  46%|████▌     | 55/120 [00:14<00:15,  4.07it/s]\u001b[A\n",
            "Vailing:  47%|████▋     | 56/120 [00:14<00:15,  4.09it/s]\u001b[A\n",
            "Vailing:  48%|████▊     | 57/120 [00:14<00:15,  4.03it/s]\u001b[A\n",
            "Vailing:  48%|████▊     | 58/120 [00:15<00:15,  4.08it/s]\u001b[A\n",
            "Vailing:  49%|████▉     | 59/120 [00:15<00:14,  4.09it/s]\u001b[A\n",
            "Vailing:  50%|█████     | 60/120 [00:15<00:14,  4.12it/s]\u001b[A\n",
            "Vailing:  51%|█████     | 61/120 [00:15<00:14,  4.12it/s]\u001b[A\n",
            "Vailing:  52%|█████▏    | 62/120 [00:15<00:14,  4.14it/s]\u001b[A\n",
            "Vailing:  52%|█████▎    | 63/120 [00:16<00:13,  4.14it/s]\u001b[A\n",
            "Vailing:  53%|█████▎    | 64/120 [00:16<00:13,  4.12it/s]\u001b[A\n",
            "Vailing:  54%|█████▍    | 65/120 [00:16<00:13,  4.15it/s]\u001b[A\n",
            "Vailing:  55%|█████▌    | 66/120 [00:16<00:12,  4.15it/s]\u001b[A\n",
            "Vailing:  56%|█████▌    | 67/120 [00:17<00:12,  4.13it/s]\u001b[A\n",
            "Vailing:  57%|█████▋    | 68/120 [00:17<00:12,  4.13it/s]\u001b[A\n",
            "Vailing:  57%|█████▊    | 69/120 [00:17<00:12,  4.12it/s]\u001b[A\n",
            "Vailing:  58%|█████▊    | 70/120 [00:17<00:12,  4.07it/s]\u001b[A\n",
            "Vailing:  59%|█████▉    | 71/120 [00:18<00:11,  4.10it/s]\u001b[A\n",
            "Vailing:  60%|██████    | 72/120 [00:18<00:11,  4.09it/s]\u001b[A\n",
            "Vailing:  61%|██████    | 73/120 [00:18<00:11,  4.13it/s]\u001b[A\n",
            "Vailing:  62%|██████▏   | 74/120 [00:18<00:11,  4.08it/s]\u001b[A\n",
            "Vailing:  62%|██████▎   | 75/120 [00:19<00:11,  4.08it/s]\u001b[A\n",
            "Vailing:  63%|██████▎   | 76/120 [00:19<00:10,  4.06it/s]\u001b[A\n",
            "Vailing:  64%|██████▍   | 77/120 [00:19<00:10,  4.08it/s]\u001b[A\n",
            "Vailing:  65%|██████▌   | 78/120 [00:19<00:10,  4.10it/s]\u001b[A\n",
            "Vailing:  66%|██████▌   | 79/120 [00:20<00:10,  4.08it/s]\u001b[A\n",
            "Vailing:  67%|██████▋   | 80/120 [00:20<00:09,  4.08it/s]\u001b[A\n",
            "Vailing:  68%|██████▊   | 81/120 [00:20<00:09,  4.09it/s]\u001b[A\n",
            "Vailing:  68%|██████▊   | 82/120 [00:20<00:09,  4.10it/s]\u001b[A\n",
            "Vailing:  69%|██████▉   | 83/120 [00:21<00:09,  3.92it/s]\u001b[A\n",
            "Vailing:  70%|███████   | 84/120 [00:21<00:09,  3.75it/s]\u001b[A\n",
            "Vailing:  71%|███████   | 85/120 [00:21<00:09,  3.68it/s]\u001b[A\n",
            "Vailing:  72%|███████▏  | 86/120 [00:21<00:09,  3.60it/s]\u001b[A\n",
            "Vailing:  72%|███████▎  | 87/120 [00:22<00:09,  3.55it/s]\u001b[A\n",
            "Vailing:  73%|███████▎  | 88/120 [00:22<00:09,  3.53it/s]\u001b[A\n",
            "Vailing:  74%|███████▍  | 89/120 [00:22<00:08,  3.55it/s]\u001b[A\n",
            "Vailing:  75%|███████▌  | 90/120 [00:23<00:08,  3.52it/s]\u001b[A\n",
            "Vailing:  76%|███████▌  | 91/120 [00:23<00:08,  3.48it/s]\u001b[A\n",
            "Vailing:  77%|███████▋  | 92/120 [00:23<00:08,  3.48it/s]\u001b[A\n",
            "Vailing:  78%|███████▊  | 93/120 [00:23<00:07,  3.63it/s]\u001b[A\n",
            "Vailing:  78%|███████▊  | 94/120 [00:24<00:06,  3.75it/s]\u001b[A\n",
            "Vailing:  79%|███████▉  | 95/120 [00:24<00:06,  3.86it/s]\u001b[A\n",
            "Vailing:  80%|████████  | 96/120 [00:24<00:06,  3.92it/s]\u001b[A\n",
            "Vailing:  81%|████████  | 97/120 [00:24<00:05,  3.96it/s]\u001b[A\n",
            "Vailing:  82%|████████▏ | 98/120 [00:25<00:05,  3.93it/s]\u001b[A\n",
            "Vailing:  82%|████████▎ | 99/120 [00:25<00:05,  3.97it/s]\u001b[A\n",
            "Vailing:  83%|████████▎ | 100/120 [00:25<00:05,  3.97it/s]\u001b[A\n",
            "Vailing:  84%|████████▍ | 101/120 [00:25<00:04,  4.02it/s]\u001b[A\n",
            "Vailing:  85%|████████▌ | 102/120 [00:26<00:04,  3.95it/s]\u001b[A\n",
            "Vailing:  86%|████████▌ | 103/120 [00:26<00:04,  3.96it/s]\u001b[A\n",
            "Vailing:  87%|████████▋ | 104/120 [00:26<00:03,  4.00it/s]\u001b[A\n",
            "Vailing:  88%|████████▊ | 105/120 [00:26<00:03,  4.05it/s]\u001b[A\n",
            "Vailing:  88%|████████▊ | 106/120 [00:27<00:03,  4.06it/s]\u001b[A\n",
            "Vailing:  89%|████████▉ | 107/120 [00:27<00:03,  4.06it/s]\u001b[A\n",
            "Vailing:  90%|█████████ | 108/120 [00:27<00:02,  4.07it/s]\u001b[A\n",
            "Vailing:  91%|█████████ | 109/120 [00:27<00:02,  4.07it/s]\u001b[A\n",
            "Vailing:  92%|█████████▏| 110/120 [00:28<00:02,  4.09it/s]\u001b[A\n",
            "Vailing:  92%|█████████▎| 111/120 [00:28<00:02,  4.08it/s]\u001b[A\n",
            "Vailing:  93%|█████████▎| 112/120 [00:28<00:01,  4.07it/s]\u001b[A\n",
            "Vailing:  94%|█████████▍| 113/120 [00:28<00:01,  4.08it/s]\u001b[A\n",
            "Vailing:  95%|█████████▌| 114/120 [00:29<00:01,  4.10it/s]\u001b[A\n",
            "Vailing:  96%|█████████▌| 115/120 [00:29<00:01,  4.08it/s]\u001b[A\n",
            "Vailing:  97%|█████████▋| 116/120 [00:29<00:00,  4.07it/s]\u001b[A\n",
            "Vailing:  98%|█████████▊| 117/120 [00:29<00:00,  4.11it/s]\u001b[A\n",
            "Vailing:  98%|█████████▊| 118/120 [00:30<00:00,  4.08it/s]\u001b[A\n",
            "Vailing:  99%|█████████▉| 119/120 [00:30<00:00,  4.00it/s]\u001b[A\n",
            "Vailing: 100%|██████████| 120/120 [00:30<00:00,  3.92it/s]\n"
          ]
        },
        {
          "name": "stdout",
          "output_type": "stream",
          "text": [
            "验证集评估报告：\n",
            "               precision    recall  f1-score   support\n",
            "\n",
            "           0       0.41      0.60      0.49       700\n",
            "           1       0.64      0.71      0.67       701\n",
            "           2       0.86      0.87      0.86      3793\n",
            "           3       0.78      0.75      0.76      1574\n",
            "           4       0.86      0.84      0.85      1593\n",
            "           5       0.88      0.82      0.85      1940\n",
            "           6       0.78      0.73      0.75      1695\n",
            "           7       0.73      0.81      0.77      1002\n",
            "           8       0.87      0.80      0.84      2327\n",
            "\n",
            "    accuracy                           0.80     15325\n",
            "   macro avg       0.76      0.77      0.76     15325\n",
            "weighted avg       0.81      0.80      0.80     15325\n",
            "\n",
            "验证集的f1: 0.7608, accuracy:0.7980, precision:0.7575, recall:0.7698\n"
          ]
        },
        {
          "name": "stderr",
          "output_type": "stream",
          "text": [
            "\rtraining....:  18%|█▊        | 400/2193 [06:20<5:21:24, 10.76s/it]"
          ]
        },
        {
          "name": "stdout",
          "output_type": "stream",
          "text": [
            "保存模型成功, 当前f1分数: 0.7607963269109811\n"
          ]
        },
        {
          "name": "stderr",
          "output_type": "stream",
          "text": [
            "training....:  19%|█▊        | 410/2193 [06:26<26:40,  1.11it/s]"
          ]
        },
        {
          "name": "stdout",
          "output_type": "stream",
          "text": [
            "epoch:1,batch:410,loss:0.7867,train_f1:0.7708,acc:0.7742\n"
          ]
        },
        {
          "name": "stderr",
          "output_type": "stream",
          "text": [
            "training....:  19%|█▉        | 420/2193 [06:32<18:29,  1.60it/s]"
          ]
        },
        {
          "name": "stdout",
          "output_type": "stream",
          "text": [
            "epoch:1,batch:420,loss:0.7990,train_f1:0.7597,acc:0.7633\n"
          ]
        },
        {
          "name": "stderr",
          "output_type": "stream",
          "text": [
            "training....:  20%|█▉        | 430/2193 [06:38<18:21,  1.60it/s]"
          ]
        },
        {
          "name": "stdout",
          "output_type": "stream",
          "text": [
            "epoch:1,batch:430,loss:0.7960,train_f1:0.7508,acc:0.7570\n"
          ]
        },
        {
          "name": "stderr",
          "output_type": "stream",
          "text": [
            "training....:  20%|██        | 440/2193 [06:45<18:05,  1.61it/s]"
          ]
        },
        {
          "name": "stdout",
          "output_type": "stream",
          "text": [
            "epoch:1,batch:440,loss:0.7164,train_f1:0.7832,acc:0.7836\n"
          ]
        },
        {
          "name": "stderr",
          "output_type": "stream",
          "text": [
            "training....:  21%|██        | 450/2193 [06:51<18:00,  1.61it/s]"
          ]
        },
        {
          "name": "stdout",
          "output_type": "stream",
          "text": [
            "epoch:1,batch:450,loss:0.7919,train_f1:0.7454,acc:0.7492\n"
          ]
        },
        {
          "name": "stderr",
          "output_type": "stream",
          "text": [
            "training....:  21%|██        | 460/2193 [06:57<17:54,  1.61it/s]"
          ]
        },
        {
          "name": "stdout",
          "output_type": "stream",
          "text": [
            "epoch:1,batch:460,loss:0.7815,train_f1:0.7637,acc:0.7648\n"
          ]
        },
        {
          "name": "stderr",
          "output_type": "stream",
          "text": [
            "training....:  21%|██▏       | 470/2193 [07:03<17:41,  1.62it/s]"
          ]
        },
        {
          "name": "stdout",
          "output_type": "stream",
          "text": [
            "epoch:1,batch:470,loss:0.7855,train_f1:0.7461,acc:0.7484\n"
          ]
        },
        {
          "name": "stderr",
          "output_type": "stream",
          "text": [
            "training....:  22%|██▏       | 480/2193 [07:09<17:37,  1.62it/s]"
          ]
        },
        {
          "name": "stdout",
          "output_type": "stream",
          "text": [
            "epoch:1,batch:480,loss:0.8291,train_f1:0.7409,acc:0.7453\n"
          ]
        },
        {
          "name": "stderr",
          "output_type": "stream",
          "text": [
            "training....:  22%|██▏       | 490/2193 [07:15<17:26,  1.63it/s]"
          ]
        },
        {
          "name": "stdout",
          "output_type": "stream",
          "text": [
            "epoch:1,batch:490,loss:0.7293,train_f1:0.7730,acc:0.7750\n"
          ]
        },
        {
          "name": "stderr",
          "output_type": "stream",
          "text": [
            "training....:  23%|██▎       | 499/2193 [07:21<17:19,  1.63it/s]"
          ]
        },
        {
          "name": "stdout",
          "output_type": "stream",
          "text": [
            "epoch:1,batch:500,loss:0.7352,train_f1:0.7772,acc:0.7789\n"
          ]
        },
        {
          "name": "stderr",
          "output_type": "stream",
          "text": [
            "\n",
            "Vailing:   0%|          | 0/120 [00:00<?, ?it/s]\u001b[A\n",
            "Vailing:   1%|          | 1/120 [00:00<01:09,  1.72it/s]\u001b[A\n",
            "Vailing:   2%|▏         | 2/120 [00:00<00:46,  2.55it/s]\u001b[A\n",
            "Vailing:   2%|▎         | 3/120 [00:01<00:38,  3.08it/s]\u001b[A\n",
            "Vailing:   3%|▎         | 4/120 [00:01<00:33,  3.41it/s]\u001b[A\n",
            "Vailing:   4%|▍         | 5/120 [00:01<00:31,  3.60it/s]\u001b[A\n",
            "Vailing:   5%|▌         | 6/120 [00:01<00:30,  3.73it/s]\u001b[A\n",
            "Vailing:   6%|▌         | 7/120 [00:02<00:29,  3.85it/s]\u001b[A\n",
            "Vailing:   7%|▋         | 8/120 [00:02<00:28,  3.94it/s]\u001b[A\n",
            "Vailing:   8%|▊         | 9/120 [00:02<00:27,  3.97it/s]\u001b[A\n",
            "Vailing:   8%|▊         | 10/120 [00:02<00:27,  4.02it/s]\u001b[A\n",
            "Vailing:   9%|▉         | 11/120 [00:03<00:26,  4.07it/s]\u001b[A\n",
            "Vailing:  10%|█         | 12/120 [00:03<00:26,  4.04it/s]\u001b[A\n",
            "Vailing:  11%|█         | 13/120 [00:03<00:26,  4.05it/s]\u001b[A\n",
            "Vailing:  12%|█▏        | 14/120 [00:03<00:27,  3.84it/s]\u001b[A\n",
            "Vailing:  12%|█▎        | 15/120 [00:04<00:28,  3.73it/s]\u001b[A\n",
            "Vailing:  13%|█▎        | 16/120 [00:04<00:28,  3.66it/s]\u001b[A\n",
            "Vailing:  14%|█▍        | 17/120 [00:04<00:28,  3.59it/s]\u001b[A\n",
            "Vailing:  15%|█▌        | 18/120 [00:05<00:29,  3.51it/s]\u001b[A\n",
            "Vailing:  16%|█▌        | 19/120 [00:05<00:29,  3.44it/s]\u001b[A\n",
            "Vailing:  17%|█▋        | 20/120 [00:05<00:28,  3.45it/s]\u001b[A\n",
            "Vailing:  18%|█▊        | 21/120 [00:05<00:28,  3.47it/s]\u001b[A\n",
            "Vailing:  18%|█▊        | 22/120 [00:06<00:28,  3.40it/s]\u001b[A\n",
            "Vailing:  19%|█▉        | 23/120 [00:06<00:28,  3.42it/s]\u001b[A\n",
            "Vailing:  20%|██        | 24/120 [00:06<00:26,  3.59it/s]\u001b[A\n",
            "Vailing:  21%|██        | 25/120 [00:06<00:25,  3.75it/s]\u001b[A\n",
            "Vailing:  22%|██▏       | 26/120 [00:07<00:24,  3.83it/s]\u001b[A\n",
            "Vailing:  22%|██▎       | 27/120 [00:07<00:23,  3.91it/s]\u001b[A\n",
            "Vailing:  23%|██▎       | 28/120 [00:07<00:23,  3.99it/s]\u001b[A\n",
            "Vailing:  24%|██▍       | 29/120 [00:07<00:22,  4.01it/s]\u001b[A\n",
            "Vailing:  25%|██▌       | 30/120 [00:08<00:22,  3.91it/s]\u001b[A\n",
            "Vailing:  26%|██▌       | 31/120 [00:08<00:22,  3.98it/s]\u001b[A\n",
            "Vailing:  27%|██▋       | 32/120 [00:08<00:22,  3.99it/s]\u001b[A\n",
            "Vailing:  28%|██▊       | 33/120 [00:08<00:21,  4.02it/s]\u001b[A\n",
            "Vailing:  28%|██▊       | 34/120 [00:09<00:21,  3.92it/s]\u001b[A\n",
            "Vailing:  29%|██▉       | 35/120 [00:09<00:21,  3.96it/s]\u001b[A\n",
            "Vailing:  30%|███       | 36/120 [00:09<00:20,  4.02it/s]\u001b[A\n",
            "Vailing:  31%|███       | 37/120 [00:09<00:20,  4.05it/s]\u001b[A\n",
            "Vailing:  32%|███▏      | 38/120 [00:10<00:20,  4.09it/s]\u001b[A\n",
            "Vailing:  32%|███▎      | 39/120 [00:10<00:19,  4.09it/s]\u001b[A\n",
            "Vailing:  33%|███▎      | 40/120 [00:10<00:19,  4.10it/s]\u001b[A\n",
            "Vailing:  34%|███▍      | 41/120 [00:10<00:19,  4.12it/s]\u001b[A\n",
            "Vailing:  35%|███▌      | 42/120 [00:11<00:18,  4.11it/s]\u001b[A\n",
            "Vailing:  36%|███▌      | 43/120 [00:11<00:18,  4.09it/s]\u001b[A\n",
            "Vailing:  37%|███▋      | 44/120 [00:11<00:18,  4.12it/s]\u001b[A\n",
            "Vailing:  38%|███▊      | 45/120 [00:11<00:18,  4.11it/s]\u001b[A\n",
            "Vailing:  38%|███▊      | 46/120 [00:12<00:18,  4.10it/s]\u001b[A\n",
            "Vailing:  39%|███▉      | 47/120 [00:12<00:17,  4.10it/s]\u001b[A\n",
            "Vailing:  40%|████      | 48/120 [00:12<00:17,  4.12it/s]\u001b[A\n",
            "Vailing:  41%|████      | 49/120 [00:12<00:17,  4.11it/s]\u001b[A\n",
            "Vailing:  42%|████▏     | 50/120 [00:13<00:17,  4.09it/s]\u001b[A\n",
            "Vailing:  42%|████▎     | 51/120 [00:13<00:17,  4.02it/s]\u001b[A\n",
            "Vailing:  43%|████▎     | 52/120 [00:13<00:17,  3.97it/s]\u001b[A\n",
            "Vailing:  44%|████▍     | 53/120 [00:13<00:16,  4.02it/s]\u001b[A\n",
            "Vailing:  45%|████▌     | 54/120 [00:14<00:16,  4.06it/s]\u001b[A\n",
            "Vailing:  46%|████▌     | 55/120 [00:14<00:16,  3.98it/s]\u001b[A\n",
            "Vailing:  47%|████▋     | 56/120 [00:14<00:15,  4.03it/s]\u001b[A\n",
            "Vailing:  48%|████▊     | 57/120 [00:14<00:15,  4.08it/s]\u001b[A\n",
            "Vailing:  48%|████▊     | 58/120 [00:15<00:15,  4.10it/s]\u001b[A\n",
            "Vailing:  49%|████▉     | 59/120 [00:15<00:14,  4.10it/s]\u001b[A\n",
            "Vailing:  50%|█████     | 60/120 [00:15<00:14,  4.11it/s]\u001b[A\n",
            "Vailing:  51%|█████     | 61/120 [00:15<00:14,  4.10it/s]\u001b[A\n",
            "Vailing:  52%|█████▏    | 62/120 [00:16<00:14,  4.12it/s]\u001b[A\n",
            "Vailing:  52%|█████▎    | 63/120 [00:16<00:13,  4.09it/s]\u001b[A\n",
            "Vailing:  53%|█████▎    | 64/120 [00:16<00:13,  4.10it/s]\u001b[A\n",
            "Vailing:  54%|█████▍    | 65/120 [00:16<00:14,  3.84it/s]\u001b[A\n",
            "Vailing:  55%|█████▌    | 66/120 [00:17<00:14,  3.71it/s]\u001b[A\n",
            "Vailing:  56%|█████▌    | 67/120 [00:17<00:14,  3.66it/s]\u001b[A\n",
            "Vailing:  57%|█████▋    | 68/120 [00:17<00:14,  3.61it/s]\u001b[A\n",
            "Vailing:  57%|█████▊    | 69/120 [00:17<00:14,  3.58it/s]\u001b[A\n",
            "Vailing:  58%|█████▊    | 70/120 [00:18<00:14,  3.50it/s]\u001b[A\n",
            "Vailing:  59%|█████▉    | 71/120 [00:18<00:14,  3.47it/s]\u001b[A\n",
            "Vailing:  60%|██████    | 72/120 [00:18<00:13,  3.47it/s]\u001b[A\n",
            "Vailing:  61%|██████    | 73/120 [00:19<00:13,  3.43it/s]\u001b[A\n",
            "Vailing:  62%|██████▏   | 74/120 [00:19<00:13,  3.45it/s]\u001b[A\n",
            "Vailing:  62%|██████▎   | 75/120 [00:19<00:12,  3.62it/s]\u001b[A\n",
            "Vailing:  63%|██████▎   | 76/120 [00:19<00:11,  3.77it/s]\u001b[A\n",
            "Vailing:  64%|██████▍   | 77/120 [00:20<00:11,  3.88it/s]\u001b[A\n",
            "Vailing:  65%|██████▌   | 78/120 [00:20<00:10,  3.94it/s]\u001b[A\n",
            "Vailing:  66%|██████▌   | 79/120 [00:20<00:10,  3.95it/s]\u001b[A\n",
            "Vailing:  67%|██████▋   | 80/120 [00:20<00:10,  4.00it/s]\u001b[A\n",
            "Vailing:  68%|██████▊   | 81/120 [00:21<00:09,  4.02it/s]\u001b[A\n",
            "Vailing:  68%|██████▊   | 82/120 [00:21<00:09,  4.04it/s]\u001b[A\n",
            "Vailing:  69%|██████▉   | 83/120 [00:21<00:09,  4.05it/s]\u001b[A\n",
            "Vailing:  70%|███████   | 84/120 [00:21<00:08,  4.08it/s]\u001b[A\n",
            "Vailing:  71%|███████   | 85/120 [00:22<00:08,  4.02it/s]\u001b[A\n",
            "Vailing:  72%|███████▏  | 86/120 [00:22<00:08,  4.03it/s]\u001b[A\n",
            "Vailing:  72%|███████▎  | 87/120 [00:22<00:08,  4.03it/s]\u001b[A\n",
            "Vailing:  73%|███████▎  | 88/120 [00:22<00:07,  4.04it/s]\u001b[A\n",
            "Vailing:  74%|███████▍  | 89/120 [00:23<00:07,  3.99it/s]\u001b[A\n",
            "Vailing:  75%|███████▌  | 90/120 [00:23<00:07,  4.03it/s]\u001b[A\n",
            "Vailing:  76%|███████▌  | 91/120 [00:23<00:07,  4.03it/s]\u001b[A\n",
            "Vailing:  77%|███████▋  | 92/120 [00:23<00:06,  4.05it/s]\u001b[A\n",
            "Vailing:  78%|███████▊  | 93/120 [00:24<00:06,  4.03it/s]\u001b[A\n",
            "Vailing:  78%|███████▊  | 94/120 [00:24<00:06,  3.92it/s]\u001b[A\n",
            "Vailing:  79%|███████▉  | 95/120 [00:24<00:06,  3.97it/s]\u001b[A\n",
            "Vailing:  80%|████████  | 96/120 [00:24<00:05,  4.02it/s]\u001b[A\n",
            "Vailing:  81%|████████  | 97/120 [00:25<00:05,  4.01it/s]\u001b[A\n",
            "Vailing:  82%|████████▏ | 98/120 [00:25<00:05,  4.03it/s]\u001b[A\n",
            "Vailing:  82%|████████▎ | 99/120 [00:25<00:05,  4.06it/s]\u001b[A\n",
            "Vailing:  83%|████████▎ | 100/120 [00:25<00:04,  4.08it/s]\u001b[A\n",
            "Vailing:  84%|████████▍ | 101/120 [00:26<00:04,  4.07it/s]\u001b[A\n",
            "Vailing:  85%|████████▌ | 102/120 [00:26<00:04,  4.09it/s]\u001b[A\n",
            "Vailing:  86%|████████▌ | 103/120 [00:26<00:04,  4.08it/s]\u001b[A\n",
            "Vailing:  87%|████████▋ | 104/120 [00:26<00:03,  4.00it/s]\u001b[A\n",
            "Vailing:  88%|████████▊ | 105/120 [00:27<00:03,  4.01it/s]\u001b[A\n",
            "Vailing:  88%|████████▊ | 106/120 [00:27<00:03,  4.04it/s]\u001b[A\n",
            "Vailing:  89%|████████▉ | 107/120 [00:27<00:03,  4.05it/s]\u001b[A\n",
            "Vailing:  90%|█████████ | 108/120 [00:27<00:03,  3.99it/s]\u001b[A\n",
            "Vailing:  91%|█████████ | 109/120 [00:28<00:02,  4.02it/s]\u001b[A\n",
            "Vailing:  92%|█████████▏| 110/120 [00:28<00:02,  4.04it/s]\u001b[A\n",
            "Vailing:  92%|█████████▎| 111/120 [00:28<00:02,  4.06it/s]\u001b[A\n",
            "Vailing:  93%|█████████▎| 112/120 [00:28<00:01,  4.08it/s]\u001b[A\n",
            "Vailing:  94%|█████████▍| 113/120 [00:29<00:01,  4.09it/s]\u001b[A\n",
            "Vailing:  95%|█████████▌| 114/120 [00:29<00:01,  4.08it/s]\u001b[A\n",
            "Vailing:  96%|█████████▌| 115/120 [00:29<00:01,  3.85it/s]\u001b[A\n",
            "Vailing:  97%|█████████▋| 116/120 [00:29<00:01,  3.73it/s]\u001b[A\n",
            "Vailing:  98%|█████████▊| 117/120 [00:30<00:00,  3.58it/s]\u001b[A\n",
            "Vailing:  98%|█████████▊| 118/120 [00:30<00:00,  3.48it/s]\u001b[A\n",
            "Vailing:  99%|█████████▉| 119/120 [00:30<00:00,  3.47it/s]\u001b[A\n",
            "Vailing: 100%|██████████| 120/120 [00:31<00:00,  3.87it/s]\n",
            "training....:  23%|██▎       | 500/2193 [07:53<4:40:59,  9.96s/it]"
          ]
        },
        {
          "name": "stdout",
          "output_type": "stream",
          "text": [
            "验证集评估报告：\n",
            "               precision    recall  f1-score   support\n",
            "\n",
            "           0       0.36      0.64      0.46       700\n",
            "           1       0.59      0.74      0.66       701\n",
            "           2       0.90      0.83      0.86      3793\n",
            "           3       0.80      0.74      0.77      1574\n",
            "           4       0.82      0.85      0.83      1593\n",
            "           5       0.83      0.86      0.84      1940\n",
            "           6       0.83      0.71      0.76      1695\n",
            "           7       0.75      0.78      0.77      1002\n",
            "           8       0.89      0.78      0.83      2327\n",
            "\n",
            "    accuracy                           0.79     15325\n",
            "   macro avg       0.75      0.77      0.75     15325\n",
            "weighted avg       0.81      0.79      0.80     15325\n",
            "\n",
            "验证集的f1: 0.7534, accuracy:0.7900, precision:0.7501, recall:0.7705\n"
          ]
        },
        {
          "name": "stderr",
          "output_type": "stream",
          "text": [
            "training....:  23%|██▎       | 510/2193 [07:59<24:34,  1.14it/s]"
          ]
        },
        {
          "name": "stdout",
          "output_type": "stream",
          "text": [
            "epoch:1,batch:510,loss:0.7110,train_f1:0.7863,acc:0.7898\n"
          ]
        },
        {
          "name": "stderr",
          "output_type": "stream",
          "text": [
            "training....:  24%|██▎       | 520/2193 [08:05<17:27,  1.60it/s]"
          ]
        },
        {
          "name": "stdout",
          "output_type": "stream",
          "text": [
            "epoch:1,batch:520,loss:0.7442,train_f1:0.7575,acc:0.7578\n"
          ]
        },
        {
          "name": "stderr",
          "output_type": "stream",
          "text": [
            "training....:  24%|██▍       | 530/2193 [08:11<17:06,  1.62it/s]"
          ]
        },
        {
          "name": "stdout",
          "output_type": "stream",
          "text": [
            "epoch:1,batch:530,loss:0.7421,train_f1:0.7721,acc:0.7703\n"
          ]
        },
        {
          "name": "stderr",
          "output_type": "stream",
          "text": [
            "training....:  25%|██▍       | 540/2193 [08:17<17:07,  1.61it/s]"
          ]
        },
        {
          "name": "stdout",
          "output_type": "stream",
          "text": [
            "epoch:1,batch:540,loss:0.7983,train_f1:0.7452,acc:0.7453\n"
          ]
        },
        {
          "name": "stderr",
          "output_type": "stream",
          "text": [
            "training....:  25%|██▌       | 550/2193 [08:23<16:54,  1.62it/s]"
          ]
        },
        {
          "name": "stdout",
          "output_type": "stream",
          "text": [
            "epoch:1,batch:550,loss:0.7501,train_f1:0.7660,acc:0.7664\n"
          ]
        },
        {
          "name": "stderr",
          "output_type": "stream",
          "text": [
            "training....:  26%|██▌       | 560/2193 [08:29<16:48,  1.62it/s]"
          ]
        },
        {
          "name": "stdout",
          "output_type": "stream",
          "text": [
            "epoch:1,batch:560,loss:0.7857,train_f1:0.7472,acc:0.7523\n"
          ]
        },
        {
          "name": "stderr",
          "output_type": "stream",
          "text": [
            "training....:  26%|██▌       | 570/2193 [08:36<16:40,  1.62it/s]"
          ]
        },
        {
          "name": "stdout",
          "output_type": "stream",
          "text": [
            "epoch:1,batch:570,loss:0.7004,train_f1:0.7761,acc:0.7797\n"
          ]
        },
        {
          "name": "stderr",
          "output_type": "stream",
          "text": [
            "training....:  26%|██▋       | 580/2193 [08:42<16:32,  1.63it/s]"
          ]
        },
        {
          "name": "stdout",
          "output_type": "stream",
          "text": [
            "epoch:1,batch:580,loss:0.6983,train_f1:0.7833,acc:0.7836\n"
          ]
        },
        {
          "name": "stderr",
          "output_type": "stream",
          "text": [
            "training....:  27%|██▋       | 590/2193 [08:48<16:24,  1.63it/s]"
          ]
        },
        {
          "name": "stdout",
          "output_type": "stream",
          "text": [
            "epoch:1,batch:590,loss:0.6940,train_f1:0.7829,acc:0.7867\n"
          ]
        },
        {
          "name": "stderr",
          "output_type": "stream",
          "text": [
            "training....:  27%|██▋       | 599/2193 [08:53<16:18,  1.63it/s]"
          ]
        },
        {
          "name": "stdout",
          "output_type": "stream",
          "text": [
            "epoch:1,batch:600,loss:0.7169,train_f1:0.7812,acc:0.7844\n"
          ]
        },
        {
          "name": "stderr",
          "output_type": "stream",
          "text": [
            "\n",
            "Vailing:   0%|          | 0/120 [00:00<?, ?it/s]\u001b[A\n",
            "Vailing:   1%|          | 1/120 [00:00<01:09,  1.72it/s]\u001b[A\n",
            "Vailing:   2%|▏         | 2/120 [00:00<00:45,  2.59it/s]\u001b[A\n",
            "Vailing:   2%|▎         | 3/120 [00:01<00:37,  3.12it/s]\u001b[A\n",
            "Vailing:   3%|▎         | 4/120 [00:01<00:33,  3.45it/s]\u001b[A\n",
            "Vailing:   4%|▍         | 5/120 [00:01<00:33,  3.43it/s]\u001b[A\n",
            "Vailing:   5%|▌         | 6/120 [00:01<00:33,  3.39it/s]\u001b[A\n",
            "Vailing:   6%|▌         | 7/120 [00:02<00:33,  3.42it/s]\u001b[A\n",
            "Vailing:   7%|▋         | 8/120 [00:02<00:32,  3.42it/s]\u001b[A\n",
            "Vailing:   8%|▊         | 9/120 [00:02<00:32,  3.39it/s]\u001b[A\n",
            "Vailing:   8%|▊         | 10/120 [00:03<00:32,  3.38it/s]\u001b[A\n",
            "Vailing:   9%|▉         | 11/120 [00:03<00:32,  3.39it/s]\u001b[A\n",
            "Vailing:  10%|█         | 12/120 [00:03<00:31,  3.39it/s]\u001b[A\n",
            "Vailing:  11%|█         | 13/120 [00:03<00:31,  3.36it/s]\u001b[A\n",
            "Vailing:  12%|█▏        | 14/120 [00:04<00:31,  3.39it/s]\u001b[A\n",
            "Vailing:  12%|█▎        | 15/120 [00:04<00:29,  3.57it/s]\u001b[A\n",
            "Vailing:  13%|█▎        | 16/120 [00:04<00:28,  3.67it/s]\u001b[A\n",
            "Vailing:  14%|█▍        | 17/120 [00:05<00:27,  3.78it/s]\u001b[A\n",
            "Vailing:  15%|█▌        | 18/120 [00:05<00:26,  3.88it/s]\u001b[A\n",
            "Vailing:  16%|█▌        | 19/120 [00:05<00:25,  3.96it/s]\u001b[A\n",
            "Vailing:  17%|█▋        | 20/120 [00:05<00:25,  3.99it/s]\u001b[A\n",
            "Vailing:  18%|█▊        | 21/120 [00:05<00:24,  4.02it/s]\u001b[A\n",
            "Vailing:  18%|█▊        | 22/120 [00:06<00:24,  4.01it/s]\u001b[A\n",
            "Vailing:  19%|█▉        | 23/120 [00:06<00:24,  4.01it/s]\u001b[A\n",
            "Vailing:  20%|██        | 24/120 [00:06<00:23,  4.03it/s]\u001b[A\n",
            "Vailing:  21%|██        | 25/120 [00:06<00:23,  4.05it/s]\u001b[A\n",
            "Vailing:  22%|██▏       | 26/120 [00:07<00:23,  3.98it/s]\u001b[A\n",
            "Vailing:  22%|██▎       | 27/120 [00:07<00:23,  4.02it/s]\u001b[A\n",
            "Vailing:  23%|██▎       | 28/120 [00:07<00:22,  4.04it/s]\u001b[A\n",
            "Vailing:  24%|██▍       | 29/120 [00:07<00:22,  4.08it/s]\u001b[A\n",
            "Vailing:  25%|██▌       | 30/120 [00:08<00:22,  4.06it/s]\u001b[A\n",
            "Vailing:  26%|██▌       | 31/120 [00:08<00:21,  4.10it/s]\u001b[A\n",
            "Vailing:  27%|██▋       | 32/120 [00:08<00:21,  4.11it/s]\u001b[A\n",
            "Vailing:  28%|██▊       | 33/120 [00:08<00:21,  4.13it/s]\u001b[A\n",
            "Vailing:  28%|██▊       | 34/120 [00:09<00:21,  4.09it/s]\u001b[A\n",
            "Vailing:  29%|██▉       | 35/120 [00:09<00:20,  4.10it/s]\u001b[A\n",
            "Vailing:  30%|███       | 36/120 [00:09<00:20,  4.10it/s]\u001b[A\n",
            "Vailing:  31%|███       | 37/120 [00:09<00:20,  4.08it/s]\u001b[A\n",
            "Vailing:  32%|███▏      | 38/120 [00:10<00:20,  4.06it/s]\u001b[A\n",
            "Vailing:  32%|███▎      | 39/120 [00:10<00:19,  4.06it/s]\u001b[A\n",
            "Vailing:  33%|███▎      | 40/120 [00:10<00:19,  4.09it/s]\u001b[A\n",
            "Vailing:  34%|███▍      | 41/120 [00:10<00:19,  4.09it/s]\u001b[A\n",
            "Vailing:  35%|███▌      | 42/120 [00:11<00:19,  4.06it/s]\u001b[A\n",
            "Vailing:  36%|███▌      | 43/120 [00:11<00:19,  4.03it/s]\u001b[A\n",
            "Vailing:  37%|███▋      | 44/120 [00:11<00:18,  4.02it/s]\u001b[A\n",
            "Vailing:  38%|███▊      | 45/120 [00:11<00:18,  3.99it/s]\u001b[A\n",
            "Vailing:  38%|███▊      | 46/120 [00:12<00:18,  3.98it/s]\u001b[A\n",
            "Vailing:  39%|███▉      | 47/120 [00:12<00:18,  3.91it/s]\u001b[A\n",
            "Vailing:  40%|████      | 48/120 [00:12<00:18,  3.97it/s]\u001b[A\n",
            "Vailing:  41%|████      | 49/120 [00:12<00:17,  4.01it/s]\u001b[A\n",
            "Vailing:  42%|████▏     | 50/120 [00:13<00:17,  4.05it/s]\u001b[A\n",
            "Vailing:  42%|████▎     | 51/120 [00:13<00:17,  3.93it/s]\u001b[A\n",
            "Vailing:  43%|████▎     | 52/120 [00:13<00:17,  3.98it/s]\u001b[A\n",
            "Vailing:  44%|████▍     | 53/120 [00:13<00:16,  4.00it/s]\u001b[A\n",
            "Vailing:  45%|████▌     | 54/120 [00:14<00:16,  4.01it/s]\u001b[A\n",
            "Vailing:  46%|████▌     | 55/120 [00:14<00:17,  3.80it/s]\u001b[A\n",
            "Vailing:  47%|████▋     | 56/120 [00:14<00:17,  3.68it/s]\u001b[A\n",
            "Vailing:  48%|████▊     | 57/120 [00:15<00:17,  3.65it/s]\u001b[A\n",
            "Vailing:  48%|████▊     | 58/120 [00:15<00:17,  3.57it/s]\u001b[A\n",
            "Vailing:  49%|████▉     | 59/120 [00:15<00:17,  3.47it/s]\u001b[A\n",
            "Vailing:  50%|█████     | 60/120 [00:15<00:17,  3.46it/s]\u001b[A\n",
            "Vailing:  51%|█████     | 61/120 [00:16<00:16,  3.50it/s]\u001b[A\n",
            "Vailing:  52%|█████▏    | 62/120 [00:16<00:16,  3.47it/s]\u001b[A\n",
            "Vailing:  52%|█████▎    | 63/120 [00:16<00:16,  3.42it/s]\u001b[A\n",
            "Vailing:  53%|█████▎    | 64/120 [00:17<00:16,  3.46it/s]\u001b[A\n",
            "Vailing:  54%|█████▍    | 65/120 [00:17<00:15,  3.62it/s]\u001b[A\n",
            "Vailing:  55%|█████▌    | 66/120 [00:17<00:14,  3.77it/s]\u001b[A\n",
            "Vailing:  56%|█████▌    | 67/120 [00:17<00:13,  3.85it/s]\u001b[A\n",
            "Vailing:  57%|█████▋    | 68/120 [00:18<00:13,  3.92it/s]\u001b[A\n",
            "Vailing:  57%|█████▊    | 69/120 [00:18<00:12,  3.98it/s]\u001b[A\n",
            "Vailing:  58%|█████▊    | 70/120 [00:18<00:12,  4.00it/s]\u001b[A\n",
            "Vailing:  59%|█████▉    | 71/120 [00:18<00:12,  4.03it/s]\u001b[A\n",
            "Vailing:  60%|██████    | 72/120 [00:19<00:11,  4.06it/s]\u001b[A\n",
            "Vailing:  61%|██████    | 73/120 [00:19<00:11,  4.06it/s]\u001b[A\n",
            "Vailing:  62%|██████▏   | 74/120 [00:19<00:11,  4.08it/s]\u001b[A\n",
            "Vailing:  62%|██████▎   | 75/120 [00:19<00:11,  4.08it/s]\u001b[A\n",
            "Vailing:  63%|██████▎   | 76/120 [00:20<00:10,  4.08it/s]\u001b[A\n",
            "Vailing:  64%|██████▍   | 77/120 [00:20<00:10,  4.06it/s]\u001b[A\n",
            "Vailing:  65%|██████▌   | 78/120 [00:20<00:10,  4.09it/s]\u001b[A\n",
            "Vailing:  66%|██████▌   | 79/120 [00:20<00:10,  4.02it/s]\u001b[A\n",
            "Vailing:  67%|██████▋   | 80/120 [00:21<00:09,  4.03it/s]\u001b[A\n",
            "Vailing:  68%|██████▊   | 81/120 [00:21<00:09,  4.07it/s]\u001b[A\n",
            "Vailing:  68%|██████▊   | 82/120 [00:21<00:09,  4.11it/s]\u001b[A\n",
            "Vailing:  69%|██████▉   | 83/120 [00:21<00:09,  4.02it/s]\u001b[A\n",
            "Vailing:  70%|███████   | 84/120 [00:21<00:08,  4.05it/s]\u001b[A\n",
            "Vailing:  71%|███████   | 85/120 [00:22<00:08,  4.06it/s]\u001b[A\n",
            "Vailing:  72%|███████▏  | 86/120 [00:22<00:08,  4.07it/s]\u001b[A\n",
            "Vailing:  72%|███████▎  | 87/120 [00:22<00:08,  4.08it/s]\u001b[A\n",
            "Vailing:  73%|███████▎  | 88/120 [00:22<00:07,  4.12it/s]\u001b[A\n",
            "Vailing:  74%|███████▍  | 89/120 [00:23<00:07,  4.09it/s]\u001b[A\n",
            "Vailing:  75%|███████▌  | 90/120 [00:23<00:07,  4.10it/s]\u001b[A\n",
            "Vailing:  76%|███████▌  | 91/120 [00:23<00:07,  4.11it/s]\u001b[A\n",
            "Vailing:  77%|███████▋  | 92/120 [00:23<00:06,  4.11it/s]\u001b[A\n",
            "Vailing:  78%|███████▊  | 93/120 [00:24<00:06,  4.10it/s]\u001b[A\n",
            "Vailing:  78%|███████▊  | 94/120 [00:24<00:06,  4.08it/s]\u001b[A\n",
            "Vailing:  79%|███████▉  | 95/120 [00:24<00:06,  4.06it/s]\u001b[A\n",
            "Vailing:  80%|████████  | 96/120 [00:24<00:05,  4.08it/s]\u001b[A\n",
            "Vailing:  81%|████████  | 97/120 [00:25<00:05,  4.08it/s]\u001b[A\n",
            "Vailing:  82%|████████▏ | 98/120 [00:25<00:05,  4.10it/s]\u001b[A\n",
            "Vailing:  82%|████████▎ | 99/120 [00:25<00:05,  4.09it/s]\u001b[A\n",
            "Vailing:  83%|████████▎ | 100/120 [00:25<00:04,  4.05it/s]\u001b[A\n",
            "Vailing:  84%|████████▍ | 101/120 [00:26<00:04,  3.99it/s]\u001b[A\n",
            "Vailing:  85%|████████▌ | 102/120 [00:26<00:04,  4.02it/s]\u001b[A\n",
            "Vailing:  86%|████████▌ | 103/120 [00:26<00:04,  4.06it/s]\u001b[A\n",
            "Vailing:  87%|████████▋ | 104/120 [00:26<00:04,  3.96it/s]\u001b[A\n",
            "Vailing:  88%|████████▊ | 105/120 [00:27<00:03,  4.00it/s]\u001b[A\n",
            "Vailing:  88%|████████▊ | 106/120 [00:27<00:03,  3.85it/s]\u001b[A\n",
            "Vailing:  89%|████████▉ | 107/120 [00:27<00:03,  3.68it/s]\u001b[A\n",
            "Vailing:  90%|█████████ | 108/120 [00:28<00:03,  3.57it/s]\u001b[A\n",
            "Vailing:  91%|█████████ | 109/120 [00:28<00:03,  3.51it/s]\u001b[A\n",
            "Vailing:  92%|█████████▏| 110/120 [00:28<00:02,  3.48it/s]\u001b[A\n",
            "Vailing:  92%|█████████▎| 111/120 [00:28<00:02,  3.44it/s]\u001b[A\n",
            "Vailing:  93%|█████████▎| 112/120 [00:29<00:02,  3.46it/s]\u001b[A\n",
            "Vailing:  94%|█████████▍| 113/120 [00:29<00:02,  3.45it/s]\u001b[A\n",
            "Vailing:  95%|█████████▌| 114/120 [00:29<00:01,  3.41it/s]\u001b[A\n",
            "Vailing:  96%|█████████▌| 115/120 [00:30<00:01,  3.39it/s]\u001b[A\n",
            "Vailing:  97%|█████████▋| 116/120 [00:30<00:01,  3.55it/s]\u001b[A\n",
            "Vailing:  98%|█████████▊| 117/120 [00:30<00:00,  3.67it/s]\u001b[A\n",
            "Vailing:  98%|█████████▊| 118/120 [00:30<00:00,  3.79it/s]\u001b[A\n",
            "Vailing:  99%|█████████▉| 119/120 [00:31<00:00,  3.84it/s]\u001b[A\n",
            "Vailing: 100%|██████████| 120/120 [00:31<00:00,  3.83it/s]\n"
          ]
        },
        {
          "name": "stdout",
          "output_type": "stream",
          "text": [
            "验证集评估报告：\n",
            "               precision    recall  f1-score   support\n",
            "\n",
            "           0       0.48      0.60      0.53       700\n",
            "           1       0.51      0.79      0.62       701\n",
            "           2       0.90      0.83      0.86      3793\n",
            "           3       0.78      0.78      0.78      1574\n",
            "           4       0.82      0.87      0.84      1593\n",
            "           5       0.82      0.87      0.85      1940\n",
            "           6       0.82      0.71      0.76      1695\n",
            "           7       0.81      0.77      0.79      1002\n",
            "           8       0.88      0.81      0.85      2327\n",
            "\n",
            "    accuracy                           0.80     15325\n",
            "   macro avg       0.76      0.78      0.76     15325\n",
            "weighted avg       0.82      0.80      0.81     15325\n",
            "\n",
            "验证集的f1: 0.7644, accuracy:0.8011, precision:0.7580, recall:0.7812\n"
          ]
        },
        {
          "name": "stderr",
          "output_type": "stream",
          "text": [
            "\rtraining....:  27%|██▋       | 600/2193 [09:26<4:34:38, 10.34s/it]"
          ]
        },
        {
          "name": "stdout",
          "output_type": "stream",
          "text": [
            "保存模型成功, 当前f1分数: 0.7644450079383421\n"
          ]
        },
        {
          "name": "stderr",
          "output_type": "stream",
          "text": [
            "training....:  28%|██▊       | 610/2193 [09:32<23:24,  1.13it/s]"
          ]
        },
        {
          "name": "stdout",
          "output_type": "stream",
          "text": [
            "epoch:1,batch:610,loss:0.7133,train_f1:0.7695,acc:0.7734\n"
          ]
        },
        {
          "name": "stderr",
          "output_type": "stream",
          "text": [
            "training....:  28%|██▊       | 620/2193 [09:38<16:25,  1.60it/s]"
          ]
        },
        {
          "name": "stdout",
          "output_type": "stream",
          "text": [
            "epoch:1,batch:620,loss:0.7322,train_f1:0.7774,acc:0.7805\n"
          ]
        },
        {
          "name": "stderr",
          "output_type": "stream",
          "text": [
            "training....:  29%|██▊       | 630/2193 [09:45<16:06,  1.62it/s]"
          ]
        },
        {
          "name": "stdout",
          "output_type": "stream",
          "text": [
            "epoch:1,batch:630,loss:0.7343,train_f1:0.7690,acc:0.7703\n"
          ]
        },
        {
          "name": "stderr",
          "output_type": "stream",
          "text": [
            "training....:  29%|██▉       | 640/2193 [09:51<15:53,  1.63it/s]"
          ]
        },
        {
          "name": "stdout",
          "output_type": "stream",
          "text": [
            "epoch:1,batch:640,loss:0.7757,train_f1:0.7619,acc:0.7641\n"
          ]
        },
        {
          "name": "stderr",
          "output_type": "stream",
          "text": [
            "training....:  30%|██▉       | 650/2193 [09:57<15:49,  1.62it/s]"
          ]
        },
        {
          "name": "stdout",
          "output_type": "stream",
          "text": [
            "epoch:1,batch:650,loss:0.7977,train_f1:0.7313,acc:0.7336\n"
          ]
        },
        {
          "name": "stderr",
          "output_type": "stream",
          "text": [
            "training....:  30%|███       | 660/2193 [10:03<15:55,  1.60it/s]"
          ]
        },
        {
          "name": "stdout",
          "output_type": "stream",
          "text": [
            "epoch:1,batch:660,loss:0.7337,train_f1:0.7696,acc:0.7727\n"
          ]
        },
        {
          "name": "stderr",
          "output_type": "stream",
          "text": [
            "training....:  31%|███       | 670/2193 [10:09<15:38,  1.62it/s]"
          ]
        },
        {
          "name": "stdout",
          "output_type": "stream",
          "text": [
            "epoch:1,batch:670,loss:0.7319,train_f1:0.7682,acc:0.7711\n"
          ]
        },
        {
          "name": "stderr",
          "output_type": "stream",
          "text": [
            "training....:  31%|███       | 680/2193 [10:15<15:35,  1.62it/s]"
          ]
        },
        {
          "name": "stdout",
          "output_type": "stream",
          "text": [
            "epoch:1,batch:680,loss:0.6786,train_f1:0.7788,acc:0.7836\n"
          ]
        },
        {
          "name": "stderr",
          "output_type": "stream",
          "text": [
            "training....:  31%|███▏      | 690/2193 [10:22<15:26,  1.62it/s]"
          ]
        },
        {
          "name": "stdout",
          "output_type": "stream",
          "text": [
            "epoch:1,batch:690,loss:0.7033,train_f1:0.7733,acc:0.7742\n"
          ]
        },
        {
          "name": "stderr",
          "output_type": "stream",
          "text": [
            "training....:  32%|███▏      | 699/2193 [10:27<15:17,  1.63it/s]"
          ]
        },
        {
          "name": "stdout",
          "output_type": "stream",
          "text": [
            "epoch:1,batch:700,loss:0.7308,train_f1:0.7714,acc:0.7719\n"
          ]
        },
        {
          "name": "stderr",
          "output_type": "stream",
          "text": [
            "\n",
            "Vailing:   0%|          | 0/120 [00:00<?, ?it/s]\u001b[A\n",
            "Vailing:   1%|          | 1/120 [00:00<01:08,  1.73it/s]\u001b[A\n",
            "Vailing:   2%|▏         | 2/120 [00:00<00:47,  2.46it/s]\u001b[A\n",
            "Vailing:   2%|▎         | 3/120 [00:01<00:41,  2.79it/s]\u001b[A\n",
            "Vailing:   3%|▎         | 4/120 [00:01<00:38,  3.04it/s]\u001b[A\n",
            "Vailing:   4%|▍         | 5/120 [00:01<00:34,  3.30it/s]\u001b[A\n",
            "Vailing:   5%|▌         | 6/120 [00:01<00:32,  3.54it/s]\u001b[A\n",
            "Vailing:   6%|▌         | 7/120 [00:02<00:30,  3.73it/s]\u001b[A\n",
            "Vailing:   7%|▋         | 8/120 [00:02<00:29,  3.85it/s]\u001b[A\n",
            "Vailing:   8%|▊         | 9/120 [00:02<00:28,  3.93it/s]\u001b[A\n",
            "Vailing:   8%|▊         | 10/120 [00:02<00:27,  3.95it/s]\u001b[A\n",
            "Vailing:   9%|▉         | 11/120 [00:03<00:27,  3.97it/s]\u001b[A\n",
            "Vailing:  10%|█         | 12/120 [00:03<00:27,  3.97it/s]\u001b[A\n",
            "Vailing:  11%|█         | 13/120 [00:03<00:26,  3.99it/s]\u001b[A\n",
            "Vailing:  12%|█▏        | 14/120 [00:03<00:26,  4.02it/s]\u001b[A\n",
            "Vailing:  12%|█▎        | 15/120 [00:04<00:26,  3.96it/s]\u001b[A\n",
            "Vailing:  13%|█▎        | 16/120 [00:04<00:26,  4.00it/s]\u001b[A\n",
            "Vailing:  14%|█▍        | 17/120 [00:04<00:25,  4.03it/s]\u001b[A\n",
            "Vailing:  15%|█▌        | 18/120 [00:04<00:25,  4.06it/s]\u001b[A\n",
            "Vailing:  16%|█▌        | 19/120 [00:05<00:24,  4.07it/s]\u001b[A\n",
            "Vailing:  17%|█▋        | 20/120 [00:05<00:24,  4.07it/s]\u001b[A\n",
            "Vailing:  18%|█▊        | 21/120 [00:05<00:24,  4.08it/s]\u001b[A\n",
            "Vailing:  18%|█▊        | 22/120 [00:05<00:23,  4.09it/s]\u001b[A\n",
            "Vailing:  19%|█▉        | 23/120 [00:06<00:23,  4.10it/s]\u001b[A\n",
            "Vailing:  20%|██        | 24/120 [00:06<00:23,  4.07it/s]\u001b[A\n",
            "Vailing:  21%|██        | 25/120 [00:06<00:23,  4.05it/s]\u001b[A\n",
            "Vailing:  22%|██▏       | 26/120 [00:06<00:23,  4.04it/s]\u001b[A\n",
            "Vailing:  22%|██▎       | 27/120 [00:07<00:22,  4.09it/s]\u001b[A\n",
            "Vailing:  23%|██▎       | 28/120 [00:07<00:22,  4.10it/s]\u001b[A\n",
            "Vailing:  24%|██▍       | 29/120 [00:07<00:22,  4.08it/s]\u001b[A\n",
            "Vailing:  25%|██▌       | 30/120 [00:07<00:21,  4.11it/s]\u001b[A\n",
            "Vailing:  26%|██▌       | 31/120 [00:08<00:21,  4.11it/s]\u001b[A\n",
            "Vailing:  27%|██▋       | 32/120 [00:08<00:21,  4.07it/s]\u001b[A\n",
            "Vailing:  28%|██▊       | 33/120 [00:08<00:21,  4.06it/s]\u001b[A\n",
            "Vailing:  28%|██▊       | 34/120 [00:08<00:21,  4.08it/s]\u001b[A\n",
            "Vailing:  29%|██▉       | 35/120 [00:09<00:20,  4.10it/s]\u001b[A\n",
            "Vailing:  30%|███       | 36/120 [00:09<00:20,  4.04it/s]\u001b[A\n",
            "Vailing:  31%|███       | 37/120 [00:09<00:20,  4.00it/s]\u001b[A\n",
            "Vailing:  32%|███▏      | 38/120 [00:09<00:20,  4.03it/s]\u001b[A\n",
            "Vailing:  32%|███▎      | 39/120 [00:10<00:19,  4.07it/s]\u001b[A\n",
            "Vailing:  33%|███▎      | 40/120 [00:10<00:19,  4.07it/s]\u001b[A\n",
            "Vailing:  34%|███▍      | 41/120 [00:10<00:19,  4.08it/s]\u001b[A\n",
            "Vailing:  35%|███▌      | 42/120 [00:10<00:18,  4.11it/s]\u001b[A\n",
            "Vailing:  36%|███▌      | 43/120 [00:11<00:18,  4.11it/s]\u001b[A\n",
            "Vailing:  37%|███▋      | 44/120 [00:11<00:18,  4.10it/s]\u001b[A\n",
            "Vailing:  38%|███▊      | 45/120 [00:11<00:18,  4.06it/s]\u001b[A\n",
            "Vailing:  38%|███▊      | 46/120 [00:11<00:19,  3.85it/s]\u001b[A\n",
            "Vailing:  39%|███▉      | 47/120 [00:12<00:19,  3.75it/s]\u001b[A\n",
            "Vailing:  40%|████      | 48/120 [00:12<00:19,  3.65it/s]\u001b[A\n",
            "Vailing:  41%|████      | 49/120 [00:12<00:19,  3.57it/s]\u001b[A\n",
            "Vailing:  42%|████▏     | 50/120 [00:12<00:19,  3.53it/s]\u001b[A\n",
            "Vailing:  42%|████▎     | 51/120 [00:13<00:19,  3.51it/s]\u001b[A\n",
            "Vailing:  43%|████▎     | 52/120 [00:13<00:19,  3.51it/s]\u001b[A\n",
            "Vailing:  44%|████▍     | 53/120 [00:13<00:19,  3.49it/s]\u001b[A\n",
            "Vailing:  45%|████▌     | 54/120 [00:14<00:18,  3.49it/s]\u001b[A\n",
            "Vailing:  46%|████▌     | 55/120 [00:14<00:18,  3.44it/s]\u001b[A\n",
            "Vailing:  47%|████▋     | 56/120 [00:14<00:17,  3.62it/s]\u001b[A\n",
            "Vailing:  48%|████▊     | 57/120 [00:14<00:16,  3.77it/s]\u001b[A\n",
            "Vailing:  48%|████▊     | 58/120 [00:15<00:16,  3.87it/s]\u001b[A\n",
            "Vailing:  49%|████▉     | 59/120 [00:15<00:15,  3.91it/s]\u001b[A\n",
            "Vailing:  50%|█████     | 60/120 [00:15<00:15,  3.93it/s]\u001b[A\n",
            "Vailing:  51%|█████     | 61/120 [00:15<00:14,  3.94it/s]\u001b[A\n",
            "Vailing:  52%|█████▏    | 62/120 [00:16<00:14,  3.98it/s]\u001b[A\n",
            "Vailing:  52%|█████▎    | 63/120 [00:16<00:14,  4.04it/s]\u001b[A\n",
            "Vailing:  53%|█████▎    | 64/120 [00:16<00:14,  3.94it/s]\u001b[A\n",
            "Vailing:  54%|█████▍    | 65/120 [00:16<00:13,  3.98it/s]\u001b[A\n",
            "Vailing:  55%|█████▌    | 66/120 [00:17<00:13,  4.01it/s]\u001b[A\n",
            "Vailing:  56%|█████▌    | 67/120 [00:17<00:13,  4.03it/s]\u001b[A\n",
            "Vailing:  57%|█████▋    | 68/120 [00:17<00:12,  4.02it/s]\u001b[A\n",
            "Vailing:  57%|█████▊    | 69/120 [00:17<00:12,  4.07it/s]\u001b[A\n",
            "Vailing:  58%|█████▊    | 70/120 [00:18<00:12,  4.05it/s]\u001b[A\n",
            "Vailing:  59%|█████▉    | 71/120 [00:18<00:12,  4.05it/s]\u001b[A\n",
            "Vailing:  60%|██████    | 72/120 [00:18<00:11,  4.06it/s]\u001b[A\n",
            "Vailing:  61%|██████    | 73/120 [00:18<00:11,  4.05it/s]\u001b[A\n",
            "Vailing:  62%|██████▏   | 74/120 [00:19<00:11,  4.06it/s]\u001b[A\n",
            "Vailing:  62%|██████▎   | 75/120 [00:19<00:11,  4.02it/s]\u001b[A\n",
            "Vailing:  63%|██████▎   | 76/120 [00:19<00:10,  4.03it/s]\u001b[A\n",
            "Vailing:  64%|██████▍   | 77/120 [00:19<00:10,  4.05it/s]\u001b[A\n",
            "Vailing:  65%|██████▌   | 78/120 [00:20<00:10,  4.06it/s]\u001b[A\n",
            "Vailing:  66%|██████▌   | 79/120 [00:20<00:10,  4.04it/s]\u001b[A\n",
            "Vailing:  67%|██████▋   | 80/120 [00:20<00:09,  4.03it/s]\u001b[A\n",
            "Vailing:  68%|██████▊   | 81/120 [00:20<00:09,  4.04it/s]\u001b[A\n",
            "Vailing:  68%|██████▊   | 82/120 [00:21<00:09,  4.07it/s]\u001b[A\n",
            "Vailing:  69%|██████▉   | 83/120 [00:21<00:09,  4.05it/s]\u001b[A\n",
            "Vailing:  70%|███████   | 84/120 [00:21<00:08,  4.05it/s]\u001b[A\n",
            "Vailing:  71%|███████   | 85/120 [00:21<00:08,  4.02it/s]\u001b[A\n",
            "Vailing:  72%|███████▏  | 86/120 [00:22<00:08,  4.02it/s]\u001b[A\n",
            "Vailing:  72%|███████▎  | 87/120 [00:22<00:08,  4.03it/s]\u001b[A\n",
            "Vailing:  73%|███████▎  | 88/120 [00:22<00:07,  4.04it/s]\u001b[A\n",
            "Vailing:  74%|███████▍  | 89/120 [00:22<00:07,  4.00it/s]\u001b[A\n",
            "Vailing:  75%|███████▌  | 90/120 [00:23<00:07,  4.02it/s]\u001b[A\n",
            "Vailing:  76%|███████▌  | 91/120 [00:23<00:07,  4.02it/s]\u001b[A\n",
            "Vailing:  77%|███████▋  | 92/120 [00:23<00:06,  4.06it/s]\u001b[A\n",
            "Vailing:  78%|███████▊  | 93/120 [00:23<00:06,  4.09it/s]\u001b[A\n",
            "Vailing:  78%|███████▊  | 94/120 [00:24<00:06,  4.10it/s]\u001b[A\n",
            "Vailing:  79%|███████▉  | 95/120 [00:24<00:06,  4.09it/s]\u001b[A\n",
            "Vailing:  80%|████████  | 96/120 [00:24<00:05,  4.11it/s]\u001b[A\n",
            "Vailing:  81%|████████  | 97/120 [00:24<00:05,  3.90it/s]\u001b[A\n",
            "Vailing:  82%|████████▏ | 98/120 [00:25<00:05,  3.72it/s]\u001b[A\n",
            "Vailing:  82%|████████▎ | 99/120 [00:25<00:05,  3.66it/s]\u001b[A\n",
            "Vailing:  83%|████████▎ | 100/120 [00:25<00:05,  3.54it/s]\u001b[A\n",
            "Vailing:  84%|████████▍ | 101/120 [00:26<00:05,  3.54it/s]\u001b[A\n",
            "Vailing:  85%|████████▌ | 102/120 [00:26<00:05,  3.52it/s]\u001b[A\n",
            "Vailing:  86%|████████▌ | 103/120 [00:26<00:04,  3.51it/s]\u001b[A\n",
            "Vailing:  87%|████████▋ | 104/120 [00:26<00:04,  3.50it/s]\u001b[A\n",
            "Vailing:  88%|████████▊ | 105/120 [00:27<00:04,  3.46it/s]\u001b[A\n",
            "Vailing:  88%|████████▊ | 106/120 [00:27<00:04,  3.42it/s]\u001b[A\n",
            "Vailing:  89%|████████▉ | 107/120 [00:27<00:03,  3.59it/s]\u001b[A\n",
            "Vailing:  90%|█████████ | 108/120 [00:27<00:03,  3.72it/s]\u001b[A\n",
            "Vailing:  91%|█████████ | 109/120 [00:28<00:02,  3.83it/s]\u001b[A\n",
            "Vailing:  92%|█████████▏| 110/120 [00:28<00:02,  3.91it/s]\u001b[A\n",
            "Vailing:  92%|█████████▎| 111/120 [00:28<00:02,  3.96it/s]\u001b[A\n",
            "Vailing:  93%|█████████▎| 112/120 [00:28<00:01,  4.01it/s]\u001b[A\n",
            "Vailing:  94%|█████████▍| 113/120 [00:29<00:01,  4.03it/s]\u001b[A\n",
            "Vailing:  95%|█████████▌| 114/120 [00:29<00:01,  4.02it/s]\u001b[A\n",
            "Vailing:  96%|█████████▌| 115/120 [00:29<00:01,  4.02it/s]\u001b[A\n",
            "Vailing:  97%|█████████▋| 116/120 [00:29<00:00,  4.04it/s]\u001b[A\n",
            "Vailing:  98%|█████████▊| 117/120 [00:30<00:00,  3.97it/s]\u001b[A\n",
            "Vailing:  98%|█████████▊| 118/120 [00:30<00:00,  3.97it/s]\u001b[A\n",
            "Vailing:  99%|█████████▉| 119/120 [00:30<00:00,  3.98it/s]\u001b[A\n",
            "Vailing: 100%|██████████| 120/120 [00:30<00:00,  3.89it/s]\n"
          ]
        },
        {
          "name": "stdout",
          "output_type": "stream",
          "text": [
            "验证集评估报告：\n",
            "               precision    recall  f1-score   support\n",
            "\n",
            "           0       0.45      0.63      0.52       700\n",
            "           1       0.52      0.80      0.63       701\n",
            "           2       0.90      0.85      0.87      3793\n",
            "           3       0.86      0.75      0.80      1574\n",
            "           4       0.86      0.85      0.86      1593\n",
            "           5       0.85      0.85      0.85      1940\n",
            "           6       0.84      0.73      0.78      1695\n",
            "           7       0.73      0.80      0.76      1002\n",
            "           8       0.87      0.83      0.85      2327\n",
            "\n",
            "    accuracy                           0.81     15325\n",
            "   macro avg       0.76      0.79      0.77     15325\n",
            "weighted avg       0.82      0.81      0.81     15325\n",
            "\n",
            "验证集的f1: 0.7682, accuracy:0.8063, precision:0.7627, recall:0.7858\n"
          ]
        },
        {
          "name": "stderr",
          "output_type": "stream",
          "text": [
            "\rtraining....:  32%|███▏      | 700/2193 [11:00<4:14:50, 10.24s/it]"
          ]
        },
        {
          "name": "stdout",
          "output_type": "stream",
          "text": [
            "保存模型成功, 当前f1分数: 0.768215672397374\n"
          ]
        },
        {
          "name": "stderr",
          "output_type": "stream",
          "text": [
            "training....:  32%|███▏      | 710/2193 [11:06<21:53,  1.13it/s]"
          ]
        },
        {
          "name": "stdout",
          "output_type": "stream",
          "text": [
            "epoch:1,batch:710,loss:0.7260,train_f1:0.7662,acc:0.7680\n"
          ]
        },
        {
          "name": "stderr",
          "output_type": "stream",
          "text": [
            "training....:  33%|███▎      | 720/2193 [11:12<15:20,  1.60it/s]"
          ]
        },
        {
          "name": "stdout",
          "output_type": "stream",
          "text": [
            "epoch:1,batch:720,loss:0.7399,train_f1:0.7742,acc:0.7758\n"
          ]
        },
        {
          "name": "stderr",
          "output_type": "stream",
          "text": [
            "training....:  33%|███▎      | 730/2193 [11:18<15:10,  1.61it/s]"
          ]
        },
        {
          "name": "stdout",
          "output_type": "stream",
          "text": [
            "epoch:1,batch:730,loss:0.7502,train_f1:0.7608,acc:0.7617\n"
          ]
        },
        {
          "name": "stderr",
          "output_type": "stream",
          "text": [
            "training....:  34%|███▎      | 740/2193 [11:24<14:54,  1.62it/s]"
          ]
        },
        {
          "name": "stdout",
          "output_type": "stream",
          "text": [
            "epoch:1,batch:740,loss:0.6838,train_f1:0.7824,acc:0.7844\n"
          ]
        },
        {
          "name": "stderr",
          "output_type": "stream",
          "text": [
            "training....:  34%|███▍      | 750/2193 [11:30<14:54,  1.61it/s]"
          ]
        },
        {
          "name": "stdout",
          "output_type": "stream",
          "text": [
            "epoch:1,batch:750,loss:0.6766,train_f1:0.7839,acc:0.7875\n"
          ]
        },
        {
          "name": "stderr",
          "output_type": "stream",
          "text": [
            "training....:  35%|███▍      | 760/2193 [11:37<14:43,  1.62it/s]"
          ]
        },
        {
          "name": "stdout",
          "output_type": "stream",
          "text": [
            "epoch:1,batch:760,loss:0.7122,train_f1:0.7748,acc:0.7766\n"
          ]
        },
        {
          "name": "stderr",
          "output_type": "stream",
          "text": [
            "training....:  35%|███▌      | 770/2193 [11:43<14:40,  1.62it/s]"
          ]
        },
        {
          "name": "stdout",
          "output_type": "stream",
          "text": [
            "epoch:1,batch:770,loss:0.7739,train_f1:0.7595,acc:0.7609\n"
          ]
        },
        {
          "name": "stderr",
          "output_type": "stream",
          "text": [
            "training....:  36%|███▌      | 780/2193 [11:49<14:28,  1.63it/s]"
          ]
        },
        {
          "name": "stdout",
          "output_type": "stream",
          "text": [
            "epoch:1,batch:780,loss:0.6989,train_f1:0.7735,acc:0.7750\n"
          ]
        },
        {
          "name": "stderr",
          "output_type": "stream",
          "text": [
            "training....:  36%|███▌      | 790/2193 [11:55<14:24,  1.62it/s]"
          ]
        },
        {
          "name": "stdout",
          "output_type": "stream",
          "text": [
            "epoch:1,batch:790,loss:0.7496,train_f1:0.7579,acc:0.7562\n"
          ]
        },
        {
          "name": "stderr",
          "output_type": "stream",
          "text": [
            "training....:  36%|███▋      | 799/2193 [12:01<14:14,  1.63it/s]"
          ]
        },
        {
          "name": "stdout",
          "output_type": "stream",
          "text": [
            "epoch:1,batch:800,loss:0.7065,train_f1:0.7799,acc:0.7836\n"
          ]
        },
        {
          "name": "stderr",
          "output_type": "stream",
          "text": [
            "\n",
            "Vailing:   0%|          | 0/120 [00:00<?, ?it/s]\u001b[A\n",
            "Vailing:   1%|          | 1/120 [00:00<01:08,  1.73it/s]\u001b[A\n",
            "Vailing:   2%|▏         | 2/120 [00:00<00:45,  2.61it/s]\u001b[A\n",
            "Vailing:   2%|▎         | 3/120 [00:01<00:37,  3.13it/s]\u001b[A\n",
            "Vailing:   3%|▎         | 4/120 [00:01<00:33,  3.46it/s]\u001b[A\n",
            "Vailing:   4%|▍         | 5/120 [00:01<00:31,  3.68it/s]\u001b[A\n",
            "Vailing:   5%|▌         | 6/120 [00:01<00:29,  3.81it/s]\u001b[A\n",
            "Vailing:   6%|▌         | 7/120 [00:02<00:29,  3.89it/s]\u001b[A\n",
            "Vailing:   7%|▋         | 8/120 [00:02<00:28,  3.96it/s]\u001b[A\n",
            "Vailing:   8%|▊         | 9/120 [00:02<00:28,  3.92it/s]\u001b[A\n",
            "Vailing:   8%|▊         | 10/120 [00:02<00:27,  3.96it/s]\u001b[A\n",
            "Vailing:   9%|▉         | 11/120 [00:03<00:27,  4.01it/s]\u001b[A\n",
            "Vailing:  10%|█         | 12/120 [00:03<00:26,  4.05it/s]\u001b[A\n",
            "Vailing:  11%|█         | 13/120 [00:03<00:26,  4.08it/s]\u001b[A\n",
            "Vailing:  12%|█▏        | 14/120 [00:03<00:26,  4.08it/s]\u001b[A\n",
            "Vailing:  12%|█▎        | 15/120 [00:04<00:25,  4.06it/s]\u001b[A\n",
            "Vailing:  13%|█▎        | 16/120 [00:04<00:25,  4.06it/s]\u001b[A\n",
            "Vailing:  14%|█▍        | 17/120 [00:04<00:25,  4.06it/s]\u001b[A\n",
            "Vailing:  15%|█▌        | 18/120 [00:04<00:25,  4.06it/s]\u001b[A\n",
            "Vailing:  16%|█▌        | 19/120 [00:04<00:24,  4.07it/s]\u001b[A\n",
            "Vailing:  17%|█▋        | 20/120 [00:05<00:24,  4.08it/s]\u001b[A\n",
            "Vailing:  18%|█▊        | 21/120 [00:05<00:24,  4.09it/s]\u001b[A\n",
            "Vailing:  18%|█▊        | 22/120 [00:05<00:23,  4.10it/s]\u001b[A\n",
            "Vailing:  19%|█▉        | 23/120 [00:05<00:23,  4.08it/s]\u001b[A\n",
            "Vailing:  20%|██        | 24/120 [00:06<00:23,  4.08it/s]\u001b[A\n",
            "Vailing:  21%|██        | 25/120 [00:06<00:23,  4.11it/s]\u001b[A\n",
            "Vailing:  22%|██▏       | 26/120 [00:06<00:22,  4.10it/s]\u001b[A\n",
            "Vailing:  22%|██▎       | 27/120 [00:06<00:22,  4.09it/s]\u001b[A\n",
            "Vailing:  23%|██▎       | 28/120 [00:07<00:22,  4.05it/s]\u001b[A\n",
            "Vailing:  24%|██▍       | 29/120 [00:07<00:22,  4.07it/s]\u001b[A\n",
            "Vailing:  25%|██▌       | 30/120 [00:07<00:22,  4.01it/s]\u001b[A\n",
            "Vailing:  26%|██▌       | 31/120 [00:07<00:22,  4.04it/s]\u001b[A\n",
            "Vailing:  27%|██▋       | 32/120 [00:08<00:21,  4.07it/s]\u001b[A\n",
            "Vailing:  28%|██▊       | 33/120 [00:08<00:21,  4.08it/s]\u001b[A\n",
            "Vailing:  28%|██▊       | 34/120 [00:08<00:21,  4.07it/s]\u001b[A\n",
            "Vailing:  29%|██▉       | 35/120 [00:08<00:20,  4.08it/s]\u001b[A\n",
            "Vailing:  30%|███       | 36/120 [00:09<00:20,  4.09it/s]\u001b[A\n",
            "Vailing:  31%|███       | 37/120 [00:09<00:20,  4.02it/s]\u001b[A\n",
            "Vailing:  32%|███▏      | 38/120 [00:09<00:21,  3.83it/s]\u001b[A\n",
            "Vailing:  32%|███▎      | 39/120 [00:10<00:21,  3.68it/s]\u001b[A\n",
            "Vailing:  33%|███▎      | 40/120 [00:10<00:22,  3.60it/s]\u001b[A\n",
            "Vailing:  34%|███▍      | 41/120 [00:10<00:22,  3.54it/s]\u001b[A\n",
            "Vailing:  35%|███▌      | 42/120 [00:10<00:22,  3.50it/s]\u001b[A\n",
            "Vailing:  36%|███▌      | 43/120 [00:11<00:22,  3.50it/s]\u001b[A\n",
            "Vailing:  37%|███▋      | 44/120 [00:11<00:21,  3.49it/s]\u001b[A\n",
            "Vailing:  38%|███▊      | 45/120 [00:11<00:21,  3.47it/s]\u001b[A\n",
            "Vailing:  38%|███▊      | 46/120 [00:12<00:21,  3.44it/s]\u001b[A\n",
            "Vailing:  39%|███▉      | 47/120 [00:12<00:21,  3.40it/s]\u001b[A\n",
            "Vailing:  40%|████      | 48/120 [00:12<00:20,  3.58it/s]\u001b[A\n",
            "Vailing:  41%|████      | 49/120 [00:12<00:19,  3.71it/s]\u001b[A\n",
            "Vailing:  42%|████▏     | 50/120 [00:13<00:18,  3.80it/s]\u001b[A\n",
            "Vailing:  42%|████▎     | 51/120 [00:13<00:17,  3.88it/s]\u001b[A\n",
            "Vailing:  43%|████▎     | 52/120 [00:13<00:17,  3.94it/s]\u001b[A\n",
            "Vailing:  44%|████▍     | 53/120 [00:13<00:17,  3.94it/s]\u001b[A\n",
            "Vailing:  45%|████▌     | 54/120 [00:14<00:16,  3.94it/s]\u001b[A\n",
            "Vailing:  46%|████▌     | 55/120 [00:14<00:16,  3.96it/s]\u001b[A\n",
            "Vailing:  47%|████▋     | 56/120 [00:14<00:16,  3.99it/s]\u001b[A\n",
            "Vailing:  48%|████▊     | 57/120 [00:14<00:15,  4.02it/s]\u001b[A\n",
            "Vailing:  48%|████▊     | 58/120 [00:15<00:15,  4.05it/s]\u001b[A\n",
            "Vailing:  49%|████▉     | 59/120 [00:15<00:15,  4.06it/s]\u001b[A\n",
            "Vailing:  50%|█████     | 60/120 [00:15<00:14,  4.07it/s]\u001b[A\n",
            "Vailing:  51%|█████     | 61/120 [00:15<00:14,  4.09it/s]\u001b[A\n",
            "Vailing:  52%|█████▏    | 62/120 [00:16<00:14,  4.03it/s]\u001b[A\n",
            "Vailing:  52%|█████▎    | 63/120 [00:16<00:14,  4.02it/s]\u001b[A\n",
            "Vailing:  53%|█████▎    | 64/120 [00:16<00:13,  4.06it/s]\u001b[A\n",
            "Vailing:  54%|█████▍    | 65/120 [00:16<00:13,  4.05it/s]\u001b[A\n",
            "Vailing:  55%|█████▌    | 66/120 [00:17<00:13,  3.96it/s]\u001b[A\n",
            "Vailing:  56%|█████▌    | 67/120 [00:17<00:13,  3.98it/s]\u001b[A\n",
            "Vailing:  57%|█████▋    | 68/120 [00:17<00:12,  4.03it/s]\u001b[A\n",
            "Vailing:  57%|█████▊    | 69/120 [00:17<00:12,  4.04it/s]\u001b[A\n",
            "Vailing:  58%|█████▊    | 70/120 [00:18<00:12,  4.02it/s]\u001b[A\n",
            "Vailing:  59%|█████▉    | 71/120 [00:18<00:12,  4.03it/s]\u001b[A\n",
            "Vailing:  60%|██████    | 72/120 [00:18<00:11,  4.06it/s]\u001b[A\n",
            "Vailing:  61%|██████    | 73/120 [00:18<00:11,  4.05it/s]\u001b[A\n",
            "Vailing:  62%|██████▏   | 74/120 [00:19<00:11,  4.05it/s]\u001b[A\n",
            "Vailing:  62%|██████▎   | 75/120 [00:19<00:11,  4.07it/s]\u001b[A\n",
            "Vailing:  63%|██████▎   | 76/120 [00:19<00:10,  4.10it/s]\u001b[A\n",
            "Vailing:  64%|██████▍   | 77/120 [00:19<00:10,  4.08it/s]\u001b[A\n",
            "Vailing:  65%|██████▌   | 78/120 [00:20<00:10,  4.05it/s]\u001b[A\n",
            "Vailing:  66%|██████▌   | 79/120 [00:20<00:10,  4.05it/s]\u001b[A\n",
            "Vailing:  67%|██████▋   | 80/120 [00:20<00:09,  4.08it/s]\u001b[A\n",
            "Vailing:  68%|██████▊   | 81/120 [00:20<00:09,  4.10it/s]\u001b[A\n",
            "Vailing:  68%|██████▊   | 82/120 [00:20<00:09,  4.11it/s]\u001b[A\n",
            "Vailing:  69%|██████▉   | 83/120 [00:21<00:08,  4.12it/s]\u001b[A\n",
            "Vailing:  70%|███████   | 84/120 [00:21<00:08,  4.09it/s]\u001b[A\n",
            "Vailing:  71%|███████   | 85/120 [00:21<00:08,  4.07it/s]\u001b[A\n",
            "Vailing:  72%|███████▏  | 86/120 [00:21<00:08,  4.06it/s]\u001b[A\n",
            "Vailing:  72%|███████▎  | 87/120 [00:22<00:08,  4.01it/s]\u001b[A\n",
            "Vailing:  73%|███████▎  | 88/120 [00:22<00:08,  3.84it/s]\u001b[A\n",
            "Vailing:  74%|███████▍  | 89/120 [00:22<00:08,  3.70it/s]\u001b[A\n",
            "Vailing:  75%|███████▌  | 90/120 [00:23<00:08,  3.61it/s]\u001b[A\n",
            "Vailing:  76%|███████▌  | 91/120 [00:23<00:08,  3.57it/s]\u001b[A\n",
            "Vailing:  77%|███████▋  | 92/120 [00:23<00:07,  3.54it/s]\u001b[A\n",
            "Vailing:  78%|███████▊  | 93/120 [00:23<00:07,  3.50it/s]\u001b[A\n",
            "Vailing:  78%|███████▊  | 94/120 [00:24<00:07,  3.43it/s]\u001b[A\n",
            "Vailing:  79%|███████▉  | 95/120 [00:24<00:07,  3.45it/s]\u001b[A\n",
            "Vailing:  80%|████████  | 96/120 [00:24<00:06,  3.45it/s]\u001b[A\n",
            "Vailing:  81%|████████  | 97/120 [00:25<00:06,  3.45it/s]\u001b[A\n",
            "Vailing:  82%|████████▏ | 98/120 [00:25<00:06,  3.57it/s]\u001b[A\n",
            "Vailing:  82%|████████▎ | 99/120 [00:25<00:05,  3.71it/s]\u001b[A\n",
            "Vailing:  83%|████████▎ | 100/120 [00:25<00:05,  3.84it/s]\u001b[A\n",
            "Vailing:  84%|████████▍ | 101/120 [00:26<00:04,  3.92it/s]\u001b[A\n",
            "Vailing:  85%|████████▌ | 102/120 [00:26<00:04,  3.96it/s]\u001b[A\n",
            "Vailing:  86%|████████▌ | 103/120 [00:26<00:04,  3.97it/s]\u001b[A\n",
            "Vailing:  87%|████████▋ | 104/120 [00:26<00:04,  3.98it/s]\u001b[A\n",
            "Vailing:  88%|████████▊ | 105/120 [00:27<00:03,  4.00it/s]\u001b[A\n",
            "Vailing:  88%|████████▊ | 106/120 [00:27<00:03,  4.05it/s]\u001b[A\n",
            "Vailing:  89%|████████▉ | 107/120 [00:27<00:03,  4.07it/s]\u001b[A\n",
            "Vailing:  90%|█████████ | 108/120 [00:27<00:02,  4.10it/s]\u001b[A\n",
            "Vailing:  91%|█████████ | 109/120 [00:28<00:02,  4.08it/s]\u001b[A\n",
            "Vailing:  92%|█████████▏| 110/120 [00:28<00:02,  4.08it/s]\u001b[A\n",
            "Vailing:  92%|█████████▎| 111/120 [00:28<00:02,  4.07it/s]\u001b[A\n",
            "Vailing:  93%|█████████▎| 112/120 [00:28<00:01,  4.09it/s]\u001b[A\n",
            "Vailing:  94%|█████████▍| 113/120 [00:29<00:01,  4.02it/s]\u001b[A\n",
            "Vailing:  95%|█████████▌| 114/120 [00:29<00:01,  4.03it/s]\u001b[A\n",
            "Vailing:  96%|█████████▌| 115/120 [00:29<00:01,  4.06it/s]\u001b[A\n",
            "Vailing:  97%|█████████▋| 116/120 [00:29<00:00,  4.03it/s]\u001b[A\n",
            "Vailing:  98%|█████████▊| 117/120 [00:30<00:00,  4.04it/s]\u001b[A\n",
            "Vailing:  98%|█████████▊| 118/120 [00:30<00:00,  3.97it/s]\u001b[A\n",
            "Vailing:  99%|█████████▉| 119/120 [00:30<00:00,  3.98it/s]\u001b[A\n",
            "Vailing: 100%|██████████| 120/120 [00:30<00:00,  3.90it/s]\n"
          ]
        },
        {
          "name": "stdout",
          "output_type": "stream",
          "text": [
            "验证集评估报告：\n",
            "               precision    recall  f1-score   support\n",
            "\n",
            "           0       0.53      0.60      0.56       700\n",
            "           1       0.56      0.79      0.66       701\n",
            "           2       0.92      0.82      0.87      3793\n",
            "           3       0.80      0.79      0.80      1574\n",
            "           4       0.80      0.88      0.84      1593\n",
            "           5       0.85      0.85      0.85      1940\n",
            "           6       0.78      0.76      0.77      1695\n",
            "           7       0.76      0.80      0.78      1002\n",
            "           8       0.88      0.82      0.85      2327\n",
            "\n",
            "    accuracy                           0.81     15325\n",
            "   macro avg       0.76      0.79      0.77     15325\n",
            "weighted avg       0.82      0.81      0.81     15325\n",
            "\n",
            "验证集的f1: 0.7745, accuracy:0.8090, precision:0.7639, recall:0.7911\n"
          ]
        },
        {
          "name": "stderr",
          "output_type": "stream",
          "text": [
            "\rtraining....:  36%|███▋      | 800/2193 [12:35<4:11:02, 10.81s/it]"
          ]
        },
        {
          "name": "stdout",
          "output_type": "stream",
          "text": [
            "保存模型成功, 当前f1分数: 0.7744561517503131\n"
          ]
        },
        {
          "name": "stderr",
          "output_type": "stream",
          "text": [
            "training....:  37%|███▋      | 810/2193 [12:41<20:42,  1.11it/s]"
          ]
        },
        {
          "name": "stdout",
          "output_type": "stream",
          "text": [
            "epoch:1,batch:810,loss:0.7215,train_f1:0.7627,acc:0.7656\n"
          ]
        },
        {
          "name": "stderr",
          "output_type": "stream",
          "text": [
            "training....:  37%|███▋      | 820/2193 [12:47<14:21,  1.59it/s]"
          ]
        },
        {
          "name": "stdout",
          "output_type": "stream",
          "text": [
            "epoch:1,batch:820,loss:0.7179,train_f1:0.7721,acc:0.7727\n"
          ]
        },
        {
          "name": "stderr",
          "output_type": "stream",
          "text": [
            "training....:  38%|███▊      | 830/2193 [12:53<14:02,  1.62it/s]"
          ]
        },
        {
          "name": "stdout",
          "output_type": "stream",
          "text": [
            "epoch:1,batch:830,loss:0.7006,train_f1:0.7760,acc:0.7781\n"
          ]
        },
        {
          "name": "stderr",
          "output_type": "stream",
          "text": [
            "training....:  38%|███▊      | 840/2193 [13:00<13:55,  1.62it/s]"
          ]
        },
        {
          "name": "stdout",
          "output_type": "stream",
          "text": [
            "epoch:1,batch:840,loss:0.7525,train_f1:0.7511,acc:0.7570\n"
          ]
        },
        {
          "name": "stderr",
          "output_type": "stream",
          "text": [
            "training....:  39%|███▉      | 850/2193 [13:06<14:02,  1.59it/s]"
          ]
        },
        {
          "name": "stdout",
          "output_type": "stream",
          "text": [
            "epoch:1,batch:850,loss:0.7320,train_f1:0.7700,acc:0.7719\n"
          ]
        },
        {
          "name": "stderr",
          "output_type": "stream",
          "text": [
            "training....:  39%|███▉      | 860/2193 [13:12<13:43,  1.62it/s]"
          ]
        },
        {
          "name": "stdout",
          "output_type": "stream",
          "text": [
            "epoch:1,batch:860,loss:0.7228,train_f1:0.7782,acc:0.7789\n"
          ]
        },
        {
          "name": "stderr",
          "output_type": "stream",
          "text": [
            "training....:  40%|███▉      | 870/2193 [13:18<13:40,  1.61it/s]"
          ]
        },
        {
          "name": "stdout",
          "output_type": "stream",
          "text": [
            "epoch:1,batch:870,loss:0.7375,train_f1:0.7666,acc:0.7703\n"
          ]
        },
        {
          "name": "stderr",
          "output_type": "stream",
          "text": [
            "training....:  40%|████      | 880/2193 [13:24<13:29,  1.62it/s]"
          ]
        },
        {
          "name": "stdout",
          "output_type": "stream",
          "text": [
            "epoch:1,batch:880,loss:0.7191,train_f1:0.7748,acc:0.7805\n"
          ]
        },
        {
          "name": "stderr",
          "output_type": "stream",
          "text": [
            "training....:  41%|████      | 890/2193 [13:30<13:25,  1.62it/s]"
          ]
        },
        {
          "name": "stdout",
          "output_type": "stream",
          "text": [
            "epoch:1,batch:890,loss:0.7440,train_f1:0.7753,acc:0.7750\n"
          ]
        },
        {
          "name": "stderr",
          "output_type": "stream",
          "text": [
            "training....:  41%|████      | 899/2193 [13:36<13:16,  1.63it/s]"
          ]
        },
        {
          "name": "stdout",
          "output_type": "stream",
          "text": [
            "epoch:1,batch:900,loss:0.6731,train_f1:0.7847,acc:0.7906\n"
          ]
        },
        {
          "name": "stderr",
          "output_type": "stream",
          "text": [
            "\n",
            "Vailing:   0%|          | 0/120 [00:00<?, ?it/s]\u001b[A\n",
            "Vailing:   1%|          | 1/120 [00:00<01:09,  1.71it/s]\u001b[A\n",
            "Vailing:   2%|▏         | 2/120 [00:00<00:44,  2.63it/s]\u001b[A\n",
            "Vailing:   2%|▎         | 3/120 [00:01<00:37,  3.14it/s]\u001b[A\n",
            "Vailing:   3%|▎         | 4/120 [00:01<00:33,  3.41it/s]\u001b[A\n",
            "Vailing:   4%|▍         | 5/120 [00:01<00:31,  3.63it/s]\u001b[A\n",
            "Vailing:   5%|▌         | 6/120 [00:01<00:30,  3.76it/s]\u001b[A\n",
            "Vailing:   6%|▌         | 7/120 [00:02<00:29,  3.86it/s]\u001b[A\n",
            "Vailing:   7%|▋         | 8/120 [00:02<00:28,  3.91it/s]\u001b[A\n",
            "Vailing:   8%|▊         | 9/120 [00:02<00:28,  3.94it/s]\u001b[A\n",
            "Vailing:   8%|▊         | 10/120 [00:02<00:27,  3.97it/s]\u001b[A\n",
            "Vailing:   9%|▉         | 11/120 [00:03<00:27,  4.02it/s]\u001b[A\n",
            "Vailing:  10%|█         | 12/120 [00:03<00:26,  4.00it/s]\u001b[A\n",
            "Vailing:  11%|█         | 13/120 [00:03<00:26,  4.03it/s]\u001b[A\n",
            "Vailing:  12%|█▏        | 14/120 [00:03<00:26,  4.07it/s]\u001b[A\n",
            "Vailing:  12%|█▎        | 15/120 [00:04<00:25,  4.04it/s]\u001b[A\n",
            "Vailing:  13%|█▎        | 16/120 [00:04<00:25,  4.04it/s]\u001b[A\n",
            "Vailing:  14%|█▍        | 17/120 [00:04<00:25,  4.01it/s]\u001b[A\n",
            "Vailing:  15%|█▌        | 18/120 [00:04<00:25,  4.03it/s]\u001b[A\n",
            "Vailing:  16%|█▌        | 19/120 [00:05<00:25,  4.00it/s]\u001b[A\n",
            "Vailing:  17%|█▋        | 20/120 [00:05<00:25,  3.88it/s]\u001b[A\n",
            "Vailing:  18%|█▊        | 21/120 [00:05<00:26,  3.68it/s]\u001b[A\n",
            "Vailing:  18%|█▊        | 22/120 [00:05<00:27,  3.56it/s]\u001b[A\n",
            "Vailing:  19%|█▉        | 23/120 [00:06<00:27,  3.54it/s]\u001b[A\n",
            "Vailing:  20%|██        | 24/120 [00:06<00:27,  3.51it/s]\u001b[A\n",
            "Vailing:  21%|██        | 25/120 [00:06<00:27,  3.52it/s]\u001b[A\n",
            "Vailing:  22%|██▏       | 26/120 [00:07<00:26,  3.50it/s]\u001b[A\n",
            "Vailing:  22%|██▎       | 27/120 [00:07<00:26,  3.52it/s]\u001b[A\n",
            "Vailing:  23%|██▎       | 28/120 [00:07<00:26,  3.47it/s]\u001b[A\n",
            "Vailing:  24%|██▍       | 29/120 [00:07<00:26,  3.45it/s]\u001b[A\n",
            "Vailing:  25%|██▌       | 30/120 [00:08<00:26,  3.46it/s]\u001b[A\n",
            "Vailing:  26%|██▌       | 31/120 [00:08<00:24,  3.65it/s]\u001b[A\n",
            "Vailing:  27%|██▋       | 32/120 [00:08<00:23,  3.74it/s]\u001b[A\n",
            "Vailing:  28%|██▊       | 33/120 [00:08<00:22,  3.86it/s]\u001b[A\n",
            "Vailing:  28%|██▊       | 34/120 [00:09<00:21,  3.93it/s]\u001b[A\n",
            "Vailing:  29%|██▉       | 35/120 [00:09<00:21,  3.99it/s]\u001b[A\n",
            "Vailing:  30%|███       | 36/120 [00:09<00:21,  3.99it/s]\u001b[A\n",
            "Vailing:  31%|███       | 37/120 [00:09<00:20,  4.01it/s]\u001b[A\n",
            "Vailing:  32%|███▏      | 38/120 [00:10<00:20,  4.01it/s]\u001b[A\n",
            "Vailing:  32%|███▎      | 39/120 [00:10<00:20,  4.03it/s]\u001b[A\n",
            "Vailing:  33%|███▎      | 40/120 [00:10<00:19,  4.04it/s]\u001b[A\n",
            "Vailing:  34%|███▍      | 41/120 [00:10<00:19,  4.03it/s]\u001b[A\n",
            "Vailing:  35%|███▌      | 42/120 [00:11<00:19,  3.93it/s]\u001b[A\n",
            "Vailing:  36%|███▌      | 43/120 [00:11<00:19,  3.98it/s]\u001b[A\n",
            "Vailing:  37%|███▋      | 44/120 [00:11<00:18,  4.02it/s]\u001b[A\n",
            "Vailing:  38%|███▊      | 45/120 [00:11<00:18,  4.05it/s]\u001b[A\n",
            "Vailing:  38%|███▊      | 46/120 [00:12<00:18,  4.06it/s]\u001b[A\n",
            "Vailing:  39%|███▉      | 47/120 [00:12<00:17,  4.07it/s]\u001b[A\n",
            "Vailing:  40%|████      | 48/120 [00:12<00:17,  4.08it/s]\u001b[A\n",
            "Vailing:  41%|████      | 49/120 [00:12<00:17,  4.06it/s]\u001b[A\n",
            "Vailing:  42%|████▏     | 50/120 [00:13<00:17,  4.09it/s]\u001b[A\n",
            "Vailing:  42%|████▎     | 51/120 [00:13<00:17,  4.02it/s]\u001b[A\n",
            "Vailing:  43%|████▎     | 52/120 [00:13<00:16,  4.03it/s]\u001b[A\n",
            "Vailing:  44%|████▍     | 53/120 [00:13<00:16,  4.04it/s]\u001b[A\n",
            "Vailing:  45%|████▌     | 54/120 [00:14<00:16,  4.05it/s]\u001b[A\n",
            "Vailing:  46%|████▌     | 55/120 [00:14<00:16,  4.01it/s]\u001b[A\n",
            "Vailing:  47%|████▋     | 56/120 [00:14<00:15,  4.02it/s]\u001b[A\n",
            "Vailing:  48%|████▊     | 57/120 [00:14<00:15,  4.04it/s]\u001b[A\n",
            "Vailing:  48%|████▊     | 58/120 [00:15<00:15,  4.06it/s]\u001b[A\n",
            "Vailing:  49%|████▉     | 59/120 [00:15<00:14,  4.08it/s]\u001b[A\n",
            "Vailing:  50%|█████     | 60/120 [00:15<00:14,  4.06it/s]\u001b[A\n",
            "Vailing:  51%|█████     | 61/120 [00:15<00:14,  4.05it/s]\u001b[A\n",
            "Vailing:  52%|█████▏    | 62/120 [00:16<00:14,  4.01it/s]\u001b[A\n",
            "Vailing:  52%|█████▎    | 63/120 [00:16<00:14,  4.03it/s]\u001b[A\n",
            "Vailing:  53%|█████▎    | 64/120 [00:16<00:14,  4.00it/s]\u001b[A\n",
            "Vailing:  54%|█████▍    | 65/120 [00:16<00:13,  4.02it/s]\u001b[A\n",
            "Vailing:  55%|█████▌    | 66/120 [00:17<00:13,  4.03it/s]\u001b[A\n",
            "Vailing:  56%|█████▌    | 67/120 [00:17<00:13,  4.03it/s]\u001b[A\n",
            "Vailing:  57%|█████▋    | 68/120 [00:17<00:12,  4.04it/s]\u001b[A\n",
            "Vailing:  57%|█████▊    | 69/120 [00:17<00:12,  4.08it/s]\u001b[A\n",
            "Vailing:  58%|█████▊    | 70/120 [00:18<00:12,  4.10it/s]\u001b[A\n",
            "Vailing:  59%|█████▉    | 71/120 [00:18<00:12,  3.86it/s]\u001b[A\n",
            "Vailing:  60%|██████    | 72/120 [00:18<00:12,  3.72it/s]\u001b[A\n",
            "Vailing:  61%|██████    | 73/120 [00:18<00:12,  3.64it/s]\u001b[A\n",
            "Vailing:  62%|██████▏   | 74/120 [00:19<00:12,  3.59it/s]\u001b[A\n",
            "Vailing:  62%|██████▎   | 75/120 [00:19<00:12,  3.55it/s]\u001b[A\n",
            "Vailing:  63%|██████▎   | 76/120 [00:19<00:12,  3.52it/s]\u001b[A\n",
            "Vailing:  64%|██████▍   | 77/120 [00:20<00:12,  3.50it/s]\u001b[A\n",
            "Vailing:  65%|██████▌   | 78/120 [00:20<00:12,  3.44it/s]\u001b[A\n",
            "Vailing:  66%|██████▌   | 79/120 [00:20<00:12,  3.41it/s]\u001b[A\n",
            "Vailing:  67%|██████▋   | 80/120 [00:21<00:11,  3.37it/s]\u001b[A\n",
            "Vailing:  68%|██████▊   | 81/120 [00:21<00:10,  3.57it/s]\u001b[A\n",
            "Vailing:  68%|██████▊   | 82/120 [00:21<00:10,  3.70it/s]\u001b[A\n",
            "Vailing:  69%|██████▉   | 83/120 [00:21<00:09,  3.81it/s]\u001b[A\n",
            "Vailing:  70%|███████   | 84/120 [00:22<00:09,  3.88it/s]\u001b[A\n",
            "Vailing:  71%|███████   | 85/120 [00:22<00:08,  3.94it/s]\u001b[A\n",
            "Vailing:  72%|███████▏  | 86/120 [00:22<00:08,  3.97it/s]\u001b[A\n",
            "Vailing:  72%|███████▎  | 87/120 [00:22<00:08,  3.95it/s]\u001b[A\n",
            "Vailing:  73%|███████▎  | 88/120 [00:23<00:08,  3.97it/s]\u001b[A\n",
            "Vailing:  74%|███████▍  | 89/120 [00:23<00:07,  4.00it/s]\u001b[A\n",
            "Vailing:  75%|███████▌  | 90/120 [00:23<00:07,  4.03it/s]\u001b[A\n",
            "Vailing:  76%|███████▌  | 91/120 [00:23<00:07,  3.98it/s]\u001b[A\n",
            "Vailing:  77%|███████▋  | 92/120 [00:24<00:06,  4.00it/s]\u001b[A\n",
            "Vailing:  78%|███████▊  | 93/120 [00:24<00:06,  4.02it/s]\u001b[A\n",
            "Vailing:  78%|███████▊  | 94/120 [00:24<00:06,  4.03it/s]\u001b[A\n",
            "Vailing:  79%|███████▉  | 95/120 [00:24<00:06,  4.01it/s]\u001b[A\n",
            "Vailing:  80%|████████  | 96/120 [00:24<00:05,  4.04it/s]\u001b[A\n",
            "Vailing:  81%|████████  | 97/120 [00:25<00:05,  4.07it/s]\u001b[A\n",
            "Vailing:  82%|████████▏ | 98/120 [00:25<00:05,  4.06it/s]\u001b[A\n",
            "Vailing:  82%|████████▎ | 99/120 [00:25<00:05,  4.06it/s]\u001b[A\n",
            "Vailing:  83%|████████▎ | 100/120 [00:25<00:04,  4.03it/s]\u001b[A\n",
            "Vailing:  84%|████████▍ | 101/120 [00:26<00:04,  4.06it/s]\u001b[A\n",
            "Vailing:  85%|████████▌ | 102/120 [00:26<00:04,  4.03it/s]\u001b[A\n",
            "Vailing:  86%|████████▌ | 103/120 [00:26<00:04,  4.06it/s]\u001b[A\n",
            "Vailing:  87%|████████▋ | 104/120 [00:26<00:03,  4.06it/s]\u001b[A\n",
            "Vailing:  88%|████████▊ | 105/120 [00:27<00:03,  4.05it/s]\u001b[A\n",
            "Vailing:  88%|████████▊ | 106/120 [00:27<00:03,  4.04it/s]\u001b[A\n",
            "Vailing:  89%|████████▉ | 107/120 [00:27<00:03,  4.04it/s]\u001b[A\n",
            "Vailing:  90%|█████████ | 108/120 [00:27<00:02,  4.04it/s]\u001b[A\n",
            "Vailing:  91%|█████████ | 109/120 [00:28<00:02,  4.03it/s]\u001b[A\n",
            "Vailing:  92%|█████████▏| 110/120 [00:28<00:02,  4.02it/s]\u001b[A\n",
            "Vailing:  92%|█████████▎| 111/120 [00:28<00:02,  4.05it/s]\u001b[A\n",
            "Vailing:  93%|█████████▎| 112/120 [00:28<00:02,  3.99it/s]\u001b[A\n",
            "Vailing:  94%|█████████▍| 113/120 [00:29<00:01,  4.03it/s]\u001b[A\n",
            "Vailing:  95%|█████████▌| 114/120 [00:29<00:01,  4.04it/s]\u001b[A\n",
            "Vailing:  96%|█████████▌| 115/120 [00:29<00:01,  4.04it/s]\u001b[A\n",
            "Vailing:  97%|█████████▋| 116/120 [00:29<00:01,  4.00it/s]\u001b[A\n",
            "Vailing:  98%|█████████▊| 117/120 [00:30<00:00,  4.01it/s]\u001b[A\n",
            "Vailing:  98%|█████████▊| 118/120 [00:30<00:00,  4.04it/s]\u001b[A\n",
            "Vailing:  99%|█████████▉| 119/120 [00:30<00:00,  4.03it/s]\u001b[A\n",
            "Vailing: 100%|██████████| 120/120 [00:30<00:00,  3.89it/s]\n"
          ]
        },
        {
          "name": "stdout",
          "output_type": "stream",
          "text": [
            "验证集评估报告：\n",
            "               precision    recall  f1-score   support\n",
            "\n",
            "           0       0.57      0.57      0.57       700\n",
            "           1       0.56      0.80      0.66       701\n",
            "           2       0.90      0.85      0.88      3793\n",
            "           3       0.82      0.78      0.80      1574\n",
            "           4       0.83      0.88      0.85      1593\n",
            "           5       0.86      0.86      0.86      1940\n",
            "           6       0.79      0.76      0.77      1695\n",
            "           7       0.78      0.80      0.79      1002\n",
            "           8       0.87      0.83      0.85      2327\n",
            "\n",
            "    accuracy                           0.82     15325\n",
            "   macro avg       0.77      0.79      0.78     15325\n",
            "weighted avg       0.82      0.82      0.82     15325\n",
            "\n",
            "验证集的f1: 0.7806, accuracy:0.8164, precision:0.7741, recall:0.7929\n"
          ]
        },
        {
          "name": "stderr",
          "output_type": "stream",
          "text": [
            "\rtraining....:  41%|████      | 900/2193 [14:09<3:42:48, 10.34s/it]"
          ]
        },
        {
          "name": "stdout",
          "output_type": "stream",
          "text": [
            "保存模型成功, 当前f1分数: 0.7806475629248754\n"
          ]
        },
        {
          "name": "stderr",
          "output_type": "stream",
          "text": [
            "training....:  41%|████▏     | 910/2193 [14:15<18:56,  1.13it/s]"
          ]
        },
        {
          "name": "stdout",
          "output_type": "stream",
          "text": [
            "epoch:1,batch:910,loss:0.6917,train_f1:0.7850,acc:0.7859\n"
          ]
        },
        {
          "name": "stderr",
          "output_type": "stream",
          "text": [
            "training....:  42%|████▏     | 920/2193 [14:21<13:30,  1.57it/s]"
          ]
        },
        {
          "name": "stdout",
          "output_type": "stream",
          "text": [
            "epoch:1,batch:920,loss:0.7171,train_f1:0.7684,acc:0.7688\n"
          ]
        },
        {
          "name": "stderr",
          "output_type": "stream",
          "text": [
            "training....:  42%|████▏     | 930/2193 [14:27<13:00,  1.62it/s]"
          ]
        },
        {
          "name": "stdout",
          "output_type": "stream",
          "text": [
            "epoch:1,batch:930,loss:0.7305,train_f1:0.7740,acc:0.7742\n"
          ]
        },
        {
          "name": "stderr",
          "output_type": "stream",
          "text": [
            "training....:  43%|████▎     | 940/2193 [14:33<12:53,  1.62it/s]"
          ]
        },
        {
          "name": "stdout",
          "output_type": "stream",
          "text": [
            "epoch:1,batch:940,loss:0.6855,train_f1:0.7754,acc:0.7828\n"
          ]
        },
        {
          "name": "stderr",
          "output_type": "stream",
          "text": [
            "training....:  43%|████▎     | 950/2193 [14:40<12:47,  1.62it/s]"
          ]
        },
        {
          "name": "stdout",
          "output_type": "stream",
          "text": [
            "epoch:1,batch:950,loss:0.6534,train_f1:0.7947,acc:0.7961\n"
          ]
        },
        {
          "name": "stderr",
          "output_type": "stream",
          "text": [
            "training....:  44%|████▍     | 960/2193 [14:46<12:41,  1.62it/s]"
          ]
        },
        {
          "name": "stdout",
          "output_type": "stream",
          "text": [
            "epoch:1,batch:960,loss:0.6676,train_f1:0.7846,acc:0.7852\n"
          ]
        },
        {
          "name": "stderr",
          "output_type": "stream",
          "text": [
            "training....:  44%|████▍     | 970/2193 [14:52<12:33,  1.62it/s]"
          ]
        },
        {
          "name": "stdout",
          "output_type": "stream",
          "text": [
            "epoch:1,batch:970,loss:0.6618,train_f1:0.7956,acc:0.7961\n"
          ]
        },
        {
          "name": "stderr",
          "output_type": "stream",
          "text": [
            "training....:  45%|████▍     | 980/2193 [14:58<12:29,  1.62it/s]"
          ]
        },
        {
          "name": "stdout",
          "output_type": "stream",
          "text": [
            "epoch:1,batch:980,loss:0.7259,train_f1:0.7653,acc:0.7680\n"
          ]
        },
        {
          "name": "stderr",
          "output_type": "stream",
          "text": [
            "training....:  45%|████▌     | 990/2193 [15:04<12:19,  1.63it/s]"
          ]
        },
        {
          "name": "stdout",
          "output_type": "stream",
          "text": [
            "epoch:1,batch:990,loss:0.6915,train_f1:0.7837,acc:0.7820\n"
          ]
        },
        {
          "name": "stderr",
          "output_type": "stream",
          "text": [
            "training....:  46%|████▌     | 999/2193 [15:10<12:13,  1.63it/s]"
          ]
        },
        {
          "name": "stdout",
          "output_type": "stream",
          "text": [
            "epoch:1,batch:1000,loss:0.7453,train_f1:0.7708,acc:0.7695\n"
          ]
        },
        {
          "name": "stderr",
          "output_type": "stream",
          "text": [
            "\n",
            "Vailing:   0%|          | 0/120 [00:00<?, ?it/s]\u001b[A\n",
            "Vailing:   1%|          | 1/120 [00:00<01:09,  1.72it/s]\u001b[A\n",
            "Vailing:   2%|▏         | 2/120 [00:00<00:45,  2.60it/s]\u001b[A\n",
            "Vailing:   2%|▎         | 3/120 [00:01<00:37,  3.09it/s]\u001b[A\n",
            "Vailing:   3%|▎         | 4/120 [00:01<00:33,  3.42it/s]\u001b[A\n",
            "Vailing:   4%|▍         | 5/120 [00:01<00:31,  3.62it/s]\u001b[A\n",
            "Vailing:   5%|▌         | 6/120 [00:01<00:30,  3.76it/s]\u001b[A\n",
            "Vailing:   6%|▌         | 7/120 [00:02<00:29,  3.84it/s]\u001b[A\n",
            "Vailing:   7%|▋         | 8/120 [00:02<00:28,  3.93it/s]\u001b[A\n",
            "Vailing:   8%|▊         | 9/120 [00:02<00:27,  3.97it/s]\u001b[A\n",
            "Vailing:   8%|▊         | 10/120 [00:02<00:28,  3.85it/s]\u001b[A\n",
            "Vailing:   9%|▉         | 11/120 [00:03<00:29,  3.68it/s]\u001b[A\n",
            "Vailing:  10%|█         | 12/120 [00:03<00:30,  3.58it/s]\u001b[A\n",
            "Vailing:  11%|█         | 13/120 [00:03<00:30,  3.54it/s]\u001b[A\n",
            "Vailing:  12%|█▏        | 14/120 [00:04<00:30,  3.43it/s]\u001b[A\n",
            "Vailing:  12%|█▎        | 15/120 [00:04<00:30,  3.44it/s]\u001b[A\n",
            "Vailing:  13%|█▎        | 16/120 [00:04<00:30,  3.45it/s]\u001b[A\n",
            "Vailing:  14%|█▍        | 17/120 [00:04<00:29,  3.48it/s]\u001b[A\n",
            "Vailing:  15%|█▌        | 18/120 [00:05<00:29,  3.43it/s]\u001b[A\n",
            "Vailing:  16%|█▌        | 19/120 [00:05<00:29,  3.42it/s]\u001b[A\n",
            "Vailing:  17%|█▋        | 20/120 [00:05<00:28,  3.45it/s]\u001b[A\n",
            "Vailing:  18%|█▊        | 21/120 [00:06<00:27,  3.61it/s]\u001b[A\n",
            "Vailing:  18%|█▊        | 22/120 [00:06<00:26,  3.73it/s]\u001b[A\n",
            "Vailing:  19%|█▉        | 23/120 [00:06<00:25,  3.82it/s]\u001b[A\n",
            "Vailing:  20%|██        | 24/120 [00:06<00:24,  3.90it/s]\u001b[A\n",
            "Vailing:  21%|██        | 25/120 [00:06<00:23,  3.96it/s]\u001b[A\n",
            "Vailing:  22%|██▏       | 26/120 [00:07<00:23,  3.93it/s]\u001b[A\n",
            "Vailing:  22%|██▎       | 27/120 [00:07<00:23,  3.97it/s]\u001b[A\n",
            "Vailing:  23%|██▎       | 28/120 [00:07<00:23,  3.96it/s]\u001b[A\n",
            "Vailing:  24%|██▍       | 29/120 [00:08<00:22,  3.96it/s]\u001b[A\n",
            "Vailing:  25%|██▌       | 30/120 [00:08<00:22,  3.92it/s]\u001b[A\n",
            "Vailing:  26%|██▌       | 31/120 [00:08<00:22,  3.97it/s]\u001b[A\n",
            "Vailing:  27%|██▋       | 32/120 [00:08<00:22,  3.99it/s]\u001b[A\n",
            "Vailing:  28%|██▊       | 33/120 [00:09<00:21,  4.00it/s]\u001b[A\n",
            "Vailing:  28%|██▊       | 34/120 [00:09<00:21,  4.02it/s]\u001b[A\n",
            "Vailing:  29%|██▉       | 35/120 [00:09<00:21,  4.03it/s]\u001b[A\n",
            "Vailing:  30%|███       | 36/120 [00:09<00:20,  4.03it/s]\u001b[A\n",
            "Vailing:  31%|███       | 37/120 [00:10<00:20,  4.03it/s]\u001b[A\n",
            "Vailing:  32%|███▏      | 38/120 [00:10<00:20,  4.05it/s]\u001b[A\n",
            "Vailing:  32%|███▎      | 39/120 [00:10<00:20,  4.03it/s]\u001b[A\n",
            "Vailing:  33%|███▎      | 40/120 [00:10<00:19,  4.05it/s]\u001b[A\n",
            "Vailing:  34%|███▍      | 41/120 [00:10<00:19,  4.05it/s]\u001b[A\n",
            "Vailing:  35%|███▌      | 42/120 [00:11<00:19,  4.03it/s]\u001b[A\n",
            "Vailing:  36%|███▌      | 43/120 [00:11<00:19,  4.04it/s]\u001b[A\n",
            "Vailing:  37%|███▋      | 44/120 [00:11<00:18,  4.05it/s]\u001b[A\n",
            "Vailing:  38%|███▊      | 45/120 [00:11<00:18,  4.04it/s]\u001b[A\n",
            "Vailing:  38%|███▊      | 46/120 [00:12<00:18,  4.07it/s]\u001b[A\n",
            "Vailing:  39%|███▉      | 47/120 [00:12<00:17,  4.06it/s]\u001b[A\n",
            "Vailing:  40%|████      | 48/120 [00:12<00:17,  4.07it/s]\u001b[A\n",
            "Vailing:  41%|████      | 49/120 [00:12<00:17,  4.05it/s]\u001b[A\n",
            "Vailing:  42%|████▏     | 50/120 [00:13<00:17,  4.07it/s]\u001b[A\n",
            "Vailing:  42%|████▎     | 51/120 [00:13<00:17,  3.97it/s]\u001b[A\n",
            "Vailing:  43%|████▎     | 52/120 [00:13<00:16,  4.01it/s]\u001b[A\n",
            "Vailing:  44%|████▍     | 53/120 [00:13<00:16,  4.01it/s]\u001b[A\n",
            "Vailing:  45%|████▌     | 54/120 [00:14<00:16,  4.02it/s]\u001b[A\n",
            "Vailing:  46%|████▌     | 55/120 [00:14<00:16,  3.98it/s]\u001b[A\n",
            "Vailing:  47%|████▋     | 56/120 [00:14<00:16,  3.99it/s]\u001b[A\n",
            "Vailing:  48%|████▊     | 57/120 [00:14<00:15,  4.03it/s]\u001b[A\n",
            "Vailing:  48%|████▊     | 58/120 [00:15<00:15,  4.04it/s]\u001b[A\n",
            "Vailing:  49%|████▉     | 59/120 [00:15<00:15,  4.03it/s]\u001b[A\n",
            "Vailing:  50%|█████     | 60/120 [00:15<00:14,  4.00it/s]\u001b[A\n",
            "Vailing:  51%|█████     | 61/120 [00:15<00:15,  3.83it/s]\u001b[A\n",
            "Vailing:  52%|█████▏    | 62/120 [00:16<00:15,  3.72it/s]\u001b[A\n",
            "Vailing:  52%|█████▎    | 63/120 [00:16<00:15,  3.62it/s]\u001b[A\n",
            "Vailing:  53%|█████▎    | 64/120 [00:16<00:15,  3.55it/s]\u001b[A\n",
            "Vailing:  54%|█████▍    | 65/120 [00:17<00:15,  3.52it/s]\u001b[A\n",
            "Vailing:  55%|█████▌    | 66/120 [00:17<00:15,  3.47it/s]\u001b[A\n",
            "Vailing:  56%|█████▌    | 67/120 [00:17<00:15,  3.45it/s]\u001b[A\n",
            "Vailing:  57%|█████▋    | 68/120 [00:18<00:14,  3.49it/s]\u001b[A\n",
            "Vailing:  57%|█████▊    | 69/120 [00:18<00:14,  3.46it/s]\u001b[A\n",
            "Vailing:  58%|█████▊    | 70/120 [00:18<00:14,  3.46it/s]\u001b[A\n",
            "Vailing:  59%|█████▉    | 71/120 [00:18<00:13,  3.51it/s]\u001b[A\n",
            "Vailing:  60%|██████    | 72/120 [00:19<00:13,  3.66it/s]\u001b[A\n",
            "Vailing:  61%|██████    | 73/120 [00:19<00:12,  3.77it/s]\u001b[A\n",
            "Vailing:  62%|██████▏   | 74/120 [00:19<00:11,  3.85it/s]\u001b[A\n",
            "Vailing:  62%|██████▎   | 75/120 [00:19<00:11,  3.88it/s]\u001b[A\n",
            "Vailing:  63%|██████▎   | 76/120 [00:20<00:11,  3.93it/s]\u001b[A\n",
            "Vailing:  64%|██████▍   | 77/120 [00:20<00:10,  3.96it/s]\u001b[A\n",
            "Vailing:  65%|██████▌   | 78/120 [00:20<00:10,  3.95it/s]\u001b[A\n",
            "Vailing:  66%|██████▌   | 79/120 [00:20<00:10,  3.99it/s]\u001b[A\n",
            "Vailing:  67%|██████▋   | 80/120 [00:21<00:10,  3.99it/s]\u001b[A\n",
            "Vailing:  68%|██████▊   | 81/120 [00:21<00:09,  3.99it/s]\u001b[A\n",
            "Vailing:  68%|██████▊   | 82/120 [00:21<00:09,  3.98it/s]\u001b[A\n",
            "Vailing:  69%|██████▉   | 83/120 [00:21<00:09,  3.96it/s]\u001b[A\n",
            "Vailing:  70%|███████   | 84/120 [00:22<00:09,  3.97it/s]\u001b[A\n",
            "Vailing:  71%|███████   | 85/120 [00:22<00:08,  4.01it/s]\u001b[A\n",
            "Vailing:  72%|███████▏  | 86/120 [00:22<00:08,  4.03it/s]\u001b[A\n",
            "Vailing:  72%|███████▎  | 87/120 [00:22<00:08,  3.93it/s]\u001b[A\n",
            "Vailing:  73%|███████▎  | 88/120 [00:23<00:08,  3.95it/s]\u001b[A\n",
            "Vailing:  74%|███████▍  | 89/120 [00:23<00:07,  3.98it/s]\u001b[A\n",
            "Vailing:  75%|███████▌  | 90/120 [00:23<00:07,  3.98it/s]\u001b[A\n",
            "Vailing:  76%|███████▌  | 91/120 [00:23<00:07,  3.93it/s]\u001b[A\n",
            "Vailing:  77%|███████▋  | 92/120 [00:24<00:07,  3.95it/s]\u001b[A\n",
            "Vailing:  78%|███████▊  | 93/120 [00:24<00:06,  3.97it/s]\u001b[A\n",
            "Vailing:  78%|███████▊  | 94/120 [00:24<00:06,  3.98it/s]\u001b[A\n",
            "Vailing:  79%|███████▉  | 95/120 [00:24<00:06,  3.92it/s]\u001b[A\n",
            "Vailing:  80%|████████  | 96/120 [00:25<00:06,  3.96it/s]\u001b[A\n",
            "Vailing:  81%|████████  | 97/120 [00:25<00:05,  3.99it/s]\u001b[A\n",
            "Vailing:  82%|████████▏ | 98/120 [00:25<00:05,  4.01it/s]\u001b[A\n",
            "Vailing:  82%|████████▎ | 99/120 [00:25<00:05,  3.99it/s]\u001b[A\n",
            "Vailing:  83%|████████▎ | 100/120 [00:26<00:05,  4.00it/s]\u001b[A\n",
            "Vailing:  84%|████████▍ | 101/120 [00:26<00:04,  4.01it/s]\u001b[A\n",
            "Vailing:  85%|████████▌ | 102/120 [00:26<00:04,  4.01it/s]\u001b[A\n",
            "Vailing:  86%|████████▌ | 103/120 [00:26<00:04,  4.02it/s]\u001b[A\n",
            "Vailing:  87%|████████▋ | 104/120 [00:27<00:04,  3.99it/s]\u001b[A\n",
            "Vailing:  88%|████████▊ | 105/120 [00:27<00:03,  4.00it/s]\u001b[A\n",
            "Vailing:  88%|████████▊ | 106/120 [00:27<00:03,  4.00it/s]\u001b[A\n",
            "Vailing:  89%|████████▉ | 107/120 [00:27<00:03,  4.02it/s]\u001b[A\n",
            "Vailing:  90%|█████████ | 108/120 [00:28<00:02,  4.04it/s]\u001b[A\n",
            "Vailing:  91%|█████████ | 109/120 [00:28<00:02,  4.07it/s]\u001b[A\n",
            "Vailing:  92%|█████████▏| 110/120 [00:28<00:02,  4.04it/s]\u001b[A\n",
            "Vailing:  92%|█████████▎| 111/120 [00:28<00:02,  3.88it/s]\u001b[A\n",
            "Vailing:  93%|█████████▎| 112/120 [00:29<00:02,  3.71it/s]\u001b[A\n",
            "Vailing:  94%|█████████▍| 113/120 [00:29<00:01,  3.61it/s]\u001b[A\n",
            "Vailing:  95%|█████████▌| 114/120 [00:29<00:01,  3.53it/s]\u001b[A\n",
            "Vailing:  96%|█████████▌| 115/120 [00:30<00:01,  3.46it/s]\u001b[A\n",
            "Vailing:  97%|█████████▋| 116/120 [00:30<00:01,  3.47it/s]\u001b[A\n",
            "Vailing:  98%|█████████▊| 117/120 [00:30<00:00,  3.44it/s]\u001b[A\n",
            "Vailing:  98%|█████████▊| 118/120 [00:30<00:00,  3.45it/s]\u001b[A\n",
            "Vailing:  99%|█████████▉| 119/120 [00:31<00:00,  3.47it/s]\u001b[A\n",
            "Vailing: 100%|██████████| 120/120 [00:31<00:00,  3.81it/s]\n",
            "training....:  46%|████▌     | 1000/2193 [15:42<3:20:46, 10.10s/it]"
          ]
        },
        {
          "name": "stdout",
          "output_type": "stream",
          "text": [
            "验证集评估报告：\n",
            "               precision    recall  f1-score   support\n",
            "\n",
            "           0       0.44      0.66      0.53       700\n",
            "           1       0.65      0.77      0.70       701\n",
            "           2       0.87      0.88      0.87      3793\n",
            "           3       0.84      0.76      0.80      1574\n",
            "           4       0.81      0.89      0.84      1593\n",
            "           5       0.89      0.83      0.86      1940\n",
            "           6       0.83      0.75      0.79      1695\n",
            "           7       0.77      0.80      0.79      1002\n",
            "           8       0.90      0.78      0.84      2327\n",
            "\n",
            "    accuracy                           0.81     15325\n",
            "   macro avg       0.78      0.79      0.78     15325\n",
            "weighted avg       0.83      0.81      0.82     15325\n",
            "\n",
            "验证集的f1: 0.7800, accuracy:0.8133, precision:0.7767, recall:0.7918\n"
          ]
        },
        {
          "name": "stderr",
          "output_type": "stream",
          "text": [
            "training....:  46%|████▌     | 1010/2193 [15:48<17:20,  1.14it/s]"
          ]
        },
        {
          "name": "stdout",
          "output_type": "stream",
          "text": [
            "epoch:1,batch:1010,loss:0.7247,train_f1:0.7672,acc:0.7680\n"
          ]
        },
        {
          "name": "stderr",
          "output_type": "stream",
          "text": [
            "training....:  47%|████▋     | 1020/2193 [15:54<12:12,  1.60it/s]"
          ]
        },
        {
          "name": "stdout",
          "output_type": "stream",
          "text": [
            "epoch:1,batch:1020,loss:0.6907,train_f1:0.7764,acc:0.7797\n"
          ]
        },
        {
          "name": "stderr",
          "output_type": "stream",
          "text": [
            "training....:  47%|████▋     | 1030/2193 [16:00<11:59,  1.62it/s]"
          ]
        },
        {
          "name": "stdout",
          "output_type": "stream",
          "text": [
            "epoch:1,batch:1030,loss:0.6802,train_f1:0.7812,acc:0.7797\n"
          ]
        },
        {
          "name": "stderr",
          "output_type": "stream",
          "text": [
            "training....:  47%|████▋     | 1040/2193 [16:06<11:54,  1.61it/s]"
          ]
        },
        {
          "name": "stdout",
          "output_type": "stream",
          "text": [
            "epoch:1,batch:1040,loss:0.6726,train_f1:0.7790,acc:0.7828\n"
          ]
        },
        {
          "name": "stderr",
          "output_type": "stream",
          "text": [
            "training....:  48%|████▊     | 1050/2193 [16:12<11:48,  1.61it/s]"
          ]
        },
        {
          "name": "stdout",
          "output_type": "stream",
          "text": [
            "epoch:1,batch:1050,loss:0.6493,train_f1:0.8059,acc:0.8102\n"
          ]
        },
        {
          "name": "stderr",
          "output_type": "stream",
          "text": [
            "training....:  48%|████▊     | 1060/2193 [16:19<11:44,  1.61it/s]"
          ]
        },
        {
          "name": "stdout",
          "output_type": "stream",
          "text": [
            "epoch:1,batch:1060,loss:0.6633,train_f1:0.7949,acc:0.7953\n"
          ]
        },
        {
          "name": "stderr",
          "output_type": "stream",
          "text": [
            "training....:  49%|████▉     | 1070/2193 [16:25<11:32,  1.62it/s]"
          ]
        },
        {
          "name": "stdout",
          "output_type": "stream",
          "text": [
            "epoch:1,batch:1070,loss:0.6938,train_f1:0.7879,acc:0.7914\n"
          ]
        },
        {
          "name": "stderr",
          "output_type": "stream",
          "text": [
            "training....:  49%|████▉     | 1080/2193 [16:31<11:29,  1.61it/s]"
          ]
        },
        {
          "name": "stdout",
          "output_type": "stream",
          "text": [
            "epoch:1,batch:1080,loss:0.7111,train_f1:0.7797,acc:0.7781\n"
          ]
        },
        {
          "name": "stderr",
          "output_type": "stream",
          "text": [
            "training....:  50%|████▉     | 1090/2193 [16:37<11:19,  1.62it/s]"
          ]
        },
        {
          "name": "stdout",
          "output_type": "stream",
          "text": [
            "epoch:1,batch:1090,loss:0.7207,train_f1:0.7738,acc:0.7766\n"
          ]
        },
        {
          "name": "stderr",
          "output_type": "stream",
          "text": [
            "training....:  50%|█████     | 1099/2193 [16:43<11:12,  1.63it/s]"
          ]
        },
        {
          "name": "stdout",
          "output_type": "stream",
          "text": [
            "epoch:1,batch:1100,loss:0.6958,train_f1:0.7905,acc:0.7891\n"
          ]
        },
        {
          "name": "stderr",
          "output_type": "stream",
          "text": [
            "\n",
            "Vailing:   0%|          | 0/120 [00:00<?, ?it/s]\u001b[A\n",
            "Vailing:   1%|          | 1/120 [00:00<01:09,  1.71it/s]\u001b[A\n",
            "Vailing:   2%|▏         | 2/120 [00:00<00:47,  2.46it/s]\u001b[A\n",
            "Vailing:   2%|▎         | 3/120 [00:01<00:41,  2.80it/s]\u001b[A\n",
            "Vailing:   3%|▎         | 4/120 [00:01<00:37,  3.07it/s]\u001b[A\n",
            "Vailing:   4%|▍         | 5/120 [00:01<00:36,  3.16it/s]\u001b[A\n",
            "Vailing:   5%|▌         | 6/120 [00:02<00:35,  3.23it/s]\u001b[A\n",
            "Vailing:   6%|▌         | 7/120 [00:02<00:34,  3.28it/s]\u001b[A\n",
            "Vailing:   7%|▋         | 8/120 [00:02<00:33,  3.31it/s]\u001b[A\n",
            "Vailing:   8%|▊         | 9/120 [00:02<00:33,  3.31it/s]\u001b[A\n",
            "Vailing:   8%|▊         | 10/120 [00:03<00:33,  3.29it/s]\u001b[A\n",
            "Vailing:   9%|▉         | 11/120 [00:03<00:33,  3.28it/s]\u001b[A\n",
            "Vailing:  10%|█         | 12/120 [00:03<00:31,  3.47it/s]\u001b[A\n",
            "Vailing:  11%|█         | 13/120 [00:04<00:29,  3.62it/s]\u001b[A\n",
            "Vailing:  12%|█▏        | 14/120 [00:04<00:28,  3.74it/s]\u001b[A\n",
            "Vailing:  12%|█▎        | 15/120 [00:04<00:27,  3.79it/s]\u001b[A\n",
            "Vailing:  13%|█▎        | 16/120 [00:04<00:26,  3.87it/s]\u001b[A\n",
            "Vailing:  14%|█▍        | 17/120 [00:05<00:26,  3.87it/s]\u001b[A\n",
            "Vailing:  15%|█▌        | 18/120 [00:05<00:26,  3.79it/s]\u001b[A\n",
            "Vailing:  16%|█▌        | 19/120 [00:05<00:26,  3.85it/s]\u001b[A\n",
            "Vailing:  17%|█▋        | 20/120 [00:05<00:25,  3.90it/s]\u001b[A\n",
            "Vailing:  18%|█▊        | 21/120 [00:06<00:25,  3.91it/s]\u001b[A\n",
            "Vailing:  18%|█▊        | 22/120 [00:06<00:24,  3.96it/s]\u001b[A\n",
            "Vailing:  19%|█▉        | 23/120 [00:06<00:24,  4.00it/s]\u001b[A\n",
            "Vailing:  20%|██        | 24/120 [00:06<00:24,  3.93it/s]\u001b[A\n",
            "Vailing:  21%|██        | 25/120 [00:07<00:23,  3.96it/s]\u001b[A\n",
            "Vailing:  22%|██▏       | 26/120 [00:07<00:23,  4.00it/s]\u001b[A\n",
            "Vailing:  22%|██▎       | 27/120 [00:07<00:23,  4.02it/s]\u001b[A\n",
            "Vailing:  23%|██▎       | 28/120 [00:07<00:23,  3.98it/s]\u001b[A\n",
            "Vailing:  24%|██▍       | 29/120 [00:08<00:22,  3.98it/s]\u001b[A\n",
            "Vailing:  25%|██▌       | 30/120 [00:08<00:22,  4.01it/s]\u001b[A\n",
            "Vailing:  26%|██▌       | 31/120 [00:08<00:22,  3.99it/s]\u001b[A\n",
            "Vailing:  27%|██▋       | 32/120 [00:08<00:21,  4.02it/s]\u001b[A\n",
            "Vailing:  28%|██▊       | 33/120 [00:09<00:21,  4.01it/s]\u001b[A\n",
            "Vailing:  28%|██▊       | 34/120 [00:09<00:21,  4.02it/s]\u001b[A\n",
            "Vailing:  29%|██▉       | 35/120 [00:09<00:21,  4.02it/s]\u001b[A\n",
            "Vailing:  30%|███       | 36/120 [00:09<00:20,  4.02it/s]\u001b[A\n",
            "Vailing:  31%|███       | 37/120 [00:10<00:20,  4.02it/s]\u001b[A\n",
            "Vailing:  32%|███▏      | 38/120 [00:10<00:20,  4.02it/s]\u001b[A\n",
            "Vailing:  32%|███▎      | 39/120 [00:10<00:20,  4.01it/s]\u001b[A\n",
            "Vailing:  33%|███▎      | 40/120 [00:10<00:19,  4.02it/s]\u001b[A\n",
            "Vailing:  34%|███▍      | 41/120 [00:11<00:19,  4.02it/s]\u001b[A\n",
            "Vailing:  35%|███▌      | 42/120 [00:11<00:19,  4.07it/s]\u001b[A\n",
            "Vailing:  36%|███▌      | 43/120 [00:11<00:19,  4.03it/s]\u001b[A\n",
            "Vailing:  37%|███▋      | 44/120 [00:11<00:18,  4.02it/s]\u001b[A\n",
            "Vailing:  38%|███▊      | 45/120 [00:12<00:18,  4.00it/s]\u001b[A\n",
            "Vailing:  38%|███▊      | 46/120 [00:12<00:18,  3.96it/s]\u001b[A\n",
            "Vailing:  39%|███▉      | 47/120 [00:12<00:18,  3.97it/s]\u001b[A\n",
            "Vailing:  40%|████      | 48/120 [00:12<00:18,  3.96it/s]\u001b[A\n",
            "Vailing:  41%|████      | 49/120 [00:13<00:17,  3.98it/s]\u001b[A\n",
            "Vailing:  42%|████▏     | 50/120 [00:13<00:17,  4.01it/s]\u001b[A\n",
            "Vailing:  42%|████▎     | 51/120 [00:13<00:17,  4.00it/s]\u001b[A\n",
            "Vailing:  43%|████▎     | 52/120 [00:13<00:17,  3.81it/s]\u001b[A\n",
            "Vailing:  44%|████▍     | 53/120 [00:14<00:18,  3.66it/s]\u001b[A\n",
            "Vailing:  45%|████▌     | 54/120 [00:14<00:18,  3.66it/s]\u001b[A\n",
            "Vailing:  46%|████▌     | 55/120 [00:14<00:18,  3.55it/s]\u001b[A\n",
            "Vailing:  47%|████▋     | 56/120 [00:15<00:18,  3.47it/s]\u001b[A\n",
            "Vailing:  48%|████▊     | 57/120 [00:15<00:18,  3.43it/s]\u001b[A\n",
            "Vailing:  48%|████▊     | 58/120 [00:15<00:18,  3.43it/s]\u001b[A\n",
            "Vailing:  49%|████▉     | 59/120 [00:15<00:17,  3.40it/s]\u001b[A\n",
            "Vailing:  50%|█████     | 60/120 [00:16<00:17,  3.34it/s]\u001b[A\n",
            "Vailing:  51%|█████     | 61/120 [00:16<00:17,  3.35it/s]\u001b[A\n",
            "Vailing:  52%|█████▏    | 62/120 [00:16<00:16,  3.43it/s]\u001b[A\n",
            "Vailing:  52%|█████▎    | 63/120 [00:17<00:15,  3.60it/s]\u001b[A\n",
            "Vailing:  53%|█████▎    | 64/120 [00:17<00:15,  3.73it/s]\u001b[A\n",
            "Vailing:  54%|█████▍    | 65/120 [00:17<00:14,  3.82it/s]\u001b[A\n",
            "Vailing:  55%|█████▌    | 66/120 [00:17<00:13,  3.87it/s]\u001b[A\n",
            "Vailing:  56%|█████▌    | 67/120 [00:18<00:13,  3.91it/s]\u001b[A\n",
            "Vailing:  57%|█████▋    | 68/120 [00:18<00:13,  3.90it/s]\u001b[A\n",
            "Vailing:  57%|█████▊    | 69/120 [00:18<00:12,  3.94it/s]\u001b[A\n",
            "Vailing:  58%|█████▊    | 70/120 [00:18<00:12,  3.97it/s]\u001b[A\n",
            "Vailing:  59%|█████▉    | 71/120 [00:19<00:12,  4.01it/s]\u001b[A\n",
            "Vailing:  60%|██████    | 72/120 [00:19<00:12,  3.97it/s]\u001b[A\n",
            "Vailing:  61%|██████    | 73/120 [00:19<00:11,  3.98it/s]\u001b[A\n",
            "Vailing:  62%|██████▏   | 74/120 [00:19<00:11,  4.00it/s]\u001b[A\n",
            "Vailing:  62%|██████▎   | 75/120 [00:20<00:11,  4.01it/s]\u001b[A\n",
            "Vailing:  63%|██████▎   | 76/120 [00:20<00:10,  4.05it/s]\u001b[A\n",
            "Vailing:  64%|██████▍   | 77/120 [00:20<00:10,  4.04it/s]\u001b[A\n",
            "Vailing:  65%|██████▌   | 78/120 [00:20<00:10,  4.03it/s]\u001b[A\n",
            "Vailing:  66%|██████▌   | 79/120 [00:21<00:10,  4.03it/s]\u001b[A\n",
            "Vailing:  67%|██████▋   | 80/120 [00:21<00:09,  4.01it/s]\u001b[A\n",
            "Vailing:  68%|██████▊   | 81/120 [00:21<00:09,  4.02it/s]\u001b[A\n",
            "Vailing:  68%|██████▊   | 82/120 [00:21<00:09,  4.02it/s]\u001b[A\n",
            "Vailing:  69%|██████▉   | 83/120 [00:22<00:09,  4.01it/s]\u001b[A\n",
            "Vailing:  70%|███████   | 84/120 [00:22<00:08,  4.00it/s]\u001b[A\n",
            "Vailing:  71%|███████   | 85/120 [00:22<00:08,  4.02it/s]\u001b[A\n",
            "Vailing:  72%|███████▏  | 86/120 [00:22<00:08,  4.04it/s]\u001b[A\n",
            "Vailing:  72%|███████▎  | 87/120 [00:23<00:08,  4.04it/s]\u001b[A\n",
            "Vailing:  73%|███████▎  | 88/120 [00:23<00:07,  4.05it/s]\u001b[A\n",
            "Vailing:  74%|███████▍  | 89/120 [00:23<00:07,  4.07it/s]\u001b[A\n",
            "Vailing:  75%|███████▌  | 90/120 [00:23<00:07,  4.04it/s]\u001b[A\n",
            "Vailing:  76%|███████▌  | 91/120 [00:24<00:07,  4.03it/s]\u001b[A\n",
            "Vailing:  77%|███████▋  | 92/120 [00:24<00:06,  4.02it/s]\u001b[A\n",
            "Vailing:  78%|███████▊  | 93/120 [00:24<00:06,  3.99it/s]\u001b[A\n",
            "Vailing:  78%|███████▊  | 94/120 [00:24<00:06,  4.00it/s]\u001b[A\n",
            "Vailing:  79%|███████▉  | 95/120 [00:25<00:06,  3.96it/s]\u001b[A\n",
            "Vailing:  80%|████████  | 96/120 [00:25<00:06,  3.98it/s]\u001b[A\n",
            "Vailing:  81%|████████  | 97/120 [00:25<00:05,  3.92it/s]\u001b[A\n",
            "Vailing:  82%|████████▏ | 98/120 [00:25<00:05,  3.96it/s]\u001b[A\n",
            "Vailing:  82%|████████▎ | 99/120 [00:26<00:05,  4.00it/s]\u001b[A\n",
            "Vailing:  83%|████████▎ | 100/120 [00:26<00:05,  3.99it/s]\u001b[A\n",
            "Vailing:  84%|████████▍ | 101/120 [00:26<00:04,  3.93it/s]\u001b[A\n",
            "Vailing:  85%|████████▌ | 102/120 [00:26<00:04,  3.84it/s]\u001b[A\n",
            "Vailing:  86%|████████▌ | 103/120 [00:27<00:04,  3.71it/s]\u001b[A\n",
            "Vailing:  87%|████████▋ | 104/120 [00:27<00:04,  3.59it/s]\u001b[A\n",
            "Vailing:  88%|████████▊ | 105/120 [00:27<00:04,  3.57it/s]\u001b[A\n",
            "Vailing:  88%|████████▊ | 106/120 [00:28<00:04,  3.46it/s]\u001b[A\n",
            "Vailing:  89%|████████▉ | 107/120 [00:28<00:03,  3.47it/s]\u001b[A\n",
            "Vailing:  90%|█████████ | 108/120 [00:28<00:03,  3.42it/s]\u001b[A\n",
            "Vailing:  91%|█████████ | 109/120 [00:28<00:03,  3.47it/s]\u001b[A\n",
            "Vailing:  92%|█████████▏| 110/120 [00:29<00:02,  3.47it/s]\u001b[A\n",
            "Vailing:  92%|█████████▎| 111/120 [00:29<00:02,  3.42it/s]\u001b[A\n",
            "Vailing:  93%|█████████▎| 112/120 [00:29<00:02,  3.35it/s]\u001b[A\n",
            "Vailing:  94%|█████████▍| 113/120 [00:30<00:01,  3.54it/s]\u001b[A\n",
            "Vailing:  95%|█████████▌| 114/120 [00:30<00:01,  3.67it/s]\u001b[A\n",
            "Vailing:  96%|█████████▌| 115/120 [00:30<00:01,  3.74it/s]\u001b[A\n",
            "Vailing:  97%|█████████▋| 116/120 [00:30<00:01,  3.74it/s]\u001b[A\n",
            "Vailing:  98%|█████████▊| 117/120 [00:31<00:00,  3.81it/s]\u001b[A\n",
            "Vailing:  98%|█████████▊| 118/120 [00:31<00:00,  3.86it/s]\u001b[A\n",
            "Vailing:  99%|█████████▉| 119/120 [00:31<00:00,  3.90it/s]\u001b[A\n",
            "Vailing: 100%|██████████| 120/120 [00:31<00:00,  3.78it/s]\n"
          ]
        },
        {
          "name": "stdout",
          "output_type": "stream",
          "text": [
            "验证集评估报告：\n",
            "               precision    recall  f1-score   support\n",
            "\n",
            "           0       0.45      0.66      0.54       700\n",
            "           1       0.58      0.81      0.68       701\n",
            "           2       0.89      0.87      0.88      3793\n",
            "           3       0.85      0.78      0.81      1574\n",
            "           4       0.86      0.86      0.86      1593\n",
            "           5       0.87      0.84      0.85      1940\n",
            "           6       0.82      0.76      0.79      1695\n",
            "           7       0.77      0.81      0.79      1002\n",
            "           8       0.89      0.81      0.85      2327\n",
            "\n",
            "    accuracy                           0.82     15325\n",
            "   macro avg       0.78      0.80      0.78     15325\n",
            "weighted avg       0.83      0.82      0.82     15325\n",
            "\n",
            "验证集的f1: 0.7828, accuracy:0.8168, precision:0.7762, recall:0.7992\n"
          ]
        },
        {
          "name": "stderr",
          "output_type": "stream",
          "text": [
            "\rtraining....:  50%|█████     | 1100/2193 [17:16<3:11:33, 10.52s/it]"
          ]
        },
        {
          "name": "stdout",
          "output_type": "stream",
          "text": [
            "保存模型成功, 当前f1分数: 0.7828340665134356\n"
          ]
        },
        {
          "name": "stderr",
          "output_type": "stream",
          "text": [
            "training....:  51%|█████     | 1110/2193 [17:22<16:06,  1.12it/s]"
          ]
        },
        {
          "name": "stdout",
          "output_type": "stream",
          "text": [
            "epoch:1,batch:1110,loss:0.5981,train_f1:0.8119,acc:0.8156\n"
          ]
        },
        {
          "name": "stderr",
          "output_type": "stream",
          "text": [
            "training....:  51%|█████     | 1120/2193 [17:28<11:11,  1.60it/s]"
          ]
        },
        {
          "name": "stdout",
          "output_type": "stream",
          "text": [
            "epoch:1,batch:1120,loss:0.7322,train_f1:0.7658,acc:0.7695\n"
          ]
        },
        {
          "name": "stderr",
          "output_type": "stream",
          "text": [
            "training....:  52%|█████▏    | 1130/2193 [17:34<10:58,  1.61it/s]"
          ]
        },
        {
          "name": "stdout",
          "output_type": "stream",
          "text": [
            "epoch:1,batch:1130,loss:0.7115,train_f1:0.7725,acc:0.7742\n"
          ]
        },
        {
          "name": "stderr",
          "output_type": "stream",
          "text": [
            "training....:  52%|█████▏    | 1140/2193 [17:41<10:51,  1.62it/s]"
          ]
        },
        {
          "name": "stdout",
          "output_type": "stream",
          "text": [
            "epoch:1,batch:1140,loss:0.6798,train_f1:0.7814,acc:0.7812\n"
          ]
        },
        {
          "name": "stderr",
          "output_type": "stream",
          "text": [
            "training....:  52%|█████▏    | 1150/2193 [17:47<10:46,  1.61it/s]"
          ]
        },
        {
          "name": "stdout",
          "output_type": "stream",
          "text": [
            "epoch:1,batch:1150,loss:0.6573,train_f1:0.7909,acc:0.7937\n"
          ]
        },
        {
          "name": "stderr",
          "output_type": "stream",
          "text": [
            "training....:  53%|█████▎    | 1160/2193 [17:53<10:35,  1.63it/s]"
          ]
        },
        {
          "name": "stdout",
          "output_type": "stream",
          "text": [
            "epoch:1,batch:1160,loss:0.7271,train_f1:0.7586,acc:0.7641\n"
          ]
        },
        {
          "name": "stderr",
          "output_type": "stream",
          "text": [
            "training....:  53%|█████▎    | 1170/2193 [17:59<10:32,  1.62it/s]"
          ]
        },
        {
          "name": "stdout",
          "output_type": "stream",
          "text": [
            "epoch:1,batch:1170,loss:0.7009,train_f1:0.7752,acc:0.7758\n"
          ]
        },
        {
          "name": "stderr",
          "output_type": "stream",
          "text": [
            "training....:  54%|█████▍    | 1180/2193 [18:05<10:28,  1.61it/s]"
          ]
        },
        {
          "name": "stdout",
          "output_type": "stream",
          "text": [
            "epoch:1,batch:1180,loss:0.6613,train_f1:0.7874,acc:0.7898\n"
          ]
        },
        {
          "name": "stderr",
          "output_type": "stream",
          "text": [
            "training....:  54%|█████▍    | 1190/2193 [18:11<10:17,  1.62it/s]"
          ]
        },
        {
          "name": "stdout",
          "output_type": "stream",
          "text": [
            "epoch:1,batch:1190,loss:0.6905,train_f1:0.7811,acc:0.7812\n"
          ]
        },
        {
          "name": "stderr",
          "output_type": "stream",
          "text": [
            "training....:  55%|█████▍    | 1199/2193 [18:17<10:11,  1.63it/s]"
          ]
        },
        {
          "name": "stdout",
          "output_type": "stream",
          "text": [
            "epoch:1,batch:1200,loss:0.6551,train_f1:0.7996,acc:0.8023\n"
          ]
        },
        {
          "name": "stderr",
          "output_type": "stream",
          "text": [
            "\n",
            "Vailing:   0%|          | 0/120 [00:00<?, ?it/s]\u001b[A\n",
            "Vailing:   1%|          | 1/120 [00:00<01:07,  1.76it/s]\u001b[A\n",
            "Vailing:   2%|▏         | 2/120 [00:00<00:47,  2.47it/s]\u001b[A\n",
            "Vailing:   2%|▎         | 3/120 [00:01<00:38,  3.00it/s]\u001b[A\n",
            "Vailing:   3%|▎         | 4/120 [00:01<00:34,  3.35it/s]\u001b[A\n",
            "Vailing:   4%|▍         | 5/120 [00:01<00:32,  3.57it/s]\u001b[A\n",
            "Vailing:   5%|▌         | 6/120 [00:01<00:30,  3.70it/s]\u001b[A\n",
            "Vailing:   6%|▌         | 7/120 [00:02<00:29,  3.78it/s]\u001b[A\n",
            "Vailing:   7%|▋         | 8/120 [00:02<00:28,  3.87it/s]\u001b[A\n",
            "Vailing:   8%|▊         | 9/120 [00:02<00:28,  3.92it/s]\u001b[A\n",
            "Vailing:   8%|▊         | 10/120 [00:02<00:27,  3.97it/s]\u001b[A\n",
            "Vailing:   9%|▉         | 11/120 [00:03<00:27,  3.94it/s]\u001b[A\n",
            "Vailing:  10%|█         | 12/120 [00:03<00:27,  3.97it/s]\u001b[A\n",
            "Vailing:  11%|█         | 13/120 [00:03<00:27,  3.96it/s]\u001b[A\n",
            "Vailing:  12%|█▏        | 14/120 [00:03<00:26,  3.98it/s]\u001b[A\n",
            "Vailing:  12%|█▎        | 15/120 [00:04<00:26,  3.97it/s]\u001b[A\n",
            "Vailing:  13%|█▎        | 16/120 [00:04<00:26,  3.97it/s]\u001b[A\n",
            "Vailing:  14%|█▍        | 17/120 [00:04<00:25,  3.97it/s]\u001b[A\n",
            "Vailing:  15%|█▌        | 18/120 [00:04<00:25,  3.97it/s]\u001b[A\n",
            "Vailing:  16%|█▌        | 19/120 [00:05<00:25,  3.98it/s]\u001b[A\n",
            "Vailing:  17%|█▋        | 20/120 [00:05<00:25,  3.98it/s]\u001b[A\n",
            "Vailing:  18%|█▊        | 21/120 [00:05<00:24,  4.00it/s]\u001b[A\n",
            "Vailing:  18%|█▊        | 22/120 [00:05<00:24,  4.02it/s]\u001b[A\n",
            "Vailing:  19%|█▉        | 23/120 [00:06<00:24,  4.03it/s]\u001b[A\n",
            "Vailing:  20%|██        | 24/120 [00:06<00:24,  3.96it/s]\u001b[A\n",
            "Vailing:  21%|██        | 25/120 [00:06<00:23,  3.97it/s]\u001b[A\n",
            "Vailing:  22%|██▏       | 26/120 [00:06<00:23,  3.98it/s]\u001b[A\n",
            "Vailing:  22%|██▎       | 27/120 [00:07<00:23,  4.00it/s]\u001b[A\n",
            "Vailing:  23%|██▎       | 28/120 [00:07<00:23,  3.94it/s]\u001b[A\n",
            "Vailing:  24%|██▍       | 29/120 [00:07<00:23,  3.93it/s]\u001b[A\n",
            "Vailing:  25%|██▌       | 30/120 [00:07<00:22,  3.95it/s]\u001b[A\n",
            "Vailing:  26%|██▌       | 31/120 [00:08<00:22,  3.98it/s]\u001b[A\n",
            "Vailing:  27%|██▋       | 32/120 [00:08<00:22,  3.99it/s]\u001b[A\n",
            "Vailing:  28%|██▊       | 33/120 [00:08<00:21,  3.98it/s]\u001b[A\n",
            "Vailing:  28%|██▊       | 34/120 [00:08<00:21,  3.98it/s]\u001b[A\n",
            "Vailing:  29%|██▉       | 35/120 [00:09<00:21,  3.99it/s]\u001b[A\n",
            "Vailing:  30%|███       | 36/120 [00:09<00:21,  3.98it/s]\u001b[A\n",
            "Vailing:  31%|███       | 37/120 [00:09<00:20,  3.96it/s]\u001b[A\n",
            "Vailing:  32%|███▏      | 38/120 [00:09<00:20,  4.01it/s]\u001b[A\n",
            "Vailing:  32%|███▎      | 39/120 [00:10<00:20,  4.01it/s]\u001b[A\n",
            "Vailing:  33%|███▎      | 40/120 [00:10<00:19,  4.02it/s]\u001b[A\n",
            "Vailing:  34%|███▍      | 41/120 [00:10<00:19,  4.01it/s]\u001b[A\n",
            "Vailing:  35%|███▌      | 42/120 [00:10<00:19,  3.98it/s]\u001b[A\n",
            "Vailing:  36%|███▌      | 43/120 [00:11<00:20,  3.79it/s]\u001b[A\n",
            "Vailing:  37%|███▋      | 44/120 [00:11<00:20,  3.63it/s]\u001b[A\n",
            "Vailing:  38%|███▊      | 45/120 [00:11<00:20,  3.59it/s]\u001b[A\n",
            "Vailing:  38%|███▊      | 46/120 [00:12<00:21,  3.51it/s]\u001b[A\n",
            "Vailing:  39%|███▉      | 47/120 [00:12<00:21,  3.44it/s]\u001b[A\n",
            "Vailing:  40%|████      | 48/120 [00:12<00:21,  3.35it/s]\u001b[A\n",
            "Vailing:  41%|████      | 49/120 [00:12<00:21,  3.36it/s]\u001b[A\n",
            "Vailing:  42%|████▏     | 50/120 [00:13<00:20,  3.36it/s]\u001b[A\n",
            "Vailing:  42%|████▎     | 51/120 [00:13<00:20,  3.37it/s]\u001b[A\n",
            "Vailing:  43%|████▎     | 52/120 [00:13<00:20,  3.31it/s]\u001b[A\n",
            "Vailing:  44%|████▍     | 53/120 [00:14<00:19,  3.52it/s]\u001b[A\n",
            "Vailing:  45%|████▌     | 54/120 [00:14<00:18,  3.66it/s]\u001b[A\n",
            "Vailing:  46%|████▌     | 55/120 [00:14<00:17,  3.76it/s]\u001b[A\n",
            "Vailing:  47%|████▋     | 56/120 [00:14<00:16,  3.80it/s]\u001b[A\n",
            "Vailing:  48%|████▊     | 57/120 [00:15<00:16,  3.86it/s]\u001b[A\n",
            "Vailing:  48%|████▊     | 58/120 [00:15<00:15,  3.91it/s]\u001b[A\n",
            "Vailing:  49%|████▉     | 59/120 [00:15<00:15,  3.93it/s]\u001b[A\n",
            "Vailing:  50%|█████     | 60/120 [00:15<00:15,  3.88it/s]\u001b[A\n",
            "Vailing:  51%|█████     | 61/120 [00:16<00:15,  3.93it/s]\u001b[A\n",
            "Vailing:  52%|█████▏    | 62/120 [00:16<00:14,  3.96it/s]\u001b[A\n",
            "Vailing:  52%|█████▎    | 63/120 [00:16<00:14,  4.00it/s]\u001b[A\n",
            "Vailing:  53%|█████▎    | 64/120 [00:16<00:14,  3.96it/s]\u001b[A\n",
            "Vailing:  54%|█████▍    | 65/120 [00:17<00:13,  4.00it/s]\u001b[A\n",
            "Vailing:  55%|█████▌    | 66/120 [00:17<00:13,  4.02it/s]\u001b[A\n",
            "Vailing:  56%|█████▌    | 67/120 [00:17<00:13,  3.99it/s]\u001b[A\n",
            "Vailing:  57%|█████▋    | 68/120 [00:17<00:13,  3.99it/s]\u001b[A\n",
            "Vailing:  57%|█████▊    | 69/120 [00:18<00:12,  3.99it/s]\u001b[A\n",
            "Vailing:  58%|█████▊    | 70/120 [00:18<00:12,  4.02it/s]\u001b[A\n",
            "Vailing:  59%|█████▉    | 71/120 [00:18<00:12,  4.03it/s]\u001b[A\n",
            "Vailing:  60%|██████    | 72/120 [00:18<00:11,  4.01it/s]\u001b[A\n",
            "Vailing:  61%|██████    | 73/120 [00:19<00:11,  4.04it/s]\u001b[A\n",
            "Vailing:  62%|██████▏   | 74/120 [00:19<00:11,  4.04it/s]\u001b[A\n",
            "Vailing:  62%|██████▎   | 75/120 [00:19<00:11,  4.05it/s]\u001b[A\n",
            "Vailing:  63%|██████▎   | 76/120 [00:19<00:10,  4.03it/s]\u001b[A\n",
            "Vailing:  64%|██████▍   | 77/120 [00:20<00:10,  4.04it/s]\u001b[A\n",
            "Vailing:  65%|██████▌   | 78/120 [00:20<00:10,  4.03it/s]\u001b[A\n",
            "Vailing:  66%|██████▌   | 79/120 [00:20<00:10,  3.99it/s]\u001b[A\n",
            "Vailing:  67%|██████▋   | 80/120 [00:20<00:09,  4.01it/s]\u001b[A\n",
            "Vailing:  68%|██████▊   | 81/120 [00:21<00:09,  4.02it/s]\u001b[A\n",
            "Vailing:  68%|██████▊   | 82/120 [00:21<00:09,  4.00it/s]\u001b[A\n",
            "Vailing:  69%|██████▉   | 83/120 [00:21<00:09,  4.01it/s]\u001b[A\n",
            "Vailing:  70%|███████   | 84/120 [00:21<00:09,  3.98it/s]\u001b[A\n",
            "Vailing:  71%|███████   | 85/120 [00:22<00:08,  3.98it/s]\u001b[A\n",
            "Vailing:  72%|███████▏  | 86/120 [00:22<00:08,  4.00it/s]\u001b[A\n",
            "Vailing:  72%|███████▎  | 87/120 [00:22<00:08,  3.96it/s]\u001b[A\n",
            "Vailing:  73%|███████▎  | 88/120 [00:22<00:08,  3.98it/s]\u001b[A\n",
            "Vailing:  74%|███████▍  | 89/120 [00:23<00:07,  3.92it/s]\u001b[A\n",
            "Vailing:  75%|███████▌  | 90/120 [00:23<00:07,  3.94it/s]\u001b[A\n",
            "Vailing:  76%|███████▌  | 91/120 [00:23<00:07,  3.96it/s]\u001b[A\n",
            "Vailing:  77%|███████▋  | 92/120 [00:23<00:07,  3.97it/s]\u001b[A\n",
            "Vailing:  78%|███████▊  | 93/120 [00:24<00:07,  3.69it/s]\u001b[A\n",
            "Vailing:  78%|███████▊  | 94/120 [00:24<00:07,  3.58it/s]\u001b[A\n",
            "Vailing:  79%|███████▉  | 95/120 [00:24<00:07,  3.55it/s]\u001b[A\n",
            "Vailing:  80%|████████  | 96/120 [00:25<00:06,  3.51it/s]\u001b[A\n",
            "Vailing:  81%|████████  | 97/120 [00:25<00:06,  3.45it/s]\u001b[A\n",
            "Vailing:  82%|████████▏ | 98/120 [00:25<00:06,  3.46it/s]\u001b[A\n",
            "Vailing:  82%|████████▎ | 99/120 [00:25<00:06,  3.45it/s]\u001b[A\n",
            "Vailing:  83%|████████▎ | 100/120 [00:26<00:05,  3.41it/s]\u001b[A\n",
            "Vailing:  84%|████████▍ | 101/120 [00:26<00:05,  3.36it/s]\u001b[A\n",
            "Vailing:  85%|████████▌ | 102/120 [00:26<00:05,  3.34it/s]\u001b[A\n",
            "Vailing:  86%|████████▌ | 103/120 [00:27<00:04,  3.52it/s]\u001b[A\n",
            "Vailing:  87%|████████▋ | 104/120 [00:27<00:04,  3.62it/s]\u001b[A\n",
            "Vailing:  88%|████████▊ | 105/120 [00:27<00:04,  3.72it/s]\u001b[A\n",
            "Vailing:  88%|████████▊ | 106/120 [00:27<00:03,  3.81it/s]\u001b[A\n",
            "Vailing:  89%|████████▉ | 107/120 [00:28<00:03,  3.86it/s]\u001b[A\n",
            "Vailing:  90%|█████████ | 108/120 [00:28<00:03,  3.85it/s]\u001b[A\n",
            "Vailing:  91%|█████████ | 109/120 [00:28<00:02,  3.92it/s]\u001b[A\n",
            "Vailing:  92%|█████████▏| 110/120 [00:28<00:02,  3.94it/s]\u001b[A\n",
            "Vailing:  92%|█████████▎| 111/120 [00:29<00:02,  3.96it/s]\u001b[A\n",
            "Vailing:  93%|█████████▎| 112/120 [00:29<00:02,  3.93it/s]\u001b[A\n",
            "Vailing:  94%|█████████▍| 113/120 [00:29<00:01,  3.92it/s]\u001b[A\n",
            "Vailing:  95%|█████████▌| 114/120 [00:29<00:01,  3.96it/s]\u001b[A\n",
            "Vailing:  96%|█████████▌| 115/120 [00:30<00:01,  3.97it/s]\u001b[A\n",
            "Vailing:  97%|█████████▋| 116/120 [00:30<00:01,  3.95it/s]\u001b[A\n",
            "Vailing:  98%|█████████▊| 117/120 [00:30<00:00,  3.98it/s]\u001b[A\n",
            "Vailing:  98%|█████████▊| 118/120 [00:30<00:00,  3.99it/s]\u001b[A\n",
            "Vailing:  99%|█████████▉| 119/120 [00:31<00:00,  4.00it/s]\u001b[A\n",
            "Vailing: 100%|██████████| 120/120 [00:31<00:00,  3.83it/s]\n"
          ]
        },
        {
          "name": "stdout",
          "output_type": "stream",
          "text": [
            "验证集评估报告：\n",
            "               precision    recall  f1-score   support\n",
            "\n",
            "           0       0.47      0.68      0.56       700\n",
            "           1       0.71      0.76      0.73       701\n",
            "           2       0.89      0.86      0.88      3793\n",
            "           3       0.86      0.78      0.82      1574\n",
            "           4       0.78      0.90      0.84      1593\n",
            "           5       0.85      0.86      0.86      1940\n",
            "           6       0.86      0.73      0.79      1695\n",
            "           7       0.74      0.82      0.78      1002\n",
            "           8       0.89      0.82      0.86      2327\n",
            "\n",
            "    accuracy                           0.82     15325\n",
            "   macro avg       0.79      0.80      0.79     15325\n",
            "weighted avg       0.83      0.82      0.82     15325\n",
            "\n",
            "验证集的f1: 0.7895, accuracy:0.8212, precision:0.7851, recall:0.8015\n"
          ]
        },
        {
          "name": "stderr",
          "output_type": "stream",
          "text": [
            "\rtraining....:  55%|█████▍    | 1200/2193 [18:52<3:01:37, 10.97s/it]"
          ]
        },
        {
          "name": "stdout",
          "output_type": "stream",
          "text": [
            "保存模型成功, 当前f1分数: 0.789491888829713\n"
          ]
        },
        {
          "name": "stderr",
          "output_type": "stream",
          "text": [
            "training....:  55%|█████▌    | 1210/2193 [18:58<14:46,  1.11it/s]"
          ]
        },
        {
          "name": "stdout",
          "output_type": "stream",
          "text": [
            "epoch:1,batch:1210,loss:0.6423,train_f1:0.7983,acc:0.7984\n"
          ]
        },
        {
          "name": "stderr",
          "output_type": "stream",
          "text": [
            "training....:  56%|█████▌    | 1220/2193 [19:04<10:09,  1.60it/s]"
          ]
        },
        {
          "name": "stdout",
          "output_type": "stream",
          "text": [
            "epoch:1,batch:1220,loss:0.7016,train_f1:0.7791,acc:0.7836\n"
          ]
        },
        {
          "name": "stderr",
          "output_type": "stream",
          "text": [
            "training....:  56%|█████▌    | 1230/2193 [19:10<10:09,  1.58it/s]"
          ]
        },
        {
          "name": "stdout",
          "output_type": "stream",
          "text": [
            "epoch:1,batch:1230,loss:0.6723,train_f1:0.7896,acc:0.7898\n"
          ]
        },
        {
          "name": "stderr",
          "output_type": "stream",
          "text": [
            "training....:  57%|█████▋    | 1240/2193 [19:17<09:50,  1.61it/s]"
          ]
        },
        {
          "name": "stdout",
          "output_type": "stream",
          "text": [
            "epoch:1,batch:1240,loss:0.7014,train_f1:0.7781,acc:0.7797\n"
          ]
        },
        {
          "name": "stderr",
          "output_type": "stream",
          "text": [
            "training....:  57%|█████▋    | 1250/2193 [19:23<09:46,  1.61it/s]"
          ]
        },
        {
          "name": "stdout",
          "output_type": "stream",
          "text": [
            "epoch:1,batch:1250,loss:0.6672,train_f1:0.7902,acc:0.7930\n"
          ]
        },
        {
          "name": "stderr",
          "output_type": "stream",
          "text": [
            "training....:  57%|█████▋    | 1260/2193 [19:29<09:38,  1.61it/s]"
          ]
        },
        {
          "name": "stdout",
          "output_type": "stream",
          "text": [
            "epoch:1,batch:1260,loss:0.6250,train_f1:0.8076,acc:0.8063\n"
          ]
        },
        {
          "name": "stderr",
          "output_type": "stream",
          "text": [
            "training....:  58%|█████▊    | 1270/2193 [19:35<09:31,  1.61it/s]"
          ]
        },
        {
          "name": "stdout",
          "output_type": "stream",
          "text": [
            "epoch:1,batch:1270,loss:0.7185,train_f1:0.7840,acc:0.7867\n"
          ]
        },
        {
          "name": "stderr",
          "output_type": "stream",
          "text": [
            "training....:  58%|█████▊    | 1280/2193 [19:41<09:23,  1.62it/s]"
          ]
        },
        {
          "name": "stdout",
          "output_type": "stream",
          "text": [
            "epoch:1,batch:1280,loss:0.7285,train_f1:0.7770,acc:0.7773\n"
          ]
        },
        {
          "name": "stderr",
          "output_type": "stream",
          "text": [
            "training....:  59%|█████▉    | 1290/2193 [19:47<09:19,  1.61it/s]"
          ]
        },
        {
          "name": "stdout",
          "output_type": "stream",
          "text": [
            "epoch:1,batch:1290,loss:0.6804,train_f1:0.7785,acc:0.7820\n"
          ]
        },
        {
          "name": "stderr",
          "output_type": "stream",
          "text": [
            "training....:  59%|█████▉    | 1299/2193 [19:53<09:09,  1.63it/s]"
          ]
        },
        {
          "name": "stdout",
          "output_type": "stream",
          "text": [
            "epoch:1,batch:1300,loss:0.6832,train_f1:0.7763,acc:0.7773\n"
          ]
        },
        {
          "name": "stderr",
          "output_type": "stream",
          "text": [
            "\n",
            "Vailing:   0%|          | 0/120 [00:00<?, ?it/s]\u001b[A\n",
            "Vailing:   1%|          | 1/120 [00:00<01:07,  1.76it/s]\u001b[A\n",
            "Vailing:   2%|▏         | 2/120 [00:00<00:44,  2.65it/s]\u001b[A\n",
            "Vailing:   2%|▎         | 3/120 [00:01<00:37,  3.15it/s]\u001b[A\n",
            "Vailing:   3%|▎         | 4/120 [00:01<00:33,  3.44it/s]\u001b[A\n",
            "Vailing:   4%|▍         | 5/120 [00:01<00:31,  3.62it/s]\u001b[A\n",
            "Vailing:   5%|▌         | 6/120 [00:01<00:30,  3.74it/s]\u001b[A\n",
            "Vailing:   6%|▌         | 7/120 [00:02<00:29,  3.82it/s]\u001b[A\n",
            "Vailing:   7%|▋         | 8/120 [00:02<00:29,  3.83it/s]\u001b[A\n",
            "Vailing:   8%|▊         | 9/120 [00:02<00:28,  3.87it/s]\u001b[A\n",
            "Vailing:   8%|▊         | 10/120 [00:02<00:27,  3.93it/s]\u001b[A\n",
            "Vailing:   9%|▉         | 11/120 [00:03<00:27,  3.96it/s]\u001b[A\n",
            "Vailing:  10%|█         | 12/120 [00:03<00:27,  3.91it/s]\u001b[A\n",
            "Vailing:  11%|█         | 13/120 [00:03<00:27,  3.91it/s]\u001b[A\n",
            "Vailing:  12%|█▏        | 14/120 [00:03<00:26,  3.96it/s]\u001b[A\n",
            "Vailing:  12%|█▎        | 15/120 [00:04<00:26,  3.99it/s]\u001b[A\n",
            "Vailing:  13%|█▎        | 16/120 [00:04<00:26,  3.95it/s]\u001b[A\n",
            "Vailing:  14%|█▍        | 17/120 [00:04<00:26,  3.94it/s]\u001b[A\n",
            "Vailing:  15%|█▌        | 18/120 [00:04<00:25,  3.96it/s]\u001b[A\n",
            "Vailing:  16%|█▌        | 19/120 [00:05<00:25,  3.99it/s]\u001b[A\n",
            "Vailing:  17%|█▋        | 20/120 [00:05<00:24,  4.03it/s]\u001b[A\n",
            "Vailing:  18%|█▊        | 21/120 [00:05<00:25,  3.96it/s]\u001b[A\n",
            "Vailing:  18%|█▊        | 22/120 [00:05<00:24,  4.00it/s]\u001b[A\n",
            "Vailing:  19%|█▉        | 23/120 [00:06<00:24,  3.99it/s]\u001b[A\n",
            "Vailing:  20%|██        | 24/120 [00:06<00:23,  4.01it/s]\u001b[A\n",
            "Vailing:  21%|██        | 25/120 [00:06<00:23,  3.97it/s]\u001b[A\n",
            "Vailing:  22%|██▏       | 26/120 [00:06<00:24,  3.86it/s]\u001b[A\n",
            "Vailing:  22%|██▎       | 27/120 [00:07<00:25,  3.68it/s]\u001b[A\n",
            "Vailing:  23%|██▎       | 28/120 [00:07<00:25,  3.57it/s]\u001b[A\n",
            "Vailing:  24%|██▍       | 29/120 [00:07<00:26,  3.50it/s]\u001b[A\n",
            "Vailing:  25%|██▌       | 30/120 [00:08<00:25,  3.53it/s]\u001b[A\n",
            "Vailing:  26%|██▌       | 31/120 [00:08<00:25,  3.54it/s]\u001b[A\n",
            "Vailing:  27%|██▋       | 32/120 [00:08<00:25,  3.47it/s]\u001b[A\n",
            "Vailing:  28%|██▊       | 33/120 [00:08<00:24,  3.48it/s]\u001b[A\n",
            "Vailing:  28%|██▊       | 34/120 [00:09<00:24,  3.48it/s]\u001b[A\n",
            "Vailing:  29%|██▉       | 35/120 [00:09<00:24,  3.47it/s]\u001b[A\n",
            "Vailing:  30%|███       | 36/120 [00:09<00:23,  3.63it/s]\u001b[A\n",
            "Vailing:  31%|███       | 37/120 [00:09<00:22,  3.76it/s]\u001b[A\n",
            "Vailing:  32%|███▏      | 38/120 [00:10<00:21,  3.83it/s]\u001b[A\n",
            "Vailing:  32%|███▎      | 39/120 [00:10<00:20,  3.90it/s]\u001b[A\n",
            "Vailing:  33%|███▎      | 40/120 [00:10<00:20,  3.95it/s]\u001b[A\n",
            "Vailing:  34%|███▍      | 41/120 [00:10<00:19,  3.99it/s]\u001b[A\n",
            "Vailing:  35%|███▌      | 42/120 [00:11<00:19,  4.02it/s]\u001b[A\n",
            "Vailing:  36%|███▌      | 43/120 [00:11<00:19,  4.04it/s]\u001b[A\n",
            "Vailing:  37%|███▋      | 44/120 [00:11<00:18,  4.03it/s]\u001b[A\n",
            "Vailing:  38%|███▊      | 45/120 [00:11<00:18,  4.06it/s]\u001b[A\n",
            "Vailing:  38%|███▊      | 46/120 [00:12<00:18,  4.02it/s]\u001b[A\n",
            "Vailing:  39%|███▉      | 47/120 [00:12<00:18,  4.03it/s]\u001b[A\n",
            "Vailing:  40%|████      | 48/120 [00:12<00:18,  3.98it/s]\u001b[A\n",
            "Vailing:  41%|████      | 49/120 [00:12<00:17,  4.01it/s]\u001b[A\n",
            "Vailing:  42%|████▏     | 50/120 [00:13<00:17,  4.04it/s]\u001b[A\n",
            "Vailing:  42%|████▎     | 51/120 [00:13<00:17,  4.02it/s]\u001b[A\n",
            "Vailing:  43%|████▎     | 52/120 [00:13<00:17,  3.97it/s]\u001b[A\n",
            "Vailing:  44%|████▍     | 53/120 [00:13<00:16,  3.96it/s]\u001b[A\n",
            "Vailing:  45%|████▌     | 54/120 [00:14<00:16,  3.98it/s]\u001b[A\n",
            "Vailing:  46%|████▌     | 55/120 [00:14<00:16,  3.98it/s]\u001b[A\n",
            "Vailing:  47%|████▋     | 56/120 [00:14<00:16,  3.99it/s]\u001b[A\n",
            "Vailing:  48%|████▊     | 57/120 [00:14<00:15,  3.99it/s]\u001b[A\n",
            "Vailing:  48%|████▊     | 58/120 [00:15<00:15,  4.02it/s]\u001b[A\n",
            "Vailing:  49%|████▉     | 59/120 [00:15<00:15,  4.00it/s]\u001b[A\n",
            "Vailing:  50%|█████     | 60/120 [00:15<00:14,  4.01it/s]\u001b[A\n",
            "Vailing:  51%|█████     | 61/120 [00:15<00:14,  4.03it/s]\u001b[A\n",
            "Vailing:  52%|█████▏    | 62/120 [00:16<00:14,  4.00it/s]\u001b[A\n",
            "Vailing:  52%|█████▎    | 63/120 [00:16<00:14,  4.02it/s]\u001b[A\n",
            "Vailing:  53%|█████▎    | 64/120 [00:16<00:13,  4.06it/s]\u001b[A\n",
            "Vailing:  54%|█████▍    | 65/120 [00:16<00:13,  4.05it/s]\u001b[A\n",
            "Vailing:  55%|█████▌    | 66/120 [00:17<00:13,  4.05it/s]\u001b[A\n",
            "Vailing:  56%|█████▌    | 67/120 [00:17<00:13,  4.05it/s]\u001b[A\n",
            "Vailing:  57%|█████▋    | 68/120 [00:17<00:12,  4.05it/s]\u001b[A\n",
            "Vailing:  57%|█████▊    | 69/120 [00:17<00:12,  4.02it/s]\u001b[A\n",
            "Vailing:  58%|█████▊    | 70/120 [00:18<00:12,  4.02it/s]\u001b[A\n",
            "Vailing:  59%|█████▉    | 71/120 [00:18<00:12,  4.02it/s]\u001b[A\n",
            "Vailing:  60%|██████    | 72/120 [00:18<00:11,  4.03it/s]\u001b[A\n",
            "Vailing:  61%|██████    | 73/120 [00:18<00:11,  4.02it/s]\u001b[A\n",
            "Vailing:  62%|██████▏   | 74/120 [00:19<00:11,  4.04it/s]\u001b[A\n",
            "Vailing:  62%|██████▎   | 75/120 [00:19<00:11,  4.01it/s]\u001b[A\n",
            "Vailing:  63%|██████▎   | 76/120 [00:19<00:11,  3.95it/s]\u001b[A\n",
            "Vailing:  64%|██████▍   | 77/120 [00:19<00:11,  3.77it/s]\u001b[A\n",
            "Vailing:  65%|██████▌   | 78/120 [00:20<00:11,  3.64it/s]\u001b[A\n",
            "Vailing:  66%|██████▌   | 79/120 [00:20<00:11,  3.57it/s]\u001b[A\n",
            "Vailing:  67%|██████▋   | 80/120 [00:20<00:11,  3.43it/s]\u001b[A\n",
            "Vailing:  68%|██████▊   | 81/120 [00:21<00:11,  3.47it/s]\u001b[A\n",
            "Vailing:  68%|██████▊   | 82/120 [00:21<00:10,  3.46it/s]\u001b[A\n",
            "Vailing:  69%|██████▉   | 83/120 [00:21<00:10,  3.43it/s]\u001b[A\n",
            "Vailing:  70%|███████   | 84/120 [00:22<00:10,  3.39it/s]\u001b[A\n",
            "Vailing:  71%|███████   | 85/120 [00:22<00:10,  3.36it/s]\u001b[A\n",
            "Vailing:  72%|███████▏  | 86/120 [00:22<00:10,  3.32it/s]\u001b[A\n",
            "Vailing:  72%|███████▎  | 87/120 [00:22<00:09,  3.49it/s]\u001b[A\n",
            "Vailing:  73%|███████▎  | 88/120 [00:23<00:08,  3.64it/s]\u001b[A\n",
            "Vailing:  74%|███████▍  | 89/120 [00:23<00:08,  3.76it/s]\u001b[A\n",
            "Vailing:  75%|███████▌  | 90/120 [00:23<00:07,  3.84it/s]\u001b[A\n",
            "Vailing:  76%|███████▌  | 91/120 [00:23<00:07,  3.85it/s]\u001b[A\n",
            "Vailing:  77%|███████▋  | 92/120 [00:24<00:07,  3.81it/s]\u001b[A\n",
            "Vailing:  78%|███████▊  | 93/120 [00:24<00:06,  3.86it/s]\u001b[A\n",
            "Vailing:  78%|███████▊  | 94/120 [00:24<00:06,  3.92it/s]\u001b[A\n",
            "Vailing:  79%|███████▉  | 95/120 [00:24<00:06,  3.95it/s]\u001b[A\n",
            "Vailing:  80%|████████  | 96/120 [00:25<00:06,  3.87it/s]\u001b[A\n",
            "Vailing:  81%|████████  | 97/120 [00:25<00:05,  3.93it/s]\u001b[A\n",
            "Vailing:  82%|████████▏ | 98/120 [00:25<00:05,  3.95it/s]\u001b[A\n",
            "Vailing:  82%|████████▎ | 99/120 [00:25<00:05,  3.82it/s]\u001b[A\n",
            "Vailing:  83%|████████▎ | 100/120 [00:26<00:05,  3.81it/s]\u001b[A\n",
            "Vailing:  84%|████████▍ | 101/120 [00:26<00:04,  3.90it/s]\u001b[A\n",
            "Vailing:  85%|████████▌ | 102/120 [00:26<00:04,  3.91it/s]\u001b[A\n",
            "Vailing:  86%|████████▌ | 103/120 [00:26<00:04,  3.96it/s]\u001b[A\n",
            "Vailing:  87%|████████▋ | 104/120 [00:27<00:04,  3.90it/s]\u001b[A\n",
            "Vailing:  88%|████████▊ | 105/120 [00:27<00:03,  3.89it/s]\u001b[A\n",
            "Vailing:  88%|████████▊ | 106/120 [00:27<00:03,  3.91it/s]\u001b[A\n",
            "Vailing:  89%|████████▉ | 107/120 [00:28<00:03,  3.91it/s]\u001b[A\n",
            "Vailing:  90%|█████████ | 108/120 [00:28<00:03,  3.88it/s]\u001b[A\n",
            "Vailing:  91%|█████████ | 109/120 [00:28<00:02,  3.91it/s]\u001b[A\n",
            "Vailing:  92%|█████████▏| 110/120 [00:28<00:02,  3.96it/s]\u001b[A\n",
            "Vailing:  92%|█████████▎| 111/120 [00:29<00:02,  3.95it/s]\u001b[A\n",
            "Vailing:  93%|█████████▎| 112/120 [00:29<00:02,  3.98it/s]\u001b[A\n",
            "Vailing:  94%|█████████▍| 113/120 [00:29<00:01,  4.00it/s]\u001b[A\n",
            "Vailing:  95%|█████████▌| 114/120 [00:29<00:01,  4.02it/s]\u001b[A\n",
            "Vailing:  96%|█████████▌| 115/120 [00:30<00:01,  4.03it/s]\u001b[A\n",
            "Vailing:  97%|█████████▋| 116/120 [00:30<00:00,  4.02it/s]\u001b[A\n",
            "Vailing:  98%|█████████▊| 117/120 [00:30<00:00,  4.00it/s]\u001b[A\n",
            "Vailing:  98%|█████████▊| 118/120 [00:30<00:00,  3.99it/s]\u001b[A\n",
            "Vailing:  99%|█████████▉| 119/120 [00:31<00:00,  4.00it/s]\u001b[A\n",
            "Vailing: 100%|██████████| 120/120 [00:31<00:00,  3.84it/s]\n"
          ]
        },
        {
          "name": "stdout",
          "output_type": "stream",
          "text": [
            "验证集评估报告：\n",
            "               precision    recall  f1-score   support\n",
            "\n",
            "           0       0.45      0.71      0.55       700\n",
            "           1       0.63      0.81      0.71       701\n",
            "           2       0.88      0.89      0.88      3793\n",
            "           3       0.85      0.77      0.81      1574\n",
            "           4       0.87      0.86      0.86      1593\n",
            "           5       0.91      0.82      0.86      1940\n",
            "           6       0.82      0.76      0.79      1695\n",
            "           7       0.76      0.82      0.79      1002\n",
            "           8       0.90      0.81      0.85      2327\n",
            "\n",
            "    accuracy                           0.82     15325\n",
            "   macro avg       0.79      0.80      0.79     15325\n",
            "weighted avg       0.84      0.82      0.83     15325\n",
            "\n",
            "验证集的f1: 0.7897, accuracy:0.8220, precision:0.7851, recall:0.8048\n"
          ]
        },
        {
          "name": "stderr",
          "output_type": "stream",
          "text": [
            "\rtraining....:  59%|█████▉    | 1300/2193 [20:26<2:34:23, 10.37s/it]"
          ]
        },
        {
          "name": "stdout",
          "output_type": "stream",
          "text": [
            "保存模型成功, 当前f1分数: 0.7896551365918435\n"
          ]
        },
        {
          "name": "stderr",
          "output_type": "stream",
          "text": [
            "training....:  60%|█████▉    | 1310/2193 [20:32<13:05,  1.12it/s]"
          ]
        },
        {
          "name": "stdout",
          "output_type": "stream",
          "text": [
            "epoch:1,batch:1310,loss:0.5886,train_f1:0.8176,acc:0.8180\n"
          ]
        },
        {
          "name": "stderr",
          "output_type": "stream",
          "text": [
            "training....:  60%|██████    | 1320/2193 [20:38<09:08,  1.59it/s]"
          ]
        },
        {
          "name": "stdout",
          "output_type": "stream",
          "text": [
            "epoch:1,batch:1320,loss:0.6451,train_f1:0.7964,acc:0.8000\n"
          ]
        },
        {
          "name": "stderr",
          "output_type": "stream",
          "text": [
            "training....:  61%|██████    | 1330/2193 [20:44<08:54,  1.61it/s]"
          ]
        },
        {
          "name": "stdout",
          "output_type": "stream",
          "text": [
            "epoch:1,batch:1330,loss:0.6160,train_f1:0.7979,acc:0.8023\n"
          ]
        },
        {
          "name": "stderr",
          "output_type": "stream",
          "text": [
            "training....:  61%|██████    | 1340/2193 [20:51<08:47,  1.62it/s]"
          ]
        },
        {
          "name": "stdout",
          "output_type": "stream",
          "text": [
            "epoch:1,batch:1340,loss:0.6462,train_f1:0.8072,acc:0.8102\n"
          ]
        },
        {
          "name": "stderr",
          "output_type": "stream",
          "text": [
            "training....:  62%|██████▏   | 1350/2193 [20:57<08:40,  1.62it/s]"
          ]
        },
        {
          "name": "stdout",
          "output_type": "stream",
          "text": [
            "epoch:1,batch:1350,loss:0.6350,train_f1:0.7988,acc:0.7992\n"
          ]
        },
        {
          "name": "stderr",
          "output_type": "stream",
          "text": [
            "training....:  62%|██████▏   | 1360/2193 [21:03<08:35,  1.61it/s]"
          ]
        },
        {
          "name": "stdout",
          "output_type": "stream",
          "text": [
            "epoch:1,batch:1360,loss:0.6777,train_f1:0.7976,acc:0.7977\n"
          ]
        },
        {
          "name": "stderr",
          "output_type": "stream",
          "text": [
            "training....:  62%|██████▏   | 1370/2193 [21:09<08:28,  1.62it/s]"
          ]
        },
        {
          "name": "stdout",
          "output_type": "stream",
          "text": [
            "epoch:1,batch:1370,loss:0.7083,train_f1:0.7708,acc:0.7734\n"
          ]
        },
        {
          "name": "stderr",
          "output_type": "stream",
          "text": [
            "training....:  63%|██████▎   | 1380/2193 [21:15<08:21,  1.62it/s]"
          ]
        },
        {
          "name": "stdout",
          "output_type": "stream",
          "text": [
            "epoch:1,batch:1380,loss:0.7219,train_f1:0.7697,acc:0.7703\n"
          ]
        },
        {
          "name": "stderr",
          "output_type": "stream",
          "text": [
            "training....:  63%|██████▎   | 1390/2193 [21:21<08:17,  1.61it/s]"
          ]
        },
        {
          "name": "stdout",
          "output_type": "stream",
          "text": [
            "epoch:1,batch:1390,loss:0.6869,train_f1:0.7831,acc:0.7859\n"
          ]
        },
        {
          "name": "stderr",
          "output_type": "stream",
          "text": [
            "training....:  64%|██████▍   | 1399/2193 [21:27<08:07,  1.63it/s]"
          ]
        },
        {
          "name": "stdout",
          "output_type": "stream",
          "text": [
            "epoch:1,batch:1400,loss:0.6558,train_f1:0.7948,acc:0.8008\n"
          ]
        },
        {
          "name": "stderr",
          "output_type": "stream",
          "text": [
            "\n",
            "Vailing:   0%|          | 0/120 [00:00<?, ?it/s]\u001b[A\n",
            "Vailing:   1%|          | 1/120 [00:00<01:08,  1.73it/s]\u001b[A\n",
            "Vailing:   2%|▏         | 2/120 [00:00<00:45,  2.62it/s]\u001b[A\n",
            "Vailing:   2%|▎         | 3/120 [00:01<00:37,  3.12it/s]\u001b[A\n",
            "Vailing:   3%|▎         | 4/120 [00:01<00:33,  3.42it/s]\u001b[A\n",
            "Vailing:   4%|▍         | 5/120 [00:01<00:31,  3.60it/s]\u001b[A\n",
            "Vailing:   5%|▌         | 6/120 [00:01<00:30,  3.72it/s]\u001b[A\n",
            "Vailing:   6%|▌         | 7/120 [00:02<00:29,  3.82it/s]\u001b[A\n",
            "Vailing:   7%|▋         | 8/120 [00:02<00:28,  3.87it/s]\u001b[A\n",
            "Vailing:   8%|▊         | 9/120 [00:02<00:28,  3.93it/s]\u001b[A\n",
            "Vailing:   8%|▊         | 10/120 [00:02<00:27,  3.94it/s]\u001b[A\n",
            "Vailing:   9%|▉         | 11/120 [00:03<00:27,  3.94it/s]\u001b[A\n",
            "Vailing:  10%|█         | 12/120 [00:03<00:27,  3.98it/s]\u001b[A\n",
            "Vailing:  11%|█         | 13/120 [00:03<00:27,  3.96it/s]\u001b[A\n",
            "Vailing:  12%|█▏        | 14/120 [00:03<00:26,  3.97it/s]\u001b[A\n",
            "Vailing:  12%|█▎        | 15/120 [00:04<00:26,  3.97it/s]\u001b[A\n",
            "Vailing:  13%|█▎        | 16/120 [00:04<00:27,  3.76it/s]\u001b[A\n",
            "Vailing:  14%|█▍        | 17/120 [00:04<00:28,  3.60it/s]\u001b[A\n",
            "Vailing:  15%|█▌        | 18/120 [00:04<00:29,  3.48it/s]\u001b[A\n",
            "Vailing:  16%|█▌        | 19/120 [00:05<00:29,  3.45it/s]\u001b[A\n",
            "Vailing:  17%|█▋        | 20/120 [00:05<00:28,  3.45it/s]\u001b[A\n",
            "Vailing:  18%|█▊        | 21/120 [00:05<00:28,  3.47it/s]\u001b[A\n",
            "Vailing:  18%|█▊        | 22/120 [00:06<00:28,  3.47it/s]\u001b[A\n",
            "Vailing:  19%|█▉        | 23/120 [00:06<00:28,  3.42it/s]\u001b[A\n",
            "Vailing:  20%|██        | 24/120 [00:06<00:28,  3.42it/s]\u001b[A\n",
            "Vailing:  21%|██        | 25/120 [00:07<00:28,  3.37it/s]\u001b[A\n",
            "Vailing:  22%|██▏       | 26/120 [00:07<00:26,  3.55it/s]\u001b[A\n",
            "Vailing:  22%|██▎       | 27/120 [00:07<00:25,  3.65it/s]\u001b[A\n",
            "Vailing:  23%|██▎       | 28/120 [00:07<00:24,  3.77it/s]\u001b[A\n",
            "Vailing:  24%|██▍       | 29/120 [00:08<00:23,  3.84it/s]\u001b[A\n",
            "Vailing:  25%|██▌       | 30/120 [00:08<00:23,  3.90it/s]\u001b[A\n",
            "Vailing:  26%|██▌       | 31/120 [00:08<00:23,  3.81it/s]\u001b[A\n",
            "Vailing:  27%|██▋       | 32/120 [00:08<00:22,  3.87it/s]\u001b[A\n",
            "Vailing:  28%|██▊       | 33/120 [00:09<00:22,  3.93it/s]\u001b[A\n",
            "Vailing:  28%|██▊       | 34/120 [00:09<00:21,  3.93it/s]\u001b[A\n",
            "Vailing:  29%|██▉       | 35/120 [00:09<00:22,  3.84it/s]\u001b[A\n",
            "Vailing:  30%|███       | 36/120 [00:09<00:21,  3.89it/s]\u001b[A\n",
            "Vailing:  31%|███       | 37/120 [00:10<00:21,  3.90it/s]\u001b[A\n",
            "Vailing:  32%|███▏      | 38/120 [00:10<00:20,  3.95it/s]\u001b[A\n",
            "Vailing:  32%|███▎      | 39/120 [00:10<00:20,  3.88it/s]\u001b[A\n",
            "Vailing:  33%|███▎      | 40/120 [00:10<00:20,  3.92it/s]\u001b[A\n",
            "Vailing:  34%|███▍      | 41/120 [00:11<00:20,  3.92it/s]\u001b[A\n",
            "Vailing:  35%|███▌      | 42/120 [00:11<00:19,  3.94it/s]\u001b[A\n",
            "Vailing:  36%|███▌      | 43/120 [00:11<00:19,  3.91it/s]\u001b[A\n",
            "Vailing:  37%|███▋      | 44/120 [00:11<00:19,  3.94it/s]\u001b[A\n",
            "Vailing:  38%|███▊      | 45/120 [00:12<00:18,  3.95it/s]\u001b[A\n",
            "Vailing:  38%|███▊      | 46/120 [00:12<00:18,  3.98it/s]\u001b[A\n",
            "Vailing:  39%|███▉      | 47/120 [00:12<00:18,  3.97it/s]\u001b[A\n",
            "Vailing:  40%|████      | 48/120 [00:12<00:18,  3.97it/s]\u001b[A\n",
            "Vailing:  41%|████      | 49/120 [00:13<00:17,  3.99it/s]\u001b[A\n",
            "Vailing:  42%|████▏     | 50/120 [00:13<00:17,  4.01it/s]\u001b[A\n",
            "Vailing:  42%|████▎     | 51/120 [00:13<00:17,  4.00it/s]\u001b[A\n",
            "Vailing:  43%|████▎     | 52/120 [00:13<00:16,  4.00it/s]\u001b[A\n",
            "Vailing:  44%|████▍     | 53/120 [00:14<00:16,  4.01it/s]\u001b[A\n",
            "Vailing:  45%|████▌     | 54/120 [00:14<00:16,  4.01it/s]\u001b[A\n",
            "Vailing:  46%|████▌     | 55/120 [00:14<00:16,  4.01it/s]\u001b[A\n",
            "Vailing:  47%|████▋     | 56/120 [00:14<00:15,  4.01it/s]\u001b[A\n",
            "Vailing:  48%|████▊     | 57/120 [00:15<00:15,  4.01it/s]\u001b[A\n",
            "Vailing:  48%|████▊     | 58/120 [00:15<00:15,  4.02it/s]\u001b[A\n",
            "Vailing:  49%|████▉     | 59/120 [00:15<00:15,  4.01it/s]\u001b[A\n",
            "Vailing:  50%|█████     | 60/120 [00:15<00:14,  4.01it/s]\u001b[A\n",
            "Vailing:  51%|█████     | 61/120 [00:16<00:14,  4.01it/s]\u001b[A\n",
            "Vailing:  52%|█████▏    | 62/120 [00:16<00:14,  4.01it/s]\u001b[A\n",
            "Vailing:  52%|█████▎    | 63/120 [00:16<00:14,  4.04it/s]\u001b[A\n",
            "Vailing:  53%|█████▎    | 64/120 [00:16<00:13,  4.02it/s]\u001b[A\n",
            "Vailing:  54%|█████▍    | 65/120 [00:17<00:13,  4.02it/s]\u001b[A\n",
            "Vailing:  55%|█████▌    | 66/120 [00:17<00:14,  3.81it/s]\u001b[A\n",
            "Vailing:  56%|█████▌    | 67/120 [00:17<00:14,  3.71it/s]\u001b[A\n",
            "Vailing:  57%|█████▋    | 68/120 [00:17<00:14,  3.64it/s]\u001b[A\n",
            "Vailing:  57%|█████▊    | 69/120 [00:18<00:14,  3.61it/s]\u001b[A\n",
            "Vailing:  58%|█████▊    | 70/120 [00:18<00:14,  3.55it/s]\u001b[A\n",
            "Vailing:  59%|█████▉    | 71/120 [00:18<00:14,  3.42it/s]\u001b[A\n",
            "Vailing:  60%|██████    | 72/120 [00:19<00:13,  3.44it/s]\u001b[A\n",
            "Vailing:  61%|██████    | 73/120 [00:19<00:13,  3.48it/s]\u001b[A\n",
            "Vailing:  62%|██████▏   | 74/120 [00:19<00:13,  3.46it/s]\u001b[A\n",
            "Vailing:  62%|██████▎   | 75/120 [00:20<00:13,  3.41it/s]\u001b[A\n",
            "Vailing:  63%|██████▎   | 76/120 [00:20<00:12,  3.59it/s]\u001b[A\n",
            "Vailing:  64%|██████▍   | 77/120 [00:20<00:11,  3.68it/s]\u001b[A\n",
            "Vailing:  65%|██████▌   | 78/120 [00:20<00:11,  3.77it/s]\u001b[A\n",
            "Vailing:  66%|██████▌   | 79/120 [00:21<00:10,  3.80it/s]\u001b[A\n",
            "Vailing:  67%|██████▋   | 80/120 [00:21<00:10,  3.85it/s]\u001b[A\n",
            "Vailing:  68%|██████▊   | 81/120 [00:21<00:10,  3.88it/s]\u001b[A\n",
            "Vailing:  68%|██████▊   | 82/120 [00:21<00:09,  3.91it/s]\u001b[A\n",
            "Vailing:  69%|██████▉   | 83/120 [00:22<00:09,  3.88it/s]\u001b[A\n",
            "Vailing:  70%|███████   | 84/120 [00:22<00:09,  3.93it/s]\u001b[A\n",
            "Vailing:  71%|███████   | 85/120 [00:22<00:08,  3.93it/s]\u001b[A\n",
            "Vailing:  72%|███████▏  | 86/120 [00:22<00:08,  3.99it/s]\u001b[A\n",
            "Vailing:  72%|███████▎  | 87/120 [00:23<00:08,  3.99it/s]\u001b[A\n",
            "Vailing:  73%|███████▎  | 88/120 [00:23<00:07,  4.04it/s]\u001b[A\n",
            "Vailing:  74%|███████▍  | 89/120 [00:23<00:07,  4.01it/s]\u001b[A\n",
            "Vailing:  75%|███████▌  | 90/120 [00:23<00:07,  3.99it/s]\u001b[A\n",
            "Vailing:  76%|███████▌  | 91/120 [00:24<00:07,  4.01it/s]\u001b[A\n",
            "Vailing:  77%|███████▋  | 92/120 [00:24<00:07,  3.99it/s]\u001b[A\n",
            "Vailing:  78%|███████▊  | 93/120 [00:24<00:06,  3.99it/s]\u001b[A\n",
            "Vailing:  78%|███████▊  | 94/120 [00:24<00:06,  3.98it/s]\u001b[A\n",
            "Vailing:  79%|███████▉  | 95/120 [00:25<00:06,  4.01it/s]\u001b[A\n",
            "Vailing:  80%|████████  | 96/120 [00:25<00:05,  4.00it/s]\u001b[A\n",
            "Vailing:  81%|████████  | 97/120 [00:25<00:05,  4.02it/s]\u001b[A\n",
            "Vailing:  82%|████████▏ | 98/120 [00:25<00:05,  3.99it/s]\u001b[A\n",
            "Vailing:  82%|████████▎ | 99/120 [00:26<00:05,  4.01it/s]\u001b[A\n",
            "Vailing:  83%|████████▎ | 100/120 [00:26<00:04,  4.02it/s]\u001b[A\n",
            "Vailing:  84%|████████▍ | 101/120 [00:26<00:04,  4.00it/s]\u001b[A\n",
            "Vailing:  85%|████████▌ | 102/120 [00:26<00:04,  4.01it/s]\u001b[A\n",
            "Vailing:  86%|████████▌ | 103/120 [00:27<00:04,  4.01it/s]\u001b[A\n",
            "Vailing:  87%|████████▋ | 104/120 [00:27<00:03,  4.04it/s]\u001b[A\n",
            "Vailing:  88%|████████▊ | 105/120 [00:27<00:03,  4.04it/s]\u001b[A\n",
            "Vailing:  88%|████████▊ | 106/120 [00:27<00:03,  4.00it/s]\u001b[A\n",
            "Vailing:  89%|████████▉ | 107/120 [00:28<00:03,  4.01it/s]\u001b[A\n",
            "Vailing:  90%|█████████ | 108/120 [00:28<00:03,  3.98it/s]\u001b[A\n",
            "Vailing:  91%|█████████ | 109/120 [00:28<00:02,  3.98it/s]\u001b[A\n",
            "Vailing:  92%|█████████▏| 110/120 [00:28<00:02,  3.99it/s]\u001b[A\n",
            "Vailing:  92%|█████████▎| 111/120 [00:29<00:02,  4.00it/s]\u001b[A\n",
            "Vailing:  93%|█████████▎| 112/120 [00:29<00:02,  3.92it/s]\u001b[A\n",
            "Vailing:  94%|█████████▍| 113/120 [00:29<00:01,  3.94it/s]\u001b[A\n",
            "Vailing:  95%|█████████▌| 114/120 [00:29<00:01,  3.95it/s]\u001b[A\n",
            "Vailing:  96%|█████████▌| 115/120 [00:30<00:01,  3.96it/s]\u001b[A\n",
            "Vailing:  97%|█████████▋| 116/120 [00:30<00:01,  3.72it/s]\u001b[A\n",
            "Vailing:  98%|█████████▊| 117/120 [00:30<00:00,  3.62it/s]\u001b[A\n",
            "Vailing:  98%|█████████▊| 118/120 [00:30<00:00,  3.56it/s]\u001b[A\n",
            "Vailing:  99%|█████████▉| 119/120 [00:31<00:00,  3.48it/s]\u001b[A\n",
            "Vailing: 100%|██████████| 120/120 [00:31<00:00,  3.81it/s]\n"
          ]
        },
        {
          "name": "stdout",
          "output_type": "stream",
          "text": [
            "验证集评估报告：\n",
            "               precision    recall  f1-score   support\n",
            "\n",
            "           0       0.52      0.66      0.58       700\n",
            "           1       0.64      0.82      0.72       701\n",
            "           2       0.91      0.86      0.89      3793\n",
            "           3       0.85      0.79      0.82      1574\n",
            "           4       0.81      0.90      0.85      1593\n",
            "           5       0.89      0.84      0.87      1940\n",
            "           6       0.83      0.75      0.79      1695\n",
            "           7       0.79      0.81      0.80      1002\n",
            "           8       0.85      0.85      0.85      2327\n",
            "\n",
            "    accuracy                           0.83     15325\n",
            "   macro avg       0.79      0.81      0.80     15325\n",
            "weighted avg       0.84      0.83      0.83     15325\n",
            "\n",
            "验证集的f1: 0.7953, accuracy:0.8271, precision:0.7874, recall:0.8088\n"
          ]
        },
        {
          "name": "stderr",
          "output_type": "stream",
          "text": [
            "\rtraining....:  64%|██████▍   | 1400/2193 [22:01<2:19:26, 10.55s/it]"
          ]
        },
        {
          "name": "stdout",
          "output_type": "stream",
          "text": [
            "保存模型成功, 当前f1分数: 0.7952574885310069\n"
          ]
        },
        {
          "name": "stderr",
          "output_type": "stream",
          "text": [
            "training....:  64%|██████▍   | 1410/2193 [22:07<11:40,  1.12it/s]"
          ]
        },
        {
          "name": "stdout",
          "output_type": "stream",
          "text": [
            "epoch:1,batch:1410,loss:0.6665,train_f1:0.7923,acc:0.7922\n"
          ]
        },
        {
          "name": "stderr",
          "output_type": "stream",
          "text": [
            "training....:  65%|██████▍   | 1420/2193 [22:13<08:16,  1.56it/s]"
          ]
        },
        {
          "name": "stdout",
          "output_type": "stream",
          "text": [
            "epoch:1,batch:1420,loss:0.6172,train_f1:0.8120,acc:0.8117\n"
          ]
        },
        {
          "name": "stderr",
          "output_type": "stream",
          "text": [
            "training....:  65%|██████▌   | 1430/2193 [22:19<07:54,  1.61it/s]"
          ]
        },
        {
          "name": "stdout",
          "output_type": "stream",
          "text": [
            "epoch:1,batch:1430,loss:0.6578,train_f1:0.7824,acc:0.7844\n"
          ]
        },
        {
          "name": "stderr",
          "output_type": "stream",
          "text": [
            "training....:  66%|██████▌   | 1440/2193 [22:25<07:45,  1.62it/s]"
          ]
        },
        {
          "name": "stdout",
          "output_type": "stream",
          "text": [
            "epoch:1,batch:1440,loss:0.6384,train_f1:0.7978,acc:0.8016\n"
          ]
        },
        {
          "name": "stderr",
          "output_type": "stream",
          "text": [
            "training....:  66%|██████▌   | 1450/2193 [22:31<07:38,  1.62it/s]"
          ]
        },
        {
          "name": "stdout",
          "output_type": "stream",
          "text": [
            "epoch:1,batch:1450,loss:0.5660,train_f1:0.8196,acc:0.8258\n"
          ]
        },
        {
          "name": "stderr",
          "output_type": "stream",
          "text": [
            "training....:  67%|██████▋   | 1460/2193 [22:38<07:31,  1.62it/s]"
          ]
        },
        {
          "name": "stdout",
          "output_type": "stream",
          "text": [
            "epoch:1,batch:1460,loss:0.6558,train_f1:0.7900,acc:0.7922\n"
          ]
        },
        {
          "name": "stderr",
          "output_type": "stream",
          "text": [
            "training....:  67%|██████▋   | 1470/2193 [22:44<07:26,  1.62it/s]"
          ]
        },
        {
          "name": "stdout",
          "output_type": "stream",
          "text": [
            "epoch:1,batch:1470,loss:0.6413,train_f1:0.8048,acc:0.8047\n"
          ]
        },
        {
          "name": "stderr",
          "output_type": "stream",
          "text": [
            "training....:  67%|██████▋   | 1480/2193 [22:50<07:20,  1.62it/s]"
          ]
        },
        {
          "name": "stdout",
          "output_type": "stream",
          "text": [
            "epoch:1,batch:1480,loss:0.6174,train_f1:0.8039,acc:0.8078\n"
          ]
        },
        {
          "name": "stderr",
          "output_type": "stream",
          "text": [
            "training....:  68%|██████▊   | 1490/2193 [22:56<07:14,  1.62it/s]"
          ]
        },
        {
          "name": "stdout",
          "output_type": "stream",
          "text": [
            "epoch:1,batch:1490,loss:0.6366,train_f1:0.7848,acc:0.7867\n"
          ]
        },
        {
          "name": "stderr",
          "output_type": "stream",
          "text": [
            "training....:  68%|██████▊   | 1499/2193 [23:02<07:06,  1.63it/s]"
          ]
        },
        {
          "name": "stdout",
          "output_type": "stream",
          "text": [
            "epoch:1,batch:1500,loss:0.6463,train_f1:0.7882,acc:0.7953\n"
          ]
        },
        {
          "name": "stderr",
          "output_type": "stream",
          "text": [
            "\n",
            "Vailing:   0%|          | 0/120 [00:00<?, ?it/s]\u001b[A\n",
            "Vailing:   1%|          | 1/120 [00:00<01:08,  1.73it/s]\u001b[A\n",
            "Vailing:   2%|▏         | 2/120 [00:00<00:45,  2.62it/s]\u001b[A\n",
            "Vailing:   2%|▎         | 3/120 [00:01<00:37,  3.11it/s]\u001b[A\n",
            "Vailing:   3%|▎         | 4/120 [00:01<00:33,  3.43it/s]\u001b[A\n",
            "Vailing:   4%|▍         | 5/120 [00:01<00:33,  3.42it/s]\u001b[A\n",
            "Vailing:   5%|▌         | 6/120 [00:01<00:33,  3.42it/s]\u001b[A\n",
            "Vailing:   6%|▌         | 7/120 [00:02<00:33,  3.42it/s]\u001b[A\n",
            "Vailing:   7%|▋         | 8/120 [00:02<00:32,  3.41it/s]\u001b[A\n",
            "Vailing:   8%|▊         | 9/120 [00:02<00:32,  3.41it/s]\u001b[A\n",
            "Vailing:   8%|▊         | 10/120 [00:03<00:32,  3.39it/s]\u001b[A\n",
            "Vailing:   9%|▉         | 11/120 [00:03<00:31,  3.44it/s]\u001b[A\n",
            "Vailing:  10%|█         | 12/120 [00:03<00:31,  3.42it/s]\u001b[A\n",
            "Vailing:  11%|█         | 13/120 [00:03<00:31,  3.38it/s]\u001b[A\n",
            "Vailing:  12%|█▏        | 14/120 [00:04<00:31,  3.34it/s]\u001b[A\n",
            "Vailing:  12%|█▎        | 15/120 [00:04<00:29,  3.52it/s]\u001b[A\n",
            "Vailing:  13%|█▎        | 16/120 [00:04<00:28,  3.66it/s]\u001b[A\n",
            "Vailing:  14%|█▍        | 17/120 [00:05<00:27,  3.77it/s]\u001b[A\n",
            "Vailing:  15%|█▌        | 18/120 [00:05<00:26,  3.83it/s]\u001b[A\n",
            "Vailing:  16%|█▌        | 19/120 [00:05<00:26,  3.88it/s]\u001b[A\n",
            "Vailing:  17%|█▋        | 20/120 [00:05<00:25,  3.93it/s]\u001b[A\n",
            "Vailing:  18%|█▊        | 21/120 [00:06<00:25,  3.93it/s]\u001b[A\n",
            "Vailing:  18%|█▊        | 22/120 [00:06<00:24,  3.97it/s]\u001b[A\n",
            "Vailing:  19%|█▉        | 23/120 [00:06<00:24,  4.00it/s]\u001b[A\n",
            "Vailing:  20%|██        | 24/120 [00:06<00:24,  3.92it/s]\u001b[A\n",
            "Vailing:  21%|██        | 25/120 [00:07<00:23,  3.97it/s]\u001b[A\n",
            "Vailing:  22%|██▏       | 26/120 [00:07<00:23,  3.98it/s]\u001b[A\n",
            "Vailing:  22%|██▎       | 27/120 [00:07<00:23,  3.95it/s]\u001b[A\n",
            "Vailing:  23%|██▎       | 28/120 [00:07<00:23,  3.88it/s]\u001b[A\n",
            "Vailing:  24%|██▍       | 29/120 [00:08<00:23,  3.92it/s]\u001b[A\n",
            "Vailing:  25%|██▌       | 30/120 [00:08<00:22,  3.94it/s]\u001b[A\n",
            "Vailing:  26%|██▌       | 31/120 [00:08<00:22,  3.95it/s]\u001b[A\n",
            "Vailing:  27%|██▋       | 32/120 [00:08<00:22,  3.89it/s]\u001b[A\n",
            "Vailing:  28%|██▊       | 33/120 [00:09<00:22,  3.94it/s]\u001b[A\n",
            "Vailing:  28%|██▊       | 34/120 [00:09<00:21,  3.95it/s]\u001b[A\n",
            "Vailing:  29%|██▉       | 35/120 [00:09<00:21,  3.98it/s]\u001b[A\n",
            "Vailing:  30%|███       | 36/120 [00:09<00:21,  3.94it/s]\u001b[A\n",
            "Vailing:  31%|███       | 37/120 [00:10<00:20,  3.96it/s]\u001b[A\n",
            "Vailing:  32%|███▏      | 38/120 [00:10<00:20,  3.97it/s]\u001b[A\n",
            "Vailing:  32%|███▎      | 39/120 [00:10<00:20,  3.98it/s]\u001b[A\n",
            "Vailing:  33%|███▎      | 40/120 [00:10<00:20,  3.99it/s]\u001b[A\n",
            "Vailing:  34%|███▍      | 41/120 [00:11<00:19,  4.00it/s]\u001b[A\n",
            "Vailing:  35%|███▌      | 42/120 [00:11<00:19,  4.00it/s]\u001b[A\n",
            "Vailing:  36%|███▌      | 43/120 [00:11<00:19,  4.02it/s]\u001b[A\n",
            "Vailing:  37%|███▋      | 44/120 [00:11<00:18,  4.01it/s]\u001b[A\n",
            "Vailing:  38%|███▊      | 45/120 [00:12<00:18,  4.00it/s]\u001b[A\n",
            "Vailing:  38%|███▊      | 46/120 [00:12<00:18,  4.00it/s]\u001b[A\n",
            "Vailing:  39%|███▉      | 47/120 [00:12<00:18,  4.04it/s]\u001b[A\n",
            "Vailing:  40%|████      | 48/120 [00:12<00:17,  4.03it/s]\u001b[A\n",
            "Vailing:  41%|████      | 49/120 [00:13<00:17,  4.05it/s]\u001b[A\n",
            "Vailing:  42%|████▏     | 50/120 [00:13<00:17,  4.07it/s]\u001b[A\n",
            "Vailing:  42%|████▎     | 51/120 [00:13<00:17,  4.04it/s]\u001b[A\n",
            "Vailing:  43%|████▎     | 52/120 [00:13<00:16,  4.02it/s]\u001b[A\n",
            "Vailing:  44%|████▍     | 53/120 [00:14<00:16,  3.99it/s]\u001b[A\n",
            "Vailing:  45%|████▌     | 54/120 [00:14<00:16,  4.02it/s]\u001b[A\n",
            "Vailing:  46%|████▌     | 55/120 [00:14<00:16,  3.85it/s]\u001b[A\n",
            "Vailing:  47%|████▋     | 56/120 [00:14<00:17,  3.67it/s]\u001b[A\n",
            "Vailing:  48%|████▊     | 57/120 [00:15<00:17,  3.61it/s]\u001b[A\n",
            "Vailing:  48%|████▊     | 58/120 [00:15<00:17,  3.53it/s]\u001b[A\n",
            "Vailing:  49%|████▉     | 59/120 [00:15<00:17,  3.51it/s]\u001b[A\n",
            "Vailing:  50%|█████     | 60/120 [00:16<00:17,  3.42it/s]\u001b[A\n",
            "Vailing:  51%|█████     | 61/120 [00:16<00:17,  3.40it/s]\u001b[A\n",
            "Vailing:  52%|█████▏    | 62/120 [00:16<00:17,  3.39it/s]\u001b[A\n",
            "Vailing:  52%|█████▎    | 63/120 [00:16<00:16,  3.38it/s]\u001b[A\n",
            "Vailing:  53%|█████▎    | 64/120 [00:17<00:16,  3.38it/s]\u001b[A\n",
            "Vailing:  54%|█████▍    | 65/120 [00:17<00:15,  3.44it/s]\u001b[A\n",
            "Vailing:  55%|█████▌    | 66/120 [00:17<00:15,  3.59it/s]\u001b[A\n",
            "Vailing:  56%|█████▌    | 67/120 [00:18<00:14,  3.71it/s]\u001b[A\n",
            "Vailing:  57%|█████▋    | 68/120 [00:18<00:13,  3.73it/s]\u001b[A\n",
            "Vailing:  57%|█████▊    | 69/120 [00:18<00:13,  3.81it/s]\u001b[A\n",
            "Vailing:  58%|█████▊    | 70/120 [00:18<00:13,  3.84it/s]\u001b[A\n",
            "Vailing:  59%|█████▉    | 71/120 [00:19<00:12,  3.88it/s]\u001b[A\n",
            "Vailing:  60%|██████    | 72/120 [00:19<00:12,  3.85it/s]\u001b[A\n",
            "Vailing:  61%|██████    | 73/120 [00:19<00:12,  3.90it/s]\u001b[A\n",
            "Vailing:  62%|██████▏   | 74/120 [00:19<00:11,  3.93it/s]\u001b[A\n",
            "Vailing:  62%|██████▎   | 75/120 [00:20<00:11,  3.95it/s]\u001b[A\n",
            "Vailing:  63%|██████▎   | 76/120 [00:20<00:11,  3.88it/s]\u001b[A\n",
            "Vailing:  64%|██████▍   | 77/120 [00:20<00:11,  3.89it/s]\u001b[A\n",
            "Vailing:  65%|██████▌   | 78/120 [00:20<00:10,  3.92it/s]\u001b[A\n",
            "Vailing:  66%|██████▌   | 79/120 [00:21<00:10,  3.94it/s]\u001b[A\n",
            "Vailing:  67%|██████▋   | 80/120 [00:21<00:10,  3.88it/s]\u001b[A\n",
            "Vailing:  68%|██████▊   | 81/120 [00:21<00:10,  3.90it/s]\u001b[A\n",
            "Vailing:  68%|██████▊   | 82/120 [00:21<00:09,  3.95it/s]\u001b[A\n",
            "Vailing:  69%|██████▉   | 83/120 [00:22<00:09,  3.95it/s]\u001b[A\n",
            "Vailing:  70%|███████   | 84/120 [00:22<00:09,  3.97it/s]\u001b[A\n",
            "Vailing:  71%|███████   | 85/120 [00:22<00:08,  3.97it/s]\u001b[A\n",
            "Vailing:  72%|███████▏  | 86/120 [00:22<00:08,  4.00it/s]\u001b[A\n",
            "Vailing:  72%|███████▎  | 87/120 [00:23<00:08,  4.00it/s]\u001b[A\n",
            "Vailing:  73%|███████▎  | 88/120 [00:23<00:07,  4.01it/s]\u001b[A\n",
            "Vailing:  74%|███████▍  | 89/120 [00:23<00:07,  4.03it/s]\u001b[A\n",
            "Vailing:  75%|███████▌  | 90/120 [00:23<00:07,  4.02it/s]\u001b[A\n",
            "Vailing:  76%|███████▌  | 91/120 [00:24<00:07,  4.01it/s]\u001b[A\n",
            "Vailing:  77%|███████▋  | 92/120 [00:24<00:06,  4.05it/s]\u001b[A\n",
            "Vailing:  78%|███████▊  | 93/120 [00:24<00:06,  4.02it/s]\u001b[A\n",
            "Vailing:  78%|███████▊  | 94/120 [00:24<00:06,  4.01it/s]\u001b[A\n",
            "Vailing:  79%|███████▉  | 95/120 [00:25<00:06,  3.96it/s]\u001b[A\n",
            "Vailing:  80%|████████  | 96/120 [00:25<00:06,  3.96it/s]\u001b[A\n",
            "Vailing:  81%|████████  | 97/120 [00:25<00:05,  3.95it/s]\u001b[A\n",
            "Vailing:  82%|████████▏ | 98/120 [00:25<00:05,  3.98it/s]\u001b[A\n",
            "Vailing:  82%|████████▎ | 99/120 [00:26<00:05,  3.97it/s]\u001b[A\n",
            "Vailing:  83%|████████▎ | 100/120 [00:26<00:05,  3.99it/s]\u001b[A\n",
            "Vailing:  84%|████████▍ | 101/120 [00:26<00:04,  4.00it/s]\u001b[A\n",
            "Vailing:  85%|████████▌ | 102/120 [00:26<00:04,  3.97it/s]\u001b[A\n",
            "Vailing:  86%|████████▌ | 103/120 [00:27<00:04,  3.95it/s]\u001b[A\n",
            "Vailing:  87%|████████▋ | 104/120 [00:27<00:04,  3.95it/s]\u001b[A\n",
            "Vailing:  88%|████████▊ | 105/120 [00:27<00:03,  3.78it/s]\u001b[A\n",
            "Vailing:  88%|████████▊ | 106/120 [00:27<00:03,  3.67it/s]\u001b[A\n",
            "Vailing:  89%|████████▉ | 107/120 [00:28<00:03,  3.62it/s]\u001b[A\n",
            "Vailing:  90%|█████████ | 108/120 [00:28<00:03,  3.58it/s]\u001b[A\n",
            "Vailing:  91%|█████████ | 109/120 [00:28<00:03,  3.55it/s]\u001b[A\n",
            "Vailing:  92%|█████████▏| 110/120 [00:29<00:02,  3.47it/s]\u001b[A\n",
            "Vailing:  92%|█████████▎| 111/120 [00:29<00:02,  3.45it/s]\u001b[A\n",
            "Vailing:  93%|█████████▎| 112/120 [00:29<00:02,  3.41it/s]\u001b[A\n",
            "Vailing:  94%|█████████▍| 113/120 [00:30<00:02,  3.37it/s]\u001b[A\n",
            "Vailing:  95%|█████████▌| 114/120 [00:30<00:01,  3.41it/s]\u001b[A\n",
            "Vailing:  96%|█████████▌| 115/120 [00:30<00:01,  3.38it/s]\u001b[A\n",
            "Vailing:  97%|█████████▋| 116/120 [00:30<00:01,  3.54it/s]\u001b[A\n",
            "Vailing:  98%|█████████▊| 117/120 [00:31<00:00,  3.64it/s]\u001b[A\n",
            "Vailing:  98%|█████████▊| 118/120 [00:31<00:00,  3.74it/s]\u001b[A\n",
            "Vailing:  99%|█████████▉| 119/120 [00:31<00:00,  3.82it/s]\u001b[A\n",
            "Vailing: 100%|██████████| 120/120 [00:31<00:00,  3.77it/s]\n"
          ]
        },
        {
          "name": "stdout",
          "output_type": "stream",
          "text": [
            "验证集评估报告：\n",
            "               precision    recall  f1-score   support\n",
            "\n",
            "           0       0.51      0.69      0.59       700\n",
            "           1       0.72      0.78      0.75       701\n",
            "           2       0.89      0.88      0.89      3793\n",
            "           3       0.82      0.79      0.81      1574\n",
            "           4       0.81      0.89      0.85      1593\n",
            "           5       0.89      0.85      0.87      1940\n",
            "           6       0.83      0.77      0.80      1695\n",
            "           7       0.84      0.78      0.81      1002\n",
            "           8       0.87      0.83      0.85      2327\n",
            "\n",
            "    accuracy                           0.83     15325\n",
            "   macro avg       0.80      0.81      0.80     15325\n",
            "weighted avg       0.84      0.83      0.83     15325\n",
            "\n",
            "验证集的f1: 0.8005, accuracy:0.8303, precision:0.7977, recall:0.8082\n"
          ]
        },
        {
          "name": "stderr",
          "output_type": "stream",
          "text": [
            "\rtraining....:  68%|██████▊   | 1500/2193 [23:35<2:01:52, 10.55s/it]"
          ]
        },
        {
          "name": "stdout",
          "output_type": "stream",
          "text": [
            "保存模型成功, 当前f1分数: 0.8005258187476856\n"
          ]
        },
        {
          "name": "stderr",
          "output_type": "stream",
          "text": [
            "training....:  69%|██████▉   | 1510/2193 [23:41<10:09,  1.12it/s]"
          ]
        },
        {
          "name": "stdout",
          "output_type": "stream",
          "text": [
            "epoch:1,batch:1510,loss:0.6155,train_f1:0.7977,acc:0.7992\n"
          ]
        },
        {
          "name": "stderr",
          "output_type": "stream",
          "text": [
            "training....:  69%|██████▉   | 1520/2193 [23:47<07:00,  1.60it/s]"
          ]
        },
        {
          "name": "stdout",
          "output_type": "stream",
          "text": [
            "epoch:1,batch:1520,loss:0.6866,train_f1:0.7924,acc:0.7930\n"
          ]
        },
        {
          "name": "stderr",
          "output_type": "stream",
          "text": [
            "training....:  70%|██████▉   | 1530/2193 [23:53<06:50,  1.61it/s]"
          ]
        },
        {
          "name": "stdout",
          "output_type": "stream",
          "text": [
            "epoch:1,batch:1530,loss:0.6493,train_f1:0.7862,acc:0.7883\n"
          ]
        },
        {
          "name": "stderr",
          "output_type": "stream",
          "text": [
            "training....:  70%|███████   | 1540/2193 [24:00<06:44,  1.62it/s]"
          ]
        },
        {
          "name": "stdout",
          "output_type": "stream",
          "text": [
            "epoch:1,batch:1540,loss:0.6816,train_f1:0.7838,acc:0.7852\n"
          ]
        },
        {
          "name": "stderr",
          "output_type": "stream",
          "text": [
            "training....:  71%|███████   | 1550/2193 [24:06<06:38,  1.61it/s]"
          ]
        },
        {
          "name": "stdout",
          "output_type": "stream",
          "text": [
            "epoch:1,batch:1550,loss:0.6894,train_f1:0.7721,acc:0.7703\n"
          ]
        },
        {
          "name": "stderr",
          "output_type": "stream",
          "text": [
            "training....:  71%|███████   | 1560/2193 [24:12<06:33,  1.61it/s]"
          ]
        },
        {
          "name": "stdout",
          "output_type": "stream",
          "text": [
            "epoch:1,batch:1560,loss:0.6716,train_f1:0.7842,acc:0.7859\n"
          ]
        },
        {
          "name": "stderr",
          "output_type": "stream",
          "text": [
            "training....:  72%|███████▏  | 1570/2193 [24:18<06:24,  1.62it/s]"
          ]
        },
        {
          "name": "stdout",
          "output_type": "stream",
          "text": [
            "epoch:1,batch:1570,loss:0.6855,train_f1:0.7894,acc:0.7883\n"
          ]
        },
        {
          "name": "stderr",
          "output_type": "stream",
          "text": [
            "training....:  72%|███████▏  | 1580/2193 [24:24<06:19,  1.62it/s]"
          ]
        },
        {
          "name": "stdout",
          "output_type": "stream",
          "text": [
            "epoch:1,batch:1580,loss:0.6716,train_f1:0.7868,acc:0.7883\n"
          ]
        },
        {
          "name": "stderr",
          "output_type": "stream",
          "text": [
            "training....:  73%|███████▎  | 1590/2193 [24:31<06:11,  1.62it/s]"
          ]
        },
        {
          "name": "stdout",
          "output_type": "stream",
          "text": [
            "epoch:1,batch:1590,loss:0.6402,train_f1:0.7866,acc:0.7922\n"
          ]
        },
        {
          "name": "stderr",
          "output_type": "stream",
          "text": [
            "training....:  73%|███████▎  | 1599/2193 [24:36<06:06,  1.62it/s]"
          ]
        },
        {
          "name": "stdout",
          "output_type": "stream",
          "text": [
            "epoch:1,batch:1600,loss:0.6731,train_f1:0.7813,acc:0.7836\n"
          ]
        },
        {
          "name": "stderr",
          "output_type": "stream",
          "text": [
            "\n",
            "Vailing:   0%|          | 0/120 [00:00<?, ?it/s]\u001b[A\n",
            "Vailing:   1%|          | 1/120 [00:00<01:08,  1.73it/s]\u001b[A\n",
            "Vailing:   2%|▏         | 2/120 [00:00<00:47,  2.49it/s]\u001b[A\n",
            "Vailing:   2%|▎         | 3/120 [00:01<00:41,  2.80it/s]\u001b[A\n",
            "Vailing:   3%|▎         | 4/120 [00:01<00:38,  2.99it/s]\u001b[A\n",
            "Vailing:   4%|▍         | 5/120 [00:01<00:34,  3.30it/s]\u001b[A\n",
            "Vailing:   5%|▌         | 6/120 [00:01<00:32,  3.51it/s]\u001b[A\n",
            "Vailing:   6%|▌         | 7/120 [00:02<00:30,  3.65it/s]\u001b[A\n",
            "Vailing:   7%|▋         | 8/120 [00:02<00:30,  3.73it/s]\u001b[A\n",
            "Vailing:   8%|▊         | 9/120 [00:02<00:29,  3.79it/s]\u001b[A\n",
            "Vailing:   8%|▊         | 10/120 [00:02<00:28,  3.86it/s]\u001b[A\n",
            "Vailing:   9%|▉         | 11/120 [00:03<00:27,  3.91it/s]\u001b[A\n",
            "Vailing:  10%|█         | 12/120 [00:03<00:27,  3.93it/s]\u001b[A\n",
            "Vailing:  11%|█         | 13/120 [00:03<00:27,  3.95it/s]\u001b[A\n",
            "Vailing:  12%|█▏        | 14/120 [00:03<00:26,  3.95it/s]\u001b[A\n",
            "Vailing:  12%|█▎        | 15/120 [00:04<00:26,  3.99it/s]\u001b[A\n",
            "Vailing:  13%|█▎        | 16/120 [00:04<00:26,  4.00it/s]\u001b[A\n",
            "Vailing:  14%|█▍        | 17/120 [00:04<00:25,  4.00it/s]\u001b[A\n",
            "Vailing:  15%|█▌        | 18/120 [00:04<00:25,  4.00it/s]\u001b[A\n",
            "Vailing:  16%|█▌        | 19/120 [00:05<00:25,  4.02it/s]\u001b[A\n",
            "Vailing:  17%|█▋        | 20/120 [00:05<00:25,  3.98it/s]\u001b[A\n",
            "Vailing:  18%|█▊        | 21/120 [00:05<00:24,  3.97it/s]\u001b[A\n",
            "Vailing:  18%|█▊        | 22/120 [00:05<00:24,  3.99it/s]\u001b[A\n",
            "Vailing:  19%|█▉        | 23/120 [00:06<00:24,  3.98it/s]\u001b[A\n",
            "Vailing:  20%|██        | 24/120 [00:06<00:24,  3.98it/s]\u001b[A\n",
            "Vailing:  21%|██        | 25/120 [00:06<00:23,  3.98it/s]\u001b[A\n",
            "Vailing:  22%|██▏       | 26/120 [00:06<00:23,  4.00it/s]\u001b[A\n",
            "Vailing:  22%|██▎       | 27/120 [00:07<00:23,  3.95it/s]\u001b[A\n",
            "Vailing:  23%|██▎       | 28/120 [00:07<00:23,  3.96it/s]\u001b[A\n",
            "Vailing:  24%|██▍       | 29/120 [00:07<00:22,  4.01it/s]\u001b[A\n",
            "Vailing:  25%|██▌       | 30/120 [00:07<00:22,  4.01it/s]\u001b[A\n",
            "Vailing:  26%|██▌       | 31/120 [00:08<00:22,  3.95it/s]\u001b[A\n",
            "Vailing:  27%|██▋       | 32/120 [00:08<00:22,  3.90it/s]\u001b[A\n",
            "Vailing:  28%|██▊       | 33/120 [00:08<00:22,  3.94it/s]\u001b[A\n",
            "Vailing:  28%|██▊       | 34/120 [00:08<00:21,  3.98it/s]\u001b[A\n",
            "Vailing:  29%|██▉       | 35/120 [00:09<00:21,  3.90it/s]\u001b[A\n",
            "Vailing:  30%|███       | 36/120 [00:09<00:21,  3.96it/s]\u001b[A\n",
            "Vailing:  31%|███       | 37/120 [00:09<00:20,  3.97it/s]\u001b[A\n",
            "Vailing:  32%|███▏      | 38/120 [00:10<00:20,  3.99it/s]\u001b[A\n",
            "Vailing:  32%|███▎      | 39/120 [00:10<00:20,  4.00it/s]\u001b[A\n",
            "Vailing:  33%|███▎      | 40/120 [00:10<00:20,  3.98it/s]\u001b[A\n",
            "Vailing:  34%|███▍      | 41/120 [00:10<00:19,  3.97it/s]\u001b[A\n",
            "Vailing:  35%|███▌      | 42/120 [00:11<00:19,  3.99it/s]\u001b[A\n",
            "Vailing:  36%|███▌      | 43/120 [00:11<00:19,  4.02it/s]\u001b[A\n",
            "Vailing:  37%|███▋      | 44/120 [00:11<00:18,  4.00it/s]\u001b[A\n",
            "Vailing:  38%|███▊      | 45/120 [00:11<00:19,  3.79it/s]\u001b[A\n",
            "Vailing:  38%|███▊      | 46/120 [00:12<00:20,  3.67it/s]\u001b[A\n",
            "Vailing:  39%|███▉      | 47/120 [00:12<00:20,  3.59it/s]\u001b[A\n",
            "Vailing:  40%|████      | 48/120 [00:12<00:20,  3.57it/s]\u001b[A\n",
            "Vailing:  41%|████      | 49/120 [00:12<00:20,  3.49it/s]\u001b[A\n",
            "Vailing:  42%|████▏     | 50/120 [00:13<00:20,  3.47it/s]\u001b[A\n",
            "Vailing:  42%|████▎     | 51/120 [00:13<00:19,  3.47it/s]\u001b[A\n",
            "Vailing:  43%|████▎     | 52/120 [00:13<00:19,  3.49it/s]\u001b[A\n",
            "Vailing:  44%|████▍     | 53/120 [00:14<00:19,  3.42it/s]\u001b[A\n",
            "Vailing:  45%|████▌     | 54/120 [00:14<00:19,  3.42it/s]\u001b[A\n",
            "Vailing:  46%|████▌     | 55/120 [00:14<00:18,  3.57it/s]\u001b[A\n",
            "Vailing:  47%|████▋     | 56/120 [00:14<00:17,  3.71it/s]\u001b[A\n",
            "Vailing:  48%|████▊     | 57/120 [00:15<00:16,  3.79it/s]\u001b[A\n",
            "Vailing:  48%|████▊     | 58/120 [00:15<00:15,  3.88it/s]\u001b[A\n",
            "Vailing:  49%|████▉     | 59/120 [00:15<00:15,  3.89it/s]\u001b[A\n",
            "Vailing:  50%|█████     | 60/120 [00:15<00:15,  3.94it/s]\u001b[A\n",
            "Vailing:  51%|█████     | 61/120 [00:16<00:14,  3.95it/s]\u001b[A\n",
            "Vailing:  52%|█████▏    | 62/120 [00:16<00:14,  3.99it/s]\u001b[A\n",
            "Vailing:  52%|█████▎    | 63/120 [00:16<00:14,  4.00it/s]\u001b[A\n",
            "Vailing:  53%|█████▎    | 64/120 [00:16<00:13,  4.01it/s]\u001b[A\n",
            "Vailing:  54%|█████▍    | 65/120 [00:17<00:13,  4.02it/s]\u001b[A\n",
            "Vailing:  55%|█████▌    | 66/120 [00:17<00:13,  4.04it/s]\u001b[A\n",
            "Vailing:  56%|█████▌    | 67/120 [00:17<00:13,  4.03it/s]\u001b[A\n",
            "Vailing:  57%|█████▋    | 68/120 [00:17<00:12,  4.04it/s]\u001b[A\n",
            "Vailing:  57%|█████▊    | 69/120 [00:18<00:12,  4.04it/s]\u001b[A\n",
            "Vailing:  58%|█████▊    | 70/120 [00:18<00:12,  4.03it/s]\u001b[A\n",
            "Vailing:  59%|█████▉    | 71/120 [00:18<00:12,  3.97it/s]\u001b[A\n",
            "Vailing:  60%|██████    | 72/120 [00:18<00:12,  3.97it/s]\u001b[A\n",
            "Vailing:  61%|██████    | 73/120 [00:19<00:11,  3.93it/s]\u001b[A\n",
            "Vailing:  62%|██████▏   | 74/120 [00:19<00:11,  3.95it/s]\u001b[A\n",
            "Vailing:  62%|██████▎   | 75/120 [00:19<00:11,  3.89it/s]\u001b[A\n",
            "Vailing:  63%|██████▎   | 76/120 [00:19<00:11,  3.94it/s]\u001b[A\n",
            "Vailing:  64%|██████▍   | 77/120 [00:20<00:10,  3.97it/s]\u001b[A\n",
            "Vailing:  65%|██████▌   | 78/120 [00:20<00:10,  3.99it/s]\u001b[A\n",
            "Vailing:  66%|██████▌   | 79/120 [00:20<00:10,  3.90it/s]\u001b[A\n",
            "Vailing:  67%|██████▋   | 80/120 [00:20<00:10,  3.94it/s]\u001b[A\n",
            "Vailing:  68%|██████▊   | 81/120 [00:21<00:09,  3.99it/s]\u001b[A\n",
            "Vailing:  68%|██████▊   | 82/120 [00:21<00:09,  3.98it/s]\u001b[A\n",
            "Vailing:  69%|██████▉   | 83/120 [00:21<00:09,  3.99it/s]\u001b[A\n",
            "Vailing:  70%|███████   | 84/120 [00:21<00:08,  4.02it/s]\u001b[A\n",
            "Vailing:  71%|███████   | 85/120 [00:22<00:08,  4.01it/s]\u001b[A\n",
            "Vailing:  72%|███████▏  | 86/120 [00:22<00:08,  3.98it/s]\u001b[A\n",
            "Vailing:  72%|███████▎  | 87/120 [00:22<00:08,  3.98it/s]\u001b[A\n",
            "Vailing:  73%|███████▎  | 88/120 [00:22<00:07,  4.00it/s]\u001b[A\n",
            "Vailing:  74%|███████▍  | 89/120 [00:23<00:07,  4.01it/s]\u001b[A\n",
            "Vailing:  75%|███████▌  | 90/120 [00:23<00:07,  4.04it/s]\u001b[A\n",
            "Vailing:  76%|███████▌  | 91/120 [00:23<00:07,  4.04it/s]\u001b[A\n",
            "Vailing:  77%|███████▋  | 92/120 [00:23<00:06,  4.04it/s]\u001b[A\n",
            "Vailing:  78%|███████▊  | 93/120 [00:24<00:06,  4.02it/s]\u001b[A\n",
            "Vailing:  78%|███████▊  | 94/120 [00:24<00:06,  4.02it/s]\u001b[A\n",
            "Vailing:  79%|███████▉  | 95/120 [00:24<00:06,  3.79it/s]\u001b[A\n",
            "Vailing:  80%|████████  | 96/120 [00:25<00:06,  3.70it/s]\u001b[A\n",
            "Vailing:  81%|████████  | 97/120 [00:25<00:06,  3.67it/s]\u001b[A\n",
            "Vailing:  82%|████████▏ | 98/120 [00:25<00:06,  3.58it/s]\u001b[A\n",
            "Vailing:  82%|████████▎ | 99/120 [00:25<00:06,  3.45it/s]\u001b[A\n",
            "Vailing:  83%|████████▎ | 100/120 [00:26<00:05,  3.44it/s]\u001b[A\n",
            "Vailing:  84%|████████▍ | 101/120 [00:26<00:05,  3.36it/s]\u001b[A\n",
            "Vailing:  85%|████████▌ | 102/120 [00:26<00:05,  3.34it/s]\u001b[A\n",
            "Vailing:  86%|████████▌ | 103/120 [00:27<00:05,  3.33it/s]\u001b[A\n",
            "Vailing:  87%|████████▋ | 104/120 [00:27<00:04,  3.35it/s]\u001b[A\n",
            "Vailing:  88%|████████▊ | 105/120 [00:27<00:04,  3.44it/s]\u001b[A\n",
            "Vailing:  88%|████████▊ | 106/120 [00:27<00:03,  3.59it/s]\u001b[A\n",
            "Vailing:  89%|████████▉ | 107/120 [00:28<00:03,  3.72it/s]\u001b[A\n",
            "Vailing:  90%|█████████ | 108/120 [00:28<00:03,  3.80it/s]\u001b[A\n",
            "Vailing:  91%|█████████ | 109/120 [00:28<00:02,  3.85it/s]\u001b[A\n",
            "Vailing:  92%|█████████▏| 110/120 [00:28<00:02,  3.87it/s]\u001b[A\n",
            "Vailing:  92%|█████████▎| 111/120 [00:29<00:02,  3.87it/s]\u001b[A\n",
            "Vailing:  93%|█████████▎| 112/120 [00:29<00:02,  3.89it/s]\u001b[A\n",
            "Vailing:  94%|█████████▍| 113/120 [00:29<00:01,  3.91it/s]\u001b[A\n",
            "Vailing:  95%|█████████▌| 114/120 [00:29<00:01,  3.91it/s]\u001b[A\n",
            "Vailing:  96%|█████████▌| 115/120 [00:30<00:01,  3.94it/s]\u001b[A\n",
            "Vailing:  97%|█████████▋| 116/120 [00:30<00:01,  3.95it/s]\u001b[A\n",
            "Vailing:  98%|█████████▊| 117/120 [00:30<00:00,  3.98it/s]\u001b[A\n",
            "Vailing:  98%|█████████▊| 118/120 [00:30<00:00,  3.97it/s]\u001b[A\n",
            "Vailing:  99%|█████████▉| 119/120 [00:31<00:00,  3.98it/s]\u001b[A\n",
            "Vailing: 100%|██████████| 120/120 [00:31<00:00,  3.82it/s]\n"
          ]
        },
        {
          "name": "stdout",
          "output_type": "stream",
          "text": [
            "验证集评估报告：\n",
            "               precision    recall  f1-score   support\n",
            "\n",
            "           0       0.53      0.68      0.60       700\n",
            "           1       0.67      0.82      0.74       701\n",
            "           2       0.90      0.88      0.89      3793\n",
            "           3       0.81      0.81      0.81      1574\n",
            "           4       0.85      0.89      0.87      1593\n",
            "           5       0.89      0.84      0.87      1940\n",
            "           6       0.84      0.75      0.79      1695\n",
            "           7       0.79      0.82      0.80      1002\n",
            "           8       0.87      0.84      0.85      2327\n",
            "\n",
            "    accuracy                           0.83     15325\n",
            "   macro avg       0.79      0.81      0.80     15325\n",
            "weighted avg       0.84      0.83      0.83     15325\n",
            "\n",
            "验证集的f1: 0.8016, accuracy:0.8318, precision:0.7942, recall:0.8137\n"
          ]
        },
        {
          "name": "stderr",
          "output_type": "stream",
          "text": [
            "\rtraining....:  73%|███████▎  | 1600/2193 [25:09<1:43:01, 10.42s/it]"
          ]
        },
        {
          "name": "stdout",
          "output_type": "stream",
          "text": [
            "保存模型成功, 当前f1分数: 0.8016421944189271\n"
          ]
        },
        {
          "name": "stderr",
          "output_type": "stream",
          "text": [
            "training....:  73%|███████▎  | 1610/2193 [25:15<08:41,  1.12it/s]"
          ]
        },
        {
          "name": "stdout",
          "output_type": "stream",
          "text": [
            "epoch:1,batch:1610,loss:0.6693,train_f1:0.7959,acc:0.8000\n"
          ]
        },
        {
          "name": "stderr",
          "output_type": "stream",
          "text": [
            "training....:  74%|███████▍  | 1620/2193 [25:21<05:58,  1.60it/s]"
          ]
        },
        {
          "name": "stdout",
          "output_type": "stream",
          "text": [
            "epoch:1,batch:1620,loss:0.6391,train_f1:0.8130,acc:0.8117\n"
          ]
        },
        {
          "name": "stderr",
          "output_type": "stream",
          "text": [
            "training....:  74%|███████▍  | 1630/2193 [25:28<05:55,  1.58it/s]"
          ]
        },
        {
          "name": "stdout",
          "output_type": "stream",
          "text": [
            "epoch:1,batch:1630,loss:0.6450,train_f1:0.8097,acc:0.8109\n"
          ]
        },
        {
          "name": "stderr",
          "output_type": "stream",
          "text": [
            "training....:  75%|███████▍  | 1640/2193 [25:34<05:42,  1.61it/s]"
          ]
        },
        {
          "name": "stdout",
          "output_type": "stream",
          "text": [
            "epoch:1,batch:1640,loss:0.6667,train_f1:0.7914,acc:0.7937\n"
          ]
        },
        {
          "name": "stderr",
          "output_type": "stream",
          "text": [
            "training....:  75%|███████▌  | 1650/2193 [25:40<05:39,  1.60it/s]"
          ]
        },
        {
          "name": "stdout",
          "output_type": "stream",
          "text": [
            "epoch:1,batch:1650,loss:0.6254,train_f1:0.7986,acc:0.8008\n"
          ]
        },
        {
          "name": "stderr",
          "output_type": "stream",
          "text": [
            "training....:  76%|███████▌  | 1660/2193 [25:46<05:29,  1.62it/s]"
          ]
        },
        {
          "name": "stdout",
          "output_type": "stream",
          "text": [
            "epoch:1,batch:1660,loss:0.6257,train_f1:0.7917,acc:0.7977\n"
          ]
        },
        {
          "name": "stderr",
          "output_type": "stream",
          "text": [
            "training....:  76%|███████▌  | 1670/2193 [25:52<05:22,  1.62it/s]"
          ]
        },
        {
          "name": "stdout",
          "output_type": "stream",
          "text": [
            "epoch:1,batch:1670,loss:0.6450,train_f1:0.7966,acc:0.8000\n"
          ]
        },
        {
          "name": "stderr",
          "output_type": "stream",
          "text": [
            "training....:  77%|███████▋  | 1680/2193 [25:58<05:15,  1.63it/s]"
          ]
        },
        {
          "name": "stdout",
          "output_type": "stream",
          "text": [
            "epoch:1,batch:1680,loss:0.6779,train_f1:0.7875,acc:0.7875\n"
          ]
        },
        {
          "name": "stderr",
          "output_type": "stream",
          "text": [
            "training....:  77%|███████▋  | 1690/2193 [26:05<05:10,  1.62it/s]"
          ]
        },
        {
          "name": "stdout",
          "output_type": "stream",
          "text": [
            "epoch:1,batch:1690,loss:0.6497,train_f1:0.7985,acc:0.8008\n"
          ]
        },
        {
          "name": "stderr",
          "output_type": "stream",
          "text": [
            "training....:  77%|███████▋  | 1699/2193 [26:10<05:02,  1.63it/s]"
          ]
        },
        {
          "name": "stdout",
          "output_type": "stream",
          "text": [
            "epoch:1,batch:1700,loss:0.6496,train_f1:0.7860,acc:0.7930\n"
          ]
        },
        {
          "name": "stderr",
          "output_type": "stream",
          "text": [
            "\n",
            "Vailing:   0%|          | 0/120 [00:00<?, ?it/s]\u001b[A\n",
            "Vailing:   1%|          | 1/120 [00:00<01:09,  1.72it/s]\u001b[A\n",
            "Vailing:   2%|▏         | 2/120 [00:00<00:45,  2.61it/s]\u001b[A\n",
            "Vailing:   2%|▎         | 3/120 [00:01<00:37,  3.10it/s]\u001b[A\n",
            "Vailing:   3%|▎         | 4/120 [00:01<00:33,  3.42it/s]\u001b[A\n",
            "Vailing:   4%|▍         | 5/120 [00:01<00:31,  3.61it/s]\u001b[A\n",
            "Vailing:   5%|▌         | 6/120 [00:01<00:30,  3.74it/s]\u001b[A\n",
            "Vailing:   6%|▌         | 7/120 [00:02<00:29,  3.81it/s]\u001b[A\n",
            "Vailing:   7%|▋         | 8/120 [00:02<00:28,  3.86it/s]\u001b[A\n",
            "Vailing:   8%|▊         | 9/120 [00:02<00:28,  3.90it/s]\u001b[A\n",
            "Vailing:   8%|▊         | 10/120 [00:02<00:27,  3.97it/s]\u001b[A\n",
            "Vailing:   9%|▉         | 11/120 [00:03<00:27,  3.96it/s]\u001b[A\n",
            "Vailing:  10%|█         | 12/120 [00:03<00:27,  3.96it/s]\u001b[A\n",
            "Vailing:  11%|█         | 13/120 [00:03<00:27,  3.96it/s]\u001b[A\n",
            "Vailing:  12%|█▏        | 14/120 [00:03<00:26,  3.99it/s]\u001b[A\n",
            "Vailing:  12%|█▎        | 15/120 [00:04<00:26,  3.96it/s]\u001b[A\n",
            "Vailing:  13%|█▎        | 16/120 [00:04<00:26,  3.96it/s]\u001b[A\n",
            "Vailing:  14%|█▍        | 17/120 [00:04<00:25,  3.98it/s]\u001b[A\n",
            "Vailing:  15%|█▌        | 18/120 [00:04<00:25,  3.99it/s]\u001b[A\n",
            "Vailing:  16%|█▌        | 19/120 [00:05<00:25,  3.99it/s]\u001b[A\n",
            "Vailing:  17%|█▋        | 20/120 [00:05<00:24,  4.02it/s]\u001b[A\n",
            "Vailing:  18%|█▊        | 21/120 [00:05<00:24,  4.01it/s]\u001b[A\n",
            "Vailing:  18%|█▊        | 22/120 [00:05<00:24,  3.96it/s]\u001b[A\n",
            "Vailing:  19%|█▉        | 23/120 [00:06<00:24,  3.97it/s]\u001b[A\n",
            "Vailing:  20%|██        | 24/120 [00:06<00:24,  3.96it/s]\u001b[A\n",
            "Vailing:  21%|██        | 25/120 [00:06<00:23,  3.99it/s]\u001b[A\n",
            "Vailing:  22%|██▏       | 26/120 [00:06<00:23,  3.92it/s]\u001b[A\n",
            "Vailing:  22%|██▎       | 27/120 [00:07<00:23,  3.95it/s]\u001b[A\n",
            "Vailing:  23%|██▎       | 28/120 [00:07<00:23,  3.94it/s]\u001b[A\n",
            "Vailing:  24%|██▍       | 29/120 [00:07<00:22,  3.97it/s]\u001b[A\n",
            "Vailing:  25%|██▌       | 30/120 [00:07<00:22,  3.93it/s]\u001b[A\n",
            "Vailing:  26%|██▌       | 31/120 [00:08<00:22,  3.98it/s]\u001b[A\n",
            "Vailing:  27%|██▋       | 32/120 [00:08<00:22,  3.97it/s]\u001b[A\n",
            "Vailing:  28%|██▊       | 33/120 [00:08<00:21,  3.97it/s]\u001b[A\n",
            "Vailing:  28%|██▊       | 34/120 [00:08<00:21,  4.02it/s]\u001b[A\n",
            "Vailing:  29%|██▉       | 35/120 [00:09<00:22,  3.84it/s]\u001b[A\n",
            "Vailing:  30%|███       | 36/120 [00:09<00:22,  3.65it/s]\u001b[A\n",
            "Vailing:  31%|███       | 37/120 [00:09<00:23,  3.58it/s]\u001b[A\n",
            "Vailing:  32%|███▏      | 38/120 [00:10<00:23,  3.46it/s]\u001b[A\n",
            "Vailing:  32%|███▎      | 39/120 [00:10<00:23,  3.44it/s]\u001b[A\n",
            "Vailing:  33%|███▎      | 40/120 [00:10<00:23,  3.41it/s]\u001b[A\n",
            "Vailing:  34%|███▍      | 41/120 [00:10<00:22,  3.47it/s]\u001b[A\n",
            "Vailing:  35%|███▌      | 42/120 [00:11<00:22,  3.49it/s]\u001b[A\n",
            "Vailing:  36%|███▌      | 43/120 [00:11<00:21,  3.52it/s]\u001b[A\n",
            "Vailing:  37%|███▋      | 44/120 [00:11<00:21,  3.55it/s]\u001b[A\n",
            "Vailing:  38%|███▊      | 45/120 [00:12<00:20,  3.62it/s]\u001b[A\n",
            "Vailing:  38%|███▊      | 46/120 [00:12<00:19,  3.75it/s]\u001b[A\n",
            "Vailing:  39%|███▉      | 47/120 [00:12<00:19,  3.84it/s]\u001b[A\n",
            "Vailing:  40%|████      | 48/120 [00:12<00:18,  3.89it/s]\u001b[A\n",
            "Vailing:  41%|████      | 49/120 [00:13<00:18,  3.91it/s]\u001b[A\n",
            "Vailing:  42%|████▏     | 50/120 [00:13<00:17,  3.96it/s]\u001b[A\n",
            "Vailing:  42%|████▎     | 51/120 [00:13<00:17,  3.98it/s]\u001b[A\n",
            "Vailing:  43%|████▎     | 52/120 [00:13<00:16,  4.03it/s]\u001b[A\n",
            "Vailing:  44%|████▍     | 53/120 [00:13<00:16,  4.04it/s]\u001b[A\n",
            "Vailing:  45%|████▌     | 54/120 [00:14<00:16,  4.04it/s]\u001b[A\n",
            "Vailing:  46%|████▌     | 55/120 [00:14<00:15,  4.07it/s]\u001b[A\n",
            "Vailing:  47%|████▋     | 56/120 [00:14<00:15,  4.03it/s]\u001b[A\n",
            "Vailing:  48%|████▊     | 57/120 [00:14<00:15,  4.00it/s]\u001b[A\n",
            "Vailing:  48%|████▊     | 58/120 [00:15<00:15,  3.93it/s]\u001b[A\n",
            "Vailing:  49%|████▉     | 59/120 [00:15<00:15,  3.94it/s]\u001b[A\n",
            "Vailing:  50%|█████     | 60/120 [00:15<00:15,  3.95it/s]\u001b[A\n",
            "Vailing:  51%|█████     | 61/120 [00:16<00:15,  3.91it/s]\u001b[A\n",
            "Vailing:  52%|█████▏    | 62/120 [00:16<00:14,  3.87it/s]\u001b[A\n",
            "Vailing:  52%|█████▎    | 63/120 [00:16<00:14,  3.89it/s]\u001b[A\n",
            "Vailing:  53%|█████▎    | 64/120 [00:16<00:14,  3.94it/s]\u001b[A\n",
            "Vailing:  54%|█████▍    | 65/120 [00:17<00:13,  3.93it/s]\u001b[A\n",
            "Vailing:  55%|█████▌    | 66/120 [00:17<00:13,  3.89it/s]\u001b[A\n",
            "Vailing:  56%|█████▌    | 67/120 [00:17<00:13,  3.93it/s]\u001b[A\n",
            "Vailing:  57%|█████▋    | 68/120 [00:17<00:13,  3.95it/s]\u001b[A\n",
            "Vailing:  57%|█████▊    | 69/120 [00:18<00:12,  3.96it/s]\u001b[A\n",
            "Vailing:  58%|█████▊    | 70/120 [00:18<00:12,  3.90it/s]\u001b[A\n",
            "Vailing:  59%|█████▉    | 71/120 [00:18<00:12,  3.96it/s]\u001b[A\n",
            "Vailing:  60%|██████    | 72/120 [00:18<00:12,  3.98it/s]\u001b[A\n",
            "Vailing:  61%|██████    | 73/120 [00:19<00:11,  4.01it/s]\u001b[A\n",
            "Vailing:  62%|██████▏   | 74/120 [00:19<00:11,  4.02it/s]\u001b[A\n",
            "Vailing:  62%|██████▎   | 75/120 [00:19<00:11,  4.02it/s]\u001b[A\n",
            "Vailing:  63%|██████▎   | 76/120 [00:19<00:10,  4.01it/s]\u001b[A\n",
            "Vailing:  64%|██████▍   | 77/120 [00:20<00:10,  4.04it/s]\u001b[A\n",
            "Vailing:  65%|██████▌   | 78/120 [00:20<00:10,  4.03it/s]\u001b[A\n",
            "Vailing:  66%|██████▌   | 79/120 [00:20<00:10,  4.03it/s]\u001b[A\n",
            "Vailing:  67%|██████▋   | 80/120 [00:20<00:09,  4.03it/s]\u001b[A\n",
            "Vailing:  68%|██████▊   | 81/120 [00:21<00:09,  4.04it/s]\u001b[A\n",
            "Vailing:  68%|██████▊   | 82/120 [00:21<00:09,  4.01it/s]\u001b[A\n",
            "Vailing:  69%|██████▉   | 83/120 [00:21<00:09,  4.01it/s]\u001b[A\n",
            "Vailing:  70%|███████   | 84/120 [00:21<00:09,  3.99it/s]\u001b[A\n",
            "Vailing:  71%|███████   | 85/120 [00:22<00:09,  3.77it/s]\u001b[A\n",
            "Vailing:  72%|███████▏  | 86/120 [00:22<00:09,  3.57it/s]\u001b[A\n",
            "Vailing:  72%|███████▎  | 87/120 [00:22<00:09,  3.53it/s]\u001b[A\n",
            "Vailing:  73%|███████▎  | 88/120 [00:23<00:09,  3.46it/s]\u001b[A\n",
            "Vailing:  74%|███████▍  | 89/120 [00:23<00:09,  3.44it/s]\u001b[A\n",
            "Vailing:  75%|███████▌  | 90/120 [00:23<00:08,  3.36it/s]\u001b[A\n",
            "Vailing:  76%|███████▌  | 91/120 [00:23<00:08,  3.38it/s]\u001b[A\n",
            "Vailing:  77%|███████▋  | 92/120 [00:24<00:08,  3.45it/s]\u001b[A\n",
            "Vailing:  78%|███████▊  | 93/120 [00:24<00:07,  3.42it/s]\u001b[A\n",
            "Vailing:  78%|███████▊  | 94/120 [00:24<00:07,  3.40it/s]\u001b[A\n",
            "Vailing:  79%|███████▉  | 95/120 [00:25<00:07,  3.41it/s]\u001b[A\n",
            "Vailing:  80%|████████  | 96/120 [00:25<00:06,  3.56it/s]\u001b[A\n",
            "Vailing:  81%|████████  | 97/120 [00:25<00:06,  3.63it/s]\u001b[A\n",
            "Vailing:  82%|████████▏ | 98/120 [00:25<00:05,  3.72it/s]\u001b[A\n",
            "Vailing:  82%|████████▎ | 99/120 [00:26<00:05,  3.78it/s]\u001b[A\n",
            "Vailing:  83%|████████▎ | 100/120 [00:26<00:05,  3.84it/s]\u001b[A\n",
            "Vailing:  84%|████████▍ | 101/120 [00:26<00:04,  3.89it/s]\u001b[A\n",
            "Vailing:  85%|████████▌ | 102/120 [00:26<00:04,  3.88it/s]\u001b[A\n",
            "Vailing:  86%|████████▌ | 103/120 [00:27<00:04,  3.93it/s]\u001b[A\n",
            "Vailing:  87%|████████▋ | 104/120 [00:27<00:04,  3.91it/s]\u001b[A\n",
            "Vailing:  88%|████████▊ | 105/120 [00:27<00:03,  3.92it/s]\u001b[A\n",
            "Vailing:  88%|████████▊ | 106/120 [00:27<00:03,  3.96it/s]\u001b[A\n",
            "Vailing:  89%|████████▉ | 107/120 [00:28<00:03,  3.98it/s]\u001b[A\n",
            "Vailing:  90%|█████████ | 108/120 [00:28<00:03,  3.95it/s]\u001b[A\n",
            "Vailing:  91%|█████████ | 109/120 [00:28<00:02,  3.96it/s]\u001b[A\n",
            "Vailing:  92%|█████████▏| 110/120 [00:28<00:02,  3.95it/s]\u001b[A\n",
            "Vailing:  92%|█████████▎| 111/120 [00:29<00:02,  3.99it/s]\u001b[A\n",
            "Vailing:  93%|█████████▎| 112/120 [00:29<00:02,  3.99it/s]\u001b[A\n",
            "Vailing:  94%|█████████▍| 113/120 [00:29<00:01,  3.96it/s]\u001b[A\n",
            "Vailing:  95%|█████████▌| 114/120 [00:29<00:01,  3.98it/s]\u001b[A\n",
            "Vailing:  96%|█████████▌| 115/120 [00:30<00:01,  4.00it/s]\u001b[A\n",
            "Vailing:  97%|█████████▋| 116/120 [00:30<00:01,  3.96it/s]\u001b[A\n",
            "Vailing:  98%|█████████▊| 117/120 [00:30<00:00,  3.97it/s]\u001b[A\n",
            "Vailing:  98%|█████████▊| 118/120 [00:30<00:00,  3.92it/s]\u001b[A\n",
            "Vailing:  99%|█████████▉| 119/120 [00:31<00:00,  3.97it/s]\u001b[A\n",
            "Vailing: 100%|██████████| 120/120 [00:31<00:00,  3.83it/s]\n",
            "training....:  78%|███████▊  | 1700/2193 [26:42<1:22:27, 10.04s/it]"
          ]
        },
        {
          "name": "stdout",
          "output_type": "stream",
          "text": [
            "验证集评估报告：\n",
            "               precision    recall  f1-score   support\n",
            "\n",
            "           0       0.56      0.64      0.60       700\n",
            "           1       0.69      0.82      0.75       701\n",
            "           2       0.90      0.87      0.89      3793\n",
            "           3       0.79      0.82      0.81      1574\n",
            "           4       0.88      0.88      0.88      1593\n",
            "           5       0.87      0.86      0.86      1940\n",
            "           6       0.85      0.75      0.80      1695\n",
            "           7       0.70      0.84      0.77      1002\n",
            "           8       0.88      0.84      0.86      2327\n",
            "\n",
            "    accuracy                           0.83     15325\n",
            "   macro avg       0.79      0.81      0.80     15325\n",
            "weighted avg       0.84      0.83      0.83     15325\n",
            "\n",
            "验证集的f1: 0.8000, accuracy:0.8309, precision:0.7916, recall:0.8124\n"
          ]
        },
        {
          "name": "stderr",
          "output_type": "stream",
          "text": [
            "training....:  78%|███████▊  | 1710/2193 [26:48<07:06,  1.13it/s]"
          ]
        },
        {
          "name": "stdout",
          "output_type": "stream",
          "text": [
            "epoch:1,batch:1710,loss:0.6974,train_f1:0.7848,acc:0.7859\n"
          ]
        },
        {
          "name": "stderr",
          "output_type": "stream",
          "text": [
            "training....:  78%|███████▊  | 1720/2193 [26:54<04:56,  1.60it/s]"
          ]
        },
        {
          "name": "stdout",
          "output_type": "stream",
          "text": [
            "epoch:1,batch:1720,loss:0.6765,train_f1:0.7950,acc:0.7930\n"
          ]
        },
        {
          "name": "stderr",
          "output_type": "stream",
          "text": [
            "training....:  79%|███████▉  | 1730/2193 [27:00<04:46,  1.62it/s]"
          ]
        },
        {
          "name": "stdout",
          "output_type": "stream",
          "text": [
            "epoch:1,batch:1730,loss:0.6203,train_f1:0.8009,acc:0.8016\n"
          ]
        },
        {
          "name": "stderr",
          "output_type": "stream",
          "text": [
            "training....:  79%|███████▉  | 1740/2193 [27:07<04:40,  1.62it/s]"
          ]
        },
        {
          "name": "stdout",
          "output_type": "stream",
          "text": [
            "epoch:1,batch:1740,loss:0.6467,train_f1:0.7906,acc:0.7937\n"
          ]
        },
        {
          "name": "stderr",
          "output_type": "stream",
          "text": [
            "training....:  80%|███████▉  | 1750/2193 [27:13<04:35,  1.61it/s]"
          ]
        },
        {
          "name": "stdout",
          "output_type": "stream",
          "text": [
            "epoch:1,batch:1750,loss:0.6096,train_f1:0.8113,acc:0.8117\n"
          ]
        },
        {
          "name": "stderr",
          "output_type": "stream",
          "text": [
            "training....:  80%|████████  | 1760/2193 [27:19<04:27,  1.62it/s]"
          ]
        },
        {
          "name": "stdout",
          "output_type": "stream",
          "text": [
            "epoch:1,batch:1760,loss:0.6333,train_f1:0.7897,acc:0.7930\n"
          ]
        },
        {
          "name": "stderr",
          "output_type": "stream",
          "text": [
            "training....:  81%|████████  | 1770/2193 [27:25<04:22,  1.61it/s]"
          ]
        },
        {
          "name": "stdout",
          "output_type": "stream",
          "text": [
            "epoch:1,batch:1770,loss:0.6407,train_f1:0.7936,acc:0.7977\n"
          ]
        },
        {
          "name": "stderr",
          "output_type": "stream",
          "text": [
            "training....:  81%|████████  | 1780/2193 [27:31<04:14,  1.62it/s]"
          ]
        },
        {
          "name": "stdout",
          "output_type": "stream",
          "text": [
            "epoch:1,batch:1780,loss:0.5950,train_f1:0.8049,acc:0.8039\n"
          ]
        },
        {
          "name": "stderr",
          "output_type": "stream",
          "text": [
            "training....:  82%|████████▏ | 1790/2193 [27:37<04:09,  1.61it/s]"
          ]
        },
        {
          "name": "stdout",
          "output_type": "stream",
          "text": [
            "epoch:1,batch:1790,loss:0.6562,train_f1:0.7944,acc:0.7961\n"
          ]
        },
        {
          "name": "stderr",
          "output_type": "stream",
          "text": [
            "training....:  82%|████████▏ | 1799/2193 [27:43<04:02,  1.63it/s]"
          ]
        },
        {
          "name": "stdout",
          "output_type": "stream",
          "text": [
            "epoch:1,batch:1800,loss:0.6390,train_f1:0.8047,acc:0.8070\n"
          ]
        },
        {
          "name": "stderr",
          "output_type": "stream",
          "text": [
            "\n",
            "Vailing:   0%|          | 0/120 [00:00<?, ?it/s]\u001b[A\n",
            "Vailing:   1%|          | 1/120 [00:00<01:08,  1.73it/s]\u001b[A\n",
            "Vailing:   2%|▏         | 2/120 [00:00<00:45,  2.60it/s]\u001b[A\n",
            "Vailing:   2%|▎         | 3/120 [00:01<00:37,  3.10it/s]\u001b[A\n",
            "Vailing:   3%|▎         | 4/120 [00:01<00:34,  3.38it/s]\u001b[A\n",
            "Vailing:   4%|▍         | 5/120 [00:01<00:32,  3.57it/s]\u001b[A\n",
            "Vailing:   5%|▌         | 6/120 [00:01<00:30,  3.69it/s]\u001b[A\n",
            "Vailing:   6%|▌         | 7/120 [00:02<00:29,  3.80it/s]\u001b[A\n",
            "Vailing:   7%|▋         | 8/120 [00:02<00:29,  3.85it/s]\u001b[A\n",
            "Vailing:   8%|▊         | 9/120 [00:02<00:28,  3.87it/s]\u001b[A\n",
            "Vailing:   8%|▊         | 10/120 [00:02<00:28,  3.90it/s]\u001b[A\n",
            "Vailing:   9%|▉         | 11/120 [00:03<00:27,  3.96it/s]\u001b[A\n",
            "Vailing:  10%|█         | 12/120 [00:03<00:27,  3.98it/s]\u001b[A\n",
            "Vailing:  11%|█         | 13/120 [00:03<00:27,  3.92it/s]\u001b[A\n",
            "Vailing:  12%|█▏        | 14/120 [00:03<00:26,  3.93it/s]\u001b[A\n",
            "Vailing:  12%|█▎        | 15/120 [00:04<00:26,  3.96it/s]\u001b[A\n",
            "Vailing:  13%|█▎        | 16/120 [00:04<00:26,  3.93it/s]\u001b[A\n",
            "Vailing:  14%|█▍        | 17/120 [00:04<00:26,  3.85it/s]\u001b[A\n",
            "Vailing:  15%|█▌        | 18/120 [00:04<00:26,  3.89it/s]\u001b[A\n",
            "Vailing:  16%|█▌        | 19/120 [00:05<00:25,  3.92it/s]\u001b[A\n",
            "Vailing:  17%|█▋        | 20/120 [00:05<00:25,  3.95it/s]\u001b[A\n",
            "Vailing:  18%|█▊        | 21/120 [00:05<00:25,  3.88it/s]\u001b[A\n",
            "Vailing:  18%|█▊        | 22/120 [00:05<00:25,  3.92it/s]\u001b[A\n",
            "Vailing:  19%|█▉        | 23/120 [00:06<00:24,  3.92it/s]\u001b[A\n",
            "Vailing:  20%|██        | 24/120 [00:06<00:24,  3.95it/s]\u001b[A\n",
            "Vailing:  21%|██        | 25/120 [00:06<00:25,  3.75it/s]\u001b[A\n",
            "Vailing:  22%|██▏       | 26/120 [00:06<00:25,  3.64it/s]\u001b[A\n",
            "Vailing:  22%|██▎       | 27/120 [00:07<00:26,  3.52it/s]\u001b[A\n",
            "Vailing:  23%|██▎       | 28/120 [00:07<00:26,  3.42it/s]\u001b[A\n",
            "Vailing:  24%|██▍       | 29/120 [00:07<00:26,  3.41it/s]\u001b[A\n",
            "Vailing:  25%|██▌       | 30/120 [00:08<00:26,  3.40it/s]\u001b[A\n",
            "Vailing:  26%|██▌       | 31/120 [00:08<00:26,  3.36it/s]\u001b[A\n",
            "Vailing:  27%|██▋       | 32/120 [00:08<00:26,  3.33it/s]\u001b[A\n",
            "Vailing:  28%|██▊       | 33/120 [00:09<00:25,  3.36it/s]\u001b[A\n",
            "Vailing:  28%|██▊       | 34/120 [00:09<00:25,  3.36it/s]\u001b[A\n",
            "Vailing:  29%|██▉       | 35/120 [00:09<00:25,  3.38it/s]\u001b[A\n",
            "Vailing:  30%|███       | 36/120 [00:09<00:23,  3.54it/s]\u001b[A\n",
            "Vailing:  31%|███       | 37/120 [00:10<00:22,  3.69it/s]\u001b[A\n",
            "Vailing:  32%|███▏      | 38/120 [00:10<00:21,  3.77it/s]\u001b[A\n",
            "Vailing:  32%|███▎      | 39/120 [00:10<00:20,  3.86it/s]\u001b[A\n",
            "Vailing:  33%|███▎      | 40/120 [00:10<00:20,  3.91it/s]\u001b[A\n",
            "Vailing:  34%|███▍      | 41/120 [00:11<00:20,  3.94it/s]\u001b[A\n",
            "Vailing:  35%|███▌      | 42/120 [00:11<00:19,  3.97it/s]\u001b[A\n",
            "Vailing:  36%|███▌      | 43/120 [00:11<00:19,  3.96it/s]\u001b[A\n",
            "Vailing:  37%|███▋      | 44/120 [00:11<00:19,  3.90it/s]\u001b[A\n",
            "Vailing:  38%|███▊      | 45/120 [00:12<00:19,  3.89it/s]\u001b[A\n",
            "Vailing:  38%|███▊      | 46/120 [00:12<00:18,  3.92it/s]\u001b[A\n",
            "Vailing:  39%|███▉      | 47/120 [00:12<00:18,  3.90it/s]\u001b[A\n",
            "Vailing:  40%|████      | 48/120 [00:12<00:18,  3.88it/s]\u001b[A\n",
            "Vailing:  41%|████      | 49/120 [00:13<00:18,  3.91it/s]\u001b[A\n",
            "Vailing:  42%|████▏     | 50/120 [00:13<00:17,  3.91it/s]\u001b[A\n",
            "Vailing:  42%|████▎     | 51/120 [00:13<00:17,  3.89it/s]\u001b[A\n",
            "Vailing:  43%|████▎     | 52/120 [00:14<00:17,  3.85it/s]\u001b[A\n",
            "Vailing:  44%|████▍     | 53/120 [00:14<00:17,  3.86it/s]\u001b[A\n",
            "Vailing:  45%|████▌     | 54/120 [00:14<00:17,  3.87it/s]\u001b[A\n",
            "Vailing:  46%|████▌     | 55/120 [00:14<00:16,  3.87it/s]\u001b[A\n",
            "Vailing:  47%|████▋     | 56/120 [00:15<00:16,  3.84it/s]\u001b[A\n",
            "Vailing:  48%|████▊     | 57/120 [00:15<00:16,  3.87it/s]\u001b[A\n",
            "Vailing:  48%|████▊     | 58/120 [00:15<00:15,  3.91it/s]\u001b[A\n",
            "Vailing:  49%|████▉     | 59/120 [00:15<00:15,  3.93it/s]\u001b[A\n",
            "Vailing:  50%|█████     | 60/120 [00:16<00:15,  3.87it/s]\u001b[A\n",
            "Vailing:  51%|█████     | 61/120 [00:16<00:15,  3.91it/s]\u001b[A\n",
            "Vailing:  52%|█████▏    | 62/120 [00:16<00:14,  3.96it/s]\u001b[A\n",
            "Vailing:  52%|█████▎    | 63/120 [00:16<00:14,  3.96it/s]\u001b[A\n",
            "Vailing:  53%|█████▎    | 64/120 [00:17<00:14,  3.94it/s]\u001b[A\n",
            "Vailing:  54%|█████▍    | 65/120 [00:17<00:13,  3.93it/s]\u001b[A\n",
            "Vailing:  55%|█████▌    | 66/120 [00:17<00:13,  3.95it/s]\u001b[A\n",
            "Vailing:  56%|█████▌    | 67/120 [00:17<00:13,  3.97it/s]\u001b[A\n",
            "Vailing:  57%|█████▋    | 68/120 [00:18<00:13,  3.97it/s]\u001b[A\n",
            "Vailing:  57%|█████▊    | 69/120 [00:18<00:12,  4.00it/s]\u001b[A\n",
            "Vailing:  58%|█████▊    | 70/120 [00:18<00:12,  4.00it/s]\u001b[A\n",
            "Vailing:  59%|█████▉    | 71/120 [00:18<00:12,  3.97it/s]\u001b[A\n",
            "Vailing:  60%|██████    | 72/120 [00:19<00:12,  3.98it/s]\u001b[A\n",
            "Vailing:  61%|██████    | 73/120 [00:19<00:11,  3.98it/s]\u001b[A\n",
            "Vailing:  62%|██████▏   | 74/120 [00:19<00:11,  3.99it/s]\u001b[A\n",
            "Vailing:  62%|██████▎   | 75/120 [00:19<00:11,  3.82it/s]\u001b[A\n",
            "Vailing:  63%|██████▎   | 76/120 [00:20<00:11,  3.71it/s]\u001b[A\n",
            "Vailing:  64%|██████▍   | 77/120 [00:20<00:11,  3.64it/s]\u001b[A\n",
            "Vailing:  65%|██████▌   | 78/120 [00:20<00:11,  3.55it/s]\u001b[A\n",
            "Vailing:  66%|██████▌   | 79/120 [00:21<00:11,  3.55it/s]\u001b[A\n",
            "Vailing:  67%|██████▋   | 80/120 [00:21<00:11,  3.50it/s]\u001b[A\n",
            "Vailing:  68%|██████▊   | 81/120 [00:21<00:11,  3.48it/s]\u001b[A\n",
            "Vailing:  68%|██████▊   | 82/120 [00:21<00:10,  3.46it/s]\u001b[A\n",
            "Vailing:  69%|██████▉   | 83/120 [00:22<00:10,  3.42it/s]\u001b[A\n",
            "Vailing:  70%|███████   | 84/120 [00:22<00:10,  3.43it/s]\u001b[A\n",
            "Vailing:  71%|███████   | 85/120 [00:22<00:10,  3.42it/s]\u001b[A\n",
            "Vailing:  72%|███████▏  | 86/120 [00:23<00:09,  3.57it/s]\u001b[A\n",
            "Vailing:  72%|███████▎  | 87/120 [00:23<00:09,  3.67it/s]\u001b[A\n",
            "Vailing:  73%|███████▎  | 88/120 [00:23<00:08,  3.76it/s]\u001b[A\n",
            "Vailing:  74%|███████▍  | 89/120 [00:23<00:08,  3.80it/s]\u001b[A\n",
            "Vailing:  75%|███████▌  | 90/120 [00:24<00:07,  3.84it/s]\u001b[A\n",
            "Vailing:  76%|███████▌  | 91/120 [00:24<00:07,  3.88it/s]\u001b[A\n",
            "Vailing:  77%|███████▋  | 92/120 [00:24<00:07,  3.92it/s]\u001b[A\n",
            "Vailing:  78%|███████▊  | 93/120 [00:24<00:06,  3.96it/s]\u001b[A\n",
            "Vailing:  78%|███████▊  | 94/120 [00:25<00:06,  3.97it/s]\u001b[A\n",
            "Vailing:  79%|███████▉  | 95/120 [00:25<00:06,  3.99it/s]\u001b[A\n",
            "Vailing:  80%|████████  | 96/120 [00:25<00:05,  4.00it/s]\u001b[A\n",
            "Vailing:  81%|████████  | 97/120 [00:25<00:05,  4.03it/s]\u001b[A\n",
            "Vailing:  82%|████████▏ | 98/120 [00:26<00:05,  4.03it/s]\u001b[A\n",
            "Vailing:  82%|████████▎ | 99/120 [00:26<00:05,  4.00it/s]\u001b[A\n",
            "Vailing:  83%|████████▎ | 100/120 [00:26<00:05,  4.00it/s]\u001b[A\n",
            "Vailing:  84%|████████▍ | 101/120 [00:26<00:04,  3.99it/s]\u001b[A\n",
            "Vailing:  85%|████████▌ | 102/120 [00:27<00:04,  4.00it/s]\u001b[A\n",
            "Vailing:  86%|████████▌ | 103/120 [00:27<00:04,  4.01it/s]\u001b[A\n",
            "Vailing:  87%|████████▋ | 104/120 [00:27<00:04,  3.92it/s]\u001b[A\n",
            "Vailing:  88%|████████▊ | 105/120 [00:27<00:03,  3.93it/s]\u001b[A\n",
            "Vailing:  88%|████████▊ | 106/120 [00:28<00:03,  3.97it/s]\u001b[A\n",
            "Vailing:  89%|████████▉ | 107/120 [00:28<00:03,  3.98it/s]\u001b[A\n",
            "Vailing:  90%|█████████ | 108/120 [00:28<00:03,  3.89it/s]\u001b[A\n",
            "Vailing:  91%|█████████ | 109/120 [00:28<00:02,  3.94it/s]\u001b[A\n",
            "Vailing:  92%|█████████▏| 110/120 [00:29<00:02,  3.94it/s]\u001b[A\n",
            "Vailing:  92%|█████████▎| 111/120 [00:29<00:02,  3.94it/s]\u001b[A\n",
            "Vailing:  93%|█████████▎| 112/120 [00:29<00:02,  3.86it/s]\u001b[A\n",
            "Vailing:  94%|█████████▍| 113/120 [00:29<00:01,  3.91it/s]\u001b[A\n",
            "Vailing:  95%|█████████▌| 114/120 [00:30<00:01,  3.94it/s]\u001b[A\n",
            "Vailing:  96%|█████████▌| 115/120 [00:30<00:01,  3.96it/s]\u001b[A\n",
            "Vailing:  97%|█████████▋| 116/120 [00:30<00:01,  3.88it/s]\u001b[A\n",
            "Vailing:  98%|█████████▊| 117/120 [00:30<00:00,  3.95it/s]\u001b[A\n",
            "Vailing:  98%|█████████▊| 118/120 [00:31<00:00,  3.99it/s]\u001b[A\n",
            "Vailing:  99%|█████████▉| 119/120 [00:31<00:00,  4.01it/s]\u001b[A\n",
            "Vailing: 100%|██████████| 120/120 [00:31<00:00,  3.80it/s]\n"
          ]
        },
        {
          "name": "stdout",
          "output_type": "stream",
          "text": [
            "验证集评估报告：\n",
            "               precision    recall  f1-score   support\n",
            "\n",
            "           0       0.51      0.71      0.60       700\n",
            "           1       0.71      0.80      0.75       701\n",
            "           2       0.89      0.89      0.89      3793\n",
            "           3       0.86      0.80      0.83      1574\n",
            "           4       0.83      0.90      0.86      1593\n",
            "           5       0.89      0.85      0.87      1940\n",
            "           6       0.85      0.76      0.80      1695\n",
            "           7       0.77      0.83      0.80      1002\n",
            "           8       0.90      0.82      0.86      2327\n",
            "\n",
            "    accuracy                           0.84     15325\n",
            "   macro avg       0.80      0.82      0.81     15325\n",
            "weighted avg       0.84      0.84      0.84     15325\n",
            "\n",
            "验证集的f1: 0.8065, accuracy:0.8353, precision:0.8012, recall:0.8178\n"
          ]
        },
        {
          "name": "stderr",
          "output_type": "stream",
          "text": [
            "\rtraining....:  82%|████████▏ | 1800/2193 [28:16<1:08:32, 10.46s/it]"
          ]
        },
        {
          "name": "stdout",
          "output_type": "stream",
          "text": [
            "保存模型成功, 当前f1分数: 0.8064654771662526\n"
          ]
        },
        {
          "name": "stderr",
          "output_type": "stream",
          "text": [
            "training....:  83%|████████▎ | 1810/2193 [28:22<05:40,  1.12it/s]"
          ]
        },
        {
          "name": "stdout",
          "output_type": "stream",
          "text": [
            "epoch:1,batch:1810,loss:0.7657,train_f1:0.7667,acc:0.7680\n"
          ]
        },
        {
          "name": "stderr",
          "output_type": "stream",
          "text": [
            "training....:  83%|████████▎ | 1820/2193 [28:28<03:54,  1.59it/s]"
          ]
        },
        {
          "name": "stdout",
          "output_type": "stream",
          "text": [
            "epoch:1,batch:1820,loss:0.6306,train_f1:0.8007,acc:0.8031\n"
          ]
        },
        {
          "name": "stderr",
          "output_type": "stream",
          "text": [
            "training....:  83%|████████▎ | 1830/2193 [28:35<03:44,  1.62it/s]"
          ]
        },
        {
          "name": "stdout",
          "output_type": "stream",
          "text": [
            "epoch:1,batch:1830,loss:0.6181,train_f1:0.8161,acc:0.8141\n"
          ]
        },
        {
          "name": "stderr",
          "output_type": "stream",
          "text": [
            "training....:  84%|████████▍ | 1840/2193 [28:41<03:38,  1.62it/s]"
          ]
        },
        {
          "name": "stdout",
          "output_type": "stream",
          "text": [
            "epoch:1,batch:1840,loss:0.6273,train_f1:0.8075,acc:0.8086\n"
          ]
        },
        {
          "name": "stderr",
          "output_type": "stream",
          "text": [
            "training....:  84%|████████▍ | 1850/2193 [28:47<03:31,  1.62it/s]"
          ]
        },
        {
          "name": "stdout",
          "output_type": "stream",
          "text": [
            "epoch:1,batch:1850,loss:0.6101,train_f1:0.8033,acc:0.8063\n"
          ]
        },
        {
          "name": "stderr",
          "output_type": "stream",
          "text": [
            "training....:  85%|████████▍ | 1860/2193 [28:53<03:26,  1.61it/s]"
          ]
        },
        {
          "name": "stdout",
          "output_type": "stream",
          "text": [
            "epoch:1,batch:1860,loss:0.6823,train_f1:0.7836,acc:0.7828\n"
          ]
        },
        {
          "name": "stderr",
          "output_type": "stream",
          "text": [
            "training....:  85%|████████▌ | 1870/2193 [28:59<03:18,  1.62it/s]"
          ]
        },
        {
          "name": "stdout",
          "output_type": "stream",
          "text": [
            "epoch:1,batch:1870,loss:0.5903,train_f1:0.8125,acc:0.8148\n"
          ]
        },
        {
          "name": "stderr",
          "output_type": "stream",
          "text": [
            "training....:  86%|████████▌ | 1880/2193 [29:05<03:13,  1.62it/s]"
          ]
        },
        {
          "name": "stdout",
          "output_type": "stream",
          "text": [
            "epoch:1,batch:1880,loss:0.6356,train_f1:0.7990,acc:0.7984\n"
          ]
        },
        {
          "name": "stderr",
          "output_type": "stream",
          "text": [
            "training....:  86%|████████▌ | 1890/2193 [29:12<03:06,  1.63it/s]"
          ]
        },
        {
          "name": "stdout",
          "output_type": "stream",
          "text": [
            "epoch:1,batch:1890,loss:0.6700,train_f1:0.7993,acc:0.7977\n"
          ]
        },
        {
          "name": "stderr",
          "output_type": "stream",
          "text": [
            "training....:  87%|████████▋ | 1899/2193 [29:17<03:01,  1.62it/s]"
          ]
        },
        {
          "name": "stdout",
          "output_type": "stream",
          "text": [
            "epoch:1,batch:1900,loss:0.6090,train_f1:0.8111,acc:0.8141\n"
          ]
        },
        {
          "name": "stderr",
          "output_type": "stream",
          "text": [
            "\n",
            "Vailing:   0%|          | 0/120 [00:00<?, ?it/s]\u001b[A\n",
            "Vailing:   1%|          | 1/120 [00:00<01:09,  1.71it/s]\u001b[A\n",
            "Vailing:   2%|▏         | 2/120 [00:00<00:45,  2.58it/s]\u001b[A\n",
            "Vailing:   2%|▎         | 3/120 [00:01<00:37,  3.08it/s]\u001b[A\n",
            "Vailing:   3%|▎         | 4/120 [00:01<00:34,  3.36it/s]\u001b[A\n",
            "Vailing:   4%|▍         | 5/120 [00:01<00:32,  3.56it/s]\u001b[A\n",
            "Vailing:   5%|▌         | 6/120 [00:01<00:30,  3.73it/s]\u001b[A\n",
            "Vailing:   6%|▌         | 7/120 [00:02<00:29,  3.79it/s]\u001b[A\n",
            "Vailing:   7%|▋         | 8/120 [00:02<00:29,  3.85it/s]\u001b[A\n",
            "Vailing:   8%|▊         | 9/120 [00:02<00:28,  3.87it/s]\u001b[A\n",
            "Vailing:   8%|▊         | 10/120 [00:02<00:28,  3.92it/s]\u001b[A\n",
            "Vailing:   9%|▉         | 11/120 [00:03<00:27,  3.94it/s]\u001b[A\n",
            "Vailing:  10%|█         | 12/120 [00:03<00:27,  3.96it/s]\u001b[A\n",
            "Vailing:  11%|█         | 13/120 [00:03<00:27,  3.95it/s]\u001b[A\n",
            "Vailing:  12%|█▏        | 14/120 [00:03<00:28,  3.78it/s]\u001b[A\n",
            "Vailing:  12%|█▎        | 15/120 [00:04<00:28,  3.68it/s]\u001b[A\n",
            "Vailing:  13%|█▎        | 16/120 [00:04<00:28,  3.60it/s]\u001b[A\n",
            "Vailing:  14%|█▍        | 17/120 [00:04<00:28,  3.58it/s]\u001b[A\n",
            "Vailing:  15%|█▌        | 18/120 [00:05<00:28,  3.54it/s]\u001b[A\n",
            "Vailing:  16%|█▌        | 19/120 [00:05<00:28,  3.50it/s]\u001b[A\n",
            "Vailing:  17%|█▋        | 20/120 [00:05<00:28,  3.52it/s]\u001b[A\n",
            "Vailing:  18%|█▊        | 21/120 [00:05<00:27,  3.55it/s]\u001b[A\n",
            "Vailing:  18%|█▊        | 22/120 [00:06<00:27,  3.52it/s]\u001b[A\n",
            "Vailing:  19%|█▉        | 23/120 [00:06<00:27,  3.47it/s]\u001b[A\n",
            "Vailing:  20%|██        | 24/120 [00:06<00:27,  3.50it/s]\u001b[A\n",
            "Vailing:  21%|██        | 25/120 [00:07<00:26,  3.59it/s]\u001b[A\n",
            "Vailing:  22%|██▏       | 26/120 [00:07<00:25,  3.68it/s]\u001b[A\n",
            "Vailing:  22%|██▎       | 27/120 [00:07<00:24,  3.76it/s]\u001b[A\n",
            "Vailing:  23%|██▎       | 28/120 [00:07<00:23,  3.85it/s]\u001b[A\n",
            "Vailing:  24%|██▍       | 29/120 [00:08<00:23,  3.89it/s]\u001b[A\n",
            "Vailing:  25%|██▌       | 30/120 [00:08<00:22,  3.92it/s]\u001b[A\n",
            "Vailing:  26%|██▌       | 31/120 [00:08<00:23,  3.87it/s]\u001b[A\n",
            "Vailing:  27%|██▋       | 32/120 [00:08<00:22,  3.90it/s]\u001b[A\n",
            "Vailing:  28%|██▊       | 33/120 [00:09<00:22,  3.91it/s]\u001b[A\n",
            "Vailing:  28%|██▊       | 34/120 [00:09<00:21,  3.94it/s]\u001b[A\n",
            "Vailing:  29%|██▉       | 35/120 [00:09<00:21,  3.87it/s]\u001b[A\n",
            "Vailing:  30%|███       | 36/120 [00:09<00:21,  3.91it/s]\u001b[A\n",
            "Vailing:  31%|███       | 37/120 [00:10<00:21,  3.90it/s]\u001b[A\n",
            "Vailing:  32%|███▏      | 38/120 [00:10<00:20,  3.91it/s]\u001b[A\n",
            "Vailing:  32%|███▎      | 39/120 [00:10<00:20,  3.89it/s]\u001b[A\n",
            "Vailing:  33%|███▎      | 40/120 [00:10<00:20,  3.94it/s]\u001b[A\n",
            "Vailing:  34%|███▍      | 41/120 [00:11<00:20,  3.94it/s]\u001b[A\n",
            "Vailing:  35%|███▌      | 42/120 [00:11<00:19,  3.93it/s]\u001b[A\n",
            "Vailing:  36%|███▌      | 43/120 [00:11<00:19,  3.87it/s]\u001b[A\n",
            "Vailing:  37%|███▋      | 44/120 [00:11<00:19,  3.91it/s]\u001b[A\n",
            "Vailing:  38%|███▊      | 45/120 [00:12<00:19,  3.95it/s]\u001b[A\n",
            "Vailing:  38%|███▊      | 46/120 [00:12<00:18,  3.93it/s]\u001b[A\n",
            "Vailing:  39%|███▉      | 47/120 [00:12<00:18,  3.89it/s]\u001b[A\n",
            "Vailing:  40%|████      | 48/120 [00:12<00:18,  3.91it/s]\u001b[A\n",
            "Vailing:  41%|████      | 49/120 [00:13<00:17,  3.95it/s]\u001b[A\n",
            "Vailing:  42%|████▏     | 50/120 [00:13<00:17,  3.91it/s]\u001b[A\n",
            "Vailing:  42%|████▎     | 51/120 [00:13<00:17,  3.88it/s]\u001b[A\n",
            "Vailing:  43%|████▎     | 52/120 [00:13<00:17,  3.89it/s]\u001b[A\n",
            "Vailing:  44%|████▍     | 53/120 [00:14<00:17,  3.91it/s]\u001b[A\n",
            "Vailing:  45%|████▌     | 54/120 [00:14<00:16,  3.91it/s]\u001b[A\n",
            "Vailing:  46%|████▌     | 55/120 [00:14<00:16,  3.95it/s]\u001b[A\n",
            "Vailing:  47%|████▋     | 56/120 [00:14<00:16,  3.97it/s]\u001b[A\n",
            "Vailing:  48%|████▊     | 57/120 [00:15<00:15,  3.95it/s]\u001b[A\n",
            "Vailing:  48%|████▊     | 58/120 [00:15<00:15,  3.97it/s]\u001b[A\n",
            "Vailing:  49%|████▉     | 59/120 [00:15<00:15,  3.90it/s]\u001b[A\n",
            "Vailing:  50%|█████     | 60/120 [00:15<00:15,  3.91it/s]\u001b[A\n",
            "Vailing:  51%|█████     | 61/120 [00:16<00:15,  3.91it/s]\u001b[A\n",
            "Vailing:  52%|█████▏    | 62/120 [00:16<00:14,  3.94it/s]\u001b[A\n",
            "Vailing:  52%|█████▎    | 63/120 [00:16<00:14,  3.96it/s]\u001b[A\n",
            "Vailing:  53%|█████▎    | 64/120 [00:16<00:14,  3.98it/s]\u001b[A\n",
            "Vailing:  54%|█████▍    | 65/120 [00:17<00:14,  3.78it/s]\u001b[A\n",
            "Vailing:  55%|█████▌    | 66/120 [00:17<00:14,  3.67it/s]\u001b[A\n",
            "Vailing:  56%|█████▌    | 67/120 [00:17<00:14,  3.54it/s]\u001b[A\n",
            "Vailing:  57%|█████▋    | 68/120 [00:18<00:14,  3.47it/s]\u001b[A\n",
            "Vailing:  57%|█████▊    | 69/120 [00:18<00:14,  3.44it/s]\u001b[A\n",
            "Vailing:  58%|█████▊    | 70/120 [00:18<00:14,  3.44it/s]\u001b[A\n",
            "Vailing:  59%|█████▉    | 71/120 [00:19<00:14,  3.47it/s]\u001b[A\n",
            "Vailing:  60%|██████    | 72/120 [00:19<00:13,  3.53it/s]\u001b[A\n",
            "Vailing:  61%|██████    | 73/120 [00:19<00:13,  3.46it/s]\u001b[A\n",
            "Vailing:  62%|██████▏   | 74/120 [00:19<00:13,  3.42it/s]\u001b[A\n",
            "Vailing:  62%|██████▎   | 75/120 [00:20<00:12,  3.57it/s]\u001b[A\n",
            "Vailing:  63%|██████▎   | 76/120 [00:20<00:11,  3.67it/s]\u001b[A\n",
            "Vailing:  64%|██████▍   | 77/120 [00:20<00:11,  3.76it/s]\u001b[A\n",
            "Vailing:  65%|██████▌   | 78/120 [00:20<00:11,  3.82it/s]\u001b[A\n",
            "Vailing:  66%|██████▌   | 79/120 [00:21<00:10,  3.82it/s]\u001b[A\n",
            "Vailing:  67%|██████▋   | 80/120 [00:21<00:10,  3.83it/s]\u001b[A\n",
            "Vailing:  68%|██████▊   | 81/120 [00:21<00:10,  3.87it/s]\u001b[A\n",
            "Vailing:  68%|██████▊   | 82/120 [00:21<00:09,  3.90it/s]\u001b[A\n",
            "Vailing:  69%|██████▉   | 83/120 [00:22<00:09,  3.93it/s]\u001b[A\n",
            "Vailing:  70%|███████   | 84/120 [00:22<00:09,  3.93it/s]\u001b[A\n",
            "Vailing:  71%|███████   | 85/120 [00:22<00:08,  3.94it/s]\u001b[A\n",
            "Vailing:  72%|███████▏  | 86/120 [00:22<00:08,  3.94it/s]\u001b[A\n",
            "Vailing:  72%|███████▎  | 87/120 [00:23<00:08,  3.96it/s]\u001b[A\n",
            "Vailing:  73%|███████▎  | 88/120 [00:23<00:08,  3.96it/s]\u001b[A\n",
            "Vailing:  74%|███████▍  | 89/120 [00:23<00:07,  3.95it/s]\u001b[A\n",
            "Vailing:  75%|███████▌  | 90/120 [00:23<00:07,  3.96it/s]\u001b[A\n",
            "Vailing:  76%|███████▌  | 91/120 [00:24<00:07,  3.91it/s]\u001b[A\n",
            "Vailing:  77%|███████▋  | 92/120 [00:24<00:07,  3.89it/s]\u001b[A\n",
            "Vailing:  78%|███████▊  | 93/120 [00:24<00:06,  3.93it/s]\u001b[A\n",
            "Vailing:  78%|███████▊  | 94/120 [00:24<00:06,  3.95it/s]\u001b[A\n",
            "Vailing:  79%|███████▉  | 95/120 [00:25<00:06,  3.90it/s]\u001b[A\n",
            "Vailing:  80%|████████  | 96/120 [00:25<00:06,  3.93it/s]\u001b[A\n",
            "Vailing:  81%|████████  | 97/120 [00:25<00:05,  3.95it/s]\u001b[A\n",
            "Vailing:  82%|████████▏ | 98/120 [00:25<00:05,  3.95it/s]\u001b[A\n",
            "Vailing:  82%|████████▎ | 99/120 [00:26<00:05,  3.89it/s]\u001b[A\n",
            "Vailing:  83%|████████▎ | 100/120 [00:26<00:05,  3.90it/s]\u001b[A\n",
            "Vailing:  84%|████████▍ | 101/120 [00:26<00:04,  3.93it/s]\u001b[A\n",
            "Vailing:  85%|████████▌ | 102/120 [00:26<00:04,  3.94it/s]\u001b[A\n",
            "Vailing:  86%|████████▌ | 103/120 [00:27<00:04,  3.86it/s]\u001b[A\n",
            "Vailing:  87%|████████▋ | 104/120 [00:27<00:04,  3.90it/s]\u001b[A\n",
            "Vailing:  88%|████████▊ | 105/120 [00:27<00:03,  3.90it/s]\u001b[A\n",
            "Vailing:  88%|████████▊ | 106/120 [00:28<00:03,  3.93it/s]\u001b[A\n",
            "Vailing:  89%|████████▉ | 107/120 [00:28<00:03,  3.87it/s]\u001b[A\n",
            "Vailing:  90%|█████████ | 108/120 [00:28<00:03,  3.89it/s]\u001b[A\n",
            "Vailing:  91%|█████████ | 109/120 [00:28<00:02,  3.90it/s]\u001b[A\n",
            "Vailing:  92%|█████████▏| 110/120 [00:29<00:02,  3.91it/s]\u001b[A\n",
            "Vailing:  92%|█████████▎| 111/120 [00:29<00:02,  3.83it/s]\u001b[A\n",
            "Vailing:  93%|█████████▎| 112/120 [00:29<00:02,  3.87it/s]\u001b[A\n",
            "Vailing:  94%|█████████▍| 113/120 [00:29<00:01,  3.89it/s]\u001b[A\n",
            "Vailing:  95%|█████████▌| 114/120 [00:30<00:01,  3.78it/s]\u001b[A\n",
            "Vailing:  96%|█████████▌| 115/120 [00:30<00:01,  3.57it/s]\u001b[A\n",
            "Vailing:  97%|█████████▋| 116/120 [00:30<00:01,  3.38it/s]\u001b[A\n",
            "Vailing:  98%|█████████▊| 117/120 [00:31<00:00,  3.40it/s]\u001b[A\n",
            "Vailing:  98%|█████████▊| 118/120 [00:31<00:00,  3.39it/s]\u001b[A\n",
            "Vailing:  99%|█████████▉| 119/120 [00:31<00:00,  3.35it/s]\u001b[A\n",
            "Vailing: 100%|██████████| 120/120 [00:31<00:00,  3.76it/s]\n",
            "training....:  87%|████████▋ | 1900/2193 [29:50<49:54, 10.22s/it]"
          ]
        },
        {
          "name": "stdout",
          "output_type": "stream",
          "text": [
            "验证集评估报告：\n",
            "               precision    recall  f1-score   support\n",
            "\n",
            "           0       0.54      0.69      0.61       700\n",
            "           1       0.68      0.83      0.75       701\n",
            "           2       0.92      0.86      0.89      3793\n",
            "           3       0.79      0.84      0.82      1574\n",
            "           4       0.85      0.88      0.87      1593\n",
            "           5       0.89      0.85      0.87      1940\n",
            "           6       0.86      0.75      0.80      1695\n",
            "           7       0.75      0.84      0.79      1002\n",
            "           8       0.87      0.85      0.86      2327\n",
            "\n",
            "    accuracy                           0.83     15325\n",
            "   macro avg       0.80      0.82      0.81     15325\n",
            "weighted avg       0.84      0.83      0.84     15325\n",
            "\n",
            "验证集的f1: 0.8057, accuracy:0.8344, precision:0.7953, recall:0.8219\n"
          ]
        },
        {
          "name": "stderr",
          "output_type": "stream",
          "text": [
            "training....:  87%|████████▋ | 1910/2193 [29:56<04:10,  1.13it/s]"
          ]
        },
        {
          "name": "stdout",
          "output_type": "stream",
          "text": [
            "epoch:1,batch:1910,loss:0.6368,train_f1:0.8073,acc:0.8070\n"
          ]
        },
        {
          "name": "stderr",
          "output_type": "stream",
          "text": [
            "training....:  88%|████████▊ | 1920/2193 [30:02<02:51,  1.59it/s]"
          ]
        },
        {
          "name": "stdout",
          "output_type": "stream",
          "text": [
            "epoch:1,batch:1920,loss:0.6300,train_f1:0.8073,acc:0.8063\n"
          ]
        },
        {
          "name": "stderr",
          "output_type": "stream",
          "text": [
            "training....:  88%|████████▊ | 1930/2193 [30:08<02:43,  1.61it/s]"
          ]
        },
        {
          "name": "stdout",
          "output_type": "stream",
          "text": [
            "epoch:1,batch:1930,loss:0.6560,train_f1:0.7842,acc:0.7867\n"
          ]
        },
        {
          "name": "stderr",
          "output_type": "stream",
          "text": [
            "training....:  88%|████████▊ | 1940/2193 [30:14<02:37,  1.61it/s]"
          ]
        },
        {
          "name": "stdout",
          "output_type": "stream",
          "text": [
            "epoch:1,batch:1940,loss:0.6382,train_f1:0.7905,acc:0.7953\n"
          ]
        },
        {
          "name": "stderr",
          "output_type": "stream",
          "text": [
            "training....:  89%|████████▉ | 1950/2193 [30:20<02:30,  1.62it/s]"
          ]
        },
        {
          "name": "stdout",
          "output_type": "stream",
          "text": [
            "epoch:1,batch:1950,loss:0.5903,train_f1:0.8140,acc:0.8156\n"
          ]
        },
        {
          "name": "stderr",
          "output_type": "stream",
          "text": [
            "training....:  89%|████████▉ | 1960/2193 [30:27<02:25,  1.60it/s]"
          ]
        },
        {
          "name": "stdout",
          "output_type": "stream",
          "text": [
            "epoch:1,batch:1960,loss:0.5995,train_f1:0.8062,acc:0.8094\n"
          ]
        },
        {
          "name": "stderr",
          "output_type": "stream",
          "text": [
            "training....:  90%|████████▉ | 1970/2193 [30:33<02:17,  1.62it/s]"
          ]
        },
        {
          "name": "stdout",
          "output_type": "stream",
          "text": [
            "epoch:1,batch:1970,loss:0.5780,train_f1:0.8148,acc:0.8172\n"
          ]
        },
        {
          "name": "stderr",
          "output_type": "stream",
          "text": [
            "training....:  90%|█████████ | 1980/2193 [30:39<02:11,  1.62it/s]"
          ]
        },
        {
          "name": "stdout",
          "output_type": "stream",
          "text": [
            "epoch:1,batch:1980,loss:0.6494,train_f1:0.8003,acc:0.8008\n"
          ]
        },
        {
          "name": "stderr",
          "output_type": "stream",
          "text": [
            "training....:  91%|█████████ | 1990/2193 [30:45<02:05,  1.62it/s]"
          ]
        },
        {
          "name": "stdout",
          "output_type": "stream",
          "text": [
            "epoch:1,batch:1990,loss:0.6201,train_f1:0.8096,acc:0.8102\n"
          ]
        },
        {
          "name": "stderr",
          "output_type": "stream",
          "text": [
            "training....:  91%|█████████ | 1999/2193 [30:51<01:59,  1.63it/s]"
          ]
        },
        {
          "name": "stdout",
          "output_type": "stream",
          "text": [
            "epoch:1,batch:2000,loss:0.6102,train_f1:0.8105,acc:0.8117\n"
          ]
        },
        {
          "name": "stderr",
          "output_type": "stream",
          "text": [
            "\n",
            "Vailing:   0%|          | 0/120 [00:00<?, ?it/s]\u001b[A\n",
            "Vailing:   1%|          | 1/120 [00:00<01:08,  1.73it/s]\u001b[A\n",
            "Vailing:   2%|▏         | 2/120 [00:00<00:45,  2.61it/s]\u001b[A\n",
            "Vailing:   2%|▎         | 3/120 [00:01<00:37,  3.10it/s]\u001b[A\n",
            "Vailing:   3%|▎         | 4/120 [00:01<00:36,  3.19it/s]\u001b[A\n",
            "Vailing:   4%|▍         | 5/120 [00:01<00:35,  3.23it/s]\u001b[A\n",
            "Vailing:   5%|▌         | 6/120 [00:01<00:35,  3.24it/s]\u001b[A\n",
            "Vailing:   6%|▌         | 7/120 [00:02<00:34,  3.29it/s]\u001b[A\n",
            "Vailing:   7%|▋         | 8/120 [00:02<00:33,  3.33it/s]\u001b[A\n",
            "Vailing:   8%|▊         | 9/120 [00:02<00:33,  3.32it/s]\u001b[A\n",
            "Vailing:   8%|▊         | 10/120 [00:03<00:32,  3.37it/s]\u001b[A\n",
            "Vailing:   9%|▉         | 11/120 [00:03<00:32,  3.35it/s]\u001b[A\n",
            "Vailing:  10%|█         | 12/120 [00:03<00:32,  3.32it/s]\u001b[A\n",
            "Vailing:  11%|█         | 13/120 [00:04<00:32,  3.34it/s]\u001b[A\n",
            "Vailing:  12%|█▏        | 14/120 [00:04<00:30,  3.45it/s]\u001b[A\n",
            "Vailing:  12%|█▎        | 15/120 [00:04<00:29,  3.60it/s]\u001b[A\n",
            "Vailing:  13%|█▎        | 16/120 [00:04<00:28,  3.71it/s]\u001b[A\n",
            "Vailing:  14%|█▍        | 17/120 [00:05<00:27,  3.80it/s]\u001b[A\n",
            "Vailing:  15%|█▌        | 18/120 [00:05<00:26,  3.84it/s]\u001b[A\n",
            "Vailing:  16%|█▌        | 19/120 [00:05<00:26,  3.87it/s]\u001b[A\n",
            "Vailing:  17%|█▋        | 20/120 [00:05<00:25,  3.88it/s]\u001b[A\n",
            "Vailing:  18%|█▊        | 21/120 [00:06<00:25,  3.92it/s]\u001b[A\n",
            "Vailing:  18%|█▊        | 22/120 [00:06<00:24,  3.96it/s]\u001b[A\n",
            "Vailing:  19%|█▉        | 23/120 [00:06<00:24,  3.96it/s]\u001b[A\n",
            "Vailing:  20%|██        | 24/120 [00:06<00:24,  3.91it/s]\u001b[A\n",
            "Vailing:  21%|██        | 25/120 [00:07<00:24,  3.94it/s]\u001b[A\n",
            "Vailing:  22%|██▏       | 26/120 [00:07<00:23,  3.94it/s]\u001b[A\n",
            "Vailing:  22%|██▎       | 27/120 [00:07<00:23,  3.97it/s]\u001b[A\n",
            "Vailing:  23%|██▎       | 28/120 [00:07<00:23,  3.92it/s]\u001b[A\n",
            "Vailing:  24%|██▍       | 29/120 [00:08<00:23,  3.94it/s]\u001b[A\n",
            "Vailing:  25%|██▌       | 30/120 [00:08<00:22,  3.97it/s]\u001b[A\n",
            "Vailing:  26%|██▌       | 31/120 [00:08<00:22,  3.96it/s]\u001b[A\n",
            "Vailing:  27%|██▋       | 32/120 [00:08<00:22,  3.90it/s]\u001b[A\n",
            "Vailing:  28%|██▊       | 33/120 [00:09<00:22,  3.90it/s]\u001b[A\n",
            "Vailing:  28%|██▊       | 34/120 [00:09<00:21,  3.95it/s]\u001b[A\n",
            "Vailing:  29%|██▉       | 35/120 [00:09<00:21,  3.95it/s]\u001b[A\n",
            "Vailing:  30%|███       | 36/120 [00:09<00:21,  3.89it/s]\u001b[A\n",
            "Vailing:  31%|███       | 37/120 [00:10<00:21,  3.90it/s]\u001b[A\n",
            "Vailing:  32%|███▏      | 38/120 [00:10<00:20,  3.92it/s]\u001b[A\n",
            "Vailing:  32%|███▎      | 39/120 [00:10<00:20,  3.93it/s]\u001b[A\n",
            "Vailing:  33%|███▎      | 40/120 [00:10<00:20,  3.91it/s]\u001b[A\n",
            "Vailing:  34%|███▍      | 41/120 [00:11<00:20,  3.93it/s]\u001b[A\n",
            "Vailing:  35%|███▌      | 42/120 [00:11<00:19,  3.96it/s]\u001b[A\n",
            "Vailing:  36%|███▌      | 43/120 [00:11<00:19,  3.97it/s]\u001b[A\n",
            "Vailing:  37%|███▋      | 44/120 [00:11<00:19,  3.97it/s]\u001b[A\n",
            "Vailing:  38%|███▊      | 45/120 [00:12<00:18,  3.96it/s]\u001b[A\n",
            "Vailing:  38%|███▊      | 46/120 [00:12<00:18,  3.96it/s]\u001b[A\n",
            "Vailing:  39%|███▉      | 47/120 [00:12<00:18,  3.97it/s]\u001b[A\n",
            "Vailing:  40%|████      | 48/120 [00:12<00:18,  3.95it/s]\u001b[A\n",
            "Vailing:  41%|████      | 49/120 [00:13<00:17,  3.95it/s]\u001b[A\n",
            "Vailing:  42%|████▏     | 50/120 [00:13<00:17,  3.97it/s]\u001b[A\n",
            "Vailing:  42%|████▎     | 51/120 [00:13<00:17,  3.99it/s]\u001b[A\n",
            "Vailing:  43%|████▎     | 52/120 [00:13<00:16,  4.00it/s]\u001b[A\n",
            "Vailing:  44%|████▍     | 53/120 [00:14<00:16,  3.99it/s]\u001b[A\n",
            "Vailing:  45%|████▌     | 54/120 [00:14<00:17,  3.79it/s]\u001b[A\n",
            "Vailing:  46%|████▌     | 55/120 [00:14<00:18,  3.60it/s]\u001b[A\n",
            "Vailing:  47%|████▋     | 56/120 [00:15<00:18,  3.55it/s]\u001b[A\n",
            "Vailing:  48%|████▊     | 57/120 [00:15<00:17,  3.53it/s]\u001b[A\n",
            "Vailing:  48%|████▊     | 58/120 [00:15<00:17,  3.49it/s]\u001b[A\n",
            "Vailing:  49%|████▉     | 59/120 [00:15<00:17,  3.41it/s]\u001b[A\n",
            "Vailing:  50%|█████     | 60/120 [00:16<00:17,  3.41it/s]\u001b[A\n",
            "Vailing:  51%|█████     | 61/120 [00:16<00:17,  3.39it/s]\u001b[A\n",
            "Vailing:  52%|█████▏    | 62/120 [00:16<00:16,  3.42it/s]\u001b[A\n",
            "Vailing:  52%|█████▎    | 63/120 [00:17<00:16,  3.43it/s]\u001b[A\n",
            "Vailing:  53%|█████▎    | 64/120 [00:17<00:16,  3.46it/s]\u001b[A\n",
            "Vailing:  54%|█████▍    | 65/120 [00:17<00:15,  3.61it/s]\u001b[A\n",
            "Vailing:  55%|█████▌    | 66/120 [00:17<00:14,  3.72it/s]\u001b[A\n",
            "Vailing:  56%|█████▌    | 67/120 [00:18<00:14,  3.78it/s]\u001b[A\n",
            "Vailing:  57%|█████▋    | 68/120 [00:18<00:13,  3.84it/s]\u001b[A\n",
            "Vailing:  57%|█████▊    | 69/120 [00:18<00:13,  3.87it/s]\u001b[A\n",
            "Vailing:  58%|█████▊    | 70/120 [00:18<00:12,  3.92it/s]\u001b[A\n",
            "Vailing:  59%|█████▉    | 71/120 [00:19<00:12,  3.91it/s]\u001b[A\n",
            "Vailing:  60%|██████    | 72/120 [00:19<00:12,  3.94it/s]\u001b[A\n",
            "Vailing:  61%|██████    | 73/120 [00:19<00:11,  3.95it/s]\u001b[A\n",
            "Vailing:  62%|██████▏   | 74/120 [00:19<00:11,  3.95it/s]\u001b[A\n",
            "Vailing:  62%|██████▎   | 75/120 [00:20<00:11,  3.98it/s]\u001b[A\n",
            "Vailing:  63%|██████▎   | 76/120 [00:20<00:10,  4.00it/s]\u001b[A\n",
            "Vailing:  64%|██████▍   | 77/120 [00:20<00:10,  4.00it/s]\u001b[A\n",
            "Vailing:  65%|██████▌   | 78/120 [00:20<00:10,  4.00it/s]\u001b[A\n",
            "Vailing:  66%|██████▌   | 79/120 [00:21<00:10,  3.98it/s]\u001b[A\n",
            "Vailing:  67%|██████▋   | 80/120 [00:21<00:10,  3.97it/s]\u001b[A\n",
            "Vailing:  68%|██████▊   | 81/120 [00:21<00:09,  3.97it/s]\u001b[A\n",
            "Vailing:  68%|██████▊   | 82/120 [00:21<00:09,  3.98it/s]\u001b[A\n",
            "Vailing:  69%|██████▉   | 83/120 [00:22<00:09,  3.96it/s]\u001b[A\n",
            "Vailing:  70%|███████   | 84/120 [00:22<00:09,  3.91it/s]\u001b[A\n",
            "Vailing:  71%|███████   | 85/120 [00:22<00:08,  3.92it/s]\u001b[A\n",
            "Vailing:  72%|███████▏  | 86/120 [00:22<00:08,  3.94it/s]\u001b[A\n",
            "Vailing:  72%|███████▎  | 87/120 [00:23<00:08,  3.99it/s]\u001b[A\n",
            "Vailing:  73%|███████▎  | 88/120 [00:23<00:08,  3.90it/s]\u001b[A\n",
            "Vailing:  74%|███████▍  | 89/120 [00:23<00:07,  3.90it/s]\u001b[A\n",
            "Vailing:  75%|███████▌  | 90/120 [00:24<00:07,  3.88it/s]\u001b[A\n",
            "Vailing:  76%|███████▌  | 91/120 [00:24<00:07,  3.92it/s]\u001b[A\n",
            "Vailing:  77%|███████▋  | 92/120 [00:24<00:07,  3.83it/s]\u001b[A\n",
            "Vailing:  78%|███████▊  | 93/120 [00:24<00:06,  3.88it/s]\u001b[A\n",
            "Vailing:  78%|███████▊  | 94/120 [00:25<00:06,  3.89it/s]\u001b[A\n",
            "Vailing:  79%|███████▉  | 95/120 [00:25<00:06,  3.95it/s]\u001b[A\n",
            "Vailing:  80%|████████  | 96/120 [00:25<00:06,  3.88it/s]\u001b[A\n",
            "Vailing:  81%|████████  | 97/120 [00:25<00:05,  3.88it/s]\u001b[A\n",
            "Vailing:  82%|████████▏ | 98/120 [00:26<00:05,  3.89it/s]\u001b[A\n",
            "Vailing:  82%|████████▎ | 99/120 [00:26<00:05,  3.93it/s]\u001b[A\n",
            "Vailing:  83%|████████▎ | 100/120 [00:26<00:05,  3.88it/s]\u001b[A\n",
            "Vailing:  84%|████████▍ | 101/120 [00:26<00:04,  3.92it/s]\u001b[A\n",
            "Vailing:  85%|████████▌ | 102/120 [00:27<00:04,  3.92it/s]\u001b[A\n",
            "Vailing:  86%|████████▌ | 103/120 [00:27<00:04,  3.94it/s]\u001b[A\n",
            "Vailing:  87%|████████▋ | 104/120 [00:27<00:04,  3.73it/s]\u001b[A\n",
            "Vailing:  88%|████████▊ | 105/120 [00:27<00:04,  3.63it/s]\u001b[A\n",
            "Vailing:  88%|████████▊ | 106/120 [00:28<00:03,  3.55it/s]\u001b[A\n",
            "Vailing:  89%|████████▉ | 107/120 [00:28<00:03,  3.53it/s]\u001b[A\n",
            "Vailing:  90%|█████████ | 108/120 [00:28<00:03,  3.50it/s]\u001b[A\n",
            "Vailing:  91%|█████████ | 109/120 [00:29<00:03,  3.47it/s]\u001b[A\n",
            "Vailing:  92%|█████████▏| 110/120 [00:29<00:02,  3.42it/s]\u001b[A\n",
            "Vailing:  92%|█████████▎| 111/120 [00:29<00:02,  3.43it/s]\u001b[A\n",
            "Vailing:  93%|█████████▎| 112/120 [00:29<00:02,  3.42it/s]\u001b[A\n",
            "Vailing:  94%|█████████▍| 113/120 [00:30<00:02,  3.43it/s]\u001b[A\n",
            "Vailing:  95%|█████████▌| 114/120 [00:30<00:01,  3.45it/s]\u001b[A\n",
            "Vailing:  96%|█████████▌| 115/120 [00:30<00:01,  3.54it/s]\u001b[A\n",
            "Vailing:  97%|█████████▋| 116/120 [00:31<00:01,  3.63it/s]\u001b[A\n",
            "Vailing:  98%|█████████▊| 117/120 [00:31<00:00,  3.68it/s]\u001b[A\n",
            "Vailing:  98%|█████████▊| 118/120 [00:31<00:00,  3.75it/s]\u001b[A\n",
            "Vailing:  99%|█████████▉| 119/120 [00:31<00:00,  3.74it/s]\u001b[A\n",
            "Vailing: 100%|██████████| 120/120 [00:32<00:00,  3.74it/s]\n"
          ]
        },
        {
          "name": "stdout",
          "output_type": "stream",
          "text": [
            "验证集评估报告：\n",
            "               precision    recall  f1-score   support\n",
            "\n",
            "           0       0.53      0.73      0.61       700\n",
            "           1       0.71      0.82      0.76       701\n",
            "           2       0.91      0.87      0.89      3793\n",
            "           3       0.78      0.84      0.81      1574\n",
            "           4       0.86      0.89      0.87      1593\n",
            "           5       0.88      0.86      0.87      1940\n",
            "           6       0.85      0.77      0.80      1695\n",
            "           7       0.86      0.79      0.82      1002\n",
            "           8       0.88      0.85      0.86      2327\n",
            "\n",
            "    accuracy                           0.84     15325\n",
            "   macro avg       0.81      0.82      0.81     15325\n",
            "weighted avg       0.85      0.84      0.84     15325\n",
            "\n",
            "验证集的f1: 0.8123, accuracy:0.8390, precision:0.8068, recall:0.8235\n"
          ]
        },
        {
          "name": "stderr",
          "output_type": "stream",
          "text": [
            "\rtraining....:  91%|█████████ | 2000/2193 [31:24<34:08, 10.62s/it]"
          ]
        },
        {
          "name": "stdout",
          "output_type": "stream",
          "text": [
            "保存模型成功, 当前f1分数: 0.8122861524744543\n"
          ]
        },
        {
          "name": "stderr",
          "output_type": "stream",
          "text": [
            "training....:  92%|█████████▏| 2010/2193 [31:30<02:43,  1.12it/s]"
          ]
        },
        {
          "name": "stdout",
          "output_type": "stream",
          "text": [
            "epoch:1,batch:2010,loss:0.6374,train_f1:0.8069,acc:0.8102\n"
          ]
        },
        {
          "name": "stderr",
          "output_type": "stream",
          "text": [
            "training....:  92%|█████████▏| 2020/2193 [31:36<01:48,  1.59it/s]"
          ]
        },
        {
          "name": "stdout",
          "output_type": "stream",
          "text": [
            "epoch:1,batch:2020,loss:0.5818,train_f1:0.8205,acc:0.8227\n"
          ]
        },
        {
          "name": "stderr",
          "output_type": "stream",
          "text": [
            "training....:  93%|█████████▎| 2030/2193 [31:43<01:42,  1.59it/s]"
          ]
        },
        {
          "name": "stdout",
          "output_type": "stream",
          "text": [
            "epoch:1,batch:2030,loss:0.5950,train_f1:0.8111,acc:0.8133\n"
          ]
        },
        {
          "name": "stderr",
          "output_type": "stream",
          "text": [
            "training....:  93%|█████████▎| 2040/2193 [31:49<01:34,  1.62it/s]"
          ]
        },
        {
          "name": "stdout",
          "output_type": "stream",
          "text": [
            "epoch:1,batch:2040,loss:0.6158,train_f1:0.8072,acc:0.8070\n"
          ]
        },
        {
          "name": "stderr",
          "output_type": "stream",
          "text": [
            "training....:  93%|█████████▎| 2050/2193 [31:55<01:28,  1.62it/s]"
          ]
        },
        {
          "name": "stdout",
          "output_type": "stream",
          "text": [
            "epoch:1,batch:2050,loss:0.6204,train_f1:0.8068,acc:0.8078\n"
          ]
        },
        {
          "name": "stderr",
          "output_type": "stream",
          "text": [
            "training....:  94%|█████████▍| 2060/2193 [32:01<01:22,  1.62it/s]"
          ]
        },
        {
          "name": "stdout",
          "output_type": "stream",
          "text": [
            "epoch:1,batch:2060,loss:0.6547,train_f1:0.7868,acc:0.7875\n"
          ]
        },
        {
          "name": "stderr",
          "output_type": "stream",
          "text": [
            "training....:  94%|█████████▍| 2070/2193 [32:07<01:15,  1.62it/s]"
          ]
        },
        {
          "name": "stdout",
          "output_type": "stream",
          "text": [
            "epoch:1,batch:2070,loss:0.6284,train_f1:0.8070,acc:0.8070\n"
          ]
        },
        {
          "name": "stderr",
          "output_type": "stream",
          "text": [
            "training....:  95%|█████████▍| 2080/2193 [32:14<01:09,  1.61it/s]"
          ]
        },
        {
          "name": "stdout",
          "output_type": "stream",
          "text": [
            "epoch:1,batch:2080,loss:0.5716,train_f1:0.8248,acc:0.8250\n"
          ]
        },
        {
          "name": "stderr",
          "output_type": "stream",
          "text": [
            "training....:  95%|█████████▌| 2090/2193 [32:20<01:03,  1.62it/s]"
          ]
        },
        {
          "name": "stdout",
          "output_type": "stream",
          "text": [
            "epoch:1,batch:2090,loss:0.6110,train_f1:0.8053,acc:0.8078\n"
          ]
        },
        {
          "name": "stderr",
          "output_type": "stream",
          "text": [
            "training....:  96%|█████████▌| 2099/2193 [32:25<00:58,  1.62it/s]"
          ]
        },
        {
          "name": "stdout",
          "output_type": "stream",
          "text": [
            "epoch:1,batch:2100,loss:0.6316,train_f1:0.8079,acc:0.8094\n"
          ]
        },
        {
          "name": "stderr",
          "output_type": "stream",
          "text": [
            "\n",
            "Vailing:   0%|          | 0/120 [00:00<?, ?it/s]\u001b[A\n",
            "Vailing:   1%|          | 1/120 [00:00<01:08,  1.75it/s]\u001b[A\n",
            "Vailing:   2%|▏         | 2/120 [00:00<00:49,  2.40it/s]\u001b[A\n",
            "Vailing:   2%|▎         | 3/120 [00:01<00:42,  2.73it/s]\u001b[A\n",
            "Vailing:   3%|▎         | 4/120 [00:01<00:37,  3.12it/s]\u001b[A\n",
            "Vailing:   4%|▍         | 5/120 [00:01<00:33,  3.40it/s]\u001b[A\n",
            "Vailing:   5%|▌         | 6/120 [00:01<00:31,  3.60it/s]\u001b[A\n",
            "Vailing:   6%|▌         | 7/120 [00:02<00:30,  3.70it/s]\u001b[A\n",
            "Vailing:   7%|▋         | 8/120 [00:02<00:29,  3.75it/s]\u001b[A\n",
            "Vailing:   8%|▊         | 9/120 [00:02<00:28,  3.83it/s]\u001b[A\n",
            "Vailing:   8%|▊         | 10/120 [00:02<00:28,  3.87it/s]\u001b[A\n",
            "Vailing:   9%|▉         | 11/120 [00:03<00:27,  3.92it/s]\u001b[A\n",
            "Vailing:  10%|█         | 12/120 [00:03<00:27,  3.95it/s]\u001b[A\n",
            "Vailing:  11%|█         | 13/120 [00:03<00:26,  3.98it/s]\u001b[A\n",
            "Vailing:  12%|█▏        | 14/120 [00:03<00:26,  3.96it/s]\u001b[A\n",
            "Vailing:  12%|█▎        | 15/120 [00:04<00:26,  3.94it/s]\u001b[A\n",
            "Vailing:  13%|█▎        | 16/120 [00:04<00:26,  3.92it/s]\u001b[A\n",
            "Vailing:  14%|█▍        | 17/120 [00:04<00:25,  3.97it/s]\u001b[A\n",
            "Vailing:  15%|█▌        | 18/120 [00:04<00:25,  3.99it/s]\u001b[A\n",
            "Vailing:  16%|█▌        | 19/120 [00:05<00:25,  3.97it/s]\u001b[A\n",
            "Vailing:  17%|█▋        | 20/120 [00:05<00:25,  3.98it/s]\u001b[A\n",
            "Vailing:  18%|█▊        | 21/120 [00:05<00:24,  3.99it/s]\u001b[A\n",
            "Vailing:  18%|█▊        | 22/120 [00:05<00:24,  3.96it/s]\u001b[A\n",
            "Vailing:  19%|█▉        | 23/120 [00:06<00:24,  3.97it/s]\u001b[A\n",
            "Vailing:  20%|██        | 24/120 [00:06<00:24,  3.97it/s]\u001b[A\n",
            "Vailing:  21%|██        | 25/120 [00:06<00:23,  3.99it/s]\u001b[A\n",
            "Vailing:  22%|██▏       | 26/120 [00:06<00:23,  3.92it/s]\u001b[A\n",
            "Vailing:  22%|██▎       | 27/120 [00:07<00:23,  3.90it/s]\u001b[A\n",
            "Vailing:  23%|██▎       | 28/120 [00:07<00:23,  3.93it/s]\u001b[A\n",
            "Vailing:  24%|██▍       | 29/120 [00:07<00:22,  3.96it/s]\u001b[A\n",
            "Vailing:  25%|██▌       | 30/120 [00:08<00:23,  3.86it/s]\u001b[A\n",
            "Vailing:  26%|██▌       | 31/120 [00:08<00:22,  3.88it/s]\u001b[A\n",
            "Vailing:  27%|██▋       | 32/120 [00:08<00:22,  3.92it/s]\u001b[A\n",
            "Vailing:  28%|██▊       | 33/120 [00:08<00:21,  3.96it/s]\u001b[A\n",
            "Vailing:  28%|██▊       | 34/120 [00:09<00:22,  3.89it/s]\u001b[A\n",
            "Vailing:  29%|██▉       | 35/120 [00:09<00:21,  3.88it/s]\u001b[A\n",
            "Vailing:  30%|███       | 36/120 [00:09<00:21,  3.92it/s]\u001b[A\n",
            "Vailing:  31%|███       | 37/120 [00:09<00:21,  3.93it/s]\u001b[A\n",
            "Vailing:  32%|███▏      | 38/120 [00:10<00:21,  3.88it/s]\u001b[A\n",
            "Vailing:  32%|███▎      | 39/120 [00:10<00:20,  3.87it/s]\u001b[A\n",
            "Vailing:  33%|███▎      | 40/120 [00:10<00:20,  3.91it/s]\u001b[A\n",
            "Vailing:  34%|███▍      | 41/120 [00:10<00:20,  3.92it/s]\u001b[A\n",
            "Vailing:  35%|███▌      | 42/120 [00:11<00:20,  3.84it/s]\u001b[A\n",
            "Vailing:  36%|███▌      | 43/120 [00:11<00:20,  3.71it/s]\u001b[A\n",
            "Vailing:  37%|███▋      | 44/120 [00:11<00:21,  3.58it/s]\u001b[A\n",
            "Vailing:  38%|███▊      | 45/120 [00:11<00:21,  3.46it/s]\u001b[A\n",
            "Vailing:  38%|███▊      | 46/120 [00:12<00:21,  3.44it/s]\u001b[A\n",
            "Vailing:  39%|███▉      | 47/120 [00:12<00:21,  3.37it/s]\u001b[A\n",
            "Vailing:  40%|████      | 48/120 [00:12<00:21,  3.33it/s]\u001b[A\n",
            "Vailing:  41%|████      | 49/120 [00:13<00:21,  3.31it/s]\u001b[A\n",
            "Vailing:  42%|████▏     | 50/120 [00:13<00:21,  3.33it/s]\u001b[A\n",
            "Vailing:  42%|████▎     | 51/120 [00:13<00:20,  3.40it/s]\u001b[A\n",
            "Vailing:  43%|████▎     | 52/120 [00:14<00:19,  3.43it/s]\u001b[A\n",
            "Vailing:  44%|████▍     | 53/120 [00:14<00:19,  3.48it/s]\u001b[A\n",
            "Vailing:  45%|████▌     | 54/120 [00:14<00:18,  3.63it/s]\u001b[A\n",
            "Vailing:  46%|████▌     | 55/120 [00:14<00:17,  3.70it/s]\u001b[A\n",
            "Vailing:  47%|████▋     | 56/120 [00:15<00:16,  3.77it/s]\u001b[A\n",
            "Vailing:  48%|████▊     | 57/120 [00:15<00:16,  3.86it/s]\u001b[A\n",
            "Vailing:  48%|████▊     | 58/120 [00:15<00:15,  3.88it/s]\u001b[A\n",
            "Vailing:  49%|████▉     | 59/120 [00:15<00:15,  3.93it/s]\u001b[A\n",
            "Vailing:  50%|█████     | 60/120 [00:16<00:15,  3.96it/s]\u001b[A\n",
            "Vailing:  51%|█████     | 61/120 [00:16<00:15,  3.87it/s]\u001b[A\n",
            "Vailing:  52%|█████▏    | 62/120 [00:16<00:14,  3.88it/s]\u001b[A\n",
            "Vailing:  52%|█████▎    | 63/120 [00:16<00:14,  3.89it/s]\u001b[A\n",
            "Vailing:  53%|█████▎    | 64/120 [00:17<00:14,  3.94it/s]\u001b[A\n",
            "Vailing:  54%|█████▍    | 65/120 [00:17<00:14,  3.88it/s]\u001b[A\n",
            "Vailing:  55%|█████▌    | 66/120 [00:17<00:13,  3.92it/s]\u001b[A\n",
            "Vailing:  56%|█████▌    | 67/120 [00:17<00:13,  3.93it/s]\u001b[A\n",
            "Vailing:  57%|█████▋    | 68/120 [00:18<00:13,  3.95it/s]\u001b[A\n",
            "Vailing:  57%|█████▊    | 69/120 [00:18<00:13,  3.85it/s]\u001b[A\n",
            "Vailing:  58%|█████▊    | 70/120 [00:18<00:12,  3.87it/s]\u001b[A\n",
            "Vailing:  59%|█████▉    | 71/120 [00:18<00:12,  3.89it/s]\u001b[A\n",
            "Vailing:  60%|██████    | 72/120 [00:19<00:12,  3.93it/s]\u001b[A\n",
            "Vailing:  61%|██████    | 73/120 [00:19<00:12,  3.86it/s]\u001b[A\n",
            "Vailing:  62%|██████▏   | 74/120 [00:19<00:11,  3.93it/s]\u001b[A\n",
            "Vailing:  62%|██████▎   | 75/120 [00:19<00:11,  3.92it/s]\u001b[A\n",
            "Vailing:  63%|██████▎   | 76/120 [00:20<00:11,  3.95it/s]\u001b[A\n",
            "Vailing:  64%|██████▍   | 77/120 [00:20<00:11,  3.91it/s]\u001b[A\n",
            "Vailing:  65%|██████▌   | 78/120 [00:20<00:10,  3.95it/s]\u001b[A\n",
            "Vailing:  66%|██████▌   | 79/120 [00:20<00:10,  3.95it/s]\u001b[A\n",
            "Vailing:  67%|██████▋   | 80/120 [00:21<00:10,  3.95it/s]\u001b[A\n",
            "Vailing:  68%|██████▊   | 81/120 [00:21<00:09,  3.95it/s]\u001b[A\n",
            "Vailing:  68%|██████▊   | 82/120 [00:21<00:09,  3.97it/s]\u001b[A\n",
            "Vailing:  69%|██████▉   | 83/120 [00:21<00:09,  4.00it/s]\u001b[A\n",
            "Vailing:  70%|███████   | 84/120 [00:22<00:08,  4.00it/s]\u001b[A\n",
            "Vailing:  71%|███████   | 85/120 [00:22<00:08,  3.98it/s]\u001b[A\n",
            "Vailing:  72%|███████▏  | 86/120 [00:22<00:08,  3.99it/s]\u001b[A\n",
            "Vailing:  72%|███████▎  | 87/120 [00:22<00:08,  3.96it/s]\u001b[A\n",
            "Vailing:  73%|███████▎  | 88/120 [00:23<00:08,  3.93it/s]\u001b[A\n",
            "Vailing:  74%|███████▍  | 89/120 [00:23<00:07,  3.96it/s]\u001b[A\n",
            "Vailing:  75%|███████▌  | 90/120 [00:23<00:07,  3.98it/s]\u001b[A\n",
            "Vailing:  76%|███████▌  | 91/120 [00:23<00:07,  3.99it/s]\u001b[A\n",
            "Vailing:  77%|███████▋  | 92/120 [00:24<00:07,  3.98it/s]\u001b[A\n",
            "Vailing:  78%|███████▊  | 93/120 [00:24<00:07,  3.79it/s]\u001b[A\n",
            "Vailing:  78%|███████▊  | 94/120 [00:24<00:07,  3.67it/s]\u001b[A\n",
            "Vailing:  79%|███████▉  | 95/120 [00:25<00:06,  3.60it/s]\u001b[A\n",
            "Vailing:  80%|████████  | 96/120 [00:25<00:06,  3.49it/s]\u001b[A\n",
            "Vailing:  81%|████████  | 97/120 [00:25<00:06,  3.39it/s]\u001b[A\n",
            "Vailing:  82%|████████▏ | 98/120 [00:26<00:06,  3.37it/s]\u001b[A\n",
            "Vailing:  82%|████████▎ | 99/120 [00:26<00:06,  3.33it/s]\u001b[A\n",
            "Vailing:  83%|████████▎ | 100/120 [00:26<00:05,  3.38it/s]\u001b[A\n",
            "Vailing:  84%|████████▍ | 101/120 [00:26<00:05,  3.36it/s]\u001b[A\n",
            "Vailing:  85%|████████▌ | 102/120 [00:27<00:05,  3.40it/s]\u001b[A\n",
            "Vailing:  86%|████████▌ | 103/120 [00:27<00:04,  3.48it/s]\u001b[A\n",
            "Vailing:  87%|████████▋ | 104/120 [00:27<00:04,  3.60it/s]\u001b[A\n",
            "Vailing:  88%|████████▊ | 105/120 [00:28<00:04,  3.71it/s]\u001b[A\n",
            "Vailing:  88%|████████▊ | 106/120 [00:28<00:03,  3.75it/s]\u001b[A\n",
            "Vailing:  89%|████████▉ | 107/120 [00:28<00:03,  3.79it/s]\u001b[A\n",
            "Vailing:  90%|█████████ | 108/120 [00:28<00:03,  3.85it/s]\u001b[A\n",
            "Vailing:  91%|█████████ | 109/120 [00:29<00:02,  3.85it/s]\u001b[A\n",
            "Vailing:  92%|█████████▏| 110/120 [00:29<00:02,  3.85it/s]\u001b[A\n",
            "Vailing:  92%|█████████▎| 111/120 [00:29<00:02,  3.89it/s]\u001b[A\n",
            "Vailing:  93%|█████████▎| 112/120 [00:29<00:02,  3.88it/s]\u001b[A\n",
            "Vailing:  94%|█████████▍| 113/120 [00:30<00:01,  3.90it/s]\u001b[A\n",
            "Vailing:  95%|█████████▌| 114/120 [00:30<00:01,  3.90it/s]\u001b[A\n",
            "Vailing:  96%|█████████▌| 115/120 [00:30<00:01,  3.90it/s]\u001b[A\n",
            "Vailing:  97%|█████████▋| 116/120 [00:30<00:01,  3.93it/s]\u001b[A\n",
            "Vailing:  98%|█████████▊| 117/120 [00:31<00:00,  3.95it/s]\u001b[A\n",
            "Vailing:  98%|█████████▊| 118/120 [00:31<00:00,  3.96it/s]\u001b[A\n",
            "Vailing:  99%|█████████▉| 119/120 [00:31<00:00,  3.94it/s]\u001b[A\n",
            "Vailing: 100%|██████████| 120/120 [00:31<00:00,  3.78it/s]\n"
          ]
        },
        {
          "name": "stdout",
          "output_type": "stream",
          "text": [
            "验证集评估报告：\n",
            "               precision    recall  f1-score   support\n",
            "\n",
            "           0       0.59      0.68      0.63       700\n",
            "           1       0.63      0.86      0.72       701\n",
            "           2       0.88      0.90      0.89      3793\n",
            "           3       0.81      0.85      0.83      1574\n",
            "           4       0.91      0.87      0.89      1593\n",
            "           5       0.90      0.85      0.87      1940\n",
            "           6       0.87      0.75      0.81      1695\n",
            "           7       0.84      0.79      0.82      1002\n",
            "           8       0.88      0.85      0.87      2327\n",
            "\n",
            "    accuracy                           0.84     15325\n",
            "   macro avg       0.81      0.82      0.81     15325\n",
            "weighted avg       0.85      0.84      0.84     15325\n",
            "\n",
            "验证集的f1: 0.8137, accuracy:0.8424, precision:0.8114, recall:0.8223\n"
          ]
        },
        {
          "name": "stderr",
          "output_type": "stream",
          "text": [
            "\rtraining....:  96%|█████████▌| 2100/2193 [32:59<16:20, 10.54s/it]"
          ]
        },
        {
          "name": "stdout",
          "output_type": "stream",
          "text": [
            "保存模型成功, 当前f1分数: 0.8136611389243866\n"
          ]
        },
        {
          "name": "stderr",
          "output_type": "stream",
          "text": [
            "training....:  96%|█████████▌| 2110/2193 [33:05<01:14,  1.12it/s]"
          ]
        },
        {
          "name": "stdout",
          "output_type": "stream",
          "text": [
            "epoch:1,batch:2110,loss:0.6371,train_f1:0.8034,acc:0.8039\n"
          ]
        },
        {
          "name": "stderr",
          "output_type": "stream",
          "text": [
            "training....:  97%|█████████▋| 2120/2193 [33:11<00:45,  1.59it/s]"
          ]
        },
        {
          "name": "stdout",
          "output_type": "stream",
          "text": [
            "epoch:1,batch:2120,loss:0.6271,train_f1:0.7985,acc:0.8031\n"
          ]
        },
        {
          "name": "stderr",
          "output_type": "stream",
          "text": [
            "training....:  97%|█████████▋| 2130/2193 [33:17<00:39,  1.60it/s]"
          ]
        },
        {
          "name": "stdout",
          "output_type": "stream",
          "text": [
            "epoch:1,batch:2130,loss:0.6106,train_f1:0.8055,acc:0.8078\n"
          ]
        },
        {
          "name": "stderr",
          "output_type": "stream",
          "text": [
            "training....:  98%|█████████▊| 2140/2193 [33:23<00:32,  1.61it/s]"
          ]
        },
        {
          "name": "stdout",
          "output_type": "stream",
          "text": [
            "epoch:1,batch:2140,loss:0.6813,train_f1:0.7870,acc:0.7867\n"
          ]
        },
        {
          "name": "stderr",
          "output_type": "stream",
          "text": [
            "training....:  98%|█████████▊| 2150/2193 [33:30<00:26,  1.61it/s]"
          ]
        },
        {
          "name": "stdout",
          "output_type": "stream",
          "text": [
            "epoch:1,batch:2150,loss:0.6072,train_f1:0.8061,acc:0.8086\n"
          ]
        },
        {
          "name": "stderr",
          "output_type": "stream",
          "text": [
            "training....:  98%|█████████▊| 2160/2193 [33:36<00:20,  1.62it/s]"
          ]
        },
        {
          "name": "stdout",
          "output_type": "stream",
          "text": [
            "epoch:1,batch:2160,loss:0.6384,train_f1:0.8004,acc:0.8016\n"
          ]
        },
        {
          "name": "stderr",
          "output_type": "stream",
          "text": [
            "training....:  99%|█████████▉| 2170/2193 [33:42<00:14,  1.62it/s]"
          ]
        },
        {
          "name": "stdout",
          "output_type": "stream",
          "text": [
            "epoch:1,batch:2170,loss:0.6491,train_f1:0.7935,acc:0.7953\n"
          ]
        },
        {
          "name": "stderr",
          "output_type": "stream",
          "text": [
            "training....:  99%|█████████▉| 2180/2193 [33:48<00:08,  1.62it/s]"
          ]
        },
        {
          "name": "stdout",
          "output_type": "stream",
          "text": [
            "epoch:1,batch:2180,loss:0.6192,train_f1:0.8090,acc:0.8094\n"
          ]
        },
        {
          "name": "stderr",
          "output_type": "stream",
          "text": [
            "training....: 100%|█████████▉| 2190/2193 [33:54<00:01,  1.62it/s]"
          ]
        },
        {
          "name": "stdout",
          "output_type": "stream",
          "text": [
            "epoch:1,batch:2190,loss:0.6064,train_f1:0.8027,acc:0.8031\n"
          ]
        },
        {
          "name": "stderr",
          "output_type": "stream",
          "text": [
            "training....: 100%|██████████| 2193/2193 [33:56<00:00,  1.08it/s]\n",
            "training....:   0%|          | 10/2193 [00:06<22:18,  1.63it/s]"
          ]
        },
        {
          "name": "stdout",
          "output_type": "stream",
          "text": [
            "epoch:2,batch:10,loss:0.5722,train_f1:0.8170,acc:0.8195\n"
          ]
        },
        {
          "name": "stderr",
          "output_type": "stream",
          "text": [
            "training....:   1%|          | 20/2193 [00:12<22:15,  1.63it/s]"
          ]
        },
        {
          "name": "stdout",
          "output_type": "stream",
          "text": [
            "epoch:2,batch:20,loss:0.5319,train_f1:0.8388,acc:0.8414\n"
          ]
        },
        {
          "name": "stderr",
          "output_type": "stream",
          "text": [
            "training....:   1%|▏         | 30/2193 [00:18<22:08,  1.63it/s]"
          ]
        },
        {
          "name": "stdout",
          "output_type": "stream",
          "text": [
            "epoch:2,batch:30,loss:0.5301,train_f1:0.8379,acc:0.8398\n"
          ]
        },
        {
          "name": "stderr",
          "output_type": "stream",
          "text": [
            "training....:   2%|▏         | 40/2193 [00:24<22:05,  1.62it/s]"
          ]
        },
        {
          "name": "stdout",
          "output_type": "stream",
          "text": [
            "epoch:2,batch:40,loss:0.5392,train_f1:0.8261,acc:0.8281\n"
          ]
        },
        {
          "name": "stderr",
          "output_type": "stream",
          "text": [
            "training....:   2%|▏         | 50/2193 [00:30<21:56,  1.63it/s]"
          ]
        },
        {
          "name": "stdout",
          "output_type": "stream",
          "text": [
            "epoch:2,batch:50,loss:0.5286,train_f1:0.8352,acc:0.8352\n"
          ]
        },
        {
          "name": "stderr",
          "output_type": "stream",
          "text": [
            "training....:   3%|▎         | 60/2193 [00:36<21:53,  1.62it/s]"
          ]
        },
        {
          "name": "stdout",
          "output_type": "stream",
          "text": [
            "epoch:2,batch:60,loss:0.5926,train_f1:0.8137,acc:0.8164\n"
          ]
        },
        {
          "name": "stderr",
          "output_type": "stream",
          "text": [
            "training....:   3%|▎         | 70/2193 [00:42<21:47,  1.62it/s]"
          ]
        },
        {
          "name": "stdout",
          "output_type": "stream",
          "text": [
            "epoch:2,batch:70,loss:0.5382,train_f1:0.8439,acc:0.8453\n"
          ]
        },
        {
          "name": "stderr",
          "output_type": "stream",
          "text": [
            "training....:   4%|▎         | 80/2193 [00:49<21:41,  1.62it/s]"
          ]
        },
        {
          "name": "stdout",
          "output_type": "stream",
          "text": [
            "epoch:2,batch:80,loss:0.5718,train_f1:0.8266,acc:0.8281\n"
          ]
        },
        {
          "name": "stderr",
          "output_type": "stream",
          "text": [
            "training....:   4%|▍         | 90/2193 [00:55<21:39,  1.62it/s]"
          ]
        },
        {
          "name": "stdout",
          "output_type": "stream",
          "text": [
            "epoch:2,batch:90,loss:0.5200,train_f1:0.8321,acc:0.8344\n"
          ]
        },
        {
          "name": "stderr",
          "output_type": "stream",
          "text": [
            "training....:   5%|▍         | 99/2193 [01:00<21:28,  1.63it/s]"
          ]
        },
        {
          "name": "stdout",
          "output_type": "stream",
          "text": [
            "epoch:2,batch:100,loss:0.5945,train_f1:0.8087,acc:0.8117\n"
          ]
        },
        {
          "name": "stderr",
          "output_type": "stream",
          "text": [
            "\n",
            "Vailing:   0%|          | 0/120 [00:00<?, ?it/s]\u001b[A\n",
            "Vailing:   1%|          | 1/120 [00:00<01:09,  1.71it/s]\u001b[A\n",
            "Vailing:   2%|▏         | 2/120 [00:00<00:45,  2.57it/s]\u001b[A\n",
            "Vailing:   2%|▎         | 3/120 [00:01<00:38,  3.05it/s]\u001b[A\n",
            "Vailing:   3%|▎         | 4/120 [00:01<00:35,  3.30it/s]\u001b[A\n",
            "Vailing:   4%|▍         | 5/120 [00:01<00:33,  3.45it/s]\u001b[A\n",
            "Vailing:   5%|▌         | 6/120 [00:01<00:31,  3.59it/s]\u001b[A\n",
            "Vailing:   6%|▌         | 7/120 [00:02<00:30,  3.74it/s]\u001b[A\n",
            "Vailing:   7%|▋         | 8/120 [00:02<00:29,  3.76it/s]\u001b[A\n",
            "Vailing:   8%|▊         | 9/120 [00:02<00:29,  3.81it/s]\u001b[A\n",
            "Vailing:   8%|▊         | 10/120 [00:02<00:29,  3.73it/s]\u001b[A\n",
            "Vailing:   9%|▉         | 11/120 [00:03<00:30,  3.63it/s]\u001b[A\n",
            "Vailing:  10%|█         | 12/120 [00:03<00:30,  3.53it/s]\u001b[A\n",
            "Vailing:  11%|█         | 13/120 [00:03<00:30,  3.52it/s]\u001b[A\n",
            "Vailing:  12%|█▏        | 14/120 [00:04<00:30,  3.48it/s]\u001b[A\n",
            "Vailing:  12%|█▎        | 15/120 [00:04<00:30,  3.39it/s]\u001b[A\n",
            "Vailing:  13%|█▎        | 16/120 [00:04<00:30,  3.38it/s]\u001b[A\n",
            "Vailing:  14%|█▍        | 17/120 [00:04<00:30,  3.43it/s]\u001b[A\n",
            "Vailing:  15%|█▌        | 18/120 [00:05<00:29,  3.42it/s]\u001b[A\n",
            "Vailing:  16%|█▌        | 19/120 [00:05<00:29,  3.39it/s]\u001b[A\n",
            "Vailing:  17%|█▋        | 20/120 [00:05<00:28,  3.54it/s]\u001b[A\n",
            "Vailing:  18%|█▊        | 21/120 [00:06<00:26,  3.69it/s]\u001b[A\n",
            "Vailing:  18%|█▊        | 22/120 [00:06<00:25,  3.78it/s]\u001b[A\n",
            "Vailing:  19%|█▉        | 23/120 [00:06<00:25,  3.84it/s]\u001b[A\n",
            "Vailing:  20%|██        | 24/120 [00:06<00:24,  3.88it/s]\u001b[A\n",
            "Vailing:  21%|██        | 25/120 [00:07<00:24,  3.92it/s]\u001b[A\n",
            "Vailing:  22%|██▏       | 26/120 [00:07<00:23,  3.94it/s]\u001b[A\n",
            "Vailing:  22%|██▎       | 27/120 [00:07<00:23,  3.94it/s]\u001b[A\n",
            "Vailing:  23%|██▎       | 28/120 [00:07<00:23,  3.95it/s]\u001b[A\n",
            "Vailing:  24%|██▍       | 29/120 [00:08<00:23,  3.93it/s]\u001b[A\n",
            "Vailing:  25%|██▌       | 30/120 [00:08<00:22,  3.93it/s]\u001b[A\n",
            "Vailing:  26%|██▌       | 31/120 [00:08<00:22,  3.96it/s]\u001b[A\n",
            "Vailing:  27%|██▋       | 32/120 [00:08<00:22,  3.97it/s]\u001b[A\n",
            "Vailing:  28%|██▊       | 33/120 [00:09<00:21,  3.99it/s]\u001b[A\n",
            "Vailing:  28%|██▊       | 34/120 [00:09<00:21,  3.99it/s]\u001b[A\n",
            "Vailing:  29%|██▉       | 35/120 [00:09<00:21,  3.99it/s]\u001b[A\n",
            "Vailing:  30%|███       | 36/120 [00:09<00:21,  3.97it/s]\u001b[A\n",
            "Vailing:  31%|███       | 37/120 [00:10<00:20,  3.98it/s]\u001b[A\n",
            "Vailing:  32%|███▏      | 38/120 [00:10<00:20,  3.97it/s]\u001b[A\n",
            "Vailing:  32%|███▎      | 39/120 [00:10<00:20,  3.92it/s]\u001b[A\n",
            "Vailing:  33%|███▎      | 40/120 [00:10<00:20,  3.94it/s]\u001b[A\n",
            "Vailing:  34%|███▍      | 41/120 [00:11<00:20,  3.94it/s]\u001b[A\n",
            "Vailing:  35%|███▌      | 42/120 [00:11<00:19,  3.92it/s]\u001b[A\n",
            "Vailing:  36%|███▌      | 43/120 [00:11<00:19,  3.91it/s]\u001b[A\n",
            "Vailing:  37%|███▋      | 44/120 [00:11<00:19,  3.92it/s]\u001b[A\n",
            "Vailing:  38%|███▊      | 45/120 [00:12<00:19,  3.94it/s]\u001b[A\n",
            "Vailing:  38%|███▊      | 46/120 [00:12<00:18,  3.97it/s]\u001b[A\n",
            "Vailing:  39%|███▉      | 47/120 [00:12<00:18,  3.95it/s]\u001b[A\n",
            "Vailing:  40%|████      | 48/120 [00:12<00:18,  3.96it/s]\u001b[A\n",
            "Vailing:  41%|████      | 49/120 [00:13<00:18,  3.93it/s]\u001b[A\n",
            "Vailing:  42%|████▏     | 50/120 [00:13<00:17,  3.94it/s]\u001b[A\n",
            "Vailing:  42%|████▎     | 51/120 [00:13<00:17,  3.91it/s]\u001b[A\n",
            "Vailing:  43%|████▎     | 52/120 [00:13<00:17,  3.93it/s]\u001b[A\n",
            "Vailing:  44%|████▍     | 53/120 [00:14<00:17,  3.93it/s]\u001b[A\n",
            "Vailing:  45%|████▌     | 54/120 [00:14<00:16,  3.94it/s]\u001b[A\n",
            "Vailing:  46%|████▌     | 55/120 [00:14<00:16,  3.94it/s]\u001b[A\n",
            "Vailing:  47%|████▋     | 56/120 [00:14<00:16,  3.94it/s]\u001b[A\n",
            "Vailing:  48%|████▊     | 57/120 [00:15<00:16,  3.90it/s]\u001b[A\n",
            "Vailing:  48%|████▊     | 58/120 [00:15<00:15,  3.93it/s]\u001b[A\n",
            "Vailing:  49%|████▉     | 59/120 [00:15<00:15,  3.93it/s]\u001b[A\n",
            "Vailing:  50%|█████     | 60/120 [00:16<00:16,  3.73it/s]\u001b[A\n",
            "Vailing:  51%|█████     | 61/120 [00:16<00:16,  3.57it/s]\u001b[A\n",
            "Vailing:  52%|█████▏    | 62/120 [00:16<00:16,  3.51it/s]\u001b[A\n",
            "Vailing:  52%|█████▎    | 63/120 [00:16<00:16,  3.45it/s]\u001b[A\n",
            "Vailing:  53%|█████▎    | 64/120 [00:17<00:16,  3.42it/s]\u001b[A\n",
            "Vailing:  54%|█████▍    | 65/120 [00:17<00:15,  3.45it/s]\u001b[A\n",
            "Vailing:  55%|█████▌    | 66/120 [00:17<00:15,  3.48it/s]\u001b[A\n",
            "Vailing:  56%|█████▌    | 67/120 [00:18<00:15,  3.49it/s]\u001b[A\n",
            "Vailing:  57%|█████▋    | 68/120 [00:18<00:14,  3.47it/s]\u001b[A\n",
            "Vailing:  57%|█████▊    | 69/120 [00:18<00:14,  3.48it/s]\u001b[A\n",
            "Vailing:  58%|█████▊    | 70/120 [00:18<00:14,  3.52it/s]\u001b[A\n",
            "Vailing:  59%|█████▉    | 71/120 [00:19<00:13,  3.60it/s]\u001b[A\n",
            "Vailing:  60%|██████    | 72/120 [00:19<00:12,  3.72it/s]\u001b[A\n",
            "Vailing:  61%|██████    | 73/120 [00:19<00:12,  3.79it/s]\u001b[A\n",
            "Vailing:  62%|██████▏   | 74/120 [00:19<00:12,  3.83it/s]\u001b[A\n",
            "Vailing:  62%|██████▎   | 75/120 [00:20<00:11,  3.81it/s]\u001b[A\n",
            "Vailing:  63%|██████▎   | 76/120 [00:20<00:11,  3.83it/s]\u001b[A\n",
            "Vailing:  64%|██████▍   | 77/120 [00:20<00:11,  3.83it/s]\u001b[A\n",
            "Vailing:  65%|██████▌   | 78/120 [00:20<00:10,  3.89it/s]\u001b[A\n",
            "Vailing:  66%|██████▌   | 79/120 [00:21<00:10,  3.83it/s]\u001b[A\n",
            "Vailing:  67%|██████▋   | 80/120 [00:21<00:10,  3.87it/s]\u001b[A\n",
            "Vailing:  68%|██████▊   | 81/120 [00:21<00:09,  3.90it/s]\u001b[A\n",
            "Vailing:  68%|██████▊   | 82/120 [00:21<00:09,  3.90it/s]\u001b[A\n",
            "Vailing:  69%|██████▉   | 83/120 [00:22<00:09,  3.84it/s]\u001b[A\n",
            "Vailing:  70%|███████   | 84/120 [00:22<00:09,  3.88it/s]\u001b[A\n",
            "Vailing:  71%|███████   | 85/120 [00:22<00:08,  3.91it/s]\u001b[A\n",
            "Vailing:  72%|███████▏  | 86/120 [00:23<00:08,  3.94it/s]\u001b[A\n",
            "Vailing:  72%|███████▎  | 87/120 [00:23<00:08,  3.86it/s]\u001b[A\n",
            "Vailing:  73%|███████▎  | 88/120 [00:23<00:08,  3.89it/s]\u001b[A\n",
            "Vailing:  74%|███████▍  | 89/120 [00:23<00:07,  3.90it/s]\u001b[A\n",
            "Vailing:  75%|███████▌  | 90/120 [00:24<00:07,  3.89it/s]\u001b[A\n",
            "Vailing:  76%|███████▌  | 91/120 [00:24<00:07,  3.84it/s]\u001b[A\n",
            "Vailing:  77%|███████▋  | 92/120 [00:24<00:07,  3.87it/s]\u001b[A\n",
            "Vailing:  78%|███████▊  | 93/120 [00:24<00:06,  3.91it/s]\u001b[A\n",
            "Vailing:  78%|███████▊  | 94/120 [00:25<00:06,  3.95it/s]\u001b[A\n",
            "Vailing:  79%|███████▉  | 95/120 [00:25<00:06,  3.91it/s]\u001b[A\n",
            "Vailing:  80%|████████  | 96/120 [00:25<00:06,  3.92it/s]\u001b[A\n",
            "Vailing:  81%|████████  | 97/120 [00:25<00:05,  3.93it/s]\u001b[A\n",
            "Vailing:  82%|████████▏ | 98/120 [00:26<00:05,  3.95it/s]\u001b[A\n",
            "Vailing:  82%|████████▎ | 99/120 [00:26<00:05,  3.95it/s]\u001b[A\n",
            "Vailing:  83%|████████▎ | 100/120 [00:26<00:05,  3.97it/s]\u001b[A\n",
            "Vailing:  84%|████████▍ | 101/120 [00:26<00:04,  3.94it/s]\u001b[A\n",
            "Vailing:  85%|████████▌ | 102/120 [00:27<00:04,  3.95it/s]\u001b[A\n",
            "Vailing:  86%|████████▌ | 103/120 [00:27<00:04,  3.95it/s]\u001b[A\n",
            "Vailing:  87%|████████▋ | 104/120 [00:27<00:04,  3.96it/s]\u001b[A\n",
            "Vailing:  88%|████████▊ | 105/120 [00:27<00:03,  3.95it/s]\u001b[A\n",
            "Vailing:  88%|████████▊ | 106/120 [00:28<00:03,  3.96it/s]\u001b[A\n",
            "Vailing:  89%|████████▉ | 107/120 [00:28<00:03,  3.97it/s]\u001b[A\n",
            "Vailing:  90%|█████████ | 108/120 [00:28<00:03,  3.98it/s]\u001b[A\n",
            "Vailing:  91%|█████████ | 109/120 [00:28<00:02,  3.99it/s]\u001b[A\n",
            "Vailing:  92%|█████████▏| 110/120 [00:29<00:02,  3.84it/s]\u001b[A\n",
            "Vailing:  92%|█████████▎| 111/120 [00:29<00:02,  3.72it/s]\u001b[A\n",
            "Vailing:  93%|█████████▎| 112/120 [00:29<00:02,  3.69it/s]\u001b[A\n",
            "Vailing:  94%|█████████▍| 113/120 [00:29<00:01,  3.63it/s]\u001b[A\n",
            "Vailing:  95%|█████████▌| 114/120 [00:30<00:01,  3.55it/s]\u001b[A\n",
            "Vailing:  96%|█████████▌| 115/120 [00:30<00:01,  3.42it/s]\u001b[A\n",
            "Vailing:  97%|█████████▋| 116/120 [00:30<00:01,  3.40it/s]\u001b[A\n",
            "Vailing:  98%|█████████▊| 117/120 [00:31<00:00,  3.38it/s]\u001b[A\n",
            "Vailing:  98%|█████████▊| 118/120 [00:31<00:00,  3.41it/s]\u001b[A\n",
            "Vailing:  99%|█████████▉| 119/120 [00:31<00:00,  3.40it/s]\u001b[A\n",
            "Vailing: 100%|██████████| 120/120 [00:31<00:00,  3.75it/s]\n"
          ]
        },
        {
          "name": "stdout",
          "output_type": "stream",
          "text": [
            "验证集评估报告：\n",
            "               precision    recall  f1-score   support\n",
            "\n",
            "           0       0.55      0.75      0.64       700\n",
            "           1       0.66      0.88      0.76       701\n",
            "           2       0.93      0.87      0.89      3793\n",
            "           3       0.84      0.83      0.83      1574\n",
            "           4       0.87      0.89      0.88      1593\n",
            "           5       0.87      0.88      0.87      1940\n",
            "           6       0.82      0.78      0.80      1695\n",
            "           7       0.84      0.81      0.83      1002\n",
            "           8       0.90      0.83      0.86      2327\n",
            "\n",
            "    accuracy                           0.84     15325\n",
            "   macro avg       0.81      0.84      0.82     15325\n",
            "weighted avg       0.85      0.84      0.85     15325\n",
            "\n",
            "验证集的f1: 0.8184, accuracy:0.8438, precision:0.8085, recall:0.8357\n"
          ]
        },
        {
          "name": "stderr",
          "output_type": "stream",
          "text": [
            "\rtraining....:   5%|▍         | 100/2193 [01:34<6:10:13, 10.61s/it]"
          ]
        },
        {
          "name": "stdout",
          "output_type": "stream",
          "text": [
            "保存模型成功, 当前f1分数: 0.8183923659574748\n"
          ]
        },
        {
          "name": "stderr",
          "output_type": "stream",
          "text": [
            "training....:   5%|▌         | 110/2193 [01:40<31:03,  1.12it/s]"
          ]
        },
        {
          "name": "stdout",
          "output_type": "stream",
          "text": [
            "epoch:2,batch:110,loss:0.5720,train_f1:0.8215,acc:0.8211\n"
          ]
        },
        {
          "name": "stderr",
          "output_type": "stream",
          "text": [
            "training....:   5%|▌         | 120/2193 [01:46<21:33,  1.60it/s]"
          ]
        },
        {
          "name": "stdout",
          "output_type": "stream",
          "text": [
            "epoch:2,batch:120,loss:0.5681,train_f1:0.8110,acc:0.8125\n"
          ]
        },
        {
          "name": "stderr",
          "output_type": "stream",
          "text": [
            "training....:   6%|▌         | 130/2193 [01:52<21:17,  1.62it/s]"
          ]
        },
        {
          "name": "stdout",
          "output_type": "stream",
          "text": [
            "epoch:2,batch:130,loss:0.5365,train_f1:0.8211,acc:0.8234\n"
          ]
        },
        {
          "name": "stderr",
          "output_type": "stream",
          "text": [
            "training....:   6%|▋         | 140/2193 [01:59<21:29,  1.59it/s]"
          ]
        },
        {
          "name": "stdout",
          "output_type": "stream",
          "text": [
            "epoch:2,batch:140,loss:0.5364,train_f1:0.8238,acc:0.8258\n"
          ]
        },
        {
          "name": "stderr",
          "output_type": "stream",
          "text": [
            "training....:   7%|▋         | 150/2193 [02:05<21:06,  1.61it/s]"
          ]
        },
        {
          "name": "stdout",
          "output_type": "stream",
          "text": [
            "epoch:2,batch:150,loss:0.5512,train_f1:0.8259,acc:0.8281\n"
          ]
        },
        {
          "name": "stderr",
          "output_type": "stream",
          "text": [
            "training....:   7%|▋         | 160/2193 [02:11<21:10,  1.60it/s]"
          ]
        },
        {
          "name": "stdout",
          "output_type": "stream",
          "text": [
            "epoch:2,batch:160,loss:0.5672,train_f1:0.8332,acc:0.8328\n"
          ]
        },
        {
          "name": "stderr",
          "output_type": "stream",
          "text": [
            "training....:   8%|▊         | 170/2193 [02:17<20:47,  1.62it/s]"
          ]
        },
        {
          "name": "stdout",
          "output_type": "stream",
          "text": [
            "epoch:2,batch:170,loss:0.5859,train_f1:0.8125,acc:0.8125\n"
          ]
        },
        {
          "name": "stderr",
          "output_type": "stream",
          "text": [
            "training....:   8%|▊         | 180/2193 [02:23<20:46,  1.61it/s]"
          ]
        },
        {
          "name": "stdout",
          "output_type": "stream",
          "text": [
            "epoch:2,batch:180,loss:0.5414,train_f1:0.8259,acc:0.8289\n"
          ]
        },
        {
          "name": "stderr",
          "output_type": "stream",
          "text": [
            "training....:   9%|▊         | 190/2193 [02:29<20:33,  1.62it/s]"
          ]
        },
        {
          "name": "stdout",
          "output_type": "stream",
          "text": [
            "epoch:2,batch:190,loss:0.5624,train_f1:0.8257,acc:0.8281\n"
          ]
        },
        {
          "name": "stderr",
          "output_type": "stream",
          "text": [
            "training....:   9%|▉         | 199/2193 [02:35<20:29,  1.62it/s]"
          ]
        },
        {
          "name": "stdout",
          "output_type": "stream",
          "text": [
            "epoch:2,batch:200,loss:0.5601,train_f1:0.8067,acc:0.8109\n"
          ]
        },
        {
          "name": "stderr",
          "output_type": "stream",
          "text": [
            "\n",
            "Vailing:   0%|          | 0/120 [00:00<?, ?it/s]\u001b[A\n",
            "Vailing:   1%|          | 1/120 [00:00<01:08,  1.73it/s]\u001b[A\n",
            "Vailing:   2%|▏         | 2/120 [00:00<00:47,  2.48it/s]\u001b[A\n",
            "Vailing:   2%|▎         | 3/120 [00:01<00:41,  2.84it/s]\u001b[A\n",
            "Vailing:   3%|▎         | 4/120 [00:01<00:38,  3.00it/s]\u001b[A\n",
            "Vailing:   4%|▍         | 5/120 [00:01<00:36,  3.14it/s]\u001b[A\n",
            "Vailing:   5%|▌         | 6/120 [00:02<00:36,  3.13it/s]\u001b[A\n",
            "Vailing:   6%|▌         | 7/120 [00:02<00:35,  3.22it/s]\u001b[A\n",
            "Vailing:   7%|▋         | 8/120 [00:02<00:34,  3.27it/s]\u001b[A\n",
            "Vailing:   8%|▊         | 9/120 [00:02<00:33,  3.28it/s]\u001b[A\n",
            "Vailing:   8%|▊         | 10/120 [00:03<00:33,  3.30it/s]\u001b[A\n",
            "Vailing:   9%|▉         | 11/120 [00:03<00:31,  3.43it/s]\u001b[A\n",
            "Vailing:  10%|█         | 12/120 [00:03<00:30,  3.51it/s]\u001b[A\n",
            "Vailing:  11%|█         | 13/120 [00:04<00:29,  3.62it/s]\u001b[A\n",
            "Vailing:  12%|█▏        | 14/120 [00:04<00:28,  3.71it/s]\u001b[A\n",
            "Vailing:  12%|█▎        | 15/120 [00:04<00:27,  3.79it/s]\u001b[A\n",
            "Vailing:  13%|█▎        | 16/120 [00:04<00:27,  3.82it/s]\u001b[A\n",
            "Vailing:  14%|█▍        | 17/120 [00:05<00:26,  3.87it/s]\u001b[A\n",
            "Vailing:  15%|█▌        | 18/120 [00:05<00:26,  3.91it/s]\u001b[A\n",
            "Vailing:  16%|█▌        | 19/120 [00:05<00:25,  3.91it/s]\u001b[A\n",
            "Vailing:  17%|█▋        | 20/120 [00:05<00:25,  3.87it/s]\u001b[A\n",
            "Vailing:  18%|█▊        | 21/120 [00:06<00:25,  3.91it/s]\u001b[A\n",
            "Vailing:  18%|█▊        | 22/120 [00:06<00:24,  3.95it/s]\u001b[A\n",
            "Vailing:  19%|█▉        | 23/120 [00:06<00:24,  3.96it/s]\u001b[A\n",
            "Vailing:  20%|██        | 24/120 [00:06<00:24,  3.98it/s]\u001b[A\n",
            "Vailing:  21%|██        | 25/120 [00:07<00:23,  3.99it/s]\u001b[A\n",
            "Vailing:  22%|██▏       | 26/120 [00:07<00:23,  4.00it/s]\u001b[A\n",
            "Vailing:  22%|██▎       | 27/120 [00:07<00:23,  3.99it/s]\u001b[A\n",
            "Vailing:  23%|██▎       | 28/120 [00:07<00:23,  3.98it/s]\u001b[A\n",
            "Vailing:  24%|██▍       | 29/120 [00:08<00:22,  3.98it/s]\u001b[A\n",
            "Vailing:  25%|██▌       | 30/120 [00:08<00:22,  3.98it/s]\u001b[A\n",
            "Vailing:  26%|██▌       | 31/120 [00:08<00:22,  3.95it/s]\u001b[A\n",
            "Vailing:  27%|██▋       | 32/120 [00:08<00:22,  3.97it/s]\u001b[A\n",
            "Vailing:  28%|██▊       | 33/120 [00:09<00:21,  3.97it/s]\u001b[A\n",
            "Vailing:  28%|██▊       | 34/120 [00:09<00:21,  3.99it/s]\u001b[A\n",
            "Vailing:  29%|██▉       | 35/120 [00:09<00:21,  3.97it/s]\u001b[A\n",
            "Vailing:  30%|███       | 36/120 [00:09<00:21,  4.00it/s]\u001b[A\n",
            "Vailing:  31%|███       | 37/120 [00:10<00:20,  4.00it/s]\u001b[A\n",
            "Vailing:  32%|███▏      | 38/120 [00:10<00:20,  4.02it/s]\u001b[A\n",
            "Vailing:  32%|███▎      | 39/120 [00:10<00:20,  3.98it/s]\u001b[A\n",
            "Vailing:  33%|███▎      | 40/120 [00:10<00:20,  3.97it/s]\u001b[A\n",
            "Vailing:  34%|███▍      | 41/120 [00:11<00:19,  3.97it/s]\u001b[A\n",
            "Vailing:  35%|███▌      | 42/120 [00:11<00:19,  3.99it/s]\u001b[A\n",
            "Vailing:  36%|███▌      | 43/120 [00:11<00:19,  3.97it/s]\u001b[A\n",
            "Vailing:  37%|███▋      | 44/120 [00:11<00:19,  3.96it/s]\u001b[A\n",
            "Vailing:  38%|███▊      | 45/120 [00:12<00:18,  3.95it/s]\u001b[A\n",
            "Vailing:  38%|███▊      | 46/120 [00:12<00:18,  3.94it/s]\u001b[A\n",
            "Vailing:  39%|███▉      | 47/120 [00:12<00:18,  3.94it/s]\u001b[A\n",
            "Vailing:  40%|████      | 48/120 [00:12<00:18,  3.95it/s]\u001b[A\n",
            "Vailing:  41%|████      | 49/120 [00:13<00:18,  3.92it/s]\u001b[A\n",
            "Vailing:  42%|████▏     | 50/120 [00:13<00:18,  3.72it/s]\u001b[A\n",
            "Vailing:  42%|████▎     | 51/120 [00:13<00:19,  3.61it/s]\u001b[A\n",
            "Vailing:  43%|████▎     | 52/120 [00:14<00:19,  3.47it/s]\u001b[A\n",
            "Vailing:  44%|████▍     | 53/120 [00:14<00:19,  3.47it/s]\u001b[A\n",
            "Vailing:  45%|████▌     | 54/120 [00:14<00:19,  3.43it/s]\u001b[A\n",
            "Vailing:  46%|████▌     | 55/120 [00:14<00:18,  3.45it/s]\u001b[A\n",
            "Vailing:  47%|████▋     | 56/120 [00:15<00:18,  3.40it/s]\u001b[A\n",
            "Vailing:  48%|████▊     | 57/120 [00:15<00:18,  3.38it/s]\u001b[A\n",
            "Vailing:  48%|████▊     | 58/120 [00:15<00:18,  3.37it/s]\u001b[A\n",
            "Vailing:  49%|████▉     | 59/120 [00:16<00:18,  3.35it/s]\u001b[A\n",
            "Vailing:  50%|█████     | 60/120 [00:16<00:18,  3.33it/s]\u001b[A\n",
            "Vailing:  51%|█████     | 61/120 [00:16<00:16,  3.49it/s]\u001b[A\n",
            "Vailing:  52%|█████▏    | 62/120 [00:16<00:16,  3.62it/s]\u001b[A\n",
            "Vailing:  52%|█████▎    | 63/120 [00:17<00:15,  3.71it/s]\u001b[A\n",
            "Vailing:  53%|█████▎    | 64/120 [00:17<00:14,  3.78it/s]\u001b[A\n",
            "Vailing:  54%|█████▍    | 65/120 [00:17<00:14,  3.82it/s]\u001b[A\n",
            "Vailing:  55%|█████▌    | 66/120 [00:17<00:13,  3.88it/s]\u001b[A\n",
            "Vailing:  56%|█████▌    | 67/120 [00:18<00:13,  3.90it/s]\u001b[A\n",
            "Vailing:  57%|█████▋    | 68/120 [00:18<00:13,  3.90it/s]\u001b[A\n",
            "Vailing:  57%|█████▊    | 69/120 [00:18<00:13,  3.89it/s]\u001b[A\n",
            "Vailing:  58%|█████▊    | 70/120 [00:18<00:12,  3.90it/s]\u001b[A\n",
            "Vailing:  59%|█████▉    | 71/120 [00:19<00:12,  3.90it/s]\u001b[A\n",
            "Vailing:  60%|██████    | 72/120 [00:19<00:12,  3.93it/s]\u001b[A\n",
            "Vailing:  61%|██████    | 73/120 [00:19<00:11,  3.93it/s]\u001b[A\n",
            "Vailing:  62%|██████▏   | 74/120 [00:19<00:11,  3.94it/s]\u001b[A\n",
            "Vailing:  62%|██████▎   | 75/120 [00:20<00:11,  3.95it/s]\u001b[A\n",
            "Vailing:  63%|██████▎   | 76/120 [00:20<00:11,  3.95it/s]\u001b[A\n",
            "Vailing:  64%|██████▍   | 77/120 [00:20<00:10,  3.98it/s]\u001b[A\n",
            "Vailing:  65%|██████▌   | 78/120 [00:20<00:10,  3.94it/s]\u001b[A\n",
            "Vailing:  66%|██████▌   | 79/120 [00:21<00:10,  3.95it/s]\u001b[A\n",
            "Vailing:  67%|██████▋   | 80/120 [00:21<00:10,  3.87it/s]\u001b[A\n",
            "Vailing:  68%|██████▊   | 81/120 [00:21<00:10,  3.89it/s]\u001b[A\n",
            "Vailing:  68%|██████▊   | 82/120 [00:22<00:09,  3.83it/s]\u001b[A\n",
            "Vailing:  69%|██████▉   | 83/120 [00:22<00:09,  3.89it/s]\u001b[A\n",
            "Vailing:  70%|███████   | 84/120 [00:22<00:09,  3.85it/s]\u001b[A\n",
            "Vailing:  71%|███████   | 85/120 [00:22<00:09,  3.87it/s]\u001b[A\n",
            "Vailing:  72%|███████▏  | 86/120 [00:23<00:08,  3.91it/s]\u001b[A\n",
            "Vailing:  72%|███████▎  | 87/120 [00:23<00:08,  3.92it/s]\u001b[A\n",
            "Vailing:  73%|███████▎  | 88/120 [00:23<00:08,  3.86it/s]\u001b[A\n",
            "Vailing:  74%|███████▍  | 89/120 [00:23<00:07,  3.91it/s]\u001b[A\n",
            "Vailing:  75%|███████▌  | 90/120 [00:24<00:07,  3.90it/s]\u001b[A\n",
            "Vailing:  76%|███████▌  | 91/120 [00:24<00:07,  3.94it/s]\u001b[A\n",
            "Vailing:  77%|███████▋  | 92/120 [00:24<00:07,  3.82it/s]\u001b[A\n",
            "Vailing:  78%|███████▊  | 93/120 [00:24<00:06,  3.88it/s]\u001b[A\n",
            "Vailing:  78%|███████▊  | 94/120 [00:25<00:06,  3.87it/s]\u001b[A\n",
            "Vailing:  79%|███████▉  | 95/120 [00:25<00:06,  3.88it/s]\u001b[A\n",
            "Vailing:  80%|████████  | 96/120 [00:25<00:06,  3.81it/s]\u001b[A\n",
            "Vailing:  81%|████████  | 97/120 [00:25<00:05,  3.85it/s]\u001b[A\n",
            "Vailing:  82%|████████▏ | 98/120 [00:26<00:05,  3.88it/s]\u001b[A\n",
            "Vailing:  82%|████████▎ | 99/120 [00:26<00:05,  3.90it/s]\u001b[A\n",
            "Vailing:  83%|████████▎ | 100/120 [00:26<00:05,  3.69it/s]\u001b[A\n",
            "Vailing:  84%|████████▍ | 101/120 [00:27<00:05,  3.60it/s]\u001b[A\n",
            "Vailing:  85%|████████▌ | 102/120 [00:27<00:05,  3.54it/s]\u001b[A\n",
            "Vailing:  86%|████████▌ | 103/120 [00:27<00:04,  3.53it/s]\u001b[A\n",
            "Vailing:  87%|████████▋ | 104/120 [00:27<00:04,  3.48it/s]\u001b[A\n",
            "Vailing:  88%|████████▊ | 105/120 [00:28<00:04,  3.46it/s]\u001b[A\n",
            "Vailing:  88%|████████▊ | 106/120 [00:28<00:04,  3.49it/s]\u001b[A\n",
            "Vailing:  89%|████████▉ | 107/120 [00:28<00:03,  3.47it/s]\u001b[A\n",
            "Vailing:  90%|█████████ | 108/120 [00:29<00:03,  3.44it/s]\u001b[A\n",
            "Vailing:  91%|█████████ | 109/120 [00:29<00:03,  3.45it/s]\u001b[A\n",
            "Vailing:  92%|█████████▏| 110/120 [00:29<00:02,  3.53it/s]\u001b[A\n",
            "Vailing:  92%|█████████▎| 111/120 [00:29<00:02,  3.68it/s]\u001b[A\n",
            "Vailing:  93%|█████████▎| 112/120 [00:30<00:02,  3.78it/s]\u001b[A\n",
            "Vailing:  94%|█████████▍| 113/120 [00:30<00:01,  3.85it/s]\u001b[A\n",
            "Vailing:  95%|█████████▌| 114/120 [00:30<00:01,  3.86it/s]\u001b[A\n",
            "Vailing:  96%|█████████▌| 115/120 [00:30<00:01,  3.86it/s]\u001b[A\n",
            "Vailing:  97%|█████████▋| 116/120 [00:31<00:01,  3.88it/s]\u001b[A\n",
            "Vailing:  98%|█████████▊| 117/120 [00:31<00:00,  3.93it/s]\u001b[A\n",
            "Vailing:  98%|█████████▊| 118/120 [00:31<00:00,  3.94it/s]\u001b[A\n",
            "Vailing:  99%|█████████▉| 119/120 [00:31<00:00,  3.91it/s]\u001b[A\n",
            "Vailing: 100%|██████████| 120/120 [00:32<00:00,  3.74it/s]\n",
            "training....:   9%|▉         | 200/2193 [03:08<5:40:52, 10.26s/it]"
          ]
        },
        {
          "name": "stdout",
          "output_type": "stream",
          "text": [
            "验证集评估报告：\n",
            "               precision    recall  f1-score   support\n",
            "\n",
            "           0       0.61      0.72      0.66       700\n",
            "           1       0.64      0.88      0.74       701\n",
            "           2       0.92      0.88      0.90      3793\n",
            "           3       0.85      0.81      0.83      1574\n",
            "           4       0.86      0.90      0.88      1593\n",
            "           5       0.90      0.86      0.88      1940\n",
            "           6       0.83      0.78      0.81      1695\n",
            "           7       0.75      0.86      0.80      1002\n",
            "           8       0.91      0.83      0.87      2327\n",
            "\n",
            "    accuracy                           0.84     15325\n",
            "   macro avg       0.81      0.84      0.82     15325\n",
            "weighted avg       0.85      0.84      0.85     15325\n",
            "\n",
            "验证集的f1: 0.8172, accuracy:0.8447, precision:0.8062, recall:0.8354\n"
          ]
        },
        {
          "name": "stderr",
          "output_type": "stream",
          "text": [
            "training....:  10%|▉         | 210/2193 [03:14<29:19,  1.13it/s]"
          ]
        },
        {
          "name": "stdout",
          "output_type": "stream",
          "text": [
            "epoch:2,batch:210,loss:0.5581,train_f1:0.8368,acc:0.8359\n"
          ]
        },
        {
          "name": "stderr",
          "output_type": "stream",
          "text": [
            "training....:  10%|█         | 220/2193 [03:20<20:31,  1.60it/s]"
          ]
        },
        {
          "name": "stdout",
          "output_type": "stream",
          "text": [
            "epoch:2,batch:220,loss:0.6224,train_f1:0.8108,acc:0.8125\n"
          ]
        },
        {
          "name": "stderr",
          "output_type": "stream",
          "text": [
            "training....:  10%|█         | 230/2193 [03:26<20:12,  1.62it/s]"
          ]
        },
        {
          "name": "stdout",
          "output_type": "stream",
          "text": [
            "epoch:2,batch:230,loss:0.5059,train_f1:0.8322,acc:0.8352\n"
          ]
        },
        {
          "name": "stderr",
          "output_type": "stream",
          "text": [
            "training....:  11%|█         | 240/2193 [03:32<20:06,  1.62it/s]"
          ]
        },
        {
          "name": "stdout",
          "output_type": "stream",
          "text": [
            "epoch:2,batch:240,loss:0.5119,train_f1:0.8472,acc:0.8477\n"
          ]
        },
        {
          "name": "stderr",
          "output_type": "stream",
          "text": [
            "training....:  11%|█▏        | 250/2193 [03:38<20:02,  1.62it/s]"
          ]
        },
        {
          "name": "stdout",
          "output_type": "stream",
          "text": [
            "epoch:2,batch:250,loss:0.5549,train_f1:0.8187,acc:0.8187\n"
          ]
        },
        {
          "name": "stderr",
          "output_type": "stream",
          "text": [
            "training....:  12%|█▏        | 260/2193 [03:44<19:50,  1.62it/s]"
          ]
        },
        {
          "name": "stdout",
          "output_type": "stream",
          "text": [
            "epoch:2,batch:260,loss:0.5639,train_f1:0.8182,acc:0.8203\n"
          ]
        },
        {
          "name": "stderr",
          "output_type": "stream",
          "text": [
            "training....:  12%|█▏        | 270/2193 [03:51<19:47,  1.62it/s]"
          ]
        },
        {
          "name": "stdout",
          "output_type": "stream",
          "text": [
            "epoch:2,batch:270,loss:0.5642,train_f1:0.8055,acc:0.8063\n"
          ]
        },
        {
          "name": "stderr",
          "output_type": "stream",
          "text": [
            "training....:  13%|█▎        | 280/2193 [03:57<19:37,  1.62it/s]"
          ]
        },
        {
          "name": "stdout",
          "output_type": "stream",
          "text": [
            "epoch:2,batch:280,loss:0.6030,train_f1:0.8070,acc:0.8078\n"
          ]
        },
        {
          "name": "stderr",
          "output_type": "stream",
          "text": [
            "training....:  13%|█▎        | 290/2193 [04:03<19:31,  1.62it/s]"
          ]
        },
        {
          "name": "stdout",
          "output_type": "stream",
          "text": [
            "epoch:2,batch:290,loss:0.6162,train_f1:0.8070,acc:0.8109\n"
          ]
        },
        {
          "name": "stderr",
          "output_type": "stream",
          "text": [
            "training....:  14%|█▎        | 299/2193 [04:08<19:26,  1.62it/s]"
          ]
        },
        {
          "name": "stdout",
          "output_type": "stream",
          "text": [
            "epoch:2,batch:300,loss:0.5376,train_f1:0.8314,acc:0.8344\n"
          ]
        },
        {
          "name": "stderr",
          "output_type": "stream",
          "text": [
            "\n",
            "Vailing:   0%|          | 0/120 [00:00<?, ?it/s]\u001b[A\n",
            "Vailing:   1%|          | 1/120 [00:00<01:07,  1.76it/s]\u001b[A\n",
            "Vailing:   2%|▏         | 2/120 [00:00<00:44,  2.63it/s]\u001b[A\n",
            "Vailing:   2%|▎         | 3/120 [00:01<00:37,  3.11it/s]\u001b[A\n",
            "Vailing:   3%|▎         | 4/120 [00:01<00:34,  3.41it/s]\u001b[A\n",
            "Vailing:   4%|▍         | 5/120 [00:01<00:32,  3.55it/s]\u001b[A\n",
            "Vailing:   5%|▌         | 6/120 [00:01<00:30,  3.68it/s]\u001b[A\n",
            "Vailing:   6%|▌         | 7/120 [00:02<00:30,  3.76it/s]\u001b[A\n",
            "Vailing:   7%|▋         | 8/120 [00:02<00:29,  3.83it/s]\u001b[A\n",
            "Vailing:   8%|▊         | 9/120 [00:02<00:28,  3.88it/s]\u001b[A\n",
            "Vailing:   8%|▊         | 10/120 [00:02<00:28,  3.92it/s]\u001b[A\n",
            "Vailing:   9%|▉         | 11/120 [00:03<00:27,  3.93it/s]\u001b[A\n",
            "Vailing:  10%|█         | 12/120 [00:03<00:27,  3.94it/s]\u001b[A\n",
            "Vailing:  11%|█         | 13/120 [00:03<00:26,  3.97it/s]\u001b[A\n",
            "Vailing:  12%|█▏        | 14/120 [00:03<00:26,  3.98it/s]\u001b[A\n",
            "Vailing:  12%|█▎        | 15/120 [00:04<00:26,  3.98it/s]\u001b[A\n",
            "Vailing:  13%|█▎        | 16/120 [00:04<00:26,  3.97it/s]\u001b[A\n",
            "Vailing:  14%|█▍        | 17/120 [00:04<00:25,  3.97it/s]\u001b[A\n",
            "Vailing:  15%|█▌        | 18/120 [00:04<00:25,  3.95it/s]\u001b[A\n",
            "Vailing:  16%|█▌        | 19/120 [00:05<00:25,  3.96it/s]\u001b[A\n",
            "Vailing:  17%|█▋        | 20/120 [00:05<00:25,  3.98it/s]\u001b[A\n",
            "Vailing:  18%|█▊        | 21/120 [00:05<00:24,  3.96it/s]\u001b[A\n",
            "Vailing:  18%|█▊        | 22/120 [00:05<00:24,  3.94it/s]\u001b[A\n",
            "Vailing:  19%|█▉        | 23/120 [00:06<00:24,  3.94it/s]\u001b[A\n",
            "Vailing:  20%|██        | 24/120 [00:06<00:24,  3.95it/s]\u001b[A\n",
            "Vailing:  21%|██        | 25/120 [00:06<00:24,  3.94it/s]\u001b[A\n",
            "Vailing:  22%|██▏       | 26/120 [00:06<00:24,  3.90it/s]\u001b[A\n",
            "Vailing:  22%|██▎       | 27/120 [00:07<00:23,  3.90it/s]\u001b[A\n",
            "Vailing:  23%|██▎       | 28/120 [00:07<00:23,  3.90it/s]\u001b[A\n",
            "Vailing:  24%|██▍       | 29/120 [00:07<00:23,  3.91it/s]\u001b[A\n",
            "Vailing:  25%|██▌       | 30/120 [00:07<00:22,  3.95it/s]\u001b[A\n",
            "Vailing:  26%|██▌       | 31/120 [00:08<00:23,  3.84it/s]\u001b[A\n",
            "Vailing:  27%|██▋       | 32/120 [00:08<00:22,  3.86it/s]\u001b[A\n",
            "Vailing:  28%|██▊       | 33/120 [00:08<00:22,  3.91it/s]\u001b[A\n",
            "Vailing:  28%|██▊       | 34/120 [00:08<00:21,  3.95it/s]\u001b[A\n",
            "Vailing:  29%|██▉       | 35/120 [00:09<00:21,  3.88it/s]\u001b[A\n",
            "Vailing:  30%|███       | 36/120 [00:09<00:21,  3.90it/s]\u001b[A\n",
            "Vailing:  31%|███       | 37/120 [00:09<00:21,  3.89it/s]\u001b[A\n",
            "Vailing:  32%|███▏      | 38/120 [00:09<00:20,  3.91it/s]\u001b[A\n",
            "Vailing:  32%|███▎      | 39/120 [00:10<00:21,  3.85it/s]\u001b[A\n",
            "Vailing:  33%|███▎      | 40/120 [00:10<00:21,  3.64it/s]\u001b[A\n",
            "Vailing:  34%|███▍      | 41/120 [00:10<00:22,  3.52it/s]\u001b[A\n",
            "Vailing:  35%|███▌      | 42/120 [00:11<00:22,  3.50it/s]\u001b[A\n",
            "Vailing:  36%|███▌      | 43/120 [00:11<00:22,  3.48it/s]\u001b[A\n",
            "Vailing:  37%|███▋      | 44/120 [00:11<00:22,  3.44it/s]\u001b[A\n",
            "Vailing:  38%|███▊      | 45/120 [00:12<00:21,  3.41it/s]\u001b[A\n",
            "Vailing:  38%|███▊      | 46/120 [00:12<00:21,  3.39it/s]\u001b[A\n",
            "Vailing:  39%|███▉      | 47/120 [00:12<00:21,  3.43it/s]\u001b[A\n",
            "Vailing:  40%|████      | 48/120 [00:12<00:21,  3.42it/s]\u001b[A\n",
            "Vailing:  41%|████      | 49/120 [00:13<00:20,  3.42it/s]\u001b[A\n",
            "Vailing:  42%|████▏     | 50/120 [00:13<00:20,  3.47it/s]\u001b[A\n",
            "Vailing:  42%|████▎     | 51/120 [00:13<00:19,  3.60it/s]\u001b[A\n",
            "Vailing:  43%|████▎     | 52/120 [00:13<00:18,  3.71it/s]\u001b[A\n",
            "Vailing:  44%|████▍     | 53/120 [00:14<00:17,  3.78it/s]\u001b[A\n",
            "Vailing:  45%|████▌     | 54/120 [00:14<00:17,  3.74it/s]\u001b[A\n",
            "Vailing:  46%|████▌     | 55/120 [00:14<00:17,  3.79it/s]\u001b[A\n",
            "Vailing:  47%|████▋     | 56/120 [00:15<00:16,  3.84it/s]\u001b[A\n",
            "Vailing:  48%|████▊     | 57/120 [00:15<00:16,  3.86it/s]\u001b[A\n",
            "Vailing:  48%|████▊     | 58/120 [00:15<00:16,  3.81it/s]\u001b[A\n",
            "Vailing:  49%|████▉     | 59/120 [00:15<00:15,  3.86it/s]\u001b[A\n",
            "Vailing:  50%|█████     | 60/120 [00:16<00:15,  3.90it/s]\u001b[A\n",
            "Vailing:  51%|█████     | 61/120 [00:16<00:14,  3.94it/s]\u001b[A\n",
            "Vailing:  52%|█████▏    | 62/120 [00:16<00:14,  3.89it/s]\u001b[A\n",
            "Vailing:  52%|█████▎    | 63/120 [00:16<00:14,  3.92it/s]\u001b[A\n",
            "Vailing:  53%|█████▎    | 64/120 [00:17<00:14,  3.92it/s]\u001b[A\n",
            "Vailing:  54%|█████▍    | 65/120 [00:17<00:14,  3.92it/s]\u001b[A\n",
            "Vailing:  55%|█████▌    | 66/120 [00:17<00:13,  3.86it/s]\u001b[A\n",
            "Vailing:  56%|█████▌    | 67/120 [00:17<00:13,  3.90it/s]\u001b[A\n",
            "Vailing:  57%|█████▋    | 68/120 [00:18<00:13,  3.93it/s]\u001b[A\n",
            "Vailing:  57%|█████▊    | 69/120 [00:18<00:12,  3.95it/s]\u001b[A\n",
            "Vailing:  58%|█████▊    | 70/120 [00:18<00:12,  3.95it/s]\u001b[A\n",
            "Vailing:  59%|█████▉    | 71/120 [00:18<00:12,  3.94it/s]\u001b[A\n",
            "Vailing:  60%|██████    | 72/120 [00:19<00:12,  3.95it/s]\u001b[A\n",
            "Vailing:  61%|██████    | 73/120 [00:19<00:11,  3.95it/s]\u001b[A\n",
            "Vailing:  62%|██████▏   | 74/120 [00:19<00:11,  3.93it/s]\u001b[A\n",
            "Vailing:  62%|██████▎   | 75/120 [00:19<00:11,  3.94it/s]\u001b[A\n",
            "Vailing:  63%|██████▎   | 76/120 [00:20<00:11,  3.94it/s]\u001b[A\n",
            "Vailing:  64%|██████▍   | 77/120 [00:20<00:10,  3.95it/s]\u001b[A\n",
            "Vailing:  65%|██████▌   | 78/120 [00:20<00:10,  3.96it/s]\u001b[A\n",
            "Vailing:  66%|██████▌   | 79/120 [00:20<00:10,  3.96it/s]\u001b[A\n",
            "Vailing:  67%|██████▋   | 80/120 [00:21<00:10,  3.97it/s]\u001b[A\n",
            "Vailing:  68%|██████▊   | 81/120 [00:21<00:09,  3.95it/s]\u001b[A\n",
            "Vailing:  68%|██████▊   | 82/120 [00:21<00:09,  3.94it/s]\u001b[A\n",
            "Vailing:  69%|██████▉   | 83/120 [00:21<00:09,  3.95it/s]\u001b[A\n",
            "Vailing:  70%|███████   | 84/120 [00:22<00:09,  3.93it/s]\u001b[A\n",
            "Vailing:  71%|███████   | 85/120 [00:22<00:08,  3.93it/s]\u001b[A\n",
            "Vailing:  72%|███████▏  | 86/120 [00:22<00:08,  3.90it/s]\u001b[A\n",
            "Vailing:  72%|███████▎  | 87/120 [00:22<00:08,  3.92it/s]\u001b[A\n",
            "Vailing:  73%|███████▎  | 88/120 [00:23<00:08,  3.91it/s]\u001b[A\n",
            "Vailing:  74%|███████▍  | 89/120 [00:23<00:07,  3.92it/s]\u001b[A\n",
            "Vailing:  75%|███████▌  | 90/120 [00:23<00:07,  3.80it/s]\u001b[A\n",
            "Vailing:  76%|███████▌  | 91/120 [00:23<00:07,  3.71it/s]\u001b[A\n",
            "Vailing:  77%|███████▋  | 92/120 [00:24<00:07,  3.66it/s]\u001b[A\n",
            "Vailing:  78%|███████▊  | 93/120 [00:24<00:07,  3.57it/s]\u001b[A\n",
            "Vailing:  78%|███████▊  | 94/120 [00:24<00:07,  3.41it/s]\u001b[A\n",
            "Vailing:  79%|███████▉  | 95/120 [00:25<00:07,  3.42it/s]\u001b[A\n",
            "Vailing:  80%|████████  | 96/120 [00:25<00:07,  3.42it/s]\u001b[A\n",
            "Vailing:  81%|████████  | 97/120 [00:25<00:06,  3.42it/s]\u001b[A\n",
            "Vailing:  82%|████████▏ | 98/120 [00:26<00:06,  3.38it/s]\u001b[A\n",
            "Vailing:  82%|████████▎ | 99/120 [00:26<00:06,  3.34it/s]\u001b[A\n",
            "Vailing:  83%|████████▎ | 100/120 [00:26<00:05,  3.50it/s]\u001b[A\n",
            "Vailing:  84%|████████▍ | 101/120 [00:26<00:05,  3.63it/s]\u001b[A\n",
            "Vailing:  85%|████████▌ | 102/120 [00:27<00:04,  3.71it/s]\u001b[A\n",
            "Vailing:  86%|████████▌ | 103/120 [00:27<00:04,  3.81it/s]\u001b[A\n",
            "Vailing:  87%|████████▋ | 104/120 [00:27<00:04,  3.86it/s]\u001b[A\n",
            "Vailing:  88%|████████▊ | 105/120 [00:27<00:03,  3.91it/s]\u001b[A\n",
            "Vailing:  88%|████████▊ | 106/120 [00:28<00:03,  3.93it/s]\u001b[A\n",
            "Vailing:  89%|████████▉ | 107/120 [00:28<00:03,  3.95it/s]\u001b[A\n",
            "Vailing:  90%|█████████ | 108/120 [00:28<00:03,  3.95it/s]\u001b[A\n",
            "Vailing:  91%|█████████ | 109/120 [00:28<00:02,  3.94it/s]\u001b[A\n",
            "Vailing:  92%|█████████▏| 110/120 [00:29<00:02,  3.91it/s]\u001b[A\n",
            "Vailing:  92%|█████████▎| 111/120 [00:29<00:02,  3.95it/s]\u001b[A\n",
            "Vailing:  93%|█████████▎| 112/120 [00:29<00:02,  3.94it/s]\u001b[A\n",
            "Vailing:  94%|█████████▍| 113/120 [00:29<00:01,  3.93it/s]\u001b[A\n",
            "Vailing:  95%|█████████▌| 114/120 [00:30<00:01,  3.96it/s]\u001b[A\n",
            "Vailing:  96%|█████████▌| 115/120 [00:30<00:01,  3.97it/s]\u001b[A\n",
            "Vailing:  97%|█████████▋| 116/120 [00:30<00:01,  3.96it/s]\u001b[A\n",
            "Vailing:  98%|█████████▊| 117/120 [00:30<00:00,  3.99it/s]\u001b[A\n",
            "Vailing:  98%|█████████▊| 118/120 [00:31<00:00,  3.90it/s]\u001b[A\n",
            "Vailing:  99%|█████████▉| 119/120 [00:31<00:00,  3.91it/s]\u001b[A\n",
            "Vailing: 100%|██████████| 120/120 [00:31<00:00,  3.79it/s]\n"
          ]
        },
        {
          "name": "stdout",
          "output_type": "stream",
          "text": [
            "验证集评估报告：\n",
            "               precision    recall  f1-score   support\n",
            "\n",
            "           0       0.54      0.78      0.64       700\n",
            "           1       0.71      0.87      0.78       701\n",
            "           2       0.92      0.88      0.90      3793\n",
            "           3       0.83      0.84      0.83      1574\n",
            "           4       0.88      0.90      0.89      1593\n",
            "           5       0.87      0.88      0.87      1940\n",
            "           6       0.84      0.77      0.80      1695\n",
            "           7       0.82      0.81      0.81      1002\n",
            "           8       0.90      0.82      0.86      2327\n",
            "\n",
            "    accuracy                           0.85     15325\n",
            "   macro avg       0.81      0.84      0.82     15325\n",
            "weighted avg       0.86      0.85      0.85     15325\n",
            "\n",
            "验证集的f1: 0.8224, accuracy:0.8469, precision:0.8130, recall:0.8390\n"
          ]
        },
        {
          "name": "stderr",
          "output_type": "stream",
          "text": [
            "\rtraining....:  14%|█▎        | 300/2193 [04:44<5:49:11, 11.07s/it]"
          ]
        },
        {
          "name": "stdout",
          "output_type": "stream",
          "text": [
            "保存模型成功, 当前f1分数: 0.8223580498118871\n"
          ]
        },
        {
          "name": "stderr",
          "output_type": "stream",
          "text": [
            "training....:  14%|█▍        | 310/2193 [04:50<28:27,  1.10it/s]"
          ]
        },
        {
          "name": "stdout",
          "output_type": "stream",
          "text": [
            "epoch:2,batch:310,loss:0.5679,train_f1:0.8176,acc:0.8180\n"
          ]
        },
        {
          "name": "stderr",
          "output_type": "stream",
          "text": [
            "training....:  15%|█▍        | 320/2193 [04:56<19:36,  1.59it/s]"
          ]
        },
        {
          "name": "stdout",
          "output_type": "stream",
          "text": [
            "epoch:2,batch:320,loss:0.5674,train_f1:0.8207,acc:0.8234\n"
          ]
        },
        {
          "name": "stderr",
          "output_type": "stream",
          "text": [
            "training....:  15%|█▌        | 330/2193 [05:02<19:21,  1.60it/s]"
          ]
        },
        {
          "name": "stdout",
          "output_type": "stream",
          "text": [
            "epoch:2,batch:330,loss:0.5554,train_f1:0.8219,acc:0.8227\n"
          ]
        },
        {
          "name": "stderr",
          "output_type": "stream",
          "text": [
            "training....:  16%|█▌        | 340/2193 [05:08<19:10,  1.61it/s]"
          ]
        },
        {
          "name": "stdout",
          "output_type": "stream",
          "text": [
            "epoch:2,batch:340,loss:0.5486,train_f1:0.8290,acc:0.8281\n"
          ]
        },
        {
          "name": "stderr",
          "output_type": "stream",
          "text": [
            "training....:  16%|█▌        | 350/2193 [05:15<19:08,  1.61it/s]"
          ]
        },
        {
          "name": "stdout",
          "output_type": "stream",
          "text": [
            "epoch:2,batch:350,loss:0.5473,train_f1:0.8358,acc:0.8375\n"
          ]
        },
        {
          "name": "stderr",
          "output_type": "stream",
          "text": [
            "training....:  16%|█▋        | 360/2193 [05:21<18:54,  1.62it/s]"
          ]
        },
        {
          "name": "stdout",
          "output_type": "stream",
          "text": [
            "epoch:2,batch:360,loss:0.5242,train_f1:0.8385,acc:0.8383\n"
          ]
        },
        {
          "name": "stderr",
          "output_type": "stream",
          "text": [
            "training....:  17%|█▋        | 370/2193 [05:27<18:49,  1.61it/s]"
          ]
        },
        {
          "name": "stdout",
          "output_type": "stream",
          "text": [
            "epoch:2,batch:370,loss:0.5183,train_f1:0.8379,acc:0.8398\n"
          ]
        },
        {
          "name": "stderr",
          "output_type": "stream",
          "text": [
            "training....:  17%|█▋        | 380/2193 [05:33<18:38,  1.62it/s]"
          ]
        },
        {
          "name": "stdout",
          "output_type": "stream",
          "text": [
            "epoch:2,batch:380,loss:0.5558,train_f1:0.8212,acc:0.8250\n"
          ]
        },
        {
          "name": "stderr",
          "output_type": "stream",
          "text": [
            "training....:  18%|█▊        | 390/2193 [05:39<18:39,  1.61it/s]"
          ]
        },
        {
          "name": "stdout",
          "output_type": "stream",
          "text": [
            "epoch:2,batch:390,loss:0.4978,train_f1:0.8429,acc:0.8445\n"
          ]
        },
        {
          "name": "stderr",
          "output_type": "stream",
          "text": [
            "training....:  18%|█▊        | 399/2193 [05:45<18:21,  1.63it/s]"
          ]
        },
        {
          "name": "stdout",
          "output_type": "stream",
          "text": [
            "epoch:2,batch:400,loss:0.5430,train_f1:0.8355,acc:0.8406\n"
          ]
        },
        {
          "name": "stderr",
          "output_type": "stream",
          "text": [
            "\n",
            "Vailing:   0%|          | 0/120 [00:00<?, ?it/s]\u001b[A\n",
            "Vailing:   1%|          | 1/120 [00:00<01:08,  1.73it/s]\u001b[A\n",
            "Vailing:   2%|▏         | 2/120 [00:00<00:45,  2.59it/s]\u001b[A\n",
            "Vailing:   2%|▎         | 3/120 [00:01<00:38,  3.07it/s]\u001b[A\n",
            "Vailing:   3%|▎         | 4/120 [00:01<00:34,  3.39it/s]\u001b[A\n",
            "Vailing:   4%|▍         | 5/120 [00:01<00:32,  3.51it/s]\u001b[A\n",
            "Vailing:   5%|▌         | 6/120 [00:01<00:31,  3.64it/s]\u001b[A\n",
            "Vailing:   6%|▌         | 7/120 [00:02<00:30,  3.75it/s]\u001b[A\n",
            "Vailing:   7%|▋         | 8/120 [00:02<00:29,  3.83it/s]\u001b[A\n",
            "Vailing:   8%|▊         | 9/120 [00:02<00:29,  3.81it/s]\u001b[A\n",
            "Vailing:   8%|▊         | 10/120 [00:02<00:28,  3.84it/s]\u001b[A\n",
            "Vailing:   9%|▉         | 11/120 [00:03<00:28,  3.87it/s]\u001b[A\n",
            "Vailing:  10%|█         | 12/120 [00:03<00:27,  3.88it/s]\u001b[A\n",
            "Vailing:  11%|█         | 13/120 [00:03<00:28,  3.82it/s]\u001b[A\n",
            "Vailing:  12%|█▏        | 14/120 [00:03<00:27,  3.83it/s]\u001b[A\n",
            "Vailing:  12%|█▎        | 15/120 [00:04<00:27,  3.87it/s]\u001b[A\n",
            "Vailing:  13%|█▎        | 16/120 [00:04<00:26,  3.91it/s]\u001b[A\n",
            "Vailing:  14%|█▍        | 17/120 [00:04<00:26,  3.84it/s]\u001b[A\n",
            "Vailing:  15%|█▌        | 18/120 [00:04<00:26,  3.88it/s]\u001b[A\n",
            "Vailing:  16%|█▌        | 19/120 [00:05<00:25,  3.90it/s]\u001b[A\n",
            "Vailing:  17%|█▋        | 20/120 [00:05<00:25,  3.94it/s]\u001b[A\n",
            "Vailing:  18%|█▊        | 21/120 [00:05<00:25,  3.86it/s]\u001b[A\n",
            "Vailing:  18%|█▊        | 22/120 [00:06<00:26,  3.75it/s]\u001b[A\n",
            "Vailing:  19%|█▉        | 23/120 [00:06<00:26,  3.67it/s]\u001b[A\n",
            "Vailing:  20%|██        | 24/120 [00:06<00:26,  3.59it/s]\u001b[A\n",
            "Vailing:  21%|██        | 25/120 [00:06<00:27,  3.49it/s]\u001b[A\n",
            "Vailing:  22%|██▏       | 26/120 [00:07<00:27,  3.46it/s]\u001b[A\n",
            "Vailing:  22%|██▎       | 27/120 [00:07<00:27,  3.41it/s]\u001b[A\n",
            "Vailing:  23%|██▎       | 28/120 [00:07<00:27,  3.39it/s]\u001b[A\n",
            "Vailing:  24%|██▍       | 29/120 [00:08<00:26,  3.41it/s]\u001b[A\n",
            "Vailing:  25%|██▌       | 30/120 [00:08<00:26,  3.39it/s]\u001b[A\n",
            "Vailing:  26%|██▌       | 31/120 [00:08<00:26,  3.37it/s]\u001b[A\n",
            "Vailing:  27%|██▋       | 32/120 [00:08<00:24,  3.54it/s]\u001b[A\n",
            "Vailing:  28%|██▊       | 33/120 [00:09<00:23,  3.65it/s]\u001b[A\n",
            "Vailing:  28%|██▊       | 34/120 [00:09<00:23,  3.71it/s]\u001b[A\n",
            "Vailing:  29%|██▉       | 35/120 [00:09<00:22,  3.81it/s]\u001b[A\n",
            "Vailing:  30%|███       | 36/120 [00:09<00:21,  3.87it/s]\u001b[A\n",
            "Vailing:  31%|███       | 37/120 [00:10<00:21,  3.88it/s]\u001b[A\n",
            "Vailing:  32%|███▏      | 38/120 [00:10<00:21,  3.90it/s]\u001b[A\n",
            "Vailing:  32%|███▎      | 39/120 [00:10<00:20,  3.96it/s]\u001b[A\n",
            "Vailing:  33%|███▎      | 40/120 [00:10<00:20,  3.94it/s]\u001b[A\n",
            "Vailing:  34%|███▍      | 41/120 [00:11<00:20,  3.94it/s]\u001b[A\n",
            "Vailing:  35%|███▌      | 42/120 [00:11<00:19,  3.95it/s]\u001b[A\n",
            "Vailing:  36%|███▌      | 43/120 [00:11<00:19,  3.92it/s]\u001b[A\n",
            "Vailing:  37%|███▋      | 44/120 [00:11<00:19,  3.94it/s]\u001b[A\n",
            "Vailing:  38%|███▊      | 45/120 [00:12<00:19,  3.92it/s]\u001b[A\n",
            "Vailing:  38%|███▊      | 46/120 [00:12<00:18,  3.93it/s]\u001b[A\n",
            "Vailing:  39%|███▉      | 47/120 [00:12<00:18,  3.91it/s]\u001b[A\n",
            "Vailing:  40%|████      | 48/120 [00:12<00:18,  3.92it/s]\u001b[A\n",
            "Vailing:  41%|████      | 49/120 [00:13<00:18,  3.91it/s]\u001b[A\n",
            "Vailing:  42%|████▏     | 50/120 [00:13<00:17,  3.92it/s]\u001b[A\n",
            "Vailing:  42%|████▎     | 51/120 [00:13<00:17,  3.94it/s]\u001b[A\n",
            "Vailing:  43%|████▎     | 52/120 [00:13<00:17,  3.93it/s]\u001b[A\n",
            "Vailing:  44%|████▍     | 53/120 [00:14<00:16,  3.96it/s]\u001b[A\n",
            "Vailing:  45%|████▌     | 54/120 [00:14<00:16,  3.96it/s]\u001b[A\n",
            "Vailing:  46%|████▌     | 55/120 [00:14<00:16,  3.98it/s]\u001b[A\n",
            "Vailing:  47%|████▋     | 56/120 [00:14<00:16,  3.99it/s]\u001b[A\n",
            "Vailing:  48%|████▊     | 57/120 [00:15<00:15,  3.95it/s]\u001b[A\n",
            "Vailing:  48%|████▊     | 58/120 [00:15<00:15,  3.96it/s]\u001b[A\n",
            "Vailing:  49%|████▉     | 59/120 [00:15<00:15,  3.94it/s]\u001b[A\n",
            "Vailing:  50%|█████     | 60/120 [00:16<00:15,  3.96it/s]\u001b[A\n",
            "Vailing:  51%|█████     | 61/120 [00:16<00:15,  3.92it/s]\u001b[A\n",
            "Vailing:  52%|█████▏    | 62/120 [00:16<00:14,  3.93it/s]\u001b[A\n",
            "Vailing:  52%|█████▎    | 63/120 [00:16<00:14,  3.90it/s]\u001b[A\n",
            "Vailing:  53%|█████▎    | 64/120 [00:17<00:14,  3.93it/s]\u001b[A\n",
            "Vailing:  54%|█████▍    | 65/120 [00:17<00:14,  3.82it/s]\u001b[A\n",
            "Vailing:  55%|█████▌    | 66/120 [00:17<00:14,  3.84it/s]\u001b[A\n",
            "Vailing:  56%|█████▌    | 67/120 [00:17<00:13,  3.88it/s]\u001b[A\n",
            "Vailing:  57%|█████▋    | 68/120 [00:18<00:13,  3.90it/s]\u001b[A\n",
            "Vailing:  57%|█████▊    | 69/120 [00:18<00:13,  3.85it/s]\u001b[A\n",
            "Vailing:  58%|█████▊    | 70/120 [00:18<00:12,  3.89it/s]\u001b[A\n",
            "Vailing:  59%|█████▉    | 71/120 [00:18<00:13,  3.75it/s]\u001b[A\n",
            "Vailing:  60%|██████    | 72/120 [00:19<00:13,  3.68it/s]\u001b[A\n",
            "Vailing:  61%|██████    | 73/120 [00:19<00:13,  3.53it/s]\u001b[A\n",
            "Vailing:  62%|██████▏   | 74/120 [00:19<00:13,  3.50it/s]\u001b[A\n",
            "Vailing:  62%|██████▎   | 75/120 [00:20<00:12,  3.49it/s]\u001b[A\n",
            "Vailing:  63%|██████▎   | 76/120 [00:20<00:12,  3.44it/s]\u001b[A\n",
            "Vailing:  64%|██████▍   | 77/120 [00:20<00:12,  3.38it/s]\u001b[A\n",
            "Vailing:  65%|██████▌   | 78/120 [00:20<00:12,  3.40it/s]\u001b[A\n",
            "Vailing:  66%|██████▌   | 79/120 [00:21<00:12,  3.36it/s]\u001b[A\n",
            "Vailing:  67%|██████▋   | 80/120 [00:21<00:12,  3.28it/s]\u001b[A\n",
            "Vailing:  68%|██████▊   | 81/120 [00:21<00:11,  3.32it/s]\u001b[A\n",
            "Vailing:  68%|██████▊   | 82/120 [00:22<00:10,  3.50it/s]\u001b[A\n",
            "Vailing:  69%|██████▉   | 83/120 [00:22<00:10,  3.61it/s]\u001b[A\n",
            "Vailing:  70%|███████   | 84/120 [00:22<00:09,  3.63it/s]\u001b[A\n",
            "Vailing:  71%|███████   | 85/120 [00:22<00:09,  3.72it/s]\u001b[A\n",
            "Vailing:  72%|███████▏  | 86/120 [00:23<00:09,  3.75it/s]\u001b[A\n",
            "Vailing:  72%|███████▎  | 87/120 [00:23<00:08,  3.83it/s]\u001b[A\n",
            "Vailing:  73%|███████▎  | 88/120 [00:23<00:08,  3.80it/s]\u001b[A\n",
            "Vailing:  74%|███████▍  | 89/120 [00:23<00:08,  3.85it/s]\u001b[A\n",
            "Vailing:  75%|███████▌  | 90/120 [00:24<00:07,  3.87it/s]\u001b[A\n",
            "Vailing:  76%|███████▌  | 91/120 [00:24<00:07,  3.90it/s]\u001b[A\n",
            "Vailing:  77%|███████▋  | 92/120 [00:24<00:07,  3.83it/s]\u001b[A\n",
            "Vailing:  78%|███████▊  | 93/120 [00:24<00:06,  3.88it/s]\u001b[A\n",
            "Vailing:  78%|███████▊  | 94/120 [00:25<00:06,  3.88it/s]\u001b[A\n",
            "Vailing:  79%|███████▉  | 95/120 [00:25<00:06,  3.93it/s]\u001b[A\n",
            "Vailing:  80%|████████  | 96/120 [00:25<00:06,  3.85it/s]\u001b[A\n",
            "Vailing:  81%|████████  | 97/120 [00:25<00:05,  3.85it/s]\u001b[A\n",
            "Vailing:  82%|████████▏ | 98/120 [00:26<00:05,  3.88it/s]\u001b[A\n",
            "Vailing:  82%|████████▎ | 99/120 [00:26<00:05,  3.91it/s]\u001b[A\n",
            "Vailing:  83%|████████▎ | 100/120 [00:26<00:05,  3.85it/s]\u001b[A\n",
            "Vailing:  84%|████████▍ | 101/120 [00:27<00:04,  3.85it/s]\u001b[A\n",
            "Vailing:  85%|████████▌ | 102/120 [00:27<00:04,  3.87it/s]\u001b[A\n",
            "Vailing:  86%|████████▌ | 103/120 [00:27<00:04,  3.90it/s]\u001b[A\n",
            "Vailing:  87%|████████▋ | 104/120 [00:27<00:04,  3.78it/s]\u001b[A\n",
            "Vailing:  88%|████████▊ | 105/120 [00:28<00:03,  3.80it/s]\u001b[A\n",
            "Vailing:  88%|████████▊ | 106/120 [00:28<00:03,  3.83it/s]\u001b[A\n",
            "Vailing:  89%|████████▉ | 107/120 [00:28<00:03,  3.87it/s]\u001b[A\n",
            "Vailing:  90%|█████████ | 108/120 [00:28<00:03,  3.82it/s]\u001b[A\n",
            "Vailing:  91%|█████████ | 109/120 [00:29<00:02,  3.87it/s]\u001b[A\n",
            "Vailing:  92%|█████████▏| 110/120 [00:29<00:02,  3.88it/s]\u001b[A\n",
            "Vailing:  92%|█████████▎| 111/120 [00:29<00:02,  3.91it/s]\u001b[A\n",
            "Vailing:  93%|█████████▎| 112/120 [00:29<00:02,  3.85it/s]\u001b[A\n",
            "Vailing:  94%|█████████▍| 113/120 [00:30<00:01,  3.89it/s]\u001b[A\n",
            "Vailing:  95%|█████████▌| 114/120 [00:30<00:01,  3.91it/s]\u001b[A\n",
            "Vailing:  96%|█████████▌| 115/120 [00:30<00:01,  3.92it/s]\u001b[A\n",
            "Vailing:  97%|█████████▋| 116/120 [00:30<00:01,  3.89it/s]\u001b[A\n",
            "Vailing:  98%|█████████▊| 117/120 [00:31<00:00,  3.90it/s]\u001b[A\n",
            "Vailing:  98%|█████████▊| 118/120 [00:31<00:00,  3.92it/s]\u001b[A\n",
            "Vailing:  99%|█████████▉| 119/120 [00:31<00:00,  3.92it/s]\u001b[A\n",
            "Vailing: 100%|██████████| 120/120 [00:31<00:00,  3.76it/s]\n",
            "training....:  18%|█▊        | 400/2193 [06:17<5:05:36, 10.23s/it]"
          ]
        },
        {
          "name": "stdout",
          "output_type": "stream",
          "text": [
            "验证集评估报告：\n",
            "               precision    recall  f1-score   support\n",
            "\n",
            "           0       0.56      0.77      0.65       700\n",
            "           1       0.63      0.90      0.74       701\n",
            "           2       0.91      0.88      0.89      3793\n",
            "           3       0.85      0.83      0.84      1574\n",
            "           4       0.89      0.89      0.89      1593\n",
            "           5       0.91      0.84      0.88      1940\n",
            "           6       0.84      0.79      0.81      1695\n",
            "           7       0.82      0.82      0.82      1002\n",
            "           8       0.90      0.84      0.87      2327\n",
            "\n",
            "    accuracy                           0.85     15325\n",
            "   macro avg       0.81      0.84      0.82     15325\n",
            "weighted avg       0.86      0.85      0.85     15325\n",
            "\n",
            "验证集的f1: 0.8204, accuracy:0.8461, precision:0.8116, recall:0.8389\n"
          ]
        },
        {
          "name": "stderr",
          "output_type": "stream",
          "text": [
            "training....:  19%|█▊        | 410/2193 [06:23<26:17,  1.13it/s]"
          ]
        },
        {
          "name": "stdout",
          "output_type": "stream",
          "text": [
            "epoch:2,batch:410,loss:0.6024,train_f1:0.8100,acc:0.8109\n"
          ]
        },
        {
          "name": "stderr",
          "output_type": "stream",
          "text": [
            "training....:  19%|█▉        | 420/2193 [06:29<18:29,  1.60it/s]"
          ]
        },
        {
          "name": "stdout",
          "output_type": "stream",
          "text": [
            "epoch:2,batch:420,loss:0.5484,train_f1:0.8242,acc:0.8242\n"
          ]
        },
        {
          "name": "stderr",
          "output_type": "stream",
          "text": [
            "training....:  20%|█▉        | 430/2193 [06:36<18:08,  1.62it/s]"
          ]
        },
        {
          "name": "stdout",
          "output_type": "stream",
          "text": [
            "epoch:2,batch:430,loss:0.5028,train_f1:0.8457,acc:0.8477\n"
          ]
        },
        {
          "name": "stderr",
          "output_type": "stream",
          "text": [
            "training....:  20%|██        | 440/2193 [06:42<18:05,  1.62it/s]"
          ]
        },
        {
          "name": "stdout",
          "output_type": "stream",
          "text": [
            "epoch:2,batch:440,loss:0.4973,train_f1:0.8369,acc:0.8414\n"
          ]
        },
        {
          "name": "stderr",
          "output_type": "stream",
          "text": [
            "training....:  21%|██        | 450/2193 [06:48<17:56,  1.62it/s]"
          ]
        },
        {
          "name": "stdout",
          "output_type": "stream",
          "text": [
            "epoch:2,batch:450,loss:0.5246,train_f1:0.8351,acc:0.8336\n"
          ]
        },
        {
          "name": "stderr",
          "output_type": "stream",
          "text": [
            "training....:  21%|██        | 460/2193 [06:54<17:48,  1.62it/s]"
          ]
        },
        {
          "name": "stdout",
          "output_type": "stream",
          "text": [
            "epoch:2,batch:460,loss:0.5892,train_f1:0.8133,acc:0.8133\n"
          ]
        },
        {
          "name": "stderr",
          "output_type": "stream",
          "text": [
            "training....:  21%|██▏       | 470/2193 [07:00<17:40,  1.62it/s]"
          ]
        },
        {
          "name": "stdout",
          "output_type": "stream",
          "text": [
            "epoch:2,batch:470,loss:0.5741,train_f1:0.8182,acc:0.8195\n"
          ]
        },
        {
          "name": "stderr",
          "output_type": "stream",
          "text": [
            "training....:  22%|██▏       | 480/2193 [07:06<17:34,  1.62it/s]"
          ]
        },
        {
          "name": "stdout",
          "output_type": "stream",
          "text": [
            "epoch:2,batch:480,loss:0.5123,train_f1:0.8379,acc:0.8406\n"
          ]
        },
        {
          "name": "stderr",
          "output_type": "stream",
          "text": [
            "training....:  22%|██▏       | 490/2193 [07:13<17:28,  1.62it/s]"
          ]
        },
        {
          "name": "stdout",
          "output_type": "stream",
          "text": [
            "epoch:2,batch:490,loss:0.5571,train_f1:0.8210,acc:0.8234\n"
          ]
        },
        {
          "name": "stderr",
          "output_type": "stream",
          "text": [
            "training....:  23%|██▎       | 499/2193 [07:18<17:21,  1.63it/s]"
          ]
        },
        {
          "name": "stdout",
          "output_type": "stream",
          "text": [
            "epoch:2,batch:500,loss:0.6379,train_f1:0.8007,acc:0.8016\n"
          ]
        },
        {
          "name": "stderr",
          "output_type": "stream",
          "text": [
            "\n",
            "Vailing:   0%|          | 0/120 [00:00<?, ?it/s]\u001b[A\n",
            "Vailing:   1%|          | 1/120 [00:00<01:09,  1.71it/s]\u001b[A\n",
            "Vailing:   2%|▏         | 2/120 [00:00<00:45,  2.57it/s]\u001b[A\n",
            "Vailing:   2%|▎         | 3/120 [00:01<00:38,  3.04it/s]\u001b[A\n",
            "Vailing:   3%|▎         | 4/120 [00:01<00:34,  3.34it/s]\u001b[A\n",
            "Vailing:   4%|▍         | 5/120 [00:01<00:32,  3.57it/s]\u001b[A\n",
            "Vailing:   5%|▌         | 6/120 [00:01<00:30,  3.68it/s]\u001b[A\n",
            "Vailing:   6%|▌         | 7/120 [00:02<00:29,  3.78it/s]\u001b[A\n",
            "Vailing:   7%|▋         | 8/120 [00:02<00:29,  3.82it/s]\u001b[A\n",
            "Vailing:   8%|▊         | 9/120 [00:02<00:28,  3.85it/s]\u001b[A\n",
            "Vailing:   8%|▊         | 10/120 [00:02<00:30,  3.66it/s]\u001b[A\n",
            "Vailing:   9%|▉         | 11/120 [00:03<00:30,  3.57it/s]\u001b[A\n",
            "Vailing:  10%|█         | 12/120 [00:03<00:30,  3.54it/s]\u001b[A\n",
            "Vailing:  11%|█         | 13/120 [00:03<00:30,  3.50it/s]\u001b[A\n",
            "Vailing:  12%|█▏        | 14/120 [00:04<00:30,  3.48it/s]\u001b[A\n",
            "Vailing:  12%|█▎        | 15/120 [00:04<00:30,  3.44it/s]\u001b[A\n",
            "Vailing:  13%|█▎        | 16/120 [00:04<00:30,  3.44it/s]\u001b[A\n",
            "Vailing:  14%|█▍        | 17/120 [00:04<00:29,  3.47it/s]\u001b[A\n",
            "Vailing:  15%|█▌        | 18/120 [00:05<00:29,  3.46it/s]\u001b[A\n",
            "Vailing:  16%|█▌        | 19/120 [00:05<00:29,  3.45it/s]\u001b[A\n",
            "Vailing:  17%|█▋        | 20/120 [00:05<00:28,  3.57it/s]\u001b[A\n",
            "Vailing:  18%|█▊        | 21/120 [00:06<00:26,  3.70it/s]\u001b[A\n",
            "Vailing:  18%|█▊        | 22/120 [00:06<00:25,  3.80it/s]\u001b[A\n",
            "Vailing:  19%|█▉        | 23/120 [00:06<00:25,  3.86it/s]\u001b[A\n",
            "Vailing:  20%|██        | 24/120 [00:06<00:24,  3.88it/s]\u001b[A\n",
            "Vailing:  21%|██        | 25/120 [00:07<00:24,  3.91it/s]\u001b[A\n",
            "Vailing:  22%|██▏       | 26/120 [00:07<00:23,  3.97it/s]\u001b[A\n",
            "Vailing:  22%|██▎       | 27/120 [00:07<00:23,  3.96it/s]\u001b[A\n",
            "Vailing:  23%|██▎       | 28/120 [00:07<00:23,  3.96it/s]\u001b[A\n",
            "Vailing:  24%|██▍       | 29/120 [00:08<00:22,  3.97it/s]\u001b[A\n",
            "Vailing:  25%|██▌       | 30/120 [00:08<00:22,  3.98it/s]\u001b[A\n",
            "Vailing:  26%|██▌       | 31/120 [00:08<00:22,  4.01it/s]\u001b[A\n",
            "Vailing:  27%|██▋       | 32/120 [00:08<00:22,  3.99it/s]\u001b[A\n",
            "Vailing:  28%|██▊       | 33/120 [00:09<00:21,  3.98it/s]\u001b[A\n",
            "Vailing:  28%|██▊       | 34/120 [00:09<00:21,  3.98it/s]\u001b[A\n",
            "Vailing:  29%|██▉       | 35/120 [00:09<00:21,  3.96it/s]\u001b[A\n",
            "Vailing:  30%|███       | 36/120 [00:09<00:21,  3.92it/s]\u001b[A\n",
            "Vailing:  31%|███       | 37/120 [00:10<00:21,  3.79it/s]\u001b[A\n",
            "Vailing:  32%|███▏      | 38/120 [00:10<00:21,  3.83it/s]\u001b[A\n",
            "Vailing:  32%|███▎      | 39/120 [00:10<00:21,  3.80it/s]\u001b[A\n",
            "Vailing:  33%|███▎      | 40/120 [00:10<00:20,  3.86it/s]\u001b[A\n",
            "Vailing:  34%|███▍      | 41/120 [00:11<00:20,  3.88it/s]\u001b[A\n",
            "Vailing:  35%|███▌      | 42/120 [00:11<00:19,  3.91it/s]\u001b[A\n",
            "Vailing:  36%|███▌      | 43/120 [00:11<00:19,  3.92it/s]\u001b[A\n",
            "Vailing:  37%|███▋      | 44/120 [00:11<00:19,  3.95it/s]\u001b[A\n",
            "Vailing:  38%|███▊      | 45/120 [00:12<00:18,  3.95it/s]\u001b[A\n",
            "Vailing:  38%|███▊      | 46/120 [00:12<00:18,  3.93it/s]\u001b[A\n",
            "Vailing:  39%|███▉      | 47/120 [00:12<00:18,  3.94it/s]\u001b[A\n",
            "Vailing:  40%|████      | 48/120 [00:12<00:18,  3.94it/s]\u001b[A\n",
            "Vailing:  41%|████      | 49/120 [00:13<00:18,  3.92it/s]\u001b[A\n",
            "Vailing:  42%|████▏     | 50/120 [00:13<00:17,  3.94it/s]\u001b[A\n",
            "Vailing:  42%|████▎     | 51/120 [00:13<00:17,  3.94it/s]\u001b[A\n",
            "Vailing:  43%|████▎     | 52/120 [00:13<00:17,  3.95it/s]\u001b[A\n",
            "Vailing:  44%|████▍     | 53/120 [00:14<00:17,  3.94it/s]\u001b[A\n",
            "Vailing:  45%|████▌     | 54/120 [00:14<00:16,  3.94it/s]\u001b[A\n",
            "Vailing:  46%|████▌     | 55/120 [00:14<00:16,  3.95it/s]\u001b[A\n",
            "Vailing:  47%|████▋     | 56/120 [00:14<00:16,  3.97it/s]\u001b[A\n",
            "Vailing:  48%|████▊     | 57/120 [00:15<00:15,  3.97it/s]\u001b[A\n",
            "Vailing:  48%|████▊     | 58/120 [00:15<00:15,  3.90it/s]\u001b[A\n",
            "Vailing:  49%|████▉     | 59/120 [00:15<00:15,  3.95it/s]\u001b[A\n",
            "Vailing:  50%|█████     | 60/120 [00:16<00:16,  3.65it/s]\u001b[A\n",
            "Vailing:  51%|█████     | 61/120 [00:16<00:16,  3.52it/s]\u001b[A\n",
            "Vailing:  52%|█████▏    | 62/120 [00:16<00:16,  3.50it/s]\u001b[A\n",
            "Vailing:  52%|█████▎    | 63/120 [00:16<00:16,  3.47it/s]\u001b[A\n",
            "Vailing:  53%|█████▎    | 64/120 [00:17<00:16,  3.47it/s]\u001b[A\n",
            "Vailing:  54%|█████▍    | 65/120 [00:17<00:15,  3.45it/s]\u001b[A\n",
            "Vailing:  55%|█████▌    | 66/120 [00:17<00:15,  3.46it/s]\u001b[A\n",
            "Vailing:  56%|█████▌    | 67/120 [00:18<00:15,  3.47it/s]\u001b[A\n",
            "Vailing:  57%|█████▋    | 68/120 [00:18<00:14,  3.48it/s]\u001b[A\n",
            "Vailing:  57%|█████▊    | 69/120 [00:18<00:15,  3.35it/s]\u001b[A\n",
            "Vailing:  58%|█████▊    | 70/120 [00:18<00:14,  3.54it/s]\u001b[A\n",
            "Vailing:  59%|█████▉    | 71/120 [00:19<00:13,  3.67it/s]\u001b[A\n",
            "Vailing:  60%|██████    | 72/120 [00:19<00:12,  3.77it/s]\u001b[A\n",
            "Vailing:  61%|██████    | 73/120 [00:19<00:12,  3.73it/s]\u001b[A\n",
            "Vailing:  62%|██████▏   | 74/120 [00:19<00:12,  3.80it/s]\u001b[A\n",
            "Vailing:  62%|██████▎   | 75/120 [00:20<00:11,  3.85it/s]\u001b[A\n",
            "Vailing:  63%|██████▎   | 76/120 [00:20<00:11,  3.88it/s]\u001b[A\n",
            "Vailing:  64%|██████▍   | 77/120 [00:20<00:11,  3.84it/s]\u001b[A\n",
            "Vailing:  65%|██████▌   | 78/120 [00:20<00:10,  3.86it/s]\u001b[A\n",
            "Vailing:  66%|██████▌   | 79/120 [00:21<00:10,  3.91it/s]\u001b[A\n",
            "Vailing:  67%|██████▋   | 80/120 [00:21<00:10,  3.94it/s]\u001b[A\n",
            "Vailing:  68%|██████▊   | 81/120 [00:21<00:10,  3.87it/s]\u001b[A\n",
            "Vailing:  68%|██████▊   | 82/120 [00:21<00:09,  3.91it/s]\u001b[A\n",
            "Vailing:  69%|██████▉   | 83/120 [00:22<00:09,  3.93it/s]\u001b[A\n",
            "Vailing:  70%|███████   | 84/120 [00:22<00:09,  3.96it/s]\u001b[A\n",
            "Vailing:  71%|███████   | 85/120 [00:22<00:08,  3.94it/s]\u001b[A\n",
            "Vailing:  72%|███████▏  | 86/120 [00:22<00:08,  3.93it/s]\u001b[A\n",
            "Vailing:  72%|███████▎  | 87/120 [00:23<00:08,  3.95it/s]\u001b[A\n",
            "Vailing:  73%|███████▎  | 88/120 [00:23<00:08,  3.95it/s]\u001b[A\n",
            "Vailing:  74%|███████▍  | 89/120 [00:23<00:07,  3.95it/s]\u001b[A\n",
            "Vailing:  75%|███████▌  | 90/120 [00:23<00:07,  3.97it/s]\u001b[A\n",
            "Vailing:  76%|███████▌  | 91/120 [00:24<00:07,  3.98it/s]\u001b[A\n",
            "Vailing:  77%|███████▋  | 92/120 [00:24<00:07,  3.98it/s]\u001b[A\n",
            "Vailing:  78%|███████▊  | 93/120 [00:24<00:06,  3.99it/s]\u001b[A\n",
            "Vailing:  78%|███████▊  | 94/120 [00:24<00:06,  3.99it/s]\u001b[A\n",
            "Vailing:  79%|███████▉  | 95/120 [00:25<00:06,  3.99it/s]\u001b[A\n",
            "Vailing:  80%|████████  | 96/120 [00:25<00:05,  4.01it/s]\u001b[A\n",
            "Vailing:  81%|████████  | 97/120 [00:25<00:05,  4.01it/s]\u001b[A\n",
            "Vailing:  82%|████████▏ | 98/120 [00:25<00:05,  3.97it/s]\u001b[A\n",
            "Vailing:  82%|████████▎ | 99/120 [00:26<00:05,  3.98it/s]\u001b[A\n",
            "Vailing:  83%|████████▎ | 100/120 [00:26<00:05,  3.98it/s]\u001b[A\n",
            "Vailing:  84%|████████▍ | 101/120 [00:26<00:04,  3.99it/s]\u001b[A\n",
            "Vailing:  85%|████████▌ | 102/120 [00:26<00:04,  3.98it/s]\u001b[A\n",
            "Vailing:  86%|████████▌ | 103/120 [00:27<00:04,  3.98it/s]\u001b[A\n",
            "Vailing:  87%|████████▋ | 104/120 [00:27<00:04,  4.00it/s]\u001b[A\n",
            "Vailing:  88%|████████▊ | 105/120 [00:27<00:03,  4.00it/s]\u001b[A\n",
            "Vailing:  88%|████████▊ | 106/120 [00:28<00:03,  3.97it/s]\u001b[A\n",
            "Vailing:  89%|████████▉ | 107/120 [00:28<00:03,  3.97it/s]\u001b[A\n",
            "Vailing:  90%|█████████ | 108/120 [00:28<00:03,  3.96it/s]\u001b[A\n",
            "Vailing:  91%|█████████ | 109/120 [00:28<00:02,  3.95it/s]\u001b[A\n",
            "Vailing:  92%|█████████▏| 110/120 [00:29<00:02,  3.72it/s]\u001b[A\n",
            "Vailing:  92%|█████████▎| 111/120 [00:29<00:02,  3.62it/s]\u001b[A\n",
            "Vailing:  93%|█████████▎| 112/120 [00:29<00:02,  3.51it/s]\u001b[A\n",
            "Vailing:  94%|█████████▍| 113/120 [00:29<00:02,  3.42it/s]\u001b[A\n",
            "Vailing:  95%|█████████▌| 114/120 [00:30<00:01,  3.46it/s]\u001b[A\n",
            "Vailing:  96%|█████████▌| 115/120 [00:30<00:01,  3.47it/s]\u001b[A\n",
            "Vailing:  97%|█████████▋| 116/120 [00:30<00:01,  3.47it/s]\u001b[A\n",
            "Vailing:  98%|█████████▊| 117/120 [00:31<00:00,  3.42it/s]\u001b[A\n",
            "Vailing:  98%|█████████▊| 118/120 [00:31<00:00,  3.43it/s]\u001b[A\n",
            "Vailing:  99%|█████████▉| 119/120 [00:31<00:00,  3.39it/s]\u001b[A\n",
            "Vailing: 100%|██████████| 120/120 [00:31<00:00,  3.76it/s]\n"
          ]
        },
        {
          "name": "stdout",
          "output_type": "stream",
          "text": [
            "验证集评估报告：\n",
            "               precision    recall  f1-score   support\n",
            "\n",
            "           0       0.60      0.77      0.67       700\n",
            "           1       0.72      0.88      0.79       701\n",
            "           2       0.92      0.88      0.90      3793\n",
            "           3       0.85      0.83      0.84      1574\n",
            "           4       0.85      0.91      0.88      1593\n",
            "           5       0.89      0.87      0.88      1940\n",
            "           6       0.80      0.80      0.80      1695\n",
            "           7       0.77      0.86      0.81      1002\n",
            "           8       0.93      0.80      0.86      2327\n",
            "\n",
            "    accuracy                           0.85     15325\n",
            "   macro avg       0.81      0.84      0.83     15325\n",
            "weighted avg       0.86      0.85      0.85     15325\n",
            "\n",
            "验证集的f1: 0.8263, accuracy:0.8494, precision:0.8145, recall:0.8445\n"
          ]
        },
        {
          "name": "stderr",
          "output_type": "stream",
          "text": [
            "\rtraining....:  23%|██▎       | 500/2193 [07:52<4:58:57, 10.59s/it]"
          ]
        },
        {
          "name": "stdout",
          "output_type": "stream",
          "text": [
            "保存模型成功, 当前f1分数: 0.8263424023009088\n"
          ]
        },
        {
          "name": "stderr",
          "output_type": "stream",
          "text": [
            "training....:  23%|██▎       | 510/2193 [07:58<25:04,  1.12it/s]"
          ]
        },
        {
          "name": "stdout",
          "output_type": "stream",
          "text": [
            "epoch:2,batch:510,loss:0.5681,train_f1:0.8247,acc:0.8242\n"
          ]
        },
        {
          "name": "stderr",
          "output_type": "stream",
          "text": [
            "training....:  24%|██▎       | 520/2193 [08:04<17:23,  1.60it/s]"
          ]
        },
        {
          "name": "stdout",
          "output_type": "stream",
          "text": [
            "epoch:2,batch:520,loss:0.5659,train_f1:0.8223,acc:0.8234\n"
          ]
        },
        {
          "name": "stderr",
          "output_type": "stream",
          "text": [
            "training....:  24%|██▍       | 530/2193 [08:10<17:09,  1.62it/s]"
          ]
        },
        {
          "name": "stdout",
          "output_type": "stream",
          "text": [
            "epoch:2,batch:530,loss:0.5381,train_f1:0.8350,acc:0.8367\n"
          ]
        },
        {
          "name": "stderr",
          "output_type": "stream",
          "text": [
            "training....:  25%|██▍       | 540/2193 [08:16<17:13,  1.60it/s]"
          ]
        },
        {
          "name": "stdout",
          "output_type": "stream",
          "text": [
            "epoch:2,batch:540,loss:0.5415,train_f1:0.8198,acc:0.8227\n"
          ]
        },
        {
          "name": "stderr",
          "output_type": "stream",
          "text": [
            "training....:  25%|██▌       | 550/2193 [08:23<16:58,  1.61it/s]"
          ]
        },
        {
          "name": "stdout",
          "output_type": "stream",
          "text": [
            "epoch:2,batch:550,loss:0.5438,train_f1:0.8334,acc:0.8344\n"
          ]
        },
        {
          "name": "stderr",
          "output_type": "stream",
          "text": [
            "training....:  26%|██▌       | 560/2193 [08:29<17:00,  1.60it/s]"
          ]
        },
        {
          "name": "stdout",
          "output_type": "stream",
          "text": [
            "epoch:2,batch:560,loss:0.5712,train_f1:0.8274,acc:0.8281\n"
          ]
        },
        {
          "name": "stderr",
          "output_type": "stream",
          "text": [
            "training....:  26%|██▌       | 570/2193 [08:35<16:43,  1.62it/s]"
          ]
        },
        {
          "name": "stdout",
          "output_type": "stream",
          "text": [
            "epoch:2,batch:570,loss:0.5196,train_f1:0.8394,acc:0.8391\n"
          ]
        },
        {
          "name": "stderr",
          "output_type": "stream",
          "text": [
            "training....:  26%|██▋       | 580/2193 [08:41<16:42,  1.61it/s]"
          ]
        },
        {
          "name": "stdout",
          "output_type": "stream",
          "text": [
            "epoch:2,batch:580,loss:0.5436,train_f1:0.8322,acc:0.8328\n"
          ]
        },
        {
          "name": "stderr",
          "output_type": "stream",
          "text": [
            "training....:  27%|██▋       | 590/2193 [08:47<16:29,  1.62it/s]"
          ]
        },
        {
          "name": "stdout",
          "output_type": "stream",
          "text": [
            "epoch:2,batch:590,loss:0.5196,train_f1:0.8329,acc:0.8344\n"
          ]
        },
        {
          "name": "stderr",
          "output_type": "stream",
          "text": [
            "training....:  27%|██▋       | 599/2193 [08:53<16:20,  1.63it/s]"
          ]
        },
        {
          "name": "stdout",
          "output_type": "stream",
          "text": [
            "epoch:2,batch:600,loss:0.5461,train_f1:0.8287,acc:0.8297\n"
          ]
        },
        {
          "name": "stderr",
          "output_type": "stream",
          "text": [
            "\n",
            "Vailing:   0%|          | 0/120 [00:00<?, ?it/s]\u001b[A\n",
            "Vailing:   1%|          | 1/120 [00:00<01:09,  1.71it/s]\u001b[A\n",
            "Vailing:   2%|▏         | 2/120 [00:00<00:49,  2.40it/s]\u001b[A\n",
            "Vailing:   2%|▎         | 3/120 [00:01<00:42,  2.77it/s]\u001b[A\n",
            "Vailing:   3%|▎         | 4/120 [00:01<00:39,  2.93it/s]\u001b[A\n",
            "Vailing:   4%|▍         | 5/120 [00:01<00:38,  3.02it/s]\u001b[A\n",
            "Vailing:   5%|▌         | 6/120 [00:02<00:36,  3.11it/s]\u001b[A\n",
            "Vailing:   6%|▌         | 7/120 [00:02<00:35,  3.18it/s]\u001b[A\n",
            "Vailing:   7%|▋         | 8/120 [00:02<00:34,  3.26it/s]\u001b[A\n",
            "Vailing:   8%|▊         | 9/120 [00:03<00:34,  3.26it/s]\u001b[A\n",
            "Vailing:   8%|▊         | 10/120 [00:03<00:33,  3.30it/s]\u001b[A\n",
            "Vailing:   9%|▉         | 11/120 [00:03<00:31,  3.47it/s]\u001b[A\n",
            "Vailing:  10%|█         | 12/120 [00:03<00:29,  3.61it/s]\u001b[A\n",
            "Vailing:  11%|█         | 13/120 [00:04<00:29,  3.69it/s]\u001b[A\n",
            "Vailing:  12%|█▏        | 14/120 [00:04<00:28,  3.75it/s]\u001b[A\n",
            "Vailing:  12%|█▎        | 15/120 [00:04<00:27,  3.82it/s]\u001b[A\n",
            "Vailing:  13%|█▎        | 16/120 [00:04<00:26,  3.86it/s]\u001b[A\n",
            "Vailing:  14%|█▍        | 17/120 [00:05<00:26,  3.84it/s]\u001b[A\n",
            "Vailing:  15%|█▌        | 18/120 [00:05<00:26,  3.86it/s]\u001b[A\n",
            "Vailing:  16%|█▌        | 19/120 [00:05<00:26,  3.83it/s]\u001b[A\n",
            "Vailing:  17%|█▋        | 20/120 [00:05<00:26,  3.72it/s]\u001b[A\n",
            "Vailing:  18%|█▊        | 21/120 [00:06<00:26,  3.80it/s]\u001b[A\n",
            "Vailing:  18%|█▊        | 22/120 [00:06<00:25,  3.85it/s]\u001b[A\n",
            "Vailing:  19%|█▉        | 23/120 [00:06<00:25,  3.86it/s]\u001b[A\n",
            "Vailing:  20%|██        | 24/120 [00:06<00:24,  3.89it/s]\u001b[A\n",
            "Vailing:  21%|██        | 25/120 [00:07<00:24,  3.88it/s]\u001b[A\n",
            "Vailing:  22%|██▏       | 26/120 [00:07<00:24,  3.89it/s]\u001b[A\n",
            "Vailing:  22%|██▎       | 27/120 [00:07<00:24,  3.84it/s]\u001b[A\n",
            "Vailing:  23%|██▎       | 28/120 [00:07<00:23,  3.88it/s]\u001b[A\n",
            "Vailing:  24%|██▍       | 29/120 [00:08<00:23,  3.92it/s]\u001b[A\n",
            "Vailing:  25%|██▌       | 30/120 [00:08<00:22,  3.91it/s]\u001b[A\n",
            "Vailing:  26%|██▌       | 31/120 [00:08<00:23,  3.87it/s]\u001b[A\n",
            "Vailing:  27%|██▋       | 32/120 [00:08<00:22,  3.89it/s]\u001b[A\n",
            "Vailing:  28%|██▊       | 33/120 [00:09<00:22,  3.89it/s]\u001b[A\n",
            "Vailing:  28%|██▊       | 34/120 [00:09<00:22,  3.87it/s]\u001b[A\n",
            "Vailing:  29%|██▉       | 35/120 [00:09<00:22,  3.81it/s]\u001b[A\n",
            "Vailing:  30%|███       | 36/120 [00:10<00:21,  3.84it/s]\u001b[A\n",
            "Vailing:  31%|███       | 37/120 [00:10<00:21,  3.85it/s]\u001b[A\n",
            "Vailing:  32%|███▏      | 38/120 [00:10<00:21,  3.86it/s]\u001b[A\n",
            "Vailing:  32%|███▎      | 39/120 [00:10<00:21,  3.82it/s]\u001b[A\n",
            "Vailing:  33%|███▎      | 40/120 [00:11<00:20,  3.85it/s]\u001b[A\n",
            "Vailing:  34%|███▍      | 41/120 [00:11<00:20,  3.88it/s]\u001b[A\n",
            "Vailing:  35%|███▌      | 42/120 [00:11<00:19,  3.92it/s]\u001b[A\n",
            "Vailing:  36%|███▌      | 43/120 [00:11<00:20,  3.85it/s]\u001b[A\n",
            "Vailing:  37%|███▋      | 44/120 [00:12<00:19,  3.86it/s]\u001b[A\n",
            "Vailing:  38%|███▊      | 45/120 [00:12<00:19,  3.85it/s]\u001b[A\n",
            "Vailing:  38%|███▊      | 46/120 [00:12<00:19,  3.87it/s]\u001b[A\n",
            "Vailing:  39%|███▉      | 47/120 [00:12<00:19,  3.81it/s]\u001b[A\n",
            "Vailing:  40%|████      | 48/120 [00:13<00:18,  3.81it/s]\u001b[A\n",
            "Vailing:  41%|████      | 49/120 [00:13<00:19,  3.66it/s]\u001b[A\n",
            "Vailing:  42%|████▏     | 50/120 [00:13<00:20,  3.49it/s]\u001b[A\n",
            "Vailing:  42%|████▎     | 51/120 [00:14<00:19,  3.48it/s]\u001b[A\n",
            "Vailing:  43%|████▎     | 52/120 [00:14<00:19,  3.45it/s]\u001b[A\n",
            "Vailing:  44%|████▍     | 53/120 [00:14<00:19,  3.45it/s]\u001b[A\n",
            "Vailing:  45%|████▌     | 54/120 [00:14<00:19,  3.42it/s]\u001b[A\n",
            "Vailing:  46%|████▌     | 55/120 [00:15<00:19,  3.39it/s]\u001b[A\n",
            "Vailing:  47%|████▋     | 56/120 [00:15<00:19,  3.36it/s]\u001b[A\n",
            "Vailing:  48%|████▊     | 57/120 [00:15<00:18,  3.39it/s]\u001b[A\n",
            "Vailing:  48%|████▊     | 58/120 [00:16<00:18,  3.40it/s]\u001b[A\n",
            "Vailing:  49%|████▉     | 59/120 [00:16<00:17,  3.43it/s]\u001b[A\n",
            "Vailing:  50%|█████     | 60/120 [00:16<00:16,  3.55it/s]\u001b[A\n",
            "Vailing:  51%|█████     | 61/120 [00:16<00:16,  3.66it/s]\u001b[A\n",
            "Vailing:  52%|█████▏    | 62/120 [00:17<00:15,  3.69it/s]\u001b[A\n",
            "Vailing:  52%|█████▎    | 63/120 [00:17<00:15,  3.74it/s]\u001b[A\n",
            "Vailing:  53%|█████▎    | 64/120 [00:17<00:14,  3.78it/s]\u001b[A\n",
            "Vailing:  54%|█████▍    | 65/120 [00:17<00:14,  3.83it/s]\u001b[A\n",
            "Vailing:  55%|█████▌    | 66/120 [00:18<00:14,  3.77it/s]\u001b[A\n",
            "Vailing:  56%|█████▌    | 67/120 [00:18<00:13,  3.80it/s]\u001b[A\n",
            "Vailing:  57%|█████▋    | 68/120 [00:18<00:13,  3.81it/s]\u001b[A\n",
            "Vailing:  57%|█████▊    | 69/120 [00:18<00:13,  3.86it/s]\u001b[A\n",
            "Vailing:  58%|█████▊    | 70/120 [00:19<00:13,  3.77it/s]\u001b[A\n",
            "Vailing:  59%|█████▉    | 71/120 [00:19<00:12,  3.80it/s]\u001b[A\n",
            "Vailing:  60%|██████    | 72/120 [00:19<00:12,  3.84it/s]\u001b[A\n",
            "Vailing:  61%|██████    | 73/120 [00:20<00:12,  3.88it/s]\u001b[A\n",
            "Vailing:  62%|██████▏   | 74/120 [00:20<00:12,  3.82it/s]\u001b[A\n",
            "Vailing:  62%|██████▎   | 75/120 [00:20<00:11,  3.86it/s]\u001b[A\n",
            "Vailing:  63%|██████▎   | 76/120 [00:20<00:11,  3.86it/s]\u001b[A\n",
            "Vailing:  64%|██████▍   | 77/120 [00:21<00:11,  3.87it/s]\u001b[A\n",
            "Vailing:  65%|██████▌   | 78/120 [00:21<00:11,  3.81it/s]\u001b[A\n",
            "Vailing:  66%|██████▌   | 79/120 [00:21<00:10,  3.88it/s]\u001b[A\n",
            "Vailing:  67%|██████▋   | 80/120 [00:21<00:10,  3.86it/s]\u001b[A\n",
            "Vailing:  68%|██████▊   | 81/120 [00:22<00:10,  3.84it/s]\u001b[A\n",
            "Vailing:  68%|██████▊   | 82/120 [00:22<00:10,  3.76it/s]\u001b[A\n",
            "Vailing:  69%|██████▉   | 83/120 [00:22<00:09,  3.81it/s]\u001b[A\n",
            "Vailing:  70%|███████   | 84/120 [00:22<00:09,  3.83it/s]\u001b[A\n",
            "Vailing:  71%|███████   | 85/120 [00:23<00:09,  3.85it/s]\u001b[A\n",
            "Vailing:  72%|███████▏  | 86/120 [00:23<00:08,  3.83it/s]\u001b[A\n",
            "Vailing:  72%|███████▎  | 87/120 [00:23<00:08,  3.82it/s]\u001b[A\n",
            "Vailing:  73%|███████▎  | 88/120 [00:23<00:08,  3.84it/s]\u001b[A\n",
            "Vailing:  74%|███████▍  | 89/120 [00:24<00:08,  3.82it/s]\u001b[A\n",
            "Vailing:  75%|███████▌  | 90/120 [00:24<00:07,  3.78it/s]\u001b[A\n",
            "Vailing:  76%|███████▌  | 91/120 [00:24<00:07,  3.80it/s]\u001b[A\n",
            "Vailing:  77%|███████▋  | 92/120 [00:24<00:07,  3.84it/s]\u001b[A\n",
            "Vailing:  78%|███████▊  | 93/120 [00:25<00:06,  3.86it/s]\u001b[A\n",
            "Vailing:  78%|███████▊  | 94/120 [00:25<00:06,  3.80it/s]\u001b[A\n",
            "Vailing:  79%|███████▉  | 95/120 [00:25<00:06,  3.84it/s]\u001b[A\n",
            "Vailing:  80%|████████  | 96/120 [00:26<00:06,  3.85it/s]\u001b[A\n",
            "Vailing:  81%|████████  | 97/120 [00:26<00:05,  3.84it/s]\u001b[A\n",
            "Vailing:  82%|████████▏ | 98/120 [00:26<00:05,  3.81it/s]\u001b[A\n",
            "Vailing:  82%|████████▎ | 99/120 [00:26<00:05,  3.64it/s]\u001b[A\n",
            "Vailing:  83%|████████▎ | 100/120 [00:27<00:05,  3.47it/s]\u001b[A\n",
            "Vailing:  84%|████████▍ | 101/120 [00:27<00:05,  3.40it/s]\u001b[A\n",
            "Vailing:  85%|████████▌ | 102/120 [00:27<00:05,  3.39it/s]\u001b[A\n",
            "Vailing:  86%|████████▌ | 103/120 [00:28<00:05,  3.32it/s]\u001b[A\n",
            "Vailing:  87%|████████▋ | 104/120 [00:28<00:04,  3.34it/s]\u001b[A\n",
            "Vailing:  88%|████████▊ | 105/120 [00:28<00:04,  3.35it/s]\u001b[A\n",
            "Vailing:  88%|████████▊ | 106/120 [00:28<00:04,  3.38it/s]\u001b[A\n",
            "Vailing:  89%|████████▉ | 107/120 [00:29<00:03,  3.33it/s]\u001b[A\n",
            "Vailing:  90%|█████████ | 108/120 [00:29<00:03,  3.33it/s]\u001b[A\n",
            "Vailing:  91%|█████████ | 109/120 [00:29<00:03,  3.48it/s]\u001b[A\n",
            "Vailing:  92%|█████████▏| 110/120 [00:30<00:02,  3.60it/s]\u001b[A\n",
            "Vailing:  92%|█████████▎| 111/120 [00:30<00:02,  3.69it/s]\u001b[A\n",
            "Vailing:  93%|█████████▎| 112/120 [00:30<00:02,  3.75it/s]\u001b[A\n",
            "Vailing:  94%|█████████▍| 113/120 [00:30<00:01,  3.80it/s]\u001b[A\n",
            "Vailing:  95%|█████████▌| 114/120 [00:31<00:01,  3.80it/s]\u001b[A\n",
            "Vailing:  96%|█████████▌| 115/120 [00:31<00:01,  3.84it/s]\u001b[A\n",
            "Vailing:  97%|█████████▋| 116/120 [00:31<00:01,  3.85it/s]\u001b[A\n",
            "Vailing:  98%|█████████▊| 117/120 [00:31<00:00,  3.85it/s]\u001b[A\n",
            "Vailing:  98%|█████████▊| 118/120 [00:32<00:00,  3.83it/s]\u001b[A\n",
            "Vailing:  99%|█████████▉| 119/120 [00:32<00:00,  3.88it/s]\u001b[A\n",
            "Vailing: 100%|██████████| 120/120 [00:32<00:00,  3.68it/s]\n",
            "training....:  27%|██▋       | 600/2193 [09:26<4:36:58, 10.43s/it]"
          ]
        },
        {
          "name": "stdout",
          "output_type": "stream",
          "text": [
            "验证集评估报告：\n",
            "               precision    recall  f1-score   support\n",
            "\n",
            "           0       0.56      0.79      0.66       700\n",
            "           1       0.65      0.90      0.75       701\n",
            "           2       0.93      0.87      0.90      3793\n",
            "           3       0.83      0.84      0.84      1574\n",
            "           4       0.90      0.87      0.89      1593\n",
            "           5       0.91      0.86      0.88      1940\n",
            "           6       0.86      0.78      0.82      1695\n",
            "           7       0.79      0.86      0.82      1002\n",
            "           8       0.90      0.85      0.87      2327\n",
            "\n",
            "    accuracy                           0.85     15325\n",
            "   macro avg       0.81      0.85      0.82     15325\n",
            "weighted avg       0.86      0.85      0.85     15325\n",
            "\n",
            "验证集的f1: 0.8250, accuracy:0.8497, precision:0.8130, recall:0.8472\n"
          ]
        },
        {
          "name": "stderr",
          "output_type": "stream",
          "text": [
            "training....:  28%|██▊       | 610/2193 [09:32<23:28,  1.12it/s]"
          ]
        },
        {
          "name": "stdout",
          "output_type": "stream",
          "text": [
            "epoch:2,batch:610,loss:0.5124,train_f1:0.8444,acc:0.8461\n"
          ]
        },
        {
          "name": "stderr",
          "output_type": "stream",
          "text": [
            "training....:  28%|██▊       | 620/2193 [09:38<16:22,  1.60it/s]"
          ]
        },
        {
          "name": "stdout",
          "output_type": "stream",
          "text": [
            "epoch:2,batch:620,loss:0.5344,train_f1:0.8309,acc:0.8313\n"
          ]
        },
        {
          "name": "stderr",
          "output_type": "stream",
          "text": [
            "training....:  29%|██▊       | 630/2193 [09:44<16:06,  1.62it/s]"
          ]
        },
        {
          "name": "stdout",
          "output_type": "stream",
          "text": [
            "epoch:2,batch:630,loss:0.5080,train_f1:0.8425,acc:0.8430\n"
          ]
        },
        {
          "name": "stderr",
          "output_type": "stream",
          "text": [
            "training....:  29%|██▉       | 640/2193 [09:50<15:59,  1.62it/s]"
          ]
        },
        {
          "name": "stdout",
          "output_type": "stream",
          "text": [
            "epoch:2,batch:640,loss:0.5094,train_f1:0.8362,acc:0.8359\n"
          ]
        },
        {
          "name": "stderr",
          "output_type": "stream",
          "text": [
            "training....:  30%|██▉       | 650/2193 [09:57<15:53,  1.62it/s]"
          ]
        },
        {
          "name": "stdout",
          "output_type": "stream",
          "text": [
            "epoch:2,batch:650,loss:0.5237,train_f1:0.8481,acc:0.8484\n"
          ]
        },
        {
          "name": "stderr",
          "output_type": "stream",
          "text": [
            "training....:  30%|███       | 660/2193 [10:03<15:45,  1.62it/s]"
          ]
        },
        {
          "name": "stdout",
          "output_type": "stream",
          "text": [
            "epoch:2,batch:660,loss:0.5490,train_f1:0.8289,acc:0.8289\n"
          ]
        },
        {
          "name": "stderr",
          "output_type": "stream",
          "text": [
            "training....:  31%|███       | 670/2193 [10:09<15:38,  1.62it/s]"
          ]
        },
        {
          "name": "stdout",
          "output_type": "stream",
          "text": [
            "epoch:2,batch:670,loss:0.5626,train_f1:0.8136,acc:0.8141\n"
          ]
        },
        {
          "name": "stderr",
          "output_type": "stream",
          "text": [
            "training....:  31%|███       | 680/2193 [10:15<15:29,  1.63it/s]"
          ]
        },
        {
          "name": "stdout",
          "output_type": "stream",
          "text": [
            "epoch:2,batch:680,loss:0.5526,train_f1:0.8266,acc:0.8281\n"
          ]
        },
        {
          "name": "stderr",
          "output_type": "stream",
          "text": [
            "training....:  31%|███▏      | 690/2193 [10:21<15:25,  1.62it/s]"
          ]
        },
        {
          "name": "stdout",
          "output_type": "stream",
          "text": [
            "epoch:2,batch:690,loss:0.5593,train_f1:0.8301,acc:0.8305\n"
          ]
        },
        {
          "name": "stderr",
          "output_type": "stream",
          "text": [
            "training....:  32%|███▏      | 699/2193 [10:27<15:17,  1.63it/s]"
          ]
        },
        {
          "name": "stdout",
          "output_type": "stream",
          "text": [
            "epoch:2,batch:700,loss:0.5155,train_f1:0.8410,acc:0.8406\n"
          ]
        },
        {
          "name": "stderr",
          "output_type": "stream",
          "text": [
            "\n",
            "Vailing:   0%|          | 0/120 [00:00<?, ?it/s]\u001b[A\n",
            "Vailing:   1%|          | 1/120 [00:00<01:06,  1.79it/s]\u001b[A\n",
            "Vailing:   2%|▏         | 2/120 [00:00<00:44,  2.64it/s]\u001b[A\n",
            "Vailing:   2%|▎         | 3/120 [00:01<00:37,  3.13it/s]\u001b[A\n",
            "Vailing:   3%|▎         | 4/120 [00:01<00:34,  3.40it/s]\u001b[A\n",
            "Vailing:   4%|▍         | 5/120 [00:01<00:32,  3.57it/s]\u001b[A\n",
            "Vailing:   5%|▌         | 6/120 [00:01<00:31,  3.64it/s]\u001b[A\n",
            "Vailing:   6%|▌         | 7/120 [00:02<00:30,  3.72it/s]\u001b[A\n",
            "Vailing:   7%|▋         | 8/120 [00:02<00:31,  3.58it/s]\u001b[A\n",
            "Vailing:   8%|▊         | 9/120 [00:02<00:30,  3.69it/s]\u001b[A\n",
            "Vailing:   8%|▊         | 10/120 [00:02<00:29,  3.78it/s]\u001b[A\n",
            "Vailing:   9%|▉         | 11/120 [00:03<00:28,  3.81it/s]\u001b[A\n",
            "Vailing:  10%|█         | 12/120 [00:03<00:28,  3.75it/s]\u001b[A\n",
            "Vailing:  11%|█         | 13/120 [00:03<00:28,  3.78it/s]\u001b[A\n",
            "Vailing:  12%|█▏        | 14/120 [00:03<00:27,  3.84it/s]\u001b[A\n",
            "Vailing:  12%|█▎        | 15/120 [00:04<00:27,  3.82it/s]\u001b[A\n",
            "Vailing:  13%|█▎        | 16/120 [00:04<00:27,  3.78it/s]\u001b[A\n",
            "Vailing:  14%|█▍        | 17/120 [00:04<00:26,  3.84it/s]\u001b[A\n",
            "Vailing:  15%|█▌        | 18/120 [00:04<00:26,  3.84it/s]\u001b[A\n",
            "Vailing:  16%|█▌        | 19/120 [00:05<00:26,  3.88it/s]\u001b[A\n",
            "Vailing:  17%|█▋        | 20/120 [00:05<00:26,  3.83it/s]\u001b[A\n",
            "Vailing:  18%|█▊        | 21/120 [00:05<00:25,  3.82it/s]\u001b[A\n",
            "Vailing:  18%|█▊        | 22/120 [00:06<00:25,  3.86it/s]\u001b[A\n",
            "Vailing:  19%|█▉        | 23/120 [00:06<00:24,  3.88it/s]\u001b[A\n",
            "Vailing:  20%|██        | 24/120 [00:06<00:25,  3.84it/s]\u001b[A\n",
            "Vailing:  21%|██        | 25/120 [00:06<00:24,  3.84it/s]\u001b[A\n",
            "Vailing:  22%|██▏       | 26/120 [00:07<00:24,  3.87it/s]\u001b[A\n",
            "Vailing:  22%|██▎       | 27/120 [00:07<00:24,  3.87it/s]\u001b[A\n",
            "Vailing:  23%|██▎       | 28/120 [00:07<00:24,  3.81it/s]\u001b[A\n",
            "Vailing:  24%|██▍       | 29/120 [00:07<00:23,  3.82it/s]\u001b[A\n",
            "Vailing:  25%|██▌       | 30/120 [00:08<00:23,  3.85it/s]\u001b[A\n",
            "Vailing:  26%|██▌       | 31/120 [00:08<00:23,  3.86it/s]\u001b[A\n",
            "Vailing:  27%|██▋       | 32/120 [00:08<00:23,  3.82it/s]\u001b[A\n",
            "Vailing:  28%|██▊       | 33/120 [00:08<00:22,  3.84it/s]\u001b[A\n",
            "Vailing:  28%|██▊       | 34/120 [00:09<00:22,  3.84it/s]\u001b[A\n",
            "Vailing:  29%|██▉       | 35/120 [00:09<00:21,  3.87it/s]\u001b[A\n",
            "Vailing:  30%|███       | 36/120 [00:09<00:21,  3.83it/s]\u001b[A\n",
            "Vailing:  31%|███       | 37/120 [00:09<00:21,  3.83it/s]\u001b[A\n",
            "Vailing:  32%|███▏      | 38/120 [00:10<00:21,  3.87it/s]\u001b[A\n",
            "Vailing:  32%|███▎      | 39/120 [00:10<00:21,  3.71it/s]\u001b[A\n",
            "Vailing:  33%|███▎      | 40/120 [00:10<00:22,  3.59it/s]\u001b[A\n",
            "Vailing:  34%|███▍      | 41/120 [00:11<00:22,  3.53it/s]\u001b[A\n",
            "Vailing:  35%|███▌      | 42/120 [00:11<00:23,  3.39it/s]\u001b[A\n",
            "Vailing:  36%|███▌      | 43/120 [00:11<00:22,  3.44it/s]\u001b[A\n",
            "Vailing:  37%|███▋      | 44/120 [00:11<00:21,  3.47it/s]\u001b[A\n",
            "Vailing:  38%|███▊      | 45/120 [00:12<00:21,  3.41it/s]\u001b[A\n",
            "Vailing:  38%|███▊      | 46/120 [00:12<00:21,  3.41it/s]\u001b[A\n",
            "Vailing:  39%|███▉      | 47/120 [00:12<00:21,  3.35it/s]\u001b[A\n",
            "Vailing:  40%|████      | 48/120 [00:13<00:21,  3.31it/s]\u001b[A\n",
            "Vailing:  41%|████      | 49/120 [00:13<00:21,  3.35it/s]\u001b[A\n",
            "Vailing:  42%|████▏     | 50/120 [00:13<00:20,  3.50it/s]\u001b[A\n",
            "Vailing:  42%|████▎     | 51/120 [00:13<00:19,  3.59it/s]\u001b[A\n",
            "Vailing:  43%|████▎     | 52/120 [00:14<00:18,  3.68it/s]\u001b[A\n",
            "Vailing:  44%|████▍     | 53/120 [00:14<00:17,  3.77it/s]\u001b[A\n",
            "Vailing:  45%|████▌     | 54/120 [00:14<00:17,  3.81it/s]\u001b[A\n",
            "Vailing:  46%|████▌     | 55/120 [00:15<00:17,  3.79it/s]\u001b[A\n",
            "Vailing:  47%|████▋     | 56/120 [00:15<00:16,  3.83it/s]\u001b[A\n",
            "Vailing:  48%|████▊     | 57/120 [00:15<00:16,  3.82it/s]\u001b[A\n",
            "Vailing:  48%|████▊     | 58/120 [00:15<00:16,  3.84it/s]\u001b[A\n",
            "Vailing:  49%|████▉     | 59/120 [00:16<00:15,  3.82it/s]\u001b[A\n",
            "Vailing:  50%|█████     | 60/120 [00:16<00:15,  3.85it/s]\u001b[A\n",
            "Vailing:  51%|█████     | 61/120 [00:16<00:15,  3.87it/s]\u001b[A\n",
            "Vailing:  52%|█████▏    | 62/120 [00:16<00:15,  3.86it/s]\u001b[A\n",
            "Vailing:  52%|█████▎    | 63/120 [00:17<00:15,  3.78it/s]\u001b[A\n",
            "Vailing:  53%|█████▎    | 64/120 [00:17<00:14,  3.79it/s]\u001b[A\n",
            "Vailing:  54%|█████▍    | 65/120 [00:17<00:14,  3.84it/s]\u001b[A\n",
            "Vailing:  55%|█████▌    | 66/120 [00:17<00:13,  3.88it/s]\u001b[A\n",
            "Vailing:  56%|█████▌    | 67/120 [00:18<00:13,  3.82it/s]\u001b[A\n",
            "Vailing:  57%|█████▋    | 68/120 [00:18<00:13,  3.84it/s]\u001b[A\n",
            "Vailing:  57%|█████▊    | 69/120 [00:18<00:13,  3.86it/s]\u001b[A\n",
            "Vailing:  58%|█████▊    | 70/120 [00:18<00:12,  3.88it/s]\u001b[A\n",
            "Vailing:  59%|█████▉    | 71/120 [00:19<00:12,  3.82it/s]\u001b[A\n",
            "Vailing:  60%|██████    | 72/120 [00:19<00:12,  3.88it/s]\u001b[A\n",
            "Vailing:  61%|██████    | 73/120 [00:19<00:12,  3.87it/s]\u001b[A\n",
            "Vailing:  62%|██████▏   | 74/120 [00:19<00:11,  3.89it/s]\u001b[A\n",
            "Vailing:  62%|██████▎   | 75/120 [00:20<00:11,  3.82it/s]\u001b[A\n",
            "Vailing:  63%|██████▎   | 76/120 [00:20<00:11,  3.84it/s]\u001b[A\n",
            "Vailing:  64%|██████▍   | 77/120 [00:20<00:11,  3.87it/s]\u001b[A\n",
            "Vailing:  65%|██████▌   | 78/120 [00:20<00:10,  3.85it/s]\u001b[A\n",
            "Vailing:  66%|██████▌   | 79/120 [00:21<00:10,  3.80it/s]\u001b[A\n",
            "Vailing:  67%|██████▋   | 80/120 [00:21<00:10,  3.85it/s]\u001b[A\n",
            "Vailing:  68%|██████▊   | 81/120 [00:21<00:10,  3.88it/s]\u001b[A\n",
            "Vailing:  68%|██████▊   | 82/120 [00:22<00:09,  3.93it/s]\u001b[A\n",
            "Vailing:  69%|██████▉   | 83/120 [00:22<00:09,  3.84it/s]\u001b[A\n",
            "Vailing:  70%|███████   | 84/120 [00:22<00:09,  3.87it/s]\u001b[A\n",
            "Vailing:  71%|███████   | 85/120 [00:22<00:09,  3.88it/s]\u001b[A\n",
            "Vailing:  72%|███████▏  | 86/120 [00:23<00:08,  3.88it/s]\u001b[A\n",
            "Vailing:  72%|███████▎  | 87/120 [00:23<00:08,  3.82it/s]\u001b[A\n",
            "Vailing:  73%|███████▎  | 88/120 [00:23<00:08,  3.70it/s]\u001b[A\n",
            "Vailing:  74%|███████▍  | 89/120 [00:23<00:08,  3.62it/s]\u001b[A\n",
            "Vailing:  75%|███████▌  | 90/120 [00:24<00:08,  3.48it/s]\u001b[A\n",
            "Vailing:  76%|███████▌  | 91/120 [00:24<00:08,  3.41it/s]\u001b[A\n",
            "Vailing:  77%|███████▋  | 92/120 [00:24<00:08,  3.36it/s]\u001b[A\n",
            "Vailing:  78%|███████▊  | 93/120 [00:25<00:08,  3.34it/s]\u001b[A\n",
            "Vailing:  78%|███████▊  | 94/120 [00:25<00:07,  3.27it/s]\u001b[A\n",
            "Vailing:  79%|███████▉  | 95/120 [00:25<00:07,  3.28it/s]\u001b[A\n",
            "Vailing:  80%|████████  | 96/120 [00:26<00:07,  3.33it/s]\u001b[A\n",
            "Vailing:  81%|████████  | 97/120 [00:26<00:06,  3.31it/s]\u001b[A\n",
            "Vailing:  82%|████████▏ | 98/120 [00:26<00:06,  3.31it/s]\u001b[A\n",
            "Vailing:  82%|████████▎ | 99/120 [00:26<00:06,  3.49it/s]\u001b[A\n",
            "Vailing:  83%|████████▎ | 100/120 [00:27<00:05,  3.60it/s]\u001b[A\n",
            "Vailing:  84%|████████▍ | 101/120 [00:27<00:05,  3.71it/s]\u001b[A\n",
            "Vailing:  85%|████████▌ | 102/120 [00:27<00:04,  3.78it/s]\u001b[A\n",
            "Vailing:  86%|████████▌ | 103/120 [00:27<00:04,  3.84it/s]\u001b[A\n",
            "Vailing:  87%|████████▋ | 104/120 [00:28<00:04,  3.86it/s]\u001b[A\n",
            "Vailing:  88%|████████▊ | 105/120 [00:28<00:03,  3.90it/s]\u001b[A\n",
            "Vailing:  88%|████████▊ | 106/120 [00:28<00:03,  3.91it/s]\u001b[A\n",
            "Vailing:  89%|████████▉ | 107/120 [00:28<00:03,  3.89it/s]\u001b[A\n",
            "Vailing:  90%|█████████ | 108/120 [00:29<00:03,  3.87it/s]\u001b[A\n",
            "Vailing:  91%|█████████ | 109/120 [00:29<00:02,  3.88it/s]\u001b[A\n",
            "Vailing:  92%|█████████▏| 110/120 [00:29<00:02,  3.87it/s]\u001b[A\n",
            "Vailing:  92%|█████████▎| 111/120 [00:29<00:02,  3.91it/s]\u001b[A\n",
            "Vailing:  93%|█████████▎| 112/120 [00:30<00:02,  3.90it/s]\u001b[A\n",
            "Vailing:  94%|█████████▍| 113/120 [00:30<00:01,  3.89it/s]\u001b[A\n",
            "Vailing:  95%|█████████▌| 114/120 [00:30<00:01,  3.87it/s]\u001b[A\n",
            "Vailing:  96%|█████████▌| 115/120 [00:30<00:01,  3.90it/s]\u001b[A\n",
            "Vailing:  97%|█████████▋| 116/120 [00:31<00:01,  3.91it/s]\u001b[A\n",
            "Vailing:  98%|█████████▊| 117/120 [00:31<00:00,  3.94it/s]\u001b[A\n",
            "Vailing:  98%|█████████▊| 118/120 [00:31<00:00,  3.92it/s]\u001b[A\n",
            "Vailing:  99%|█████████▉| 119/120 [00:32<00:00,  3.91it/s]\u001b[A\n",
            "Vailing: 100%|██████████| 120/120 [00:32<00:00,  3.72it/s]\n"
          ]
        },
        {
          "name": "stdout",
          "output_type": "stream",
          "text": [
            "验证集评估报告：\n",
            "               precision    recall  f1-score   support\n",
            "\n",
            "           0       0.60      0.79      0.68       700\n",
            "           1       0.67      0.89      0.77       701\n",
            "           2       0.91      0.89      0.90      3793\n",
            "           3       0.82      0.85      0.84      1574\n",
            "           4       0.89      0.90      0.90      1593\n",
            "           5       0.91      0.86      0.88      1940\n",
            "           6       0.86      0.77      0.81      1695\n",
            "           7       0.83      0.84      0.83      1002\n",
            "           8       0.89      0.85      0.87      2327\n",
            "\n",
            "    accuracy                           0.85     15325\n",
            "   macro avg       0.82      0.85      0.83     15325\n",
            "weighted avg       0.86      0.85      0.86     15325\n",
            "\n",
            "验证集的f1: 0.8303, accuracy:0.8536, precision:0.8210, recall:0.8470\n"
          ]
        },
        {
          "name": "stderr",
          "output_type": "stream",
          "text": [
            "\rtraining....:  32%|███▏      | 700/2193 [11:01<4:27:11, 10.74s/it]"
          ]
        },
        {
          "name": "stdout",
          "output_type": "stream",
          "text": [
            "保存模型成功, 当前f1分数: 0.8302779535883198\n"
          ]
        },
        {
          "name": "stderr",
          "output_type": "stream",
          "text": [
            "training....:  32%|███▏      | 710/2193 [11:07<22:10,  1.11it/s]"
          ]
        },
        {
          "name": "stdout",
          "output_type": "stream",
          "text": [
            "epoch:2,batch:710,loss:0.5318,train_f1:0.8362,acc:0.8367\n"
          ]
        },
        {
          "name": "stderr",
          "output_type": "stream",
          "text": [
            "training....:  33%|███▎      | 720/2193 [11:13<15:23,  1.59it/s]"
          ]
        },
        {
          "name": "stdout",
          "output_type": "stream",
          "text": [
            "epoch:2,batch:720,loss:0.5890,train_f1:0.8150,acc:0.8156\n"
          ]
        },
        {
          "name": "stderr",
          "output_type": "stream",
          "text": [
            "training....:  33%|███▎      | 730/2193 [11:19<15:24,  1.58it/s]"
          ]
        },
        {
          "name": "stdout",
          "output_type": "stream",
          "text": [
            "epoch:2,batch:730,loss:0.5510,train_f1:0.8343,acc:0.8344\n"
          ]
        },
        {
          "name": "stderr",
          "output_type": "stream",
          "text": [
            "training....:  34%|███▎      | 740/2193 [11:25<14:57,  1.62it/s]"
          ]
        },
        {
          "name": "stdout",
          "output_type": "stream",
          "text": [
            "epoch:2,batch:740,loss:0.5455,train_f1:0.8291,acc:0.8305\n"
          ]
        },
        {
          "name": "stderr",
          "output_type": "stream",
          "text": [
            "training....:  34%|███▍      | 750/2193 [11:32<14:59,  1.60it/s]"
          ]
        },
        {
          "name": "stdout",
          "output_type": "stream",
          "text": [
            "epoch:2,batch:750,loss:0.5623,train_f1:0.8319,acc:0.8313\n"
          ]
        },
        {
          "name": "stderr",
          "output_type": "stream",
          "text": [
            "training....:  35%|███▍      | 760/2193 [11:38<14:45,  1.62it/s]"
          ]
        },
        {
          "name": "stdout",
          "output_type": "stream",
          "text": [
            "epoch:2,batch:760,loss:0.5387,train_f1:0.8341,acc:0.8375\n"
          ]
        },
        {
          "name": "stderr",
          "output_type": "stream",
          "text": [
            "training....:  35%|███▌      | 770/2193 [11:44<14:42,  1.61it/s]"
          ]
        },
        {
          "name": "stdout",
          "output_type": "stream",
          "text": [
            "epoch:2,batch:770,loss:0.5331,train_f1:0.8287,acc:0.8289\n"
          ]
        },
        {
          "name": "stderr",
          "output_type": "stream",
          "text": [
            "training....:  36%|███▌      | 780/2193 [11:50<14:31,  1.62it/s]"
          ]
        },
        {
          "name": "stdout",
          "output_type": "stream",
          "text": [
            "epoch:2,batch:780,loss:0.5408,train_f1:0.8341,acc:0.8367\n"
          ]
        },
        {
          "name": "stderr",
          "output_type": "stream",
          "text": [
            "training....:  36%|███▌      | 790/2193 [11:56<14:25,  1.62it/s]"
          ]
        },
        {
          "name": "stdout",
          "output_type": "stream",
          "text": [
            "epoch:2,batch:790,loss:0.5550,train_f1:0.8325,acc:0.8336\n"
          ]
        },
        {
          "name": "stderr",
          "output_type": "stream",
          "text": [
            "training....:  36%|███▋      | 799/2193 [12:02<14:16,  1.63it/s]"
          ]
        },
        {
          "name": "stdout",
          "output_type": "stream",
          "text": [
            "epoch:2,batch:800,loss:0.5184,train_f1:0.8324,acc:0.8328\n"
          ]
        },
        {
          "name": "stderr",
          "output_type": "stream",
          "text": [
            "\n",
            "Vailing:   0%|          | 0/120 [00:00<?, ?it/s]\u001b[A\n",
            "Vailing:   1%|          | 1/120 [00:00<01:08,  1.75it/s]\u001b[A\n",
            "Vailing:   2%|▏         | 2/120 [00:00<00:45,  2.60it/s]\u001b[A\n",
            "Vailing:   2%|▎         | 3/120 [00:01<00:38,  3.05it/s]\u001b[A\n",
            "Vailing:   3%|▎         | 4/120 [00:01<00:34,  3.35it/s]\u001b[A\n",
            "Vailing:   4%|▍         | 5/120 [00:01<00:32,  3.54it/s]\u001b[A\n",
            "Vailing:   5%|▌         | 6/120 [00:01<00:31,  3.68it/s]\u001b[A\n",
            "Vailing:   6%|▌         | 7/120 [00:02<00:30,  3.73it/s]\u001b[A\n",
            "Vailing:   7%|▋         | 8/120 [00:02<00:29,  3.78it/s]\u001b[A\n",
            "Vailing:   8%|▊         | 9/120 [00:02<00:29,  3.82it/s]\u001b[A\n",
            "Vailing:   8%|▊         | 10/120 [00:02<00:28,  3.86it/s]\u001b[A\n",
            "Vailing:   9%|▉         | 11/120 [00:03<00:28,  3.87it/s]\u001b[A\n",
            "Vailing:  10%|█         | 12/120 [00:03<00:27,  3.86it/s]\u001b[A\n",
            "Vailing:  11%|█         | 13/120 [00:03<00:27,  3.85it/s]\u001b[A\n",
            "Vailing:  12%|█▏        | 14/120 [00:03<00:27,  3.87it/s]\u001b[A\n",
            "Vailing:  12%|█▎        | 15/120 [00:04<00:26,  3.89it/s]\u001b[A\n",
            "Vailing:  13%|█▎        | 16/120 [00:04<00:26,  3.92it/s]\u001b[A\n",
            "Vailing:  14%|█▍        | 17/120 [00:04<00:26,  3.90it/s]\u001b[A\n",
            "Vailing:  15%|█▌        | 18/120 [00:04<00:25,  3.94it/s]\u001b[A\n",
            "Vailing:  16%|█▌        | 19/120 [00:05<00:25,  3.91it/s]\u001b[A\n",
            "Vailing:  17%|█▋        | 20/120 [00:05<00:25,  3.88it/s]\u001b[A\n",
            "Vailing:  18%|█▊        | 21/120 [00:05<00:25,  3.90it/s]\u001b[A\n",
            "Vailing:  18%|█▊        | 22/120 [00:05<00:25,  3.90it/s]\u001b[A\n",
            "Vailing:  19%|█▉        | 23/120 [00:06<00:24,  3.89it/s]\u001b[A\n",
            "Vailing:  20%|██        | 24/120 [00:06<00:24,  3.90it/s]\u001b[A\n",
            "Vailing:  21%|██        | 25/120 [00:06<00:24,  3.89it/s]\u001b[A\n",
            "Vailing:  22%|██▏       | 26/120 [00:06<00:23,  3.92it/s]\u001b[A\n",
            "Vailing:  22%|██▎       | 27/120 [00:07<00:24,  3.75it/s]\u001b[A\n",
            "Vailing:  23%|██▎       | 28/120 [00:07<00:24,  3.70it/s]\u001b[A\n",
            "Vailing:  24%|██▍       | 29/120 [00:07<00:25,  3.61it/s]\u001b[A\n",
            "Vailing:  25%|██▌       | 30/120 [00:08<00:25,  3.56it/s]\u001b[A\n",
            "Vailing:  26%|██▌       | 31/120 [00:08<00:25,  3.49it/s]\u001b[A\n",
            "Vailing:  27%|██▋       | 32/120 [00:08<00:25,  3.39it/s]\u001b[A\n",
            "Vailing:  28%|██▊       | 33/120 [00:09<00:26,  3.33it/s]\u001b[A\n",
            "Vailing:  28%|██▊       | 34/120 [00:09<00:25,  3.35it/s]\u001b[A\n",
            "Vailing:  29%|██▉       | 35/120 [00:09<00:25,  3.34it/s]\u001b[A\n",
            "Vailing:  30%|███       | 36/120 [00:09<00:25,  3.35it/s]\u001b[A\n",
            "Vailing:  31%|███       | 37/120 [00:10<00:24,  3.40it/s]\u001b[A\n",
            "Vailing:  32%|███▏      | 38/120 [00:10<00:23,  3.54it/s]\u001b[A\n",
            "Vailing:  32%|███▎      | 39/120 [00:10<00:22,  3.64it/s]\u001b[A\n",
            "Vailing:  33%|███▎      | 40/120 [00:11<00:21,  3.70it/s]\u001b[A\n",
            "Vailing:  34%|███▍      | 41/120 [00:11<00:20,  3.76it/s]\u001b[A\n",
            "Vailing:  35%|███▌      | 42/120 [00:11<00:20,  3.80it/s]\u001b[A\n",
            "Vailing:  36%|███▌      | 43/120 [00:11<00:20,  3.81it/s]\u001b[A\n",
            "Vailing:  37%|███▋      | 44/120 [00:12<00:19,  3.84it/s]\u001b[A\n",
            "Vailing:  38%|███▊      | 45/120 [00:12<00:19,  3.89it/s]\u001b[A\n",
            "Vailing:  38%|███▊      | 46/120 [00:12<00:19,  3.89it/s]\u001b[A\n",
            "Vailing:  39%|███▉      | 47/120 [00:12<00:18,  3.90it/s]\u001b[A\n",
            "Vailing:  40%|████      | 48/120 [00:13<00:18,  3.89it/s]\u001b[A\n",
            "Vailing:  41%|████      | 49/120 [00:13<00:18,  3.90it/s]\u001b[A\n",
            "Vailing:  42%|████▏     | 50/120 [00:13<00:17,  3.91it/s]\u001b[A\n",
            "Vailing:  42%|████▎     | 51/120 [00:13<00:17,  3.90it/s]\u001b[A\n",
            "Vailing:  43%|████▎     | 52/120 [00:14<00:17,  3.86it/s]\u001b[A\n",
            "Vailing:  44%|████▍     | 53/120 [00:14<00:17,  3.89it/s]\u001b[A\n",
            "Vailing:  45%|████▌     | 54/120 [00:14<00:16,  3.89it/s]\u001b[A\n",
            "Vailing:  46%|████▌     | 55/120 [00:14<00:16,  3.89it/s]\u001b[A\n",
            "Vailing:  47%|████▋     | 56/120 [00:15<00:16,  3.90it/s]\u001b[A\n",
            "Vailing:  48%|████▊     | 57/120 [00:15<00:16,  3.87it/s]\u001b[A\n",
            "Vailing:  48%|████▊     | 58/120 [00:15<00:15,  3.88it/s]\u001b[A\n",
            "Vailing:  49%|████▉     | 59/120 [00:15<00:15,  3.86it/s]\u001b[A\n",
            "Vailing:  50%|█████     | 60/120 [00:16<00:15,  3.91it/s]\u001b[A\n",
            "Vailing:  51%|█████     | 61/120 [00:16<00:15,  3.93it/s]\u001b[A\n",
            "Vailing:  52%|█████▏    | 62/120 [00:16<00:14,  3.91it/s]\u001b[A\n",
            "Vailing:  52%|█████▎    | 63/120 [00:16<00:14,  3.92it/s]\u001b[A\n",
            "Vailing:  53%|█████▎    | 64/120 [00:17<00:14,  3.90it/s]\u001b[A\n",
            "Vailing:  54%|█████▍    | 65/120 [00:17<00:14,  3.91it/s]\u001b[A\n",
            "Vailing:  55%|█████▌    | 66/120 [00:17<00:13,  3.88it/s]\u001b[A\n",
            "Vailing:  56%|█████▌    | 67/120 [00:17<00:13,  3.87it/s]\u001b[A\n",
            "Vailing:  57%|█████▋    | 68/120 [00:18<00:13,  3.89it/s]\u001b[A\n",
            "Vailing:  57%|█████▊    | 69/120 [00:18<00:13,  3.91it/s]\u001b[A\n",
            "Vailing:  58%|█████▊    | 70/120 [00:18<00:12,  3.92it/s]\u001b[A\n",
            "Vailing:  59%|█████▉    | 71/120 [00:18<00:12,  3.91it/s]\u001b[A\n",
            "Vailing:  60%|██████    | 72/120 [00:19<00:12,  3.91it/s]\u001b[A\n",
            "Vailing:  61%|██████    | 73/120 [00:19<00:12,  3.88it/s]\u001b[A\n",
            "Vailing:  62%|██████▏   | 74/120 [00:19<00:11,  3.88it/s]\u001b[A\n",
            "Vailing:  62%|██████▎   | 75/120 [00:19<00:11,  3.89it/s]\u001b[A\n",
            "Vailing:  63%|██████▎   | 76/120 [00:20<00:11,  3.82it/s]\u001b[A\n",
            "Vailing:  64%|██████▍   | 77/120 [00:20<00:11,  3.73it/s]\u001b[A\n",
            "Vailing:  65%|██████▌   | 78/120 [00:20<00:11,  3.63it/s]\u001b[A\n",
            "Vailing:  66%|██████▌   | 79/120 [00:21<00:11,  3.50it/s]\u001b[A\n",
            "Vailing:  67%|██████▋   | 80/120 [00:21<00:11,  3.44it/s]\u001b[A\n",
            "Vailing:  68%|██████▊   | 81/120 [00:21<00:11,  3.44it/s]\u001b[A\n",
            "Vailing:  68%|██████▊   | 82/120 [00:22<00:11,  3.36it/s]\u001b[A\n",
            "Vailing:  69%|██████▉   | 83/120 [00:22<00:11,  3.35it/s]\u001b[A\n",
            "Vailing:  70%|███████   | 84/120 [00:22<00:10,  3.33it/s]\u001b[A\n",
            "Vailing:  71%|███████   | 85/120 [00:22<00:10,  3.33it/s]\u001b[A\n",
            "Vailing:  72%|███████▏  | 86/120 [00:23<00:10,  3.37it/s]\u001b[A\n",
            "Vailing:  72%|███████▎  | 87/120 [00:23<00:09,  3.53it/s]\u001b[A\n",
            "Vailing:  73%|███████▎  | 88/120 [00:23<00:08,  3.65it/s]\u001b[A\n",
            "Vailing:  74%|███████▍  | 89/120 [00:23<00:08,  3.72it/s]\u001b[A\n",
            "Vailing:  75%|███████▌  | 90/120 [00:24<00:07,  3.81it/s]\u001b[A\n",
            "Vailing:  76%|███████▌  | 91/120 [00:24<00:07,  3.86it/s]\u001b[A\n",
            "Vailing:  77%|███████▋  | 92/120 [00:24<00:07,  3.86it/s]\u001b[A\n",
            "Vailing:  78%|███████▊  | 93/120 [00:25<00:07,  3.86it/s]\u001b[A\n",
            "Vailing:  78%|███████▊  | 94/120 [00:25<00:06,  3.88it/s]\u001b[A\n",
            "Vailing:  79%|███████▉  | 95/120 [00:25<00:06,  3.93it/s]\u001b[A\n",
            "Vailing:  80%|████████  | 96/120 [00:25<00:06,  3.97it/s]\u001b[A\n",
            "Vailing:  81%|████████  | 97/120 [00:26<00:05,  3.93it/s]\u001b[A\n",
            "Vailing:  82%|████████▏ | 98/120 [00:26<00:05,  3.91it/s]\u001b[A\n",
            "Vailing:  82%|████████▎ | 99/120 [00:26<00:05,  3.92it/s]\u001b[A\n",
            "Vailing:  83%|████████▎ | 100/120 [00:26<00:05,  3.93it/s]\u001b[A\n",
            "Vailing:  84%|████████▍ | 101/120 [00:27<00:04,  3.90it/s]\u001b[A\n",
            "Vailing:  85%|████████▌ | 102/120 [00:27<00:04,  3.90it/s]\u001b[A\n",
            "Vailing:  86%|████████▌ | 103/120 [00:27<00:04,  3.89it/s]\u001b[A\n",
            "Vailing:  87%|████████▋ | 104/120 [00:27<00:04,  3.81it/s]\u001b[A\n",
            "Vailing:  88%|████████▊ | 105/120 [00:28<00:03,  3.82it/s]\u001b[A\n",
            "Vailing:  88%|████████▊ | 106/120 [00:28<00:03,  3.85it/s]\u001b[A\n",
            "Vailing:  89%|████████▉ | 107/120 [00:28<00:03,  3.85it/s]\u001b[A\n",
            "Vailing:  90%|█████████ | 108/120 [00:28<00:03,  3.86it/s]\u001b[A\n",
            "Vailing:  91%|█████████ | 109/120 [00:29<00:02,  3.86it/s]\u001b[A\n",
            "Vailing:  92%|█████████▏| 110/120 [00:29<00:02,  3.87it/s]\u001b[A\n",
            "Vailing:  92%|█████████▎| 111/120 [00:29<00:02,  3.85it/s]\u001b[A\n",
            "Vailing:  93%|█████████▎| 112/120 [00:29<00:02,  3.82it/s]\u001b[A\n",
            "Vailing:  94%|█████████▍| 113/120 [00:30<00:01,  3.84it/s]\u001b[A\n",
            "Vailing:  95%|█████████▌| 114/120 [00:30<00:01,  3.86it/s]\u001b[A\n",
            "Vailing:  96%|█████████▌| 115/120 [00:30<00:01,  3.87it/s]\u001b[A\n",
            "Vailing:  97%|█████████▋| 116/120 [00:30<00:01,  3.88it/s]\u001b[A\n",
            "Vailing:  98%|█████████▊| 117/120 [00:31<00:00,  3.88it/s]\u001b[A\n",
            "Vailing:  98%|█████████▊| 118/120 [00:31<00:00,  3.91it/s]\u001b[A\n",
            "Vailing:  99%|█████████▉| 119/120 [00:31<00:00,  3.91it/s]\u001b[A\n",
            "Vailing: 100%|██████████| 120/120 [00:31<00:00,  3.76it/s]\n"
          ]
        },
        {
          "name": "stdout",
          "output_type": "stream",
          "text": [
            "验证集评估报告：\n",
            "               precision    recall  f1-score   support\n",
            "\n",
            "           0       0.65      0.79      0.71       700\n",
            "           1       0.73      0.88      0.80       701\n",
            "           2       0.93      0.88      0.90      3793\n",
            "           3       0.80      0.87      0.83      1574\n",
            "           4       0.89      0.90      0.90      1593\n",
            "           5       0.92      0.86      0.89      1940\n",
            "           6       0.82      0.80      0.81      1695\n",
            "           7       0.81      0.84      0.82      1002\n",
            "           8       0.89      0.85      0.87      2327\n",
            "\n",
            "    accuracy                           0.86     15325\n",
            "   macro avg       0.83      0.85      0.84     15325\n",
            "weighted avg       0.86      0.86      0.86     15325\n",
            "\n",
            "验证集的f1: 0.8364, accuracy:0.8571, precision:0.8257, recall:0.8511\n"
          ]
        },
        {
          "name": "stderr",
          "output_type": "stream",
          "text": [
            "\rtraining....:  36%|███▋      | 800/2193 [12:36<4:05:39, 10.58s/it]"
          ]
        },
        {
          "name": "stdout",
          "output_type": "stream",
          "text": [
            "保存模型成功, 当前f1分数: 0.8363559102504579\n"
          ]
        },
        {
          "name": "stderr",
          "output_type": "stream",
          "text": [
            "training....:  37%|███▋      | 810/2193 [12:42<20:33,  1.12it/s]"
          ]
        },
        {
          "name": "stdout",
          "output_type": "stream",
          "text": [
            "epoch:2,batch:810,loss:0.5128,train_f1:0.8387,acc:0.8398\n"
          ]
        },
        {
          "name": "stderr",
          "output_type": "stream",
          "text": [
            "training....:  37%|███▋      | 820/2193 [12:48<14:19,  1.60it/s]"
          ]
        },
        {
          "name": "stdout",
          "output_type": "stream",
          "text": [
            "epoch:2,batch:820,loss:0.5056,train_f1:0.8424,acc:0.8422\n"
          ]
        },
        {
          "name": "stderr",
          "output_type": "stream",
          "text": [
            "training....:  38%|███▊      | 830/2193 [12:54<14:03,  1.62it/s]"
          ]
        },
        {
          "name": "stdout",
          "output_type": "stream",
          "text": [
            "epoch:2,batch:830,loss:0.5017,train_f1:0.8485,acc:0.8484\n"
          ]
        },
        {
          "name": "stderr",
          "output_type": "stream",
          "text": [
            "training....:  38%|███▊      | 840/2193 [13:00<13:57,  1.62it/s]"
          ]
        },
        {
          "name": "stdout",
          "output_type": "stream",
          "text": [
            "epoch:2,batch:840,loss:0.5493,train_f1:0.8332,acc:0.8313\n"
          ]
        },
        {
          "name": "stderr",
          "output_type": "stream",
          "text": [
            "training....:  39%|███▉      | 850/2193 [13:06<13:51,  1.61it/s]"
          ]
        },
        {
          "name": "stdout",
          "output_type": "stream",
          "text": [
            "epoch:2,batch:850,loss:0.5497,train_f1:0.8309,acc:0.8297\n"
          ]
        },
        {
          "name": "stderr",
          "output_type": "stream",
          "text": [
            "training....:  39%|███▉      | 860/2193 [13:12<13:47,  1.61it/s]"
          ]
        },
        {
          "name": "stdout",
          "output_type": "stream",
          "text": [
            "epoch:2,batch:860,loss:0.5148,train_f1:0.8451,acc:0.8461\n"
          ]
        },
        {
          "name": "stderr",
          "output_type": "stream",
          "text": [
            "training....:  40%|███▉      | 870/2193 [13:19<13:34,  1.62it/s]"
          ]
        },
        {
          "name": "stdout",
          "output_type": "stream",
          "text": [
            "epoch:2,batch:870,loss:0.5543,train_f1:0.8301,acc:0.8305\n"
          ]
        },
        {
          "name": "stderr",
          "output_type": "stream",
          "text": [
            "training....:  40%|████      | 880/2193 [13:25<13:29,  1.62it/s]"
          ]
        },
        {
          "name": "stdout",
          "output_type": "stream",
          "text": [
            "epoch:2,batch:880,loss:0.5350,train_f1:0.8334,acc:0.8313\n"
          ]
        },
        {
          "name": "stderr",
          "output_type": "stream",
          "text": [
            "training....:  41%|████      | 890/2193 [13:31<13:27,  1.61it/s]"
          ]
        },
        {
          "name": "stdout",
          "output_type": "stream",
          "text": [
            "epoch:2,batch:890,loss:0.5127,train_f1:0.8439,acc:0.8453\n"
          ]
        },
        {
          "name": "stderr",
          "output_type": "stream",
          "text": [
            "training....:  41%|████      | 899/2193 [13:36<13:15,  1.63it/s]"
          ]
        },
        {
          "name": "stdout",
          "output_type": "stream",
          "text": [
            "epoch:2,batch:900,loss:0.5269,train_f1:0.8310,acc:0.8297\n"
          ]
        },
        {
          "name": "stderr",
          "output_type": "stream",
          "text": [
            "\n",
            "Vailing:   0%|          | 0/120 [00:00<?, ?it/s]\u001b[A\n",
            "Vailing:   1%|          | 1/120 [00:00<01:09,  1.71it/s]\u001b[A\n",
            "Vailing:   2%|▏         | 2/120 [00:00<00:46,  2.54it/s]\u001b[A\n",
            "Vailing:   2%|▎         | 3/120 [00:01<00:38,  3.03it/s]\u001b[A\n",
            "Vailing:   3%|▎         | 4/120 [00:01<00:35,  3.31it/s]\u001b[A\n",
            "Vailing:   4%|▍         | 5/120 [00:01<00:33,  3.48it/s]\u001b[A\n",
            "Vailing:   5%|▌         | 6/120 [00:01<00:31,  3.62it/s]\u001b[A\n",
            "Vailing:   6%|▌         | 7/120 [00:02<00:30,  3.71it/s]\u001b[A\n",
            "Vailing:   7%|▋         | 8/120 [00:02<00:29,  3.78it/s]\u001b[A\n",
            "Vailing:   8%|▊         | 9/120 [00:02<00:29,  3.81it/s]\u001b[A\n",
            "Vailing:   8%|▊         | 10/120 [00:02<00:28,  3.82it/s]\u001b[A\n",
            "Vailing:   9%|▉         | 11/120 [00:03<00:28,  3.85it/s]\u001b[A\n",
            "Vailing:  10%|█         | 12/120 [00:03<00:27,  3.86it/s]\u001b[A\n",
            "Vailing:  11%|█         | 13/120 [00:03<00:27,  3.86it/s]\u001b[A\n",
            "Vailing:  12%|█▏        | 14/120 [00:03<00:27,  3.87it/s]\u001b[A\n",
            "Vailing:  12%|█▎        | 15/120 [00:04<00:27,  3.87it/s]\u001b[A\n",
            "Vailing:  13%|█▎        | 16/120 [00:04<00:28,  3.70it/s]\u001b[A\n",
            "Vailing:  14%|█▍        | 17/120 [00:04<00:29,  3.55it/s]\u001b[A\n",
            "Vailing:  15%|█▌        | 18/120 [00:05<00:28,  3.57it/s]\u001b[A\n",
            "Vailing:  16%|█▌        | 19/120 [00:05<00:28,  3.49it/s]\u001b[A\n",
            "Vailing:  17%|█▋        | 20/120 [00:05<00:29,  3.44it/s]\u001b[A\n",
            "Vailing:  18%|█▊        | 21/120 [00:05<00:28,  3.47it/s]\u001b[A\n",
            "Vailing:  18%|█▊        | 22/120 [00:06<00:28,  3.45it/s]\u001b[A\n",
            "Vailing:  19%|█▉        | 23/120 [00:06<00:28,  3.46it/s]\u001b[A\n",
            "Vailing:  20%|██        | 24/120 [00:06<00:28,  3.38it/s]\u001b[A\n",
            "Vailing:  21%|██        | 25/120 [00:07<00:27,  3.41it/s]\u001b[A\n",
            "Vailing:  22%|██▏       | 26/120 [00:07<00:28,  3.34it/s]\u001b[A\n",
            "Vailing:  22%|██▎       | 27/120 [00:07<00:26,  3.50it/s]\u001b[A\n",
            "Vailing:  23%|██▎       | 28/120 [00:07<00:25,  3.63it/s]\u001b[A\n",
            "Vailing:  24%|██▍       | 29/120 [00:08<00:24,  3.69it/s]\u001b[A\n",
            "Vailing:  25%|██▌       | 30/120 [00:08<00:23,  3.75it/s]\u001b[A\n",
            "Vailing:  26%|██▌       | 31/120 [00:08<00:23,  3.76it/s]\u001b[A\n",
            "Vailing:  27%|██▋       | 32/120 [00:08<00:23,  3.81it/s]\u001b[A\n",
            "Vailing:  28%|██▊       | 33/120 [00:09<00:22,  3.84it/s]\u001b[A\n",
            "Vailing:  28%|██▊       | 34/120 [00:09<00:22,  3.85it/s]\u001b[A\n",
            "Vailing:  29%|██▉       | 35/120 [00:09<00:21,  3.87it/s]\u001b[A\n",
            "Vailing:  30%|███       | 36/120 [00:10<00:21,  3.88it/s]\u001b[A\n",
            "Vailing:  31%|███       | 37/120 [00:10<00:21,  3.87it/s]\u001b[A\n",
            "Vailing:  32%|███▏      | 38/120 [00:10<00:21,  3.86it/s]\u001b[A\n",
            "Vailing:  32%|███▎      | 39/120 [00:10<00:20,  3.91it/s]\u001b[A\n",
            "Vailing:  33%|███▎      | 40/120 [00:11<00:20,  3.89it/s]\u001b[A\n",
            "Vailing:  34%|███▍      | 41/120 [00:11<00:20,  3.84it/s]\u001b[A\n",
            "Vailing:  35%|███▌      | 42/120 [00:11<00:20,  3.85it/s]\u001b[A\n",
            "Vailing:  36%|███▌      | 43/120 [00:11<00:19,  3.89it/s]\u001b[A\n",
            "Vailing:  37%|███▋      | 44/120 [00:12<00:19,  3.90it/s]\u001b[A\n",
            "Vailing:  38%|███▊      | 45/120 [00:12<00:19,  3.90it/s]\u001b[A\n",
            "Vailing:  38%|███▊      | 46/120 [00:12<00:19,  3.89it/s]\u001b[A\n",
            "Vailing:  39%|███▉      | 47/120 [00:12<00:18,  3.87it/s]\u001b[A\n",
            "Vailing:  40%|████      | 48/120 [00:13<00:18,  3.86it/s]\u001b[A\n",
            "Vailing:  41%|████      | 49/120 [00:13<00:18,  3.88it/s]\u001b[A\n",
            "Vailing:  42%|████▏     | 50/120 [00:13<00:17,  3.90it/s]\u001b[A\n",
            "Vailing:  42%|████▎     | 51/120 [00:13<00:17,  3.92it/s]\u001b[A\n",
            "Vailing:  43%|████▎     | 52/120 [00:14<00:17,  3.87it/s]\u001b[A\n",
            "Vailing:  44%|████▍     | 53/120 [00:14<00:17,  3.89it/s]\u001b[A\n",
            "Vailing:  45%|████▌     | 54/120 [00:14<00:16,  3.90it/s]\u001b[A\n",
            "Vailing:  46%|████▌     | 55/120 [00:14<00:16,  3.89it/s]\u001b[A\n",
            "Vailing:  47%|████▋     | 56/120 [00:15<00:16,  3.81it/s]\u001b[A\n",
            "Vailing:  48%|████▊     | 57/120 [00:15<00:16,  3.83it/s]\u001b[A\n",
            "Vailing:  48%|████▊     | 58/120 [00:15<00:16,  3.83it/s]\u001b[A\n",
            "Vailing:  49%|████▉     | 59/120 [00:15<00:15,  3.88it/s]\u001b[A\n",
            "Vailing:  50%|█████     | 60/120 [00:16<00:15,  3.80it/s]\u001b[A\n",
            "Vailing:  51%|█████     | 61/120 [00:16<00:15,  3.81it/s]\u001b[A\n",
            "Vailing:  52%|█████▏    | 62/120 [00:16<00:15,  3.84it/s]\u001b[A\n",
            "Vailing:  52%|█████▎    | 63/120 [00:17<00:14,  3.85it/s]\u001b[A\n",
            "Vailing:  53%|█████▎    | 64/120 [00:17<00:14,  3.78it/s]\u001b[A\n",
            "Vailing:  54%|█████▍    | 65/120 [00:17<00:14,  3.83it/s]\u001b[A\n",
            "Vailing:  55%|█████▌    | 66/120 [00:17<00:14,  3.66it/s]\u001b[A\n",
            "Vailing:  56%|█████▌    | 67/120 [00:18<00:15,  3.52it/s]\u001b[A\n",
            "Vailing:  57%|█████▋    | 68/120 [00:18<00:14,  3.50it/s]\u001b[A\n",
            "Vailing:  57%|█████▊    | 69/120 [00:18<00:14,  3.53it/s]\u001b[A\n",
            "Vailing:  58%|█████▊    | 70/120 [00:19<00:14,  3.49it/s]\u001b[A\n",
            "Vailing:  59%|█████▉    | 71/120 [00:19<00:14,  3.43it/s]\u001b[A\n",
            "Vailing:  60%|██████    | 72/120 [00:19<00:14,  3.39it/s]\u001b[A\n",
            "Vailing:  61%|██████    | 73/120 [00:19<00:13,  3.44it/s]\u001b[A\n",
            "Vailing:  62%|██████▏   | 74/120 [00:20<00:13,  3.42it/s]\u001b[A\n",
            "Vailing:  62%|██████▎   | 75/120 [00:20<00:13,  3.39it/s]\u001b[A\n",
            "Vailing:  63%|██████▎   | 76/120 [00:20<00:12,  3.42it/s]\u001b[A\n",
            "Vailing:  64%|██████▍   | 77/120 [00:21<00:12,  3.57it/s]\u001b[A\n",
            "Vailing:  65%|██████▌   | 78/120 [00:21<00:11,  3.69it/s]\u001b[A\n",
            "Vailing:  66%|██████▌   | 79/120 [00:21<00:10,  3.75it/s]\u001b[A\n",
            "Vailing:  67%|██████▋   | 80/120 [00:21<00:10,  3.80it/s]\u001b[A\n",
            "Vailing:  68%|██████▊   | 81/120 [00:22<00:10,  3.81it/s]\u001b[A\n",
            "Vailing:  68%|██████▊   | 82/120 [00:22<00:09,  3.85it/s]\u001b[A\n",
            "Vailing:  69%|██████▉   | 83/120 [00:22<00:09,  3.86it/s]\u001b[A\n",
            "Vailing:  70%|███████   | 84/120 [00:22<00:09,  3.89it/s]\u001b[A\n",
            "Vailing:  71%|███████   | 85/120 [00:23<00:08,  3.89it/s]\u001b[A\n",
            "Vailing:  72%|███████▏  | 86/120 [00:23<00:08,  3.91it/s]\u001b[A\n",
            "Vailing:  72%|███████▎  | 87/120 [00:23<00:08,  3.80it/s]\u001b[A\n",
            "Vailing:  73%|███████▎  | 88/120 [00:23<00:08,  3.85it/s]\u001b[A\n",
            "Vailing:  74%|███████▍  | 89/120 [00:24<00:08,  3.84it/s]\u001b[A\n",
            "Vailing:  75%|███████▌  | 90/120 [00:24<00:07,  3.87it/s]\u001b[A\n",
            "Vailing:  76%|███████▌  | 91/120 [00:24<00:07,  3.83it/s]\u001b[A\n",
            "Vailing:  77%|███████▋  | 92/120 [00:24<00:07,  3.83it/s]\u001b[A\n",
            "Vailing:  78%|███████▊  | 93/120 [00:25<00:07,  3.82it/s]\u001b[A\n",
            "Vailing:  78%|███████▊  | 94/120 [00:25<00:06,  3.85it/s]\u001b[A\n",
            "Vailing:  79%|███████▉  | 95/120 [00:25<00:06,  3.85it/s]\u001b[A\n",
            "Vailing:  80%|████████  | 96/120 [00:25<00:06,  3.84it/s]\u001b[A\n",
            "Vailing:  81%|████████  | 97/120 [00:26<00:05,  3.86it/s]\u001b[A\n",
            "Vailing:  82%|████████▏ | 98/120 [00:26<00:05,  3.87it/s]\u001b[A\n",
            "Vailing:  82%|████████▎ | 99/120 [00:26<00:05,  3.90it/s]\u001b[A\n",
            "Vailing:  83%|████████▎ | 100/120 [00:26<00:05,  3.92it/s]\u001b[A\n",
            "Vailing:  84%|████████▍ | 101/120 [00:27<00:04,  3.88it/s]\u001b[A\n",
            "Vailing:  85%|████████▌ | 102/120 [00:27<00:04,  3.88it/s]\u001b[A\n",
            "Vailing:  86%|████████▌ | 103/120 [00:27<00:04,  3.88it/s]\u001b[A\n",
            "Vailing:  87%|████████▋ | 104/120 [00:27<00:04,  3.90it/s]\u001b[A\n",
            "Vailing:  88%|████████▊ | 105/120 [00:28<00:03,  3.90it/s]\u001b[A\n",
            "Vailing:  88%|████████▊ | 106/120 [00:28<00:03,  3.88it/s]\u001b[A\n",
            "Vailing:  89%|████████▉ | 107/120 [00:28<00:03,  3.85it/s]\u001b[A\n",
            "Vailing:  90%|█████████ | 108/120 [00:29<00:03,  3.88it/s]\u001b[A\n",
            "Vailing:  91%|█████████ | 109/120 [00:29<00:02,  3.86it/s]\u001b[A\n",
            "Vailing:  92%|█████████▏| 110/120 [00:29<00:02,  3.86it/s]\u001b[A\n",
            "Vailing:  92%|█████████▎| 111/120 [00:29<00:02,  3.90it/s]\u001b[A\n",
            "Vailing:  93%|█████████▎| 112/120 [00:30<00:02,  3.89it/s]\u001b[A\n",
            "Vailing:  94%|█████████▍| 113/120 [00:30<00:01,  3.91it/s]\u001b[A\n",
            "Vailing:  95%|█████████▌| 114/120 [00:30<00:01,  3.91it/s]\u001b[A\n",
            "Vailing:  96%|█████████▌| 115/120 [00:30<00:01,  3.69it/s]\u001b[A\n",
            "Vailing:  97%|█████████▋| 116/120 [00:31<00:01,  3.53it/s]\u001b[A\n",
            "Vailing:  98%|█████████▊| 117/120 [00:31<00:00,  3.48it/s]\u001b[A\n",
            "Vailing:  98%|█████████▊| 118/120 [00:31<00:00,  3.44it/s]\u001b[A\n",
            "Vailing:  99%|█████████▉| 119/120 [00:32<00:00,  3.41it/s]\u001b[A\n",
            "Vailing: 100%|██████████| 120/120 [00:32<00:00,  3.71it/s]\n"
          ]
        },
        {
          "name": "stdout",
          "output_type": "stream",
          "text": [
            "验证集评估报告：\n",
            "               precision    recall  f1-score   support\n",
            "\n",
            "           0       0.55      0.86      0.67       700\n",
            "           1       0.77      0.88      0.82       701\n",
            "           2       0.93      0.88      0.90      3793\n",
            "           3       0.85      0.84      0.84      1574\n",
            "           4       0.89      0.91      0.90      1593\n",
            "           5       0.92      0.86      0.89      1940\n",
            "           6       0.85      0.80      0.82      1695\n",
            "           7       0.79      0.86      0.82      1002\n",
            "           8       0.91      0.84      0.87      2327\n",
            "\n",
            "    accuracy                           0.86     15325\n",
            "   macro avg       0.83      0.86      0.84     15325\n",
            "weighted avg       0.87      0.86      0.86     15325\n",
            "\n",
            "验证集的f1: 0.8369, accuracy:0.8574, precision:0.8264, recall:0.8571\n"
          ]
        },
        {
          "name": "stderr",
          "output_type": "stream",
          "text": [
            "\rtraining....:  41%|████      | 900/2193 [14:11<3:52:06, 10.77s/it]"
          ]
        },
        {
          "name": "stdout",
          "output_type": "stream",
          "text": [
            "保存模型成功, 当前f1分数: 0.8368937882547111\n"
          ]
        },
        {
          "name": "stderr",
          "output_type": "stream",
          "text": [
            "training....:  41%|████▏     | 910/2193 [14:17<19:14,  1.11it/s]"
          ]
        },
        {
          "name": "stdout",
          "output_type": "stream",
          "text": [
            "epoch:2,batch:910,loss:0.5265,train_f1:0.8297,acc:0.8328\n"
          ]
        },
        {
          "name": "stderr",
          "output_type": "stream",
          "text": [
            "training....:  42%|████▏     | 920/2193 [14:23<13:34,  1.56it/s]"
          ]
        },
        {
          "name": "stdout",
          "output_type": "stream",
          "text": [
            "epoch:2,batch:920,loss:0.4747,train_f1:0.8623,acc:0.8641\n"
          ]
        },
        {
          "name": "stderr",
          "output_type": "stream",
          "text": [
            "training....:  42%|████▏     | 930/2193 [14:29<13:01,  1.62it/s]"
          ]
        },
        {
          "name": "stdout",
          "output_type": "stream",
          "text": [
            "epoch:2,batch:930,loss:0.5171,train_f1:0.8374,acc:0.8375\n"
          ]
        },
        {
          "name": "stderr",
          "output_type": "stream",
          "text": [
            "training....:  43%|████▎     | 940/2193 [14:35<12:57,  1.61it/s]"
          ]
        },
        {
          "name": "stdout",
          "output_type": "stream",
          "text": [
            "epoch:2,batch:940,loss:0.5137,train_f1:0.8339,acc:0.8352\n"
          ]
        },
        {
          "name": "stderr",
          "output_type": "stream",
          "text": [
            "training....:  43%|████▎     | 950/2193 [14:41<12:48,  1.62it/s]"
          ]
        },
        {
          "name": "stdout",
          "output_type": "stream",
          "text": [
            "epoch:2,batch:950,loss:0.5549,train_f1:0.8324,acc:0.8320\n"
          ]
        },
        {
          "name": "stderr",
          "output_type": "stream",
          "text": [
            "training....:  44%|████▍     | 960/2193 [14:48<12:42,  1.62it/s]"
          ]
        },
        {
          "name": "stdout",
          "output_type": "stream",
          "text": [
            "epoch:2,batch:960,loss:0.5416,train_f1:0.8264,acc:0.8281\n"
          ]
        },
        {
          "name": "stderr",
          "output_type": "stream",
          "text": [
            "training....:  44%|████▍     | 970/2193 [14:54<12:36,  1.62it/s]"
          ]
        },
        {
          "name": "stdout",
          "output_type": "stream",
          "text": [
            "epoch:2,batch:970,loss:0.5376,train_f1:0.8416,acc:0.8422\n"
          ]
        },
        {
          "name": "stderr",
          "output_type": "stream",
          "text": [
            "training....:  45%|████▍     | 980/2193 [15:00<12:29,  1.62it/s]"
          ]
        },
        {
          "name": "stdout",
          "output_type": "stream",
          "text": [
            "epoch:2,batch:980,loss:0.5488,train_f1:0.8351,acc:0.8367\n"
          ]
        },
        {
          "name": "stderr",
          "output_type": "stream",
          "text": [
            "training....:  45%|████▌     | 990/2193 [15:06<12:21,  1.62it/s]"
          ]
        },
        {
          "name": "stdout",
          "output_type": "stream",
          "text": [
            "epoch:2,batch:990,loss:0.5506,train_f1:0.8306,acc:0.8320\n"
          ]
        },
        {
          "name": "stderr",
          "output_type": "stream",
          "text": [
            "training....:  46%|████▌     | 999/2193 [15:12<12:14,  1.63it/s]"
          ]
        },
        {
          "name": "stdout",
          "output_type": "stream",
          "text": [
            "epoch:2,batch:1000,loss:0.4912,train_f1:0.8400,acc:0.8406\n"
          ]
        },
        {
          "name": "stderr",
          "output_type": "stream",
          "text": [
            "\n",
            "Vailing:   0%|          | 0/120 [00:00<?, ?it/s]\u001b[A\n",
            "Vailing:   1%|          | 1/120 [00:00<01:09,  1.71it/s]\u001b[A\n",
            "Vailing:   2%|▏         | 2/120 [00:00<00:46,  2.56it/s]\u001b[A\n",
            "Vailing:   2%|▎         | 3/120 [00:01<00:38,  3.02it/s]\u001b[A\n",
            "Vailing:   3%|▎         | 4/120 [00:01<00:36,  3.22it/s]\u001b[A\n",
            "Vailing:   4%|▍         | 5/120 [00:01<00:35,  3.26it/s]\u001b[A\n",
            "Vailing:   5%|▌         | 6/120 [00:01<00:34,  3.32it/s]\u001b[A\n",
            "Vailing:   6%|▌         | 7/120 [00:02<00:33,  3.35it/s]\u001b[A\n",
            "Vailing:   7%|▋         | 8/120 [00:02<00:33,  3.38it/s]\u001b[A\n",
            "Vailing:   8%|▊         | 9/120 [00:02<00:32,  3.39it/s]\u001b[A\n",
            "Vailing:   8%|▊         | 10/120 [00:03<00:32,  3.34it/s]\u001b[A\n",
            "Vailing:   9%|▉         | 11/120 [00:03<00:31,  3.41it/s]\u001b[A\n",
            "Vailing:  10%|█         | 12/120 [00:03<00:31,  3.42it/s]\u001b[A\n",
            "Vailing:  11%|█         | 13/120 [00:04<00:31,  3.44it/s]\u001b[A\n",
            "Vailing:  12%|█▏        | 14/120 [00:04<00:30,  3.44it/s]\u001b[A\n",
            "Vailing:  12%|█▎        | 15/120 [00:04<00:31,  3.38it/s]\u001b[A\n",
            "Vailing:  13%|█▎        | 16/120 [00:04<00:29,  3.51it/s]\u001b[A\n",
            "Vailing:  14%|█▍        | 17/120 [00:05<00:28,  3.61it/s]\u001b[A\n",
            "Vailing:  15%|█▌        | 18/120 [00:05<00:27,  3.70it/s]\u001b[A\n",
            "Vailing:  16%|█▌        | 19/120 [00:05<00:27,  3.70it/s]\u001b[A\n",
            "Vailing:  17%|█▋        | 20/120 [00:05<00:26,  3.75it/s]\u001b[A\n",
            "Vailing:  18%|█▊        | 21/120 [00:06<00:25,  3.81it/s]\u001b[A\n",
            "Vailing:  18%|█▊        | 22/120 [00:06<00:25,  3.84it/s]\u001b[A\n",
            "Vailing:  19%|█▉        | 23/120 [00:06<00:25,  3.80it/s]\u001b[A\n",
            "Vailing:  20%|██        | 24/120 [00:06<00:25,  3.84it/s]\u001b[A\n",
            "Vailing:  21%|██        | 25/120 [00:07<00:24,  3.86it/s]\u001b[A\n",
            "Vailing:  22%|██▏       | 26/120 [00:07<00:24,  3.89it/s]\u001b[A\n",
            "Vailing:  22%|██▎       | 27/120 [00:07<00:24,  3.83it/s]\u001b[A\n",
            "Vailing:  23%|██▎       | 28/120 [00:07<00:23,  3.85it/s]\u001b[A\n",
            "Vailing:  24%|██▍       | 29/120 [00:08<00:23,  3.90it/s]\u001b[A\n",
            "Vailing:  25%|██▌       | 30/120 [00:08<00:23,  3.90it/s]\u001b[A\n",
            "Vailing:  26%|██▌       | 31/120 [00:08<00:23,  3.80it/s]\u001b[A\n",
            "Vailing:  27%|██▋       | 32/120 [00:09<00:23,  3.82it/s]\u001b[A\n",
            "Vailing:  28%|██▊       | 33/120 [00:09<00:22,  3.82it/s]\u001b[A\n",
            "Vailing:  28%|██▊       | 34/120 [00:09<00:22,  3.87it/s]\u001b[A\n",
            "Vailing:  29%|██▉       | 35/120 [00:09<00:22,  3.78it/s]\u001b[A\n",
            "Vailing:  30%|███       | 36/120 [00:10<00:22,  3.82it/s]\u001b[A\n",
            "Vailing:  31%|███       | 37/120 [00:10<00:21,  3.81it/s]\u001b[A\n",
            "Vailing:  32%|███▏      | 38/120 [00:10<00:21,  3.87it/s]\u001b[A\n",
            "Vailing:  32%|███▎      | 39/120 [00:10<00:21,  3.80it/s]\u001b[A\n",
            "Vailing:  33%|███▎      | 40/120 [00:11<00:20,  3.83it/s]\u001b[A\n",
            "Vailing:  34%|███▍      | 41/120 [00:11<00:20,  3.87it/s]\u001b[A\n",
            "Vailing:  35%|███▌      | 42/120 [00:11<00:20,  3.88it/s]\u001b[A\n",
            "Vailing:  36%|███▌      | 43/120 [00:11<00:20,  3.83it/s]\u001b[A\n",
            "Vailing:  37%|███▋      | 44/120 [00:12<00:19,  3.84it/s]\u001b[A\n",
            "Vailing:  38%|███▊      | 45/120 [00:12<00:19,  3.88it/s]\u001b[A\n",
            "Vailing:  38%|███▊      | 46/120 [00:12<00:19,  3.84it/s]\u001b[A\n",
            "Vailing:  39%|███▉      | 47/120 [00:12<00:19,  3.78it/s]\u001b[A\n",
            "Vailing:  40%|████      | 48/120 [00:13<00:18,  3.83it/s]\u001b[A\n",
            "Vailing:  41%|████      | 49/120 [00:13<00:18,  3.87it/s]\u001b[A\n",
            "Vailing:  42%|████▏     | 50/120 [00:13<00:18,  3.86it/s]\u001b[A\n",
            "Vailing:  42%|████▎     | 51/120 [00:13<00:18,  3.81it/s]\u001b[A\n",
            "Vailing:  43%|████▎     | 52/120 [00:14<00:17,  3.84it/s]\u001b[A\n",
            "Vailing:  44%|████▍     | 53/120 [00:14<00:17,  3.83it/s]\u001b[A\n",
            "Vailing:  45%|████▌     | 54/120 [00:14<00:17,  3.84it/s]\u001b[A\n",
            "Vailing:  46%|████▌     | 55/120 [00:15<00:17,  3.62it/s]\u001b[A\n",
            "Vailing:  47%|████▋     | 56/120 [00:15<00:18,  3.48it/s]\u001b[A\n",
            "Vailing:  48%|████▊     | 57/120 [00:15<00:18,  3.42it/s]\u001b[A\n",
            "Vailing:  48%|████▊     | 58/120 [00:15<00:18,  3.37it/s]\u001b[A\n",
            "Vailing:  49%|████▉     | 59/120 [00:16<00:18,  3.33it/s]\u001b[A\n",
            "Vailing:  50%|█████     | 60/120 [00:16<00:17,  3.35it/s]\u001b[A\n",
            "Vailing:  51%|█████     | 61/120 [00:16<00:17,  3.39it/s]\u001b[A\n",
            "Vailing:  52%|█████▏    | 62/120 [00:17<00:17,  3.37it/s]\u001b[A\n",
            "Vailing:  52%|█████▎    | 63/120 [00:17<00:16,  3.39it/s]\u001b[A\n",
            "Vailing:  53%|█████▎    | 64/120 [00:17<00:16,  3.39it/s]\u001b[A\n",
            "Vailing:  54%|█████▍    | 65/120 [00:18<00:15,  3.54it/s]\u001b[A\n",
            "Vailing:  55%|█████▌    | 66/120 [00:18<00:14,  3.62it/s]\u001b[A\n",
            "Vailing:  56%|█████▌    | 67/120 [00:18<00:14,  3.70it/s]\u001b[A\n",
            "Vailing:  57%|█████▋    | 68/120 [00:18<00:14,  3.62it/s]\u001b[A\n",
            "Vailing:  57%|█████▊    | 69/120 [00:19<00:13,  3.68it/s]\u001b[A\n",
            "Vailing:  58%|█████▊    | 70/120 [00:19<00:13,  3.74it/s]\u001b[A\n",
            "Vailing:  59%|█████▉    | 71/120 [00:19<00:12,  3.80it/s]\u001b[A\n",
            "Vailing:  60%|██████    | 72/120 [00:19<00:12,  3.82it/s]\u001b[A\n",
            "Vailing:  61%|██████    | 73/120 [00:20<00:12,  3.84it/s]\u001b[A\n",
            "Vailing:  62%|██████▏   | 74/120 [00:20<00:12,  3.83it/s]\u001b[A\n",
            "Vailing:  62%|██████▎   | 75/120 [00:20<00:11,  3.85it/s]\u001b[A\n",
            "Vailing:  63%|██████▎   | 76/120 [00:20<00:11,  3.86it/s]\u001b[A\n",
            "Vailing:  64%|██████▍   | 77/120 [00:21<00:11,  3.81it/s]\u001b[A\n",
            "Vailing:  65%|██████▌   | 78/120 [00:21<00:11,  3.79it/s]\u001b[A\n",
            "Vailing:  66%|██████▌   | 79/120 [00:21<00:10,  3.78it/s]\u001b[A\n",
            "Vailing:  67%|██████▋   | 80/120 [00:21<00:10,  3.82it/s]\u001b[A\n",
            "Vailing:  68%|██████▊   | 81/120 [00:22<00:10,  3.85it/s]\u001b[A\n",
            "Vailing:  68%|██████▊   | 82/120 [00:22<00:09,  3.86it/s]\u001b[A\n",
            "Vailing:  69%|██████▉   | 83/120 [00:22<00:09,  3.84it/s]\u001b[A\n",
            "Vailing:  70%|███████   | 84/120 [00:22<00:09,  3.85it/s]\u001b[A\n",
            "Vailing:  71%|███████   | 85/120 [00:23<00:09,  3.82it/s]\u001b[A\n",
            "Vailing:  72%|███████▏  | 86/120 [00:23<00:08,  3.83it/s]\u001b[A\n",
            "Vailing:  72%|███████▎  | 87/120 [00:23<00:08,  3.82it/s]\u001b[A\n",
            "Vailing:  73%|███████▎  | 88/120 [00:24<00:08,  3.84it/s]\u001b[A\n",
            "Vailing:  74%|███████▍  | 89/120 [00:24<00:08,  3.87it/s]\u001b[A\n",
            "Vailing:  75%|███████▌  | 90/120 [00:24<00:07,  3.88it/s]\u001b[A\n",
            "Vailing:  76%|███████▌  | 91/120 [00:24<00:07,  3.89it/s]\u001b[A\n",
            "Vailing:  77%|███████▋  | 92/120 [00:25<00:07,  3.91it/s]\u001b[A\n",
            "Vailing:  78%|███████▊  | 93/120 [00:25<00:06,  3.90it/s]\u001b[A\n",
            "Vailing:  78%|███████▊  | 94/120 [00:25<00:06,  3.91it/s]\u001b[A\n",
            "Vailing:  79%|███████▉  | 95/120 [00:25<00:06,  3.89it/s]\u001b[A\n",
            "Vailing:  80%|████████  | 96/120 [00:26<00:06,  3.88it/s]\u001b[A\n",
            "Vailing:  81%|████████  | 97/120 [00:26<00:05,  3.90it/s]\u001b[A\n",
            "Vailing:  82%|████████▏ | 98/120 [00:26<00:05,  3.90it/s]\u001b[A\n",
            "Vailing:  82%|████████▎ | 99/120 [00:26<00:05,  3.88it/s]\u001b[A\n",
            "Vailing:  83%|████████▎ | 100/120 [00:27<00:05,  3.86it/s]\u001b[A\n",
            "Vailing:  84%|████████▍ | 101/120 [00:27<00:04,  3.87it/s]\u001b[A\n",
            "Vailing:  85%|████████▌ | 102/120 [00:27<00:04,  3.87it/s]\u001b[A\n",
            "Vailing:  86%|████████▌ | 103/120 [00:27<00:04,  3.87it/s]\u001b[A\n",
            "Vailing:  87%|████████▋ | 104/120 [00:28<00:04,  3.74it/s]\u001b[A\n",
            "Vailing:  88%|████████▊ | 105/120 [00:28<00:04,  3.56it/s]\u001b[A\n",
            "Vailing:  88%|████████▊ | 106/120 [00:28<00:03,  3.52it/s]\u001b[A\n",
            "Vailing:  89%|████████▉ | 107/120 [00:29<00:03,  3.52it/s]\u001b[A\n",
            "Vailing:  90%|█████████ | 108/120 [00:29<00:03,  3.48it/s]\u001b[A\n",
            "Vailing:  91%|█████████ | 109/120 [00:29<00:03,  3.38it/s]\u001b[A\n",
            "Vailing:  92%|█████████▏| 110/120 [00:29<00:02,  3.39it/s]\u001b[A\n",
            "Vailing:  92%|█████████▎| 111/120 [00:30<00:02,  3.43it/s]\u001b[A\n",
            "Vailing:  93%|█████████▎| 112/120 [00:30<00:02,  3.45it/s]\u001b[A\n",
            "Vailing:  94%|█████████▍| 113/120 [00:30<00:02,  3.46it/s]\u001b[A\n",
            "Vailing:  95%|█████████▌| 114/120 [00:31<00:01,  3.45it/s]\u001b[A\n",
            "Vailing:  96%|█████████▌| 115/120 [00:31<00:01,  3.57it/s]\u001b[A\n",
            "Vailing:  97%|█████████▋| 116/120 [00:31<00:01,  3.65it/s]\u001b[A\n",
            "Vailing:  98%|█████████▊| 117/120 [00:31<00:00,  3.71it/s]\u001b[A\n",
            "Vailing:  98%|█████████▊| 118/120 [00:32<00:00,  3.75it/s]\u001b[A\n",
            "Vailing:  99%|█████████▉| 119/120 [00:32<00:00,  3.80it/s]\u001b[A\n",
            "Vailing: 100%|██████████| 120/120 [00:32<00:00,  3.68it/s]\n",
            "training....:  46%|████▌     | 1000/2193 [15:45<3:27:20, 10.43s/it]"
          ]
        },
        {
          "name": "stdout",
          "output_type": "stream",
          "text": [
            "验证集评估报告：\n",
            "               precision    recall  f1-score   support\n",
            "\n",
            "           0       0.62      0.80      0.70       700\n",
            "           1       0.65      0.91      0.76       701\n",
            "           2       0.95      0.85      0.90      3793\n",
            "           3       0.82      0.85      0.84      1574\n",
            "           4       0.88      0.91      0.89      1593\n",
            "           5       0.89      0.88      0.89      1940\n",
            "           6       0.86      0.78      0.82      1695\n",
            "           7       0.82      0.84      0.83      1002\n",
            "           8       0.89      0.86      0.88      2327\n",
            "\n",
            "    accuracy                           0.86     15325\n",
            "   macro avg       0.82      0.86      0.83     15325\n",
            "weighted avg       0.87      0.86      0.86     15325\n",
            "\n",
            "验证集的f1: 0.8333, accuracy:0.8557, precision:0.8200, recall:0.8554\n"
          ]
        },
        {
          "name": "stderr",
          "output_type": "stream",
          "text": [
            "training....:  46%|████▌     | 1010/2193 [15:51<17:31,  1.12it/s]"
          ]
        },
        {
          "name": "stdout",
          "output_type": "stream",
          "text": [
            "epoch:2,batch:1010,loss:0.5080,train_f1:0.8405,acc:0.8391\n"
          ]
        },
        {
          "name": "stderr",
          "output_type": "stream",
          "text": [
            "training....:  47%|████▋     | 1020/2193 [15:57<12:11,  1.60it/s]"
          ]
        },
        {
          "name": "stdout",
          "output_type": "stream",
          "text": [
            "epoch:2,batch:1020,loss:0.4835,train_f1:0.8551,acc:0.8555\n"
          ]
        },
        {
          "name": "stderr",
          "output_type": "stream",
          "text": [
            "training....:  47%|████▋     | 1030/2193 [16:03<11:58,  1.62it/s]"
          ]
        },
        {
          "name": "stdout",
          "output_type": "stream",
          "text": [
            "epoch:2,batch:1030,loss:0.5551,train_f1:0.8335,acc:0.8336\n"
          ]
        },
        {
          "name": "stderr",
          "output_type": "stream",
          "text": [
            "training....:  47%|████▋     | 1040/2193 [16:09<11:50,  1.62it/s]"
          ]
        },
        {
          "name": "stdout",
          "output_type": "stream",
          "text": [
            "epoch:2,batch:1040,loss:0.4539,train_f1:0.8617,acc:0.8617\n"
          ]
        },
        {
          "name": "stderr",
          "output_type": "stream",
          "text": [
            "training....:  48%|████▊     | 1050/2193 [16:15<11:45,  1.62it/s]"
          ]
        },
        {
          "name": "stdout",
          "output_type": "stream",
          "text": [
            "epoch:2,batch:1050,loss:0.5291,train_f1:0.8433,acc:0.8430\n"
          ]
        },
        {
          "name": "stderr",
          "output_type": "stream",
          "text": [
            "training....:  48%|████▊     | 1060/2193 [16:22<11:42,  1.61it/s]"
          ]
        },
        {
          "name": "stdout",
          "output_type": "stream",
          "text": [
            "epoch:2,batch:1060,loss:0.4896,train_f1:0.8403,acc:0.8430\n"
          ]
        },
        {
          "name": "stderr",
          "output_type": "stream",
          "text": [
            "training....:  49%|████▉     | 1070/2193 [16:28<11:32,  1.62it/s]"
          ]
        },
        {
          "name": "stdout",
          "output_type": "stream",
          "text": [
            "epoch:2,batch:1070,loss:0.4722,train_f1:0.8536,acc:0.8539\n"
          ]
        },
        {
          "name": "stderr",
          "output_type": "stream",
          "text": [
            "training....:  49%|████▉     | 1080/2193 [16:34<11:27,  1.62it/s]"
          ]
        },
        {
          "name": "stdout",
          "output_type": "stream",
          "text": [
            "epoch:2,batch:1080,loss:0.5227,train_f1:0.8326,acc:0.8344\n"
          ]
        },
        {
          "name": "stderr",
          "output_type": "stream",
          "text": [
            "training....:  50%|████▉     | 1090/2193 [16:40<11:20,  1.62it/s]"
          ]
        },
        {
          "name": "stdout",
          "output_type": "stream",
          "text": [
            "epoch:2,batch:1090,loss:0.5005,train_f1:0.8568,acc:0.8562\n"
          ]
        },
        {
          "name": "stderr",
          "output_type": "stream",
          "text": [
            "training....:  50%|█████     | 1099/2193 [16:46<11:13,  1.62it/s]"
          ]
        },
        {
          "name": "stdout",
          "output_type": "stream",
          "text": [
            "epoch:2,batch:1100,loss:0.5149,train_f1:0.8391,acc:0.8383\n"
          ]
        },
        {
          "name": "stderr",
          "output_type": "stream",
          "text": [
            "\n",
            "Vailing:   0%|          | 0/120 [00:00<?, ?it/s]\u001b[A\n",
            "Vailing:   1%|          | 1/120 [00:00<01:06,  1.79it/s]\u001b[A\n",
            "Vailing:   2%|▏         | 2/120 [00:00<00:47,  2.49it/s]\u001b[A\n",
            "Vailing:   2%|▎         | 3/120 [00:01<00:41,  2.82it/s]\u001b[A\n",
            "Vailing:   3%|▎         | 4/120 [00:01<00:38,  3.02it/s]\u001b[A\n",
            "Vailing:   4%|▍         | 5/120 [00:01<00:35,  3.26it/s]\u001b[A\n",
            "Vailing:   5%|▌         | 6/120 [00:01<00:33,  3.45it/s]\u001b[A\n",
            "Vailing:   6%|▌         | 7/120 [00:02<00:31,  3.56it/s]\u001b[A\n",
            "Vailing:   7%|▋         | 8/120 [00:02<00:30,  3.66it/s]\u001b[A\n",
            "Vailing:   8%|▊         | 9/120 [00:02<00:29,  3.75it/s]\u001b[A\n",
            "Vailing:   8%|▊         | 10/120 [00:02<00:29,  3.77it/s]\u001b[A\n",
            "Vailing:   9%|▉         | 11/120 [00:03<00:29,  3.74it/s]\u001b[A\n",
            "Vailing:  10%|█         | 12/120 [00:03<00:28,  3.80it/s]\u001b[A\n",
            "Vailing:  11%|█         | 13/120 [00:03<00:27,  3.84it/s]\u001b[A\n",
            "Vailing:  12%|█▏        | 14/120 [00:04<00:27,  3.85it/s]\u001b[A\n",
            "Vailing:  12%|█▎        | 15/120 [00:04<00:27,  3.77it/s]\u001b[A\n",
            "Vailing:  13%|█▎        | 16/120 [00:04<00:27,  3.82it/s]\u001b[A\n",
            "Vailing:  14%|█▍        | 17/120 [00:04<00:26,  3.86it/s]\u001b[A\n",
            "Vailing:  15%|█▌        | 18/120 [00:05<00:26,  3.87it/s]\u001b[A\n",
            "Vailing:  16%|█▌        | 19/120 [00:05<00:26,  3.76it/s]\u001b[A\n",
            "Vailing:  17%|█▋        | 20/120 [00:05<00:26,  3.80it/s]\u001b[A\n",
            "Vailing:  18%|█▊        | 21/120 [00:05<00:25,  3.82it/s]\u001b[A\n",
            "Vailing:  18%|█▊        | 22/120 [00:06<00:25,  3.84it/s]\u001b[A\n",
            "Vailing:  19%|█▉        | 23/120 [00:06<00:25,  3.75it/s]\u001b[A\n",
            "Vailing:  20%|██        | 24/120 [00:06<00:25,  3.78it/s]\u001b[A\n",
            "Vailing:  21%|██        | 25/120 [00:06<00:24,  3.84it/s]\u001b[A\n",
            "Vailing:  22%|██▏       | 26/120 [00:07<00:24,  3.85it/s]\u001b[A\n",
            "Vailing:  22%|██▎       | 27/120 [00:07<00:24,  3.78it/s]\u001b[A\n",
            "Vailing:  23%|██▎       | 28/120 [00:07<00:24,  3.82it/s]\u001b[A\n",
            "Vailing:  24%|██▍       | 29/120 [00:07<00:23,  3.84it/s]\u001b[A\n",
            "Vailing:  25%|██▌       | 30/120 [00:08<00:23,  3.85it/s]\u001b[A\n",
            "Vailing:  26%|██▌       | 31/120 [00:08<00:23,  3.80it/s]\u001b[A\n",
            "Vailing:  27%|██▋       | 32/120 [00:08<00:23,  3.82it/s]\u001b[A\n",
            "Vailing:  28%|██▊       | 33/120 [00:09<00:22,  3.85it/s]\u001b[A\n",
            "Vailing:  28%|██▊       | 34/120 [00:09<00:22,  3.78it/s]\u001b[A\n",
            "Vailing:  29%|██▉       | 35/120 [00:09<00:22,  3.73it/s]\u001b[A\n",
            "Vailing:  30%|███       | 36/120 [00:09<00:22,  3.77it/s]\u001b[A\n",
            "Vailing:  31%|███       | 37/120 [00:10<00:21,  3.81it/s]\u001b[A\n",
            "Vailing:  32%|███▏      | 38/120 [00:10<00:21,  3.84it/s]\u001b[A\n",
            "Vailing:  32%|███▎      | 39/120 [00:10<00:21,  3.77it/s]\u001b[A\n",
            "Vailing:  33%|███▎      | 40/120 [00:10<00:20,  3.82it/s]\u001b[A\n",
            "Vailing:  34%|███▍      | 41/120 [00:11<00:20,  3.82it/s]\u001b[A\n",
            "Vailing:  35%|███▌      | 42/120 [00:11<00:20,  3.84it/s]\u001b[A\n",
            "Vailing:  36%|███▌      | 43/120 [00:11<00:20,  3.70it/s]\u001b[A\n",
            "Vailing:  37%|███▋      | 44/120 [00:11<00:21,  3.54it/s]\u001b[A\n",
            "Vailing:  38%|███▊      | 45/120 [00:12<00:21,  3.44it/s]\u001b[A\n",
            "Vailing:  38%|███▊      | 46/120 [00:12<00:21,  3.46it/s]\u001b[A\n",
            "Vailing:  39%|███▉      | 47/120 [00:12<00:21,  3.40it/s]\u001b[A\n",
            "Vailing:  40%|████      | 48/120 [00:13<00:20,  3.45it/s]\u001b[A\n",
            "Vailing:  41%|████      | 49/120 [00:13<00:20,  3.46it/s]\u001b[A\n",
            "Vailing:  42%|████▏     | 50/120 [00:13<00:20,  3.45it/s]\u001b[A\n",
            "Vailing:  42%|████▎     | 51/120 [00:14<00:19,  3.47it/s]\u001b[A\n",
            "Vailing:  43%|████▎     | 52/120 [00:14<00:19,  3.46it/s]\u001b[A\n",
            "Vailing:  44%|████▍     | 53/120 [00:14<00:19,  3.44it/s]\u001b[A\n",
            "Vailing:  45%|████▌     | 54/120 [00:14<00:19,  3.43it/s]\u001b[A\n",
            "Vailing:  46%|████▌     | 55/120 [00:15<00:18,  3.47it/s]\u001b[A\n",
            "Vailing:  47%|████▋     | 56/120 [00:15<00:18,  3.51it/s]\u001b[A\n",
            "Vailing:  48%|████▊     | 57/120 [00:15<00:17,  3.63it/s]\u001b[A\n",
            "Vailing:  48%|████▊     | 58/120 [00:15<00:17,  3.64it/s]\u001b[A\n",
            "Vailing:  49%|████▉     | 59/120 [00:16<00:16,  3.69it/s]\u001b[A\n",
            "Vailing:  50%|█████     | 60/120 [00:16<00:15,  3.76it/s]\u001b[A\n",
            "Vailing:  51%|█████     | 61/120 [00:16<00:15,  3.80it/s]\u001b[A\n",
            "Vailing:  52%|█████▏    | 62/120 [00:17<00:15,  3.77it/s]\u001b[A\n",
            "Vailing:  52%|█████▎    | 63/120 [00:17<00:14,  3.80it/s]\u001b[A\n",
            "Vailing:  53%|█████▎    | 64/120 [00:17<00:14,  3.81it/s]\u001b[A\n",
            "Vailing:  54%|█████▍    | 65/120 [00:17<00:14,  3.81it/s]\u001b[A\n",
            "Vailing:  55%|█████▌    | 66/120 [00:18<00:14,  3.78it/s]\u001b[A\n",
            "Vailing:  56%|█████▌    | 67/120 [00:18<00:13,  3.81it/s]\u001b[A\n",
            "Vailing:  57%|█████▋    | 68/120 [00:18<00:13,  3.83it/s]\u001b[A\n",
            "Vailing:  57%|█████▊    | 69/120 [00:18<00:13,  3.82it/s]\u001b[A\n",
            "Vailing:  58%|█████▊    | 70/120 [00:19<00:13,  3.78it/s]\u001b[A\n",
            "Vailing:  59%|█████▉    | 71/120 [00:19<00:12,  3.82it/s]\u001b[A\n",
            "Vailing:  60%|██████    | 72/120 [00:19<00:12,  3.84it/s]\u001b[A\n",
            "Vailing:  61%|██████    | 73/120 [00:19<00:12,  3.84it/s]\u001b[A\n",
            "Vailing:  62%|██████▏   | 74/120 [00:20<00:12,  3.79it/s]\u001b[A\n",
            "Vailing:  62%|██████▎   | 75/120 [00:20<00:11,  3.83it/s]\u001b[A\n",
            "Vailing:  63%|██████▎   | 76/120 [00:20<00:11,  3.86it/s]\u001b[A\n",
            "Vailing:  64%|██████▍   | 77/120 [00:20<00:11,  3.90it/s]\u001b[A\n",
            "Vailing:  65%|██████▌   | 78/120 [00:21<00:11,  3.82it/s]\u001b[A\n",
            "Vailing:  66%|██████▌   | 79/120 [00:21<00:10,  3.84it/s]\u001b[A\n",
            "Vailing:  67%|██████▋   | 80/120 [00:21<00:10,  3.89it/s]\u001b[A\n",
            "Vailing:  68%|██████▊   | 81/120 [00:21<00:09,  3.91it/s]\u001b[A\n",
            "Vailing:  68%|██████▊   | 82/120 [00:22<00:09,  3.81it/s]\u001b[A\n",
            "Vailing:  69%|██████▉   | 83/120 [00:22<00:09,  3.82it/s]\u001b[A\n",
            "Vailing:  70%|███████   | 84/120 [00:22<00:09,  3.84it/s]\u001b[A\n",
            "Vailing:  71%|███████   | 85/120 [00:23<00:09,  3.86it/s]\u001b[A\n",
            "Vailing:  72%|███████▏  | 86/120 [00:23<00:09,  3.77it/s]\u001b[A\n",
            "Vailing:  72%|███████▎  | 87/120 [00:23<00:08,  3.82it/s]\u001b[A\n",
            "Vailing:  73%|███████▎  | 88/120 [00:23<00:08,  3.86it/s]\u001b[A\n",
            "Vailing:  74%|███████▍  | 89/120 [00:24<00:08,  3.85it/s]\u001b[A\n",
            "Vailing:  75%|███████▌  | 90/120 [00:24<00:07,  3.78it/s]\u001b[A\n",
            "Vailing:  76%|███████▌  | 91/120 [00:24<00:07,  3.75it/s]\u001b[A\n",
            "Vailing:  77%|███████▋  | 92/120 [00:24<00:07,  3.79it/s]\u001b[A\n",
            "Vailing:  78%|███████▊  | 93/120 [00:25<00:07,  3.74it/s]\u001b[A\n",
            "Vailing:  78%|███████▊  | 94/120 [00:25<00:07,  3.60it/s]\u001b[A\n",
            "Vailing:  79%|███████▉  | 95/120 [00:25<00:07,  3.54it/s]\u001b[A\n",
            "Vailing:  80%|████████  | 96/120 [00:26<00:06,  3.50it/s]\u001b[A\n",
            "Vailing:  81%|████████  | 97/120 [00:26<00:06,  3.44it/s]\u001b[A\n",
            "Vailing:  82%|████████▏ | 98/120 [00:26<00:06,  3.43it/s]\u001b[A\n",
            "Vailing:  82%|████████▎ | 99/120 [00:26<00:06,  3.43it/s]\u001b[A\n",
            "Vailing:  83%|████████▎ | 100/120 [00:27<00:05,  3.46it/s]\u001b[A\n",
            "Vailing:  84%|████████▍ | 101/120 [00:27<00:05,  3.34it/s]\u001b[A\n",
            "Vailing:  85%|████████▌ | 102/120 [00:27<00:05,  3.34it/s]\u001b[A\n",
            "Vailing:  86%|████████▌ | 103/120 [00:28<00:05,  3.29it/s]\u001b[A\n",
            "Vailing:  87%|████████▋ | 104/120 [00:28<00:04,  3.45it/s]\u001b[A\n",
            "Vailing:  88%|████████▊ | 105/120 [00:28<00:04,  3.56it/s]\u001b[A\n",
            "Vailing:  88%|████████▊ | 106/120 [00:28<00:03,  3.67it/s]\u001b[A\n",
            "Vailing:  89%|████████▉ | 107/120 [00:29<00:03,  3.69it/s]\u001b[A\n",
            "Vailing:  90%|█████████ | 108/120 [00:29<00:03,  3.75it/s]\u001b[A\n",
            "Vailing:  91%|█████████ | 109/120 [00:29<00:02,  3.79it/s]\u001b[A\n",
            "Vailing:  92%|█████████▏| 110/120 [00:29<00:02,  3.81it/s]\u001b[A\n",
            "Vailing:  92%|█████████▎| 111/120 [00:30<00:02,  3.83it/s]\u001b[A\n",
            "Vailing:  93%|█████████▎| 112/120 [00:30<00:02,  3.86it/s]\u001b[A\n",
            "Vailing:  94%|█████████▍| 113/120 [00:30<00:01,  3.84it/s]\u001b[A\n",
            "Vailing:  95%|█████████▌| 114/120 [00:30<00:01,  3.87it/s]\u001b[A\n",
            "Vailing:  96%|█████████▌| 115/120 [00:31<00:01,  3.89it/s]\u001b[A\n",
            "Vailing:  97%|█████████▋| 116/120 [00:31<00:01,  3.89it/s]\u001b[A\n",
            "Vailing:  98%|█████████▊| 117/120 [00:31<00:00,  3.82it/s]\u001b[A\n",
            "Vailing:  98%|█████████▊| 118/120 [00:32<00:00,  3.85it/s]\u001b[A\n",
            "Vailing:  99%|█████████▉| 119/120 [00:32<00:00,  3.83it/s]\u001b[A\n",
            "Vailing: 100%|██████████| 120/120 [00:32<00:00,  3.69it/s]\n",
            "training....:  50%|█████     | 1100/2193 [17:19<3:09:27, 10.40s/it]"
          ]
        },
        {
          "name": "stdout",
          "output_type": "stream",
          "text": [
            "验证集评估报告：\n",
            "               precision    recall  f1-score   support\n",
            "\n",
            "           0       0.55      0.87      0.67       700\n",
            "           1       0.68      0.91      0.78       701\n",
            "           2       0.93      0.87      0.90      3793\n",
            "           3       0.88      0.83      0.85      1574\n",
            "           4       0.90      0.90      0.90      1593\n",
            "           5       0.89      0.88      0.89      1940\n",
            "           6       0.85      0.79      0.82      1695\n",
            "           7       0.83      0.86      0.84      1002\n",
            "           8       0.92      0.84      0.88      2327\n",
            "\n",
            "    accuracy                           0.86     15325\n",
            "   macro avg       0.83      0.86      0.84     15325\n",
            "weighted avg       0.87      0.86      0.86     15325\n",
            "\n",
            "验证集的f1: 0.8367, accuracy:0.8582, precision:0.8256, recall:0.8610\n"
          ]
        },
        {
          "name": "stderr",
          "output_type": "stream",
          "text": [
            "training....:  51%|█████     | 1110/2193 [17:25<16:06,  1.12it/s]"
          ]
        },
        {
          "name": "stdout",
          "output_type": "stream",
          "text": [
            "epoch:2,batch:1110,loss:0.4775,train_f1:0.8489,acc:0.8516\n"
          ]
        },
        {
          "name": "stderr",
          "output_type": "stream",
          "text": [
            "training....:  51%|█████     | 1120/2193 [17:31<11:11,  1.60it/s]"
          ]
        },
        {
          "name": "stdout",
          "output_type": "stream",
          "text": [
            "epoch:2,batch:1120,loss:0.4966,train_f1:0.8512,acc:0.8523\n"
          ]
        },
        {
          "name": "stderr",
          "output_type": "stream",
          "text": [
            "training....:  52%|█████▏    | 1130/2193 [17:37<10:57,  1.62it/s]"
          ]
        },
        {
          "name": "stdout",
          "output_type": "stream",
          "text": [
            "epoch:2,batch:1130,loss:0.4916,train_f1:0.8510,acc:0.8523\n"
          ]
        },
        {
          "name": "stderr",
          "output_type": "stream",
          "text": [
            "training....:  52%|█████▏    | 1140/2193 [17:43<10:51,  1.62it/s]"
          ]
        },
        {
          "name": "stdout",
          "output_type": "stream",
          "text": [
            "epoch:2,batch:1140,loss:0.5212,train_f1:0.8432,acc:0.8430\n"
          ]
        },
        {
          "name": "stderr",
          "output_type": "stream",
          "text": [
            "training....:  52%|█████▏    | 1150/2193 [17:49<10:44,  1.62it/s]"
          ]
        },
        {
          "name": "stdout",
          "output_type": "stream",
          "text": [
            "epoch:2,batch:1150,loss:0.4919,train_f1:0.8370,acc:0.8375\n"
          ]
        },
        {
          "name": "stderr",
          "output_type": "stream",
          "text": [
            "training....:  53%|█████▎    | 1160/2193 [17:56<10:37,  1.62it/s]"
          ]
        },
        {
          "name": "stdout",
          "output_type": "stream",
          "text": [
            "epoch:2,batch:1160,loss:0.5060,train_f1:0.8448,acc:0.8445\n"
          ]
        },
        {
          "name": "stderr",
          "output_type": "stream",
          "text": [
            "training....:  53%|█████▎    | 1170/2193 [18:02<10:31,  1.62it/s]"
          ]
        },
        {
          "name": "stdout",
          "output_type": "stream",
          "text": [
            "epoch:2,batch:1170,loss:0.4880,train_f1:0.8459,acc:0.8461\n"
          ]
        },
        {
          "name": "stderr",
          "output_type": "stream",
          "text": [
            "training....:  54%|█████▍    | 1180/2193 [18:08<10:23,  1.62it/s]"
          ]
        },
        {
          "name": "stdout",
          "output_type": "stream",
          "text": [
            "epoch:2,batch:1180,loss:0.5151,train_f1:0.8401,acc:0.8422\n"
          ]
        },
        {
          "name": "stderr",
          "output_type": "stream",
          "text": [
            "training....:  54%|█████▍    | 1190/2193 [18:14<10:18,  1.62it/s]"
          ]
        },
        {
          "name": "stdout",
          "output_type": "stream",
          "text": [
            "epoch:2,batch:1190,loss:0.5074,train_f1:0.8469,acc:0.8469\n"
          ]
        },
        {
          "name": "stderr",
          "output_type": "stream",
          "text": [
            "training....:  55%|█████▍    | 1199/2193 [18:20<10:09,  1.63it/s]"
          ]
        },
        {
          "name": "stdout",
          "output_type": "stream",
          "text": [
            "epoch:2,batch:1200,loss:0.5253,train_f1:0.8369,acc:0.8359\n"
          ]
        },
        {
          "name": "stderr",
          "output_type": "stream",
          "text": [
            "\n",
            "Vailing:   0%|          | 0/120 [00:00<?, ?it/s]\u001b[A\n",
            "Vailing:   1%|          | 1/120 [00:00<01:09,  1.72it/s]\u001b[A\n",
            "Vailing:   2%|▏         | 2/120 [00:00<00:46,  2.56it/s]\u001b[A\n",
            "Vailing:   2%|▎         | 3/120 [00:01<00:38,  3.03it/s]\u001b[A\n",
            "Vailing:   3%|▎         | 4/120 [00:01<00:35,  3.30it/s]\u001b[A\n",
            "Vailing:   4%|▍         | 5/120 [00:01<00:32,  3.50it/s]\u001b[A\n",
            "Vailing:   5%|▌         | 6/120 [00:01<00:31,  3.62it/s]\u001b[A\n",
            "Vailing:   6%|▌         | 7/120 [00:02<00:30,  3.69it/s]\u001b[A\n",
            "Vailing:   7%|▋         | 8/120 [00:02<00:30,  3.72it/s]\u001b[A\n",
            "Vailing:   8%|▊         | 9/120 [00:02<00:29,  3.78it/s]\u001b[A\n",
            "Vailing:   8%|▊         | 10/120 [00:02<00:28,  3.81it/s]\u001b[A\n",
            "Vailing:   9%|▉         | 11/120 [00:03<00:28,  3.85it/s]\u001b[A\n",
            "Vailing:  10%|█         | 12/120 [00:03<00:27,  3.87it/s]\u001b[A\n",
            "Vailing:  11%|█         | 13/120 [00:03<00:27,  3.88it/s]\u001b[A\n",
            "Vailing:  12%|█▏        | 14/120 [00:03<00:27,  3.89it/s]\u001b[A\n",
            "Vailing:  12%|█▎        | 15/120 [00:04<00:26,  3.91it/s]\u001b[A\n",
            "Vailing:  13%|█▎        | 16/120 [00:04<00:26,  3.89it/s]\u001b[A\n",
            "Vailing:  14%|█▍        | 17/120 [00:04<00:26,  3.87it/s]\u001b[A\n",
            "Vailing:  15%|█▌        | 18/120 [00:04<00:26,  3.88it/s]\u001b[A\n",
            "Vailing:  16%|█▌        | 19/120 [00:05<00:25,  3.90it/s]\u001b[A\n",
            "Vailing:  17%|█▋        | 20/120 [00:05<00:25,  3.91it/s]\u001b[A\n",
            "Vailing:  18%|█▊        | 21/120 [00:05<00:25,  3.86it/s]\u001b[A\n",
            "Vailing:  18%|█▊        | 22/120 [00:05<00:25,  3.87it/s]\u001b[A\n",
            "Vailing:  19%|█▉        | 23/120 [00:06<00:25,  3.87it/s]\u001b[A\n",
            "Vailing:  20%|██        | 24/120 [00:06<00:24,  3.86it/s]\u001b[A\n",
            "Vailing:  21%|██        | 25/120 [00:06<00:24,  3.87it/s]\u001b[A\n",
            "Vailing:  22%|██▏       | 26/120 [00:07<00:24,  3.85it/s]\u001b[A\n",
            "Vailing:  22%|██▎       | 27/120 [00:07<00:24,  3.87it/s]\u001b[A\n",
            "Vailing:  23%|██▎       | 28/120 [00:07<00:23,  3.87it/s]\u001b[A\n",
            "Vailing:  24%|██▍       | 29/120 [00:07<00:23,  3.86it/s]\u001b[A\n",
            "Vailing:  25%|██▌       | 30/120 [00:08<00:23,  3.87it/s]\u001b[A\n",
            "Vailing:  26%|██▌       | 31/120 [00:08<00:22,  3.89it/s]\u001b[A\n",
            "Vailing:  27%|██▋       | 32/120 [00:08<00:22,  3.90it/s]\u001b[A\n",
            "Vailing:  28%|██▊       | 33/120 [00:08<00:23,  3.68it/s]\u001b[A\n",
            "Vailing:  28%|██▊       | 34/120 [00:09<00:23,  3.62it/s]\u001b[A\n",
            "Vailing:  29%|██▉       | 35/120 [00:09<00:24,  3.50it/s]\u001b[A\n",
            "Vailing:  30%|███       | 36/120 [00:09<00:24,  3.40it/s]\u001b[A\n",
            "Vailing:  31%|███       | 37/120 [00:10<00:24,  3.38it/s]\u001b[A\n",
            "Vailing:  32%|███▏      | 38/120 [00:10<00:24,  3.33it/s]\u001b[A\n",
            "Vailing:  32%|███▎      | 39/120 [00:10<00:24,  3.37it/s]\u001b[A\n",
            "Vailing:  33%|███▎      | 40/120 [00:11<00:24,  3.30it/s]\u001b[A\n",
            "Vailing:  34%|███▍      | 41/120 [00:11<00:23,  3.31it/s]\u001b[A\n",
            "Vailing:  35%|███▌      | 42/120 [00:11<00:23,  3.32it/s]\u001b[A\n",
            "Vailing:  36%|███▌      | 43/120 [00:11<00:22,  3.40it/s]\u001b[A\n",
            "Vailing:  37%|███▋      | 44/120 [00:12<00:21,  3.53it/s]\u001b[A\n",
            "Vailing:  38%|███▊      | 45/120 [00:12<00:20,  3.61it/s]\u001b[A\n",
            "Vailing:  38%|███▊      | 46/120 [00:12<00:20,  3.68it/s]\u001b[A\n",
            "Vailing:  39%|███▉      | 47/120 [00:12<00:19,  3.73it/s]\u001b[A\n",
            "Vailing:  40%|████      | 48/120 [00:13<00:19,  3.78it/s]\u001b[A\n",
            "Vailing:  41%|████      | 49/120 [00:13<00:18,  3.84it/s]\u001b[A\n",
            "Vailing:  42%|████▏     | 50/120 [00:13<00:18,  3.86it/s]\u001b[A\n",
            "Vailing:  42%|████▎     | 51/120 [00:13<00:17,  3.90it/s]\u001b[A\n",
            "Vailing:  43%|████▎     | 52/120 [00:14<00:17,  3.89it/s]\u001b[A\n",
            "Vailing:  44%|████▍     | 53/120 [00:14<00:17,  3.88it/s]\u001b[A\n",
            "Vailing:  45%|████▌     | 54/120 [00:14<00:16,  3.91it/s]\u001b[A\n",
            "Vailing:  46%|████▌     | 55/120 [00:14<00:16,  3.90it/s]\u001b[A\n",
            "Vailing:  47%|████▋     | 56/120 [00:15<00:16,  3.88it/s]\u001b[A\n",
            "Vailing:  48%|████▊     | 57/120 [00:15<00:16,  3.88it/s]\u001b[A\n",
            "Vailing:  48%|████▊     | 58/120 [00:15<00:15,  3.89it/s]\u001b[A\n",
            "Vailing:  49%|████▉     | 59/120 [00:15<00:15,  3.89it/s]\u001b[A\n",
            "Vailing:  50%|█████     | 60/120 [00:16<00:15,  3.89it/s]\u001b[A\n",
            "Vailing:  51%|█████     | 61/120 [00:16<00:15,  3.89it/s]\u001b[A\n",
            "Vailing:  52%|█████▏    | 62/120 [00:16<00:14,  3.89it/s]\u001b[A\n",
            "Vailing:  52%|█████▎    | 63/120 [00:17<00:14,  3.92it/s]\u001b[A\n",
            "Vailing:  53%|█████▎    | 64/120 [00:17<00:14,  3.92it/s]\u001b[A\n",
            "Vailing:  54%|█████▍    | 65/120 [00:17<00:14,  3.91it/s]\u001b[A\n",
            "Vailing:  55%|█████▌    | 66/120 [00:17<00:13,  3.87it/s]\u001b[A\n",
            "Vailing:  56%|█████▌    | 67/120 [00:18<00:13,  3.89it/s]\u001b[A\n",
            "Vailing:  57%|█████▋    | 68/120 [00:18<00:13,  3.89it/s]\u001b[A\n",
            "Vailing:  57%|█████▊    | 69/120 [00:18<00:13,  3.90it/s]\u001b[A\n",
            "Vailing:  58%|█████▊    | 70/120 [00:18<00:12,  3.90it/s]\u001b[A\n",
            "Vailing:  59%|█████▉    | 71/120 [00:19<00:12,  3.88it/s]\u001b[A\n",
            "Vailing:  60%|██████    | 72/120 [00:19<00:12,  3.89it/s]\u001b[A\n",
            "Vailing:  61%|██████    | 73/120 [00:19<00:12,  3.87it/s]\u001b[A\n",
            "Vailing:  62%|██████▏   | 74/120 [00:19<00:11,  3.87it/s]\u001b[A\n",
            "Vailing:  62%|██████▎   | 75/120 [00:20<00:11,  3.89it/s]\u001b[A\n",
            "Vailing:  63%|██████▎   | 76/120 [00:20<00:11,  3.87it/s]\u001b[A\n",
            "Vailing:  64%|██████▍   | 77/120 [00:20<00:11,  3.87it/s]\u001b[A\n",
            "Vailing:  65%|██████▌   | 78/120 [00:20<00:10,  3.87it/s]\u001b[A\n",
            "Vailing:  66%|██████▌   | 79/120 [00:21<00:10,  3.83it/s]\u001b[A\n",
            "Vailing:  67%|██████▋   | 80/120 [00:21<00:10,  3.85it/s]\u001b[A\n",
            "Vailing:  68%|██████▊   | 81/120 [00:21<00:10,  3.88it/s]\u001b[A\n",
            "Vailing:  68%|██████▊   | 82/120 [00:21<00:10,  3.70it/s]\u001b[A\n",
            "Vailing:  69%|██████▉   | 83/120 [00:22<00:10,  3.55it/s]\u001b[A\n",
            "Vailing:  70%|███████   | 84/120 [00:22<00:10,  3.47it/s]\u001b[A\n",
            "Vailing:  71%|███████   | 85/120 [00:22<00:10,  3.39it/s]\u001b[A\n",
            "Vailing:  72%|███████▏  | 86/120 [00:23<00:10,  3.39it/s]\u001b[A\n",
            "Vailing:  72%|███████▎  | 87/120 [00:23<00:10,  3.30it/s]\u001b[A\n",
            "Vailing:  73%|███████▎  | 88/120 [00:23<00:09,  3.30it/s]\u001b[A\n",
            "Vailing:  74%|███████▍  | 89/120 [00:24<00:09,  3.33it/s]\u001b[A\n",
            "Vailing:  75%|███████▌  | 90/120 [00:24<00:09,  3.31it/s]\u001b[A\n",
            "Vailing:  76%|███████▌  | 91/120 [00:24<00:08,  3.28it/s]\u001b[A\n",
            "Vailing:  77%|███████▋  | 92/120 [00:24<00:08,  3.34it/s]\u001b[A\n",
            "Vailing:  78%|███████▊  | 93/120 [00:25<00:07,  3.48it/s]\u001b[A\n",
            "Vailing:  78%|███████▊  | 94/120 [00:25<00:07,  3.55it/s]\u001b[A\n",
            "Vailing:  79%|███████▉  | 95/120 [00:25<00:06,  3.64it/s]\u001b[A\n",
            "Vailing:  80%|████████  | 96/120 [00:26<00:06,  3.72it/s]\u001b[A\n",
            "Vailing:  81%|████████  | 97/120 [00:26<00:06,  3.76it/s]\u001b[A\n",
            "Vailing:  82%|████████▏ | 98/120 [00:26<00:05,  3.70it/s]\u001b[A\n",
            "Vailing:  82%|████████▎ | 99/120 [00:26<00:05,  3.78it/s]\u001b[A\n",
            "Vailing:  83%|████████▎ | 100/120 [00:27<00:05,  3.80it/s]\u001b[A\n",
            "Vailing:  84%|████████▍ | 101/120 [00:27<00:05,  3.79it/s]\u001b[A\n",
            "Vailing:  85%|████████▌ | 102/120 [00:27<00:04,  3.75it/s]\u001b[A\n",
            "Vailing:  86%|████████▌ | 103/120 [00:27<00:04,  3.79it/s]\u001b[A\n",
            "Vailing:  87%|████████▋ | 104/120 [00:28<00:04,  3.80it/s]\u001b[A\n",
            "Vailing:  88%|████████▊ | 105/120 [00:28<00:03,  3.82it/s]\u001b[A\n",
            "Vailing:  88%|████████▊ | 106/120 [00:28<00:03,  3.79it/s]\u001b[A\n",
            "Vailing:  89%|████████▉ | 107/120 [00:28<00:03,  3.78it/s]\u001b[A\n",
            "Vailing:  90%|█████████ | 108/120 [00:29<00:03,  3.81it/s]\u001b[A\n",
            "Vailing:  91%|█████████ | 109/120 [00:29<00:02,  3.85it/s]\u001b[A\n",
            "Vailing:  92%|█████████▏| 110/120 [00:29<00:02,  3.80it/s]\u001b[A\n",
            "Vailing:  92%|█████████▎| 111/120 [00:29<00:02,  3.80it/s]\u001b[A\n",
            "Vailing:  93%|█████████▎| 112/120 [00:30<00:02,  3.84it/s]\u001b[A\n",
            "Vailing:  94%|█████████▍| 113/120 [00:30<00:01,  3.83it/s]\u001b[A\n",
            "Vailing:  95%|█████████▌| 114/120 [00:30<00:01,  3.77it/s]\u001b[A\n",
            "Vailing:  96%|█████████▌| 115/120 [00:31<00:01,  3.81it/s]\u001b[A\n",
            "Vailing:  97%|█████████▋| 116/120 [00:31<00:01,  3.85it/s]\u001b[A\n",
            "Vailing:  98%|█████████▊| 117/120 [00:31<00:00,  3.82it/s]\u001b[A\n",
            "Vailing:  98%|█████████▊| 118/120 [00:31<00:00,  3.77it/s]\u001b[A\n",
            "Vailing:  99%|█████████▉| 119/120 [00:32<00:00,  3.81it/s]\u001b[A\n",
            "Vailing: 100%|██████████| 120/120 [00:32<00:00,  3.72it/s]\n"
          ]
        },
        {
          "name": "stdout",
          "output_type": "stream",
          "text": [
            "验证集评估报告：\n",
            "               precision    recall  f1-score   support\n",
            "\n",
            "           0       0.63      0.84      0.72       700\n",
            "           1       0.65      0.92      0.77       701\n",
            "           2       0.93      0.89      0.91      3793\n",
            "           3       0.83      0.86      0.85      1574\n",
            "           4       0.91      0.90      0.90      1593\n",
            "           5       0.91      0.88      0.89      1940\n",
            "           6       0.87      0.78      0.82      1695\n",
            "           7       0.79      0.86      0.83      1002\n",
            "           8       0.93      0.83      0.88      2327\n",
            "\n",
            "    accuracy                           0.86     15325\n",
            "   macro avg       0.83      0.86      0.84     15325\n",
            "weighted avg       0.87      0.86      0.87     15325\n",
            "\n",
            "验证集的f1: 0.8409, accuracy:0.8627, precision:0.8287, recall:0.8632\n"
          ]
        },
        {
          "name": "stderr",
          "output_type": "stream",
          "text": [
            "\rtraining....:  55%|█████▍    | 1200/2193 [18:54<2:56:57, 10.69s/it]"
          ]
        },
        {
          "name": "stdout",
          "output_type": "stream",
          "text": [
            "保存模型成功, 当前f1分数: 0.8408622858841762\n"
          ]
        },
        {
          "name": "stderr",
          "output_type": "stream",
          "text": [
            "training....:  55%|█████▌    | 1210/2193 [19:00<14:39,  1.12it/s]"
          ]
        },
        {
          "name": "stdout",
          "output_type": "stream",
          "text": [
            "epoch:2,batch:1210,loss:0.5095,train_f1:0.8297,acc:0.8297\n"
          ]
        },
        {
          "name": "stderr",
          "output_type": "stream",
          "text": [
            "training....:  56%|█████▌    | 1220/2193 [19:06<10:10,  1.59it/s]"
          ]
        },
        {
          "name": "stdout",
          "output_type": "stream",
          "text": [
            "epoch:2,batch:1220,loss:0.4666,train_f1:0.8529,acc:0.8539\n"
          ]
        },
        {
          "name": "stderr",
          "output_type": "stream",
          "text": [
            "training....:  56%|█████▌    | 1230/2193 [19:12<09:55,  1.62it/s]"
          ]
        },
        {
          "name": "stdout",
          "output_type": "stream",
          "text": [
            "epoch:2,batch:1230,loss:0.5405,train_f1:0.8287,acc:0.8281\n"
          ]
        },
        {
          "name": "stderr",
          "output_type": "stream",
          "text": [
            "training....:  57%|█████▋    | 1240/2193 [19:18<09:48,  1.62it/s]"
          ]
        },
        {
          "name": "stdout",
          "output_type": "stream",
          "text": [
            "epoch:2,batch:1240,loss:0.5360,train_f1:0.8346,acc:0.8352\n"
          ]
        },
        {
          "name": "stderr",
          "output_type": "stream",
          "text": [
            "training....:  57%|█████▋    | 1250/2193 [19:24<09:49,  1.60it/s]"
          ]
        },
        {
          "name": "stdout",
          "output_type": "stream",
          "text": [
            "epoch:2,batch:1250,loss:0.5294,train_f1:0.8338,acc:0.8359\n"
          ]
        },
        {
          "name": "stderr",
          "output_type": "stream",
          "text": [
            "training....:  57%|█████▋    | 1260/2193 [19:30<09:38,  1.61it/s]"
          ]
        },
        {
          "name": "stdout",
          "output_type": "stream",
          "text": [
            "epoch:2,batch:1260,loss:0.5044,train_f1:0.8453,acc:0.8445\n"
          ]
        },
        {
          "name": "stderr",
          "output_type": "stream",
          "text": [
            "training....:  58%|█████▊    | 1270/2193 [19:37<09:29,  1.62it/s]"
          ]
        },
        {
          "name": "stdout",
          "output_type": "stream",
          "text": [
            "epoch:2,batch:1270,loss:0.5170,train_f1:0.8498,acc:0.8492\n"
          ]
        },
        {
          "name": "stderr",
          "output_type": "stream",
          "text": [
            "training....:  58%|█████▊    | 1280/2193 [19:43<09:22,  1.62it/s]"
          ]
        },
        {
          "name": "stdout",
          "output_type": "stream",
          "text": [
            "epoch:2,batch:1280,loss:0.4884,train_f1:0.8419,acc:0.8430\n"
          ]
        },
        {
          "name": "stderr",
          "output_type": "stream",
          "text": [
            "training....:  59%|█████▉    | 1290/2193 [19:49<09:18,  1.62it/s]"
          ]
        },
        {
          "name": "stdout",
          "output_type": "stream",
          "text": [
            "epoch:2,batch:1290,loss:0.5111,train_f1:0.8428,acc:0.8422\n"
          ]
        },
        {
          "name": "stderr",
          "output_type": "stream",
          "text": [
            "training....:  59%|█████▉    | 1299/2193 [19:54<09:10,  1.62it/s]"
          ]
        },
        {
          "name": "stdout",
          "output_type": "stream",
          "text": [
            "epoch:2,batch:1300,loss:0.5019,train_f1:0.8481,acc:0.8492\n"
          ]
        },
        {
          "name": "stderr",
          "output_type": "stream",
          "text": [
            "\n",
            "Vailing:   0%|          | 0/120 [00:00<?, ?it/s]\u001b[A\n",
            "Vailing:   1%|          | 1/120 [00:00<01:09,  1.71it/s]\u001b[A\n",
            "Vailing:   2%|▏         | 2/120 [00:00<00:45,  2.57it/s]\u001b[A\n",
            "Vailing:   2%|▎         | 3/120 [00:01<00:39,  2.97it/s]\u001b[A\n",
            "Vailing:   3%|▎         | 4/120 [00:01<00:35,  3.29it/s]\u001b[A\n",
            "Vailing:   4%|▍         | 5/120 [00:01<00:33,  3.46it/s]\u001b[A\n",
            "Vailing:   5%|▌         | 6/120 [00:01<00:31,  3.60it/s]\u001b[A\n",
            "Vailing:   6%|▌         | 7/120 [00:02<00:30,  3.67it/s]\u001b[A\n",
            "Vailing:   7%|▋         | 8/120 [00:02<00:29,  3.73it/s]\u001b[A\n",
            "Vailing:   8%|▊         | 9/120 [00:02<00:29,  3.79it/s]\u001b[A\n",
            "Vailing:   8%|▊         | 10/120 [00:02<00:28,  3.82it/s]\u001b[A\n",
            "Vailing:   9%|▉         | 11/120 [00:03<00:28,  3.86it/s]\u001b[A\n",
            "Vailing:  10%|█         | 12/120 [00:03<00:27,  3.86it/s]\u001b[A\n",
            "Vailing:  11%|█         | 13/120 [00:03<00:27,  3.85it/s]\u001b[A\n",
            "Vailing:  12%|█▏        | 14/120 [00:03<00:27,  3.87it/s]\u001b[A\n",
            "Vailing:  12%|█▎        | 15/120 [00:04<00:27,  3.88it/s]\u001b[A\n",
            "Vailing:  13%|█▎        | 16/120 [00:04<00:26,  3.86it/s]\u001b[A\n",
            "Vailing:  14%|█▍        | 17/120 [00:04<00:26,  3.86it/s]\u001b[A\n",
            "Vailing:  15%|█▌        | 18/120 [00:04<00:26,  3.87it/s]\u001b[A\n",
            "Vailing:  16%|█▌        | 19/120 [00:05<00:26,  3.88it/s]\u001b[A\n",
            "Vailing:  17%|█▋        | 20/120 [00:05<00:26,  3.84it/s]\u001b[A\n",
            "Vailing:  18%|█▊        | 21/120 [00:05<00:26,  3.72it/s]\u001b[A\n",
            "Vailing:  18%|█▊        | 22/120 [00:06<00:27,  3.55it/s]\u001b[A\n",
            "Vailing:  19%|█▉        | 23/120 [00:06<00:27,  3.48it/s]\u001b[A\n",
            "Vailing:  20%|██        | 24/120 [00:06<00:27,  3.49it/s]\u001b[A\n",
            "Vailing:  21%|██        | 25/120 [00:07<00:27,  3.40it/s]\u001b[A\n",
            "Vailing:  22%|██▏       | 26/120 [00:07<00:28,  3.36it/s]\u001b[A\n",
            "Vailing:  22%|██▎       | 27/120 [00:07<00:27,  3.34it/s]\u001b[A\n",
            "Vailing:  23%|██▎       | 28/120 [00:07<00:27,  3.33it/s]\u001b[A\n",
            "Vailing:  24%|██▍       | 29/120 [00:08<00:27,  3.29it/s]\u001b[A\n",
            "Vailing:  25%|██▌       | 30/120 [00:08<00:27,  3.28it/s]\u001b[A\n",
            "Vailing:  26%|██▌       | 31/120 [00:08<00:26,  3.30it/s]\u001b[A\n",
            "Vailing:  27%|██▋       | 32/120 [00:09<00:25,  3.42it/s]\u001b[A\n",
            "Vailing:  28%|██▊       | 33/120 [00:09<00:24,  3.56it/s]\u001b[A\n",
            "Vailing:  28%|██▊       | 34/120 [00:09<00:23,  3.67it/s]\u001b[A\n",
            "Vailing:  29%|██▉       | 35/120 [00:09<00:22,  3.73it/s]\u001b[A\n",
            "Vailing:  30%|███       | 36/120 [00:10<00:22,  3.73it/s]\u001b[A\n",
            "Vailing:  31%|███       | 37/120 [00:10<00:22,  3.76it/s]\u001b[A\n",
            "Vailing:  32%|███▏      | 38/120 [00:10<00:21,  3.78it/s]\u001b[A\n",
            "Vailing:  32%|███▎      | 39/120 [00:10<00:21,  3.83it/s]\u001b[A\n",
            "Vailing:  33%|███▎      | 40/120 [00:11<00:21,  3.79it/s]\u001b[A\n",
            "Vailing:  34%|███▍      | 41/120 [00:11<00:20,  3.80it/s]\u001b[A\n",
            "Vailing:  35%|███▌      | 42/120 [00:11<00:20,  3.81it/s]\u001b[A\n",
            "Vailing:  36%|███▌      | 43/120 [00:11<00:20,  3.82it/s]\u001b[A\n",
            "Vailing:  37%|███▋      | 44/120 [00:12<00:20,  3.77it/s]\u001b[A\n",
            "Vailing:  38%|███▊      | 45/120 [00:12<00:19,  3.81it/s]\u001b[A\n",
            "Vailing:  38%|███▊      | 46/120 [00:12<00:19,  3.82it/s]\u001b[A\n",
            "Vailing:  39%|███▉      | 47/120 [00:13<00:18,  3.85it/s]\u001b[A\n",
            "Vailing:  40%|████      | 48/120 [00:13<00:19,  3.79it/s]\u001b[A\n",
            "Vailing:  41%|████      | 49/120 [00:13<00:18,  3.81it/s]\u001b[A\n",
            "Vailing:  42%|████▏     | 50/120 [00:13<00:18,  3.85it/s]\u001b[A\n",
            "Vailing:  42%|████▎     | 51/120 [00:14<00:17,  3.85it/s]\u001b[A\n",
            "Vailing:  43%|████▎     | 52/120 [00:14<00:17,  3.78it/s]\u001b[A\n",
            "Vailing:  44%|████▍     | 53/120 [00:14<00:17,  3.80it/s]\u001b[A\n",
            "Vailing:  45%|████▌     | 54/120 [00:14<00:17,  3.83it/s]\u001b[A\n",
            "Vailing:  46%|████▌     | 55/120 [00:15<00:16,  3.84it/s]\u001b[A\n",
            "Vailing:  47%|████▋     | 56/120 [00:15<00:16,  3.80it/s]\u001b[A\n",
            "Vailing:  48%|████▊     | 57/120 [00:15<00:16,  3.78it/s]\u001b[A\n",
            "Vailing:  48%|████▊     | 58/120 [00:15<00:16,  3.78it/s]\u001b[A\n",
            "Vailing:  49%|████▉     | 59/120 [00:16<00:15,  3.82it/s]\u001b[A\n",
            "Vailing:  50%|█████     | 60/120 [00:16<00:15,  3.75it/s]\u001b[A\n",
            "Vailing:  51%|█████     | 61/120 [00:16<00:15,  3.79it/s]\u001b[A\n",
            "Vailing:  52%|█████▏    | 62/120 [00:16<00:15,  3.84it/s]\u001b[A\n",
            "Vailing:  52%|█████▎    | 63/120 [00:17<00:14,  3.84it/s]\u001b[A\n",
            "Vailing:  53%|█████▎    | 64/120 [00:17<00:14,  3.75it/s]\u001b[A\n",
            "Vailing:  54%|█████▍    | 65/120 [00:17<00:14,  3.75it/s]\u001b[A\n",
            "Vailing:  55%|█████▌    | 66/120 [00:18<00:14,  3.77it/s]\u001b[A\n",
            "Vailing:  56%|█████▌    | 67/120 [00:18<00:13,  3.80it/s]\u001b[A\n",
            "Vailing:  57%|█████▋    | 68/120 [00:18<00:13,  3.77it/s]\u001b[A\n",
            "Vailing:  57%|█████▊    | 69/120 [00:18<00:13,  3.80it/s]\u001b[A\n",
            "Vailing:  58%|█████▊    | 70/120 [00:19<00:13,  3.71it/s]\u001b[A\n",
            "Vailing:  59%|█████▉    | 71/120 [00:19<00:13,  3.59it/s]\u001b[A\n",
            "Vailing:  60%|██████    | 72/120 [00:19<00:13,  3.58it/s]\u001b[A\n",
            "Vailing:  61%|██████    | 73/120 [00:19<00:13,  3.51it/s]\u001b[A\n",
            "Vailing:  62%|██████▏   | 74/120 [00:20<00:13,  3.44it/s]\u001b[A\n",
            "Vailing:  62%|██████▎   | 75/120 [00:20<00:13,  3.36it/s]\u001b[A\n",
            "Vailing:  63%|██████▎   | 76/120 [00:20<00:13,  3.33it/s]\u001b[A\n",
            "Vailing:  64%|██████▍   | 77/120 [00:21<00:12,  3.32it/s]\u001b[A\n",
            "Vailing:  65%|██████▌   | 78/120 [00:21<00:12,  3.31it/s]\u001b[A\n",
            "Vailing:  66%|██████▌   | 79/120 [00:21<00:12,  3.29it/s]\u001b[A\n",
            "Vailing:  67%|██████▋   | 80/120 [00:22<00:12,  3.33it/s]\u001b[A\n",
            "Vailing:  68%|██████▊   | 81/120 [00:22<00:11,  3.49it/s]\u001b[A\n",
            "Vailing:  68%|██████▊   | 82/120 [00:22<00:10,  3.60it/s]\u001b[A\n",
            "Vailing:  69%|██████▉   | 83/120 [00:22<00:09,  3.71it/s]\u001b[A\n",
            "Vailing:  70%|███████   | 84/120 [00:23<00:09,  3.76it/s]\u001b[A\n",
            "Vailing:  71%|███████   | 85/120 [00:23<00:09,  3.81it/s]\u001b[A\n",
            "Vailing:  72%|███████▏  | 86/120 [00:23<00:08,  3.79it/s]\u001b[A\n",
            "Vailing:  72%|███████▎  | 87/120 [00:23<00:08,  3.80it/s]\u001b[A\n",
            "Vailing:  73%|███████▎  | 88/120 [00:24<00:08,  3.84it/s]\u001b[A\n",
            "Vailing:  74%|███████▍  | 89/120 [00:24<00:08,  3.87it/s]\u001b[A\n",
            "Vailing:  75%|███████▌  | 90/120 [00:24<00:07,  3.87it/s]\u001b[A\n",
            "Vailing:  76%|███████▌  | 91/120 [00:24<00:07,  3.88it/s]\u001b[A\n",
            "Vailing:  77%|███████▋  | 92/120 [00:25<00:07,  3.89it/s]\u001b[A\n",
            "Vailing:  78%|███████▊  | 93/120 [00:25<00:06,  3.87it/s]\u001b[A\n",
            "Vailing:  78%|███████▊  | 94/120 [00:25<00:06,  3.88it/s]\u001b[A\n",
            "Vailing:  79%|███████▉  | 95/120 [00:25<00:06,  3.84it/s]\u001b[A\n",
            "Vailing:  80%|████████  | 96/120 [00:26<00:06,  3.86it/s]\u001b[A\n",
            "Vailing:  81%|████████  | 97/120 [00:26<00:05,  3.86it/s]\u001b[A\n",
            "Vailing:  82%|████████▏ | 98/120 [00:26<00:05,  3.84it/s]\u001b[A\n",
            "Vailing:  82%|████████▎ | 99/120 [00:27<00:05,  3.84it/s]\u001b[A\n",
            "Vailing:  83%|████████▎ | 100/120 [00:27<00:05,  3.87it/s]\u001b[A\n",
            "Vailing:  84%|████████▍ | 101/120 [00:27<00:04,  3.85it/s]\u001b[A\n",
            "Vailing:  85%|████████▌ | 102/120 [00:27<00:04,  3.87it/s]\u001b[A\n",
            "Vailing:  86%|████████▌ | 103/120 [00:28<00:04,  3.88it/s]\u001b[A\n",
            "Vailing:  87%|████████▋ | 104/120 [00:28<00:04,  3.89it/s]\u001b[A\n",
            "Vailing:  88%|████████▊ | 105/120 [00:28<00:03,  3.89it/s]\u001b[A\n",
            "Vailing:  88%|████████▊ | 106/120 [00:28<00:03,  3.90it/s]\u001b[A\n",
            "Vailing:  89%|████████▉ | 107/120 [00:29<00:03,  3.89it/s]\u001b[A\n",
            "Vailing:  90%|█████████ | 108/120 [00:29<00:03,  3.89it/s]\u001b[A\n",
            "Vailing:  91%|█████████ | 109/120 [00:29<00:02,  3.90it/s]\u001b[A\n",
            "Vailing:  92%|█████████▏| 110/120 [00:29<00:02,  3.92it/s]\u001b[A\n",
            "Vailing:  92%|█████████▎| 111/120 [00:30<00:02,  3.91it/s]\u001b[A\n",
            "Vailing:  93%|█████████▎| 112/120 [00:30<00:02,  3.88it/s]\u001b[A\n",
            "Vailing:  94%|█████████▍| 113/120 [00:30<00:01,  3.88it/s]\u001b[A\n",
            "Vailing:  95%|█████████▌| 114/120 [00:30<00:01,  3.86it/s]\u001b[A\n",
            "Vailing:  96%|█████████▌| 115/120 [00:31<00:01,  3.88it/s]\u001b[A\n",
            "Vailing:  97%|█████████▋| 116/120 [00:31<00:01,  3.90it/s]\u001b[A\n",
            "Vailing:  98%|█████████▊| 117/120 [00:31<00:00,  3.89it/s]\u001b[A\n",
            "Vailing:  98%|█████████▊| 118/120 [00:31<00:00,  3.89it/s]\u001b[A\n",
            "Vailing:  99%|█████████▉| 119/120 [00:32<00:00,  3.71it/s]\u001b[A\n",
            "Vailing: 100%|██████████| 120/120 [00:32<00:00,  3.70it/s]\n"
          ]
        },
        {
          "name": "stdout",
          "output_type": "stream",
          "text": [
            "验证集评估报告：\n",
            "               precision    recall  f1-score   support\n",
            "\n",
            "           0       0.68      0.83      0.75       700\n",
            "           1       0.73      0.92      0.81       701\n",
            "           2       0.91      0.90      0.91      3793\n",
            "           3       0.88      0.85      0.86      1574\n",
            "           4       0.90      0.89      0.90      1593\n",
            "           5       0.90      0.88      0.89      1940\n",
            "           6       0.86      0.79      0.82      1695\n",
            "           7       0.83      0.87      0.85      1002\n",
            "           8       0.90      0.86      0.88      2327\n",
            "\n",
            "    accuracy                           0.87     15325\n",
            "   macro avg       0.84      0.87      0.85     15325\n",
            "weighted avg       0.87      0.87      0.87     15325\n",
            "\n",
            "验证集的f1: 0.8522, accuracy:0.8699, precision:0.8429, recall:0.8665\n"
          ]
        },
        {
          "name": "stderr",
          "output_type": "stream",
          "text": [
            "\rtraining....:  59%|█████▉    | 1300/2193 [20:29<2:41:04, 10.82s/it]"
          ]
        },
        {
          "name": "stdout",
          "output_type": "stream",
          "text": [
            "保存模型成功, 当前f1分数: 0.8522212344982009\n"
          ]
        },
        {
          "name": "stderr",
          "output_type": "stream",
          "text": [
            "training....:  60%|█████▉    | 1310/2193 [20:35<13:14,  1.11it/s]"
          ]
        },
        {
          "name": "stdout",
          "output_type": "stream",
          "text": [
            "epoch:2,batch:1310,loss:0.5326,train_f1:0.8363,acc:0.8359\n"
          ]
        },
        {
          "name": "stderr",
          "output_type": "stream",
          "text": [
            "training....:  60%|██████    | 1320/2193 [20:41<09:08,  1.59it/s]"
          ]
        },
        {
          "name": "stdout",
          "output_type": "stream",
          "text": [
            "epoch:2,batch:1320,loss:0.5020,train_f1:0.8484,acc:0.8500\n"
          ]
        },
        {
          "name": "stderr",
          "output_type": "stream",
          "text": [
            "training....:  61%|██████    | 1330/2193 [20:47<08:54,  1.62it/s]"
          ]
        },
        {
          "name": "stdout",
          "output_type": "stream",
          "text": [
            "epoch:2,batch:1330,loss:0.4830,train_f1:0.8589,acc:0.8602\n"
          ]
        },
        {
          "name": "stderr",
          "output_type": "stream",
          "text": [
            "training....:  61%|██████    | 1340/2193 [20:53<08:46,  1.62it/s]"
          ]
        },
        {
          "name": "stdout",
          "output_type": "stream",
          "text": [
            "epoch:2,batch:1340,loss:0.4993,train_f1:0.8425,acc:0.8445\n"
          ]
        },
        {
          "name": "stderr",
          "output_type": "stream",
          "text": [
            "training....:  62%|██████▏   | 1350/2193 [21:00<08:40,  1.62it/s]"
          ]
        },
        {
          "name": "stdout",
          "output_type": "stream",
          "text": [
            "epoch:2,batch:1350,loss:0.5275,train_f1:0.8416,acc:0.8383\n"
          ]
        },
        {
          "name": "stderr",
          "output_type": "stream",
          "text": [
            "training....:  62%|██████▏   | 1360/2193 [21:06<08:35,  1.62it/s]"
          ]
        },
        {
          "name": "stdout",
          "output_type": "stream",
          "text": [
            "epoch:2,batch:1360,loss:0.4721,train_f1:0.8588,acc:0.8594\n"
          ]
        },
        {
          "name": "stderr",
          "output_type": "stream",
          "text": [
            "training....:  62%|██████▏   | 1370/2193 [21:12<08:27,  1.62it/s]"
          ]
        },
        {
          "name": "stdout",
          "output_type": "stream",
          "text": [
            "epoch:2,batch:1370,loss:0.4659,train_f1:0.8546,acc:0.8547\n"
          ]
        },
        {
          "name": "stderr",
          "output_type": "stream",
          "text": [
            "training....:  63%|██████▎   | 1380/2193 [21:18<08:22,  1.62it/s]"
          ]
        },
        {
          "name": "stdout",
          "output_type": "stream",
          "text": [
            "epoch:2,batch:1380,loss:0.5259,train_f1:0.8360,acc:0.8359\n"
          ]
        },
        {
          "name": "stderr",
          "output_type": "stream",
          "text": [
            "training....:  63%|██████▎   | 1390/2193 [21:24<08:15,  1.62it/s]"
          ]
        },
        {
          "name": "stdout",
          "output_type": "stream",
          "text": [
            "epoch:2,batch:1390,loss:0.4957,train_f1:0.8456,acc:0.8484\n"
          ]
        },
        {
          "name": "stderr",
          "output_type": "stream",
          "text": [
            "training....:  64%|██████▍   | 1399/2193 [21:30<08:08,  1.63it/s]"
          ]
        },
        {
          "name": "stdout",
          "output_type": "stream",
          "text": [
            "epoch:2,batch:1400,loss:0.5002,train_f1:0.8481,acc:0.8492\n"
          ]
        },
        {
          "name": "stderr",
          "output_type": "stream",
          "text": [
            "\n",
            "Vailing:   0%|          | 0/120 [00:00<?, ?it/s]\u001b[A\n",
            "Vailing:   1%|          | 1/120 [00:00<01:09,  1.71it/s]\u001b[A\n",
            "Vailing:   2%|▏         | 2/120 [00:00<00:46,  2.56it/s]\u001b[A\n",
            "Vailing:   2%|▎         | 3/120 [00:01<00:39,  2.99it/s]\u001b[A\n",
            "Vailing:   3%|▎         | 4/120 [00:01<00:36,  3.21it/s]\u001b[A\n",
            "Vailing:   4%|▍         | 5/120 [00:01<00:33,  3.44it/s]\u001b[A\n",
            "Vailing:   5%|▌         | 6/120 [00:01<00:31,  3.60it/s]\u001b[A\n",
            "Vailing:   6%|▌         | 7/120 [00:02<00:30,  3.70it/s]\u001b[A\n",
            "Vailing:   7%|▋         | 8/120 [00:02<00:29,  3.75it/s]\u001b[A\n",
            "Vailing:   8%|▊         | 9/120 [00:02<00:30,  3.64it/s]\u001b[A\n",
            "Vailing:   8%|▊         | 10/120 [00:03<00:31,  3.51it/s]\u001b[A\n",
            "Vailing:   9%|▉         | 11/120 [00:03<00:31,  3.42it/s]\u001b[A\n",
            "Vailing:  10%|█         | 12/120 [00:03<00:32,  3.37it/s]\u001b[A\n",
            "Vailing:  11%|█         | 13/120 [00:03<00:31,  3.37it/s]\u001b[A\n",
            "Vailing:  12%|█▏        | 14/120 [00:04<00:31,  3.32it/s]\u001b[A\n",
            "Vailing:  12%|█▎        | 15/120 [00:04<00:32,  3.28it/s]\u001b[A\n",
            "Vailing:  13%|█▎        | 16/120 [00:04<00:31,  3.29it/s]\u001b[A\n",
            "Vailing:  14%|█▍        | 17/120 [00:05<00:31,  3.27it/s]\u001b[A\n",
            "Vailing:  15%|█▌        | 18/120 [00:05<00:31,  3.27it/s]\u001b[A\n",
            "Vailing:  16%|█▌        | 19/120 [00:05<00:30,  3.26it/s]\u001b[A\n",
            "Vailing:  17%|█▋        | 20/120 [00:06<00:29,  3.42it/s]\u001b[A\n",
            "Vailing:  18%|█▊        | 21/120 [00:06<00:27,  3.55it/s]\u001b[A\n",
            "Vailing:  18%|█▊        | 22/120 [00:06<00:27,  3.62it/s]\u001b[A\n",
            "Vailing:  19%|█▉        | 23/120 [00:06<00:26,  3.69it/s]\u001b[A\n",
            "Vailing:  20%|██        | 24/120 [00:07<00:25,  3.74it/s]\u001b[A\n",
            "Vailing:  21%|██        | 25/120 [00:07<00:25,  3.78it/s]\u001b[A\n",
            "Vailing:  22%|██▏       | 26/120 [00:07<00:24,  3.82it/s]\u001b[A\n",
            "Vailing:  22%|██▎       | 27/120 [00:07<00:24,  3.83it/s]\u001b[A\n",
            "Vailing:  23%|██▎       | 28/120 [00:08<00:23,  3.83it/s]\u001b[A\n",
            "Vailing:  24%|██▍       | 29/120 [00:08<00:23,  3.84it/s]\u001b[A\n",
            "Vailing:  25%|██▌       | 30/120 [00:08<00:23,  3.86it/s]\u001b[A\n",
            "Vailing:  26%|██▌       | 31/120 [00:08<00:22,  3.87it/s]\u001b[A\n",
            "Vailing:  27%|██▋       | 32/120 [00:09<00:22,  3.88it/s]\u001b[A\n",
            "Vailing:  28%|██▊       | 33/120 [00:09<00:22,  3.82it/s]\u001b[A\n",
            "Vailing:  28%|██▊       | 34/120 [00:09<00:22,  3.83it/s]\u001b[A\n",
            "Vailing:  29%|██▉       | 35/120 [00:09<00:22,  3.85it/s]\u001b[A\n",
            "Vailing:  30%|███       | 36/120 [00:10<00:21,  3.85it/s]\u001b[A\n",
            "Vailing:  31%|███       | 37/120 [00:10<00:21,  3.87it/s]\u001b[A\n",
            "Vailing:  32%|███▏      | 38/120 [00:10<00:21,  3.85it/s]\u001b[A\n",
            "Vailing:  32%|███▎      | 39/120 [00:10<00:21,  3.86it/s]\u001b[A\n",
            "Vailing:  33%|███▎      | 40/120 [00:11<00:20,  3.86it/s]\u001b[A\n",
            "Vailing:  34%|███▍      | 41/120 [00:11<00:20,  3.89it/s]\u001b[A\n",
            "Vailing:  35%|███▌      | 42/120 [00:11<00:20,  3.87it/s]\u001b[A\n",
            "Vailing:  36%|███▌      | 43/120 [00:11<00:19,  3.88it/s]\u001b[A\n",
            "Vailing:  37%|███▋      | 44/120 [00:12<00:19,  3.89it/s]\u001b[A\n",
            "Vailing:  38%|███▊      | 45/120 [00:12<00:19,  3.90it/s]\u001b[A\n",
            "Vailing:  38%|███▊      | 46/120 [00:12<00:19,  3.88it/s]\u001b[A\n",
            "Vailing:  39%|███▉      | 47/120 [00:13<00:18,  3.90it/s]\u001b[A\n",
            "Vailing:  40%|████      | 48/120 [00:13<00:18,  3.89it/s]\u001b[A\n",
            "Vailing:  41%|████      | 49/120 [00:13<00:18,  3.90it/s]\u001b[A\n",
            "Vailing:  42%|████▏     | 50/120 [00:13<00:17,  3.89it/s]\u001b[A\n",
            "Vailing:  42%|████▎     | 51/120 [00:14<00:17,  3.87it/s]\u001b[A\n",
            "Vailing:  43%|████▎     | 52/120 [00:14<00:17,  3.86it/s]\u001b[A\n",
            "Vailing:  44%|████▍     | 53/120 [00:14<00:17,  3.85it/s]\u001b[A\n",
            "Vailing:  45%|████▌     | 54/120 [00:14<00:17,  3.86it/s]\u001b[A\n",
            "Vailing:  46%|████▌     | 55/120 [00:15<00:16,  3.87it/s]\u001b[A\n",
            "Vailing:  47%|████▋     | 56/120 [00:15<00:16,  3.89it/s]\u001b[A\n",
            "Vailing:  48%|████▊     | 57/120 [00:15<00:16,  3.88it/s]\u001b[A\n",
            "Vailing:  48%|████▊     | 58/120 [00:15<00:16,  3.77it/s]\u001b[A\n",
            "Vailing:  49%|████▉     | 59/120 [00:16<00:16,  3.66it/s]\u001b[A\n",
            "Vailing:  50%|█████     | 60/120 [00:16<00:16,  3.54it/s]\u001b[A\n",
            "Vailing:  51%|█████     | 61/120 [00:16<00:16,  3.51it/s]\u001b[A\n",
            "Vailing:  52%|█████▏    | 62/120 [00:17<00:16,  3.46it/s]\u001b[A\n",
            "Vailing:  52%|█████▎    | 63/120 [00:17<00:16,  3.41it/s]\u001b[A\n",
            "Vailing:  53%|█████▎    | 64/120 [00:17<00:16,  3.32it/s]\u001b[A\n",
            "Vailing:  54%|█████▍    | 65/120 [00:17<00:16,  3.40it/s]\u001b[A\n",
            "Vailing:  55%|█████▌    | 66/120 [00:18<00:15,  3.42it/s]\u001b[A\n",
            "Vailing:  56%|█████▌    | 67/120 [00:18<00:15,  3.41it/s]\u001b[A\n",
            "Vailing:  57%|█████▋    | 68/120 [00:18<00:15,  3.44it/s]\u001b[A\n",
            "Vailing:  57%|█████▊    | 69/120 [00:19<00:14,  3.55it/s]\u001b[A\n",
            "Vailing:  58%|█████▊    | 70/120 [00:19<00:13,  3.63it/s]\u001b[A\n",
            "Vailing:  59%|█████▉    | 71/120 [00:19<00:13,  3.70it/s]\u001b[A\n",
            "Vailing:  60%|██████    | 72/120 [00:19<00:12,  3.75it/s]\u001b[A\n",
            "Vailing:  61%|██████    | 73/120 [00:20<00:12,  3.80it/s]\u001b[A\n",
            "Vailing:  62%|██████▏   | 74/120 [00:20<00:12,  3.83it/s]\u001b[A\n",
            "Vailing:  62%|██████▎   | 75/120 [00:20<00:11,  3.87it/s]\u001b[A\n",
            "Vailing:  63%|██████▎   | 76/120 [00:20<00:11,  3.86it/s]\u001b[A\n",
            "Vailing:  64%|██████▍   | 77/120 [00:21<00:11,  3.87it/s]\u001b[A\n",
            "Vailing:  65%|██████▌   | 78/120 [00:21<00:10,  3.87it/s]\u001b[A\n",
            "Vailing:  66%|██████▌   | 79/120 [00:21<00:10,  3.85it/s]\u001b[A\n",
            "Vailing:  67%|██████▋   | 80/120 [00:21<00:10,  3.88it/s]\u001b[A\n",
            "Vailing:  68%|██████▊   | 81/120 [00:22<00:10,  3.87it/s]\u001b[A\n",
            "Vailing:  68%|██████▊   | 82/120 [00:22<00:09,  3.89it/s]\u001b[A\n",
            "Vailing:  69%|██████▉   | 83/120 [00:22<00:09,  3.86it/s]\u001b[A\n",
            "Vailing:  70%|███████   | 84/120 [00:22<00:09,  3.84it/s]\u001b[A\n",
            "Vailing:  71%|███████   | 85/120 [00:23<00:09,  3.87it/s]\u001b[A\n",
            "Vailing:  72%|███████▏  | 86/120 [00:23<00:08,  3.88it/s]\u001b[A\n",
            "Vailing:  72%|███████▎  | 87/120 [00:23<00:08,  3.88it/s]\u001b[A\n",
            "Vailing:  73%|███████▎  | 88/120 [00:23<00:08,  3.87it/s]\u001b[A\n",
            "Vailing:  74%|███████▍  | 89/120 [00:24<00:07,  3.88it/s]\u001b[A\n",
            "Vailing:  75%|███████▌  | 90/120 [00:24<00:07,  3.87it/s]\u001b[A\n",
            "Vailing:  76%|███████▌  | 91/120 [00:24<00:07,  3.87it/s]\u001b[A\n",
            "Vailing:  77%|███████▋  | 92/120 [00:25<00:07,  3.85it/s]\u001b[A\n",
            "Vailing:  78%|███████▊  | 93/120 [00:25<00:07,  3.84it/s]\u001b[A\n",
            "Vailing:  78%|███████▊  | 94/120 [00:25<00:06,  3.85it/s]\u001b[A\n",
            "Vailing:  79%|███████▉  | 95/120 [00:25<00:06,  3.88it/s]\u001b[A\n",
            "Vailing:  80%|████████  | 96/120 [00:26<00:06,  3.86it/s]\u001b[A\n",
            "Vailing:  81%|████████  | 97/120 [00:26<00:05,  3.89it/s]\u001b[A\n",
            "Vailing:  82%|████████▏ | 98/120 [00:26<00:05,  3.88it/s]\u001b[A\n",
            "Vailing:  82%|████████▎ | 99/120 [00:26<00:05,  3.86it/s]\u001b[A\n",
            "Vailing:  83%|████████▎ | 100/120 [00:27<00:05,  3.87it/s]\u001b[A\n",
            "Vailing:  84%|████████▍ | 101/120 [00:27<00:04,  3.88it/s]\u001b[A\n",
            "Vailing:  85%|████████▌ | 102/120 [00:27<00:04,  3.87it/s]\u001b[A\n",
            "Vailing:  86%|████████▌ | 103/120 [00:27<00:04,  3.87it/s]\u001b[A\n",
            "Vailing:  87%|████████▋ | 104/120 [00:28<00:04,  3.87it/s]\u001b[A\n",
            "Vailing:  88%|████████▊ | 105/120 [00:28<00:03,  3.87it/s]\u001b[A\n",
            "Vailing:  88%|████████▊ | 106/120 [00:28<00:03,  3.86it/s]\u001b[A\n",
            "Vailing:  89%|████████▉ | 107/120 [00:28<00:03,  3.85it/s]\u001b[A\n",
            "Vailing:  90%|█████████ | 108/120 [00:29<00:03,  3.72it/s]\u001b[A\n",
            "Vailing:  91%|█████████ | 109/120 [00:29<00:03,  3.66it/s]\u001b[A\n",
            "Vailing:  92%|█████████▏| 110/120 [00:29<00:02,  3.59it/s]\u001b[A\n",
            "Vailing:  92%|█████████▎| 111/120 [00:30<00:02,  3.58it/s]\u001b[A\n",
            "Vailing:  93%|█████████▎| 112/120 [00:30<00:02,  3.51it/s]\u001b[A\n",
            "Vailing:  94%|█████████▍| 113/120 [00:30<00:02,  3.40it/s]\u001b[A\n",
            "Vailing:  95%|█████████▌| 114/120 [00:31<00:01,  3.27it/s]\u001b[A\n",
            "Vailing:  96%|█████████▌| 115/120 [00:31<00:01,  3.28it/s]\u001b[A\n",
            "Vailing:  97%|█████████▋| 116/120 [00:31<00:01,  3.28it/s]\u001b[A\n",
            "Vailing:  98%|█████████▊| 117/120 [00:31<00:00,  3.24it/s]\u001b[A\n",
            "Vailing:  98%|█████████▊| 118/120 [00:32<00:00,  3.28it/s]\u001b[A\n",
            "Vailing:  99%|█████████▉| 119/120 [00:32<00:00,  3.38it/s]\u001b[A\n",
            "Vailing: 100%|██████████| 120/120 [00:32<00:00,  3.67it/s]\n",
            "training....:  64%|██████▍   | 1400/2193 [22:03<2:18:09, 10.45s/it]"
          ]
        },
        {
          "name": "stdout",
          "output_type": "stream",
          "text": [
            "验证集评估报告：\n",
            "               precision    recall  f1-score   support\n",
            "\n",
            "           0       0.62      0.88      0.72       700\n",
            "           1       0.70      0.93      0.80       701\n",
            "           2       0.94      0.89      0.91      3793\n",
            "           3       0.90      0.84      0.87      1574\n",
            "           4       0.87      0.93      0.90      1593\n",
            "           5       0.91      0.88      0.90      1940\n",
            "           6       0.83      0.82      0.82      1695\n",
            "           7       0.86      0.85      0.85      1002\n",
            "           8       0.93      0.82      0.87      2327\n",
            "\n",
            "    accuracy                           0.87     15325\n",
            "   macro avg       0.84      0.87      0.85     15325\n",
            "weighted avg       0.88      0.87      0.87     15325\n",
            "\n",
            "验证集的f1: 0.8501, accuracy:0.8689, precision:0.8387, recall:0.8717\n"
          ]
        },
        {
          "name": "stderr",
          "output_type": "stream",
          "text": [
            "training....:  64%|██████▍   | 1410/2193 [22:09<11:37,  1.12it/s]"
          ]
        },
        {
          "name": "stdout",
          "output_type": "stream",
          "text": [
            "epoch:2,batch:1410,loss:0.4765,train_f1:0.8563,acc:0.8562\n"
          ]
        },
        {
          "name": "stderr",
          "output_type": "stream",
          "text": [
            "training....:  65%|██████▍   | 1420/2193 [22:15<08:05,  1.59it/s]"
          ]
        },
        {
          "name": "stdout",
          "output_type": "stream",
          "text": [
            "epoch:2,batch:1420,loss:0.4840,train_f1:0.8548,acc:0.8555\n"
          ]
        },
        {
          "name": "stderr",
          "output_type": "stream",
          "text": [
            "training....:  65%|██████▌   | 1430/2193 [22:21<07:51,  1.62it/s]"
          ]
        },
        {
          "name": "stdout",
          "output_type": "stream",
          "text": [
            "epoch:2,batch:1430,loss:0.4632,train_f1:0.8631,acc:0.8633\n"
          ]
        },
        {
          "name": "stderr",
          "output_type": "stream",
          "text": [
            "training....:  66%|██████▌   | 1440/2193 [22:28<07:46,  1.62it/s]"
          ]
        },
        {
          "name": "stdout",
          "output_type": "stream",
          "text": [
            "epoch:2,batch:1440,loss:0.4904,train_f1:0.8521,acc:0.8531\n"
          ]
        },
        {
          "name": "stderr",
          "output_type": "stream",
          "text": [
            "training....:  66%|██████▌   | 1450/2193 [22:34<07:39,  1.62it/s]"
          ]
        },
        {
          "name": "stdout",
          "output_type": "stream",
          "text": [
            "epoch:2,batch:1450,loss:0.4687,train_f1:0.8545,acc:0.8555\n"
          ]
        },
        {
          "name": "stderr",
          "output_type": "stream",
          "text": [
            "training....:  67%|██████▋   | 1460/2193 [22:40<07:36,  1.60it/s]"
          ]
        },
        {
          "name": "stdout",
          "output_type": "stream",
          "text": [
            "epoch:2,batch:1460,loss:0.4707,train_f1:0.8523,acc:0.8539\n"
          ]
        },
        {
          "name": "stderr",
          "output_type": "stream",
          "text": [
            "training....:  67%|██████▋   | 1470/2193 [22:46<07:26,  1.62it/s]"
          ]
        },
        {
          "name": "stdout",
          "output_type": "stream",
          "text": [
            "epoch:2,batch:1470,loss:0.5137,train_f1:0.8430,acc:0.8422\n"
          ]
        },
        {
          "name": "stderr",
          "output_type": "stream",
          "text": [
            "training....:  67%|██████▋   | 1480/2193 [22:52<07:22,  1.61it/s]"
          ]
        },
        {
          "name": "stdout",
          "output_type": "stream",
          "text": [
            "epoch:2,batch:1480,loss:0.4834,train_f1:0.8537,acc:0.8562\n"
          ]
        },
        {
          "name": "stderr",
          "output_type": "stream",
          "text": [
            "training....:  68%|██████▊   | 1490/2193 [22:58<07:13,  1.62it/s]"
          ]
        },
        {
          "name": "stdout",
          "output_type": "stream",
          "text": [
            "epoch:2,batch:1490,loss:0.5281,train_f1:0.8340,acc:0.8352\n"
          ]
        },
        {
          "name": "stderr",
          "output_type": "stream",
          "text": [
            "training....:  68%|██████▊   | 1499/2193 [23:04<07:07,  1.62it/s]"
          ]
        },
        {
          "name": "stdout",
          "output_type": "stream",
          "text": [
            "epoch:2,batch:1500,loss:0.4955,train_f1:0.8477,acc:0.8492\n"
          ]
        },
        {
          "name": "stderr",
          "output_type": "stream",
          "text": [
            "\n",
            "Vailing:   0%|          | 0/120 [00:00<?, ?it/s]\u001b[A\n",
            "Vailing:   1%|          | 1/120 [00:00<01:08,  1.74it/s]\u001b[A\n",
            "Vailing:   2%|▏         | 2/120 [00:00<00:48,  2.41it/s]\u001b[A\n",
            "Vailing:   2%|▎         | 3/120 [00:01<00:42,  2.75it/s]\u001b[A\n",
            "Vailing:   3%|▎         | 4/120 [00:01<00:39,  2.96it/s]\u001b[A\n",
            "Vailing:   4%|▍         | 5/120 [00:01<00:37,  3.10it/s]\u001b[A\n",
            "Vailing:   5%|▌         | 6/120 [00:02<00:36,  3.14it/s]\u001b[A\n",
            "Vailing:   6%|▌         | 7/120 [00:02<00:35,  3.16it/s]\u001b[A\n",
            "Vailing:   7%|▋         | 8/120 [00:02<00:36,  3.10it/s]\u001b[A\n",
            "Vailing:   8%|▊         | 9/120 [00:02<00:33,  3.31it/s]\u001b[A\n",
            "Vailing:   8%|▊         | 10/120 [00:03<00:31,  3.46it/s]\u001b[A\n",
            "Vailing:   9%|▉         | 11/120 [00:03<00:30,  3.58it/s]\u001b[A\n",
            "Vailing:  10%|█         | 12/120 [00:03<00:29,  3.68it/s]\u001b[A\n",
            "Vailing:  11%|█         | 13/120 [00:04<00:28,  3.73it/s]\u001b[A\n",
            "Vailing:  12%|█▏        | 14/120 [00:04<00:28,  3.77it/s]\u001b[A\n",
            "Vailing:  12%|█▎        | 15/120 [00:04<00:27,  3.75it/s]\u001b[A\n",
            "Vailing:  13%|█▎        | 16/120 [00:04<00:27,  3.77it/s]\u001b[A\n",
            "Vailing:  14%|█▍        | 17/120 [00:05<00:27,  3.81it/s]\u001b[A\n",
            "Vailing:  15%|█▌        | 18/120 [00:05<00:26,  3.82it/s]\u001b[A\n",
            "Vailing:  16%|█▌        | 19/120 [00:05<00:26,  3.83it/s]\u001b[A\n",
            "Vailing:  17%|█▋        | 20/120 [00:05<00:26,  3.83it/s]\u001b[A\n",
            "Vailing:  18%|█▊        | 21/120 [00:06<00:25,  3.81it/s]\u001b[A\n",
            "Vailing:  18%|█▊        | 22/120 [00:06<00:25,  3.83it/s]\u001b[A\n",
            "Vailing:  19%|█▉        | 23/120 [00:06<00:25,  3.85it/s]\u001b[A\n",
            "Vailing:  20%|██        | 24/120 [00:06<00:25,  3.83it/s]\u001b[A\n",
            "Vailing:  21%|██        | 25/120 [00:07<00:24,  3.83it/s]\u001b[A\n",
            "Vailing:  22%|██▏       | 26/120 [00:07<00:24,  3.83it/s]\u001b[A\n",
            "Vailing:  22%|██▎       | 27/120 [00:07<00:24,  3.85it/s]\u001b[A\n",
            "Vailing:  23%|██▎       | 28/120 [00:07<00:24,  3.83it/s]\u001b[A\n",
            "Vailing:  24%|██▍       | 29/120 [00:08<00:23,  3.83it/s]\u001b[A\n",
            "Vailing:  25%|██▌       | 30/120 [00:08<00:23,  3.87it/s]\u001b[A\n",
            "Vailing:  26%|██▌       | 31/120 [00:08<00:22,  3.88it/s]\u001b[A\n",
            "Vailing:  27%|██▋       | 32/120 [00:08<00:22,  3.84it/s]\u001b[A\n",
            "Vailing:  28%|██▊       | 33/120 [00:09<00:22,  3.84it/s]\u001b[A\n",
            "Vailing:  28%|██▊       | 34/120 [00:09<00:22,  3.83it/s]\u001b[A\n",
            "Vailing:  29%|██▉       | 35/120 [00:09<00:22,  3.83it/s]\u001b[A\n",
            "Vailing:  30%|███       | 36/120 [00:10<00:21,  3.86it/s]\u001b[A\n",
            "Vailing:  31%|███       | 37/120 [00:10<00:21,  3.80it/s]\u001b[A\n",
            "Vailing:  32%|███▏      | 38/120 [00:10<00:21,  3.80it/s]\u001b[A\n",
            "Vailing:  32%|███▎      | 39/120 [00:10<00:21,  3.81it/s]\u001b[A\n",
            "Vailing:  33%|███▎      | 40/120 [00:11<00:20,  3.83it/s]\u001b[A\n",
            "Vailing:  34%|███▍      | 41/120 [00:11<00:20,  3.78it/s]\u001b[A\n",
            "Vailing:  35%|███▌      | 42/120 [00:11<00:20,  3.78it/s]\u001b[A\n",
            "Vailing:  36%|███▌      | 43/120 [00:11<00:20,  3.81it/s]\u001b[A\n",
            "Vailing:  37%|███▋      | 44/120 [00:12<00:20,  3.79it/s]\u001b[A\n",
            "Vailing:  38%|███▊      | 45/120 [00:12<00:19,  3.76it/s]\u001b[A\n",
            "Vailing:  38%|███▊      | 46/120 [00:12<00:19,  3.82it/s]\u001b[A\n",
            "Vailing:  39%|███▉      | 47/120 [00:12<00:19,  3.69it/s]\u001b[A\n",
            "Vailing:  40%|████      | 48/120 [00:13<00:20,  3.56it/s]\u001b[A\n",
            "Vailing:  41%|████      | 49/120 [00:13<00:20,  3.40it/s]\u001b[A\n",
            "Vailing:  42%|████▏     | 50/120 [00:13<00:20,  3.43it/s]\u001b[A\n",
            "Vailing:  42%|████▎     | 51/120 [00:14<00:20,  3.45it/s]\u001b[A\n",
            "Vailing:  43%|████▎     | 52/120 [00:14<00:20,  3.35it/s]\u001b[A\n",
            "Vailing:  44%|████▍     | 53/120 [00:14<00:20,  3.34it/s]\u001b[A\n",
            "Vailing:  45%|████▌     | 54/120 [00:15<00:19,  3.38it/s]\u001b[A\n",
            "Vailing:  46%|████▌     | 55/120 [00:15<00:19,  3.40it/s]\u001b[A\n",
            "Vailing:  47%|████▋     | 56/120 [00:15<00:19,  3.33it/s]\u001b[A\n",
            "Vailing:  48%|████▊     | 57/120 [00:15<00:18,  3.33it/s]\u001b[A\n",
            "Vailing:  48%|████▊     | 58/120 [00:16<00:17,  3.49it/s]\u001b[A\n",
            "Vailing:  49%|████▉     | 59/120 [00:16<00:16,  3.60it/s]\u001b[A\n",
            "Vailing:  50%|█████     | 60/120 [00:16<00:16,  3.64it/s]\u001b[A\n",
            "Vailing:  51%|█████     | 61/120 [00:16<00:15,  3.70it/s]\u001b[A\n",
            "Vailing:  52%|█████▏    | 62/120 [00:17<00:15,  3.76it/s]\u001b[A\n",
            "Vailing:  52%|█████▎    | 63/120 [00:17<00:15,  3.78it/s]\u001b[A\n",
            "Vailing:  53%|█████▎    | 64/120 [00:17<00:14,  3.73it/s]\u001b[A\n",
            "Vailing:  54%|█████▍    | 65/120 [00:18<00:14,  3.75it/s]\u001b[A\n",
            "Vailing:  55%|█████▌    | 66/120 [00:18<00:14,  3.78it/s]\u001b[A\n",
            "Vailing:  56%|█████▌    | 67/120 [00:18<00:13,  3.80it/s]\u001b[A\n",
            "Vailing:  57%|█████▋    | 68/120 [00:18<00:13,  3.73it/s]\u001b[A\n",
            "Vailing:  57%|█████▊    | 69/120 [00:19<00:13,  3.73it/s]\u001b[A\n",
            "Vailing:  58%|█████▊    | 70/120 [00:19<00:13,  3.78it/s]\u001b[A\n",
            "Vailing:  59%|█████▉    | 71/120 [00:19<00:12,  3.80it/s]\u001b[A\n",
            "Vailing:  60%|██████    | 72/120 [00:19<00:12,  3.75it/s]\u001b[A\n",
            "Vailing:  61%|██████    | 73/120 [00:20<00:12,  3.78it/s]\u001b[A\n",
            "Vailing:  62%|██████▏   | 74/120 [00:20<00:12,  3.82it/s]\u001b[A\n",
            "Vailing:  62%|██████▎   | 75/120 [00:20<00:11,  3.82it/s]\u001b[A\n",
            "Vailing:  63%|██████▎   | 76/120 [00:20<00:11,  3.79it/s]\u001b[A\n",
            "Vailing:  64%|██████▍   | 77/120 [00:21<00:11,  3.83it/s]\u001b[A\n",
            "Vailing:  65%|██████▌   | 78/120 [00:21<00:10,  3.82it/s]\u001b[A\n",
            "Vailing:  66%|██████▌   | 79/120 [00:21<00:10,  3.83it/s]\u001b[A\n",
            "Vailing:  67%|██████▋   | 80/120 [00:22<00:10,  3.76it/s]\u001b[A\n",
            "Vailing:  68%|██████▊   | 81/120 [00:22<00:10,  3.80it/s]\u001b[A\n",
            "Vailing:  68%|██████▊   | 82/120 [00:22<00:09,  3.81it/s]\u001b[A\n",
            "Vailing:  69%|██████▉   | 83/120 [00:22<00:09,  3.83it/s]\u001b[A\n",
            "Vailing:  70%|███████   | 84/120 [00:23<00:09,  3.77it/s]\u001b[A\n",
            "Vailing:  71%|███████   | 85/120 [00:23<00:09,  3.81it/s]\u001b[A\n",
            "Vailing:  72%|███████▏  | 86/120 [00:23<00:08,  3.81it/s]\u001b[A\n",
            "Vailing:  72%|███████▎  | 87/120 [00:23<00:08,  3.79it/s]\u001b[A\n",
            "Vailing:  73%|███████▎  | 88/120 [00:24<00:08,  3.73it/s]\u001b[A\n",
            "Vailing:  74%|███████▍  | 89/120 [00:24<00:08,  3.75it/s]\u001b[A\n",
            "Vailing:  75%|███████▌  | 90/120 [00:24<00:07,  3.80it/s]\u001b[A\n",
            "Vailing:  76%|███████▌  | 91/120 [00:24<00:07,  3.82it/s]\u001b[A\n",
            "Vailing:  77%|███████▋  | 92/120 [00:25<00:07,  3.75it/s]\u001b[A\n",
            "Vailing:  78%|███████▊  | 93/120 [00:25<00:07,  3.80it/s]\u001b[A\n",
            "Vailing:  78%|███████▊  | 94/120 [00:25<00:06,  3.84it/s]\u001b[A\n",
            "Vailing:  79%|███████▉  | 95/120 [00:25<00:06,  3.82it/s]\u001b[A\n",
            "Vailing:  80%|████████  | 96/120 [00:26<00:06,  3.63it/s]\u001b[A\n",
            "Vailing:  81%|████████  | 97/120 [00:26<00:06,  3.52it/s]\u001b[A\n",
            "Vailing:  82%|████████▏ | 98/120 [00:26<00:06,  3.48it/s]\u001b[A\n",
            "Vailing:  82%|████████▎ | 99/120 [00:27<00:06,  3.37it/s]\u001b[A\n",
            "Vailing:  83%|████████▎ | 100/120 [00:27<00:06,  3.32it/s]\u001b[A\n",
            "Vailing:  84%|████████▍ | 101/120 [00:27<00:05,  3.34it/s]\u001b[A\n",
            "Vailing:  85%|████████▌ | 102/120 [00:28<00:05,  3.37it/s]\u001b[A\n",
            "Vailing:  86%|████████▌ | 103/120 [00:28<00:05,  3.38it/s]\u001b[A\n",
            "Vailing:  87%|████████▋ | 104/120 [00:28<00:04,  3.39it/s]\u001b[A\n",
            "Vailing:  88%|████████▊ | 105/120 [00:28<00:04,  3.31it/s]\u001b[A\n",
            "Vailing:  88%|████████▊ | 106/120 [00:29<00:04,  3.36it/s]\u001b[A\n",
            "Vailing:  89%|████████▉ | 107/120 [00:29<00:03,  3.48it/s]\u001b[A\n",
            "Vailing:  90%|█████████ | 108/120 [00:29<00:03,  3.59it/s]\u001b[A\n",
            "Vailing:  91%|█████████ | 109/120 [00:30<00:03,  3.65it/s]\u001b[A\n",
            "Vailing:  92%|█████████▏| 110/120 [00:30<00:02,  3.72it/s]\u001b[A\n",
            "Vailing:  92%|█████████▎| 111/120 [00:30<00:02,  3.78it/s]\u001b[A\n",
            "Vailing:  93%|█████████▎| 112/120 [00:30<00:02,  3.78it/s]\u001b[A\n",
            "Vailing:  94%|█████████▍| 113/120 [00:31<00:01,  3.78it/s]\u001b[A\n",
            "Vailing:  95%|█████████▌| 114/120 [00:31<00:01,  3.80it/s]\u001b[A\n",
            "Vailing:  96%|█████████▌| 115/120 [00:31<00:01,  3.83it/s]\u001b[A\n",
            "Vailing:  97%|█████████▋| 116/120 [00:31<00:01,  3.85it/s]\u001b[A\n",
            "Vailing:  98%|█████████▊| 117/120 [00:32<00:00,  3.85it/s]\u001b[A\n",
            "Vailing:  98%|█████████▊| 118/120 [00:32<00:00,  3.84it/s]\u001b[A\n",
            "Vailing:  99%|█████████▉| 119/120 [00:32<00:00,  3.84it/s]\u001b[A\n",
            "Vailing: 100%|██████████| 120/120 [00:32<00:00,  3.65it/s]\n"
          ]
        },
        {
          "name": "stdout",
          "output_type": "stream",
          "text": [
            "验证集评估报告：\n",
            "               precision    recall  f1-score   support\n",
            "\n",
            "           0       0.71      0.84      0.77       700\n",
            "           1       0.70      0.94      0.80       701\n",
            "           2       0.93      0.90      0.91      3793\n",
            "           3       0.85      0.87      0.86      1574\n",
            "           4       0.89      0.92      0.91      1593\n",
            "           5       0.92      0.87      0.89      1940\n",
            "           6       0.85      0.81      0.83      1695\n",
            "           7       0.85      0.86      0.85      1002\n",
            "           8       0.92      0.85      0.89      2327\n",
            "\n",
            "    accuracy                           0.87     15325\n",
            "   macro avg       0.85      0.87      0.86     15325\n",
            "weighted avg       0.88      0.87      0.88     15325\n",
            "\n",
            "验证集的f1: 0.8570, accuracy:0.8742, precision:0.8463, recall:0.8734\n"
          ]
        },
        {
          "name": "stderr",
          "output_type": "stream",
          "text": [
            "\rtraining....:  68%|██████▊   | 1500/2193 [23:42<2:15:41, 11.75s/it]"
          ]
        },
        {
          "name": "stdout",
          "output_type": "stream",
          "text": [
            "保存模型成功, 当前f1分数: 0.8569823958665197\n"
          ]
        },
        {
          "name": "stderr",
          "output_type": "stream",
          "text": [
            "training....:  69%|██████▉   | 1510/2193 [23:48<10:30,  1.08it/s]"
          ]
        },
        {
          "name": "stdout",
          "output_type": "stream",
          "text": [
            "epoch:2,batch:1510,loss:0.4821,train_f1:0.8485,acc:0.8492\n"
          ]
        },
        {
          "name": "stderr",
          "output_type": "stream",
          "text": [
            "training....:  69%|██████▉   | 1520/2193 [23:54<07:03,  1.59it/s]"
          ]
        },
        {
          "name": "stdout",
          "output_type": "stream",
          "text": [
            "epoch:2,batch:1520,loss:0.5159,train_f1:0.8519,acc:0.8531\n"
          ]
        },
        {
          "name": "stderr",
          "output_type": "stream",
          "text": [
            "training....:  70%|██████▉   | 1530/2193 [24:00<06:55,  1.60it/s]"
          ]
        },
        {
          "name": "stdout",
          "output_type": "stream",
          "text": [
            "epoch:2,batch:1530,loss:0.4602,train_f1:0.8541,acc:0.8539\n"
          ]
        },
        {
          "name": "stderr",
          "output_type": "stream",
          "text": [
            "training....:  70%|███████   | 1540/2193 [24:06<06:43,  1.62it/s]"
          ]
        },
        {
          "name": "stdout",
          "output_type": "stream",
          "text": [
            "epoch:2,batch:1540,loss:0.4243,train_f1:0.8653,acc:0.8672\n"
          ]
        },
        {
          "name": "stderr",
          "output_type": "stream",
          "text": [
            "training....:  71%|███████   | 1550/2193 [24:12<06:37,  1.62it/s]"
          ]
        },
        {
          "name": "stdout",
          "output_type": "stream",
          "text": [
            "epoch:2,batch:1550,loss:0.4610,train_f1:0.8604,acc:0.8609\n"
          ]
        },
        {
          "name": "stderr",
          "output_type": "stream",
          "text": [
            "training....:  71%|███████   | 1560/2193 [24:18<06:30,  1.62it/s]"
          ]
        },
        {
          "name": "stdout",
          "output_type": "stream",
          "text": [
            "epoch:2,batch:1560,loss:0.5230,train_f1:0.8405,acc:0.8414\n"
          ]
        },
        {
          "name": "stderr",
          "output_type": "stream",
          "text": [
            "training....:  72%|███████▏  | 1570/2193 [24:24<06:26,  1.61it/s]"
          ]
        },
        {
          "name": "stdout",
          "output_type": "stream",
          "text": [
            "epoch:2,batch:1570,loss:0.5141,train_f1:0.8549,acc:0.8547\n"
          ]
        },
        {
          "name": "stderr",
          "output_type": "stream",
          "text": [
            "training....:  72%|███████▏  | 1580/2193 [24:31<06:18,  1.62it/s]"
          ]
        },
        {
          "name": "stdout",
          "output_type": "stream",
          "text": [
            "epoch:2,batch:1580,loss:0.5101,train_f1:0.8500,acc:0.8508\n"
          ]
        },
        {
          "name": "stderr",
          "output_type": "stream",
          "text": [
            "training....:  73%|███████▎  | 1590/2193 [24:37<06:13,  1.61it/s]"
          ]
        },
        {
          "name": "stdout",
          "output_type": "stream",
          "text": [
            "epoch:2,batch:1590,loss:0.4801,train_f1:0.8530,acc:0.8547\n"
          ]
        },
        {
          "name": "stderr",
          "output_type": "stream",
          "text": [
            "training....:  73%|███████▎  | 1599/2193 [24:42<06:06,  1.62it/s]"
          ]
        },
        {
          "name": "stdout",
          "output_type": "stream",
          "text": [
            "epoch:2,batch:1600,loss:0.4293,train_f1:0.8705,acc:0.8727\n"
          ]
        },
        {
          "name": "stderr",
          "output_type": "stream",
          "text": [
            "\n",
            "Vailing:   0%|          | 0/120 [00:00<?, ?it/s]\u001b[A\n",
            "Vailing:   1%|          | 1/120 [00:00<01:09,  1.70it/s]\u001b[A\n",
            "Vailing:   2%|▏         | 2/120 [00:00<00:46,  2.54it/s]\u001b[A\n",
            "Vailing:   2%|▎         | 3/120 [00:01<00:38,  3.01it/s]\u001b[A\n",
            "Vailing:   3%|▎         | 4/120 [00:01<00:35,  3.24it/s]\u001b[A\n",
            "Vailing:   4%|▍         | 5/120 [00:01<00:33,  3.45it/s]\u001b[A\n",
            "Vailing:   5%|▌         | 6/120 [00:01<00:32,  3.56it/s]\u001b[A\n",
            "Vailing:   6%|▌         | 7/120 [00:02<00:30,  3.65it/s]\u001b[A\n",
            "Vailing:   7%|▋         | 8/120 [00:02<00:30,  3.65it/s]\u001b[A\n",
            "Vailing:   8%|▊         | 9/120 [00:02<00:29,  3.72it/s]\u001b[A\n",
            "Vailing:   8%|▊         | 10/120 [00:02<00:29,  3.78it/s]\u001b[A\n",
            "Vailing:   9%|▉         | 11/120 [00:03<00:28,  3.80it/s]\u001b[A\n",
            "Vailing:  10%|█         | 12/120 [00:03<00:28,  3.75it/s]\u001b[A\n",
            "Vailing:  11%|█         | 13/120 [00:03<00:28,  3.79it/s]\u001b[A\n",
            "Vailing:  12%|█▏        | 14/120 [00:03<00:27,  3.82it/s]\u001b[A\n",
            "Vailing:  12%|█▎        | 15/120 [00:04<00:27,  3.81it/s]\u001b[A\n",
            "Vailing:  13%|█▎        | 16/120 [00:04<00:27,  3.74it/s]\u001b[A\n",
            "Vailing:  14%|█▍        | 17/120 [00:04<00:27,  3.75it/s]\u001b[A\n",
            "Vailing:  15%|█▌        | 18/120 [00:05<00:26,  3.79it/s]\u001b[A\n",
            "Vailing:  16%|█▌        | 19/120 [00:05<00:26,  3.81it/s]\u001b[A\n",
            "Vailing:  17%|█▋        | 20/120 [00:05<00:26,  3.72it/s]\u001b[A\n",
            "Vailing:  18%|█▊        | 21/120 [00:05<00:26,  3.74it/s]\u001b[A\n",
            "Vailing:  18%|█▊        | 22/120 [00:06<00:25,  3.77it/s]\u001b[A\n",
            "Vailing:  19%|█▉        | 23/120 [00:06<00:26,  3.68it/s]\u001b[A\n",
            "Vailing:  20%|██        | 24/120 [00:06<00:26,  3.56it/s]\u001b[A\n",
            "Vailing:  21%|██        | 25/120 [00:07<00:27,  3.47it/s]\u001b[A\n",
            "Vailing:  22%|██▏       | 26/120 [00:07<00:27,  3.43it/s]\u001b[A\n",
            "Vailing:  22%|██▎       | 27/120 [00:07<00:27,  3.39it/s]\u001b[A\n",
            "Vailing:  23%|██▎       | 28/120 [00:07<00:27,  3.33it/s]\u001b[A\n",
            "Vailing:  24%|██▍       | 29/120 [00:08<00:27,  3.28it/s]\u001b[A\n",
            "Vailing:  25%|██▌       | 30/120 [00:08<00:27,  3.27it/s]\u001b[A\n",
            "Vailing:  26%|██▌       | 31/120 [00:08<00:27,  3.24it/s]\u001b[A\n",
            "Vailing:  27%|██▋       | 32/120 [00:09<00:26,  3.27it/s]\u001b[A\n",
            "Vailing:  28%|██▊       | 33/120 [00:09<00:26,  3.31it/s]\u001b[A\n",
            "Vailing:  28%|██▊       | 34/120 [00:09<00:24,  3.46it/s]\u001b[A\n",
            "Vailing:  29%|██▉       | 35/120 [00:09<00:23,  3.58it/s]\u001b[A\n",
            "Vailing:  30%|███       | 36/120 [00:10<00:23,  3.64it/s]\u001b[A\n",
            "Vailing:  31%|███       | 37/120 [00:10<00:22,  3.73it/s]\u001b[A\n",
            "Vailing:  32%|███▏      | 38/120 [00:10<00:21,  3.79it/s]\u001b[A\n",
            "Vailing:  32%|███▎      | 39/120 [00:11<00:21,  3.82it/s]\u001b[A\n",
            "Vailing:  33%|███▎      | 40/120 [00:11<00:20,  3.82it/s]\u001b[A\n",
            "Vailing:  34%|███▍      | 41/120 [00:11<00:20,  3.84it/s]\u001b[A\n",
            "Vailing:  35%|███▌      | 42/120 [00:11<00:20,  3.82it/s]\u001b[A\n",
            "Vailing:  36%|███▌      | 43/120 [00:12<00:20,  3.83it/s]\u001b[A\n",
            "Vailing:  37%|███▋      | 44/120 [00:12<00:19,  3.84it/s]\u001b[A\n",
            "Vailing:  38%|███▊      | 45/120 [00:12<00:19,  3.83it/s]\u001b[A\n",
            "Vailing:  38%|███▊      | 46/120 [00:12<00:19,  3.84it/s]\u001b[A\n",
            "Vailing:  39%|███▉      | 47/120 [00:13<00:18,  3.87it/s]\u001b[A\n",
            "Vailing:  40%|████      | 48/120 [00:13<00:18,  3.88it/s]\u001b[A\n",
            "Vailing:  41%|████      | 49/120 [00:13<00:18,  3.85it/s]\u001b[A\n",
            "Vailing:  42%|████▏     | 50/120 [00:13<00:18,  3.85it/s]\u001b[A\n",
            "Vailing:  42%|████▎     | 51/120 [00:14<00:17,  3.87it/s]\u001b[A\n",
            "Vailing:  43%|████▎     | 52/120 [00:14<00:17,  3.89it/s]\u001b[A\n",
            "Vailing:  44%|████▍     | 53/120 [00:14<00:17,  3.89it/s]\u001b[A\n",
            "Vailing:  45%|████▌     | 54/120 [00:14<00:17,  3.86it/s]\u001b[A\n",
            "Vailing:  46%|████▌     | 55/120 [00:15<00:16,  3.85it/s]\u001b[A\n",
            "Vailing:  47%|████▋     | 56/120 [00:15<00:16,  3.86it/s]\u001b[A\n",
            "Vailing:  48%|████▊     | 57/120 [00:15<00:16,  3.83it/s]\u001b[A\n",
            "Vailing:  48%|████▊     | 58/120 [00:15<00:16,  3.85it/s]\u001b[A\n",
            "Vailing:  49%|████▉     | 59/120 [00:16<00:16,  3.80it/s]\u001b[A\n",
            "Vailing:  50%|█████     | 60/120 [00:16<00:15,  3.82it/s]\u001b[A\n",
            "Vailing:  51%|█████     | 61/120 [00:16<00:15,  3.78it/s]\u001b[A\n",
            "Vailing:  52%|█████▏    | 62/120 [00:16<00:15,  3.80it/s]\u001b[A\n",
            "Vailing:  52%|█████▎    | 63/120 [00:17<00:15,  3.80it/s]\u001b[A\n",
            "Vailing:  53%|█████▎    | 64/120 [00:17<00:14,  3.81it/s]\u001b[A\n",
            "Vailing:  54%|█████▍    | 65/120 [00:17<00:14,  3.80it/s]\u001b[A\n",
            "Vailing:  55%|█████▌    | 66/120 [00:18<00:14,  3.73it/s]\u001b[A\n",
            "Vailing:  56%|█████▌    | 67/120 [00:18<00:14,  3.77it/s]\u001b[A\n",
            "Vailing:  57%|█████▋    | 68/120 [00:18<00:13,  3.77it/s]\u001b[A\n",
            "Vailing:  57%|█████▊    | 69/120 [00:18<00:13,  3.80it/s]\u001b[A\n",
            "Vailing:  58%|█████▊    | 70/120 [00:19<00:13,  3.75it/s]\u001b[A\n",
            "Vailing:  59%|█████▉    | 71/120 [00:19<00:12,  3.78it/s]\u001b[A\n",
            "Vailing:  60%|██████    | 72/120 [00:19<00:13,  3.62it/s]\u001b[A\n",
            "Vailing:  61%|██████    | 73/120 [00:19<00:13,  3.51it/s]\u001b[A\n",
            "Vailing:  62%|██████▏   | 74/120 [00:20<00:13,  3.45it/s]\u001b[A\n",
            "Vailing:  62%|██████▎   | 75/120 [00:20<00:13,  3.41it/s]\u001b[A\n",
            "Vailing:  63%|██████▎   | 76/120 [00:20<00:13,  3.38it/s]\u001b[A\n",
            "Vailing:  64%|██████▍   | 77/120 [00:21<00:12,  3.32it/s]\u001b[A\n",
            "Vailing:  65%|██████▌   | 78/120 [00:21<00:12,  3.29it/s]\u001b[A\n",
            "Vailing:  66%|██████▌   | 79/120 [00:21<00:12,  3.31it/s]\u001b[A\n",
            "Vailing:  67%|██████▋   | 80/120 [00:22<00:12,  3.31it/s]\u001b[A\n",
            "Vailing:  68%|██████▊   | 81/120 [00:22<00:11,  3.28it/s]\u001b[A\n",
            "Vailing:  68%|██████▊   | 82/120 [00:22<00:11,  3.28it/s]\u001b[A\n",
            "Vailing:  69%|██████▉   | 83/120 [00:22<00:10,  3.44it/s]\u001b[A\n",
            "Vailing:  70%|███████   | 84/120 [00:23<00:10,  3.57it/s]\u001b[A\n",
            "Vailing:  71%|███████   | 85/120 [00:23<00:09,  3.65it/s]\u001b[A\n",
            "Vailing:  72%|███████▏  | 86/120 [00:23<00:09,  3.72it/s]\u001b[A\n",
            "Vailing:  72%|███████▎  | 87/120 [00:24<00:08,  3.79it/s]\u001b[A\n",
            "Vailing:  73%|███████▎  | 88/120 [00:24<00:08,  3.83it/s]\u001b[A\n",
            "Vailing:  74%|███████▍  | 89/120 [00:24<00:08,  3.80it/s]\u001b[A\n",
            "Vailing:  75%|███████▌  | 90/120 [00:24<00:07,  3.81it/s]\u001b[A\n",
            "Vailing:  76%|███████▌  | 91/120 [00:25<00:07,  3.82it/s]\u001b[A\n",
            "Vailing:  77%|███████▋  | 92/120 [00:25<00:07,  3.86it/s]\u001b[A\n",
            "Vailing:  78%|███████▊  | 93/120 [00:25<00:06,  3.87it/s]\u001b[A\n",
            "Vailing:  78%|███████▊  | 94/120 [00:25<00:06,  3.88it/s]\u001b[A\n",
            "Vailing:  79%|███████▉  | 95/120 [00:26<00:06,  3.86it/s]\u001b[A\n",
            "Vailing:  80%|████████  | 96/120 [00:26<00:06,  3.87it/s]\u001b[A\n",
            "Vailing:  81%|████████  | 97/120 [00:26<00:05,  3.86it/s]\u001b[A\n",
            "Vailing:  82%|████████▏ | 98/120 [00:26<00:05,  3.86it/s]\u001b[A\n",
            "Vailing:  82%|████████▎ | 99/120 [00:27<00:05,  3.86it/s]\u001b[A\n",
            "Vailing:  83%|████████▎ | 100/120 [00:27<00:05,  3.85it/s]\u001b[A\n",
            "Vailing:  84%|████████▍ | 101/120 [00:27<00:04,  3.83it/s]\u001b[A\n",
            "Vailing:  85%|████████▌ | 102/120 [00:27<00:04,  3.85it/s]\u001b[A\n",
            "Vailing:  86%|████████▌ | 103/120 [00:28<00:04,  3.88it/s]\u001b[A\n",
            "Vailing:  87%|████████▋ | 104/120 [00:28<00:04,  3.87it/s]\u001b[A\n",
            "Vailing:  88%|████████▊ | 105/120 [00:28<00:03,  3.87it/s]\u001b[A\n",
            "Vailing:  88%|████████▊ | 106/120 [00:28<00:03,  3.87it/s]\u001b[A\n",
            "Vailing:  89%|████████▉ | 107/120 [00:29<00:03,  3.86it/s]\u001b[A\n",
            "Vailing:  90%|█████████ | 108/120 [00:29<00:03,  3.87it/s]\u001b[A\n",
            "Vailing:  91%|█████████ | 109/120 [00:29<00:02,  3.87it/s]\u001b[A\n",
            "Vailing:  92%|█████████▏| 110/120 [00:29<00:02,  3.88it/s]\u001b[A\n",
            "Vailing:  92%|█████████▎| 111/120 [00:30<00:02,  3.86it/s]\u001b[A\n",
            "Vailing:  93%|█████████▎| 112/120 [00:30<00:02,  3.84it/s]\u001b[A\n",
            "Vailing:  94%|█████████▍| 113/120 [00:30<00:01,  3.84it/s]\u001b[A\n",
            "Vailing:  95%|█████████▌| 114/120 [00:31<00:01,  3.85it/s]\u001b[A\n",
            "Vailing:  96%|█████████▌| 115/120 [00:31<00:01,  3.88it/s]\u001b[A\n",
            "Vailing:  97%|█████████▋| 116/120 [00:31<00:01,  3.87it/s]\u001b[A\n",
            "Vailing:  98%|█████████▊| 117/120 [00:31<00:00,  3.84it/s]\u001b[A\n",
            "Vailing:  98%|█████████▊| 118/120 [00:32<00:00,  3.85it/s]\u001b[A\n",
            "Vailing:  99%|█████████▉| 119/120 [00:32<00:00,  3.84it/s]\u001b[A\n",
            "Vailing: 100%|██████████| 120/120 [00:32<00:00,  3.69it/s]\n"
          ]
        },
        {
          "name": "stdout",
          "output_type": "stream",
          "text": [
            "验证集评估报告：\n",
            "               precision    recall  f1-score   support\n",
            "\n",
            "           0       0.63      0.89      0.74       700\n",
            "           1       0.85      0.92      0.88       701\n",
            "           2       0.95      0.88      0.91      3793\n",
            "           3       0.85      0.86      0.85      1574\n",
            "           4       0.88      0.93      0.90      1593\n",
            "           5       0.92      0.88      0.90      1940\n",
            "           6       0.84      0.82      0.83      1695\n",
            "           7       0.82      0.88      0.85      1002\n",
            "           8       0.92      0.86      0.89      2327\n",
            "\n",
            "    accuracy                           0.88     15325\n",
            "   macro avg       0.85      0.88      0.86     15325\n",
            "weighted avg       0.88      0.88      0.88     15325\n",
            "\n",
            "验证集的f1: 0.8612, accuracy:0.8759, precision:0.8495, recall:0.8791\n"
          ]
        },
        {
          "name": "stderr",
          "output_type": "stream",
          "text": [
            "\rtraining....:  73%|███████▎  | 1600/2193 [25:17<1:47:19, 10.86s/it]"
          ]
        },
        {
          "name": "stdout",
          "output_type": "stream",
          "text": [
            "保存模型成功, 当前f1分数: 0.8612060217329023\n"
          ]
        },
        {
          "name": "stderr",
          "output_type": "stream",
          "text": [
            "training....:  73%|███████▎  | 1610/2193 [25:23<08:45,  1.11it/s]"
          ]
        },
        {
          "name": "stdout",
          "output_type": "stream",
          "text": [
            "epoch:2,batch:1610,loss:0.4586,train_f1:0.8665,acc:0.8656\n"
          ]
        },
        {
          "name": "stderr",
          "output_type": "stream",
          "text": [
            "training....:  74%|███████▍  | 1620/2193 [25:29<06:07,  1.56it/s]"
          ]
        },
        {
          "name": "stdout",
          "output_type": "stream",
          "text": [
            "epoch:2,batch:1620,loss:0.5493,train_f1:0.8258,acc:0.8258\n"
          ]
        },
        {
          "name": "stderr",
          "output_type": "stream",
          "text": [
            "training....:  74%|███████▍  | 1630/2193 [25:35<05:46,  1.62it/s]"
          ]
        },
        {
          "name": "stdout",
          "output_type": "stream",
          "text": [
            "epoch:2,batch:1630,loss:0.5570,train_f1:0.8328,acc:0.8320\n"
          ]
        },
        {
          "name": "stderr",
          "output_type": "stream",
          "text": [
            "training....:  75%|███████▍  | 1640/2193 [25:41<05:40,  1.62it/s]"
          ]
        },
        {
          "name": "stdout",
          "output_type": "stream",
          "text": [
            "epoch:2,batch:1640,loss:0.5010,train_f1:0.8516,acc:0.8516\n"
          ]
        },
        {
          "name": "stderr",
          "output_type": "stream",
          "text": [
            "training....:  75%|███████▌  | 1650/2193 [25:48<05:35,  1.62it/s]"
          ]
        },
        {
          "name": "stdout",
          "output_type": "stream",
          "text": [
            "epoch:2,batch:1650,loss:0.5004,train_f1:0.8527,acc:0.8516\n"
          ]
        },
        {
          "name": "stderr",
          "output_type": "stream",
          "text": [
            "training....:  76%|███████▌  | 1660/2193 [25:54<05:28,  1.62it/s]"
          ]
        },
        {
          "name": "stdout",
          "output_type": "stream",
          "text": [
            "epoch:2,batch:1660,loss:0.5000,train_f1:0.8456,acc:0.8453\n"
          ]
        },
        {
          "name": "stderr",
          "output_type": "stream",
          "text": [
            "training....:  76%|███████▌  | 1670/2193 [26:00<05:21,  1.62it/s]"
          ]
        },
        {
          "name": "stdout",
          "output_type": "stream",
          "text": [
            "epoch:2,batch:1670,loss:0.4758,train_f1:0.8582,acc:0.8586\n"
          ]
        },
        {
          "name": "stderr",
          "output_type": "stream",
          "text": [
            "training....:  77%|███████▋  | 1680/2193 [26:06<05:16,  1.62it/s]"
          ]
        },
        {
          "name": "stdout",
          "output_type": "stream",
          "text": [
            "epoch:2,batch:1680,loss:0.4804,train_f1:0.8545,acc:0.8539\n"
          ]
        },
        {
          "name": "stderr",
          "output_type": "stream",
          "text": [
            "training....:  77%|███████▋  | 1690/2193 [26:12<05:10,  1.62it/s]"
          ]
        },
        {
          "name": "stdout",
          "output_type": "stream",
          "text": [
            "epoch:2,batch:1690,loss:0.4931,train_f1:0.8439,acc:0.8453\n"
          ]
        },
        {
          "name": "stderr",
          "output_type": "stream",
          "text": [
            "training....:  77%|███████▋  | 1699/2193 [26:18<05:04,  1.62it/s]"
          ]
        },
        {
          "name": "stdout",
          "output_type": "stream",
          "text": [
            "epoch:2,batch:1700,loss:0.5208,train_f1:0.8470,acc:0.8477\n"
          ]
        },
        {
          "name": "stderr",
          "output_type": "stream",
          "text": [
            "\n",
            "Vailing:   0%|          | 0/120 [00:00<?, ?it/s]\u001b[A\n",
            "Vailing:   1%|          | 1/120 [00:00<01:09,  1.71it/s]\u001b[A\n",
            "Vailing:   2%|▏         | 2/120 [00:00<00:46,  2.54it/s]\u001b[A\n",
            "Vailing:   2%|▎         | 3/120 [00:01<00:39,  2.97it/s]\u001b[A\n",
            "Vailing:   3%|▎         | 4/120 [00:01<00:35,  3.27it/s]\u001b[A\n",
            "Vailing:   4%|▍         | 5/120 [00:01<00:33,  3.46it/s]\u001b[A\n",
            "Vailing:   5%|▌         | 6/120 [00:01<00:31,  3.60it/s]\u001b[A\n",
            "Vailing:   6%|▌         | 7/120 [00:02<00:31,  3.63it/s]\u001b[A\n",
            "Vailing:   7%|▋         | 8/120 [00:02<00:30,  3.70it/s]\u001b[A\n",
            "Vailing:   8%|▊         | 9/120 [00:02<00:29,  3.75it/s]\u001b[A\n",
            "Vailing:   8%|▊         | 10/120 [00:02<00:29,  3.77it/s]\u001b[A\n",
            "Vailing:   9%|▉         | 11/120 [00:03<00:30,  3.59it/s]\u001b[A\n",
            "Vailing:  10%|█         | 12/120 [00:03<00:30,  3.58it/s]\u001b[A\n",
            "Vailing:  11%|█         | 13/120 [00:03<00:30,  3.53it/s]\u001b[A\n",
            "Vailing:  12%|█▏        | 14/120 [00:04<00:29,  3.56it/s]\u001b[A\n",
            "Vailing:  12%|█▎        | 15/120 [00:04<00:30,  3.47it/s]\u001b[A\n",
            "Vailing:  13%|█▎        | 16/120 [00:04<00:30,  3.40it/s]\u001b[A\n",
            "Vailing:  14%|█▍        | 17/120 [00:05<00:30,  3.33it/s]\u001b[A\n",
            "Vailing:  15%|█▌        | 18/120 [00:05<00:30,  3.31it/s]\u001b[A\n",
            "Vailing:  16%|█▌        | 19/120 [00:05<00:30,  3.30it/s]\u001b[A\n",
            "Vailing:  17%|█▋        | 20/120 [00:05<00:29,  3.35it/s]\u001b[A\n",
            "Vailing:  18%|█▊        | 21/120 [00:06<00:29,  3.33it/s]\u001b[A\n",
            "Vailing:  18%|█▊        | 22/120 [00:06<00:28,  3.48it/s]\u001b[A\n",
            "Vailing:  19%|█▉        | 23/120 [00:06<00:27,  3.54it/s]\u001b[A\n",
            "Vailing:  20%|██        | 24/120 [00:07<00:26,  3.63it/s]\u001b[A\n",
            "Vailing:  21%|██        | 25/120 [00:07<00:25,  3.69it/s]\u001b[A\n",
            "Vailing:  22%|██▏       | 26/120 [00:07<00:25,  3.73it/s]\u001b[A\n",
            "Vailing:  22%|██▎       | 27/120 [00:07<00:24,  3.79it/s]\u001b[A\n",
            "Vailing:  23%|██▎       | 28/120 [00:08<00:24,  3.83it/s]\u001b[A\n",
            "Vailing:  24%|██▍       | 29/120 [00:08<00:23,  3.83it/s]\u001b[A\n",
            "Vailing:  25%|██▌       | 30/120 [00:08<00:23,  3.85it/s]\u001b[A\n",
            "Vailing:  26%|██▌       | 31/120 [00:08<00:23,  3.84it/s]\u001b[A\n",
            "Vailing:  27%|██▋       | 32/120 [00:09<00:22,  3.83it/s]\u001b[A\n",
            "Vailing:  28%|██▊       | 33/120 [00:09<00:22,  3.84it/s]\u001b[A\n",
            "Vailing:  28%|██▊       | 34/120 [00:09<00:22,  3.84it/s]\u001b[A\n",
            "Vailing:  29%|██▉       | 35/120 [00:09<00:22,  3.85it/s]\u001b[A\n",
            "Vailing:  30%|███       | 36/120 [00:10<00:21,  3.86it/s]\u001b[A\n",
            "Vailing:  31%|███       | 37/120 [00:10<00:21,  3.86it/s]\u001b[A\n",
            "Vailing:  32%|███▏      | 38/120 [00:10<00:21,  3.85it/s]\u001b[A\n",
            "Vailing:  32%|███▎      | 39/120 [00:10<00:21,  3.85it/s]\u001b[A\n",
            "Vailing:  33%|███▎      | 40/120 [00:11<00:20,  3.88it/s]\u001b[A\n",
            "Vailing:  34%|███▍      | 41/120 [00:11<00:20,  3.88it/s]\u001b[A\n",
            "Vailing:  35%|███▌      | 42/120 [00:11<00:20,  3.82it/s]\u001b[A\n",
            "Vailing:  36%|███▌      | 43/120 [00:11<00:20,  3.85it/s]\u001b[A\n",
            "Vailing:  37%|███▋      | 44/120 [00:12<00:19,  3.84it/s]\u001b[A\n",
            "Vailing:  38%|███▊      | 45/120 [00:12<00:19,  3.84it/s]\u001b[A\n",
            "Vailing:  38%|███▊      | 46/120 [00:12<00:19,  3.83it/s]\u001b[A\n",
            "Vailing:  39%|███▉      | 47/120 [00:12<00:19,  3.81it/s]\u001b[A\n",
            "Vailing:  40%|████      | 48/120 [00:13<00:18,  3.82it/s]\u001b[A\n",
            "Vailing:  41%|████      | 49/120 [00:13<00:18,  3.86it/s]\u001b[A\n",
            "Vailing:  42%|████▏     | 50/120 [00:13<00:18,  3.84it/s]\u001b[A\n",
            "Vailing:  42%|████▎     | 51/120 [00:14<00:17,  3.86it/s]\u001b[A\n",
            "Vailing:  43%|████▎     | 52/120 [00:14<00:17,  3.87it/s]\u001b[A\n",
            "Vailing:  44%|████▍     | 53/120 [00:14<00:17,  3.86it/s]\u001b[A\n",
            "Vailing:  45%|████▌     | 54/120 [00:14<00:17,  3.84it/s]\u001b[A\n",
            "Vailing:  46%|████▌     | 55/120 [00:15<00:17,  3.82it/s]\u001b[A\n",
            "Vailing:  47%|████▋     | 56/120 [00:15<00:16,  3.83it/s]\u001b[A\n",
            "Vailing:  48%|████▊     | 57/120 [00:15<00:16,  3.84it/s]\u001b[A\n",
            "Vailing:  48%|████▊     | 58/120 [00:15<00:16,  3.73it/s]\u001b[A\n",
            "Vailing:  49%|████▉     | 59/120 [00:16<00:16,  3.75it/s]\u001b[A\n",
            "Vailing:  50%|█████     | 60/120 [00:16<00:16,  3.59it/s]\u001b[A\n",
            "Vailing:  51%|█████     | 61/120 [00:16<00:16,  3.52it/s]\u001b[A\n",
            "Vailing:  52%|█████▏    | 62/120 [00:17<00:16,  3.50it/s]\u001b[A\n",
            "Vailing:  52%|█████▎    | 63/120 [00:17<00:16,  3.43it/s]\u001b[A\n",
            "Vailing:  53%|█████▎    | 64/120 [00:17<00:16,  3.38it/s]\u001b[A\n",
            "Vailing:  54%|█████▍    | 65/120 [00:17<00:16,  3.40it/s]\u001b[A\n",
            "Vailing:  55%|█████▌    | 66/120 [00:18<00:15,  3.38it/s]\u001b[A\n",
            "Vailing:  56%|█████▌    | 67/120 [00:18<00:15,  3.34it/s]\u001b[A\n",
            "Vailing:  57%|█████▋    | 68/120 [00:18<00:15,  3.32it/s]\u001b[A\n",
            "Vailing:  57%|█████▊    | 69/120 [00:19<00:15,  3.30it/s]\u001b[A\n",
            "Vailing:  58%|█████▊    | 70/120 [00:19<00:15,  3.26it/s]\u001b[A\n",
            "Vailing:  59%|█████▉    | 71/120 [00:19<00:14,  3.41it/s]\u001b[A\n",
            "Vailing:  60%|██████    | 72/120 [00:20<00:13,  3.47it/s]\u001b[A\n",
            "Vailing:  61%|██████    | 73/120 [00:20<00:13,  3.57it/s]\u001b[A\n",
            "Vailing:  62%|██████▏   | 74/120 [00:20<00:12,  3.66it/s]\u001b[A\n",
            "Vailing:  62%|██████▎   | 75/120 [00:20<00:12,  3.72it/s]\u001b[A\n",
            "Vailing:  63%|██████▎   | 76/120 [00:21<00:11,  3.69it/s]\u001b[A\n",
            "Vailing:  64%|██████▍   | 77/120 [00:21<00:11,  3.74it/s]\u001b[A\n",
            "Vailing:  65%|██████▌   | 78/120 [00:21<00:11,  3.77it/s]\u001b[A\n",
            "Vailing:  66%|██████▌   | 79/120 [00:21<00:10,  3.82it/s]\u001b[A\n",
            "Vailing:  67%|██████▋   | 80/120 [00:22<00:10,  3.70it/s]\u001b[A\n",
            "Vailing:  68%|██████▊   | 81/120 [00:22<00:10,  3.75it/s]\u001b[A\n",
            "Vailing:  68%|██████▊   | 82/120 [00:22<00:10,  3.78it/s]\u001b[A\n",
            "Vailing:  69%|██████▉   | 83/120 [00:22<00:09,  3.81it/s]\u001b[A\n",
            "Vailing:  70%|███████   | 84/120 [00:23<00:09,  3.77it/s]\u001b[A\n",
            "Vailing:  71%|███████   | 85/120 [00:23<00:09,  3.81it/s]\u001b[A\n",
            "Vailing:  72%|███████▏  | 86/120 [00:23<00:08,  3.82it/s]\u001b[A\n",
            "Vailing:  72%|███████▎  | 87/120 [00:23<00:08,  3.83it/s]\u001b[A\n",
            "Vailing:  73%|███████▎  | 88/120 [00:24<00:08,  3.76it/s]\u001b[A\n",
            "Vailing:  74%|███████▍  | 89/120 [00:24<00:08,  3.81it/s]\u001b[A\n",
            "Vailing:  75%|███████▌  | 90/120 [00:24<00:07,  3.83it/s]\u001b[A\n",
            "Vailing:  76%|███████▌  | 91/120 [00:24<00:07,  3.85it/s]\u001b[A\n",
            "Vailing:  77%|███████▋  | 92/120 [00:25<00:07,  3.78it/s]\u001b[A\n",
            "Vailing:  78%|███████▊  | 93/120 [00:25<00:07,  3.83it/s]\u001b[A\n",
            "Vailing:  78%|███████▊  | 94/120 [00:25<00:06,  3.82it/s]\u001b[A\n",
            "Vailing:  79%|███████▉  | 95/120 [00:26<00:06,  3.84it/s]\u001b[A\n",
            "Vailing:  80%|████████  | 96/120 [00:26<00:06,  3.78it/s]\u001b[A\n",
            "Vailing:  81%|████████  | 97/120 [00:26<00:06,  3.83it/s]\u001b[A\n",
            "Vailing:  82%|████████▏ | 98/120 [00:26<00:05,  3.82it/s]\u001b[A\n",
            "Vailing:  82%|████████▎ | 99/120 [00:27<00:05,  3.84it/s]\u001b[A\n",
            "Vailing:  83%|████████▎ | 100/120 [00:27<00:05,  3.79it/s]\u001b[A\n",
            "Vailing:  84%|████████▍ | 101/120 [00:27<00:04,  3.84it/s]\u001b[A\n",
            "Vailing:  85%|████████▌ | 102/120 [00:27<00:04,  3.86it/s]\u001b[A\n",
            "Vailing:  86%|████████▌ | 103/120 [00:28<00:04,  3.83it/s]\u001b[A\n",
            "Vailing:  87%|████████▋ | 104/120 [00:28<00:04,  3.74it/s]\u001b[A\n",
            "Vailing:  88%|████████▊ | 105/120 [00:28<00:03,  3.79it/s]\u001b[A\n",
            "Vailing:  88%|████████▊ | 106/120 [00:28<00:03,  3.80it/s]\u001b[A\n",
            "Vailing:  89%|████████▉ | 107/120 [00:29<00:03,  3.83it/s]\u001b[A\n",
            "Vailing:  90%|█████████ | 108/120 [00:29<00:03,  3.76it/s]\u001b[A\n",
            "Vailing:  91%|█████████ | 109/120 [00:29<00:03,  3.57it/s]\u001b[A\n",
            "Vailing:  92%|█████████▏| 110/120 [00:30<00:02,  3.47it/s]\u001b[A\n",
            "Vailing:  92%|█████████▎| 111/120 [00:30<00:02,  3.42it/s]\u001b[A\n",
            "Vailing:  93%|█████████▎| 112/120 [00:30<00:02,  3.39it/s]\u001b[A\n",
            "Vailing:  94%|█████████▍| 113/120 [00:31<00:02,  3.35it/s]\u001b[A\n",
            "Vailing:  95%|█████████▌| 114/120 [00:31<00:01,  3.30it/s]\u001b[A\n",
            "Vailing:  96%|█████████▌| 115/120 [00:31<00:01,  3.34it/s]\u001b[A\n",
            "Vailing:  97%|█████████▋| 116/120 [00:31<00:01,  3.27it/s]\u001b[A\n",
            "Vailing:  98%|█████████▊| 117/120 [00:32<00:00,  3.27it/s]\u001b[A\n",
            "Vailing:  98%|█████████▊| 118/120 [00:32<00:00,  3.26it/s]\u001b[A\n",
            "Vailing:  99%|█████████▉| 119/120 [00:32<00:00,  3.36it/s]\u001b[A\n",
            "Vailing: 100%|██████████| 120/120 [00:33<00:00,  3.63it/s]\n",
            "training....:  78%|███████▊  | 1700/2193 [26:52<1:26:40, 10.55s/it]"
          ]
        },
        {
          "name": "stdout",
          "output_type": "stream",
          "text": [
            "验证集评估报告：\n",
            "               precision    recall  f1-score   support\n",
            "\n",
            "           0       0.62      0.89      0.73       700\n",
            "           1       0.77      0.93      0.84       701\n",
            "           2       0.95      0.88      0.91      3793\n",
            "           3       0.89      0.85      0.87      1574\n",
            "           4       0.90      0.91      0.91      1593\n",
            "           5       0.87      0.90      0.89      1940\n",
            "           6       0.88      0.79      0.83      1695\n",
            "           7       0.81      0.89      0.85      1002\n",
            "           8       0.91      0.87      0.89      2327\n",
            "\n",
            "    accuracy                           0.87     15325\n",
            "   macro avg       0.85      0.88      0.86     15325\n",
            "weighted avg       0.88      0.87      0.88     15325\n",
            "\n",
            "验证集的f1: 0.8577, accuracy:0.8745, precision:0.8452, recall:0.8788\n"
          ]
        },
        {
          "name": "stderr",
          "output_type": "stream",
          "text": [
            "training....:  78%|███████▊  | 1710/2193 [26:57<07:11,  1.12it/s]"
          ]
        },
        {
          "name": "stdout",
          "output_type": "stream",
          "text": [
            "epoch:2,batch:1710,loss:0.5040,train_f1:0.8496,acc:0.8492\n"
          ]
        },
        {
          "name": "stderr",
          "output_type": "stream",
          "text": [
            "training....:  78%|███████▊  | 1720/2193 [27:03<04:55,  1.60it/s]"
          ]
        },
        {
          "name": "stdout",
          "output_type": "stream",
          "text": [
            "epoch:2,batch:1720,loss:0.4848,train_f1:0.8553,acc:0.8539\n"
          ]
        },
        {
          "name": "stderr",
          "output_type": "stream",
          "text": [
            "training....:  79%|███████▉  | 1730/2193 [27:10<04:44,  1.63it/s]"
          ]
        },
        {
          "name": "stdout",
          "output_type": "stream",
          "text": [
            "epoch:2,batch:1730,loss:0.5421,train_f1:0.8332,acc:0.8336\n"
          ]
        },
        {
          "name": "stderr",
          "output_type": "stream",
          "text": [
            "training....:  79%|███████▉  | 1740/2193 [27:16<04:41,  1.61it/s]"
          ]
        },
        {
          "name": "stdout",
          "output_type": "stream",
          "text": [
            "epoch:2,batch:1740,loss:0.5245,train_f1:0.8335,acc:0.8320\n"
          ]
        },
        {
          "name": "stderr",
          "output_type": "stream",
          "text": [
            "training....:  80%|███████▉  | 1750/2193 [27:22<04:33,  1.62it/s]"
          ]
        },
        {
          "name": "stdout",
          "output_type": "stream",
          "text": [
            "epoch:2,batch:1750,loss:0.4503,train_f1:0.8644,acc:0.8641\n"
          ]
        },
        {
          "name": "stderr",
          "output_type": "stream",
          "text": [
            "training....:  80%|████████  | 1760/2193 [27:28<04:28,  1.61it/s]"
          ]
        },
        {
          "name": "stdout",
          "output_type": "stream",
          "text": [
            "epoch:2,batch:1760,loss:0.4689,train_f1:0.8520,acc:0.8516\n"
          ]
        },
        {
          "name": "stderr",
          "output_type": "stream",
          "text": [
            "training....:  81%|████████  | 1770/2193 [27:34<04:21,  1.62it/s]"
          ]
        },
        {
          "name": "stdout",
          "output_type": "stream",
          "text": [
            "epoch:2,batch:1770,loss:0.4475,train_f1:0.8626,acc:0.8617\n"
          ]
        },
        {
          "name": "stderr",
          "output_type": "stream",
          "text": [
            "training....:  81%|████████  | 1780/2193 [27:40<04:16,  1.61it/s]"
          ]
        },
        {
          "name": "stdout",
          "output_type": "stream",
          "text": [
            "epoch:2,batch:1780,loss:0.4913,train_f1:0.8468,acc:0.8484\n"
          ]
        },
        {
          "name": "stderr",
          "output_type": "stream",
          "text": [
            "training....:  82%|████████▏ | 1790/2193 [27:47<04:08,  1.62it/s]"
          ]
        },
        {
          "name": "stdout",
          "output_type": "stream",
          "text": [
            "epoch:2,batch:1790,loss:0.4980,train_f1:0.8474,acc:0.8484\n"
          ]
        },
        {
          "name": "stderr",
          "output_type": "stream",
          "text": [
            "training....:  82%|████████▏ | 1799/2193 [27:52<04:03,  1.62it/s]"
          ]
        },
        {
          "name": "stdout",
          "output_type": "stream",
          "text": [
            "epoch:2,batch:1800,loss:0.5021,train_f1:0.8547,acc:0.8555\n"
          ]
        },
        {
          "name": "stderr",
          "output_type": "stream",
          "text": [
            "\n",
            "Vailing:   0%|          | 0/120 [00:00<?, ?it/s]\u001b[A\n",
            "Vailing:   1%|          | 1/120 [00:00<01:08,  1.75it/s]\u001b[A\n",
            "Vailing:   2%|▏         | 2/120 [00:00<00:49,  2.40it/s]\u001b[A\n",
            "Vailing:   2%|▎         | 3/120 [00:01<00:41,  2.80it/s]\u001b[A\n",
            "Vailing:   3%|▎         | 4/120 [00:01<00:38,  3.00it/s]\u001b[A\n",
            "Vailing:   4%|▍         | 5/120 [00:01<00:37,  3.06it/s]\u001b[A\n",
            "Vailing:   5%|▌         | 6/120 [00:02<00:36,  3.16it/s]\u001b[A\n",
            "Vailing:   6%|▌         | 7/120 [00:02<00:35,  3.20it/s]\u001b[A\n",
            "Vailing:   7%|▋         | 8/120 [00:02<00:35,  3.18it/s]\u001b[A\n",
            "Vailing:   8%|▊         | 9/120 [00:03<00:35,  3.16it/s]\u001b[A\n",
            "Vailing:   8%|▊         | 10/120 [00:03<00:34,  3.20it/s]\u001b[A\n",
            "Vailing:   9%|▉         | 11/120 [00:03<00:32,  3.39it/s]\u001b[A\n",
            "Vailing:  10%|█         | 12/120 [00:03<00:31,  3.44it/s]\u001b[A\n",
            "Vailing:  11%|█         | 13/120 [00:04<00:29,  3.57it/s]\u001b[A\n",
            "Vailing:  12%|█▏        | 14/120 [00:04<00:29,  3.63it/s]\u001b[A\n",
            "Vailing:  12%|█▎        | 15/120 [00:04<00:28,  3.70it/s]\u001b[A\n",
            "Vailing:  13%|█▎        | 16/120 [00:04<00:28,  3.69it/s]\u001b[A\n",
            "Vailing:  14%|█▍        | 17/120 [00:05<00:27,  3.77it/s]\u001b[A\n",
            "Vailing:  15%|█▌        | 18/120 [00:05<00:26,  3.79it/s]\u001b[A\n",
            "Vailing:  16%|█▌        | 19/120 [00:05<00:26,  3.84it/s]\u001b[A\n",
            "Vailing:  17%|█▋        | 20/120 [00:05<00:26,  3.75it/s]\u001b[A\n",
            "Vailing:  18%|█▊        | 21/120 [00:06<00:26,  3.79it/s]\u001b[A\n",
            "Vailing:  18%|█▊        | 22/120 [00:06<00:25,  3.80it/s]\u001b[A\n",
            "Vailing:  19%|█▉        | 23/120 [00:06<00:25,  3.83it/s]\u001b[A\n",
            "Vailing:  20%|██        | 24/120 [00:07<00:25,  3.75it/s]\u001b[A\n",
            "Vailing:  21%|██        | 25/120 [00:07<00:25,  3.75it/s]\u001b[A\n",
            "Vailing:  22%|██▏       | 26/120 [00:07<00:24,  3.79it/s]\u001b[A\n",
            "Vailing:  22%|██▎       | 27/120 [00:07<00:24,  3.80it/s]\u001b[A\n",
            "Vailing:  23%|██▎       | 28/120 [00:08<00:24,  3.77it/s]\u001b[A\n",
            "Vailing:  24%|██▍       | 29/120 [00:08<00:23,  3.79it/s]\u001b[A\n",
            "Vailing:  25%|██▌       | 30/120 [00:08<00:24,  3.74it/s]\u001b[A\n",
            "Vailing:  26%|██▌       | 31/120 [00:08<00:23,  3.76it/s]\u001b[A\n",
            "Vailing:  27%|██▋       | 32/120 [00:09<00:23,  3.72it/s]\u001b[A\n",
            "Vailing:  28%|██▊       | 33/120 [00:09<00:23,  3.76it/s]\u001b[A\n",
            "Vailing:  28%|██▊       | 34/120 [00:09<00:22,  3.79it/s]\u001b[A\n",
            "Vailing:  29%|██▉       | 35/120 [00:09<00:22,  3.79it/s]\u001b[A\n",
            "Vailing:  30%|███       | 36/120 [00:10<00:22,  3.78it/s]\u001b[A\n",
            "Vailing:  31%|███       | 37/120 [00:10<00:21,  3.81it/s]\u001b[A\n",
            "Vailing:  32%|███▏      | 38/120 [00:10<00:21,  3.84it/s]\u001b[A\n",
            "Vailing:  32%|███▎      | 39/120 [00:10<00:21,  3.85it/s]\u001b[A\n",
            "Vailing:  33%|███▎      | 40/120 [00:11<00:20,  3.85it/s]\u001b[A\n",
            "Vailing:  34%|███▍      | 41/120 [00:11<00:20,  3.85it/s]\u001b[A\n",
            "Vailing:  35%|███▌      | 42/120 [00:11<00:20,  3.84it/s]\u001b[A\n",
            "Vailing:  36%|███▌      | 43/120 [00:12<00:20,  3.82it/s]\u001b[A\n",
            "Vailing:  37%|███▋      | 44/120 [00:12<00:19,  3.81it/s]\u001b[A\n",
            "Vailing:  38%|███▊      | 45/120 [00:12<00:19,  3.82it/s]\u001b[A\n",
            "Vailing:  38%|███▊      | 46/120 [00:12<00:19,  3.81it/s]\u001b[A\n",
            "Vailing:  39%|███▉      | 47/120 [00:13<00:19,  3.80it/s]\u001b[A\n",
            "Vailing:  40%|████      | 48/120 [00:13<00:19,  3.75it/s]\u001b[A\n",
            "Vailing:  41%|████      | 49/120 [00:13<00:19,  3.58it/s]\u001b[A\n",
            "Vailing:  42%|████▏     | 50/120 [00:13<00:20,  3.46it/s]\u001b[A\n",
            "Vailing:  42%|████▎     | 51/120 [00:14<00:20,  3.44it/s]\u001b[A\n",
            "Vailing:  43%|████▎     | 52/120 [00:14<00:20,  3.37it/s]\u001b[A\n",
            "Vailing:  44%|████▍     | 53/120 [00:14<00:20,  3.35it/s]\u001b[A\n",
            "Vailing:  45%|████▌     | 54/120 [00:15<00:19,  3.36it/s]\u001b[A\n",
            "Vailing:  46%|████▌     | 55/120 [00:15<00:19,  3.37it/s]\u001b[A\n",
            "Vailing:  47%|████▋     | 56/120 [00:15<00:18,  3.45it/s]\u001b[A\n",
            "Vailing:  48%|████▊     | 57/120 [00:16<00:18,  3.44it/s]\u001b[A\n",
            "Vailing:  48%|████▊     | 58/120 [00:16<00:18,  3.41it/s]\u001b[A\n",
            "Vailing:  49%|████▉     | 59/120 [00:16<00:17,  3.51it/s]\u001b[A\n",
            "Vailing:  50%|█████     | 60/120 [00:16<00:16,  3.58it/s]\u001b[A\n",
            "Vailing:  51%|█████     | 61/120 [00:17<00:16,  3.65it/s]\u001b[A\n",
            "Vailing:  52%|█████▏    | 62/120 [00:17<00:15,  3.70it/s]\u001b[A\n",
            "Vailing:  52%|█████▎    | 63/120 [00:17<00:15,  3.74it/s]\u001b[A\n",
            "Vailing:  53%|█████▎    | 64/120 [00:17<00:14,  3.76it/s]\u001b[A\n",
            "Vailing:  54%|█████▍    | 65/120 [00:18<00:14,  3.81it/s]\u001b[A\n",
            "Vailing:  55%|█████▌    | 66/120 [00:18<00:14,  3.77it/s]\u001b[A\n",
            "Vailing:  56%|█████▌    | 67/120 [00:18<00:13,  3.79it/s]\u001b[A\n",
            "Vailing:  57%|█████▋    | 68/120 [00:18<00:13,  3.79it/s]\u001b[A\n",
            "Vailing:  57%|█████▊    | 69/120 [00:19<00:13,  3.80it/s]\u001b[A\n",
            "Vailing:  58%|█████▊    | 70/120 [00:19<00:13,  3.81it/s]\u001b[A\n",
            "Vailing:  59%|█████▉    | 71/120 [00:19<00:12,  3.79it/s]\u001b[A\n",
            "Vailing:  60%|██████    | 72/120 [00:19<00:12,  3.83it/s]\u001b[A\n",
            "Vailing:  61%|██████    | 73/120 [00:20<00:12,  3.82it/s]\u001b[A\n",
            "Vailing:  62%|██████▏   | 74/120 [00:20<00:11,  3.84it/s]\u001b[A\n",
            "Vailing:  62%|██████▎   | 75/120 [00:20<00:11,  3.84it/s]\u001b[A\n",
            "Vailing:  63%|██████▎   | 76/120 [00:21<00:11,  3.82it/s]\u001b[A\n",
            "Vailing:  64%|██████▍   | 77/120 [00:21<00:11,  3.81it/s]\u001b[A\n",
            "Vailing:  65%|██████▌   | 78/120 [00:21<00:10,  3.83it/s]\u001b[A\n",
            "Vailing:  66%|██████▌   | 79/120 [00:21<00:10,  3.83it/s]\u001b[A\n",
            "Vailing:  67%|██████▋   | 80/120 [00:22<00:10,  3.82it/s]\u001b[A\n",
            "Vailing:  68%|██████▊   | 81/120 [00:22<00:10,  3.83it/s]\u001b[A\n",
            "Vailing:  68%|██████▊   | 82/120 [00:22<00:09,  3.82it/s]\u001b[A\n",
            "Vailing:  69%|██████▉   | 83/120 [00:22<00:09,  3.79it/s]\u001b[A\n",
            "Vailing:  70%|███████   | 84/120 [00:23<00:09,  3.81it/s]\u001b[A\n",
            "Vailing:  71%|███████   | 85/120 [00:23<00:09,  3.78it/s]\u001b[A\n",
            "Vailing:  72%|███████▏  | 86/120 [00:23<00:09,  3.75it/s]\u001b[A\n",
            "Vailing:  72%|███████▎  | 87/120 [00:23<00:08,  3.79it/s]\u001b[A\n",
            "Vailing:  73%|███████▎  | 88/120 [00:24<00:08,  3.83it/s]\u001b[A\n",
            "Vailing:  74%|███████▍  | 89/120 [00:24<00:08,  3.82it/s]\u001b[A\n",
            "Vailing:  75%|███████▌  | 90/120 [00:24<00:08,  3.74it/s]\u001b[A\n",
            "Vailing:  76%|███████▌  | 91/120 [00:24<00:07,  3.76it/s]\u001b[A\n",
            "Vailing:  77%|███████▋  | 92/120 [00:25<00:07,  3.79it/s]\u001b[A\n",
            "Vailing:  78%|███████▊  | 93/120 [00:25<00:07,  3.82it/s]\u001b[A\n",
            "Vailing:  78%|███████▊  | 94/120 [00:25<00:06,  3.72it/s]\u001b[A\n",
            "Vailing:  79%|███████▉  | 95/120 [00:26<00:06,  3.77it/s]\u001b[A\n",
            "Vailing:  80%|████████  | 96/120 [00:26<00:06,  3.79it/s]\u001b[A\n",
            "Vailing:  81%|████████  | 97/120 [00:26<00:06,  3.66it/s]\u001b[A\n",
            "Vailing:  82%|████████▏ | 98/120 [00:26<00:06,  3.55it/s]\u001b[A\n",
            "Vailing:  82%|████████▎ | 99/120 [00:27<00:06,  3.46it/s]\u001b[A\n",
            "Vailing:  83%|████████▎ | 100/120 [00:27<00:05,  3.37it/s]\u001b[A\n",
            "Vailing:  84%|████████▍ | 101/120 [00:27<00:05,  3.36it/s]\u001b[A\n",
            "Vailing:  85%|████████▌ | 102/120 [00:28<00:05,  3.40it/s]\u001b[A\n",
            "Vailing:  86%|████████▌ | 103/120 [00:28<00:04,  3.43it/s]\u001b[A\n",
            "Vailing:  87%|████████▋ | 104/120 [00:28<00:04,  3.41it/s]\u001b[A\n",
            "Vailing:  88%|████████▊ | 105/120 [00:29<00:04,  3.34it/s]\u001b[A\n",
            "Vailing:  88%|████████▊ | 106/120 [00:29<00:04,  3.33it/s]\u001b[A\n",
            "Vailing:  89%|████████▉ | 107/120 [00:29<00:03,  3.39it/s]\u001b[A\n",
            "Vailing:  90%|█████████ | 108/120 [00:29<00:03,  3.51it/s]\u001b[A\n",
            "Vailing:  91%|█████████ | 109/120 [00:30<00:03,  3.60it/s]\u001b[A\n",
            "Vailing:  92%|█████████▏| 110/120 [00:30<00:02,  3.66it/s]\u001b[A\n",
            "Vailing:  92%|█████████▎| 111/120 [00:30<00:02,  3.72it/s]\u001b[A\n",
            "Vailing:  93%|█████████▎| 112/120 [00:30<00:02,  3.78it/s]\u001b[A\n",
            "Vailing:  94%|█████████▍| 113/120 [00:31<00:01,  3.79it/s]\u001b[A\n",
            "Vailing:  95%|█████████▌| 114/120 [00:31<00:01,  3.80it/s]\u001b[A\n",
            "Vailing:  96%|█████████▌| 115/120 [00:31<00:01,  3.84it/s]\u001b[A\n",
            "Vailing:  97%|█████████▋| 116/120 [00:31<00:01,  3.82it/s]\u001b[A\n",
            "Vailing:  98%|█████████▊| 117/120 [00:32<00:00,  3.84it/s]\u001b[A\n",
            "Vailing:  98%|█████████▊| 118/120 [00:32<00:00,  3.79it/s]\u001b[A\n",
            "Vailing:  99%|█████████▉| 119/120 [00:32<00:00,  3.81it/s]\u001b[A\n",
            "Vailing: 100%|██████████| 120/120 [00:32<00:00,  3.64it/s]\n",
            "training....:  82%|████████▏ | 1800/2193 [28:26<1:08:58, 10.53s/it]"
          ]
        },
        {
          "name": "stdout",
          "output_type": "stream",
          "text": [
            "验证集评估报告：\n",
            "               precision    recall  f1-score   support\n",
            "\n",
            "           0       0.64      0.90      0.74       700\n",
            "           1       0.70      0.94      0.80       701\n",
            "           2       0.94      0.89      0.91      3793\n",
            "           3       0.86      0.86      0.86      1574\n",
            "           4       0.92      0.90      0.91      1593\n",
            "           5       0.92      0.88      0.90      1940\n",
            "           6       0.86      0.81      0.83      1695\n",
            "           7       0.85      0.87      0.86      1002\n",
            "           8       0.91      0.86      0.88      2327\n",
            "\n",
            "    accuracy                           0.87     15325\n",
            "   macro avg       0.84      0.88      0.86     15325\n",
            "weighted avg       0.88      0.87      0.88     15325\n",
            "\n",
            "验证集的f1: 0.8558, accuracy:0.8737, precision:0.8431, recall:0.8779\n"
          ]
        },
        {
          "name": "stderr",
          "output_type": "stream",
          "text": [
            "training....:  83%|████████▎ | 1810/2193 [28:32<05:41,  1.12it/s]"
          ]
        },
        {
          "name": "stdout",
          "output_type": "stream",
          "text": [
            "epoch:2,batch:1810,loss:0.4670,train_f1:0.8579,acc:0.8594\n"
          ]
        },
        {
          "name": "stderr",
          "output_type": "stream",
          "text": [
            "training....:  83%|████████▎ | 1820/2193 [28:38<03:51,  1.61it/s]"
          ]
        },
        {
          "name": "stdout",
          "output_type": "stream",
          "text": [
            "epoch:2,batch:1820,loss:0.4919,train_f1:0.8518,acc:0.8516\n"
          ]
        },
        {
          "name": "stderr",
          "output_type": "stream",
          "text": [
            "training....:  83%|████████▎ | 1830/2193 [28:44<03:43,  1.62it/s]"
          ]
        },
        {
          "name": "stdout",
          "output_type": "stream",
          "text": [
            "epoch:2,batch:1830,loss:0.4889,train_f1:0.8573,acc:0.8562\n"
          ]
        },
        {
          "name": "stderr",
          "output_type": "stream",
          "text": [
            "training....:  84%|████████▍ | 1840/2193 [28:50<03:36,  1.63it/s]"
          ]
        },
        {
          "name": "stdout",
          "output_type": "stream",
          "text": [
            "epoch:2,batch:1840,loss:0.4606,train_f1:0.8493,acc:0.8500\n"
          ]
        },
        {
          "name": "stderr",
          "output_type": "stream",
          "text": [
            "training....:  84%|████████▍ | 1850/2193 [28:56<03:31,  1.62it/s]"
          ]
        },
        {
          "name": "stdout",
          "output_type": "stream",
          "text": [
            "epoch:2,batch:1850,loss:0.4692,train_f1:0.8623,acc:0.8633\n"
          ]
        },
        {
          "name": "stderr",
          "output_type": "stream",
          "text": [
            "training....:  85%|████████▍ | 1860/2193 [29:02<03:24,  1.63it/s]"
          ]
        },
        {
          "name": "stdout",
          "output_type": "stream",
          "text": [
            "epoch:2,batch:1860,loss:0.4896,train_f1:0.8567,acc:0.8586\n"
          ]
        },
        {
          "name": "stderr",
          "output_type": "stream",
          "text": [
            "training....:  85%|████████▌ | 1870/2193 [29:08<03:19,  1.62it/s]"
          ]
        },
        {
          "name": "stdout",
          "output_type": "stream",
          "text": [
            "epoch:2,batch:1870,loss:0.4995,train_f1:0.8481,acc:0.8484\n"
          ]
        },
        {
          "name": "stderr",
          "output_type": "stream",
          "text": [
            "training....:  86%|████████▌ | 1880/2193 [29:15<03:12,  1.63it/s]"
          ]
        },
        {
          "name": "stdout",
          "output_type": "stream",
          "text": [
            "epoch:2,batch:1880,loss:0.4235,train_f1:0.8760,acc:0.8773\n"
          ]
        },
        {
          "name": "stderr",
          "output_type": "stream",
          "text": [
            "training....:  86%|████████▌ | 1890/2193 [29:21<03:06,  1.62it/s]"
          ]
        },
        {
          "name": "stdout",
          "output_type": "stream",
          "text": [
            "epoch:2,batch:1890,loss:0.4798,train_f1:0.8371,acc:0.8383\n"
          ]
        },
        {
          "name": "stderr",
          "output_type": "stream",
          "text": [
            "training....:  87%|████████▋ | 1899/2193 [29:26<03:01,  1.62it/s]"
          ]
        },
        {
          "name": "stdout",
          "output_type": "stream",
          "text": [
            "epoch:2,batch:1900,loss:0.4680,train_f1:0.8525,acc:0.8523\n"
          ]
        },
        {
          "name": "stderr",
          "output_type": "stream",
          "text": [
            "\n",
            "Vailing:   0%|          | 0/120 [00:00<?, ?it/s]\u001b[A\n",
            "Vailing:   1%|          | 1/120 [00:00<01:08,  1.74it/s]\u001b[A\n",
            "Vailing:   2%|▏         | 2/120 [00:00<00:45,  2.58it/s]\u001b[A\n",
            "Vailing:   2%|▎         | 3/120 [00:01<00:38,  3.06it/s]\u001b[A\n",
            "Vailing:   3%|▎         | 4/120 [00:01<00:34,  3.33it/s]\u001b[A\n",
            "Vailing:   4%|▍         | 5/120 [00:01<00:32,  3.49it/s]\u001b[A\n",
            "Vailing:   5%|▌         | 6/120 [00:01<00:31,  3.60it/s]\u001b[A\n",
            "Vailing:   6%|▌         | 7/120 [00:02<00:30,  3.66it/s]\u001b[A\n",
            "Vailing:   7%|▋         | 8/120 [00:02<00:30,  3.71it/s]\u001b[A\n",
            "Vailing:   8%|▊         | 9/120 [00:02<00:29,  3.72it/s]\u001b[A\n",
            "Vailing:   8%|▊         | 10/120 [00:02<00:29,  3.79it/s]\u001b[A\n",
            "Vailing:   9%|▉         | 11/120 [00:03<00:28,  3.79it/s]\u001b[A\n",
            "Vailing:  10%|█         | 12/120 [00:03<00:29,  3.71it/s]\u001b[A\n",
            "Vailing:  11%|█         | 13/120 [00:03<00:28,  3.73it/s]\u001b[A\n",
            "Vailing:  12%|█▏        | 14/120 [00:03<00:28,  3.76it/s]\u001b[A\n",
            "Vailing:  12%|█▎        | 15/120 [00:04<00:27,  3.79it/s]\u001b[A\n",
            "Vailing:  13%|█▎        | 16/120 [00:04<00:27,  3.72it/s]\u001b[A\n",
            "Vailing:  14%|█▍        | 17/120 [00:04<00:27,  3.74it/s]\u001b[A\n",
            "Vailing:  15%|█▌        | 18/120 [00:05<00:26,  3.80it/s]\u001b[A\n",
            "Vailing:  16%|█▌        | 19/120 [00:05<00:26,  3.82it/s]\u001b[A\n",
            "Vailing:  17%|█▋        | 20/120 [00:05<00:26,  3.75it/s]\u001b[A\n",
            "Vailing:  18%|█▊        | 21/120 [00:05<00:26,  3.79it/s]\u001b[A\n",
            "Vailing:  18%|█▊        | 22/120 [00:06<00:25,  3.81it/s]\u001b[A\n",
            "Vailing:  19%|█▉        | 23/120 [00:06<00:25,  3.82it/s]\u001b[A\n",
            "Vailing:  20%|██        | 24/120 [00:06<00:25,  3.73it/s]\u001b[A\n",
            "Vailing:  21%|██        | 25/120 [00:06<00:25,  3.78it/s]\u001b[A\n",
            "Vailing:  22%|██▏       | 26/120 [00:07<00:24,  3.81it/s]\u001b[A\n",
            "Vailing:  22%|██▎       | 27/120 [00:07<00:24,  3.84it/s]\u001b[A\n",
            "Vailing:  23%|██▎       | 28/120 [00:07<00:24,  3.76it/s]\u001b[A\n",
            "Vailing:  24%|██▍       | 29/120 [00:07<00:24,  3.76it/s]\u001b[A\n",
            "Vailing:  25%|██▌       | 30/120 [00:08<00:24,  3.72it/s]\u001b[A\n",
            "Vailing:  26%|██▌       | 31/120 [00:08<00:23,  3.76it/s]\u001b[A\n",
            "Vailing:  27%|██▋       | 32/120 [00:08<00:23,  3.75it/s]\u001b[A\n",
            "Vailing:  28%|██▊       | 33/120 [00:09<00:23,  3.77it/s]\u001b[A\n",
            "Vailing:  28%|██▊       | 34/120 [00:09<00:22,  3.78it/s]\u001b[A\n",
            "Vailing:  29%|██▉       | 35/120 [00:09<00:22,  3.80it/s]\u001b[A\n",
            "Vailing:  30%|███       | 36/120 [00:09<00:22,  3.77it/s]\u001b[A\n",
            "Vailing:  31%|███       | 37/120 [00:10<00:22,  3.74it/s]\u001b[A\n",
            "Vailing:  32%|███▏      | 38/120 [00:10<00:22,  3.63it/s]\u001b[A\n",
            "Vailing:  32%|███▎      | 39/120 [00:10<00:23,  3.48it/s]\u001b[A\n",
            "Vailing:  33%|███▎      | 40/120 [00:11<00:23,  3.43it/s]\u001b[A\n",
            "Vailing:  34%|███▍      | 41/120 [00:11<00:23,  3.36it/s]\u001b[A\n",
            "Vailing:  35%|███▌      | 42/120 [00:11<00:23,  3.29it/s]\u001b[A\n",
            "Vailing:  36%|███▌      | 43/120 [00:11<00:23,  3.33it/s]\u001b[A\n",
            "Vailing:  37%|███▋      | 44/120 [00:12<00:23,  3.28it/s]\u001b[A\n",
            "Vailing:  38%|███▊      | 45/120 [00:12<00:22,  3.32it/s]\u001b[A\n",
            "Vailing:  38%|███▊      | 46/120 [00:12<00:22,  3.31it/s]\u001b[A\n",
            "Vailing:  39%|███▉      | 47/120 [00:13<00:21,  3.33it/s]\u001b[A\n",
            "Vailing:  40%|████      | 48/120 [00:13<00:21,  3.39it/s]\u001b[A\n",
            "Vailing:  41%|████      | 49/120 [00:13<00:20,  3.50it/s]\u001b[A\n",
            "Vailing:  42%|████▏     | 50/120 [00:13<00:19,  3.58it/s]\u001b[A\n",
            "Vailing:  42%|████▎     | 51/120 [00:14<00:18,  3.65it/s]\u001b[A\n",
            "Vailing:  43%|████▎     | 52/120 [00:14<00:18,  3.70it/s]\u001b[A\n",
            "Vailing:  44%|████▍     | 53/120 [00:14<00:18,  3.72it/s]\u001b[A\n",
            "Vailing:  45%|████▌     | 54/120 [00:14<00:17,  3.74it/s]\u001b[A\n",
            "Vailing:  46%|████▌     | 55/120 [00:15<00:17,  3.76it/s]\u001b[A\n",
            "Vailing:  47%|████▋     | 56/120 [00:15<00:16,  3.81it/s]\u001b[A\n",
            "Vailing:  48%|████▊     | 57/120 [00:15<00:16,  3.84it/s]\u001b[A\n",
            "Vailing:  48%|████▊     | 58/120 [00:16<00:16,  3.84it/s]\u001b[A\n",
            "Vailing:  49%|████▉     | 59/120 [00:16<00:15,  3.87it/s]\u001b[A\n",
            "Vailing:  50%|█████     | 60/120 [00:16<00:15,  3.86it/s]\u001b[A\n",
            "Vailing:  51%|█████     | 61/120 [00:16<00:15,  3.82it/s]\u001b[A\n",
            "Vailing:  52%|█████▏    | 62/120 [00:17<00:15,  3.84it/s]\u001b[A\n",
            "Vailing:  52%|█████▎    | 63/120 [00:17<00:14,  3.83it/s]\u001b[A\n",
            "Vailing:  53%|█████▎    | 64/120 [00:17<00:14,  3.81it/s]\u001b[A\n",
            "Vailing:  54%|█████▍    | 65/120 [00:17<00:14,  3.83it/s]\u001b[A\n",
            "Vailing:  55%|█████▌    | 66/120 [00:18<00:14,  3.84it/s]\u001b[A\n",
            "Vailing:  56%|█████▌    | 67/120 [00:18<00:13,  3.86it/s]\u001b[A\n",
            "Vailing:  57%|█████▋    | 68/120 [00:18<00:13,  3.84it/s]\u001b[A\n",
            "Vailing:  57%|█████▊    | 69/120 [00:18<00:13,  3.84it/s]\u001b[A\n",
            "Vailing:  58%|█████▊    | 70/120 [00:19<00:13,  3.84it/s]\u001b[A\n",
            "Vailing:  59%|█████▉    | 71/120 [00:19<00:12,  3.83it/s]\u001b[A\n",
            "Vailing:  60%|██████    | 72/120 [00:19<00:12,  3.84it/s]\u001b[A\n",
            "Vailing:  61%|██████    | 73/120 [00:19<00:12,  3.84it/s]\u001b[A\n",
            "Vailing:  62%|██████▏   | 74/120 [00:20<00:11,  3.84it/s]\u001b[A\n",
            "Vailing:  62%|██████▎   | 75/120 [00:20<00:11,  3.81it/s]\u001b[A\n",
            "Vailing:  63%|██████▎   | 76/120 [00:20<00:11,  3.80it/s]\u001b[A\n",
            "Vailing:  64%|██████▍   | 77/120 [00:20<00:11,  3.81it/s]\u001b[A\n",
            "Vailing:  65%|██████▌   | 78/120 [00:21<00:10,  3.82it/s]\u001b[A\n",
            "Vailing:  66%|██████▌   | 79/120 [00:21<00:10,  3.84it/s]\u001b[A\n",
            "Vailing:  67%|██████▋   | 80/120 [00:21<00:10,  3.81it/s]\u001b[A\n",
            "Vailing:  68%|██████▊   | 81/120 [00:22<00:10,  3.82it/s]\u001b[A\n",
            "Vailing:  68%|██████▊   | 82/120 [00:22<00:09,  3.84it/s]\u001b[A\n",
            "Vailing:  69%|██████▉   | 83/120 [00:22<00:09,  3.84it/s]\u001b[A\n",
            "Vailing:  70%|███████   | 84/120 [00:22<00:09,  3.83it/s]\u001b[A\n",
            "Vailing:  71%|███████   | 85/120 [00:23<00:09,  3.86it/s]\u001b[A\n",
            "Vailing:  72%|███████▏  | 86/120 [00:23<00:08,  3.86it/s]\u001b[A\n",
            "Vailing:  72%|███████▎  | 87/120 [00:23<00:09,  3.66it/s]\u001b[A\n",
            "Vailing:  73%|███████▎  | 88/120 [00:23<00:09,  3.49it/s]\u001b[A\n",
            "Vailing:  74%|███████▍  | 89/120 [00:24<00:08,  3.46it/s]\u001b[A\n",
            "Vailing:  75%|███████▌  | 90/120 [00:24<00:08,  3.46it/s]\u001b[A\n",
            "Vailing:  76%|███████▌  | 91/120 [00:24<00:08,  3.41it/s]\u001b[A\n",
            "Vailing:  77%|███████▋  | 92/120 [00:25<00:08,  3.36it/s]\u001b[A\n",
            "Vailing:  78%|███████▊  | 93/120 [00:25<00:08,  3.34it/s]\u001b[A\n",
            "Vailing:  78%|███████▊  | 94/120 [00:25<00:07,  3.39it/s]\u001b[A\n",
            "Vailing:  79%|███████▉  | 95/120 [00:26<00:07,  3.40it/s]\u001b[A\n",
            "Vailing:  80%|████████  | 96/120 [00:26<00:07,  3.40it/s]\u001b[A\n",
            "Vailing:  81%|████████  | 97/120 [00:26<00:06,  3.40it/s]\u001b[A\n",
            "Vailing:  82%|████████▏ | 98/120 [00:26<00:06,  3.51it/s]\u001b[A\n",
            "Vailing:  82%|████████▎ | 99/120 [00:27<00:05,  3.59it/s]\u001b[A\n",
            "Vailing:  83%|████████▎ | 100/120 [00:27<00:05,  3.70it/s]\u001b[A\n",
            "Vailing:  84%|████████▍ | 101/120 [00:27<00:05,  3.66it/s]\u001b[A\n",
            "Vailing:  85%|████████▌ | 102/120 [00:27<00:04,  3.72it/s]\u001b[A\n",
            "Vailing:  86%|████████▌ | 103/120 [00:28<00:04,  3.76it/s]\u001b[A\n",
            "Vailing:  87%|████████▋ | 104/120 [00:28<00:04,  3.80it/s]\u001b[A\n",
            "Vailing:  88%|████████▊ | 105/120 [00:28<00:04,  3.73it/s]\u001b[A\n",
            "Vailing:  88%|████████▊ | 106/120 [00:28<00:03,  3.75it/s]\u001b[A\n",
            "Vailing:  89%|████████▉ | 107/120 [00:29<00:03,  3.77it/s]\u001b[A\n",
            "Vailing:  90%|█████████ | 108/120 [00:29<00:03,  3.79it/s]\u001b[A\n",
            "Vailing:  91%|█████████ | 109/120 [00:29<00:02,  3.73it/s]\u001b[A\n",
            "Vailing:  92%|█████████▏| 110/120 [00:30<00:02,  3.77it/s]\u001b[A\n",
            "Vailing:  92%|█████████▎| 111/120 [00:30<00:02,  3.81it/s]\u001b[A\n",
            "Vailing:  93%|█████████▎| 112/120 [00:30<00:02,  3.81it/s]\u001b[A\n",
            "Vailing:  94%|█████████▍| 113/120 [00:30<00:01,  3.74it/s]\u001b[A\n",
            "Vailing:  95%|█████████▌| 114/120 [00:31<00:01,  3.79it/s]\u001b[A\n",
            "Vailing:  96%|█████████▌| 115/120 [00:31<00:01,  3.81it/s]\u001b[A\n",
            "Vailing:  97%|█████████▋| 116/120 [00:31<00:01,  3.79it/s]\u001b[A\n",
            "Vailing:  98%|█████████▊| 117/120 [00:31<00:00,  3.73it/s]\u001b[A\n",
            "Vailing:  98%|█████████▊| 118/120 [00:32<00:00,  3.76it/s]\u001b[A\n",
            "Vailing:  99%|█████████▉| 119/120 [00:32<00:00,  3.80it/s]\u001b[A\n",
            "Vailing: 100%|██████████| 120/120 [00:32<00:00,  3.68it/s]\n"
          ]
        },
        {
          "name": "stdout",
          "output_type": "stream",
          "text": [
            "验证集评估报告：\n",
            "               precision    recall  f1-score   support\n",
            "\n",
            "           0       0.70      0.88      0.78       700\n",
            "           1       0.75      0.94      0.83       701\n",
            "           2       0.94      0.90      0.92      3793\n",
            "           3       0.88      0.85      0.86      1574\n",
            "           4       0.87      0.93      0.90      1593\n",
            "           5       0.92      0.88      0.90      1940\n",
            "           6       0.84      0.83      0.83      1695\n",
            "           7       0.84      0.88      0.86      1002\n",
            "           8       0.92      0.86      0.89      2327\n",
            "\n",
            "    accuracy                           0.88     15325\n",
            "   macro avg       0.85      0.88      0.86     15325\n",
            "weighted avg       0.88      0.88      0.88     15325\n",
            "\n",
            "验证集的f1: 0.8638, accuracy:0.8790, precision:0.8513, recall:0.8819\n"
          ]
        },
        {
          "name": "stderr",
          "output_type": "stream",
          "text": [
            "\rtraining....:  87%|████████▋ | 1900/2193 [30:01<53:00, 10.85s/it]"
          ]
        },
        {
          "name": "stdout",
          "output_type": "stream",
          "text": [
            "保存模型成功, 当前f1分数: 0.8637797938412335\n"
          ]
        },
        {
          "name": "stderr",
          "output_type": "stream",
          "text": [
            "training....:  87%|████████▋ | 1910/2193 [30:07<04:13,  1.11it/s]"
          ]
        },
        {
          "name": "stdout",
          "output_type": "stream",
          "text": [
            "epoch:2,batch:1910,loss:0.4510,train_f1:0.8599,acc:0.8609\n"
          ]
        },
        {
          "name": "stderr",
          "output_type": "stream",
          "text": [
            "training....:  88%|████████▊ | 1920/2193 [30:13<02:50,  1.60it/s]"
          ]
        },
        {
          "name": "stdout",
          "output_type": "stream",
          "text": [
            "epoch:2,batch:1920,loss:0.4568,train_f1:0.8688,acc:0.8672\n"
          ]
        },
        {
          "name": "stderr",
          "output_type": "stream",
          "text": [
            "training....:  88%|████████▊ | 1930/2193 [30:19<02:43,  1.61it/s]"
          ]
        },
        {
          "name": "stdout",
          "output_type": "stream",
          "text": [
            "epoch:2,batch:1930,loss:0.4541,train_f1:0.8605,acc:0.8609\n"
          ]
        },
        {
          "name": "stderr",
          "output_type": "stream",
          "text": [
            "training....:  88%|████████▊ | 1940/2193 [30:25<02:35,  1.63it/s]"
          ]
        },
        {
          "name": "stdout",
          "output_type": "stream",
          "text": [
            "epoch:2,batch:1940,loss:0.4781,train_f1:0.8528,acc:0.8523\n"
          ]
        },
        {
          "name": "stderr",
          "output_type": "stream",
          "text": [
            "training....:  89%|████████▉ | 1950/2193 [30:31<02:30,  1.62it/s]"
          ]
        },
        {
          "name": "stdout",
          "output_type": "stream",
          "text": [
            "epoch:2,batch:1950,loss:0.5270,train_f1:0.8366,acc:0.8367\n"
          ]
        },
        {
          "name": "stderr",
          "output_type": "stream",
          "text": [
            "training....:  89%|████████▉ | 1960/2193 [30:38<02:23,  1.63it/s]"
          ]
        },
        {
          "name": "stdout",
          "output_type": "stream",
          "text": [
            "epoch:2,batch:1960,loss:0.4924,train_f1:0.8483,acc:0.8492\n"
          ]
        },
        {
          "name": "stderr",
          "output_type": "stream",
          "text": [
            "training....:  90%|████████▉ | 1970/2193 [30:44<02:17,  1.62it/s]"
          ]
        },
        {
          "name": "stdout",
          "output_type": "stream",
          "text": [
            "epoch:2,batch:1970,loss:0.4833,train_f1:0.8553,acc:0.8547\n"
          ]
        },
        {
          "name": "stderr",
          "output_type": "stream",
          "text": [
            "training....:  90%|█████████ | 1980/2193 [30:50<02:10,  1.63it/s]"
          ]
        },
        {
          "name": "stdout",
          "output_type": "stream",
          "text": [
            "epoch:2,batch:1980,loss:0.4555,train_f1:0.8666,acc:0.8695\n"
          ]
        },
        {
          "name": "stderr",
          "output_type": "stream",
          "text": [
            "training....:  91%|█████████ | 1990/2193 [30:56<02:06,  1.61it/s]"
          ]
        },
        {
          "name": "stdout",
          "output_type": "stream",
          "text": [
            "epoch:2,batch:1990,loss:0.4132,train_f1:0.8803,acc:0.8805\n"
          ]
        },
        {
          "name": "stderr",
          "output_type": "stream",
          "text": [
            "training....:  91%|█████████ | 1999/2193 [31:02<01:59,  1.63it/s]"
          ]
        },
        {
          "name": "stdout",
          "output_type": "stream",
          "text": [
            "epoch:2,batch:2000,loss:0.4949,train_f1:0.8496,acc:0.8500\n"
          ]
        },
        {
          "name": "stderr",
          "output_type": "stream",
          "text": [
            "\n",
            "Vailing:   0%|          | 0/120 [00:00<?, ?it/s]\u001b[A\n",
            "Vailing:   1%|          | 1/120 [00:00<01:09,  1.72it/s]\u001b[A\n",
            "Vailing:   2%|▏         | 2/120 [00:00<00:46,  2.53it/s]\u001b[A\n",
            "Vailing:   2%|▎         | 3/120 [00:01<00:39,  2.99it/s]\u001b[A\n",
            "Vailing:   3%|▎         | 4/120 [00:01<00:35,  3.29it/s]\u001b[A\n",
            "Vailing:   4%|▍         | 5/120 [00:01<00:32,  3.49it/s]\u001b[A\n",
            "Vailing:   5%|▌         | 6/120 [00:01<00:31,  3.60it/s]\u001b[A\n",
            "Vailing:   6%|▌         | 7/120 [00:02<00:30,  3.68it/s]\u001b[A\n",
            "Vailing:   7%|▋         | 8/120 [00:02<00:30,  3.71it/s]\u001b[A\n",
            "Vailing:   8%|▊         | 9/120 [00:02<00:29,  3.73it/s]\u001b[A\n",
            "Vailing:   8%|▊         | 10/120 [00:02<00:29,  3.77it/s]\u001b[A\n",
            "Vailing:   9%|▉         | 11/120 [00:03<00:28,  3.79it/s]\u001b[A\n",
            "Vailing:  10%|█         | 12/120 [00:03<00:28,  3.80it/s]\u001b[A\n",
            "Vailing:  11%|█         | 13/120 [00:03<00:28,  3.81it/s]\u001b[A\n",
            "Vailing:  12%|█▏        | 14/120 [00:03<00:27,  3.82it/s]\u001b[A\n",
            "Vailing:  12%|█▎        | 15/120 [00:04<00:27,  3.82it/s]\u001b[A\n",
            "Vailing:  13%|█▎        | 16/120 [00:04<00:27,  3.84it/s]\u001b[A\n",
            "Vailing:  14%|█▍        | 17/120 [00:04<00:26,  3.85it/s]\u001b[A\n",
            "Vailing:  15%|█▌        | 18/120 [00:05<00:26,  3.86it/s]\u001b[A\n",
            "Vailing:  16%|█▌        | 19/120 [00:05<00:26,  3.84it/s]\u001b[A\n",
            "Vailing:  17%|█▋        | 20/120 [00:05<00:26,  3.84it/s]\u001b[A\n",
            "Vailing:  18%|█▊        | 21/120 [00:05<00:25,  3.83it/s]\u001b[A\n",
            "Vailing:  18%|█▊        | 22/120 [00:06<00:25,  3.84it/s]\u001b[A\n",
            "Vailing:  19%|█▉        | 23/120 [00:06<00:25,  3.81it/s]\u001b[A\n",
            "Vailing:  20%|██        | 24/120 [00:06<00:25,  3.82it/s]\u001b[A\n",
            "Vailing:  21%|██        | 25/120 [00:06<00:25,  3.77it/s]\u001b[A\n",
            "Vailing:  22%|██▏       | 26/120 [00:07<00:25,  3.62it/s]\u001b[A\n",
            "Vailing:  22%|██▎       | 27/120 [00:07<00:26,  3.52it/s]\u001b[A\n",
            "Vailing:  23%|██▎       | 28/120 [00:07<00:27,  3.38it/s]\u001b[A\n",
            "Vailing:  24%|██▍       | 29/120 [00:08<00:27,  3.34it/s]\u001b[A\n",
            "Vailing:  25%|██▌       | 30/120 [00:08<00:27,  3.32it/s]\u001b[A\n",
            "Vailing:  26%|██▌       | 31/120 [00:08<00:27,  3.29it/s]\u001b[A\n",
            "Vailing:  27%|██▋       | 32/120 [00:09<00:26,  3.34it/s]\u001b[A\n",
            "Vailing:  28%|██▊       | 33/120 [00:09<00:25,  3.36it/s]\u001b[A\n",
            "Vailing:  28%|██▊       | 34/120 [00:09<00:25,  3.36it/s]\u001b[A\n",
            "Vailing:  29%|██▉       | 35/120 [00:09<00:25,  3.31it/s]\u001b[A\n",
            "Vailing:  30%|███       | 36/120 [00:10<00:24,  3.44it/s]\u001b[A\n",
            "Vailing:  31%|███       | 37/120 [00:10<00:23,  3.53it/s]\u001b[A\n",
            "Vailing:  32%|███▏      | 38/120 [00:10<00:22,  3.63it/s]\u001b[A\n",
            "Vailing:  32%|███▎      | 39/120 [00:10<00:22,  3.62it/s]\u001b[A\n",
            "Vailing:  33%|███▎      | 40/120 [00:11<00:21,  3.68it/s]\u001b[A\n",
            "Vailing:  34%|███▍      | 41/120 [00:11<00:21,  3.71it/s]\u001b[A\n",
            "Vailing:  35%|███▌      | 42/120 [00:11<00:20,  3.73it/s]\u001b[A\n",
            "Vailing:  36%|███▌      | 43/120 [00:12<00:20,  3.72it/s]\u001b[A\n",
            "Vailing:  37%|███▋      | 44/120 [00:12<00:20,  3.73it/s]\u001b[A\n",
            "Vailing:  38%|███▊      | 45/120 [00:12<00:20,  3.75it/s]\u001b[A\n",
            "Vailing:  38%|███▊      | 46/120 [00:12<00:19,  3.76it/s]\u001b[A\n",
            "Vailing:  39%|███▉      | 47/120 [00:13<00:19,  3.73it/s]\u001b[A\n",
            "Vailing:  40%|████      | 48/120 [00:13<00:19,  3.73it/s]\u001b[A\n",
            "Vailing:  41%|████      | 49/120 [00:13<00:18,  3.75it/s]\u001b[A\n",
            "Vailing:  42%|████▏     | 50/120 [00:13<00:18,  3.79it/s]\u001b[A\n",
            "Vailing:  42%|████▎     | 51/120 [00:14<00:18,  3.72it/s]\u001b[A\n",
            "Vailing:  43%|████▎     | 52/120 [00:14<00:18,  3.76it/s]\u001b[A\n",
            "Vailing:  44%|████▍     | 53/120 [00:14<00:17,  3.77it/s]\u001b[A\n",
            "Vailing:  45%|████▌     | 54/120 [00:14<00:17,  3.80it/s]\u001b[A\n",
            "Vailing:  46%|████▌     | 55/120 [00:15<00:17,  3.80it/s]\u001b[A\n",
            "Vailing:  47%|████▋     | 56/120 [00:15<00:16,  3.81it/s]\u001b[A\n",
            "Vailing:  48%|████▊     | 57/120 [00:15<00:16,  3.82it/s]\u001b[A\n",
            "Vailing:  48%|████▊     | 58/120 [00:15<00:16,  3.83it/s]\u001b[A\n",
            "Vailing:  49%|████▉     | 59/120 [00:16<00:15,  3.83it/s]\u001b[A\n",
            "Vailing:  50%|█████     | 60/120 [00:16<00:15,  3.83it/s]\u001b[A\n",
            "Vailing:  51%|█████     | 61/120 [00:16<00:15,  3.80it/s]\u001b[A\n",
            "Vailing:  52%|█████▏    | 62/120 [00:17<00:15,  3.83it/s]\u001b[A\n",
            "Vailing:  52%|█████▎    | 63/120 [00:17<00:14,  3.83it/s]\u001b[A\n",
            "Vailing:  53%|█████▎    | 64/120 [00:17<00:14,  3.83it/s]\u001b[A\n",
            "Vailing:  54%|█████▍    | 65/120 [00:17<00:14,  3.84it/s]\u001b[A\n",
            "Vailing:  55%|█████▌    | 66/120 [00:18<00:14,  3.83it/s]\u001b[A\n",
            "Vailing:  56%|█████▌    | 67/120 [00:18<00:13,  3.85it/s]\u001b[A\n",
            "Vailing:  57%|█████▋    | 68/120 [00:18<00:13,  3.85it/s]\u001b[A\n",
            "Vailing:  57%|█████▊    | 69/120 [00:18<00:13,  3.84it/s]\u001b[A\n",
            "Vailing:  58%|█████▊    | 70/120 [00:19<00:12,  3.86it/s]\u001b[A\n",
            "Vailing:  59%|█████▉    | 71/120 [00:19<00:12,  3.86it/s]\u001b[A\n",
            "Vailing:  60%|██████    | 72/120 [00:19<00:12,  3.87it/s]\u001b[A\n",
            "Vailing:  61%|██████    | 73/120 [00:19<00:12,  3.86it/s]\u001b[A\n",
            "Vailing:  62%|██████▏   | 74/120 [00:20<00:12,  3.63it/s]\u001b[A\n",
            "Vailing:  62%|██████▎   | 75/120 [00:20<00:12,  3.55it/s]\u001b[A\n",
            "Vailing:  63%|██████▎   | 76/120 [00:20<00:12,  3.51it/s]\u001b[A\n",
            "Vailing:  64%|██████▍   | 77/120 [00:21<00:12,  3.47it/s]\u001b[A\n",
            "Vailing:  65%|██████▌   | 78/120 [00:21<00:12,  3.36it/s]\u001b[A\n",
            "Vailing:  66%|██████▌   | 79/120 [00:21<00:12,  3.35it/s]\u001b[A\n",
            "Vailing:  67%|██████▋   | 80/120 [00:22<00:11,  3.35it/s]\u001b[A\n",
            "Vailing:  68%|██████▊   | 81/120 [00:22<00:11,  3.29it/s]\u001b[A\n",
            "Vailing:  68%|██████▊   | 82/120 [00:22<00:11,  3.28it/s]\u001b[A\n",
            "Vailing:  69%|██████▉   | 83/120 [00:22<00:11,  3.27it/s]\u001b[A\n",
            "Vailing:  70%|███████   | 84/120 [00:23<00:11,  3.22it/s]\u001b[A\n",
            "Vailing:  71%|███████   | 85/120 [00:23<00:10,  3.34it/s]\u001b[A\n",
            "Vailing:  72%|███████▏  | 86/120 [00:23<00:09,  3.48it/s]\u001b[A\n",
            "Vailing:  72%|███████▎  | 87/120 [00:24<00:09,  3.59it/s]\u001b[A\n",
            "Vailing:  73%|███████▎  | 88/120 [00:24<00:08,  3.65it/s]\u001b[A\n",
            "Vailing:  74%|███████▍  | 89/120 [00:24<00:08,  3.66it/s]\u001b[A\n",
            "Vailing:  75%|███████▌  | 90/120 [00:24<00:08,  3.68it/s]\u001b[A\n",
            "Vailing:  76%|███████▌  | 91/120 [00:25<00:07,  3.72it/s]\u001b[A\n",
            "Vailing:  77%|███████▋  | 92/120 [00:25<00:07,  3.71it/s]\u001b[A\n",
            "Vailing:  78%|███████▊  | 93/120 [00:25<00:07,  3.71it/s]\u001b[A\n",
            "Vailing:  78%|███████▊  | 94/120 [00:25<00:06,  3.75it/s]\u001b[A\n",
            "Vailing:  79%|███████▉  | 95/120 [00:26<00:06,  3.79it/s]\u001b[A\n",
            "Vailing:  80%|████████  | 96/120 [00:26<00:06,  3.81it/s]\u001b[A\n",
            "Vailing:  81%|████████  | 97/120 [00:26<00:06,  3.75it/s]\u001b[A\n",
            "Vailing:  82%|████████▏ | 98/120 [00:26<00:05,  3.79it/s]\u001b[A\n",
            "Vailing:  82%|████████▎ | 99/120 [00:27<00:05,  3.81it/s]\u001b[A\n",
            "Vailing:  83%|████████▎ | 100/120 [00:27<00:05,  3.81it/s]\u001b[A\n",
            "Vailing:  84%|████████▍ | 101/120 [00:27<00:05,  3.76it/s]\u001b[A\n",
            "Vailing:  85%|████████▌ | 102/120 [00:28<00:04,  3.75it/s]\u001b[A\n",
            "Vailing:  86%|████████▌ | 103/120 [00:28<00:04,  3.75it/s]\u001b[A\n",
            "Vailing:  87%|████████▋ | 104/120 [00:28<00:04,  3.78it/s]\u001b[A\n",
            "Vailing:  88%|████████▊ | 105/120 [00:28<00:03,  3.78it/s]\u001b[A\n",
            "Vailing:  88%|████████▊ | 106/120 [00:29<00:03,  3.80it/s]\u001b[A\n",
            "Vailing:  89%|████████▉ | 107/120 [00:29<00:03,  3.77it/s]\u001b[A\n",
            "Vailing:  90%|█████████ | 108/120 [00:29<00:03,  3.80it/s]\u001b[A\n",
            "Vailing:  91%|█████████ | 109/120 [00:29<00:02,  3.80it/s]\u001b[A\n",
            "Vailing:  92%|█████████▏| 110/120 [00:30<00:02,  3.81it/s]\u001b[A\n",
            "Vailing:  92%|█████████▎| 111/120 [00:30<00:02,  3.80it/s]\u001b[A\n",
            "Vailing:  93%|█████████▎| 112/120 [00:30<00:02,  3.77it/s]\u001b[A\n",
            "Vailing:  94%|█████████▍| 113/120 [00:30<00:01,  3.78it/s]\u001b[A\n",
            "Vailing:  95%|█████████▌| 114/120 [00:31<00:01,  3.78it/s]\u001b[A\n",
            "Vailing:  96%|█████████▌| 115/120 [00:31<00:01,  3.79it/s]\u001b[A\n",
            "Vailing:  97%|█████████▋| 116/120 [00:31<00:01,  3.82it/s]\u001b[A\n",
            "Vailing:  98%|█████████▊| 117/120 [00:31<00:00,  3.81it/s]\u001b[A\n",
            "Vailing:  98%|█████████▊| 118/120 [00:32<00:00,  3.85it/s]\u001b[A\n",
            "Vailing:  99%|█████████▉| 119/120 [00:32<00:00,  3.84it/s]\u001b[A\n",
            "Vailing: 100%|██████████| 120/120 [00:32<00:00,  3.67it/s]\n",
            "training....:  91%|█████████ | 2000/2193 [31:35<33:37, 10.46s/it]"
          ]
        },
        {
          "name": "stdout",
          "output_type": "stream",
          "text": [
            "验证集评估报告：\n",
            "               precision    recall  f1-score   support\n",
            "\n",
            "           0       0.66      0.90      0.76       700\n",
            "           1       0.78      0.94      0.86       701\n",
            "           2       0.93      0.91      0.92      3793\n",
            "           3       0.84      0.88      0.86      1574\n",
            "           4       0.93      0.90      0.91      1593\n",
            "           5       0.93      0.87      0.90      1940\n",
            "           6       0.83      0.84      0.83      1695\n",
            "           7       0.83      0.88      0.85      1002\n",
            "           8       0.94      0.83      0.88      2327\n",
            "\n",
            "    accuracy                           0.88     15325\n",
            "   macro avg       0.85      0.88      0.86     15325\n",
            "weighted avg       0.89      0.88      0.88     15325\n",
            "\n",
            "验证集的f1: 0.8637, accuracy:0.8786, precision:0.8521, recall:0.8826\n"
          ]
        },
        {
          "name": "stderr",
          "output_type": "stream",
          "text": [
            "training....:  92%|█████████▏| 2010/2193 [31:41<02:42,  1.12it/s]"
          ]
        },
        {
          "name": "stdout",
          "output_type": "stream",
          "text": [
            "epoch:2,batch:2010,loss:0.4595,train_f1:0.8619,acc:0.8641\n"
          ]
        },
        {
          "name": "stderr",
          "output_type": "stream",
          "text": [
            "training....:  92%|█████████▏| 2020/2193 [31:47<01:47,  1.60it/s]"
          ]
        },
        {
          "name": "stdout",
          "output_type": "stream",
          "text": [
            "epoch:2,batch:2020,loss:0.4701,train_f1:0.8611,acc:0.8609\n"
          ]
        },
        {
          "name": "stderr",
          "output_type": "stream",
          "text": [
            "training....:  93%|█████████▎| 2030/2193 [31:53<01:40,  1.62it/s]"
          ]
        },
        {
          "name": "stdout",
          "output_type": "stream",
          "text": [
            "epoch:2,batch:2030,loss:0.4503,train_f1:0.8609,acc:0.8625\n"
          ]
        },
        {
          "name": "stderr",
          "output_type": "stream",
          "text": [
            "training....:  93%|█████████▎| 2040/2193 [31:59<01:34,  1.62it/s]"
          ]
        },
        {
          "name": "stdout",
          "output_type": "stream",
          "text": [
            "epoch:2,batch:2040,loss:0.4647,train_f1:0.8671,acc:0.8680\n"
          ]
        },
        {
          "name": "stderr",
          "output_type": "stream",
          "text": [
            "training....:  93%|█████████▎| 2050/2193 [32:05<01:28,  1.62it/s]"
          ]
        },
        {
          "name": "stdout",
          "output_type": "stream",
          "text": [
            "epoch:2,batch:2050,loss:0.4799,train_f1:0.8510,acc:0.8492\n"
          ]
        },
        {
          "name": "stderr",
          "output_type": "stream",
          "text": [
            "training....:  94%|█████████▍| 2060/2193 [32:12<01:22,  1.62it/s]"
          ]
        },
        {
          "name": "stdout",
          "output_type": "stream",
          "text": [
            "epoch:2,batch:2060,loss:0.4585,train_f1:0.8675,acc:0.8664\n"
          ]
        },
        {
          "name": "stderr",
          "output_type": "stream",
          "text": [
            "training....:  94%|█████████▍| 2070/2193 [32:18<01:15,  1.62it/s]"
          ]
        },
        {
          "name": "stdout",
          "output_type": "stream",
          "text": [
            "epoch:2,batch:2070,loss:0.4517,train_f1:0.8613,acc:0.8609\n"
          ]
        },
        {
          "name": "stderr",
          "output_type": "stream",
          "text": [
            "training....:  95%|█████████▍| 2080/2193 [32:24<01:09,  1.62it/s]"
          ]
        },
        {
          "name": "stdout",
          "output_type": "stream",
          "text": [
            "epoch:2,batch:2080,loss:0.4534,train_f1:0.8635,acc:0.8617\n"
          ]
        },
        {
          "name": "stderr",
          "output_type": "stream",
          "text": [
            "training....:  95%|█████████▌| 2090/2193 [32:30<01:03,  1.62it/s]"
          ]
        },
        {
          "name": "stdout",
          "output_type": "stream",
          "text": [
            "epoch:2,batch:2090,loss:0.4617,train_f1:0.8504,acc:0.8523\n"
          ]
        },
        {
          "name": "stderr",
          "output_type": "stream",
          "text": [
            "training....:  96%|█████████▌| 2099/2193 [32:36<00:57,  1.62it/s]"
          ]
        },
        {
          "name": "stdout",
          "output_type": "stream",
          "text": [
            "epoch:2,batch:2100,loss:0.4722,train_f1:0.8602,acc:0.8594\n"
          ]
        },
        {
          "name": "stderr",
          "output_type": "stream",
          "text": [
            "\n",
            "Vailing:   0%|          | 0/120 [00:00<?, ?it/s]\u001b[A\n",
            "Vailing:   1%|          | 1/120 [00:00<01:09,  1.72it/s]\u001b[A\n",
            "Vailing:   2%|▏         | 2/120 [00:00<00:46,  2.53it/s]\u001b[A\n",
            "Vailing:   2%|▎         | 3/120 [00:01<00:39,  2.97it/s]\u001b[A\n",
            "Vailing:   3%|▎         | 4/120 [00:01<00:35,  3.24it/s]\u001b[A\n",
            "Vailing:   4%|▍         | 5/120 [00:01<00:33,  3.45it/s]\u001b[A\n",
            "Vailing:   5%|▌         | 6/120 [00:01<00:31,  3.57it/s]\u001b[A\n",
            "Vailing:   6%|▌         | 7/120 [00:02<00:31,  3.62it/s]\u001b[A\n",
            "Vailing:   7%|▋         | 8/120 [00:02<00:30,  3.66it/s]\u001b[A\n",
            "Vailing:   8%|▊         | 9/120 [00:02<00:30,  3.69it/s]\u001b[A\n",
            "Vailing:   8%|▊         | 10/120 [00:02<00:29,  3.71it/s]\u001b[A\n",
            "Vailing:   9%|▉         | 11/120 [00:03<00:29,  3.67it/s]\u001b[A\n",
            "Vailing:  10%|█         | 12/120 [00:03<00:29,  3.70it/s]\u001b[A\n",
            "Vailing:  11%|█         | 13/120 [00:03<00:28,  3.72it/s]\u001b[A\n",
            "Vailing:  12%|█▏        | 14/120 [00:04<00:29,  3.62it/s]\u001b[A\n",
            "Vailing:  12%|█▎        | 15/120 [00:04<00:30,  3.44it/s]\u001b[A\n",
            "Vailing:  13%|█▎        | 16/120 [00:04<00:31,  3.32it/s]\u001b[A\n",
            "Vailing:  14%|█▍        | 17/120 [00:05<00:31,  3.29it/s]\u001b[A\n",
            "Vailing:  15%|█▌        | 18/120 [00:05<00:30,  3.33it/s]\u001b[A\n",
            "Vailing:  16%|█▌        | 19/120 [00:05<00:30,  3.30it/s]\u001b[A\n",
            "Vailing:  17%|█▋        | 20/120 [00:05<00:30,  3.33it/s]\u001b[A\n",
            "Vailing:  18%|█▊        | 21/120 [00:06<00:29,  3.32it/s]\u001b[A\n",
            "Vailing:  18%|█▊        | 22/120 [00:06<00:29,  3.35it/s]\u001b[A\n",
            "Vailing:  19%|█▉        | 23/120 [00:06<00:29,  3.33it/s]\u001b[A\n",
            "Vailing:  20%|██        | 24/120 [00:07<00:27,  3.47it/s]\u001b[A\n",
            "Vailing:  21%|██        | 25/120 [00:07<00:26,  3.58it/s]\u001b[A\n",
            "Vailing:  22%|██▏       | 26/120 [00:07<00:25,  3.68it/s]\u001b[A\n",
            "Vailing:  22%|██▎       | 27/120 [00:07<00:25,  3.70it/s]\u001b[A\n",
            "Vailing:  23%|██▎       | 28/120 [00:08<00:24,  3.76it/s]\u001b[A\n",
            "Vailing:  24%|██▍       | 29/120 [00:08<00:24,  3.79it/s]\u001b[A\n",
            "Vailing:  25%|██▌       | 30/120 [00:08<00:23,  3.83it/s]\u001b[A\n",
            "Vailing:  26%|██▌       | 31/120 [00:08<00:23,  3.79it/s]\u001b[A\n",
            "Vailing:  27%|██▋       | 32/120 [00:09<00:23,  3.79it/s]\u001b[A\n",
            "Vailing:  28%|██▊       | 33/120 [00:09<00:22,  3.80it/s]\u001b[A\n",
            "Vailing:  28%|██▊       | 34/120 [00:09<00:22,  3.80it/s]\u001b[A\n",
            "Vailing:  29%|██▉       | 35/120 [00:09<00:22,  3.80it/s]\u001b[A\n",
            "Vailing:  30%|███       | 36/120 [00:10<00:22,  3.79it/s]\u001b[A\n",
            "Vailing:  31%|███       | 37/120 [00:10<00:21,  3.83it/s]\u001b[A\n",
            "Vailing:  32%|███▏      | 38/120 [00:10<00:21,  3.82it/s]\u001b[A\n",
            "Vailing:  32%|███▎      | 39/120 [00:11<00:21,  3.81it/s]\u001b[A\n",
            "Vailing:  33%|███▎      | 40/120 [00:11<00:20,  3.81it/s]\u001b[A\n",
            "Vailing:  34%|███▍      | 41/120 [00:11<00:20,  3.80it/s]\u001b[A\n",
            "Vailing:  35%|███▌      | 42/120 [00:11<00:20,  3.83it/s]\u001b[A\n",
            "Vailing:  36%|███▌      | 43/120 [00:12<00:20,  3.83it/s]\u001b[A\n",
            "Vailing:  37%|███▋      | 44/120 [00:12<00:19,  3.83it/s]\u001b[A\n",
            "Vailing:  38%|███▊      | 45/120 [00:12<00:19,  3.82it/s]\u001b[A\n",
            "Vailing:  38%|███▊      | 46/120 [00:12<00:19,  3.80it/s]\u001b[A\n",
            "Vailing:  39%|███▉      | 47/120 [00:13<00:19,  3.83it/s]\u001b[A\n",
            "Vailing:  40%|████      | 48/120 [00:13<00:18,  3.82it/s]\u001b[A\n",
            "Vailing:  41%|████      | 49/120 [00:13<00:18,  3.81it/s]\u001b[A\n",
            "Vailing:  42%|████▏     | 50/120 [00:13<00:18,  3.80it/s]\u001b[A\n",
            "Vailing:  42%|████▎     | 51/120 [00:14<00:18,  3.81it/s]\u001b[A\n",
            "Vailing:  43%|████▎     | 52/120 [00:14<00:17,  3.82it/s]\u001b[A\n",
            "Vailing:  44%|████▍     | 53/120 [00:14<00:17,  3.77it/s]\u001b[A\n",
            "Vailing:  45%|████▌     | 54/120 [00:14<00:17,  3.78it/s]\u001b[A\n",
            "Vailing:  46%|████▌     | 55/120 [00:15<00:17,  3.79it/s]\u001b[A\n",
            "Vailing:  47%|████▋     | 56/120 [00:15<00:16,  3.83it/s]\u001b[A\n",
            "Vailing:  48%|████▊     | 57/120 [00:15<00:16,  3.77it/s]\u001b[A\n",
            "Vailing:  48%|████▊     | 58/120 [00:15<00:16,  3.80it/s]\u001b[A\n",
            "Vailing:  49%|████▉     | 59/120 [00:16<00:16,  3.78it/s]\u001b[A\n",
            "Vailing:  50%|█████     | 60/120 [00:16<00:15,  3.81it/s]\u001b[A\n",
            "Vailing:  51%|█████     | 61/120 [00:16<00:15,  3.74it/s]\u001b[A\n",
            "Vailing:  52%|█████▏    | 62/120 [00:17<00:16,  3.58it/s]\u001b[A\n",
            "Vailing:  52%|█████▎    | 63/120 [00:17<00:16,  3.55it/s]\u001b[A\n",
            "Vailing:  53%|█████▎    | 64/120 [00:17<00:16,  3.46it/s]\u001b[A\n",
            "Vailing:  54%|█████▍    | 65/120 [00:17<00:15,  3.44it/s]\u001b[A\n",
            "Vailing:  55%|█████▌    | 66/120 [00:18<00:15,  3.38it/s]\u001b[A\n",
            "Vailing:  56%|█████▌    | 67/120 [00:18<00:15,  3.41it/s]\u001b[A\n",
            "Vailing:  57%|█████▋    | 68/120 [00:18<00:15,  3.39it/s]\u001b[A\n",
            "Vailing:  57%|█████▊    | 69/120 [00:19<00:14,  3.45it/s]\u001b[A\n",
            "Vailing:  58%|█████▊    | 70/120 [00:19<00:14,  3.49it/s]\u001b[A\n",
            "Vailing:  59%|█████▉    | 71/120 [00:19<00:14,  3.43it/s]\u001b[A\n",
            "Vailing:  60%|██████    | 72/120 [00:20<00:14,  3.40it/s]\u001b[A\n",
            "Vailing:  61%|██████    | 73/120 [00:20<00:13,  3.40it/s]\u001b[A\n",
            "Vailing:  62%|██████▏   | 74/120 [00:20<00:13,  3.52it/s]\u001b[A\n",
            "Vailing:  62%|██████▎   | 75/120 [00:20<00:12,  3.65it/s]\u001b[A\n",
            "Vailing:  63%|██████▎   | 76/120 [00:21<00:11,  3.68it/s]\u001b[A\n",
            "Vailing:  64%|██████▍   | 77/120 [00:21<00:11,  3.69it/s]\u001b[A\n",
            "Vailing:  65%|██████▌   | 78/120 [00:21<00:11,  3.71it/s]\u001b[A\n",
            "Vailing:  66%|██████▌   | 79/120 [00:21<00:10,  3.76it/s]\u001b[A\n",
            "Vailing:  67%|██████▋   | 80/120 [00:22<00:10,  3.76it/s]\u001b[A\n",
            "Vailing:  68%|██████▊   | 81/120 [00:22<00:10,  3.78it/s]\u001b[A\n",
            "Vailing:  68%|██████▊   | 82/120 [00:22<00:10,  3.79it/s]\u001b[A\n",
            "Vailing:  69%|██████▉   | 83/120 [00:22<00:09,  3.81it/s]\u001b[A\n",
            "Vailing:  70%|███████   | 84/120 [00:23<00:09,  3.83it/s]\u001b[A\n",
            "Vailing:  71%|███████   | 85/120 [00:23<00:09,  3.82it/s]\u001b[A\n",
            "Vailing:  72%|███████▏  | 86/120 [00:23<00:08,  3.83it/s]\u001b[A\n",
            "Vailing:  72%|███████▎  | 87/120 [00:24<00:08,  3.82it/s]\u001b[A\n",
            "Vailing:  73%|███████▎  | 88/120 [00:24<00:08,  3.80it/s]\u001b[A\n",
            "Vailing:  74%|███████▍  | 89/120 [00:24<00:08,  3.81it/s]\u001b[A\n",
            "Vailing:  75%|███████▌  | 90/120 [00:24<00:07,  3.79it/s]\u001b[A\n",
            "Vailing:  76%|███████▌  | 91/120 [00:25<00:07,  3.78it/s]\u001b[A\n",
            "Vailing:  77%|███████▋  | 92/120 [00:25<00:07,  3.76it/s]\u001b[A\n",
            "Vailing:  78%|███████▊  | 93/120 [00:25<00:07,  3.74it/s]\u001b[A\n",
            "Vailing:  78%|███████▊  | 94/120 [00:25<00:06,  3.77it/s]\u001b[A\n",
            "Vailing:  79%|███████▉  | 95/120 [00:26<00:06,  3.82it/s]\u001b[A\n",
            "Vailing:  80%|████████  | 96/120 [00:26<00:06,  3.83it/s]\u001b[A\n",
            "Vailing:  81%|████████  | 97/120 [00:26<00:06,  3.83it/s]\u001b[A\n",
            "Vailing:  82%|████████▏ | 98/120 [00:26<00:05,  3.84it/s]\u001b[A\n",
            "Vailing:  82%|████████▎ | 99/120 [00:27<00:05,  3.83it/s]\u001b[A\n",
            "Vailing:  83%|████████▎ | 100/120 [00:27<00:05,  3.81it/s]\u001b[A\n",
            "Vailing:  84%|████████▍ | 101/120 [00:27<00:05,  3.76it/s]\u001b[A\n",
            "Vailing:  85%|████████▌ | 102/120 [00:27<00:04,  3.79it/s]\u001b[A\n",
            "Vailing:  86%|████████▌ | 103/120 [00:28<00:04,  3.76it/s]\u001b[A\n",
            "Vailing:  87%|████████▋ | 104/120 [00:28<00:04,  3.79it/s]\u001b[A\n",
            "Vailing:  88%|████████▊ | 105/120 [00:28<00:03,  3.81it/s]\u001b[A\n",
            "Vailing:  88%|████████▊ | 106/120 [00:29<00:03,  3.82it/s]\u001b[A\n",
            "Vailing:  89%|████████▉ | 107/120 [00:29<00:03,  3.71it/s]\u001b[A\n",
            "Vailing:  90%|█████████ | 108/120 [00:29<00:03,  3.75it/s]\u001b[A\n",
            "Vailing:  91%|█████████ | 109/120 [00:29<00:02,  3.67it/s]\u001b[A\n",
            "Vailing:  92%|█████████▏| 110/120 [00:30<00:02,  3.71it/s]\u001b[A\n",
            "Vailing:  92%|█████████▎| 111/120 [00:30<00:02,  3.60it/s]\u001b[A\n",
            "Vailing:  93%|█████████▎| 112/120 [00:30<00:02,  3.49it/s]\u001b[A\n",
            "Vailing:  94%|█████████▍| 113/120 [00:31<00:02,  3.41it/s]\u001b[A\n",
            "Vailing:  95%|█████████▌| 114/120 [00:31<00:01,  3.36it/s]\u001b[A\n",
            "Vailing:  96%|█████████▌| 115/120 [00:31<00:01,  3.37it/s]\u001b[A\n",
            "Vailing:  97%|█████████▋| 116/120 [00:31<00:01,  3.33it/s]\u001b[A\n",
            "Vailing:  98%|█████████▊| 117/120 [00:32<00:00,  3.29it/s]\u001b[A\n",
            "Vailing:  98%|█████████▊| 118/120 [00:32<00:00,  3.30it/s]\u001b[A\n",
            "Vailing:  99%|█████████▉| 119/120 [00:32<00:00,  3.34it/s]\u001b[A\n",
            "Vailing: 100%|██████████| 120/120 [00:33<00:00,  3.63it/s]\n"
          ]
        },
        {
          "name": "stdout",
          "output_type": "stream",
          "text": [
            "验证集评估报告：\n",
            "               precision    recall  f1-score   support\n",
            "\n",
            "           0       0.65      0.91      0.76       700\n",
            "           1       0.79      0.94      0.86       701\n",
            "           2       0.94      0.90      0.92      3793\n",
            "           3       0.90      0.85      0.88      1574\n",
            "           4       0.87      0.94      0.90      1593\n",
            "           5       0.94      0.86      0.90      1940\n",
            "           6       0.85      0.83      0.84      1695\n",
            "           7       0.83      0.90      0.86      1002\n",
            "           8       0.93      0.86      0.89      2327\n",
            "\n",
            "    accuracy                           0.88     15325\n",
            "   macro avg       0.86      0.89      0.87     15325\n",
            "weighted avg       0.89      0.88      0.88     15325\n",
            "\n",
            "验证集的f1: 0.8679, accuracy:0.8825, precision:0.8554, recall:0.8883\n"
          ]
        },
        {
          "name": "stderr",
          "output_type": "stream",
          "text": [
            "\rtraining....:  96%|█████████▌| 2100/2193 [33:11<17:02, 10.99s/it]"
          ]
        },
        {
          "name": "stdout",
          "output_type": "stream",
          "text": [
            "保存模型成功, 当前f1分数: 0.8679252102113191\n"
          ]
        },
        {
          "name": "stderr",
          "output_type": "stream",
          "text": [
            "training....:  96%|█████████▌| 2110/2193 [33:17<01:15,  1.11it/s]"
          ]
        },
        {
          "name": "stdout",
          "output_type": "stream",
          "text": [
            "epoch:2,batch:2110,loss:0.4501,train_f1:0.8610,acc:0.8609\n"
          ]
        },
        {
          "name": "stderr",
          "output_type": "stream",
          "text": [
            "training....:  97%|█████████▋| 2120/2193 [33:23<00:45,  1.60it/s]"
          ]
        },
        {
          "name": "stdout",
          "output_type": "stream",
          "text": [
            "epoch:2,batch:2120,loss:0.4421,train_f1:0.8748,acc:0.8750\n"
          ]
        },
        {
          "name": "stderr",
          "output_type": "stream",
          "text": [
            "training....:  97%|█████████▋| 2130/2193 [33:29<00:38,  1.62it/s]"
          ]
        },
        {
          "name": "stdout",
          "output_type": "stream",
          "text": [
            "epoch:2,batch:2130,loss:0.4242,train_f1:0.8804,acc:0.8812\n"
          ]
        },
        {
          "name": "stderr",
          "output_type": "stream",
          "text": [
            "training....:  98%|█████████▊| 2140/2193 [33:35<00:32,  1.61it/s]"
          ]
        },
        {
          "name": "stdout",
          "output_type": "stream",
          "text": [
            "epoch:2,batch:2140,loss:0.5019,train_f1:0.8442,acc:0.8469\n"
          ]
        },
        {
          "name": "stderr",
          "output_type": "stream",
          "text": [
            "training....:  98%|█████████▊| 2150/2193 [33:41<00:26,  1.62it/s]"
          ]
        },
        {
          "name": "stdout",
          "output_type": "stream",
          "text": [
            "epoch:2,batch:2150,loss:0.4338,train_f1:0.8674,acc:0.8680\n"
          ]
        },
        {
          "name": "stderr",
          "output_type": "stream",
          "text": [
            "training....:  98%|█████████▊| 2160/2193 [33:48<00:20,  1.61it/s]"
          ]
        },
        {
          "name": "stdout",
          "output_type": "stream",
          "text": [
            "epoch:2,batch:2160,loss:0.4616,train_f1:0.8607,acc:0.8609\n"
          ]
        },
        {
          "name": "stderr",
          "output_type": "stream",
          "text": [
            "training....:  99%|█████████▉| 2170/2193 [33:54<00:14,  1.62it/s]"
          ]
        },
        {
          "name": "stdout",
          "output_type": "stream",
          "text": [
            "epoch:2,batch:2170,loss:0.4472,train_f1:0.8594,acc:0.8602\n"
          ]
        },
        {
          "name": "stderr",
          "output_type": "stream",
          "text": [
            "training....:  99%|█████████▉| 2180/2193 [34:00<00:08,  1.61it/s]"
          ]
        },
        {
          "name": "stdout",
          "output_type": "stream",
          "text": [
            "epoch:2,batch:2180,loss:0.4758,train_f1:0.8524,acc:0.8516\n"
          ]
        },
        {
          "name": "stderr",
          "output_type": "stream",
          "text": [
            "training....: 100%|█████████▉| 2190/2193 [34:06<00:01,  1.62it/s]"
          ]
        },
        {
          "name": "stdout",
          "output_type": "stream",
          "text": [
            "epoch:2,batch:2190,loss:0.4772,train_f1:0.8564,acc:0.8570\n"
          ]
        },
        {
          "name": "stderr",
          "output_type": "stream",
          "text": [
            "training....: 100%|██████████| 2193/2193 [34:08<00:00,  1.07it/s]\n"
          ]
        }
      ],
      "source": [
        "trainModel()"
      ]
    }
  ],
  "metadata": {
    "accelerator": "GPU",
    "colab": {
      "gpuType": "T4",
      "provenance": [],
      "authorship_tag": "ABX9TyPcwd+nSo+R3Wu3SFKSA6zv",
      "include_colab_link": true
    },
    "kernelspec": {
      "display_name": "Python 3",
      "name": "python3"
    },
    "language_info": {
      "name": "python"
    }
  },
  "nbformat": 4,
  "nbformat_minor": 0
}